{
 "cells": [
  {
   "cell_type": "code",
   "execution_count": 1,
   "metadata": {},
   "outputs": [
    {
     "data": {
      "text/plain": [
       "'0.23.4'"
      ]
     },
     "execution_count": 1,
     "metadata": {},
     "output_type": "execute_result"
    }
   ],
   "source": [
    "import pandas\n",
    "pandas.__version__"
   ]
  },
  {
   "cell_type": "code",
   "execution_count": 2,
   "metadata": {},
   "outputs": [],
   "source": [
    "import matplotlib.pyplot as plt"
   ]
  },
  {
   "cell_type": "code",
   "execution_count": 3,
   "metadata": {},
   "outputs": [],
   "source": [
    "# For some reason, if this is in the same call as the import command, it doesn't work.\n",
    "plt.rcParams[\"figure.figsize\"] = [16.0,6.0]"
   ]
  },
  {
   "cell_type": "code",
   "execution_count": 4,
   "metadata": {},
   "outputs": [
    {
     "name": "stdout",
     "output_type": "stream",
     "text": [
      "/Users/jakewendt/20181010-1000genomes-unmapped-hhv6/NA21127.HHV6b.depth.csv\n",
      "/Users/jakewendt/20181010-1000genomes-unmapped-hhv6/NA21144.HHV6b.depth.csv\n",
      "/Users/jakewendt/20181010-1000genomes-unmapped-hhv6/NA21103.HHV6b.depth.csv\n",
      "/Users/jakewendt/20181010-1000genomes-unmapped-hhv6/NA21128.HHV6b.depth.csv\n",
      "/Users/jakewendt/20181010-1000genomes-unmapped-hhv6/NA21115.HHV6b.depth.csv\n",
      "/Users/jakewendt/20181010-1000genomes-unmapped-hhv6/NA21112.HHV6b.depth.csv\n",
      "/Users/jakewendt/20181010-1000genomes-unmapped-hhv6/NA21104.HHV6b.depth.csv\n",
      "/Users/jakewendt/20181010-1000genomes-unmapped-hhv6/NA21143.HHV6b.depth.csv\n",
      "/Users/jakewendt/20181010-1000genomes-unmapped-hhv6/NA21120.HHV6b.depth.csv\n",
      "/Users/jakewendt/20181010-1000genomes-unmapped-hhv6/NA21113.HHV6b.depth.csv\n",
      "/Users/jakewendt/20181010-1000genomes-unmapped-hhv6/NA21137.HHV6b.depth.csv\n",
      "/Users/jakewendt/20181010-1000genomes-unmapped-hhv6/NA21142.HHV6b.depth.csv\n",
      "/Users/jakewendt/20181010-1000genomes-unmapped-hhv6/NA21105.HHV6b.depth.csv\n",
      "/Users/jakewendt/20181010-1000genomes-unmapped-hhv6/NA21126.HHV6b.depth.csv\n",
      "/Users/jakewendt/20181010-1000genomes-unmapped-hhv6/NA21102.HHV6b.depth.csv\n",
      "/Users/jakewendt/20181010-1000genomes-unmapped-hhv6/NA21130.HHV6b.depth.csv\n",
      "/Users/jakewendt/20181010-1000genomes-unmapped-hhv6/NA21129.HHV6b.depth.csv\n",
      "/Users/jakewendt/20181010-1000genomes-unmapped-hhv6/NA21114.HHV6b.depth.csv\n",
      "/Users/jakewendt/20181010-1000genomes-unmapped-hhv6/NA21135.HHV6b.depth.csv\n",
      "/Users/jakewendt/20181010-1000genomes-unmapped-hhv6/NA21108.HHV6b.depth.csv\n",
      "/Users/jakewendt/20181010-1000genomes-unmapped-hhv6/NA21111.HHV6b.depth.csv\n",
      "/Users/jakewendt/20181010-1000genomes-unmapped-hhv6/NA21123.HHV6b.depth.csv\n",
      "/Users/jakewendt/20181010-1000genomes-unmapped-hhv6/NA21107.HHV6b.depth.csv\n",
      "/Users/jakewendt/20181010-1000genomes-unmapped-hhv6/NA21100.HHV6b.depth.csv\n",
      "/Users/jakewendt/20181010-1000genomes-unmapped-hhv6/NA21124.HHV6b.depth.csv\n",
      "/Users/jakewendt/20181010-1000genomes-unmapped-hhv6/NA21119.HHV6b.depth.csv\n",
      "/Users/jakewendt/20181010-1000genomes-unmapped-hhv6/NA21116.HHV6b.depth.csv\n",
      "/Users/jakewendt/20181010-1000genomes-unmapped-hhv6/NA21101.HHV6b.depth.csv\n",
      "/Users/jakewendt/20181010-1000genomes-unmapped-hhv6/NA21125.HHV6b.depth.csv\n",
      "/Users/jakewendt/20181010-1000genomes-unmapped-hhv6/NA21118.HHV6b.depth.csv\n",
      "/Users/jakewendt/20181010-1000genomes-unmapped-hhv6/NA21117.HHV6b.depth.csv\n",
      "/Users/jakewendt/20181010-1000genomes-unmapped-hhv6/NA21133.HHV6b.depth.csv\n",
      "/Users/jakewendt/20181010-1000genomes-unmapped-hhv6/NA21109.HHV6b.depth.csv\n",
      "/Users/jakewendt/20181010-1000genomes-unmapped-hhv6/NA21110.HHV6b.depth.csv\n",
      "/Users/jakewendt/20181010-1000genomes-unmapped-hhv6/NA21122.HHV6b.depth.csv\n",
      "/Users/jakewendt/20181010-1000genomes-unmapped-hhv6/NA21106.HHV6b.depth.csv\n",
      "/Users/jakewendt/20181010-1000genomes-unmapped-hhv6/NA21141.HHV6b.depth.csv\n"
     ]
    }
   ],
   "source": [
    "import glob\n",
    "\n",
    "#for filepath in glob.glob('~/20181010-1000genomes-unmapped-hhv6/NA211**.HHV6b.depth.csv'):\n",
    "# python doesn't like the ~ (tilda) apparently\n",
    "\n",
    "for filepath in glob.iglob('/Users/jakewendt/20181010-1000genomes-unmapped-hhv6/NA211??.HHV6b.depth.csv'):\n",
    "    print(filepath)\n"
   ]
  },
  {
   "cell_type": "code",
   "execution_count": 5,
   "metadata": {},
   "outputs": [],
   "source": [
    "import glob\n",
    "\n",
    "#for filepath in glob.glob('~/20181010-1000genomes-unmapped-hhv6/NA211**.HHV6b.depth.csv'):\n",
    "# python doesn't like the ~ (tilda) apparently\n",
    "\n",
    "merged=pandas.DataFrame(columns=[\"position\",\"depth\"])\n",
    "merged.set_index(\"position\",inplace=True)\n",
    "for filepath in glob.iglob('/Users/jakewendt/20181010-1000genomes-unmapped-hhv6/*.HHV6a.depth.csv'):\n",
    "    d = pandas.read_csv(filepath,\n",
    "                    sep=\"\\t\",\n",
    "                    header=None,\n",
    "                    usecols=[1,2],\n",
    "                    names=[\"position\",\"depth\"],\n",
    "                    index_col=\"position\")\n",
    "    merged=merged.add(d, fill_value=0)\n"
   ]
  },
  {
   "cell_type": "code",
   "execution_count": 6,
   "metadata": {},
   "outputs": [
    {
     "data": {
      "text/html": [
       "<div>\n",
       "<style scoped>\n",
       "    .dataframe tbody tr th:only-of-type {\n",
       "        vertical-align: middle;\n",
       "    }\n",
       "\n",
       "    .dataframe tbody tr th {\n",
       "        vertical-align: top;\n",
       "    }\n",
       "\n",
       "    .dataframe thead th {\n",
       "        text-align: right;\n",
       "    }\n",
       "</style>\n",
       "<table border=\"1\" class=\"dataframe\">\n",
       "  <thead>\n",
       "    <tr style=\"text-align: right;\">\n",
       "      <th></th>\n",
       "      <th>depth</th>\n",
       "    </tr>\n",
       "    <tr>\n",
       "      <th>position</th>\n",
       "      <th></th>\n",
       "    </tr>\n",
       "  </thead>\n",
       "  <tbody>\n",
       "    <tr>\n",
       "      <th>1</th>\n",
       "      <td>1</td>\n",
       "    </tr>\n",
       "    <tr>\n",
       "      <th>2</th>\n",
       "      <td>1</td>\n",
       "    </tr>\n",
       "    <tr>\n",
       "      <th>3</th>\n",
       "      <td>1</td>\n",
       "    </tr>\n",
       "    <tr>\n",
       "      <th>4</th>\n",
       "      <td>1</td>\n",
       "    </tr>\n",
       "    <tr>\n",
       "      <th>5</th>\n",
       "      <td>1</td>\n",
       "    </tr>\n",
       "  </tbody>\n",
       "</table>\n",
       "</div>"
      ],
      "text/plain": [
       "         depth\n",
       "position      \n",
       "1            1\n",
       "2            1\n",
       "3            1\n",
       "4            1\n",
       "5            1"
      ]
     },
     "execution_count": 6,
     "metadata": {},
     "output_type": "execute_result"
    }
   ],
   "source": [
    "merged.head()"
   ]
  },
  {
   "cell_type": "code",
   "execution_count": 7,
   "metadata": {},
   "outputs": [
    {
     "data": {
      "text/plain": [
       "<matplotlib.axes._subplots.AxesSubplot at 0x118fc4160>"
      ]
     },
     "execution_count": 7,
     "metadata": {},
     "output_type": "execute_result"
    },
    {
     "data": {
      "image/png": "[encoded data removed]",
      "text/plain": [
       "<Figure size 1152x432 with 1 Axes>"
      ]
     },
     "metadata": {},
     "output_type": "display_data"
    }
   ],
   "source": [
    "merged.plot()"
   ]
  },
  {
   "cell_type": "code",
   "execution_count": 8,
   "metadata": {},
   "outputs": [],
   "source": [
    "import glob\n",
    "\n",
    "#for filepath in glob.glob('~/20181010-1000genomes-unmapped-hhv6/NA211**.HHV6b.depth.csv'):\n",
    "# python doesn't like the ~ (tilda) apparently\n",
    "\n",
    "merged=pandas.DataFrame(columns=[\"position\",\"depth\"])\n",
    "merged.set_index(\"position\",inplace=True)\n",
    "for filepath in glob.iglob('/Users/jakewendt/20181010-1000genomes-unmapped-hhv6/*.HHV6b.depth.csv'):\n",
    "    d = pandas.read_csv(filepath,\n",
    "                    sep=\"\\t\",\n",
    "                    header=None,\n",
    "                    usecols=[1,2],\n",
    "                    names=[\"position\",\"depth\"],\n",
    "                    index_col=\"position\")\n",
    "    merged=merged.add(d, fill_value=0)"
   ]
  },
  {
   "cell_type": "code",
   "execution_count": 9,
   "metadata": {},
   "outputs": [
    {
     "data": {
      "text/html": [
       "<div>\n",
       "<style scoped>\n",
       "    .dataframe tbody tr th:only-of-type {\n",
       "        vertical-align: middle;\n",
       "    }\n",
       "\n",
       "    .dataframe tbody tr th {\n",
       "        vertical-align: top;\n",
       "    }\n",
       "\n",
       "    .dataframe thead th {\n",
       "        text-align: right;\n",
       "    }\n",
       "</style>\n",
       "<table border=\"1\" class=\"dataframe\">\n",
       "  <thead>\n",
       "    <tr style=\"text-align: right;\">\n",
       "      <th></th>\n",
       "      <th>depth</th>\n",
       "    </tr>\n",
       "    <tr>\n",
       "      <th>position</th>\n",
       "      <th></th>\n",
       "    </tr>\n",
       "  </thead>\n",
       "  <tbody>\n",
       "    <tr>\n",
       "      <th>26</th>\n",
       "      <td>2</td>\n",
       "    </tr>\n",
       "    <tr>\n",
       "      <th>27</th>\n",
       "      <td>2</td>\n",
       "    </tr>\n",
       "    <tr>\n",
       "      <th>28</th>\n",
       "      <td>2</td>\n",
       "    </tr>\n",
       "    <tr>\n",
       "      <th>29</th>\n",
       "      <td>2</td>\n",
       "    </tr>\n",
       "    <tr>\n",
       "      <th>30</th>\n",
       "      <td>2</td>\n",
       "    </tr>\n",
       "  </tbody>\n",
       "</table>\n",
       "</div>"
      ],
      "text/plain": [
       "         depth\n",
       "position      \n",
       "26           2\n",
       "27           2\n",
       "28           2\n",
       "29           2\n",
       "30           2"
      ]
     },
     "execution_count": 9,
     "metadata": {},
     "output_type": "execute_result"
    }
   ],
   "source": [
    "merged.head()"
   ]
  },
  {
   "cell_type": "code",
   "execution_count": 10,
   "metadata": {},
   "outputs": [
    {
     "data": {
      "text/plain": [
       "<matplotlib.axes._subplots.AxesSubplot at 0x119114e10>"
      ]
     },
     "execution_count": 10,
     "metadata": {},
     "output_type": "execute_result"
    },
    {
     "data": {
      "image/png": "[encoded data removed]",
      "text/plain": [
       "<Figure size 1152x432 with 1 Axes>"
      ]
     },
     "metadata": {},
     "output_type": "display_data"
    }
   ],
   "source": [
    "merged.plot()"
   ]
  }
 ],
 "metadata": {
  "kernelspec": {
   "display_name": "Python 3",
   "language": "python",
   "name": "python3"
  },
  "language_info": {
   "codemirror_mode": {
    "name": "ipython",
    "version": 3
   },
   "file_extension": ".py",
   "mimetype": "text/x-python",
   "name": "python",
   "nbconvert_exporter": "python",
   "pygments_lexer": "ipython3",
   "version": "3.6.7"
  }
 },
 "nbformat": 4,
 "nbformat_minor": 2
}
