{
 "cells": [
  {
   "cell_type": "markdown",
   "metadata": {},
   "source": [
    "The purpose of this is to take an array of paired values where x is a date and y is a number and return an array of pairs where x is a year and y is a number, having been sorted by date, y averaged for each collection of year and any gaps in years filled in average of entire collection of values."
   ]
  },
  {
   "cell_type": "code",
   "execution_count": 1,
   "metadata": {},
   "outputs": [
    {
     "data": {
      "text/plain": [
       "true"
      ]
     },
     "execution_count": 1,
     "metadata": {},
     "output_type": "execute_result"
    }
   ],
   "source": [
    "require 'date'"
   ]
  },
  {
   "cell_type": "code",
   "execution_count": 2,
   "metadata": {},
   "outputs": [
    {
     "data": {
      "text/plain": [
       "[[2005, 61], [2006, 66], [2007, 68], [2012, 51], [2012, 54], [2013, 54], [2013, 54], [2014, 51], [2014, 53]]"
      ]
     },
     "execution_count": 2,
     "metadata": {},
     "output_type": "execute_result"
    }
   ],
   "source": [
    "x = [\"2004-12-31\",\"2005-12-31\",\"2006-12-31\",\"2011-12-31\",\"2011-12-31\",\"2012-12-31\",\"2012-12-31\",\"2013-12-31\",\"2013-12-31\"]\n",
    "y = [61, 66, 68, 51, 54, 54, 54, 51, 53]\n",
    "coords = x.collect.with_index do |x,i|\n",
    "  [Date.parse(x).year+1,y[i]]    #  add 1 to the year as rounding up \n",
    "end \n",
    "coords"
   ]
  },
  {
   "cell_type": "code",
   "execution_count": 3,
   "metadata": {},
   "outputs": [
    {
     "data": {
      "text/plain": [
       "2005"
      ]
     },
     "execution_count": 3,
     "metadata": {},
     "output_type": "execute_result"
    }
   ],
   "source": [
    "min_year = coords.collect{|c|c[0]}.min\n",
    "min_year"
   ]
  },
  {
   "cell_type": "code",
   "execution_count": 4,
   "metadata": {},
   "outputs": [
    {
     "data": {
      "text/plain": [
       "2014"
      ]
     },
     "execution_count": 4,
     "metadata": {},
     "output_type": "execute_result"
    }
   ],
   "source": [
    "max_year = coords.collect{|c|c[0]}.max\n",
    "max_year"
   ]
  },
  {
   "cell_type": "code",
   "execution_count": 5,
   "metadata": {},
   "outputs": [
    {
     "data": {
      "text/plain": [
       "[2005, 2006, 2007, 2008, 2009, 2010, 2011, 2012, 2013, 2014]"
      ]
     },
     "execution_count": 5,
     "metadata": {},
     "output_type": "execute_result"
    }
   ],
   "source": [
    "(min_year..max_year).to_a"
   ]
  },
  {
   "cell_type": "code",
   "execution_count": 6,
   "metadata": {},
   "outputs": [
    {
     "data": {
      "text/plain": [
       "[61, 66, 68, 51, 54, 54, 54, 51, 53]"
      ]
     },
     "execution_count": 6,
     "metadata": {},
     "output_type": "execute_result"
    }
   ],
   "source": [
    "all_values = coords.collect{|c| c[1] }\n",
    "all_values"
   ]
  },
  {
   "cell_type": "code",
   "execution_count": 7,
   "metadata": {},
   "outputs": [
    {
     "data": {
      "text/plain": [
       "56.888888888888886"
      ]
     },
     "execution_count": 7,
     "metadata": {},
     "output_type": "execute_result"
    }
   ],
   "source": [
    "ave_all_values = all_values.inject{ |sum, el| sum + el }.to_f / all_values.length\n",
    "ave_all_values"
   ]
  },
  {
   "cell_type": "code",
   "execution_count": 8,
   "metadata": {},
   "outputs": [
    {
     "data": {
      "text/plain": [
       "[[2005, 61], [2006, 66], [2007, 68], [2008, 56.888888888888886], [2009, 56.888888888888886], [2010, 56.888888888888886], [2011, 56.888888888888886], [2012, 52.5], [2013, 54.0], [2014, 52.0]]"
      ]
     },
     "execution_count": 8,
     "metadata": {},
     "output_type": "execute_result"
    }
   ],
   "source": [
    "out = (min_year..max_year).collect do |year|\n",
    "  values = coords.select{|c| c[0] == year }.collect{|c| c[1] }\n",
    "  value = if values.length == 0\n",
    "    ave_all_values\n",
    "  elsif values.length == 1\n",
    "    values[0]\n",
    "  else\n",
    "    values.inject{ |sum, el| sum + el }.to_f / values.length\n",
    "  end\n",
    "  [year,value]\n",
    "end\n",
    "out"
   ]
  }
 ],
 "metadata": {
  "kernelspec": {
   "display_name": "Ruby 2.3.6",
   "language": "ruby",
   "name": "ruby"
  },
  "language_info": {
   "file_extension": ".rb",
   "mimetype": "application/x-ruby",
   "name": "ruby",
   "version": "2.3.6"
  }
 },
 "nbformat": 4,
 "nbformat_minor": 2
}
