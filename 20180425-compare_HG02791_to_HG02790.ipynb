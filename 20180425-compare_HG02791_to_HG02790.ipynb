{
 "cells": [
  {
   "cell_type": "markdown",
   "metadata": {},
   "source": [
    "aws s3 cp s3://1000genomes/phase3/data/HG02790/cg_data/HG02790_blood_SRR833683.wgs.COMPLETE_GENOMICS.20130401.snps_indels_svs_meis.high_coverage.genotypes.vcf.gz ./\n",
    "\n",
    "aws s3 cp s3://1000genomes/phase3/data/HG02791/cg_data/HG02791_blood_SRR833690.wgs.COMPLETE_GENOMICS.20130401.snps_indels_svs_meis.high_coverage.genotypes.vcf.gz ./\n",
    "\n",
    "For no reason other than they are the last 2 on my list, let's use these 2 samples.\n",
    "\n",
    "We'll select all of the C-T transitions in chromosome 1 and compare."
   ]
  },
  {
   "cell_type": "code",
   "execution_count": 1,
   "metadata": {},
   "outputs": [],
   "source": [
    "#!zcat HG02790_blood_SRR833683.wgs.COMPLETE_GENOMICS.20130401.snps_indels_svs_meis.high_coverage.genotypes.vcf.gz | awk -F\"\\t\" '($1 == 1 && $4 == \"C\" && $5 == \"T\"){print $2}' > data/HG02790.chr1.C-T.txt"
   ]
  },
  {
   "cell_type": "code",
   "execution_count": 2,
   "metadata": {},
   "outputs": [],
   "source": [
    "#!zcat HG02791_blood_SRR833690.wgs.COMPLETE_GENOMICS.20130401.snps_indels_svs_meis.high_coverage.genotypes.vcf.gz | awk -F\"\\t\" '($1 == 1 && $4 == \"C\" && $5 == \"T\"){print $2}' > data/HG02791.chr1.C-T.txt"
   ]
  },
  {
   "cell_type": "code",
   "execution_count": 3,
   "metadata": {},
   "outputs": [
    {
     "name": "stdout",
     "output_type": "stream",
     "text": [
      "72787\r\n",
      "102138\r\n",
      "128798\r\n",
      "254209\r\n",
      "564513\r\n",
      "565286\r\n",
      "565406\r\n",
      "565591\r\n",
      "565976\r\n",
      "566130\r\n"
     ]
    }
   ],
   "source": [
    "!head data/HG02790.chr1.C-T.txt"
   ]
  },
  {
   "cell_type": "code",
   "execution_count": 4,
   "metadata": {},
   "outputs": [
    {
     "name": "stdout",
     "output_type": "stream",
     "text": [
      "56485\r\n",
      "72787\r\n",
      "128798\r\n",
      "258930\r\n",
      "548491\r\n",
      "565286\r\n",
      "565406\r\n",
      "565591\r\n",
      "565976\r\n",
      "566130\r\n"
     ]
    }
   ],
   "source": [
    "!head data/HG02791.chr1.C-T.txt"
   ]
  },
  {
   "cell_type": "code",
   "execution_count": 5,
   "metadata": {},
   "outputs": [],
   "source": [
    "import numpy as np\n",
    "from numpy import genfromtxt\n",
    "HG02790 = genfromtxt('data/HG02790.chr1.C-T.txt', delimiter=',')\n",
    "HG02791 = genfromtxt('data/HG02791.chr1.C-T.txt', delimiter=',')"
   ]
  },
  {
   "cell_type": "code",
   "execution_count": 6,
   "metadata": {},
   "outputs": [
    {
     "data": {
      "text/plain": [
       "array([ 72787., 102138., 128798., 254209., 564513., 565286., 565406.,\n",
       "       565591., 565976., 566130.])"
      ]
     },
     "execution_count": 6,
     "metadata": {},
     "output_type": "execute_result"
    }
   ],
   "source": [
    "HG02790[0:10]"
   ]
  },
  {
   "cell_type": "code",
   "execution_count": 7,
   "metadata": {},
   "outputs": [
    {
     "data": {
      "text/plain": [
       "array([ 56485.,  72787., 128798., 258930., 548491., 565286., 565406.,\n",
       "       565591., 565976., 566130.])"
      ]
     },
     "execution_count": 7,
     "metadata": {},
     "output_type": "execute_result"
    }
   ],
   "source": [
    "HG02791[0:10]"
   ]
  },
  {
   "cell_type": "code",
   "execution_count": 8,
   "metadata": {},
   "outputs": [
    {
     "data": {
      "text/plain": [
       "(46747, 47171)"
      ]
     },
     "execution_count": 8,
     "metadata": {},
     "output_type": "execute_result"
    }
   ],
   "source": [
    "len(HG02790), len(HG02791)"
   ]
  },
  {
   "cell_type": "code",
   "execution_count": 9,
   "metadata": {},
   "outputs": [],
   "source": [
    "import matplotlib.pyplot as plt"
   ]
  },
  {
   "cell_type": "code",
   "execution_count": 10,
   "metadata": {},
   "outputs": [],
   "source": [
    "HG02790_hist, HG02790_bin_edges = np.histogram(HG02790, bins=100)\n",
    "HG02791_hist, HG02791_bin_edges = np.histogram(HG02791, bins=100)"
   ]
  },
  {
   "cell_type": "code",
   "execution_count": 11,
   "metadata": {},
   "outputs": [
    {
     "data": {
      "text/plain": [
       "array([7.27870000e+04, 2.56430290e+06, 5.05581880e+06, 7.54733470e+06,\n",
       "       1.00388506e+07, 1.25303665e+07, 1.50218824e+07, 1.75133983e+07,\n",
       "       2.00049142e+07, 2.24964301e+07, 2.49879460e+07, 2.74794619e+07,\n",
       "       2.99709778e+07, 3.24624937e+07, 3.49540096e+07, 3.74455255e+07,\n",
       "       3.99370414e+07, 4.24285573e+07, 4.49200732e+07, 4.74115891e+07,\n",
       "       4.99031050e+07, 5.23946209e+07, 5.48861368e+07, 5.73776527e+07,\n",
       "       5.98691686e+07, 6.23606845e+07, 6.48522004e+07, 6.73437163e+07,\n",
       "       6.98352322e+07, 7.23267481e+07, 7.48182640e+07, 7.73097799e+07,\n",
       "       7.98012958e+07, 8.22928117e+07, 8.47843276e+07, 8.72758435e+07,\n",
       "       8.97673594e+07, 9.22588753e+07, 9.47503912e+07, 9.72419071e+07,\n",
       "       9.97334230e+07, 1.02224939e+08, 1.04716455e+08, 1.07207971e+08,\n",
       "       1.09699487e+08, 1.12191002e+08, 1.14682518e+08, 1.17174034e+08,\n",
       "       1.19665550e+08, 1.22157066e+08, 1.24648582e+08, 1.27140098e+08,\n",
       "       1.29631614e+08, 1.32123130e+08, 1.34614646e+08, 1.37106162e+08,\n",
       "       1.39597677e+08, 1.42089193e+08, 1.44580709e+08, 1.47072225e+08,\n",
       "       1.49563741e+08, 1.52055257e+08, 1.54546773e+08, 1.57038289e+08,\n",
       "       1.59529805e+08, 1.62021320e+08, 1.64512836e+08, 1.67004352e+08,\n",
       "       1.69495868e+08, 1.71987384e+08, 1.74478900e+08, 1.76970416e+08,\n",
       "       1.79461932e+08, 1.81953448e+08, 1.84444964e+08, 1.86936480e+08,\n",
       "       1.89427995e+08, 1.91919511e+08, 1.94411027e+08, 1.96902543e+08,\n",
       "       1.99394059e+08, 2.01885575e+08, 2.04377091e+08, 2.06868607e+08,\n",
       "       2.09360123e+08, 2.11851638e+08, 2.14343154e+08, 2.16834670e+08,\n",
       "       2.19326186e+08, 2.21817702e+08, 2.24309218e+08, 2.26800734e+08,\n",
       "       2.29292250e+08, 2.31783766e+08, 2.34275282e+08, 2.36766798e+08,\n",
       "       2.39258313e+08, 2.41749829e+08, 2.44241345e+08, 2.46732861e+08,\n",
       "       2.49224377e+08])"
      ]
     },
     "execution_count": 11,
     "metadata": {},
     "output_type": "execute_result"
    }
   ],
   "source": [
    "HG02790_bin_edges"
   ]
  },
  {
   "cell_type": "code",
   "execution_count": 12,
   "metadata": {},
   "outputs": [
    {
     "data": {
      "text/plain": [
       "array([5.64850000e+04, 2.54797983e+06, 5.03947466e+06, 7.53096949e+06,\n",
       "       1.00224643e+07, 1.25139592e+07, 1.50054540e+07, 1.74969488e+07,\n",
       "       1.99884436e+07, 2.24799385e+07, 2.49714333e+07, 2.74629281e+07,\n",
       "       2.99544230e+07, 3.24459178e+07, 3.49374126e+07, 3.74289075e+07,\n",
       "       3.99204023e+07, 4.24118971e+07, 4.49033919e+07, 4.73948868e+07,\n",
       "       4.98863816e+07, 5.23778764e+07, 5.48693713e+07, 5.73608661e+07,\n",
       "       5.98523609e+07, 6.23438558e+07, 6.48353506e+07, 6.73268454e+07,\n",
       "       6.98183402e+07, 7.23098351e+07, 7.48013299e+07, 7.72928247e+07,\n",
       "       7.97843196e+07, 8.22758144e+07, 8.47673092e+07, 8.72588040e+07,\n",
       "       8.97502989e+07, 9.22417937e+07, 9.47332885e+07, 9.72247834e+07,\n",
       "       9.97162782e+07, 1.02207773e+08, 1.04699268e+08, 1.07190763e+08,\n",
       "       1.09682258e+08, 1.12173752e+08, 1.14665247e+08, 1.17156742e+08,\n",
       "       1.19648237e+08, 1.22139732e+08, 1.24631226e+08, 1.27122721e+08,\n",
       "       1.29614216e+08, 1.32105711e+08, 1.34597206e+08, 1.37088701e+08,\n",
       "       1.39580195e+08, 1.42071690e+08, 1.44563185e+08, 1.47054680e+08,\n",
       "       1.49546175e+08, 1.52037670e+08, 1.54529164e+08, 1.57020659e+08,\n",
       "       1.59512154e+08, 1.62003649e+08, 1.64495144e+08, 1.66986639e+08,\n",
       "       1.69478133e+08, 1.71969628e+08, 1.74461123e+08, 1.76952618e+08,\n",
       "       1.79444113e+08, 1.81935608e+08, 1.84427102e+08, 1.86918597e+08,\n",
       "       1.89410092e+08, 1.91901587e+08, 1.94393082e+08, 1.96884577e+08,\n",
       "       1.99376071e+08, 2.01867566e+08, 2.04359061e+08, 2.06850556e+08,\n",
       "       2.09342051e+08, 2.11833546e+08, 2.14325040e+08, 2.16816535e+08,\n",
       "       2.19308030e+08, 2.21799525e+08, 2.24291020e+08, 2.26782515e+08,\n",
       "       2.29274009e+08, 2.31765504e+08, 2.34256999e+08, 2.36748494e+08,\n",
       "       2.39239989e+08, 2.41731484e+08, 2.44222978e+08, 2.46714473e+08,\n",
       "       2.49205968e+08])"
      ]
     },
     "execution_count": 12,
     "metadata": {},
     "output_type": "execute_result"
    }
   ],
   "source": [
    "HG02791_bin_edges"
   ]
  },
  {
   "cell_type": "markdown",
   "metadata": {},
   "source": [
    "Ok, so this won't work. The bin edges are automatically computed based on max and min of each set so no go. \n",
    "Need to explicitly set them so that they are the same. Let's use the min min and the max max."
   ]
  },
  {
   "cell_type": "code",
   "execution_count": 13,
   "metadata": {},
   "outputs": [
    {
     "data": {
      "text/plain": [
       "(72787.0, 249224377.0, 56485.0, 249205968.0)"
      ]
     },
     "execution_count": 13,
     "metadata": {},
     "output_type": "execute_result"
    }
   ],
   "source": [
    "HG02790.min(), HG02790.max(), HG02791.min(), HG02791.max()"
   ]
  },
  {
   "cell_type": "code",
   "execution_count": 14,
   "metadata": {},
   "outputs": [
    {
     "data": {
      "text/plain": [
       "249224377.0"
      ]
     },
     "execution_count": 14,
     "metadata": {},
     "output_type": "execute_result"
    }
   ],
   "source": [
    "max=np.array(HG02790.max(), HG02791.max()).max()\n",
    "max"
   ]
  },
  {
   "cell_type": "code",
   "execution_count": 15,
   "metadata": {},
   "outputs": [
    {
     "data": {
      "text/plain": [
       "72787.0"
      ]
     },
     "execution_count": 15,
     "metadata": {},
     "output_type": "execute_result"
    }
   ],
   "source": [
    "min=np.array(HG02790.min(), HG02791.min()).min()\n",
    "min"
   ]
  },
  {
   "cell_type": "code",
   "execution_count": 16,
   "metadata": {},
   "outputs": [],
   "source": [
    "HG02790_hist, HG02790_bin_edges = np.histogram(HG02790, bins=100, range=(min,max))\n",
    "HG02791_hist, HG02791_bin_edges = np.histogram(HG02791, bins=100, range=(min,max))"
   ]
  },
  {
   "cell_type": "code",
   "execution_count": 17,
   "metadata": {},
   "outputs": [
    {
     "name": "stdout",
     "output_type": "stream",
     "text": [
      "[6.0, 4.0]\n",
      "[16.0, 4.0]\n"
     ]
    }
   ],
   "source": [
    "print(plt.rcParams[\"figure.figsize\"])\n",
    "plt.rcParams[\"figure.figsize\"] = [16.0,4.0]\n",
    "print(plt.rcParams[\"figure.figsize\"])"
   ]
  },
  {
   "cell_type": "code",
   "execution_count": 18,
   "metadata": {},
   "outputs": [
    {
     "data": {
      "image/png": "[encoded data removed]",
      "text/plain": [
       "<Figure size 1152x288 with 1 Axes>"
      ]
     },
     "metadata": {},
     "output_type": "display_data"
    }
   ],
   "source": [
    "width = 0.7 * (HG02790_bin_edges[1] - HG02790_bin_edges[0])\n",
    "center = (HG02790_bin_edges[:-1] + HG02790_bin_edges[1:]) / 2\n",
    "plt.bar(center, HG02790_hist, align='center', width=width)\n",
    "plt.show()"
   ]
  },
  {
   "cell_type": "code",
   "execution_count": 19,
   "metadata": {},
   "outputs": [
    {
     "data": {
      "image/png": "[encoded data removed]",
      "text/plain": [
       "<Figure size 1152x288 with 1 Axes>"
      ]
     },
     "metadata": {},
     "output_type": "display_data"
    }
   ],
   "source": [
    "width = 0.7 * (HG02791_bin_edges[1] - HG02791_bin_edges[0])\n",
    "center = (HG02791_bin_edges[:-1] + HG02791_bin_edges[1:]) / 2\n",
    "plt.bar(center, HG02791_hist, align='center', width=width)\n",
    "plt.show()"
   ]
  },
  {
   "cell_type": "code",
   "execution_count": 20,
   "metadata": {},
   "outputs": [
    {
     "data": {
      "image/png": "[encoded data removed]",
      "text/plain": [
       "<Figure size 1152x288 with 1 Axes>"
      ]
     },
     "metadata": {},
     "output_type": "display_data"
    }
   ],
   "source": [
    "hist_diff = HG02791_hist - HG02790_hist\n",
    "width = 0.7 * (HG02791_bin_edges[1] - HG02791_bin_edges[0])\n",
    "center = (HG02791_bin_edges[:-1] + HG02791_bin_edges[1:]) / 2\n",
    "plt.bar(center, hist_diff, align='center', width=width)\n",
    "plt.show()"
   ]
  },
  {
   "cell_type": "markdown",
   "metadata": {},
   "source": [
    "Higher resolution?"
   ]
  },
  {
   "cell_type": "code",
   "execution_count": 21,
   "metadata": {},
   "outputs": [],
   "source": [
    "HG02790_hist, HG02790_bin_edges = np.histogram(HG02790, bins=1000, range=(min,max))\n",
    "HG02791_hist, HG02791_bin_edges = np.histogram(HG02791, bins=1000, range=(min,max))"
   ]
  },
  {
   "cell_type": "code",
   "execution_count": 22,
   "metadata": {},
   "outputs": [
    {
     "data": {
      "image/png": "[encoded data removed]",
      "text/plain": [
       "<Figure size 1152x288 with 1 Axes>"
      ]
     },
     "metadata": {},
     "output_type": "display_data"
    }
   ],
   "source": [
    "hist_diff = HG02791_hist - HG02790_hist\n",
    "width = 0.7 * (HG02791_bin_edges[1] - HG02791_bin_edges[0])\n",
    "center = (HG02791_bin_edges[:-1] + HG02791_bin_edges[1:]) / 2\n",
    "plt.bar(center, hist_diff, align='center', width=width)\n",
    "plt.show()"
   ]
  },
  {
   "cell_type": "code",
   "execution_count": 23,
   "metadata": {},
   "outputs": [
    {
     "data": {
      "image/png": "[encoded data removed]",
      "text/plain": [
       "<Figure size 1152x288 with 1 Axes>"
      ]
     },
     "metadata": {},
     "output_type": "display_data"
    }
   ],
   "source": [
    "HG02790_hist, HG02790_bin_edges = np.histogram(HG02790, bins=10000, range=(min,max))\n",
    "HG02791_hist, HG02791_bin_edges = np.histogram(HG02791, bins=10000, range=(min,max))\n",
    "hist_diff = HG02791_hist - HG02790_hist\n",
    "width = 0.7 * (HG02791_bin_edges[1] - HG02791_bin_edges[0])\n",
    "center = (HG02791_bin_edges[:-1] + HG02791_bin_edges[1:]) / 2\n",
    "plt.bar(center, hist_diff, align='center', width=width)\n",
    "plt.show()"
   ]
  },
  {
   "cell_type": "code",
   "execution_count": 24,
   "metadata": {},
   "outputs": [
    {
     "data": {
      "image/png": "[encoded data removed]",
      "text/plain": [
       "<Figure size 1152x288 with 1 Axes>"
      ]
     },
     "metadata": {},
     "output_type": "display_data"
    }
   ],
   "source": [
    "HG02790_hist, HG02790_bin_edges = np.histogram(HG02790, bins=100000, range=(min,max))\n",
    "HG02791_hist, HG02791_bin_edges = np.histogram(HG02791, bins=100000, range=(min,max))\n",
    "hist_diff = HG02791_hist - HG02790_hist\n",
    "width = 0.7 * (HG02791_bin_edges[1] - HG02791_bin_edges[0])\n",
    "center = (HG02791_bin_edges[:-1] + HG02791_bin_edges[1:]) / 2\n",
    "plt.bar(center, hist_diff, align='center', width=width)\n",
    "plt.show()"
   ]
  },
  {
   "cell_type": "code",
   "execution_count": null,
   "metadata": {},
   "outputs": [],
   "source": []
  }
 ],
 "metadata": {
  "kernelspec": {
   "display_name": "Python 3",
   "language": "python",
   "name": "python3"
  },
  "language_info": {
   "codemirror_mode": {
    "name": "ipython",
    "version": 3
   },
   "file_extension": ".py",
   "mimetype": "text/x-python",
   "name": "python",
   "nbconvert_exporter": "python",
   "pygments_lexer": "ipython3",
   "version": "3.6.5"
  }
 },
 "nbformat": 4,
 "nbformat_minor": 2
}
