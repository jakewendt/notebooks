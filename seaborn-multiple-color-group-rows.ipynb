{
 "cells": [
  {
   "cell_type": "code",
   "execution_count": null,
   "metadata": {},
   "outputs": [],
   "source": []
  },
  {
   "cell_type": "markdown",
   "metadata": {},
   "source": [
    "https://stackoverflow.com/questions/48173798/additional-row-colors-in-seaborn-cluster-map"
   ]
  },
  {
   "cell_type": "code",
   "execution_count": null,
   "metadata": {},
   "outputs": [],
   "source": []
  },
  {
   "cell_type": "code",
   "execution_count": 1,
   "metadata": {},
   "outputs": [
    {
     "data": {
      "text/plain": [
       "'1.2.4'"
      ]
     },
     "execution_count": 1,
     "metadata": {},
     "output_type": "execute_result"
    }
   ],
   "source": [
    "import pandas as pd\n",
    "pd.__version__"
   ]
  },
  {
   "cell_type": "code",
   "execution_count": 2,
   "metadata": {},
   "outputs": [
    {
     "data": {
      "text/plain": [
       "'1.20.3'"
      ]
     },
     "execution_count": 2,
     "metadata": {},
     "output_type": "execute_result"
    }
   ],
   "source": [
    "import numpy as np\n",
    "np.__version__"
   ]
  },
  {
   "cell_type": "code",
   "execution_count": 3,
   "metadata": {},
   "outputs": [
    {
     "data": {
      "text/plain": [
       "'0.11.1'"
      ]
     },
     "execution_count": 3,
     "metadata": {},
     "output_type": "execute_result"
    }
   ],
   "source": [
    "import seaborn as sns\n",
    "sns.__version__"
   ]
  },
  {
   "cell_type": "code",
   "execution_count": 4,
   "metadata": {},
   "outputs": [
    {
     "data": {
      "text/plain": [
       "'3.4.2'"
      ]
     },
     "execution_count": 4,
     "metadata": {},
     "output_type": "execute_result"
    }
   ],
   "source": [
    "import matplotlib\n",
    "matplotlib.__version__"
   ]
  },
  {
   "cell_type": "code",
   "execution_count": 5,
   "metadata": {},
   "outputs": [],
   "source": [
    "import matplotlib.pyplot as plt"
   ]
  },
  {
   "cell_type": "code",
   "execution_count": null,
   "metadata": {},
   "outputs": [],
   "source": []
  },
  {
   "cell_type": "code",
   "execution_count": 6,
   "metadata": {},
   "outputs": [
    {
     "data": {
      "text/html": [
       "<div>\n",
       "<style scoped>\n",
       "    .dataframe tbody tr th:only-of-type {\n",
       "        vertical-align: middle;\n",
       "    }\n",
       "\n",
       "    .dataframe tbody tr th {\n",
       "        vertical-align: top;\n",
       "    }\n",
       "\n",
       "    .dataframe thead th {\n",
       "        text-align: right;\n",
       "    }\n",
       "</style>\n",
       "<table border=\"1\" class=\"dataframe\">\n",
       "  <thead>\n",
       "    <tr style=\"text-align: right;\">\n",
       "      <th></th>\n",
       "      <th>0</th>\n",
       "      <th>1</th>\n",
       "      <th>2</th>\n",
       "      <th>3</th>\n",
       "    </tr>\n",
       "  </thead>\n",
       "  <tbody>\n",
       "    <tr>\n",
       "      <th>0</th>\n",
       "      <td>0</td>\n",
       "      <td>0</td>\n",
       "      <td>1</td>\n",
       "      <td>0</td>\n",
       "    </tr>\n",
       "    <tr>\n",
       "      <th>1</th>\n",
       "      <td>1</td>\n",
       "      <td>0</td>\n",
       "      <td>0</td>\n",
       "      <td>0</td>\n",
       "    </tr>\n",
       "    <tr>\n",
       "      <th>2</th>\n",
       "      <td>1</td>\n",
       "      <td>1</td>\n",
       "      <td>0</td>\n",
       "      <td>1</td>\n",
       "    </tr>\n",
       "    <tr>\n",
       "      <th>3</th>\n",
       "      <td>1</td>\n",
       "      <td>0</td>\n",
       "      <td>1</td>\n",
       "      <td>0</td>\n",
       "    </tr>\n",
       "    <tr>\n",
       "      <th>4</th>\n",
       "      <td>0</td>\n",
       "      <td>0</td>\n",
       "      <td>1</td>\n",
       "      <td>0</td>\n",
       "    </tr>\n",
       "  </tbody>\n",
       "</table>\n",
       "</div>"
      ],
      "text/plain": [
       "   0  1  2  3\n",
       "0  0  0  1  0\n",
       "1  1  0  0  0\n",
       "2  1  1  0  1\n",
       "3  1  0  1  0\n",
       "4  0  0  1  0"
      ]
     },
     "execution_count": 6,
     "metadata": {},
     "output_type": "execute_result"
    }
   ],
   "source": [
    "#matrix = pd.DataFrame(np.random.random_integers(0,1, size=(50,4)))\n",
    "matrix = pd.DataFrame(np.random.randint(0,1+1, size=(50,4)))\n",
    "matrix.head()"
   ]
  },
  {
   "cell_type": "code",
   "execution_count": 7,
   "metadata": {},
   "outputs": [
    {
     "data": {
      "text/plain": [
       "array([0, 2, 3, 5, 2, 4, 4, 2, 4, 4, 2, 0, 3, 2, 0, 0, 4, 5, 5, 5, 5, 5,\n",
       "       3, 4, 0, 3, 3, 2, 5, 3, 2, 3, 4, 3, 2, 1, 5, 4, 0, 2, 2, 3, 0, 1,\n",
       "       4, 3, 1, 5, 2, 3])"
      ]
     },
     "execution_count": 7,
     "metadata": {},
     "output_type": "execute_result"
    }
   ],
   "source": [
    "#labels = np.random.random_integers(0,5, size=50)\n",
    "labels = np.random.randint(0,5+1, size=50)\n",
    "labels"
   ]
  },
  {
   "cell_type": "code",
   "execution_count": 8,
   "metadata": {},
   "outputs": [
    {
     "data": {
      "text/plain": [
       "{0: (0.9, 0.14799999999999996, 0.09999999999999998),\n",
       " 1: (0.8519999999999998, 0.9, 0.09999999999999998),\n",
       " 2: (0.09999999999999998, 0.9, 0.14800000000000002),\n",
       " 3: (0.09999999999999998, 0.8519999999999998, 0.9),\n",
       " 4: (0.14800000000000002, 0.09999999999999998, 0.9),\n",
       " 5: (0.9, 0.09999999999999998, 0.8519999999999998)}"
      ]
     },
     "execution_count": 8,
     "metadata": {},
     "output_type": "execute_result"
    }
   ],
   "source": [
    "lut = dict(zip(set(labels), sns.hls_palette(len(set(labels)), l=0.5, s=0.8)))\n",
    "lut"
   ]
  },
  {
   "cell_type": "code",
   "execution_count": 9,
   "metadata": {},
   "outputs": [
    {
     "data": {
      "text/plain": [
       "0    (0.9, 0.14799999999999996, 0.09999999999999998)\n",
       "1    (0.09999999999999998, 0.9, 0.14800000000000002)\n",
       "2     (0.09999999999999998, 0.8519999999999998, 0.9)\n",
       "3     (0.9, 0.09999999999999998, 0.8519999999999998)\n",
       "4    (0.09999999999999998, 0.9, 0.14800000000000002)\n",
       "Name: 0, dtype: object"
      ]
     },
     "execution_count": 9,
     "metadata": {},
     "output_type": "execute_result"
    }
   ],
   "source": [
    "row_colors = pd.DataFrame(labels)[0].map(lut)\n",
    "row_colors.head()"
   ]
  },
  {
   "cell_type": "code",
   "execution_count": null,
   "metadata": {},
   "outputs": [],
   "source": []
  },
  {
   "cell_type": "code",
   "execution_count": 10,
   "metadata": {},
   "outputs": [],
   "source": [
    "#Create additional row_colors here\n",
    "#labels2 = np.random.random_integers(0,1, size=50)\n",
    "labels2 = np.random.randint(0,1+1, size=50)\n",
    "\n",
    "lut2 = dict(zip(set(labels2), sns.hls_palette(len(set(labels2)), l=0.5, s=0.8)))\n",
    "row_colors2 = pd.DataFrame(labels2)[0].map(lut2)\n"
   ]
  },
  {
   "cell_type": "code",
   "execution_count": 11,
   "metadata": {},
   "outputs": [
    {
     "data": {
      "image/png": "[encoded data removed]",
      "text/plain": [
       "<Figure size 720x720 with 5 Axes>"
      ]
     },
     "metadata": {
      "needs_background": "light"
     },
     "output_type": "display_data"
    }
   ],
   "source": [
    "g=sns.clustermap(matrix, col_cluster=False, linewidths=0.1, cmap='coolwarm', row_colors=[row_colors, row_colors2])\n",
    "#plt.show()"
   ]
  },
  {
   "cell_type": "markdown",
   "metadata": {},
   "source": [
    "---"
   ]
  },
  {
   "cell_type": "raw",
   "metadata": {},
   "source": [
    "        tmp=localdf[selected].copy()\n",
    "\n",
    "        tmp=tmp.sort_values([group_column])\n",
    "        tmp.set_index(['subject'],inplace=True)\n",
    "\n",
    "        \n",
    "        #labels1=tmp.pop(group_column)\n",
    "        \n",
    "        \n",
    "        labels=[]\n",
    "        labels.append(tmp.pop(group_column))\n",
    "        labels.append(tmp.pop('race'))\n",
    "        labels.append(tmp.pop('ethnicity'))\n",
    "        labels.append(tmp.pop('gender'))\n",
    "\n",
    "        \n",
    "        tmp=tmp.T\n",
    "\n",
    "        \n",
    "        pal=[]\n",
    "        lut=[]\n",
    "        colors=[]\n",
    "        for i in range(len(labels)):\n",
    "            #print(i)\n",
    "            pal.append(sns.cubehelix_palette(len(set(labels[i])),\n",
    "                light=.9, dark=.1, reverse=True,\n",
    "                start=1, rot=-2))\n",
    "            lut.append(dict(zip(labels[i].unique(), pal[i])))\n",
    "            colors.append(pd.Series(labels[i], index=tmp.columns).map(lut[i]))\n",
    "\n",
    "        col_colors=pd.concat(colors,axis=1)\n",
    "\n",
    "        \n",
    "        g=sns.clustermap(tmp,col_cluster=False,figsize=(15,20),cmap=\"Spectral\",\n",
    "                         col_colors=col_colors,xticklabels=True)\n",
    "        g.fig.suptitle(\"Clustermap 1 : \" + group_column)\n",
    "        plt.setp(g.ax_heatmap.get_xticklabels(), rotation=75, horizontalalignment='right')\n",
    "\n",
    "        # Draw the legend bar for the classes  \n",
    "        for i in range(len(labels)):\n",
    "            for label in labels[i].unique():\n",
    "                g.ax_col_dendrogram.bar(0, 0, color=lut[i][label],\n",
    "                                        label=label, linewidth=0)\n",
    "        g.ax_col_dendrogram.legend(loc=\"center\", ncol=4)\n",
    "        \n",
    "        # Adjust the postion of the main colorbar for the heatmap\n",
    "        g.cax.set_position([0, .15, .005, .6])\n",
    "        plt.show()"
   ]
  },
  {
   "cell_type": "code",
   "execution_count": 12,
   "metadata": {},
   "outputs": [
    {
     "data": {
      "text/html": [
       "<div>\n",
       "<style scoped>\n",
       "    .dataframe tbody tr th:only-of-type {\n",
       "        vertical-align: middle;\n",
       "    }\n",
       "\n",
       "    .dataframe tbody tr th {\n",
       "        vertical-align: top;\n",
       "    }\n",
       "\n",
       "    .dataframe thead th {\n",
       "        text-align: right;\n",
       "    }\n",
       "</style>\n",
       "<table border=\"1\" class=\"dataframe\">\n",
       "  <thead>\n",
       "    <tr style=\"text-align: right;\">\n",
       "      <th></th>\n",
       "      <th>0</th>\n",
       "      <th>1</th>\n",
       "      <th>2</th>\n",
       "      <th>3</th>\n",
       "      <th>4</th>\n",
       "      <th>5</th>\n",
       "      <th>6</th>\n",
       "      <th>7</th>\n",
       "      <th>8</th>\n",
       "      <th>9</th>\n",
       "      <th>...</th>\n",
       "      <th>90</th>\n",
       "      <th>91</th>\n",
       "      <th>92</th>\n",
       "      <th>93</th>\n",
       "      <th>94</th>\n",
       "      <th>95</th>\n",
       "      <th>96</th>\n",
       "      <th>97</th>\n",
       "      <th>98</th>\n",
       "      <th>99</th>\n",
       "    </tr>\n",
       "  </thead>\n",
       "  <tbody>\n",
       "    <tr>\n",
       "      <th>0</th>\n",
       "      <td>71</td>\n",
       "      <td>31</td>\n",
       "      <td>15</td>\n",
       "      <td>65</td>\n",
       "      <td>1</td>\n",
       "      <td>22</td>\n",
       "      <td>58</td>\n",
       "      <td>14</td>\n",
       "      <td>27</td>\n",
       "      <td>32</td>\n",
       "      <td>...</td>\n",
       "      <td>73</td>\n",
       "      <td>9</td>\n",
       "      <td>42</td>\n",
       "      <td>67</td>\n",
       "      <td>84</td>\n",
       "      <td>45</td>\n",
       "      <td>95</td>\n",
       "      <td>13</td>\n",
       "      <td>61</td>\n",
       "      <td>43</td>\n",
       "    </tr>\n",
       "    <tr>\n",
       "      <th>1</th>\n",
       "      <td>18</td>\n",
       "      <td>37</td>\n",
       "      <td>95</td>\n",
       "      <td>32</td>\n",
       "      <td>53</td>\n",
       "      <td>67</td>\n",
       "      <td>14</td>\n",
       "      <td>54</td>\n",
       "      <td>8</td>\n",
       "      <td>18</td>\n",
       "      <td>...</td>\n",
       "      <td>15</td>\n",
       "      <td>2</td>\n",
       "      <td>45</td>\n",
       "      <td>80</td>\n",
       "      <td>76</td>\n",
       "      <td>15</td>\n",
       "      <td>38</td>\n",
       "      <td>39</td>\n",
       "      <td>65</td>\n",
       "      <td>3</td>\n",
       "    </tr>\n",
       "    <tr>\n",
       "      <th>2</th>\n",
       "      <td>54</td>\n",
       "      <td>39</td>\n",
       "      <td>49</td>\n",
       "      <td>11</td>\n",
       "      <td>54</td>\n",
       "      <td>67</td>\n",
       "      <td>73</td>\n",
       "      <td>30</td>\n",
       "      <td>20</td>\n",
       "      <td>78</td>\n",
       "      <td>...</td>\n",
       "      <td>81</td>\n",
       "      <td>42</td>\n",
       "      <td>46</td>\n",
       "      <td>70</td>\n",
       "      <td>24</td>\n",
       "      <td>16</td>\n",
       "      <td>16</td>\n",
       "      <td>52</td>\n",
       "      <td>1</td>\n",
       "      <td>2</td>\n",
       "    </tr>\n",
       "    <tr>\n",
       "      <th>3</th>\n",
       "      <td>91</td>\n",
       "      <td>83</td>\n",
       "      <td>8</td>\n",
       "      <td>31</td>\n",
       "      <td>5</td>\n",
       "      <td>27</td>\n",
       "      <td>41</td>\n",
       "      <td>4</td>\n",
       "      <td>100</td>\n",
       "      <td>1</td>\n",
       "      <td>...</td>\n",
       "      <td>85</td>\n",
       "      <td>70</td>\n",
       "      <td>65</td>\n",
       "      <td>41</td>\n",
       "      <td>47</td>\n",
       "      <td>24</td>\n",
       "      <td>63</td>\n",
       "      <td>41</td>\n",
       "      <td>70</td>\n",
       "      <td>33</td>\n",
       "    </tr>\n",
       "    <tr>\n",
       "      <th>4</th>\n",
       "      <td>33</td>\n",
       "      <td>31</td>\n",
       "      <td>89</td>\n",
       "      <td>48</td>\n",
       "      <td>88</td>\n",
       "      <td>59</td>\n",
       "      <td>79</td>\n",
       "      <td>74</td>\n",
       "      <td>60</td>\n",
       "      <td>17</td>\n",
       "      <td>...</td>\n",
       "      <td>45</td>\n",
       "      <td>89</td>\n",
       "      <td>36</td>\n",
       "      <td>92</td>\n",
       "      <td>96</td>\n",
       "      <td>8</td>\n",
       "      <td>12</td>\n",
       "      <td>61</td>\n",
       "      <td>38</td>\n",
       "      <td>63</td>\n",
       "    </tr>\n",
       "  </tbody>\n",
       "</table>\n",
       "<p>5 rows × 100 columns</p>\n",
       "</div>"
      ],
      "text/plain": [
       "   0   1   2   3   4   5   6   7    8   9   ...  90  91  92  93  94  95  96  \\\n",
       "0  71  31  15  65   1  22  58  14   27  32  ...  73   9  42  67  84  45  95   \n",
       "1  18  37  95  32  53  67  14  54    8  18  ...  15   2  45  80  76  15  38   \n",
       "2  54  39  49  11  54  67  73  30   20  78  ...  81  42  46  70  24  16  16   \n",
       "3  91  83   8  31   5  27  41   4  100   1  ...  85  70  65  41  47  24  63   \n",
       "4  33  31  89  48  88  59  79  74   60  17  ...  45  89  36  92  96   8  12   \n",
       "\n",
       "   97  98  99  \n",
       "0  13  61  43  \n",
       "1  39  65   3  \n",
       "2  52   1   2  \n",
       "3  41  70  33  \n",
       "4  61  38  63  \n",
       "\n",
       "[5 rows x 100 columns]"
      ]
     },
     "execution_count": 12,
     "metadata": {},
     "output_type": "execute_result"
    }
   ],
   "source": [
    "df = pd.DataFrame(np.random.randint(0,100+1, size=(50,100)))\n",
    "\n",
    "\n",
    "df.head()"
   ]
  },
  {
   "cell_type": "code",
   "execution_count": 13,
   "metadata": {},
   "outputs": [
    {
     "data": {
      "text/html": [
       "<div>\n",
       "<style scoped>\n",
       "    .dataframe tbody tr th:only-of-type {\n",
       "        vertical-align: middle;\n",
       "    }\n",
       "\n",
       "    .dataframe tbody tr th {\n",
       "        vertical-align: top;\n",
       "    }\n",
       "\n",
       "    .dataframe thead th {\n",
       "        text-align: right;\n",
       "    }\n",
       "</style>\n",
       "<table border=\"1\" class=\"dataframe\">\n",
       "  <thead>\n",
       "    <tr style=\"text-align: right;\">\n",
       "      <th></th>\n",
       "      <th>0</th>\n",
       "      <th>1</th>\n",
       "      <th>2</th>\n",
       "      <th>3</th>\n",
       "      <th>4</th>\n",
       "      <th>5</th>\n",
       "      <th>6</th>\n",
       "      <th>7</th>\n",
       "      <th>8</th>\n",
       "      <th>9</th>\n",
       "      <th>...</th>\n",
       "      <th>91</th>\n",
       "      <th>92</th>\n",
       "      <th>93</th>\n",
       "      <th>94</th>\n",
       "      <th>95</th>\n",
       "      <th>96</th>\n",
       "      <th>97</th>\n",
       "      <th>98</th>\n",
       "      <th>99</th>\n",
       "      <th>race</th>\n",
       "    </tr>\n",
       "  </thead>\n",
       "  <tbody>\n",
       "    <tr>\n",
       "      <th>0</th>\n",
       "      <td>71</td>\n",
       "      <td>31</td>\n",
       "      <td>15</td>\n",
       "      <td>65</td>\n",
       "      <td>1</td>\n",
       "      <td>22</td>\n",
       "      <td>58</td>\n",
       "      <td>14</td>\n",
       "      <td>27</td>\n",
       "      <td>32</td>\n",
       "      <td>...</td>\n",
       "      <td>9</td>\n",
       "      <td>42</td>\n",
       "      <td>67</td>\n",
       "      <td>84</td>\n",
       "      <td>45</td>\n",
       "      <td>95</td>\n",
       "      <td>13</td>\n",
       "      <td>61</td>\n",
       "      <td>43</td>\n",
       "      <td>1</td>\n",
       "    </tr>\n",
       "    <tr>\n",
       "      <th>1</th>\n",
       "      <td>18</td>\n",
       "      <td>37</td>\n",
       "      <td>95</td>\n",
       "      <td>32</td>\n",
       "      <td>53</td>\n",
       "      <td>67</td>\n",
       "      <td>14</td>\n",
       "      <td>54</td>\n",
       "      <td>8</td>\n",
       "      <td>18</td>\n",
       "      <td>...</td>\n",
       "      <td>2</td>\n",
       "      <td>45</td>\n",
       "      <td>80</td>\n",
       "      <td>76</td>\n",
       "      <td>15</td>\n",
       "      <td>38</td>\n",
       "      <td>39</td>\n",
       "      <td>65</td>\n",
       "      <td>3</td>\n",
       "      <td>0</td>\n",
       "    </tr>\n",
       "    <tr>\n",
       "      <th>2</th>\n",
       "      <td>54</td>\n",
       "      <td>39</td>\n",
       "      <td>49</td>\n",
       "      <td>11</td>\n",
       "      <td>54</td>\n",
       "      <td>67</td>\n",
       "      <td>73</td>\n",
       "      <td>30</td>\n",
       "      <td>20</td>\n",
       "      <td>78</td>\n",
       "      <td>...</td>\n",
       "      <td>42</td>\n",
       "      <td>46</td>\n",
       "      <td>70</td>\n",
       "      <td>24</td>\n",
       "      <td>16</td>\n",
       "      <td>16</td>\n",
       "      <td>52</td>\n",
       "      <td>1</td>\n",
       "      <td>2</td>\n",
       "      <td>1</td>\n",
       "    </tr>\n",
       "    <tr>\n",
       "      <th>3</th>\n",
       "      <td>91</td>\n",
       "      <td>83</td>\n",
       "      <td>8</td>\n",
       "      <td>31</td>\n",
       "      <td>5</td>\n",
       "      <td>27</td>\n",
       "      <td>41</td>\n",
       "      <td>4</td>\n",
       "      <td>100</td>\n",
       "      <td>1</td>\n",
       "      <td>...</td>\n",
       "      <td>70</td>\n",
       "      <td>65</td>\n",
       "      <td>41</td>\n",
       "      <td>47</td>\n",
       "      <td>24</td>\n",
       "      <td>63</td>\n",
       "      <td>41</td>\n",
       "      <td>70</td>\n",
       "      <td>33</td>\n",
       "      <td>1</td>\n",
       "    </tr>\n",
       "    <tr>\n",
       "      <th>4</th>\n",
       "      <td>33</td>\n",
       "      <td>31</td>\n",
       "      <td>89</td>\n",
       "      <td>48</td>\n",
       "      <td>88</td>\n",
       "      <td>59</td>\n",
       "      <td>79</td>\n",
       "      <td>74</td>\n",
       "      <td>60</td>\n",
       "      <td>17</td>\n",
       "      <td>...</td>\n",
       "      <td>89</td>\n",
       "      <td>36</td>\n",
       "      <td>92</td>\n",
       "      <td>96</td>\n",
       "      <td>8</td>\n",
       "      <td>12</td>\n",
       "      <td>61</td>\n",
       "      <td>38</td>\n",
       "      <td>63</td>\n",
       "      <td>1</td>\n",
       "    </tr>\n",
       "  </tbody>\n",
       "</table>\n",
       "<p>5 rows × 101 columns</p>\n",
       "</div>"
      ],
      "text/plain": [
       "    0   1   2   3   4   5   6   7    8   9  ...  91  92  93  94  95  96  97  \\\n",
       "0  71  31  15  65   1  22  58  14   27  32  ...   9  42  67  84  45  95  13   \n",
       "1  18  37  95  32  53  67  14  54    8  18  ...   2  45  80  76  15  38  39   \n",
       "2  54  39  49  11  54  67  73  30   20  78  ...  42  46  70  24  16  16  52   \n",
       "3  91  83   8  31   5  27  41   4  100   1  ...  70  65  41  47  24  63  41   \n",
       "4  33  31  89  48  88  59  79  74   60  17  ...  89  36  92  96   8  12  61   \n",
       "\n",
       "   98  99  race  \n",
       "0  61  43     1  \n",
       "1  65   3     0  \n",
       "2   1   2     1  \n",
       "3  70  33     1  \n",
       "4  38  63     1  \n",
       "\n",
       "[5 rows x 101 columns]"
      ]
     },
     "execution_count": 13,
     "metadata": {},
     "output_type": "execute_result"
    }
   ],
   "source": [
    "df['race']=np.random.randint(0,5,size=(50))\n",
    "df.head()"
   ]
  },
  {
   "cell_type": "code",
   "execution_count": 14,
   "metadata": {},
   "outputs": [
    {
     "data": {
      "text/plain": [
       "1    16\n",
       "0    13\n",
       "4    13\n",
       "2     4\n",
       "3     4\n",
       "Name: race, dtype: int64"
      ]
     },
     "execution_count": 14,
     "metadata": {},
     "output_type": "execute_result"
    }
   ],
   "source": [
    "df['race'].value_counts()"
   ]
  },
  {
   "cell_type": "code",
   "execution_count": 15,
   "metadata": {},
   "outputs": [],
   "source": [
    "df['ethnicity']=np.random.randint(0,3,size=(50))\n",
    "df['gender']=np.random.randint(0,2,size=(50))\n",
    "df['interest']=np.random.randint(0,5,size=(50))"
   ]
  },
  {
   "cell_type": "code",
   "execution_count": 16,
   "metadata": {},
   "outputs": [
    {
     "data": {
      "text/html": [
       "<div>\n",
       "<style scoped>\n",
       "    .dataframe tbody tr th:only-of-type {\n",
       "        vertical-align: middle;\n",
       "    }\n",
       "\n",
       "    .dataframe tbody tr th {\n",
       "        vertical-align: top;\n",
       "    }\n",
       "\n",
       "    .dataframe thead th {\n",
       "        text-align: right;\n",
       "    }\n",
       "</style>\n",
       "<table border=\"1\" class=\"dataframe\">\n",
       "  <thead>\n",
       "    <tr style=\"text-align: right;\">\n",
       "      <th></th>\n",
       "      <th>0</th>\n",
       "      <th>1</th>\n",
       "      <th>2</th>\n",
       "      <th>3</th>\n",
       "      <th>4</th>\n",
       "      <th>5</th>\n",
       "      <th>6</th>\n",
       "      <th>7</th>\n",
       "      <th>8</th>\n",
       "      <th>9</th>\n",
       "      <th>...</th>\n",
       "      <th>94</th>\n",
       "      <th>95</th>\n",
       "      <th>96</th>\n",
       "      <th>97</th>\n",
       "      <th>98</th>\n",
       "      <th>99</th>\n",
       "      <th>race</th>\n",
       "      <th>ethnicity</th>\n",
       "      <th>gender</th>\n",
       "      <th>interest</th>\n",
       "    </tr>\n",
       "  </thead>\n",
       "  <tbody>\n",
       "    <tr>\n",
       "      <th>0</th>\n",
       "      <td>71</td>\n",
       "      <td>31</td>\n",
       "      <td>15</td>\n",
       "      <td>65</td>\n",
       "      <td>1</td>\n",
       "      <td>22</td>\n",
       "      <td>58</td>\n",
       "      <td>14</td>\n",
       "      <td>27</td>\n",
       "      <td>32</td>\n",
       "      <td>...</td>\n",
       "      <td>84</td>\n",
       "      <td>45</td>\n",
       "      <td>95</td>\n",
       "      <td>13</td>\n",
       "      <td>61</td>\n",
       "      <td>43</td>\n",
       "      <td>1</td>\n",
       "      <td>0</td>\n",
       "      <td>1</td>\n",
       "      <td>4</td>\n",
       "    </tr>\n",
       "    <tr>\n",
       "      <th>1</th>\n",
       "      <td>18</td>\n",
       "      <td>37</td>\n",
       "      <td>95</td>\n",
       "      <td>32</td>\n",
       "      <td>53</td>\n",
       "      <td>67</td>\n",
       "      <td>14</td>\n",
       "      <td>54</td>\n",
       "      <td>8</td>\n",
       "      <td>18</td>\n",
       "      <td>...</td>\n",
       "      <td>76</td>\n",
       "      <td>15</td>\n",
       "      <td>38</td>\n",
       "      <td>39</td>\n",
       "      <td>65</td>\n",
       "      <td>3</td>\n",
       "      <td>0</td>\n",
       "      <td>2</td>\n",
       "      <td>1</td>\n",
       "      <td>4</td>\n",
       "    </tr>\n",
       "    <tr>\n",
       "      <th>2</th>\n",
       "      <td>54</td>\n",
       "      <td>39</td>\n",
       "      <td>49</td>\n",
       "      <td>11</td>\n",
       "      <td>54</td>\n",
       "      <td>67</td>\n",
       "      <td>73</td>\n",
       "      <td>30</td>\n",
       "      <td>20</td>\n",
       "      <td>78</td>\n",
       "      <td>...</td>\n",
       "      <td>24</td>\n",
       "      <td>16</td>\n",
       "      <td>16</td>\n",
       "      <td>52</td>\n",
       "      <td>1</td>\n",
       "      <td>2</td>\n",
       "      <td>1</td>\n",
       "      <td>1</td>\n",
       "      <td>1</td>\n",
       "      <td>0</td>\n",
       "    </tr>\n",
       "    <tr>\n",
       "      <th>3</th>\n",
       "      <td>91</td>\n",
       "      <td>83</td>\n",
       "      <td>8</td>\n",
       "      <td>31</td>\n",
       "      <td>5</td>\n",
       "      <td>27</td>\n",
       "      <td>41</td>\n",
       "      <td>4</td>\n",
       "      <td>100</td>\n",
       "      <td>1</td>\n",
       "      <td>...</td>\n",
       "      <td>47</td>\n",
       "      <td>24</td>\n",
       "      <td>63</td>\n",
       "      <td>41</td>\n",
       "      <td>70</td>\n",
       "      <td>33</td>\n",
       "      <td>1</td>\n",
       "      <td>2</td>\n",
       "      <td>1</td>\n",
       "      <td>3</td>\n",
       "    </tr>\n",
       "    <tr>\n",
       "      <th>4</th>\n",
       "      <td>33</td>\n",
       "      <td>31</td>\n",
       "      <td>89</td>\n",
       "      <td>48</td>\n",
       "      <td>88</td>\n",
       "      <td>59</td>\n",
       "      <td>79</td>\n",
       "      <td>74</td>\n",
       "      <td>60</td>\n",
       "      <td>17</td>\n",
       "      <td>...</td>\n",
       "      <td>96</td>\n",
       "      <td>8</td>\n",
       "      <td>12</td>\n",
       "      <td>61</td>\n",
       "      <td>38</td>\n",
       "      <td>63</td>\n",
       "      <td>1</td>\n",
       "      <td>2</td>\n",
       "      <td>0</td>\n",
       "      <td>4</td>\n",
       "    </tr>\n",
       "  </tbody>\n",
       "</table>\n",
       "<p>5 rows × 104 columns</p>\n",
       "</div>"
      ],
      "text/plain": [
       "    0   1   2   3   4   5   6   7    8   9  ...  94  95  96  97  98  99  race  \\\n",
       "0  71  31  15  65   1  22  58  14   27  32  ...  84  45  95  13  61  43     1   \n",
       "1  18  37  95  32  53  67  14  54    8  18  ...  76  15  38  39  65   3     0   \n",
       "2  54  39  49  11  54  67  73  30   20  78  ...  24  16  16  52   1   2     1   \n",
       "3  91  83   8  31   5  27  41   4  100   1  ...  47  24  63  41  70  33     1   \n",
       "4  33  31  89  48  88  59  79  74   60  17  ...  96   8  12  61  38  63     1   \n",
       "\n",
       "   ethnicity  gender  interest  \n",
       "0          0       1         4  \n",
       "1          2       1         4  \n",
       "2          1       1         0  \n",
       "3          2       1         3  \n",
       "4          2       0         4  \n",
       "\n",
       "[5 rows x 104 columns]"
      ]
     },
     "execution_count": 16,
     "metadata": {},
     "output_type": "execute_result"
    }
   ],
   "source": [
    "df.head()"
   ]
  },
  {
   "cell_type": "code",
   "execution_count": null,
   "metadata": {},
   "outputs": [],
   "source": []
  },
  {
   "cell_type": "code",
   "execution_count": 17,
   "metadata": {},
   "outputs": [
    {
     "data": {
      "image/png": "[encoded data removed]",
      "text/plain": [
       "<Figure size 1080x1440 with 5 Axes>"
      ]
     },
     "metadata": {
      "needs_background": "light"
     },
     "output_type": "display_data"
    }
   ],
   "source": [
    "tmp=df.copy()\n",
    "tmp=tmp.sort_values(['interest'])\n",
    "#tmp.set_index(['subject'],inplace=True) # using index as \"subject\"\n",
    "\n",
    "labels=[]\n",
    "labels.append(tmp.pop('interest'))\n",
    "labels.append(tmp.pop('race'))\n",
    "labels.append(tmp.pop('ethnicity'))\n",
    "labels.append(tmp.pop('gender'))\n",
    "\n",
    "tmp=tmp.T\n",
    "\n",
    "pal=[]\n",
    "lut=[]\n",
    "colors=[]\n",
    "for i in range(len(labels)):\n",
    "    #print(i)\n",
    "    pal.append(sns.cubehelix_palette(len(set(labels[i])),\n",
    "        light=.9, dark=.1, reverse=True,\n",
    "        start=1, rot=-2))\n",
    "    lut.append(dict(zip(labels[i].unique(), pal[i])))\n",
    "    colors.append(pd.Series(labels[i], index=tmp.columns).map(lut[i]))\n",
    "\n",
    "col_colors=pd.concat(colors,axis=1)\n",
    "\n",
    "\n",
    "g=sns.clustermap(tmp,col_cluster=False,figsize=(15,20),cmap=\"Spectral\",\n",
    "                 col_colors=col_colors,xticklabels=True)\n",
    "g.fig.suptitle(\"Clustermap\")\n",
    "plt.setp(g.ax_heatmap.get_xticklabels(), rotation=75, horizontalalignment='right')\n",
    "\n",
    "# Draw the legend bar for the classes  \n",
    "for i in range(len(labels)):\n",
    "    for label in labels[i].unique():\n",
    "        g.ax_col_dendrogram.bar(0, 0, color=lut[i][label],\n",
    "                                label=label, linewidth=0)\n",
    "g.ax_col_dendrogram.legend(loc=\"center\", ncol=4)\n",
    "\n",
    "# Adjust the postion of the main colorbar for the heatmap\n",
    "g.cax.set_position([0, .15, .005, .6])\n",
    "plt.show()"
   ]
  },
  {
   "cell_type": "markdown",
   "metadata": {},
   "source": [
    "Obviously, purely random noise"
   ]
  },
  {
   "cell_type": "markdown",
   "metadata": {},
   "source": [
    "No known way to have multiple column dendrogram legends."
   ]
  },
  {
   "cell_type": "code",
   "execution_count": null,
   "metadata": {},
   "outputs": [],
   "source": []
  }
 ],
 "metadata": {
  "kernelspec": {
   "display_name": "Python 3",
   "language": "python",
   "name": "python3"
  },
  "language_info": {
   "codemirror_mode": {
    "name": "ipython",
    "version": 3
   },
   "file_extension": ".py",
   "mimetype": "text/x-python",
   "name": "python",
   "nbconvert_exporter": "python",
   "pygments_lexer": "ipython3",
   "version": "3.8.10"
  }
 },
 "nbformat": 4,
 "nbformat_minor": 2
}
