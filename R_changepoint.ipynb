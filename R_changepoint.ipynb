{
 "cells": [
  {
   "cell_type": "markdown",
   "metadata": {},
   "source": [
    "Forecasting"
   ]
  },
  {
   "cell_type": "code",
   "execution_count": 1,
   "metadata": {},
   "outputs": [
    {
     "name": "stderr",
     "output_type": "stream",
     "text": [
      "Loading required package: zoo\n",
      "\n",
      "Attaching package: ‘zoo’\n",
      "\n",
      "The following objects are masked from ‘package:base’:\n",
      "\n",
      "    as.Date, as.Date.numeric\n",
      "\n",
      "Successfully loaded changepoint package version 2.2.2\n",
      " NOTE: Predefined penalty values changed in version 2.2.  Previous penalty values with a postfix 1 i.e. SIC1 are now without i.e. SIC and previous penalties without a postfix i.e. SIC are now with a postfix 0 i.e. SIC0. See NEWS and help files for further details.\n"
     ]
    }
   ],
   "source": [
    "library(changepoint)"
   ]
  },
  {
   "cell_type": "code",
   "execution_count": 2,
   "metadata": {},
   "outputs": [],
   "source": [
    "susceptibilities=c(60, 96, 95, 94, 95, 60, 97, 83, 79, 80, 78, 71, 81, 80, 80, 60, 61, 60, 83, 82, 82, 78)"
   ]
  },
  {
   "cell_type": "code",
   "execution_count": 3,
   "metadata": {},
   "outputs": [
    {
     "data": {
      "text/html": [
       "22"
      ],
      "text/latex": [
       "22"
      ],
      "text/markdown": [
       "22"
      ],
      "text/plain": [
       "[1] 22"
      ]
     },
     "metadata": {},
     "output_type": "display_data"
    }
   ],
   "source": [
    "n=length(susceptibilities)\n",
    "n"
   ]
  },
  {
   "cell_type": "code",
   "execution_count": 4,
   "metadata": {},
   "outputs": [
    {
     "name": "stderr",
     "output_type": "stream",
     "text": [
      "Warning message in penalty_decision(penalty, pen.value, n, diffparam, asymcheck = costfunc, :\n",
      "“Asymptotic penalty value is not accurate for multiple changes, it should be treated the same as a manual penalty choice.”"
     ]
    }
   ],
   "source": [
    "change_points = cpt.mean(susceptibilities, method = \"PELT\", penalty = \"Asymptotic\",\n",
    "\tpen.value = 0.05, class = TRUE, param.estimates = TRUE, test.stat = \"Normal\")"
   ]
  },
  {
   "cell_type": "code",
   "execution_count": 5,
   "metadata": {},
   "outputs": [
    {
     "data": {
      "text/plain": [
       "Class 'cpt' : Changepoint Object\n",
       "       ~~   : S4 class containing 12 slots with names\n",
       "              cpttype date version data.set method test.stat pen.type pen.value minseglen cpts ncpts.max param.est \n",
       "\n",
       "Created on  : Fri Sep 28 07:29:21 2018 \n",
       "\n",
       "summary(.)  :\n",
       "----------\n",
       "Created Using changepoint version 2.2.2 \n",
       "Changepoint type      : Change in mean \n",
       "Method of analysis    : PELT \n",
       "Test Statistic  : Normal \n",
       "Type of penalty       : Asymptotic with value, 19.02692 \n",
       "Minimum Segment Length : 1 \n",
       "Maximum no. of cpts   : Inf \n",
       "Changepoint Locations : 1 5 6 7 11 12 15 18 "
      ]
     },
     "metadata": {},
     "output_type": "display_data"
    }
   ],
   "source": [
    "change_points"
   ]
  },
  {
   "cell_type": "markdown",
   "metadata": {},
   "source": [
    "Seems really excessive"
   ]
  },
  {
   "cell_type": "markdown",
   "metadata": {},
   "source": [
    ".\n",
    "\n",
    ".\n",
    "\n",
    "**From the documentation ... A changepoint is denoted as the first observation of the new segment / regime.**\n",
    "\n",
    "This seems odd, given this example of clearly broken data.\n",
    "\n",
    "R is a 1-based index (not 0). The changepoint locations returned seem to be more likely the LAST point in the CURRENT segment.\n",
    "\n",
    ".\n",
    "\n",
    ".\n",
    "\n",
    ".\n",
    "\n",
    "\n"
   ]
  },
  {
   "cell_type": "code",
   "execution_count": 6,
   "metadata": {},
   "outputs": [
    {
     "data": {
      "text/html": [
       "8"
      ],
      "text/latex": [
       "8"
      ],
      "text/markdown": [
       "8"
      ],
      "text/plain": [
       "[1] 8"
      ]
     },
     "metadata": {},
     "output_type": "display_data"
    }
   ],
   "source": [
    "number_of_change_points = length(cpts(change_points))\n",
    "number_of_change_points"
   ]
  },
  {
   "cell_type": "code",
   "execution_count": 7,
   "metadata": {},
   "outputs": [
    {
     "data": {
      "text/html": [
       "<ol class=list-inline>\n",
       "\t<li>1</li>\n",
       "\t<li>5</li>\n",
       "\t<li>6</li>\n",
       "\t<li>7</li>\n",
       "\t<li>11</li>\n",
       "\t<li>12</li>\n",
       "\t<li>15</li>\n",
       "\t<li>18</li>\n",
       "</ol>\n"
      ],
      "text/latex": [
       "\\begin{enumerate*}\n",
       "\\item 1\n",
       "\\item 5\n",
       "\\item 6\n",
       "\\item 7\n",
       "\\item 11\n",
       "\\item 12\n",
       "\\item 15\n",
       "\\item 18\n",
       "\\end{enumerate*}\n"
      ],
      "text/markdown": [
       "1. 1\n",
       "2. 5\n",
       "3. 6\n",
       "4. 7\n",
       "5. 11\n",
       "6. 12\n",
       "7. 15\n",
       "8. 18\n",
       "\n",
       "\n"
      ],
      "text/plain": [
       "[1]  1  5  6  7 11 12 15 18"
      ]
     },
     "metadata": {},
     "output_type": "display_data"
    }
   ],
   "source": [
    "cpts(change_points)"
   ]
  },
  {
   "cell_type": "code",
   "execution_count": 8,
   "metadata": {},
   "outputs": [
    {
     "name": "stdout",
     "output_type": "stream",
     "text": [
      "[1]  1  5  6  7 11 12 15 18\n"
     ]
    }
   ],
   "source": [
    "indices = cpts(change_points)\n",
    "print(indices)"
   ]
  },
  {
   "cell_type": "code",
   "execution_count": 9,
   "metadata": {},
   "outputs": [
    {
     "name": "stdout",
     "output_type": "stream",
     "text": [
      "[1] \"First segment : 60\"\n",
      "[1] \"Mid segment : 96, 95, 94, 95\"\n",
      "[1] \"Mid segment : 60\"\n",
      "[1] \"Mid segment : 97\"\n",
      "[1] \"Mid segment : 83, 79, 80, 78\"\n",
      "[1] \"Mid segment : 71\"\n",
      "[1] \"Mid segment : 81, 80, 80\"\n",
      "[1] \"Mid segment : 60, 61, 60\"\n",
      "[1] \"Last segment : 83, 82, 82, 78\"\n"
     ]
    }
   ],
   "source": [
    "for(i in 0:length(indices)){\n",
    "    if(i == 0){\n",
    "        print(paste0(\"First segment : \", toString(susceptibilities[1:indices[i+1]])))\n",
    "    } else if ( i == length(indices) ){\n",
    "        print(paste0(\"Last segment : \", toString(susceptibilities[(indices[i]+1):length(susceptibilities)])))\n",
    "    } else {\n",
    "        print(paste0(\"Mid segment : \", toString(susceptibilities[(indices[i]+1):indices[i+1]])))\n",
    "\n",
    "    }\n",
    "}"
   ]
  },
  {
   "cell_type": "code",
   "execution_count": null,
   "metadata": {},
   "outputs": [],
   "source": []
  },
  {
   "cell_type": "code",
   "execution_count": 10,
   "metadata": {},
   "outputs": [
    {
     "data": {
      "text/html": [
       "'integer'"
      ],
      "text/latex": [
       "'integer'"
      ],
      "text/markdown": [
       "'integer'"
      ],
      "text/plain": [
       "[1] \"integer\""
      ]
     },
     "metadata": {},
     "output_type": "display_data"
    }
   ],
   "source": [
    "class(cpts(change_points))"
   ]
  },
  {
   "cell_type": "code",
   "execution_count": 11,
   "metadata": {},
   "outputs": [
    {
     "data": {
      "text/html": [
       "18"
      ],
      "text/latex": [
       "18"
      ],
      "text/markdown": [
       "18"
      ],
      "text/plain": [
       "[1] 18"
      ]
     },
     "metadata": {},
     "output_type": "display_data"
    }
   ],
   "source": [
    "last_change_point = cpts(change_points)[number_of_change_points]\n",
    "last_change_point"
   ]
  },
  {
   "cell_type": "markdown",
   "metadata": {},
   "source": [
    "These susceptiblities correspond to the following years."
   ]
  },
  {
   "cell_type": "code",
   "execution_count": 12,
   "metadata": {},
   "outputs": [
    {
     "data": {
      "text/html": [
       "<ol class=list-inline>\n",
       "\t<li>1988</li>\n",
       "\t<li>1989</li>\n",
       "\t<li>1990</li>\n",
       "\t<li>1991</li>\n",
       "\t<li>1992</li>\n",
       "\t<li>1993</li>\n",
       "\t<li>1994</li>\n",
       "\t<li>1995</li>\n",
       "\t<li>1996</li>\n",
       "\t<li>1997</li>\n",
       "\t<li>1998</li>\n",
       "\t<li>1999</li>\n",
       "\t<li>2000</li>\n",
       "\t<li>2001</li>\n",
       "\t<li>2002</li>\n",
       "\t<li>2003</li>\n",
       "\t<li>2004</li>\n",
       "\t<li>2005</li>\n",
       "\t<li>2006</li>\n",
       "\t<li>2007</li>\n",
       "\t<li>2008</li>\n",
       "\t<li>2009</li>\n",
       "</ol>\n"
      ],
      "text/latex": [
       "\\begin{enumerate*}\n",
       "\\item 1988\n",
       "\\item 1989\n",
       "\\item 1990\n",
       "\\item 1991\n",
       "\\item 1992\n",
       "\\item 1993\n",
       "\\item 1994\n",
       "\\item 1995\n",
       "\\item 1996\n",
       "\\item 1997\n",
       "\\item 1998\n",
       "\\item 1999\n",
       "\\item 2000\n",
       "\\item 2001\n",
       "\\item 2002\n",
       "\\item 2003\n",
       "\\item 2004\n",
       "\\item 2005\n",
       "\\item 2006\n",
       "\\item 2007\n",
       "\\item 2008\n",
       "\\item 2009\n",
       "\\end{enumerate*}\n"
      ],
      "text/markdown": [
       "1. 1988\n",
       "2. 1989\n",
       "3. 1990\n",
       "4. 1991\n",
       "5. 1992\n",
       "6. 1993\n",
       "7. 1994\n",
       "8. 1995\n",
       "9. 1996\n",
       "10. 1997\n",
       "11. 1998\n",
       "12. 1999\n",
       "13. 2000\n",
       "14. 2001\n",
       "15. 2002\n",
       "16. 2003\n",
       "17. 2004\n",
       "18. 2005\n",
       "19. 2006\n",
       "20. 2007\n",
       "21. 2008\n",
       "22. 2009\n",
       "\n",
       "\n"
      ],
      "text/plain": [
       " [1] 1988 1989 1990 1991 1992 1993 1994 1995 1996 1997 1998 1999 2000 2001 2002\n",
       "[16] 2003 2004 2005 2006 2007 2008 2009"
      ]
     },
     "metadata": {},
     "output_type": "display_data"
    }
   ],
   "source": [
    "Year = 1988:2009\n",
    "Year"
   ]
  },
  {
   "cell_type": "code",
   "execution_count": 13,
   "metadata": {},
   "outputs": [
    {
     "data": {
      "text/html": [
       "22"
      ],
      "text/latex": [
       "22"
      ],
      "text/markdown": [
       "22"
      ],
      "text/plain": [
       "[1] 22"
      ]
     },
     "metadata": {},
     "output_type": "display_data"
    }
   ],
   "source": [
    "length(Year)"
   ]
  },
  {
   "cell_type": "code",
   "execution_count": 14,
   "metadata": {},
   "outputs": [
    {
     "data": {
      "text/html": [
       "<ol class=list-inline>\n",
       "\t<li>83</li>\n",
       "\t<li>82</li>\n",
       "\t<li>82</li>\n",
       "\t<li>78</li>\n",
       "</ol>\n"
      ],
      "text/latex": [
       "\\begin{enumerate*}\n",
       "\\item 83\n",
       "\\item 82\n",
       "\\item 82\n",
       "\\item 78\n",
       "\\end{enumerate*}\n"
      ],
      "text/markdown": [
       "1. 83\n",
       "2. 82\n",
       "3. 82\n",
       "4. 78\n",
       "\n",
       "\n"
      ],
      "text/plain": [
       "[1] 83 82 82 78"
      ]
     },
     "metadata": {},
     "output_type": "display_data"
    }
   ],
   "source": [
    "susceptibilities[(last_change_point+1):n]"
   ]
  },
  {
   "cell_type": "code",
   "execution_count": 15,
   "metadata": {},
   "outputs": [
    {
     "data": {
      "text/html": [
       "<ol class=list-inline>\n",
       "\t<li>2006</li>\n",
       "\t<li>2007</li>\n",
       "\t<li>2008</li>\n",
       "\t<li>2009</li>\n",
       "</ol>\n"
      ],
      "text/latex": [
       "\\begin{enumerate*}\n",
       "\\item 2006\n",
       "\\item 2007\n",
       "\\item 2008\n",
       "\\item 2009\n",
       "\\end{enumerate*}\n"
      ],
      "text/markdown": [
       "1. 2006\n",
       "2. 2007\n",
       "3. 2008\n",
       "4. 2009\n",
       "\n",
       "\n"
      ],
      "text/plain": [
       "[1] 2006 2007 2008 2009"
      ]
     },
     "metadata": {},
     "output_type": "display_data"
    }
   ],
   "source": [
    "Year[(last_change_point+1):n]"
   ]
  },
  {
   "cell_type": "code",
   "execution_count": 16,
   "metadata": {},
   "outputs": [
    {
     "data": {
      "text/plain": [
       "\n",
       "Call:\n",
       "lm(formula = (susceptibilities[(last_change_point + 1):n]) ~ \n",
       "    (Year[(last_change_point + 1):n]))\n",
       "\n",
       "Coefficients:\n",
       "                    (Intercept)  Year[(last_change_point + 1):n]  \n",
       "                         3092.5                             -1.5  \n"
      ]
     },
     "metadata": {},
     "output_type": "display_data"
    }
   ],
   "source": [
    "model<-lm((susceptibilities[(last_change_point+1):n])~(Year[(last_change_point+1):n]))\n",
    "model"
   ]
  },
  {
   "cell_type": "code",
   "execution_count": 17,
   "metadata": {},
   "outputs": [
    {
     "data": {
      "text/html": [
       "<strong>(Intercept):</strong> 62.5"
      ],
      "text/latex": [
       "\\textbf{(Intercept):} 62.5"
      ],
      "text/markdown": [
       "**(Intercept):** 62.5"
      ],
      "text/plain": [
       "(Intercept) \n",
       "       62.5 "
      ]
     },
     "metadata": {},
     "output_type": "display_data"
    }
   ],
   "source": [
    "prediction<-(model$coefficients[1])+(2020*(model$coefficients[2]))\n",
    "prediction"
   ]
  },
  {
   "cell_type": "code",
   "execution_count": 18,
   "metadata": {},
   "outputs": [
    {
     "data": {
      "image/png": "[encoded data removed]",
      "text/plain": [
       "plot without title"
      ]
     },
     "metadata": {},
     "output_type": "display_data"
    }
   ],
   "source": [
    "plot(Year,susceptibilities,\n",
    "    ylim=c(60,100),xlim=c(1987,2020),xlab=\"Year\",ylab=\"Susceptibility\")\n",
    "abline(model$coefficients,col='blue')\n",
    "abline(h=62.6,col='red')"
   ]
  },
  {
   "cell_type": "code",
   "execution_count": null,
   "metadata": {},
   "outputs": [],
   "source": []
  }
 ],
 "metadata": {
  "kernelspec": {
   "display_name": "R",
   "language": "R",
   "name": "ir"
  },
  "language_info": {
   "codemirror_mode": "r",
   "file_extension": ".r",
   "mimetype": "text/x-r-source",
   "name": "R",
   "pygments_lexer": "r",
   "version": "3.5.0"
  }
 },
 "nbformat": 4,
 "nbformat_minor": 2
}
