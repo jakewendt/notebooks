{
 "cells": [
  {
   "cell_type": "markdown",
   "metadata": {},
   "source": [
    "Finding dark, non-human, sequences in human samples"
   ]
  },
  {
   "cell_type": "code",
   "execution_count": 1,
   "metadata": {},
   "outputs": [
    {
     "name": "stdout",
     "output_type": "stream",
     "text": [
      "-r--r--r-- 1 jakewendt staff 596573517 Feb  1 11:17 24_S10_L001_R1_001.fastq.gz\n",
      "-r--r--r-- 1 jakewendt staff 638346591 Feb  1 11:18 24_S10_L001_R2_001.fastq.gz\n"
     ]
    }
   ],
   "source": [
    "cd ~/s3/herv/20180201.MexicanLeukemiaTest/\n",
    "base=24_S10_L001\n",
    "ls -l ${base}*z"
   ]
  },
  {
   "cell_type": "code",
   "execution_count": 2,
   "metadata": {},
   "outputs": [],
   "source": [
    "export BOWTIE2_INDEXES=~/BOWTIE2_INDEXES"
   ]
  },
  {
   "cell_type": "code",
   "execution_count": 3,
   "metadata": {},
   "outputs": [
    {
     "name": "stdout",
     "output_type": "stream",
     "text": [
      "11528749 reads; of these:\n",
      "  11528749 (100.00%) were paired; of these:\n",
      "    1277974 (11.09%) aligned concordantly 0 times\n",
      "    6042072 (52.41%) aligned concordantly exactly 1 time\n",
      "    4208703 (36.51%) aligned concordantly >1 times\n",
      "    ----\n",
      "    1277974 pairs aligned concordantly 0 times; of these:\n",
      "      107633 (8.42%) aligned discordantly 1 time\n",
      "    ----\n",
      "    1170341 pairs aligned 0 times concordantly or discordantly; of these:\n",
      "      2340682 mates make up the pairs; of these:\n",
      "        1579528 (67.48%) aligned 0 times\n",
      "        480697 (20.54%) aligned exactly 1 time\n",
      "        280457 (11.98%) aligned >1 times\n",
      "93.15% overall alignment rate\n",
      "\n",
      "real\t23m1.887s\n",
      "user\t173m7.075s\n",
      "sys\t0m50.856s\n"
     ]
    }
   ],
   "source": [
    "time bowtie2 --threads 8 --very-sensitive -x hg38 \\\n",
    "    -1 ${base}_R1_001.fastq.gz \\\n",
    "    -2 ${base}_R2_001.fastq.gz \\\n",
    "    -S ${base}.sam"
   ]
  },
  {
   "cell_type": "code",
   "execution_count": 5,
   "metadata": {},
   "outputs": [
    {
     "name": "stdout",
     "output_type": "stream",
     "text": [
      "[bam_sort_core] merging from 14 files...\n",
      "\n",
      "real\t2m6.414s\n",
      "user\t10m5.843s\n",
      "sys\t0m14.409s\n"
     ]
    }
   ],
   "source": [
    "time samtools sort --threads 7 -n -o ${base}.bam ${base}.sam"
   ]
  },
  {
   "cell_type": "code",
   "execution_count": 6,
   "metadata": {},
   "outputs": [
    {
     "name": "stdout",
     "output_type": "stream",
     "text": [
      "[M::bam2fq_mainloop] discarded 0 singletons\n",
      "[M::bam2fq_mainloop] processed 2555948 reads\n",
      "\n",
      "real\t0m7.634s\n",
      "user\t0m22.876s\n",
      "sys\t0m3.544s\n"
     ]
    }
   ],
   "source": [
    "time samtools fasta -F 2 --threads 7 -N ${base}.bam > ${base}.nonhg38.fasta"
   ]
  },
  {
   "cell_type": "code",
   "execution_count": 7,
   "metadata": {},
   "outputs": [],
   "source": [
    "export BLASTDB=~/BLAST_DBS"
   ]
  },
  {
   "cell_type": "code",
   "execution_count": 8,
   "metadata": {},
   "outputs": [
    {
     "name": "stdout",
     "output_type": "stream",
     "text": [
      "\n",
      "real\t6m5.333s\n",
      "user\t7m33.020s\n",
      "sys\t0m30.436s\n"
     ]
    }
   ],
   "source": [
    "time blastn -query ${base}.nonhg38.fasta -db viral -num_threads 8 2> /dev/null > ${base}.nonhg38.blastn.txt"
   ]
  },
  {
   "cell_type": "code",
   "execution_count": 9,
   "metadata": {},
   "outputs": [
    {
     "name": "stdout",
     "output_type": "stream",
     "text": [
      "\n",
      "real\t1m58.435s\n",
      "user\t4m38.562s\n",
      "sys\t1m33.158s\n"
     ]
    }
   ],
   "source": [
    "time diamond blastx --outfmt 0 --threads 8  --db ~/DIAMOND/viral --query ${base}.nonhg38.fasta 2> /dev/null > ${base}.nonhg38.diamond.txt"
   ]
  },
  {
   "cell_type": "code",
   "execution_count": 10,
   "metadata": {},
   "outputs": [
    {
     "name": "stdout",
     "output_type": "stream",
     "text": [
      "\r\n",
      "\r\n",
      "real\t159m35.032s\r\n",
      "user\t1078m1.815s\r\n",
      "sys\t3m53.238s\r\n"
     ]
    }
   ],
   "source": [
    "time tblastx -query ${base}.nonhg38.fasta -db viral -num_threads 8 2> /dev/null > ${base}.nonhg38.tblastx.txt"
   ]
  },
  {
   "cell_type": "markdown",
   "metadata": {},
   "source": [
    "OK. So tblastx was taking forever. After a couple hours, still only 5% done. Just don't ever use it.\n",
    "Let's count the lines in the output files."
   ]
  },
  {
   "cell_type": "code",
   "execution_count": 11,
   "metadata": {},
   "outputs": [
    {
     "name": "stdout",
     "output_type": "stream",
     "text": [
      "24_S10_L001.nonhg38.blastn.txt:2555948\n",
      "24_S10_L001.nonhg38.diamond.txt:2555948\n",
      "24_S10_L001.nonhg38.tblastx.txt:148176\n"
     ]
    }
   ],
   "source": [
    "grep -c \"^Query= \" 24_S10_L001.nonhg38.*t"
   ]
  },
  {
   "cell_type": "markdown",
   "metadata": {},
   "source": [
    "And let's count the reads in the raw fastq files."
   ]
  },
  {
   "cell_type": "code",
   "execution_count": 12,
   "metadata": {},
   "outputs": [
    {
     "name": "stdout",
     "output_type": "stream",
     "text": [
      "11528749\n"
     ]
    }
   ],
   "source": [
    "zcat 24_S10_L001_R2_001.fastq.gz | grep -c \"^@NS\""
   ]
  },
  {
   "cell_type": "markdown",
   "metadata": {},
   "source": [
    "And the queried fasta file."
   ]
  },
  {
   "cell_type": "code",
   "execution_count": 13,
   "metadata": {},
   "outputs": [
    {
     "name": "stdout",
     "output_type": "stream",
     "text": [
      "2555948\n"
     ]
    }
   ],
   "source": [
    "grep -c \"^>\" 24_S10_L001.nonhg38.fasta"
   ]
  },
  {
   "cell_type": "markdown",
   "metadata": {},
   "source": [
    "Good. The reads in the fasta file and the number of queries are the same."
   ]
  },
  {
   "cell_type": "code",
   "execution_count": 14,
   "metadata": {},
   "outputs": [
    {
     "name": "stdout",
     "output_type": "stream",
     "text": [
      "-rw-r--r-- 1 jakewendt staff 607835828 Feb 12 11:31 24_S10_L001.nonhg38.blastn.txt\n",
      "-rw-r--r-- 1 jakewendt staff 232184755 Feb 12 11:34 24_S10_L001.nonhg38.diamond.txt\n"
     ]
    }
   ],
   "source": [
    "ls -l ${base}.nonhg38.blastn.txt ${base}.nonhg38.diamond.txt"
   ]
  },
  {
   "cell_type": "markdown",
   "metadata": {},
   "source": [
    "Diamond was faster, but the output is smaller."
   ]
  },
  {
   "cell_type": "code",
   "execution_count": 15,
   "metadata": {},
   "outputs": [
    {
     "name": "stdout",
     "output_type": "stream",
     "text": [
      "24_S10_L001.nonhg38.blastn.txt:2550436\n",
      "24_S10_L001.nonhg38.diamond.txt:2551993\n"
     ]
    }
   ],
   "source": [
    "grep -c \"No hits found\" ${base}.nonhg38.blastn.txt ${base}.nonhg38.diamond.txt"
   ]
  },
  {
   "cell_type": "markdown",
   "metadata": {},
   "source": [
    "And it found less. Granted both didn't find much."
   ]
  },
  {
   "cell_type": "code",
   "execution_count": 16,
   "metadata": {},
   "outputs": [
    {
     "name": "stdout",
     "output_type": "stream",
     "text": [
      "36163\n"
     ]
    }
   ],
   "source": [
    "grep -c \"No hits found\" ${base}.nonhg38.tblastx.txt"
   ]
  },
  {
   "cell_type": "markdown",
   "metadata": {},
   "source": [
    "So tblastx found something for about 2/3 of the queries, whilst blastn and diamond only matched 1-2%."
   ]
  }
 ],
 "metadata": {
  "kernelspec": {
   "display_name": "Bash",
   "language": "bash",
   "name": "bash"
  },
  "language_info": {
   "codemirror_mode": "shell",
   "file_extension": ".sh",
   "mimetype": "text/x-sh",
   "name": "bash"
  }
 },
 "nbformat": 4,
 "nbformat_minor": 2
}
