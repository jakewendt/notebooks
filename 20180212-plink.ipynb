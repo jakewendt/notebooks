{
 "cells": [
  {
   "cell_type": "code",
   "execution_count": 6,
   "metadata": {},
   "outputs": [],
   "source": [
    "population=eur\n",
    "BASE=~/snpprocessing\n",
    "REFS=$BASE/references\n",
    "WORK=$BASE/working\n",
    "S3_SOURCE=s3://herv/snp-20160701\n",
    "pheno_name=phenoY"
   ]
  },
  {
   "cell_type": "code",
   "execution_count": 2,
   "metadata": {},
   "outputs": [
    {
     "name": "stdout",
     "output_type": "stream",
     "text": [
      "/Users/jakewendt/snpprocessing/references/pruned_vcfs/eur/ALL.chr1.phase3_shapeit2_mvncall_integrated_v5a.20130502.genotypes.vcf.eur.pruned.bed\n",
      "/Users/jakewendt/snpprocessing/references/pruned_vcfs/eur/ALL.chr10.phase3_shapeit2_mvncall_integrated_v5a.20130502.genotypes.vcf.eur.pruned.bed\n",
      "/Users/jakewendt/snpprocessing/references/pruned_vcfs/eur/ALL.chr11.phase3_shapeit2_mvncall_integrated_v5a.20130502.genotypes.vcf.eur.pruned.bed\n",
      "/Users/jakewendt/snpprocessing/references/pruned_vcfs/eur/ALL.chr12.phase3_shapeit2_mvncall_integrated_v5a.20130502.genotypes.vcf.eur.pruned.bed\n",
      "/Users/jakewendt/snpprocessing/references/pruned_vcfs/eur/ALL.chr13.phase3_shapeit2_mvncall_integrated_v5a.20130502.genotypes.vcf.eur.pruned.bed\n",
      "/Users/jakewendt/snpprocessing/references/pruned_vcfs/eur/ALL.chr14.phase3_shapeit2_mvncall_integrated_v5a.20130502.genotypes.vcf.eur.pruned.bed\n",
      "/Users/jakewendt/snpprocessing/references/pruned_vcfs/eur/ALL.chr15.phase3_shapeit2_mvncall_integrated_v5a.20130502.genotypes.vcf.eur.pruned.bed\n",
      "/Users/jakewendt/snpprocessing/references/pruned_vcfs/eur/ALL.chr16.phase3_shapeit2_mvncall_integrated_v5a.20130502.genotypes.vcf.eur.pruned.bed\n",
      "/Users/jakewendt/snpprocessing/references/pruned_vcfs/eur/ALL.chr17.phase3_shapeit2_mvncall_integrated_v5a.20130502.genotypes.vcf.eur.pruned.bed\n",
      "/Users/jakewendt/snpprocessing/references/pruned_vcfs/eur/ALL.chr18.phase3_shapeit2_mvncall_integrated_v5a.20130502.genotypes.vcf.eur.pruned.bed\n"
     ]
    }
   ],
   "source": [
    "ls ${REFS}/pruned_vcfs/${population}/ALL.chr*.bed | head"
   ]
  },
  {
   "cell_type": "code",
   "execution_count": 3,
   "metadata": {},
   "outputs": [
    {
     "name": "stdout",
     "output_type": "stream",
     "text": [
      "/Users/jakewendt/snpprocessing/references/pruned_vcfs/eur/ALL.chr1.phase3_shapeit2_mvncall_integrated_v5a.20130502.genotypes.vcf.eur.pruned.bed\n"
     ]
    }
   ],
   "source": [
    "bedfile=$( ls ${REFS}/pruned_vcfs/${population}/ALL.chr*.bed | head -1 )\n",
    "echo $bedfile"
   ]
  },
  {
   "cell_type": "code",
   "execution_count": 4,
   "metadata": {},
   "outputs": [
    {
     "name": "stdout",
     "output_type": "stream",
     "text": [
      "ALL.chr1.phase3_shapeit2_mvncall_integrated_v5a.20130502.genotypes.vcf.eur.pruned\n"
     ]
    }
   ],
   "source": [
    "bedfile_noext=${bedfile%.*}\n",
    "bedfile_core=${bedfile_noext##*/}\n",
    "echo $bedfile_core"
   ]
  },
  {
   "cell_type": "code",
   "execution_count": 7,
   "metadata": {},
   "outputs": [
    {
     "name": "stdout",
     "output_type": "stream",
     "text": [
      "PLINK v1.90b5.2 64-bit (9 Jan 2018)            www.cog-genomics.org/plink/1.9/\n",
      "(C) 2005-2018 Shaun Purcell, Christopher Chang   GNU General Public License v3\n",
      "Logging to ALL.chr1.phase3_shapeit2_mvncall_integrated_v5a.20130502.genotypes.vcf.eur.pruned.no.covar.log.\n",
      "Options in effect:\n",
      "  --allow-no-sex\n",
      "  --bfile /Users/jakewendt/snpprocessing/references/pruned_vcfs/eur/ALL.chr1.phase3_shapeit2_mvncall_integrated_v5a.20130502.genotypes.vcf.eur.pruned\n",
      "  --covar /Users/jakewendt/snpprocessing/references/1kg_all_chroms_pruned_mds.mds\n",
      "  --covar-name C1,C2,C3,C4,C5,C6\n",
      "  --linear standard-beta hide-covar\n",
      "  --out ALL.chr1.phase3_shapeit2_mvncall_integrated_v5a.20130502.genotypes.vcf.eur.pruned.no.covar\n",
      "  --pheno /Users/jakewendt/snpprocessing/references/phenoY\n",
      "  --snps-only\n",
      "  --vif 500\n",
      "\n",
      "16384 MB RAM detected; reserving 8192 MB for main workspace.\n",
      "1765884 out of 1899399 variants loaded from .bim file.\n",
      "503 people (0 males, 0 females, 503 ambiguous) loaded from .fam.\n",
      "Ambiguous sex IDs written to\n",
      "ALL.chr1.phase3_shapeit2_mvncall_integrated_v5a.20130502.genotypes.vcf.eur.pruned.no.covar.nosex\n",
      ".\n",
      "240 phenotype values present after --pheno.\n",
      "Using 1 thread (no multithreaded calculations invoked).\n",
      "--covar: 6 out of 11 covariates loaded.\n",
      "Before main variant filters, 503 founders and 0 nonfounders present.\n",
      "Calculating allele frequencies... 10111213141516171819202122232425262728293031323334353637383940414243444546474849505152535455565758596061626364656667686970717273747576777879808182838485868788899091929394959697989 done.\n",
      "Total genotyping rate is 0.999898.\n",
      "1765884 variants and 503 people pass filters and QC.\n",
      "Phenotype data is quantitative.\n",
      "Writing linear model association results to\n",
      "ALL.chr1.phase3_shapeit2_mvncall_integrated_v5a.20130502.genotypes.vcf.eur.pruned.no.covar.assoc.linear\n",
      "... 101112131415161718192021222324252627282930313233343536373839404142434445464748495051525354555657585960616263646566676869707172737475767778798081828384858687888990919293949596979899done.\n"
     ]
    }
   ],
   "source": [
    "plink \\\n",
    "    --vif 500 \\\n",
    "    --snps-only \\\n",
    "    --allow-no-sex \\\n",
    "    --linear standard-beta hide-covar \\\n",
    "    --covar-name C1,C2,C3,C4,C5,C6 \\\n",
    "    --bfile ${bedfile_noext} \\\n",
    "    --pheno ${REFS}/${pheno_name} \\\n",
    "    --out ${bedfile_core}.no.covar \\\n",
    "    --covar ${REFS}/1kg_all_chroms_pruned_mds.mds"
   ]
  },
  {
   "cell_type": "code",
   "execution_count": 13,
   "metadata": {},
   "outputs": [
    {
     "name": "stdout",
     "output_type": "stream",
     "text": [
      "-rw-r--r-- 1 jakewendt staff 226033281 Feb 12 10:03 ALL.chr1.phase3_shapeit2_mvncall_integrated_v5a.20130502.genotypes.vcf.eur.pruned.no.covar.assoc.linear\n",
      "-rw-r--r-- 1 jakewendt staff      1598 Feb 12 10:03 ALL.chr1.phase3_shapeit2_mvncall_integrated_v5a.20130502.genotypes.vcf.eur.pruned.no.covar.log\n",
      "-rw-r--r-- 1 jakewendt staff      8048 Feb 12 10:02 ALL.chr1.phase3_shapeit2_mvncall_integrated_v5a.20130502.genotypes.vcf.eur.pruned.no.covar.nosex\n"
     ]
    }
   ],
   "source": [
    "ls -l ${bedfile_core}*"
   ]
  },
  {
   "cell_type": "code",
   "execution_count": 14,
   "metadata": {},
   "outputs": [
    {
     "name": "stdout",
     "output_type": "stream",
     "text": [
      " CHR                                               SNP         BP   A1       TEST    NMISS       BETA         STAT            P \n",
      "   1                                       rs537182016      10539    A        ADD      240         NA           NA           NA\n",
      "   1                                       rs575272151      11008    G        ADD      240   -0.02819      -0.4624       0.6442\n",
      "   1                                       rs544419019      11012    G        ADD      240   -0.02819      -0.4624       0.6442\n",
      "   1                                       rs540538026      13110    A        ADD      240  -0.003787     -0.06147        0.951\n",
      "   1                                        rs62635286      13116    G        ADD      240    0.05344       0.8764       0.3817\n",
      "   1                                       rs200579949      13118    G        ADD      240    0.05344       0.8764       0.3817\n",
      "   1                                       rs531730856      13273    C        ADD      240    0.04382       0.7119       0.4772\n",
      "   1                                       rs527952245      13313    G        ADD      240    0.06128        1.012       0.3127\n",
      "   1                                       rs558318514      13445    G        ADD      240         NA           NA           NA\n"
     ]
    }
   ],
   "source": [
    "head ${bedfile_core}.no.covar.assoc.linear "
   ]
  },
  {
   "cell_type": "code",
   "execution_count": 15,
   "metadata": {},
   "outputs": [
    {
     "name": "stdout",
     "output_type": "stream",
     "text": [
      "CHR SNP BP P A1 BETA\n",
      "1 rs537182016 10539 NA A NA\n",
      "1 rs575272151 11008 0.6442 G -0.02819\n",
      "1 rs544419019 11012 0.6442 G -0.02819\n",
      "1 rs540538026 13110 0.951 A -0.003787\n",
      "1 rs62635286 13116 0.3817 G 0.05344\n",
      "1 rs200579949 13118 0.3817 G 0.05344\n",
      "1 rs531730856 13273 0.4772 C 0.04382\n",
      "1 rs527952245 13313 0.3127 G 0.06128\n",
      "1 rs558318514 13445 NA G NA\n"
     ]
    }
   ],
   "source": [
    "awk '{print $1,$2,$3,$9,$4,$7}' ${bedfile_core}.no.covar.assoc.linear | head"
   ]
  },
  {
   "cell_type": "code",
   "execution_count": 16,
   "metadata": {},
   "outputs": [],
   "source": [
    "awk '{print $1,$2,$3,$9,$4,$7}' ${bedfile_core}.no.covar.assoc.linear > ${bedfile_core}.for.plot.txt"
   ]
  },
  {
   "cell_type": "code",
   "execution_count": null,
   "metadata": {},
   "outputs": [],
   "source": []
  }
 ],
 "metadata": {
  "kernelspec": {
   "display_name": "Bash",
   "language": "bash",
   "name": "bash"
  },
  "language_info": {
   "codemirror_mode": "shell",
   "file_extension": ".sh",
   "mimetype": "text/x-sh",
   "name": "bash"
  }
 },
 "nbformat": 4,
 "nbformat_minor": 2
}
