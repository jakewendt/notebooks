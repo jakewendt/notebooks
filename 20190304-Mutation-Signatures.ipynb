{
 "cells": [
  {
   "cell_type": "markdown",
   "metadata": {},
   "source": [
    "Trying to reproduce R workflow from https://academic.oup.com/jncics/article/2/1/pky002/4942295 and https://github.com/mcjarvis/Mutation-Signatures-Including-APOBEC-in-Cancer-Cell-Lines-JNCI-CS-Supplementary-Scripts\n",
    "\n",
    "\n",
    "\n",
    "Register and download \"COSMIC Mutation Data\" (CosmicCLP_MutantExport.tsv.gz) from https://cancer.sanger.ac.uk/cell_lines/download\n",
    "The paper used v81.\n",
    "\n",
    "https://cog.sanger.ac.uk/cosmic/GRCh38/cell_lines/v81/CosmicCLP_MutantExport.tsv.gz\n",
    "\n",
    "These use chromosome \"23\" and \"24\". I'll have to figure out what these are. X and Y I'm guessing.\n",
    "\n",
    "\n",
    "```BASH\n",
    "gunzip CosmicCLP_MutantExport.tsv.gz\n",
    "\n",
    "cosmic_file=/raid/refs/cosmic/CosmicCLP_MutantExport_v81.tsv\n",
    "\n",
    "awk 'BEGIN{FS=\"\\t\"; OFS=\"\\t\"\n",
    "\tcomp[\"A\"]=\"T\"\n",
    "\tcomp[\"T\"]=\"A\"\n",
    "\tcomp[\"C\"]=\"G\"\n",
    "\tcomp[\"G\"]=\"C\"\n",
    "\tcomp[\"N\"]=\"N\"\n",
    "}\n",
    "( $24 != \"\" ){\n",
    "\tsplit($24,a,\":\");split(a[2],b,\"-\")\n",
    "\tif( $24 != \"\" && $20 ~ \"Substitution\" && b[1] == b[2] && !seen[$24] ) {\n",
    "\t\tchr=a[1];pos=b[1]\n",
    "\t\tif(chr==23) chr=\"X\"\n",
    "\t\tif(chr==24) chr=\"Y\"\n",
    "\t\tcmd=\"samtools faidx /raid/refs/fasta/hg38_num_noalts.fa \"chr\":\"pos\"-\"pos\" | tail -1 \"\n",
    "\t\tcmd|getline ref1\n",
    "\t\tclose(cmd)\n",
    "\t\tref1=toupper(ref1)\n",
    "\t\tref2=toupper(substr($18,length($18)-2,1))\n",
    "\t\tif($25 == \"-\") ref2=comp[ref2]\n",
    "\t\talt=toupper(substr($18,length($18),1))\n",
    "\t\tif($25 == \"-\") alt=comp[alt]\n",
    "\t\tif( ref1 == ref2 ) {\n",
    "\t\t\tif( alt == ref1 ){\n",
    "\t\t\t\tprint \"Nonmutation?\"\n",
    "\t\t\t\tprint chr, pos, $25, ref1, ref2, alt\n",
    "\t\t\t}else{\n",
    "\t\t\t\tfile=$5\n",
    "\t\t\t\tgsub(\"/\",\"_\",file)\n",
    "\t\t\t\tprint chr, b[1], ref1, substr($18,length($18),1), $25, $5 >> file\"-Step4a.tsv\"\n",
    "\t\t\t\tclose(file\"-Step4a.tsv\"); seen[$24]++\n",
    "\t\t\t}\n",
    "\t\t}else{\n",
    "\t\t\tprint \"Nonmatching mutation?\"\n",
    "\t\t\tprint chr, pos, $25, ref1, ref2, alt\n",
    "\t\t}\n",
    "\t}\n",
    "}' ${cosmic_file}\n",
    "\n",
    "wc -l *-Step4a.tsv\n",
    "\n",
    "for f in *-Step4a.tsv ; do n=${f/Step4a/Step4b}; sort -n $f > $n ;  done\n",
    "\n",
    "# Combine and remove \"strand\" column\n",
    "cat *-Step4b.tsv | awk 'BEGIN{FS=OFS=\"\\t\"}{print $1,$2,$3,$4,$6}' > cosmic_mut.txt\n",
    "\n",
    "for i in *-Step4b.tsv; do ./count_trinuc_muts_v8.pl pvcf /raid/refs/fasta/hg38_num_noalts.fa $i; done\n",
    "\n",
    "rename 's/tsv.\\d*.count/count/' *-Step4b.tsv.*.count.txt\n",
    "\n",
    "head -1 $( ls *count.txt | head -1 ) > cosmic_mut_all_sort.txt\n",
    "tail -n +2 -q *count.txt >> cosmic_mut_all_sort.txt\n",
    "```\n",
    "\n",
    "Now we have cosmic_mut.txt and cosmic_mut_all_sort.txt\n",
    "\n",
    "The deconstructSigs github repo contains the signatures.nature2013.rda file needed.\n",
    "\n",
    "I viewed the supplementary spreadsheets associated with the paper which include sample and tissue columns which I extracted to create the cosmic_tissue_type.txt file.\n",
    "\n",
    "Having those 4 files, I can now do the following, which is heavily modified from the horrible and unrunnable example in the github repository.\n"
   ]
  },
  {
   "cell_type": "code",
   "execution_count": 1,
   "metadata": {},
   "outputs": [
    {
     "name": "stderr",
     "output_type": "stream",
     "text": [
      "Loading required package: deconstructSigs\n",
      "Loading required package: ggplot2\n",
      "Loading required package: reshape\n",
      "Loading required package: stringr\n",
      "Warning message:\n",
      "“package ‘stringr’ was built under R version 3.5.2”Loading required package: plyr\n",
      "\n",
      "Attaching package: ‘plyr’\n",
      "\n",
      "The following objects are masked from ‘package:reshape’:\n",
      "\n",
      "    rename, round_any\n",
      "\n",
      "Loading required package: gridExtra\n",
      "Loading required package: BSgenome.Hsapiens.UCSC.hg38\n",
      "Loading required package: BSgenome\n",
      "Loading required package: BiocGenerics\n",
      "Loading required package: parallel\n",
      "\n",
      "Attaching package: ‘BiocGenerics’\n",
      "\n",
      "The following objects are masked from ‘package:parallel’:\n",
      "\n",
      "    clusterApply, clusterApplyLB, clusterCall, clusterEvalQ,\n",
      "    clusterExport, clusterMap, parApply, parCapply, parLapply,\n",
      "    parLapplyLB, parRapply, parSapply, parSapplyLB\n",
      "\n",
      "The following object is masked from ‘package:gridExtra’:\n",
      "\n",
      "    combine\n",
      "\n",
      "The following objects are masked from ‘package:stats’:\n",
      "\n",
      "    IQR, mad, sd, var, xtabs\n",
      "\n",
      "The following objects are masked from ‘package:base’:\n",
      "\n",
      "    anyDuplicated, append, as.data.frame, basename, cbind, colMeans,\n",
      "    colnames, colSums, dirname, do.call, duplicated, eval, evalq,\n",
      "    Filter, Find, get, grep, grepl, intersect, is.unsorted, lapply,\n",
      "    lengths, Map, mapply, match, mget, order, paste, pmax, pmax.int,\n",
      "    pmin, pmin.int, Position, rank, rbind, Reduce, rowMeans, rownames,\n",
      "    rowSums, sapply, setdiff, sort, table, tapply, union, unique,\n",
      "    unsplit, which, which.max, which.min\n",
      "\n",
      "Loading required package: S4Vectors\n",
      "Loading required package: stats4\n",
      "\n",
      "Attaching package: ‘S4Vectors’\n",
      "\n",
      "The following object is masked from ‘package:plyr’:\n",
      "\n",
      "    rename\n",
      "\n",
      "The following objects are masked from ‘package:reshape’:\n",
      "\n",
      "    expand, rename\n",
      "\n",
      "The following object is masked from ‘package:base’:\n",
      "\n",
      "    expand.grid\n",
      "\n",
      "Loading required package: IRanges\n",
      "\n",
      "Attaching package: ‘IRanges’\n",
      "\n",
      "The following object is masked from ‘package:plyr’:\n",
      "\n",
      "    desc\n",
      "\n",
      "Loading required package: GenomeInfoDb\n",
      "Warning message:\n",
      "“package ‘GenomeInfoDb’ was built under R version 3.5.2”Loading required package: GenomicRanges\n",
      "Loading required package: Biostrings\n",
      "Warning message:\n",
      "“package ‘Biostrings’ was built under R version 3.5.2”Loading required package: XVector\n",
      "\n",
      "Attaching package: ‘XVector’\n",
      "\n",
      "The following object is masked from ‘package:plyr’:\n",
      "\n",
      "    compact\n",
      "\n",
      "\n",
      "Attaching package: ‘Biostrings’\n",
      "\n",
      "The following object is masked from ‘package:base’:\n",
      "\n",
      "    strsplit\n",
      "\n",
      "Loading required package: rtracklayer\n",
      "Warning message:\n",
      "“package ‘rtracklayer’ was built under R version 3.5.2”"
     ]
    }
   ],
   "source": [
    "require(deconstructSigs)\n",
    "require(ggplot2)\n",
    "require(reshape)\n",
    "require(stringr)\n",
    "require(plyr)\n",
    "require(gridExtra)\n",
    "\n",
    "require(BSgenome.Hsapiens.UCSC.hg38)\n",
    "hg38 <- BSgenome.Hsapiens.UCSC.hg38"
   ]
  },
  {
   "cell_type": "code",
   "execution_count": 2,
   "metadata": {},
   "outputs": [],
   "source": [
    "cosmic_mut = read.table(\"cosmic/cosmic_mut.txt\",header = F, sep=\"\\t\",col.names = c(\"chr\",\"pos\",\"ref\",\"alt\",\"sample\"))"
   ]
  },
  {
   "cell_type": "code",
   "execution_count": 3,
   "metadata": {},
   "outputs": [
    {
     "data": {
      "text/html": [
       "<table>\n",
       "<thead><tr><th scope=col>chr</th><th scope=col>pos</th><th scope=col>ref</th><th scope=col>alt</th><th scope=col>sample</th></tr></thead>\n",
       "<tbody>\n",
       "\t<tr><td>X        </td><td>115719187</td><td>T        </td><td>G        </td><td>201T     </td></tr>\n",
       "\t<tr><td>X        </td><td>141697643</td><td>G        </td><td>G        </td><td>201T     </td></tr>\n",
       "\t<tr><td>X        </td><td>153346872</td><td>G        </td><td>T        </td><td>201T     </td></tr>\n",
       "\t<tr><td>X        </td><td> 15347338</td><td>G        </td><td>G        </td><td>201T     </td></tr>\n",
       "\t<tr><td>X        </td><td> 21856496</td><td>C        </td><td>T        </td><td>201T     </td></tr>\n",
       "\t<tr><td>X        </td><td> 45164212</td><td>C        </td><td>T        </td><td>201T     </td></tr>\n",
       "</tbody>\n",
       "</table>\n"
      ],
      "text/latex": [
       "\\begin{tabular}{r|lllll}\n",
       " chr & pos & ref & alt & sample\\\\\n",
       "\\hline\n",
       "\t X         & 115719187 & T         & G         & 201T     \\\\\n",
       "\t X         & 141697643 & G         & G         & 201T     \\\\\n",
       "\t X         & 153346872 & G         & T         & 201T     \\\\\n",
       "\t X         &  15347338 & G         & G         & 201T     \\\\\n",
       "\t X         &  21856496 & C         & T         & 201T     \\\\\n",
       "\t X         &  45164212 & C         & T         & 201T     \\\\\n",
       "\\end{tabular}\n"
      ],
      "text/markdown": [
       "\n",
       "| chr | pos | ref | alt | sample |\n",
       "|---|---|---|---|---|\n",
       "| X         | 115719187 | T         | G         | 201T      |\n",
       "| X         | 141697643 | G         | G         | 201T      |\n",
       "| X         | 153346872 | G         | T         | 201T      |\n",
       "| X         |  15347338 | G         | G         | 201T      |\n",
       "| X         |  21856496 | C         | T         | 201T      |\n",
       "| X         |  45164212 | C         | T         | 201T      |\n",
       "\n"
      ],
      "text/plain": [
       "  chr pos       ref alt sample\n",
       "1 X   115719187 T   G   201T  \n",
       "2 X   141697643 G   G   201T  \n",
       "3 X   153346872 G   T   201T  \n",
       "4 X    15347338 G   G   201T  \n",
       "5 X    21856496 C   T   201T  \n",
       "6 X    45164212 C   T   201T  "
      ]
     },
     "metadata": {},
     "output_type": "display_data"
    }
   ],
   "source": [
    "head(cosmic_mut)"
   ]
  },
  {
   "cell_type": "code",
   "execution_count": 4,
   "metadata": {},
   "outputs": [
    {
     "data": {
      "text/html": [
       "<table>\n",
       "<thead><tr><th scope=col>chr</th><th scope=col>pos</th><th scope=col>ref</th><th scope=col>alt</th><th scope=col>sample</th></tr></thead>\n",
       "<tbody>\n",
       "\t<tr><td>X        </td><td>115719187</td><td>T        </td><td>G        </td><td>201T     </td></tr>\n",
       "\t<tr><td>X        </td><td>141697643</td><td>G        </td><td>G        </td><td>201T     </td></tr>\n",
       "\t<tr><td>X        </td><td>153346872</td><td>G        </td><td>T        </td><td>201T     </td></tr>\n",
       "\t<tr><td>X        </td><td> 15347338</td><td>G        </td><td>G        </td><td>201T     </td></tr>\n",
       "\t<tr><td>X        </td><td> 21856496</td><td>C        </td><td>T        </td><td>201T     </td></tr>\n",
       "\t<tr><td>X        </td><td> 45164212</td><td>C        </td><td>T        </td><td>201T     </td></tr>\n",
       "</tbody>\n",
       "</table>\n"
      ],
      "text/latex": [
       "\\begin{tabular}{r|lllll}\n",
       " chr & pos & ref & alt & sample\\\\\n",
       "\\hline\n",
       "\t X         & 115719187 & T         & G         & 201T     \\\\\n",
       "\t X         & 141697643 & G         & G         & 201T     \\\\\n",
       "\t X         & 153346872 & G         & T         & 201T     \\\\\n",
       "\t X         &  15347338 & G         & G         & 201T     \\\\\n",
       "\t X         &  21856496 & C         & T         & 201T     \\\\\n",
       "\t X         &  45164212 & C         & T         & 201T     \\\\\n",
       "\\end{tabular}\n"
      ],
      "text/markdown": [
       "\n",
       "| chr | pos | ref | alt | sample |\n",
       "|---|---|---|---|---|\n",
       "| X         | 115719187 | T         | G         | 201T      |\n",
       "| X         | 141697643 | G         | G         | 201T      |\n",
       "| X         | 153346872 | G         | T         | 201T      |\n",
       "| X         |  15347338 | G         | G         | 201T      |\n",
       "| X         |  21856496 | C         | T         | 201T      |\n",
       "| X         |  45164212 | C         | T         | 201T      |\n",
       "\n"
      ],
      "text/plain": [
       "  chr pos       ref alt sample\n",
       "1 X   115719187 T   G   201T  \n",
       "2 X   141697643 G   G   201T  \n",
       "3 X   153346872 G   T   201T  \n",
       "4 X    15347338 G   G   201T  \n",
       "5 X    21856496 C   T   201T  \n",
       "6 X    45164212 C   T   201T  "
      ]
     },
     "metadata": {},
     "output_type": "display_data"
    }
   ],
   "source": [
    "cosmic_mut_sort <- with(cosmic_mut, cosmic_mut[order(cosmic_mut[,\"sample\"]),])\n",
    "head(cosmic_mut_sort)"
   ]
  },
  {
   "cell_type": "code",
   "execution_count": 5,
   "metadata": {},
   "outputs": [
    {
     "data": {
      "text/html": [
       "<table>\n",
       "<thead><tr><th scope=col>chr</th><th scope=col>pos</th><th scope=col>ref</th><th scope=col>alt</th><th scope=col>sample</th></tr></thead>\n",
       "<tbody>\n",
       "\t<tr><td>X        </td><td>115719187</td><td>T        </td><td>G        </td><td>201T     </td></tr>\n",
       "\t<tr><td>X        </td><td>141697643</td><td>G        </td><td>G        </td><td>201T     </td></tr>\n",
       "\t<tr><td>X        </td><td>153346872</td><td>G        </td><td>T        </td><td>201T     </td></tr>\n",
       "\t<tr><td>X        </td><td> 15347338</td><td>G        </td><td>G        </td><td>201T     </td></tr>\n",
       "\t<tr><td>X        </td><td> 21856496</td><td>C        </td><td>T        </td><td>201T     </td></tr>\n",
       "\t<tr><td>X        </td><td> 45164212</td><td>C        </td><td>T        </td><td>201T     </td></tr>\n",
       "</tbody>\n",
       "</table>\n"
      ],
      "text/latex": [
       "\\begin{tabular}{r|lllll}\n",
       " chr & pos & ref & alt & sample\\\\\n",
       "\\hline\n",
       "\t X         & 115719187 & T         & G         & 201T     \\\\\n",
       "\t X         & 141697643 & G         & G         & 201T     \\\\\n",
       "\t X         & 153346872 & G         & T         & 201T     \\\\\n",
       "\t X         &  15347338 & G         & G         & 201T     \\\\\n",
       "\t X         &  21856496 & C         & T         & 201T     \\\\\n",
       "\t X         &  45164212 & C         & T         & 201T     \\\\\n",
       "\\end{tabular}\n"
      ],
      "text/markdown": [
       "\n",
       "| chr | pos | ref | alt | sample |\n",
       "|---|---|---|---|---|\n",
       "| X         | 115719187 | T         | G         | 201T      |\n",
       "| X         | 141697643 | G         | G         | 201T      |\n",
       "| X         | 153346872 | G         | T         | 201T      |\n",
       "| X         |  15347338 | G         | G         | 201T      |\n",
       "| X         |  21856496 | C         | T         | 201T      |\n",
       "| X         |  45164212 | C         | T         | 201T      |\n",
       "\n"
      ],
      "text/plain": [
       "  chr pos       ref alt sample\n",
       "1 X   115719187 T   G   201T  \n",
       "2 X   141697643 G   G   201T  \n",
       "3 X   153346872 G   T   201T  \n",
       "4 X    15347338 G   G   201T  \n",
       "5 X    21856496 C   T   201T  \n",
       "6 X    45164212 C   T   201T  "
      ]
     },
     "metadata": {},
     "output_type": "display_data"
    }
   ],
   "source": [
    "rownames(cosmic_mut_sort) <- NULL\n",
    "head(cosmic_mut_sort)"
   ]
  },
  {
   "cell_type": "code",
   "execution_count": 6,
   "metadata": {},
   "outputs": [
    {
     "data": {
      "text/html": [
       "<table>\n",
       "<thead><tr><th scope=col>chr</th><th scope=col>pos</th><th scope=col>ref</th><th scope=col>alt</th><th scope=col>sample</th></tr></thead>\n",
       "<tbody>\n",
       "\t<tr><td>X        </td><td>115719187</td><td>T        </td><td>G        </td><td>201T     </td></tr>\n",
       "\t<tr><td>X        </td><td>141697643</td><td>G        </td><td>G        </td><td>201T     </td></tr>\n",
       "\t<tr><td>X        </td><td>153346872</td><td>G        </td><td>T        </td><td>201T     </td></tr>\n",
       "\t<tr><td>X        </td><td> 15347338</td><td>G        </td><td>G        </td><td>201T     </td></tr>\n",
       "\t<tr><td>X        </td><td> 21856496</td><td>C        </td><td>T        </td><td>201T     </td></tr>\n",
       "\t<tr><td>X        </td><td> 45164212</td><td>C        </td><td>T        </td><td>201T     </td></tr>\n",
       "</tbody>\n",
       "</table>\n"
      ],
      "text/latex": [
       "\\begin{tabular}{r|lllll}\n",
       " chr & pos & ref & alt & sample\\\\\n",
       "\\hline\n",
       "\t X         & 115719187 & T         & G         & 201T     \\\\\n",
       "\t X         & 141697643 & G         & G         & 201T     \\\\\n",
       "\t X         & 153346872 & G         & T         & 201T     \\\\\n",
       "\t X         &  15347338 & G         & G         & 201T     \\\\\n",
       "\t X         &  21856496 & C         & T         & 201T     \\\\\n",
       "\t X         &  45164212 & C         & T         & 201T     \\\\\n",
       "\\end{tabular}\n"
      ],
      "text/markdown": [
       "\n",
       "| chr | pos | ref | alt | sample |\n",
       "|---|---|---|---|---|\n",
       "| X         | 115719187 | T         | G         | 201T      |\n",
       "| X         | 141697643 | G         | G         | 201T      |\n",
       "| X         | 153346872 | G         | T         | 201T      |\n",
       "| X         |  15347338 | G         | G         | 201T      |\n",
       "| X         |  21856496 | C         | T         | 201T      |\n",
       "| X         |  45164212 | C         | T         | 201T      |\n",
       "\n"
      ],
      "text/plain": [
       "  chr pos       ref alt sample\n",
       "1 X   115719187 T   G   201T  \n",
       "2 X   141697643 G   G   201T  \n",
       "3 X   153346872 G   T   201T  \n",
       "4 X    15347338 G   G   201T  \n",
       "5 X    21856496 C   T   201T  \n",
       "6 X    45164212 C   T   201T  "
      ]
     },
     "metadata": {},
     "output_type": "display_data"
    }
   ],
   "source": [
    "cosmic_mut_sort$sample <- as.factor(cosmic_mut_sort$sample)\n",
    "head(cosmic_mut_sort)"
   ]
  },
  {
   "cell_type": "code",
   "execution_count": 7,
   "metadata": {},
   "outputs": [
    {
     "data": {
      "text/html": [
       "<table>\n",
       "<thead><tr><th scope=col>V1</th><th scope=col>V2</th><th scope=col>V3</th><th scope=col>V4</th><th scope=col>V5</th><th scope=col>V6</th><th scope=col>V7</th><th scope=col>V8</th><th scope=col>V9</th><th scope=col>V10</th><th scope=col>V11</th><th scope=col>V12</th><th scope=col>V13</th><th scope=col>V14</th><th scope=col>V15</th><th scope=col>V16</th></tr></thead>\n",
       "<tbody>\n",
       "\t<tr><td>X                                        </td><td>115719187                                </td><td>ACAA                                     </td><td>CAAC                                     </td><td>CAA                                      </td><td>T&gt;G                                   </td><td>C[T&gt;G]A                               </td><td>-                                        </td><td>AAGGAGTCAAGACTGAGAACAACGATCATATTAATTTGAAG</td><td>14                                       </td><td>8                                        </td><td>4                                        </td><td>2                                        </td><td>2                                        </td><td>2                                        </td><td>201T                                     </td></tr>\n",
       "\t<tr><td>X                                        </td><td>141697643                                </td><td>TCCG                                     </td><td>CCGA                                     </td><td>CCG                                      </td><td>G&gt;G                                   </td><td>C[G&gt;G]G                               </td><td>-                                        </td><td>CTCAGACCCGCAACCTGCTCCGAAAAAACTAAAAACATCTG</td><td>19                                       </td><td>5                                        </td><td>1                                        </td><td>2                                        </td><td>1                                        </td><td>0                                        </td><td>201T                                     </td></tr>\n",
       "\t<tr><td>X                                        </td><td>153346872                                </td><td>AGGA                                     </td><td>GGAG                                     </td><td>GGA                                      </td><td>G&gt;T                                   </td><td>G[G&gt;T]A                               </td><td>+                                        </td><td>GGGAAGATGCCCAGCCACAGGAGATGGCGTCCACAAGCTTC</td><td>25                                       </td><td>6                                        </td><td>2                                        </td><td>2                                        </td><td>0                                        </td><td>0                                        </td><td>201T                                     </td></tr>\n",
       "\t<tr><td>X                                        </td><td> 15347338                                </td><td>ACCA                                     </td><td>CCAG                                     </td><td>CCA                                      </td><td>G&gt;G                                   </td><td>C[G&gt;G]A                               </td><td>-                                        </td><td>CCACTCTCATCTCCAGGAACCAGCTCTCTGTGGGCCACACA</td><td>24                                       </td><td>7                                        </td><td>1                                        </td><td>3                                        </td><td>1                                        </td><td>0                                        </td><td>201T                                     </td></tr>\n",
       "\t<tr><td>X                                        </td><td> 21856496                                </td><td>AACG                                     </td><td>ACGA                                     </td><td>ACG                                      </td><td>C&gt;T                                   </td><td>A[C&gt;T]G                               </td><td>+                                        </td><td>CTCTCAGCCATGGCCTCCAACGAAGATTTCTCCATCACACA</td><td>21                                       </td><td>8                                        </td><td>4                                        </td><td>4                                        </td><td>1                                        </td><td>1                                        </td><td>201T                                     </td></tr>\n",
       "\t<tr><td>X                                        </td><td> 45164212                                </td><td>GTGT                                     </td><td>TGTA                                     </td><td>TGT                                      </td><td>C&gt;T                                   </td><td>T[C&gt;T]T                               </td><td>-                                        </td><td>GAGAGAACTAAAGTTCCTGTGTATGCTGAGATAACACCAGT</td><td>17                                       </td><td>6                                        </td><td>1                                        </td><td>2                                        </td><td>1                                        </td><td>0                                        </td><td>201T                                     </td></tr>\n",
       "</tbody>\n",
       "</table>\n"
      ],
      "text/latex": [
       "\\begin{tabular}{r|llllllllllllllll}\n",
       " V1 & V2 & V3 & V4 & V5 & V6 & V7 & V8 & V9 & V10 & V11 & V12 & V13 & V14 & V15 & V16\\\\\n",
       "\\hline\n",
       "\t X                                         & 115719187                                 & ACAA                                      & CAAC                                      & CAA                                       & T>G                                       & C{[}T>G{]}A                               & -                                         & AAGGAGTCAAGACTGAGAACAACGATCATATTAATTTGAAG & 14                                        & 8                                         & 4                                         & 2                                         & 2                                         & 2                                         & 201T                                     \\\\\n",
       "\t X                                         & 141697643                                 & TCCG                                      & CCGA                                      & CCG                                       & G>G                                       & C{[}G>G{]}G                               & -                                         & CTCAGACCCGCAACCTGCTCCGAAAAAACTAAAAACATCTG & 19                                        & 5                                         & 1                                         & 2                                         & 1                                         & 0                                         & 201T                                     \\\\\n",
       "\t X                                         & 153346872                                 & AGGA                                      & GGAG                                      & GGA                                       & G>T                                       & G{[}G>T{]}A                               & +                                         & GGGAAGATGCCCAGCCACAGGAGATGGCGTCCACAAGCTTC & 25                                        & 6                                         & 2                                         & 2                                         & 0                                         & 0                                         & 201T                                     \\\\\n",
       "\t X                                         &  15347338                                 & ACCA                                      & CCAG                                      & CCA                                       & G>G                                       & C{[}G>G{]}A                               & -                                         & CCACTCTCATCTCCAGGAACCAGCTCTCTGTGGGCCACACA & 24                                        & 7                                         & 1                                         & 3                                         & 1                                         & 0                                         & 201T                                     \\\\\n",
       "\t X                                         &  21856496                                 & AACG                                      & ACGA                                      & ACG                                       & C>T                                       & A{[}C>T{]}G                               & +                                         & CTCTCAGCCATGGCCTCCAACGAAGATTTCTCCATCACACA & 21                                        & 8                                         & 4                                         & 4                                         & 1                                         & 1                                         & 201T                                     \\\\\n",
       "\t X                                         &  45164212                                 & GTGT                                      & TGTA                                      & TGT                                       & C>T                                       & T{[}C>T{]}T                               & -                                         & GAGAGAACTAAAGTTCCTGTGTATGCTGAGATAACACCAGT & 17                                        & 6                                         & 1                                         & 2                                         & 1                                         & 0                                         & 201T                                     \\\\\n",
       "\\end{tabular}\n"
      ],
      "text/markdown": [
       "\n",
       "| V1 | V2 | V3 | V4 | V5 | V6 | V7 | V8 | V9 | V10 | V11 | V12 | V13 | V14 | V15 | V16 |\n",
       "|---|---|---|---|---|---|---|---|---|---|---|---|---|---|---|---|\n",
       "| X                                         | 115719187                                 | ACAA                                      | CAAC                                      | CAA                                       | T>G                                       | C[T>G]A                                   | -                                         | AAGGAGTCAAGACTGAGAACAACGATCATATTAATTTGAAG | 14                                        | 8                                         | 4                                         | 2                                         | 2                                         | 2                                         | 201T                                      |\n",
       "| X                                         | 141697643                                 | TCCG                                      | CCGA                                      | CCG                                       | G>G                                       | C[G>G]G                                   | -                                         | CTCAGACCCGCAACCTGCTCCGAAAAAACTAAAAACATCTG | 19                                        | 5                                         | 1                                         | 2                                         | 1                                         | 0                                         | 201T                                      |\n",
       "| X                                         | 153346872                                 | AGGA                                      | GGAG                                      | GGA                                       | G>T                                       | G[G>T]A                                   | +                                         | GGGAAGATGCCCAGCCACAGGAGATGGCGTCCACAAGCTTC | 25                                        | 6                                         | 2                                         | 2                                         | 0                                         | 0                                         | 201T                                      |\n",
       "| X                                         |  15347338                                 | ACCA                                      | CCAG                                      | CCA                                       | G>G                                       | C[G>G]A                                   | -                                         | CCACTCTCATCTCCAGGAACCAGCTCTCTGTGGGCCACACA | 24                                        | 7                                         | 1                                         | 3                                         | 1                                         | 0                                         | 201T                                      |\n",
       "| X                                         |  21856496                                 | AACG                                      | ACGA                                      | ACG                                       | C>T                                       | A[C>T]G                                   | +                                         | CTCTCAGCCATGGCCTCCAACGAAGATTTCTCCATCACACA | 21                                        | 8                                         | 4                                         | 4                                         | 1                                         | 1                                         | 201T                                      |\n",
       "| X                                         |  45164212                                 | GTGT                                      | TGTA                                      | TGT                                       | C>T                                       | T[C>T]T                                   | -                                         | GAGAGAACTAAAGTTCCTGTGTATGCTGAGATAACACCAGT | 17                                        | 6                                         | 1                                         | 2                                         | 1                                         | 0                                         | 201T                                      |\n",
       "\n"
      ],
      "text/plain": [
       "  V1 V2        V3   V4   V5  V6  V7      V8\n",
       "1 X  115719187 ACAA CAAC CAA T>G C[T>G]A - \n",
       "2 X  141697643 TCCG CCGA CCG G>G C[G>G]G - \n",
       "3 X  153346872 AGGA GGAG GGA G>T G[G>T]A + \n",
       "4 X   15347338 ACCA CCAG CCA G>G C[G>G]A - \n",
       "5 X   21856496 AACG ACGA ACG C>T A[C>T]G + \n",
       "6 X   45164212 GTGT TGTA TGT C>T T[C>T]T - \n",
       "  V9                                        V10 V11 V12 V13 V14 V15 V16 \n",
       "1 AAGGAGTCAAGACTGAGAACAACGATCATATTAATTTGAAG 14  8   4   2   2   2   201T\n",
       "2 CTCAGACCCGCAACCTGCTCCGAAAAAACTAAAAACATCTG 19  5   1   2   1   0   201T\n",
       "3 GGGAAGATGCCCAGCCACAGGAGATGGCGTCCACAAGCTTC 25  6   2   2   0   0   201T\n",
       "4 CCACTCTCATCTCCAGGAACCAGCTCTCTGTGGGCCACACA 24  7   1   3   1   0   201T\n",
       "5 CTCTCAGCCATGGCCTCCAACGAAGATTTCTCCATCACACA 21  8   4   4   1   1   201T\n",
       "6 GAGAGAACTAAAGTTCCTGTGTATGCTGAGATAACACCAGT 17  6   1   2   1   0   201T"
      ]
     },
     "metadata": {},
     "output_type": "display_data"
    }
   ],
   "source": [
    "cosmic_mut_all_sort <- read.table(file = \"cosmic/cosmic_mut_all_sort.txt\", header = F, sep = \"\\t\", stringsAsFactors = T)\n",
    "head(cosmic_mut_all_sort)"
   ]
  },
  {
   "cell_type": "code",
   "execution_count": 8,
   "metadata": {},
   "outputs": [
    {
     "data": {
      "text/html": [
       "<table>\n",
       "<thead><tr><th scope=col>chr</th><th scope=col>pos</th><th scope=col>5_tetnuc</th><th scope=col>3_tetnuc</th><th scope=col>trinuc</th><th scope=col>mut</th><th scope=col>trinuc_mut</th><th scope=col>strand</th><th scope=col>context</th><th scope=col>C_count</th><th scope=col>TC_count</th><th scope=col>TCA_count</th><th scope=col>TCT_count</th><th scope=col>YTCA_count</th><th scope=col>RTCA_count</th><th scope=col>sample</th></tr></thead>\n",
       "<tbody>\n",
       "\t<tr><td>X                                        </td><td>115719187                                </td><td>ACAA                                     </td><td>CAAC                                     </td><td>CAA                                      </td><td>T&gt;G                                   </td><td>C[T&gt;G]A                               </td><td>-                                        </td><td>AAGGAGTCAAGACTGAGAACAACGATCATATTAATTTGAAG</td><td>14                                       </td><td>8                                        </td><td>4                                        </td><td>2                                        </td><td>2                                        </td><td>2                                        </td><td>201T                                     </td></tr>\n",
       "\t<tr><td>X                                        </td><td>141697643                                </td><td>TCCG                                     </td><td>CCGA                                     </td><td>CCG                                      </td><td>G&gt;G                                   </td><td>C[G&gt;G]G                               </td><td>-                                        </td><td>CTCAGACCCGCAACCTGCTCCGAAAAAACTAAAAACATCTG</td><td>19                                       </td><td>5                                        </td><td>1                                        </td><td>2                                        </td><td>1                                        </td><td>0                                        </td><td>201T                                     </td></tr>\n",
       "\t<tr><td>X                                        </td><td>153346872                                </td><td>AGGA                                     </td><td>GGAG                                     </td><td>GGA                                      </td><td>G&gt;T                                   </td><td>G[G&gt;T]A                               </td><td>+                                        </td><td>GGGAAGATGCCCAGCCACAGGAGATGGCGTCCACAAGCTTC</td><td>25                                       </td><td>6                                        </td><td>2                                        </td><td>2                                        </td><td>0                                        </td><td>0                                        </td><td>201T                                     </td></tr>\n",
       "\t<tr><td>X                                        </td><td> 15347338                                </td><td>ACCA                                     </td><td>CCAG                                     </td><td>CCA                                      </td><td>G&gt;G                                   </td><td>C[G&gt;G]A                               </td><td>-                                        </td><td>CCACTCTCATCTCCAGGAACCAGCTCTCTGTGGGCCACACA</td><td>24                                       </td><td>7                                        </td><td>1                                        </td><td>3                                        </td><td>1                                        </td><td>0                                        </td><td>201T                                     </td></tr>\n",
       "\t<tr><td>X                                        </td><td> 21856496                                </td><td>AACG                                     </td><td>ACGA                                     </td><td>ACG                                      </td><td>C&gt;T                                   </td><td>A[C&gt;T]G                               </td><td>+                                        </td><td>CTCTCAGCCATGGCCTCCAACGAAGATTTCTCCATCACACA</td><td>21                                       </td><td>8                                        </td><td>4                                        </td><td>4                                        </td><td>1                                        </td><td>1                                        </td><td>201T                                     </td></tr>\n",
       "\t<tr><td>X                                        </td><td> 45164212                                </td><td>GTGT                                     </td><td>TGTA                                     </td><td>TGT                                      </td><td>C&gt;T                                   </td><td>T[C&gt;T]T                               </td><td>-                                        </td><td>GAGAGAACTAAAGTTCCTGTGTATGCTGAGATAACACCAGT</td><td>17                                       </td><td>6                                        </td><td>1                                        </td><td>2                                        </td><td>1                                        </td><td>0                                        </td><td>201T                                     </td></tr>\n",
       "</tbody>\n",
       "</table>\n"
      ],
      "text/latex": [
       "\\begin{tabular}{r|llllllllllllllll}\n",
       " chr & pos & 5\\_tetnuc & 3\\_tetnuc & trinuc & mut & trinuc\\_mut & strand & context & C\\_count & TC\\_count & TCA\\_count & TCT\\_count & YTCA\\_count & RTCA\\_count & sample\\\\\n",
       "\\hline\n",
       "\t X                                         & 115719187                                 & ACAA                                      & CAAC                                      & CAA                                       & T>G                                       & C{[}T>G{]}A                               & -                                         & AAGGAGTCAAGACTGAGAACAACGATCATATTAATTTGAAG & 14                                        & 8                                         & 4                                         & 2                                         & 2                                         & 2                                         & 201T                                     \\\\\n",
       "\t X                                         & 141697643                                 & TCCG                                      & CCGA                                      & CCG                                       & G>G                                       & C{[}G>G{]}G                               & -                                         & CTCAGACCCGCAACCTGCTCCGAAAAAACTAAAAACATCTG & 19                                        & 5                                         & 1                                         & 2                                         & 1                                         & 0                                         & 201T                                     \\\\\n",
       "\t X                                         & 153346872                                 & AGGA                                      & GGAG                                      & GGA                                       & G>T                                       & G{[}G>T{]}A                               & +                                         & GGGAAGATGCCCAGCCACAGGAGATGGCGTCCACAAGCTTC & 25                                        & 6                                         & 2                                         & 2                                         & 0                                         & 0                                         & 201T                                     \\\\\n",
       "\t X                                         &  15347338                                 & ACCA                                      & CCAG                                      & CCA                                       & G>G                                       & C{[}G>G{]}A                               & -                                         & CCACTCTCATCTCCAGGAACCAGCTCTCTGTGGGCCACACA & 24                                        & 7                                         & 1                                         & 3                                         & 1                                         & 0                                         & 201T                                     \\\\\n",
       "\t X                                         &  21856496                                 & AACG                                      & ACGA                                      & ACG                                       & C>T                                       & A{[}C>T{]}G                               & +                                         & CTCTCAGCCATGGCCTCCAACGAAGATTTCTCCATCACACA & 21                                        & 8                                         & 4                                         & 4                                         & 1                                         & 1                                         & 201T                                     \\\\\n",
       "\t X                                         &  45164212                                 & GTGT                                      & TGTA                                      & TGT                                       & C>T                                       & T{[}C>T{]}T                               & -                                         & GAGAGAACTAAAGTTCCTGTGTATGCTGAGATAACACCAGT & 17                                        & 6                                         & 1                                         & 2                                         & 1                                         & 0                                         & 201T                                     \\\\\n",
       "\\end{tabular}\n"
      ],
      "text/markdown": [
       "\n",
       "| chr | pos | 5_tetnuc | 3_tetnuc | trinuc | mut | trinuc_mut | strand | context | C_count | TC_count | TCA_count | TCT_count | YTCA_count | RTCA_count | sample |\n",
       "|---|---|---|---|---|---|---|---|---|---|---|---|---|---|---|---|\n",
       "| X                                         | 115719187                                 | ACAA                                      | CAAC                                      | CAA                                       | T>G                                       | C[T>G]A                                   | -                                         | AAGGAGTCAAGACTGAGAACAACGATCATATTAATTTGAAG | 14                                        | 8                                         | 4                                         | 2                                         | 2                                         | 2                                         | 201T                                      |\n",
       "| X                                         | 141697643                                 | TCCG                                      | CCGA                                      | CCG                                       | G>G                                       | C[G>G]G                                   | -                                         | CTCAGACCCGCAACCTGCTCCGAAAAAACTAAAAACATCTG | 19                                        | 5                                         | 1                                         | 2                                         | 1                                         | 0                                         | 201T                                      |\n",
       "| X                                         | 153346872                                 | AGGA                                      | GGAG                                      | GGA                                       | G>T                                       | G[G>T]A                                   | +                                         | GGGAAGATGCCCAGCCACAGGAGATGGCGTCCACAAGCTTC | 25                                        | 6                                         | 2                                         | 2                                         | 0                                         | 0                                         | 201T                                      |\n",
       "| X                                         |  15347338                                 | ACCA                                      | CCAG                                      | CCA                                       | G>G                                       | C[G>G]A                                   | -                                         | CCACTCTCATCTCCAGGAACCAGCTCTCTGTGGGCCACACA | 24                                        | 7                                         | 1                                         | 3                                         | 1                                         | 0                                         | 201T                                      |\n",
       "| X                                         |  21856496                                 | AACG                                      | ACGA                                      | ACG                                       | C>T                                       | A[C>T]G                                   | +                                         | CTCTCAGCCATGGCCTCCAACGAAGATTTCTCCATCACACA | 21                                        | 8                                         | 4                                         | 4                                         | 1                                         | 1                                         | 201T                                      |\n",
       "| X                                         |  45164212                                 | GTGT                                      | TGTA                                      | TGT                                       | C>T                                       | T[C>T]T                                   | -                                         | GAGAGAACTAAAGTTCCTGTGTATGCTGAGATAACACCAGT | 17                                        | 6                                         | 1                                         | 2                                         | 1                                         | 0                                         | 201T                                      |\n",
       "\n"
      ],
      "text/plain": [
       "  chr pos       5_tetnuc 3_tetnuc trinuc mut trinuc_mut strand\n",
       "1 X   115719187 ACAA     CAAC     CAA    T>G C[T>G]A    -     \n",
       "2 X   141697643 TCCG     CCGA     CCG    G>G C[G>G]G    -     \n",
       "3 X   153346872 AGGA     GGAG     GGA    G>T G[G>T]A    +     \n",
       "4 X    15347338 ACCA     CCAG     CCA    G>G C[G>G]A    -     \n",
       "5 X    21856496 AACG     ACGA     ACG    C>T A[C>T]G    +     \n",
       "6 X    45164212 GTGT     TGTA     TGT    C>T T[C>T]T    -     \n",
       "  context                                   C_count TC_count TCA_count\n",
       "1 AAGGAGTCAAGACTGAGAACAACGATCATATTAATTTGAAG 14      8        4        \n",
       "2 CTCAGACCCGCAACCTGCTCCGAAAAAACTAAAAACATCTG 19      5        1        \n",
       "3 GGGAAGATGCCCAGCCACAGGAGATGGCGTCCACAAGCTTC 25      6        2        \n",
       "4 CCACTCTCATCTCCAGGAACCAGCTCTCTGTGGGCCACACA 24      7        1        \n",
       "5 CTCTCAGCCATGGCCTCCAACGAAGATTTCTCCATCACACA 21      8        4        \n",
       "6 GAGAGAACTAAAGTTCCTGTGTATGCTGAGATAACACCAGT 17      6        1        \n",
       "  TCT_count YTCA_count RTCA_count sample\n",
       "1 2         2          2          201T  \n",
       "2 2         1          0          201T  \n",
       "3 2         0          0          201T  \n",
       "4 3         1          0          201T  \n",
       "5 4         1          1          201T  \n",
       "6 2         1          0          201T  "
      ]
     },
     "metadata": {},
     "output_type": "display_data"
    }
   ],
   "source": [
    "colnames(cosmic_mut_all_sort) <- c(\"chr\", \"pos\", \"5_tetnuc\", \"3_tetnuc\", \"trinuc\", \"mut\", \"trinuc_mut\", \"strand\", \"context\", \"C_count\", \"TC_count\", \"TCA_count\", \"TCT_count\", \"YTCA_count\", \"RTCA_count\", \"sample\")\n",
    "head(cosmic_mut_all_sort)"
   ]
  },
  {
   "cell_type": "code",
   "execution_count": 9,
   "metadata": {},
   "outputs": [
    {
     "data": {
      "text/html": [
       "<table>\n",
       "<thead><tr><th scope=col>chr</th><th scope=col>pos</th><th scope=col>mut</th><th scope=col>sample</th></tr></thead>\n",
       "<tbody>\n",
       "\t<tr><td>X        </td><td>115719187</td><td>T&gt;G   </td><td>201T     </td></tr>\n",
       "\t<tr><td>X        </td><td>141697643</td><td>G&gt;G   </td><td>201T     </td></tr>\n",
       "\t<tr><td>X        </td><td>153346872</td><td>G&gt;T   </td><td>201T     </td></tr>\n",
       "\t<tr><td>X        </td><td> 15347338</td><td>G&gt;G   </td><td>201T     </td></tr>\n",
       "\t<tr><td>X        </td><td> 21856496</td><td>C&gt;T   </td><td>201T     </td></tr>\n",
       "\t<tr><td>X        </td><td> 45164212</td><td>C&gt;T   </td><td>201T     </td></tr>\n",
       "</tbody>\n",
       "</table>\n"
      ],
      "text/latex": [
       "\\begin{tabular}{r|llll}\n",
       " chr & pos & mut & sample\\\\\n",
       "\\hline\n",
       "\t X         & 115719187 & T>G       & 201T     \\\\\n",
       "\t X         & 141697643 & G>G       & 201T     \\\\\n",
       "\t X         & 153346872 & G>T       & 201T     \\\\\n",
       "\t X         &  15347338 & G>G       & 201T     \\\\\n",
       "\t X         &  21856496 & C>T       & 201T     \\\\\n",
       "\t X         &  45164212 & C>T       & 201T     \\\\\n",
       "\\end{tabular}\n"
      ],
      "text/markdown": [
       "\n",
       "| chr | pos | mut | sample |\n",
       "|---|---|---|---|\n",
       "| X         | 115719187 | T>G       | 201T      |\n",
       "| X         | 141697643 | G>G       | 201T      |\n",
       "| X         | 153346872 | G>T       | 201T      |\n",
       "| X         |  15347338 | G>G       | 201T      |\n",
       "| X         |  21856496 | C>T       | 201T      |\n",
       "| X         |  45164212 | C>T       | 201T      |\n",
       "\n"
      ],
      "text/plain": [
       "  chr pos       mut sample\n",
       "1 X   115719187 T>G 201T  \n",
       "2 X   141697643 G>G 201T  \n",
       "3 X   153346872 G>T 201T  \n",
       "4 X    15347338 G>G 201T  \n",
       "5 X    21856496 C>T 201T  \n",
       "6 X    45164212 C>T 201T  "
      ]
     },
     "metadata": {},
     "output_type": "display_data"
    }
   ],
   "source": [
    "#deconstructSigs_input <- cosmic_mut_all_sort[,match(c(\"chr\",\"pos\",\"mut\",\"sample\"),colnames(cosmic_mut_all_sort))]\n",
    "#deconstructSigs_input <- cosmic_mut_all_sort[,match(c(\"chr\",\"pos\",\"mut\",\"sample\"),colnames(cosmic_mut_all_sort))]\n",
    "#deconstructSigs_input <- cosmic_mut_all_sort[,match(c(\"chr\",\"pos\",\"mut\",\"sample\"),colnames(cosmic_mut_all_sort))]\n",
    "deconstructSigs_input <- subset(cosmic_mut_all_sort, select = c(\"chr\", \"pos\", \"mut\", \"sample\"))\n",
    "head(deconstructSigs_input)"
   ]
  },
  {
   "cell_type": "code",
   "execution_count": 10,
   "metadata": {},
   "outputs": [
    {
     "data": {
      "text/html": [
       "<table>\n",
       "<thead><tr><th scope=col>chr</th><th scope=col>pos</th><th scope=col>mut</th><th scope=col>sample</th><th scope=col>ref</th></tr></thead>\n",
       "<tbody>\n",
       "\t<tr><td>X        </td><td>115719187</td><td>T&gt;G   </td><td>201T     </td><td>T        </td></tr>\n",
       "\t<tr><td>X        </td><td>141697643</td><td>G&gt;G   </td><td>201T     </td><td>G        </td></tr>\n",
       "\t<tr><td>X        </td><td>153346872</td><td>G&gt;T   </td><td>201T     </td><td>G        </td></tr>\n",
       "\t<tr><td>X        </td><td> 15347338</td><td>G&gt;G   </td><td>201T     </td><td>G        </td></tr>\n",
       "\t<tr><td>X        </td><td> 21856496</td><td>C&gt;T   </td><td>201T     </td><td>C        </td></tr>\n",
       "\t<tr><td>X        </td><td> 45164212</td><td>C&gt;T   </td><td>201T     </td><td>C        </td></tr>\n",
       "</tbody>\n",
       "</table>\n"
      ],
      "text/latex": [
       "\\begin{tabular}{r|lllll}\n",
       " chr & pos & mut & sample & ref\\\\\n",
       "\\hline\n",
       "\t X         & 115719187 & T>G       & 201T      & T        \\\\\n",
       "\t X         & 141697643 & G>G       & 201T      & G        \\\\\n",
       "\t X         & 153346872 & G>T       & 201T      & G        \\\\\n",
       "\t X         &  15347338 & G>G       & 201T      & G        \\\\\n",
       "\t X         &  21856496 & C>T       & 201T      & C        \\\\\n",
       "\t X         &  45164212 & C>T       & 201T      & C        \\\\\n",
       "\\end{tabular}\n"
      ],
      "text/markdown": [
       "\n",
       "| chr | pos | mut | sample | ref |\n",
       "|---|---|---|---|---|\n",
       "| X         | 115719187 | T>G       | 201T      | T         |\n",
       "| X         | 141697643 | G>G       | 201T      | G         |\n",
       "| X         | 153346872 | G>T       | 201T      | G         |\n",
       "| X         |  15347338 | G>G       | 201T      | G         |\n",
       "| X         |  21856496 | C>T       | 201T      | C         |\n",
       "| X         |  45164212 | C>T       | 201T      | C         |\n",
       "\n"
      ],
      "text/plain": [
       "  chr pos       mut sample ref\n",
       "1 X   115719187 T>G 201T   T  \n",
       "2 X   141697643 G>G 201T   G  \n",
       "3 X   153346872 G>T 201T   G  \n",
       "4 X    15347338 G>G 201T   G  \n",
       "5 X    21856496 C>T 201T   C  \n",
       "6 X    45164212 C>T 201T   C  "
      ]
     },
     "metadata": {},
     "output_type": "display_data"
    }
   ],
   "source": [
    "deconstructSigs_input$ref <- substr(deconstructSigs_input$mut, 1, 1)\n",
    "head(deconstructSigs_input)"
   ]
  },
  {
   "cell_type": "code",
   "execution_count": 11,
   "metadata": {},
   "outputs": [
    {
     "data": {
      "text/html": [
       "<table>\n",
       "<thead><tr><th scope=col>chr</th><th scope=col>pos</th><th scope=col>mut</th><th scope=col>sample</th><th scope=col>ref</th><th scope=col>alt</th></tr></thead>\n",
       "<tbody>\n",
       "\t<tr><td>X        </td><td>115719187</td><td>T&gt;G   </td><td>201T     </td><td>T        </td><td>G        </td></tr>\n",
       "\t<tr><td>X        </td><td>141697643</td><td>G&gt;G   </td><td>201T     </td><td>G        </td><td>G        </td></tr>\n",
       "\t<tr><td>X        </td><td>153346872</td><td>G&gt;T   </td><td>201T     </td><td>G        </td><td>T        </td></tr>\n",
       "\t<tr><td>X        </td><td> 15347338</td><td>G&gt;G   </td><td>201T     </td><td>G        </td><td>G        </td></tr>\n",
       "\t<tr><td>X        </td><td> 21856496</td><td>C&gt;T   </td><td>201T     </td><td>C        </td><td>T        </td></tr>\n",
       "\t<tr><td>X        </td><td> 45164212</td><td>C&gt;T   </td><td>201T     </td><td>C        </td><td>T        </td></tr>\n",
       "</tbody>\n",
       "</table>\n"
      ],
      "text/latex": [
       "\\begin{tabular}{r|llllll}\n",
       " chr & pos & mut & sample & ref & alt\\\\\n",
       "\\hline\n",
       "\t X         & 115719187 & T>G       & 201T      & T         & G        \\\\\n",
       "\t X         & 141697643 & G>G       & 201T      & G         & G        \\\\\n",
       "\t X         & 153346872 & G>T       & 201T      & G         & T        \\\\\n",
       "\t X         &  15347338 & G>G       & 201T      & G         & G        \\\\\n",
       "\t X         &  21856496 & C>T       & 201T      & C         & T        \\\\\n",
       "\t X         &  45164212 & C>T       & 201T      & C         & T        \\\\\n",
       "\\end{tabular}\n"
      ],
      "text/markdown": [
       "\n",
       "| chr | pos | mut | sample | ref | alt |\n",
       "|---|---|---|---|---|---|\n",
       "| X         | 115719187 | T>G       | 201T      | T         | G         |\n",
       "| X         | 141697643 | G>G       | 201T      | G         | G         |\n",
       "| X         | 153346872 | G>T       | 201T      | G         | T         |\n",
       "| X         |  15347338 | G>G       | 201T      | G         | G         |\n",
       "| X         |  21856496 | C>T       | 201T      | C         | T         |\n",
       "| X         |  45164212 | C>T       | 201T      | C         | T         |\n",
       "\n"
      ],
      "text/plain": [
       "  chr pos       mut sample ref alt\n",
       "1 X   115719187 T>G 201T   T   G  \n",
       "2 X   141697643 G>G 201T   G   G  \n",
       "3 X   153346872 G>T 201T   G   T  \n",
       "4 X    15347338 G>G 201T   G   G  \n",
       "5 X    21856496 C>T 201T   C   T  \n",
       "6 X    45164212 C>T 201T   C   T  "
      ]
     },
     "metadata": {},
     "output_type": "display_data"
    }
   ],
   "source": [
    "deconstructSigs_input$alt <- substr(deconstructSigs_input$mut, 3, 3)\n",
    "head(deconstructSigs_input)"
   ]
  },
  {
   "cell_type": "code",
   "execution_count": 12,
   "metadata": {},
   "outputs": [
    {
     "data": {
      "text/html": [
       "<table>\n",
       "<thead><tr><th scope=col>chr</th><th scope=col>pos</th><th scope=col>ref</th><th scope=col>alt</th><th scope=col>sample</th></tr></thead>\n",
       "<tbody>\n",
       "\t<tr><td>X        </td><td>115719187</td><td>T        </td><td>G        </td><td>201T     </td></tr>\n",
       "\t<tr><td>X        </td><td>141697643</td><td>G        </td><td>G        </td><td>201T     </td></tr>\n",
       "\t<tr><td>X        </td><td>153346872</td><td>G        </td><td>T        </td><td>201T     </td></tr>\n",
       "\t<tr><td>X        </td><td> 15347338</td><td>G        </td><td>G        </td><td>201T     </td></tr>\n",
       "\t<tr><td>X        </td><td> 21856496</td><td>C        </td><td>T        </td><td>201T     </td></tr>\n",
       "\t<tr><td>X        </td><td> 45164212</td><td>C        </td><td>T        </td><td>201T     </td></tr>\n",
       "</tbody>\n",
       "</table>\n"
      ],
      "text/latex": [
       "\\begin{tabular}{r|lllll}\n",
       " chr & pos & ref & alt & sample\\\\\n",
       "\\hline\n",
       "\t X         & 115719187 & T         & G         & 201T     \\\\\n",
       "\t X         & 141697643 & G         & G         & 201T     \\\\\n",
       "\t X         & 153346872 & G         & T         & 201T     \\\\\n",
       "\t X         &  15347338 & G         & G         & 201T     \\\\\n",
       "\t X         &  21856496 & C         & T         & 201T     \\\\\n",
       "\t X         &  45164212 & C         & T         & 201T     \\\\\n",
       "\\end{tabular}\n"
      ],
      "text/markdown": [
       "\n",
       "| chr | pos | ref | alt | sample |\n",
       "|---|---|---|---|---|\n",
       "| X         | 115719187 | T         | G         | 201T      |\n",
       "| X         | 141697643 | G         | G         | 201T      |\n",
       "| X         | 153346872 | G         | T         | 201T      |\n",
       "| X         |  15347338 | G         | G         | 201T      |\n",
       "| X         |  21856496 | C         | T         | 201T      |\n",
       "| X         |  45164212 | C         | T         | 201T      |\n",
       "\n"
      ],
      "text/plain": [
       "  chr pos       ref alt sample\n",
       "1 X   115719187 T   G   201T  \n",
       "2 X   141697643 G   G   201T  \n",
       "3 X   153346872 G   T   201T  \n",
       "4 X    15347338 G   G   201T  \n",
       "5 X    21856496 C   T   201T  \n",
       "6 X    45164212 C   T   201T  "
      ]
     },
     "metadata": {},
     "output_type": "display_data"
    }
   ],
   "source": [
    "deconstructSigs_input <- subset(deconstructSigs_input, select = c(\"chr\", \"pos\", \"ref\", \"alt\", \"sample\"))\n",
    "head(deconstructSigs_input)"
   ]
  },
  {
   "cell_type": "code",
   "execution_count": 13,
   "metadata": {},
   "outputs": [
    {
     "name": "stderr",
     "output_type": "stream",
     "text": [
      "Warning message in mut.to.sigs.input(mut.ref = deconstructSigs_input, sample.id = \"sample\", :\n",
      "“Some samples have fewer than 50 mutations:\n",
      "  LB2241-RCC, NCI-H1395”"
     ]
    }
   ],
   "source": [
    "mut.counts <- mut.to.sigs.input(mut.ref = deconstructSigs_input, sample.id = \"sample\", chr = \"chr\", pos = \"pos\", ref = \"ref\", alt = \"alt\", bsg = hg38)"
   ]
  },
  {
   "cell_type": "code",
   "execution_count": 14,
   "metadata": {},
   "outputs": [
    {
     "data": {
      "text/html": [
       "<table>\n",
       "<thead><tr><th></th><th scope=col>A[C&gt;A]A</th><th scope=col>A[C&gt;A]C</th><th scope=col>A[C&gt;A]G</th><th scope=col>A[C&gt;A]T</th><th scope=col>C[C&gt;A]A</th><th scope=col>C[C&gt;A]C</th><th scope=col>C[C&gt;A]G</th><th scope=col>C[C&gt;A]T</th><th scope=col>G[C&gt;A]A</th><th scope=col>G[C&gt;A]C</th><th scope=col>⋯</th><th scope=col>C[T&gt;G]G</th><th scope=col>C[T&gt;G]T</th><th scope=col>G[T&gt;G]A</th><th scope=col>G[T&gt;G]C</th><th scope=col>G[T&gt;G]G</th><th scope=col>G[T&gt;G]T</th><th scope=col>T[T&gt;G]A</th><th scope=col>T[T&gt;G]C</th><th scope=col>T[T&gt;G]G</th><th scope=col>T[T&gt;G]T</th></tr></thead>\n",
       "<tbody>\n",
       "\t<tr><th scope=row>201T</th><td> 6 </td><td> 7 </td><td> 16</td><td> 4 </td><td> 1 </td><td>10 </td><td> 18</td><td> 7 </td><td> 7 </td><td>11 </td><td>⋯  </td><td> 6 </td><td> 5 </td><td> 1 </td><td> 1 </td><td> 3 </td><td> 1 </td><td>1  </td><td>0  </td><td> 3 </td><td> 4 </td></tr>\n",
       "\t<tr><th scope=row>22RV1</th><td>23 </td><td>11 </td><td>123</td><td>11 </td><td>12 </td><td>25 </td><td>131</td><td>32 </td><td>34 </td><td>37 </td><td>⋯  </td><td>35 </td><td> 6 </td><td>10 </td><td> 7 </td><td>21 </td><td>12 </td><td>4  </td><td>8  </td><td>12 </td><td> 1 </td></tr>\n",
       "\t<tr><th scope=row>23132-87</th><td>10 </td><td>11 </td><td> 49</td><td>14 </td><td>23 </td><td>34 </td><td> 81</td><td>44 </td><td>21 </td><td>68 </td><td>⋯  </td><td>26 </td><td>10 </td><td>22 </td><td>18 </td><td>20 </td><td>22 </td><td>5  </td><td>9  </td><td>13 </td><td>10 </td></tr>\n",
       "\t<tr><th scope=row>42-MG-BA</th><td> 3 </td><td> 4 </td><td>  8</td><td> 3 </td><td> 8 </td><td> 4 </td><td> 12</td><td> 2 </td><td> 1 </td><td> 3 </td><td>⋯  </td><td> 1 </td><td> 1 </td><td> 1 </td><td> 0 </td><td> 0 </td><td> 0 </td><td>0  </td><td>2  </td><td> 2 </td><td> 4 </td></tr>\n",
       "\t<tr><th scope=row>451Lu</th><td> 4 </td><td> 9 </td><td>  7</td><td> 3 </td><td>16 </td><td>29 </td><td> 11</td><td>21 </td><td> 5 </td><td> 9 </td><td>⋯  </td><td> 2 </td><td> 3 </td><td> 1 </td><td> 1 </td><td> 2 </td><td> 3 </td><td>1  </td><td>2  </td><td> 1 </td><td> 1 </td></tr>\n",
       "\t<tr><th scope=row>5637</th><td> 2 </td><td> 9 </td><td> 23</td><td> 8 </td><td> 5 </td><td> 8 </td><td> 11</td><td>13 </td><td> 4 </td><td> 7 </td><td>⋯  </td><td> 5 </td><td> 1 </td><td> 0 </td><td> 3 </td><td> 2 </td><td> 3 </td><td>1  </td><td>1  </td><td> 5 </td><td> 4 </td></tr>\n",
       "</tbody>\n",
       "</table>\n"
      ],
      "text/latex": [
       "\\begin{tabular}{r|llllllllllllllllllllllllllllllllllllllllllllllllllllllllllllllllllllllllllllllllllllllllllllllll}\n",
       "  & A{[}C>A{]}A & A{[}C>A{]}C & A{[}C>A{]}G & A{[}C>A{]}T & C{[}C>A{]}A & C{[}C>A{]}C & C{[}C>A{]}G & C{[}C>A{]}T & G{[}C>A{]}A & G{[}C>A{]}C & ⋯ & C{[}T>G{]}G & C{[}T>G{]}T & G{[}T>G{]}A & G{[}T>G{]}C & G{[}T>G{]}G & G{[}T>G{]}T & T{[}T>G{]}A & T{[}T>G{]}C & T{[}T>G{]}G & T{[}T>G{]}T\\\\\n",
       "\\hline\n",
       "\t201T &  6  &  7  &  16 &  4  &  1  & 10  &  18 &  7  &  7  & 11  & ⋯   &  6  &  5  &  1  &  1  &  3  &  1  & 1   & 0   &  3  &  4 \\\\\n",
       "\t22RV1 & 23  & 11  & 123 & 11  & 12  & 25  & 131 & 32  & 34  & 37  & ⋯   & 35  &  6  & 10  &  7  & 21  & 12  & 4   & 8   & 12  &  1 \\\\\n",
       "\t23132-87 & 10  & 11  &  49 & 14  & 23  & 34  &  81 & 44  & 21  & 68  & ⋯   & 26  & 10  & 22  & 18  & 20  & 22  & 5   & 9   & 13  & 10 \\\\\n",
       "\t42-MG-BA &  3  &  4  &   8 &  3  &  8  &  4  &  12 &  2  &  1  &  3  & ⋯   &  1  &  1  &  1  &  0  &  0  &  0  & 0   & 2   &  2  &  4 \\\\\n",
       "\t451Lu &  4  &  9  &   7 &  3  & 16  & 29  &  11 & 21  &  5  &  9  & ⋯   &  2  &  3  &  1  &  1  &  2  &  3  & 1   & 2   &  1  &  1 \\\\\n",
       "\t5637 &  2  &  9  &  23 &  8  &  5  &  8  &  11 & 13  &  4  &  7  & ⋯   &  5  &  1  &  0  &  3  &  2  &  3  & 1   & 1   &  5  &  4 \\\\\n",
       "\\end{tabular}\n"
      ],
      "text/markdown": [
       "\n",
       "| <!--/--> | A[C>A]A | A[C>A]C | A[C>A]G | A[C>A]T | C[C>A]A | C[C>A]C | C[C>A]G | C[C>A]T | G[C>A]A | G[C>A]C | ⋯ | C[T>G]G | C[T>G]T | G[T>G]A | G[T>G]C | G[T>G]G | G[T>G]T | T[T>G]A | T[T>G]C | T[T>G]G | T[T>G]T |\n",
       "|---|---|---|---|---|---|---|---|---|---|---|---|---|---|---|---|---|---|---|---|---|---|\n",
       "| 201T |  6  |  7  |  16 |  4  |  1  | 10  |  18 |  7  |  7  | 11  | ⋯   |  6  |  5  |  1  |  1  |  3  |  1  | 1   | 0   |  3  |  4  |\n",
       "| 22RV1 | 23  | 11  | 123 | 11  | 12  | 25  | 131 | 32  | 34  | 37  | ⋯   | 35  |  6  | 10  |  7  | 21  | 12  | 4   | 8   | 12  |  1  |\n",
       "| 23132-87 | 10  | 11  |  49 | 14  | 23  | 34  |  81 | 44  | 21  | 68  | ⋯   | 26  | 10  | 22  | 18  | 20  | 22  | 5   | 9   | 13  | 10  |\n",
       "| 42-MG-BA |  3  |  4  |   8 |  3  |  8  |  4  |  12 |  2  |  1  |  3  | ⋯   |  1  |  1  |  1  |  0  |  0  |  0  | 0   | 2   |  2  |  4  |\n",
       "| 451Lu |  4  |  9  |   7 |  3  | 16  | 29  |  11 | 21  |  5  |  9  | ⋯   |  2  |  3  |  1  |  1  |  2  |  3  | 1   | 2   |  1  |  1  |\n",
       "| 5637 |  2  |  9  |  23 |  8  |  5  |  8  |  11 | 13  |  4  |  7  | ⋯   |  5  |  1  |  0  |  3  |  2  |  3  | 1   | 1   |  5  |  4  |\n",
       "\n"
      ],
      "text/plain": [
       "         A[C>A]A A[C>A]C A[C>A]G A[C>A]T C[C>A]A C[C>A]C C[C>A]G C[C>A]T\n",
       "201T      6       7       16      4       1      10       18      7     \n",
       "22RV1    23      11      123     11      12      25      131     32     \n",
       "23132-87 10      11       49     14      23      34       81     44     \n",
       "42-MG-BA  3       4        8      3       8       4       12      2     \n",
       "451Lu     4       9        7      3      16      29       11     21     \n",
       "5637      2       9       23      8       5       8       11     13     \n",
       "         G[C>A]A G[C>A]C ⋯ C[T>G]G C[T>G]T G[T>G]A G[T>G]C G[T>G]G G[T>G]T\n",
       "201T      7      11      ⋯  6       5       1       1       3       1     \n",
       "22RV1    34      37      ⋯ 35       6      10       7      21      12     \n",
       "23132-87 21      68      ⋯ 26      10      22      18      20      22     \n",
       "42-MG-BA  1       3      ⋯  1       1       1       0       0       0     \n",
       "451Lu     5       9      ⋯  2       3       1       1       2       3     \n",
       "5637      4       7      ⋯  5       1       0       3       2       3     \n",
       "         T[T>G]A T[T>G]C T[T>G]G T[T>G]T\n",
       "201T     1       0        3       4     \n",
       "22RV1    4       8       12       1     \n",
       "23132-87 5       9       13      10     \n",
       "42-MG-BA 0       2        2       4     \n",
       "451Lu    1       2        1       1     \n",
       "5637     1       1        5       4     "
      ]
     },
     "metadata": {},
     "output_type": "display_data"
    }
   ],
   "source": [
    "head(mut.counts)"
   ]
  },
  {
   "cell_type": "code",
   "execution_count": 23,
   "metadata": {},
   "outputs": [],
   "source": [
    "signatures.nature2013 <- load(\"cosmic/signatures.nature2013.rda\")"
   ]
  },
  {
   "cell_type": "code",
   "execution_count": 24,
   "metadata": {},
   "outputs": [
    {
     "data": {
      "text/html": [
       "<table>\n",
       "<thead><tr><th></th><th scope=col>A[C&gt;A]A</th><th scope=col>A[C&gt;A]C</th><th scope=col>A[C&gt;A]G</th><th scope=col>A[C&gt;A]T</th><th scope=col>C[C&gt;A]A</th><th scope=col>C[C&gt;A]C</th><th scope=col>C[C&gt;A]G</th><th scope=col>C[C&gt;A]T</th><th scope=col>G[C&gt;A]A</th><th scope=col>G[C&gt;A]C</th><th scope=col>⋯</th><th scope=col>C[T&gt;G]G</th><th scope=col>C[T&gt;G]T</th><th scope=col>G[T&gt;G]A</th><th scope=col>G[T&gt;G]C</th><th scope=col>G[T&gt;G]G</th><th scope=col>G[T&gt;G]T</th><th scope=col>T[T&gt;G]A</th><th scope=col>T[T&gt;G]C</th><th scope=col>T[T&gt;G]G</th><th scope=col>T[T&gt;G]T</th></tr></thead>\n",
       "<tbody>\n",
       "\t<tr><th scope=row>201T</th><td>0.015075377 </td><td>0.017587940 </td><td>0.04020101  </td><td>0.010050251 </td><td>0.002512563 </td><td>0.02512563  </td><td>0.04522613  </td><td>0.01758794  </td><td>0.017587940 </td><td>0.02763819  </td><td>⋯           </td><td>0.015075377 </td><td>0.012562814 </td><td>0.002512563 </td><td>0.002512563 </td><td>0.007537688 </td><td>0.002512563 </td><td>0.002512563 </td><td>0.000000000 </td><td>0.007537688 </td><td>0.0100502513</td></tr>\n",
       "\t<tr><th scope=row>22RV1</th><td>0.013009050 </td><td>0.006221719 </td><td>0.06957014  </td><td>0.006221719 </td><td>0.006787330 </td><td>0.01414027  </td><td>0.07409502  </td><td>0.01809955  </td><td>0.019230769 </td><td>0.02092760  </td><td>⋯           </td><td>0.019796380 </td><td>0.003393665 </td><td>0.005656109 </td><td>0.003959276 </td><td>0.011877828 </td><td>0.006787330 </td><td>0.002262443 </td><td>0.004524887 </td><td>0.006787330 </td><td>0.0005656109</td></tr>\n",
       "\t<tr><th scope=row>23132-87</th><td>0.005720824 </td><td>0.006292906 </td><td>0.02803204  </td><td>0.008009153 </td><td>0.013157895 </td><td>0.01945080  </td><td>0.04633867  </td><td>0.02517162  </td><td>0.012013730 </td><td>0.03890160  </td><td>⋯           </td><td>0.014874142 </td><td>0.005720824 </td><td>0.012585812 </td><td>0.010297483 </td><td>0.011441648 </td><td>0.012585812 </td><td>0.002860412 </td><td>0.005148741 </td><td>0.007437071 </td><td>0.0057208238</td></tr>\n",
       "\t<tr><th scope=row>42-MG-BA</th><td>0.015000000 </td><td>0.020000000 </td><td>0.04000000  </td><td>0.015000000 </td><td>0.040000000 </td><td>0.02000000  </td><td>0.06000000  </td><td>0.01000000  </td><td>0.005000000 </td><td>0.01500000  </td><td>⋯           </td><td>0.005000000 </td><td>0.005000000 </td><td>0.005000000 </td><td>0.000000000 </td><td>0.000000000 </td><td>0.000000000 </td><td>0.000000000 </td><td>0.010000000 </td><td>0.010000000 </td><td>0.0200000000</td></tr>\n",
       "\t<tr><th scope=row>451Lu</th><td>0.006622517 </td><td>0.014900662 </td><td>0.01158940  </td><td>0.004966887 </td><td>0.026490066 </td><td>0.04801325  </td><td>0.01821192  </td><td>0.03476821  </td><td>0.008278146 </td><td>0.01490066  </td><td>⋯           </td><td>0.003311258 </td><td>0.004966887 </td><td>0.001655629 </td><td>0.001655629 </td><td>0.003311258 </td><td>0.004966887 </td><td>0.001655629 </td><td>0.003311258 </td><td>0.001655629 </td><td>0.0016556291</td></tr>\n",
       "\t<tr><th scope=row>5637</th><td>0.003717472 </td><td>0.016728625 </td><td>0.04275093  </td><td>0.014869888 </td><td>0.009293680 </td><td>0.01486989  </td><td>0.02044610  </td><td>0.02416357  </td><td>0.007434944 </td><td>0.01301115  </td><td>⋯           </td><td>0.009293680 </td><td>0.001858736 </td><td>0.000000000 </td><td>0.005576208 </td><td>0.003717472 </td><td>0.005576208 </td><td>0.001858736 </td><td>0.001858736 </td><td>0.009293680 </td><td>0.0074349442</td></tr>\n",
       "</tbody>\n",
       "</table>\n"
      ],
      "text/latex": [
       "\\begin{tabular}{r|llllllllllllllllllllllllllllllllllllllllllllllllllllllllllllllllllllllllllllllllllllllllllllllll}\n",
       "  & A{[}C>A{]}A & A{[}C>A{]}C & A{[}C>A{]}G & A{[}C>A{]}T & C{[}C>A{]}A & C{[}C>A{]}C & C{[}C>A{]}G & C{[}C>A{]}T & G{[}C>A{]}A & G{[}C>A{]}C & ⋯ & C{[}T>G{]}G & C{[}T>G{]}T & G{[}T>G{]}A & G{[}T>G{]}C & G{[}T>G{]}G & G{[}T>G{]}T & T{[}T>G{]}A & T{[}T>G{]}C & T{[}T>G{]}G & T{[}T>G{]}T\\\\\n",
       "\\hline\n",
       "\t201T & 0.015075377  & 0.017587940  & 0.04020101   & 0.010050251  & 0.002512563  & 0.02512563   & 0.04522613   & 0.01758794   & 0.017587940  & 0.02763819   & ⋯            & 0.015075377  & 0.012562814  & 0.002512563  & 0.002512563  & 0.007537688  & 0.002512563  & 0.002512563  & 0.000000000  & 0.007537688  & 0.0100502513\\\\\n",
       "\t22RV1 & 0.013009050  & 0.006221719  & 0.06957014   & 0.006221719  & 0.006787330  & 0.01414027   & 0.07409502   & 0.01809955   & 0.019230769  & 0.02092760   & ⋯            & 0.019796380  & 0.003393665  & 0.005656109  & 0.003959276  & 0.011877828  & 0.006787330  & 0.002262443  & 0.004524887  & 0.006787330  & 0.0005656109\\\\\n",
       "\t23132-87 & 0.005720824  & 0.006292906  & 0.02803204   & 0.008009153  & 0.013157895  & 0.01945080   & 0.04633867   & 0.02517162   & 0.012013730  & 0.03890160   & ⋯            & 0.014874142  & 0.005720824  & 0.012585812  & 0.010297483  & 0.011441648  & 0.012585812  & 0.002860412  & 0.005148741  & 0.007437071  & 0.0057208238\\\\\n",
       "\t42-MG-BA & 0.015000000  & 0.020000000  & 0.04000000   & 0.015000000  & 0.040000000  & 0.02000000   & 0.06000000   & 0.01000000   & 0.005000000  & 0.01500000   & ⋯            & 0.005000000  & 0.005000000  & 0.005000000  & 0.000000000  & 0.000000000  & 0.000000000  & 0.000000000  & 0.010000000  & 0.010000000  & 0.0200000000\\\\\n",
       "\t451Lu & 0.006622517  & 0.014900662  & 0.01158940   & 0.004966887  & 0.026490066  & 0.04801325   & 0.01821192   & 0.03476821   & 0.008278146  & 0.01490066   & ⋯            & 0.003311258  & 0.004966887  & 0.001655629  & 0.001655629  & 0.003311258  & 0.004966887  & 0.001655629  & 0.003311258  & 0.001655629  & 0.0016556291\\\\\n",
       "\t5637 & 0.003717472  & 0.016728625  & 0.04275093   & 0.014869888  & 0.009293680  & 0.01486989   & 0.02044610   & 0.02416357   & 0.007434944  & 0.01301115   & ⋯            & 0.009293680  & 0.001858736  & 0.000000000  & 0.005576208  & 0.003717472  & 0.005576208  & 0.001858736  & 0.001858736  & 0.009293680  & 0.0074349442\\\\\n",
       "\\end{tabular}\n"
      ],
      "text/markdown": [
       "\n",
       "| <!--/--> | A[C>A]A | A[C>A]C | A[C>A]G | A[C>A]T | C[C>A]A | C[C>A]C | C[C>A]G | C[C>A]T | G[C>A]A | G[C>A]C | ⋯ | C[T>G]G | C[T>G]T | G[T>G]A | G[T>G]C | G[T>G]G | G[T>G]T | T[T>G]A | T[T>G]C | T[T>G]G | T[T>G]T |\n",
       "|---|---|---|---|---|---|---|---|---|---|---|---|---|---|---|---|---|---|---|---|---|---|\n",
       "| 201T | 0.015075377  | 0.017587940  | 0.04020101   | 0.010050251  | 0.002512563  | 0.02512563   | 0.04522613   | 0.01758794   | 0.017587940  | 0.02763819   | ⋯            | 0.015075377  | 0.012562814  | 0.002512563  | 0.002512563  | 0.007537688  | 0.002512563  | 0.002512563  | 0.000000000  | 0.007537688  | 0.0100502513 |\n",
       "| 22RV1 | 0.013009050  | 0.006221719  | 0.06957014   | 0.006221719  | 0.006787330  | 0.01414027   | 0.07409502   | 0.01809955   | 0.019230769  | 0.02092760   | ⋯            | 0.019796380  | 0.003393665  | 0.005656109  | 0.003959276  | 0.011877828  | 0.006787330  | 0.002262443  | 0.004524887  | 0.006787330  | 0.0005656109 |\n",
       "| 23132-87 | 0.005720824  | 0.006292906  | 0.02803204   | 0.008009153  | 0.013157895  | 0.01945080   | 0.04633867   | 0.02517162   | 0.012013730  | 0.03890160   | ⋯            | 0.014874142  | 0.005720824  | 0.012585812  | 0.010297483  | 0.011441648  | 0.012585812  | 0.002860412  | 0.005148741  | 0.007437071  | 0.0057208238 |\n",
       "| 42-MG-BA | 0.015000000  | 0.020000000  | 0.04000000   | 0.015000000  | 0.040000000  | 0.02000000   | 0.06000000   | 0.01000000   | 0.005000000  | 0.01500000   | ⋯            | 0.005000000  | 0.005000000  | 0.005000000  | 0.000000000  | 0.000000000  | 0.000000000  | 0.000000000  | 0.010000000  | 0.010000000  | 0.0200000000 |\n",
       "| 451Lu | 0.006622517  | 0.014900662  | 0.01158940   | 0.004966887  | 0.026490066  | 0.04801325   | 0.01821192   | 0.03476821   | 0.008278146  | 0.01490066   | ⋯            | 0.003311258  | 0.004966887  | 0.001655629  | 0.001655629  | 0.003311258  | 0.004966887  | 0.001655629  | 0.003311258  | 0.001655629  | 0.0016556291 |\n",
       "| 5637 | 0.003717472  | 0.016728625  | 0.04275093   | 0.014869888  | 0.009293680  | 0.01486989   | 0.02044610   | 0.02416357   | 0.007434944  | 0.01301115   | ⋯            | 0.009293680  | 0.001858736  | 0.000000000  | 0.005576208  | 0.003717472  | 0.005576208  | 0.001858736  | 0.001858736  | 0.009293680  | 0.0074349442 |\n",
       "\n"
      ],
      "text/plain": [
       "         A[C>A]A     A[C>A]C     A[C>A]G    A[C>A]T     C[C>A]A     C[C>A]C   \n",
       "201T     0.015075377 0.017587940 0.04020101 0.010050251 0.002512563 0.02512563\n",
       "22RV1    0.013009050 0.006221719 0.06957014 0.006221719 0.006787330 0.01414027\n",
       "23132-87 0.005720824 0.006292906 0.02803204 0.008009153 0.013157895 0.01945080\n",
       "42-MG-BA 0.015000000 0.020000000 0.04000000 0.015000000 0.040000000 0.02000000\n",
       "451Lu    0.006622517 0.014900662 0.01158940 0.004966887 0.026490066 0.04801325\n",
       "5637     0.003717472 0.016728625 0.04275093 0.014869888 0.009293680 0.01486989\n",
       "         C[C>A]G    C[C>A]T    G[C>A]A     G[C>A]C    ⋯ C[T>G]G     C[T>G]T    \n",
       "201T     0.04522613 0.01758794 0.017587940 0.02763819 ⋯ 0.015075377 0.012562814\n",
       "22RV1    0.07409502 0.01809955 0.019230769 0.02092760 ⋯ 0.019796380 0.003393665\n",
       "23132-87 0.04633867 0.02517162 0.012013730 0.03890160 ⋯ 0.014874142 0.005720824\n",
       "42-MG-BA 0.06000000 0.01000000 0.005000000 0.01500000 ⋯ 0.005000000 0.005000000\n",
       "451Lu    0.01821192 0.03476821 0.008278146 0.01490066 ⋯ 0.003311258 0.004966887\n",
       "5637     0.02044610 0.02416357 0.007434944 0.01301115 ⋯ 0.009293680 0.001858736\n",
       "         G[T>G]A     G[T>G]C     G[T>G]G     G[T>G]T     T[T>G]A    \n",
       "201T     0.002512563 0.002512563 0.007537688 0.002512563 0.002512563\n",
       "22RV1    0.005656109 0.003959276 0.011877828 0.006787330 0.002262443\n",
       "23132-87 0.012585812 0.010297483 0.011441648 0.012585812 0.002860412\n",
       "42-MG-BA 0.005000000 0.000000000 0.000000000 0.000000000 0.000000000\n",
       "451Lu    0.001655629 0.001655629 0.003311258 0.004966887 0.001655629\n",
       "5637     0.000000000 0.005576208 0.003717472 0.005576208 0.001858736\n",
       "         T[T>G]C     T[T>G]G     T[T>G]T     \n",
       "201T     0.000000000 0.007537688 0.0100502513\n",
       "22RV1    0.004524887 0.006787330 0.0005656109\n",
       "23132-87 0.005148741 0.007437071 0.0057208238\n",
       "42-MG-BA 0.010000000 0.010000000 0.0200000000\n",
       "451Lu    0.003311258 0.001655629 0.0016556291\n",
       "5637     0.001858736 0.009293680 0.0074349442"
      ]
     },
     "metadata": {},
     "output_type": "display_data"
    }
   ],
   "source": [
    "context <- getTriContextFraction(mut.counts.ref = mut.counts, trimer.counts.method = \"default\")\n",
    "head(context)"
   ]
  },
  {
   "cell_type": "code",
   "execution_count": 25,
   "metadata": {},
   "outputs": [
    {
     "data": {
      "text/html": [
       "<ol class=list-inline>\n",
       "\t<li>0.042713567839196</li>\n",
       "\t<li>0.00735294117647059</li>\n",
       "\t<li>0.0165903890160183</li>\n",
       "\t<li>0.045</li>\n",
       "\t<li>0.0943708609271523</li>\n",
       "\t<li>0.128252788104089</li>\n",
       "</ol>\n"
      ],
      "text/latex": [
       "\\begin{enumerate*}\n",
       "\\item 0.042713567839196\n",
       "\\item 0.00735294117647059\n",
       "\\item 0.0165903890160183\n",
       "\\item 0.045\n",
       "\\item 0.0943708609271523\n",
       "\\item 0.128252788104089\n",
       "\\end{enumerate*}\n"
      ],
      "text/markdown": [
       "1. 0.042713567839196\n",
       "2. 0.00735294117647059\n",
       "3. 0.0165903890160183\n",
       "4. 0.045\n",
       "5. 0.0943708609271523\n",
       "6. 0.128252788104089\n",
       "\n",
       "\n"
      ],
      "text/plain": [
       "[1] 0.042713568 0.007352941 0.016590389 0.045000000 0.094370861 0.128252788"
      ]
     },
     "metadata": {},
     "output_type": "display_data"
    }
   ],
   "source": [
    "context$tca_tct <- context[,\"T[C>T]A\"] + context[,\"T[C>T]T\"] + context[,\"T[C>G]A\"] + context[,\"T[C>G]T\"]\n",
    "head(context$tca_tct)"
   ]
  },
  {
   "cell_type": "code",
   "execution_count": 26,
   "metadata": {},
   "outputs": [
    {
     "data": {
      "text/html": [
       "<ol class=list-inline>\n",
       "\t<li>'201T'</li>\n",
       "\t<li>'22RV1'</li>\n",
       "\t<li>'23132-87'</li>\n",
       "\t<li>'42-MG-BA'</li>\n",
       "\t<li>'451Lu'</li>\n",
       "\t<li>'5637'</li>\n",
       "</ol>\n"
      ],
      "text/latex": [
       "\\begin{enumerate*}\n",
       "\\item '201T'\n",
       "\\item '22RV1'\n",
       "\\item '23132-87'\n",
       "\\item '42-MG-BA'\n",
       "\\item '451Lu'\n",
       "\\item '5637'\n",
       "\\end{enumerate*}\n"
      ],
      "text/markdown": [
       "1. '201T'\n",
       "2. '22RV1'\n",
       "3. '23132-87'\n",
       "4. '42-MG-BA'\n",
       "5. '451Lu'\n",
       "6. '5637'\n",
       "\n",
       "\n"
      ],
      "text/plain": [
       "[1] \"201T\"     \"22RV1\"    \"23132-87\" \"42-MG-BA\" \"451Lu\"    \"5637\"    "
      ]
     },
     "metadata": {},
     "output_type": "display_data"
    }
   ],
   "source": [
    "context$sample <- rownames(context)\n",
    "head(context$sample)"
   ]
  },
  {
   "cell_type": "code",
   "execution_count": 27,
   "metadata": {},
   "outputs": [
    {
     "data": {
      "text/html": [
       "<table>\n",
       "<thead><tr><th></th><th scope=col>sample</th><th scope=col>tca_tct</th></tr></thead>\n",
       "<tbody>\n",
       "\t<tr><th scope=row>201T</th><td>201T       </td><td>0.042713568</td></tr>\n",
       "\t<tr><th scope=row>22RV1</th><td>22RV1      </td><td>0.007352941</td></tr>\n",
       "\t<tr><th scope=row>23132-87</th><td>23132-87   </td><td>0.016590389</td></tr>\n",
       "\t<tr><th scope=row>42-MG-BA</th><td>42-MG-BA   </td><td>0.045000000</td></tr>\n",
       "\t<tr><th scope=row>451Lu</th><td>451Lu      </td><td>0.094370861</td></tr>\n",
       "\t<tr><th scope=row>5637</th><td>5637       </td><td>0.128252788</td></tr>\n",
       "</tbody>\n",
       "</table>\n"
      ],
      "text/latex": [
       "\\begin{tabular}{r|ll}\n",
       "  & sample & tca\\_tct\\\\\n",
       "\\hline\n",
       "\t201T & 201T        & 0.042713568\\\\\n",
       "\t22RV1 & 22RV1       & 0.007352941\\\\\n",
       "\t23132-87 & 23132-87    & 0.016590389\\\\\n",
       "\t42-MG-BA & 42-MG-BA    & 0.045000000\\\\\n",
       "\t451Lu & 451Lu       & 0.094370861\\\\\n",
       "\t5637 & 5637        & 0.128252788\\\\\n",
       "\\end{tabular}\n"
      ],
      "text/markdown": [
       "\n",
       "| <!--/--> | sample | tca_tct |\n",
       "|---|---|---|\n",
       "| 201T | 201T        | 0.042713568 |\n",
       "| 22RV1 | 22RV1       | 0.007352941 |\n",
       "| 23132-87 | 23132-87    | 0.016590389 |\n",
       "| 42-MG-BA | 42-MG-BA    | 0.045000000 |\n",
       "| 451Lu | 451Lu       | 0.094370861 |\n",
       "| 5637 | 5637        | 0.128252788 |\n",
       "\n"
      ],
      "text/plain": [
       "         sample   tca_tct    \n",
       "201T     201T     0.042713568\n",
       "22RV1    22RV1    0.007352941\n",
       "23132-87 23132-87 0.016590389\n",
       "42-MG-BA 42-MG-BA 0.045000000\n",
       "451Lu    451Lu    0.094370861\n",
       "5637     5637     0.128252788"
      ]
     },
     "metadata": {},
     "output_type": "display_data"
    }
   ],
   "source": [
    "tca_tct <- subset(context, select = c(\"sample\", \"tca_tct\"))\n",
    "head(tca_tct)"
   ]
  },
  {
   "cell_type": "code",
   "execution_count": 28,
   "metadata": {},
   "outputs": [
    {
     "data": {
      "text/html": [
       "<table>\n",
       "<thead><tr><th scope=col>sample</th><th scope=col>tca_tct</th></tr></thead>\n",
       "<tbody>\n",
       "\t<tr><td>201T       </td><td>0.042713568</td></tr>\n",
       "\t<tr><td>22RV1      </td><td>0.007352941</td></tr>\n",
       "\t<tr><td>23132-87   </td><td>0.016590389</td></tr>\n",
       "\t<tr><td>42-MG-BA   </td><td>0.045000000</td></tr>\n",
       "\t<tr><td>451Lu      </td><td>0.094370861</td></tr>\n",
       "\t<tr><td>5637       </td><td>0.128252788</td></tr>\n",
       "</tbody>\n",
       "</table>\n"
      ],
      "text/latex": [
       "\\begin{tabular}{r|ll}\n",
       " sample & tca\\_tct\\\\\n",
       "\\hline\n",
       "\t 201T        & 0.042713568\\\\\n",
       "\t 22RV1       & 0.007352941\\\\\n",
       "\t 23132-87    & 0.016590389\\\\\n",
       "\t 42-MG-BA    & 0.045000000\\\\\n",
       "\t 451Lu       & 0.094370861\\\\\n",
       "\t 5637        & 0.128252788\\\\\n",
       "\\end{tabular}\n"
      ],
      "text/markdown": [
       "\n",
       "| sample | tca_tct |\n",
       "|---|---|\n",
       "| 201T        | 0.042713568 |\n",
       "| 22RV1       | 0.007352941 |\n",
       "| 23132-87    | 0.016590389 |\n",
       "| 42-MG-BA    | 0.045000000 |\n",
       "| 451Lu       | 0.094370861 |\n",
       "| 5637        | 0.128252788 |\n",
       "\n"
      ],
      "text/plain": [
       "  sample   tca_tct    \n",
       "1 201T     0.042713568\n",
       "2 22RV1    0.007352941\n",
       "3 23132-87 0.016590389\n",
       "4 42-MG-BA 0.045000000\n",
       "5 451Lu    0.094370861\n",
       "6 5637     0.128252788"
      ]
     },
     "metadata": {},
     "output_type": "display_data"
    }
   ],
   "source": [
    "rownames(tca_tct) <- NULL\n",
    "head(tca_tct)"
   ]
  },
  {
   "cell_type": "code",
   "execution_count": 29,
   "metadata": {},
   "outputs": [],
   "source": [
    "# cleanup\n",
    "context$sample <- NULL\n",
    "context$tca_tct <- NULL"
   ]
  },
  {
   "cell_type": "code",
   "execution_count": 30,
   "metadata": {},
   "outputs": [
    {
     "data": {
      "text/html": [
       "<table>\n",
       "<thead><tr><th></th><th scope=col>weights.Signature.1</th><th scope=col>weights.Signature.2</th><th scope=col>weights.Signature.3</th><th scope=col>weights.Signature.4</th><th scope=col>weights.Signature.5</th><th scope=col>weights.Signature.6</th><th scope=col>weights.Signature.7</th><th scope=col>weights.Signature.8</th><th scope=col>weights.Signature.9</th><th scope=col>weights.Signature.10</th><th scope=col>⋯</th><th scope=col>diff.C.T.G.T</th><th scope=col>diff.G.T.G.A</th><th scope=col>diff.G.T.G.C</th><th scope=col>diff.G.T.G.G</th><th scope=col>diff.G.T.G.T</th><th scope=col>diff.T.T.G.A</th><th scope=col>diff.T.T.G.C</th><th scope=col>diff.T.T.G.G</th><th scope=col>diff.T.T.G.T</th><th scope=col>unknown</th></tr></thead>\n",
       "<tbody>\n",
       "\t<tr><th scope=row>ZR-75-30</th><td>0.1411407    </td><td>0.07308761   </td><td>0.1611302    </td><td>0            </td><td>0            </td><td>0            </td><td>0            </td><td>0            </td><td>0.1267835    </td><td>0            </td><td>⋯            </td><td>-0.001807577 </td><td>-0.001603643 </td><td>0.001276981  </td><td>0.007630238  </td><td>0.003221924  </td><td>-0.002839726 </td><td>-0.00222884  </td><td>0.003524287  </td><td>-0.0003385806</td><td>0.1918368    </td></tr>\n",
       "</tbody>\n",
       "</table>\n"
      ],
      "text/latex": [
       "\\begin{tabular}{r|lllllllllllllllllllllllllllllllllllllllllllllllllllllllllllllllllllllllllllllllllllllllllllllllllllllllllllllllllllllllllllllllllllllllllllllllllllllllllllllllllllllllllllllllllllllllllllllllllllllllllllllllllllllllllllllllllllllllllllllllllllllllllllllllllllllllllllllllllllllllllllllllllllllllllllllllllllllllllllllll}\n",
       "  & weights.Signature.1 & weights.Signature.2 & weights.Signature.3 & weights.Signature.4 & weights.Signature.5 & weights.Signature.6 & weights.Signature.7 & weights.Signature.8 & weights.Signature.9 & weights.Signature.10 & ⋯ & diff.C.T.G.T & diff.G.T.G.A & diff.G.T.G.C & diff.G.T.G.G & diff.G.T.G.T & diff.T.T.G.A & diff.T.T.G.C & diff.T.T.G.G & diff.T.T.G.T & unknown\\\\\n",
       "\\hline\n",
       "\tZR-75-30 & 0.1411407     & 0.07308761    & 0.1611302     & 0             & 0             & 0             & 0             & 0             & 0.1267835     & 0             & ⋯             & -0.001807577  & -0.001603643  & 0.001276981   & 0.007630238   & 0.003221924   & -0.002839726  & -0.00222884   & 0.003524287   & -0.0003385806 & 0.1918368    \\\\\n",
       "\\end{tabular}\n"
      ],
      "text/markdown": [
       "\n",
       "| <!--/--> | weights.Signature.1 | weights.Signature.2 | weights.Signature.3 | weights.Signature.4 | weights.Signature.5 | weights.Signature.6 | weights.Signature.7 | weights.Signature.8 | weights.Signature.9 | weights.Signature.10 | ⋯ | diff.C.T.G.T | diff.G.T.G.A | diff.G.T.G.C | diff.G.T.G.G | diff.G.T.G.T | diff.T.T.G.A | diff.T.T.G.C | diff.T.T.G.G | diff.T.T.G.T | unknown |\n",
       "|---|---|---|---|---|---|---|---|---|---|---|---|---|---|---|---|---|---|---|---|---|---|\n",
       "| ZR-75-30 | 0.1411407     | 0.07308761    | 0.1611302     | 0             | 0             | 0             | 0             | 0             | 0.1267835     | 0             | ⋯             | -0.001807577  | -0.001603643  | 0.001276981   | 0.007630238   | 0.003221924   | -0.002839726  | -0.00222884   | 0.003524287   | -0.0003385806 | 0.1918368     |\n",
       "\n"
      ],
      "text/plain": [
       "         weights.Signature.1 weights.Signature.2 weights.Signature.3\n",
       "ZR-75-30 0.1411407           0.07308761          0.1611302          \n",
       "         weights.Signature.4 weights.Signature.5 weights.Signature.6\n",
       "ZR-75-30 0                   0                   0                  \n",
       "         weights.Signature.7 weights.Signature.8 weights.Signature.9\n",
       "ZR-75-30 0                   0                   0.1267835          \n",
       "         weights.Signature.10 ⋯ diff.C.T.G.T diff.G.T.G.A diff.G.T.G.C\n",
       "ZR-75-30 0                    ⋯ -0.001807577 -0.001603643 0.001276981 \n",
       "         diff.G.T.G.G diff.G.T.G.T diff.T.T.G.A diff.T.T.G.C diff.T.T.G.G\n",
       "ZR-75-30 0.007630238  0.003221924  -0.002839726 -0.00222884  0.003524287 \n",
       "         diff.T.T.G.T  unknown  \n",
       "ZR-75-30 -0.0003385806 0.1918368"
      ]
     },
     "metadata": {},
     "output_type": "display_data"
    }
   ],
   "source": [
    "output.sigs.final <- as.data.frame(whichSignatures(context,\n",
    "    sample.id = \"ZR-75-30\",\n",
    "    signatures.cosmic,\n",
    "    contexts.needed = F))\n",
    "head(output.sigs.final)"
   ]
  },
  {
   "cell_type": "code",
   "execution_count": 31,
   "metadata": {
    "scrolled": false
   },
   "outputs": [
    {
     "name": "stderr",
     "output_type": "stream",
     "text": [
      "1 - 1020\n",
      "2 - 1020\n",
      "3 - 1020\n",
      "4 - 1020\n",
      "5 - 1020\n",
      "6 - 1020\n",
      "7 - 1020\n",
      "8 - 1020\n",
      "9 - 1020\n",
      "10 - 1020\n",
      "11 - 1020\n",
      "12 - 1020\n",
      "13 - 1020\n",
      "14 - 1020\n",
      "15 - 1020\n",
      "16 - 1020\n",
      "17 - 1020\n",
      "18 - 1020\n",
      "19 - 1020\n",
      "20 - 1020\n",
      "21 - 1020\n",
      "22 - 1020\n",
      "23 - 1020\n",
      "24 - 1020\n",
      "25 - 1020\n",
      "26 - 1020\n",
      "27 - 1020\n",
      "28 - 1020\n",
      "29 - 1020\n",
      "30 - 1020\n",
      "31 - 1020\n",
      "32 - 1020\n",
      "33 - 1020\n",
      "34 - 1020\n",
      "35 - 1020\n",
      "36 - 1020\n",
      "37 - 1020\n",
      "38 - 1020\n",
      "39 - 1020\n",
      "40 - 1020\n",
      "41 - 1020\n",
      "42 - 1020\n",
      "43 - 1020\n",
      "44 - 1020\n",
      "45 - 1020\n",
      "46 - 1020\n",
      "47 - 1020\n",
      "48 - 1020\n",
      "49 - 1020\n",
      "50 - 1020\n",
      "51 - 1020\n",
      "52 - 1020\n",
      "53 - 1020\n",
      "54 - 1020\n",
      "55 - 1020\n",
      "56 - 1020\n",
      "57 - 1020\n",
      "58 - 1020\n",
      "59 - 1020\n",
      "60 - 1020\n",
      "61 - 1020\n",
      "62 - 1020\n",
      "63 - 1020\n",
      "64 - 1020\n",
      "65 - 1020\n",
      "66 - 1020\n",
      "67 - 1020\n",
      "68 - 1020\n",
      "69 - 1020\n",
      "70 - 1020\n",
      "71 - 1020\n",
      "72 - 1020\n",
      "73 - 1020\n",
      "74 - 1020\n",
      "75 - 1020\n",
      "76 - 1020\n",
      "77 - 1020\n",
      "78 - 1020\n",
      "79 - 1020\n",
      "80 - 1020\n",
      "81 - 1020\n",
      "82 - 1020\n",
      "83 - 1020\n",
      "84 - 1020\n",
      "85 - 1020\n",
      "86 - 1020\n",
      "87 - 1020\n",
      "88 - 1020\n",
      "89 - 1020\n",
      "90 - 1020\n",
      "91 - 1020\n",
      "92 - 1020\n",
      "93 - 1020\n",
      "94 - 1020\n",
      "95 - 1020\n",
      "96 - 1020\n",
      "97 - 1020\n",
      "98 - 1020\n",
      "99 - 1020\n",
      "100 - 1020\n",
      "101 - 1020\n",
      "102 - 1020\n",
      "103 - 1020\n",
      "104 - 1020\n",
      "105 - 1020\n",
      "106 - 1020\n",
      "107 - 1020\n",
      "108 - 1020\n",
      "109 - 1020\n",
      "110 - 1020\n",
      "111 - 1020\n",
      "112 - 1020\n",
      "113 - 1020\n",
      "114 - 1020\n",
      "115 - 1020\n",
      "116 - 1020\n",
      "117 - 1020\n",
      "118 - 1020\n",
      "119 - 1020\n",
      "120 - 1020\n",
      "121 - 1020\n",
      "122 - 1020\n",
      "123 - 1020\n",
      "124 - 1020\n",
      "125 - 1020\n",
      "126 - 1020\n",
      "127 - 1020\n",
      "128 - 1020\n",
      "129 - 1020\n",
      "130 - 1020\n",
      "131 - 1020\n",
      "132 - 1020\n",
      "133 - 1020\n",
      "134 - 1020\n",
      "135 - 1020\n",
      "136 - 1020\n",
      "137 - 1020\n",
      "138 - 1020\n",
      "139 - 1020\n",
      "140 - 1020\n",
      "141 - 1020\n",
      "142 - 1020\n",
      "143 - 1020\n",
      "144 - 1020\n",
      "145 - 1020\n",
      "146 - 1020\n",
      "147 - 1020\n",
      "148 - 1020\n",
      "149 - 1020\n",
      "150 - 1020\n",
      "151 - 1020\n",
      "152 - 1020\n",
      "153 - 1020\n",
      "154 - 1020\n",
      "155 - 1020\n",
      "156 - 1020\n",
      "157 - 1020\n",
      "158 - 1020\n",
      "159 - 1020\n",
      "160 - 1020\n",
      "161 - 1020\n",
      "162 - 1020\n",
      "163 - 1020\n",
      "164 - 1020\n",
      "165 - 1020\n",
      "166 - 1020\n",
      "167 - 1020\n",
      "168 - 1020\n",
      "169 - 1020\n",
      "170 - 1020\n",
      "171 - 1020\n",
      "172 - 1020\n",
      "173 - 1020\n",
      "174 - 1020\n",
      "175 - 1020\n",
      "176 - 1020\n",
      "177 - 1020\n",
      "178 - 1020\n",
      "179 - 1020\n",
      "180 - 1020\n",
      "181 - 1020\n",
      "182 - 1020\n",
      "183 - 1020\n",
      "184 - 1020\n",
      "185 - 1020\n",
      "186 - 1020\n",
      "187 - 1020\n",
      "188 - 1020\n",
      "189 - 1020\n",
      "190 - 1020\n",
      "191 - 1020\n",
      "192 - 1020\n",
      "193 - 1020\n",
      "194 - 1020\n",
      "195 - 1020\n",
      "196 - 1020\n",
      "197 - 1020\n",
      "198 - 1020\n",
      "199 - 1020\n",
      "200 - 1020\n",
      "201 - 1020\n",
      "202 - 1020\n",
      "203 - 1020\n",
      "204 - 1020\n",
      "205 - 1020\n",
      "206 - 1020\n",
      "207 - 1020\n",
      "208 - 1020\n",
      "209 - 1020\n",
      "210 - 1020\n",
      "211 - 1020\n",
      "212 - 1020\n",
      "213 - 1020\n",
      "214 - 1020\n",
      "215 - 1020\n",
      "216 - 1020\n",
      "217 - 1020\n",
      "218 - 1020\n",
      "219 - 1020\n",
      "220 - 1020\n",
      "221 - 1020\n",
      "222 - 1020\n",
      "223 - 1020\n",
      "224 - 1020\n",
      "225 - 1020\n",
      "226 - 1020\n",
      "227 - 1020\n",
      "228 - 1020\n",
      "229 - 1020\n",
      "230 - 1020\n",
      "231 - 1020\n",
      "232 - 1020\n",
      "233 - 1020\n",
      "234 - 1020\n",
      "235 - 1020\n",
      "236 - 1020\n",
      "237 - 1020\n",
      "238 - 1020\n",
      "239 - 1020\n",
      "240 - 1020\n",
      "241 - 1020\n",
      "242 - 1020\n",
      "243 - 1020\n",
      "244 - 1020\n",
      "245 - 1020\n",
      "246 - 1020\n",
      "247 - 1020\n",
      "248 - 1020\n",
      "249 - 1020\n",
      "250 - 1020\n",
      "251 - 1020\n",
      "252 - 1020\n",
      "253 - 1020\n",
      "254 - 1020\n",
      "255 - 1020\n",
      "256 - 1020\n",
      "257 - 1020\n",
      "258 - 1020\n",
      "259 - 1020\n",
      "260 - 1020\n",
      "261 - 1020\n",
      "262 - 1020\n",
      "263 - 1020\n",
      "264 - 1020\n",
      "265 - 1020\n",
      "266 - 1020\n",
      "267 - 1020\n",
      "268 - 1020\n",
      "269 - 1020\n",
      "270 - 1020\n",
      "271 - 1020\n",
      "272 - 1020\n",
      "273 - 1020\n",
      "274 - 1020\n",
      "275 - 1020\n",
      "276 - 1020\n",
      "277 - 1020\n",
      "278 - 1020\n",
      "279 - 1020\n",
      "280 - 1020\n",
      "281 - 1020\n",
      "282 - 1020\n",
      "283 - 1020\n",
      "284 - 1020\n",
      "285 - 1020\n",
      "286 - 1020\n",
      "287 - 1020\n",
      "288 - 1020\n",
      "289 - 1020\n",
      "290 - 1020\n",
      "291 - 1020\n",
      "292 - 1020\n",
      "293 - 1020\n",
      "294 - 1020\n",
      "295 - 1020\n",
      "296 - 1020\n",
      "297 - 1020\n",
      "298 - 1020\n",
      "299 - 1020\n",
      "300 - 1020\n",
      "301 - 1020\n",
      "302 - 1020\n",
      "303 - 1020\n",
      "304 - 1020\n",
      "305 - 1020\n",
      "306 - 1020\n",
      "307 - 1020\n",
      "308 - 1020\n",
      "309 - 1020\n",
      "310 - 1020\n",
      "311 - 1020\n",
      "312 - 1020\n",
      "313 - 1020\n",
      "314 - 1020\n",
      "315 - 1020\n",
      "316 - 1020\n",
      "317 - 1020\n",
      "318 - 1020\n",
      "319 - 1020\n",
      "320 - 1020\n",
      "321 - 1020\n",
      "322 - 1020\n",
      "323 - 1020\n",
      "324 - 1020\n",
      "325 - 1020\n",
      "326 - 1020\n",
      "327 - 1020\n",
      "328 - 1020\n",
      "329 - 1020\n",
      "330 - 1020\n",
      "331 - 1020\n",
      "332 - 1020\n",
      "333 - 1020\n",
      "334 - 1020\n",
      "335 - 1020\n",
      "336 - 1020\n",
      "337 - 1020\n",
      "338 - 1020\n",
      "339 - 1020\n",
      "340 - 1020\n",
      "341 - 1020\n",
      "342 - 1020\n",
      "343 - 1020\n",
      "344 - 1020\n",
      "345 - 1020\n",
      "346 - 1020\n",
      "347 - 1020\n",
      "348 - 1020\n",
      "349 - 1020\n",
      "350 - 1020\n",
      "351 - 1020\n",
      "352 - 1020\n",
      "353 - 1020\n",
      "354 - 1020\n",
      "355 - 1020\n",
      "356 - 1020\n",
      "357 - 1020\n",
      "358 - 1020\n",
      "359 - 1020\n",
      "360 - 1020\n",
      "361 - 1020\n",
      "362 - 1020\n",
      "363 - 1020\n",
      "364 - 1020\n",
      "365 - 1020\n",
      "366 - 1020\n",
      "367 - 1020\n",
      "368 - 1020\n",
      "369 - 1020\n",
      "370 - 1020\n",
      "371 - 1020\n",
      "372 - 1020\n",
      "373 - 1020\n",
      "374 - 1020\n",
      "375 - 1020\n",
      "376 - 1020\n",
      "377 - 1020\n",
      "378 - 1020\n",
      "379 - 1020\n",
      "380 - 1020\n",
      "381 - 1020\n",
      "382 - 1020\n",
      "383 - 1020\n",
      "384 - 1020\n",
      "385 - 1020\n",
      "386 - 1020\n",
      "387 - 1020\n",
      "388 - 1020\n",
      "389 - 1020\n",
      "390 - 1020\n",
      "391 - 1020\n",
      "392 - 1020\n",
      "393 - 1020\n",
      "394 - 1020\n",
      "395 - 1020\n",
      "396 - 1020\n",
      "397 - 1020\n",
      "398 - 1020\n",
      "399 - 1020\n",
      "400 - 1020\n",
      "401 - 1020\n",
      "402 - 1020\n",
      "403 - 1020\n",
      "404 - 1020\n",
      "405 - 1020\n",
      "406 - 1020\n",
      "407 - 1020\n",
      "408 - 1020\n",
      "409 - 1020\n",
      "410 - 1020\n",
      "411 - 1020\n",
      "412 - 1020\n",
      "413 - 1020\n",
      "414 - 1020\n",
      "415 - 1020\n",
      "416 - 1020\n",
      "417 - 1020\n",
      "418 - 1020\n",
      "419 - 1020\n",
      "420 - 1020\n",
      "421 - 1020\n",
      "422 - 1020\n",
      "423 - 1020\n",
      "424 - 1020\n",
      "425 - 1020\n",
      "426 - 1020\n",
      "427 - 1020\n",
      "428 - 1020\n",
      "429 - 1020\n",
      "430 - 1020\n",
      "431 - 1020\n",
      "432 - 1020\n",
      "433 - 1020\n",
      "434 - 1020\n",
      "435 - 1020\n",
      "436 - 1020\n",
      "437 - 1020\n",
      "438 - 1020\n",
      "439 - 1020\n",
      "440 - 1020\n",
      "441 - 1020\n",
      "442 - 1020\n",
      "443 - 1020\n",
      "444 - 1020\n",
      "445 - 1020\n",
      "446 - 1020\n",
      "447 - 1020\n",
      "448 - 1020\n",
      "449 - 1020\n",
      "450 - 1020\n",
      "451 - 1020\n",
      "452 - 1020\n",
      "453 - 1020\n",
      "454 - 1020\n",
      "455 - 1020\n",
      "456 - 1020\n",
      "457 - 1020\n",
      "458 - 1020\n",
      "459 - 1020\n",
      "460 - 1020\n",
      "461 - 1020\n",
      "462 - 1020\n",
      "463 - 1020\n",
      "464 - 1020\n",
      "465 - 1020\n",
      "466 - 1020\n",
      "467 - 1020\n",
      "468 - 1020\n",
      "469 - 1020\n",
      "470 - 1020\n",
      "471 - 1020\n",
      "472 - 1020\n",
      "473 - 1020\n",
      "474 - 1020\n",
      "475 - 1020\n",
      "476 - 1020\n",
      "477 - 1020\n",
      "478 - 1020\n",
      "479 - 1020\n",
      "480 - 1020\n",
      "481 - 1020\n",
      "482 - 1020\n",
      "483 - 1020\n",
      "484 - 1020\n",
      "485 - 1020\n",
      "486 - 1020\n",
      "487 - 1020\n",
      "488 - 1020\n",
      "489 - 1020\n",
      "490 - 1020\n",
      "491 - 1020\n",
      "492 - 1020\n",
      "493 - 1020\n",
      "494 - 1020\n",
      "495 - 1020\n",
      "496 - 1020\n",
      "497 - 1020\n",
      "498 - 1020\n",
      "499 - 1020\n",
      "500 - 1020\n",
      "501 - 1020\n",
      "502 - 1020\n",
      "503 - 1020\n",
      "504 - 1020\n",
      "505 - 1020\n",
      "506 - 1020\n",
      "507 - 1020\n",
      "508 - 1020\n",
      "509 - 1020\n",
      "510 - 1020\n",
      "511 - 1020\n",
      "512 - 1020\n",
      "513 - 1020\n",
      "514 - 1020\n",
      "515 - 1020\n",
      "516 - 1020\n",
      "517 - 1020\n",
      "518 - 1020\n",
      "519 - 1020\n",
      "520 - 1020\n",
      "521 - 1020\n",
      "522 - 1020\n",
      "523 - 1020\n",
      "524 - 1020\n",
      "525 - 1020\n",
      "526 - 1020\n",
      "527 - 1020\n",
      "528 - 1020\n",
      "529 - 1020\n",
      "530 - 1020\n",
      "531 - 1020\n",
      "532 - 1020\n",
      "533 - 1020\n",
      "534 - 1020\n",
      "535 - 1020\n",
      "536 - 1020\n",
      "537 - 1020\n",
      "538 - 1020\n",
      "539 - 1020\n",
      "540 - 1020\n",
      "541 - 1020\n",
      "542 - 1020\n",
      "543 - 1020\n",
      "544 - 1020\n",
      "545 - 1020\n",
      "546 - 1020\n",
      "547 - 1020\n",
      "548 - 1020\n",
      "549 - 1020\n",
      "550 - 1020\n",
      "551 - 1020\n",
      "552 - 1020\n",
      "553 - 1020\n",
      "554 - 1020\n",
      "555 - 1020\n",
      "556 - 1020\n",
      "557 - 1020\n",
      "558 - 1020\n",
      "559 - 1020\n",
      "560 - 1020\n",
      "561 - 1020\n",
      "562 - 1020\n",
      "563 - 1020\n",
      "564 - 1020\n",
      "565 - 1020\n",
      "566 - 1020\n",
      "567 - 1020\n",
      "568 - 1020\n",
      "569 - 1020\n",
      "570 - 1020\n",
      "571 - 1020\n",
      "572 - 1020\n",
      "573 - 1020\n",
      "574 - 1020\n",
      "575 - 1020\n",
      "576 - 1020\n",
      "577 - 1020\n",
      "578 - 1020\n",
      "579 - 1020\n",
      "580 - 1020\n",
      "581 - 1020\n",
      "582 - 1020\n",
      "583 - 1020\n",
      "584 - 1020\n",
      "585 - 1020\n",
      "586 - 1020\n",
      "587 - 1020\n",
      "588 - 1020\n",
      "589 - 1020\n",
      "590 - 1020\n",
      "591 - 1020\n",
      "592 - 1020\n",
      "593 - 1020\n",
      "594 - 1020\n",
      "595 - 1020\n",
      "596 - 1020\n",
      "597 - 1020\n",
      "598 - 1020\n",
      "599 - 1020\n",
      "600 - 1020\n",
      "601 - 1020\n",
      "602 - 1020\n",
      "603 - 1020\n",
      "604 - 1020\n",
      "605 - 1020\n",
      "606 - 1020\n",
      "607 - 1020\n",
      "608 - 1020\n",
      "609 - 1020\n",
      "610 - 1020\n",
      "611 - 1020\n",
      "612 - 1020\n",
      "613 - 1020\n",
      "614 - 1020\n",
      "615 - 1020\n",
      "616 - 1020\n",
      "617 - 1020\n",
      "618 - 1020\n",
      "619 - 1020\n",
      "620 - 1020\n",
      "621 - 1020\n",
      "622 - 1020\n",
      "623 - 1020\n",
      "624 - 1020\n",
      "625 - 1020\n",
      "626 - 1020\n",
      "627 - 1020\n",
      "628 - 1020\n",
      "629 - 1020\n",
      "630 - 1020\n",
      "631 - 1020\n",
      "632 - 1020\n",
      "633 - 1020\n",
      "634 - 1020\n",
      "635 - 1020\n",
      "636 - 1020\n",
      "637 - 1020\n",
      "638 - 1020\n",
      "639 - 1020\n",
      "640 - 1020\n",
      "641 - 1020\n",
      "642 - 1020\n",
      "643 - 1020\n",
      "644 - 1020\n",
      "645 - 1020\n",
      "646 - 1020\n",
      "647 - 1020\n",
      "648 - 1020\n",
      "649 - 1020\n",
      "650 - 1020\n",
      "651 - 1020\n",
      "652 - 1020\n",
      "653 - 1020\n",
      "654 - 1020\n",
      "655 - 1020\n",
      "656 - 1020\n",
      "657 - 1020\n",
      "658 - 1020\n",
      "659 - 1020\n",
      "660 - 1020\n",
      "661 - 1020\n",
      "662 - 1020\n",
      "663 - 1020\n",
      "664 - 1020\n",
      "665 - 1020\n",
      "666 - 1020\n",
      "667 - 1020\n",
      "668 - 1020\n",
      "669 - 1020\n",
      "670 - 1020\n",
      "671 - 1020\n",
      "672 - 1020\n",
      "673 - 1020\n",
      "674 - 1020\n",
      "675 - 1020\n",
      "676 - 1020\n",
      "677 - 1020\n",
      "678 - 1020\n",
      "679 - 1020\n",
      "680 - 1020\n",
      "681 - 1020\n",
      "682 - 1020\n",
      "683 - 1020\n",
      "684 - 1020\n",
      "685 - 1020\n",
      "686 - 1020\n",
      "687 - 1020\n",
      "688 - 1020\n",
      "689 - 1020\n",
      "690 - 1020\n",
      "691 - 1020\n",
      "692 - 1020\n",
      "693 - 1020\n",
      "694 - 1020\n",
      "695 - 1020\n",
      "696 - 1020\n",
      "697 - 1020\n",
      "698 - 1020\n",
      "699 - 1020\n",
      "700 - 1020\n",
      "701 - 1020\n",
      "702 - 1020\n",
      "703 - 1020\n",
      "704 - 1020\n",
      "705 - 1020\n",
      "706 - 1020\n",
      "707 - 1020\n",
      "708 - 1020\n",
      "709 - 1020\n",
      "710 - 1020\n",
      "711 - 1020\n",
      "712 - 1020\n",
      "713 - 1020\n",
      "714 - 1020\n",
      "715 - 1020\n",
      "716 - 1020\n",
      "717 - 1020\n",
      "718 - 1020\n",
      "719 - 1020\n",
      "720 - 1020\n",
      "721 - 1020\n",
      "722 - 1020\n",
      "723 - 1020\n",
      "724 - 1020\n",
      "725 - 1020\n",
      "726 - 1020\n",
      "727 - 1020\n",
      "728 - 1020\n",
      "729 - 1020\n",
      "730 - 1020\n",
      "731 - 1020\n",
      "732 - 1020\n",
      "733 - 1020\n",
      "734 - 1020\n",
      "735 - 1020\n",
      "736 - 1020\n",
      "737 - 1020\n",
      "738 - 1020\n",
      "739 - 1020\n",
      "740 - 1020\n",
      "741 - 1020\n",
      "742 - 1020\n",
      "743 - 1020\n",
      "744 - 1020\n",
      "745 - 1020\n",
      "746 - 1020\n",
      "747 - 1020\n",
      "748 - 1020\n",
      "749 - 1020\n",
      "750 - 1020\n",
      "751 - 1020\n",
      "752 - 1020\n",
      "753 - 1020\n",
      "754 - 1020\n",
      "755 - 1020\n"
     ]
    },
    {
     "name": "stderr",
     "output_type": "stream",
     "text": [
      "756 - 1020\n",
      "757 - 1020\n",
      "758 - 1020\n",
      "759 - 1020\n",
      "760 - 1020\n",
      "761 - 1020\n",
      "762 - 1020\n",
      "763 - 1020\n",
      "764 - 1020\n",
      "765 - 1020\n",
      "766 - 1020\n",
      "767 - 1020\n",
      "768 - 1020\n",
      "769 - 1020\n",
      "770 - 1020\n",
      "771 - 1020\n",
      "772 - 1020\n",
      "773 - 1020\n",
      "774 - 1020\n",
      "775 - 1020\n",
      "776 - 1020\n",
      "777 - 1020\n",
      "778 - 1020\n",
      "779 - 1020\n",
      "780 - 1020\n",
      "781 - 1020\n",
      "782 - 1020\n",
      "783 - 1020\n",
      "784 - 1020\n",
      "785 - 1020\n",
      "786 - 1020\n",
      "787 - 1020\n",
      "788 - 1020\n",
      "789 - 1020\n",
      "790 - 1020\n",
      "791 - 1020\n",
      "792 - 1020\n",
      "793 - 1020\n",
      "794 - 1020\n",
      "795 - 1020\n",
      "796 - 1020\n",
      "797 - 1020\n",
      "798 - 1020\n",
      "799 - 1020\n",
      "800 - 1020\n",
      "801 - 1020\n",
      "802 - 1020\n",
      "803 - 1020\n",
      "804 - 1020\n",
      "805 - 1020\n",
      "806 - 1020\n",
      "807 - 1020\n",
      "808 - 1020\n",
      "809 - 1020\n",
      "810 - 1020\n",
      "811 - 1020\n",
      "812 - 1020\n",
      "813 - 1020\n",
      "814 - 1020\n",
      "815 - 1020\n",
      "816 - 1020\n",
      "817 - 1020\n",
      "818 - 1020\n",
      "819 - 1020\n",
      "820 - 1020\n",
      "821 - 1020\n",
      "822 - 1020\n",
      "823 - 1020\n",
      "824 - 1020\n",
      "825 - 1020\n",
      "826 - 1020\n",
      "827 - 1020\n",
      "828 - 1020\n",
      "829 - 1020\n",
      "830 - 1020\n",
      "831 - 1020\n",
      "832 - 1020\n",
      "833 - 1020\n",
      "834 - 1020\n",
      "835 - 1020\n",
      "836 - 1020\n",
      "837 - 1020\n",
      "838 - 1020\n",
      "839 - 1020\n",
      "840 - 1020\n",
      "841 - 1020\n",
      "842 - 1020\n",
      "843 - 1020\n",
      "844 - 1020\n",
      "845 - 1020\n",
      "846 - 1020\n",
      "847 - 1020\n",
      "848 - 1020\n",
      "849 - 1020\n",
      "850 - 1020\n",
      "851 - 1020\n",
      "852 - 1020\n",
      "853 - 1020\n",
      "854 - 1020\n",
      "855 - 1020\n",
      "856 - 1020\n",
      "857 - 1020\n",
      "858 - 1020\n",
      "859 - 1020\n",
      "860 - 1020\n",
      "861 - 1020\n",
      "862 - 1020\n",
      "863 - 1020\n",
      "864 - 1020\n",
      "865 - 1020\n",
      "866 - 1020\n",
      "867 - 1020\n",
      "868 - 1020\n",
      "869 - 1020\n",
      "870 - 1020\n",
      "871 - 1020\n",
      "872 - 1020\n",
      "873 - 1020\n",
      "874 - 1020\n",
      "875 - 1020\n",
      "876 - 1020\n",
      "877 - 1020\n",
      "878 - 1020\n",
      "879 - 1020\n",
      "880 - 1020\n",
      "881 - 1020\n",
      "882 - 1020\n",
      "883 - 1020\n",
      "884 - 1020\n",
      "885 - 1020\n",
      "886 - 1020\n",
      "887 - 1020\n",
      "888 - 1020\n",
      "889 - 1020\n",
      "890 - 1020\n",
      "891 - 1020\n",
      "892 - 1020\n",
      "893 - 1020\n",
      "894 - 1020\n",
      "895 - 1020\n",
      "896 - 1020\n",
      "897 - 1020\n",
      "898 - 1020\n",
      "899 - 1020\n",
      "900 - 1020\n",
      "901 - 1020\n",
      "902 - 1020\n",
      "903 - 1020\n",
      "904 - 1020\n",
      "905 - 1020\n",
      "906 - 1020\n",
      "907 - 1020\n",
      "908 - 1020\n",
      "909 - 1020\n",
      "910 - 1020\n",
      "911 - 1020\n",
      "912 - 1020\n",
      "913 - 1020\n",
      "914 - 1020\n",
      "915 - 1020\n",
      "916 - 1020\n",
      "917 - 1020\n",
      "918 - 1020\n",
      "919 - 1020\n",
      "920 - 1020\n",
      "921 - 1020\n",
      "922 - 1020\n",
      "923 - 1020\n",
      "924 - 1020\n",
      "925 - 1020\n",
      "926 - 1020\n",
      "927 - 1020\n",
      "928 - 1020\n",
      "929 - 1020\n",
      "930 - 1020\n",
      "931 - 1020\n",
      "932 - 1020\n",
      "933 - 1020\n",
      "934 - 1020\n",
      "935 - 1020\n",
      "936 - 1020\n",
      "937 - 1020\n",
      "938 - 1020\n",
      "939 - 1020\n",
      "940 - 1020\n",
      "941 - 1020\n",
      "942 - 1020\n",
      "943 - 1020\n",
      "944 - 1020\n",
      "945 - 1020\n",
      "946 - 1020\n",
      "947 - 1020\n",
      "948 - 1020\n",
      "949 - 1020\n",
      "950 - 1020\n",
      "951 - 1020\n",
      "952 - 1020\n",
      "953 - 1020\n",
      "954 - 1020\n",
      "955 - 1020\n",
      "956 - 1020\n",
      "957 - 1020\n",
      "958 - 1020\n",
      "959 - 1020\n",
      "960 - 1020\n",
      "961 - 1020\n",
      "962 - 1020\n",
      "963 - 1020\n",
      "964 - 1020\n",
      "965 - 1020\n",
      "966 - 1020\n",
      "967 - 1020\n",
      "968 - 1020\n",
      "969 - 1020\n",
      "970 - 1020\n",
      "971 - 1020\n",
      "972 - 1020\n",
      "973 - 1020\n",
      "974 - 1020\n",
      "975 - 1020\n",
      "976 - 1020\n",
      "977 - 1020\n",
      "978 - 1020\n",
      "979 - 1020\n",
      "980 - 1020\n",
      "981 - 1020\n",
      "982 - 1020\n",
      "983 - 1020\n",
      "984 - 1020\n",
      "985 - 1020\n",
      "986 - 1020\n",
      "987 - 1020\n",
      "988 - 1020\n",
      "989 - 1020\n",
      "990 - 1020\n",
      "991 - 1020\n",
      "992 - 1020\n",
      "993 - 1020\n",
      "994 - 1020\n",
      "995 - 1020\n",
      "996 - 1020\n",
      "997 - 1020\n",
      "998 - 1020\n",
      "999 - 1020\n",
      "1000 - 1020\n",
      "1001 - 1020\n",
      "1002 - 1020\n",
      "1003 - 1020\n",
      "1004 - 1020\n",
      "1005 - 1020\n",
      "1006 - 1020\n",
      "1007 - 1020\n",
      "1008 - 1020\n",
      "1009 - 1020\n",
      "1010 - 1020\n",
      "1011 - 1020\n",
      "1012 - 1020\n",
      "1013 - 1020\n",
      "1014 - 1020\n",
      "1015 - 1020\n",
      "1016 - 1020\n",
      "1017 - 1020\n",
      "1018 - 1020\n",
      "1019 - 1020\n",
      "1020 - 1020\n"
     ]
    }
   ],
   "source": [
    "for(i in (1:nrow(context))) {\n",
    "  message(i,\" - \",nrow(context))\n",
    "  output.sigs <- as.data.frame(whichSignatures(context,\n",
    "      sample.id = rownames(context[i,]),\n",
    "      signatures.cosmic,\n",
    "      contexts.needed = F))\n",
    "  output.sigs.final <- rbind(output.sigs.final, output.sigs)\n",
    "}"
   ]
  },
  {
   "cell_type": "code",
   "execution_count": 32,
   "metadata": {},
   "outputs": [
    {
     "data": {
      "text/html": [
       "<table>\n",
       "<thead><tr><th></th><th scope=col>weights.Signature.1</th><th scope=col>weights.Signature.2</th><th scope=col>weights.Signature.3</th><th scope=col>weights.Signature.4</th><th scope=col>weights.Signature.5</th><th scope=col>weights.Signature.6</th><th scope=col>weights.Signature.7</th><th scope=col>weights.Signature.8</th><th scope=col>weights.Signature.9</th><th scope=col>weights.Signature.10</th><th scope=col>⋯</th><th scope=col>diff.C.T.G.T</th><th scope=col>diff.G.T.G.A</th><th scope=col>diff.G.T.G.C</th><th scope=col>diff.G.T.G.G</th><th scope=col>diff.G.T.G.T</th><th scope=col>diff.T.T.G.A</th><th scope=col>diff.T.T.G.C</th><th scope=col>diff.T.T.G.G</th><th scope=col>diff.T.T.G.T</th><th scope=col>unknown</th></tr></thead>\n",
       "<tbody>\n",
       "\t<tr><th scope=row>ZR-75-30</th><td>0.1411407    </td><td>0.07308761   </td><td>0.1611302    </td><td>0.0000000    </td><td>0.0000000    </td><td>0.0000000    </td><td>0.0000000    </td><td>0            </td><td>0.1267835    </td><td>0.00000000   </td><td>⋯            </td><td>-0.0018075770</td><td>-0.001603643 </td><td> 0.0012769808</td><td> 0.007630238 </td><td> 0.0032219239</td><td>-0.0028397262</td><td>-0.002228840 </td><td> 0.003524287 </td><td>-0.0003385806</td><td>0.19183679   </td></tr>\n",
       "\t<tr><th scope=row>201T</th><td>0.1635878    </td><td>0.00000000   </td><td>0.0000000    </td><td>0.1220388    </td><td>0.2549915    </td><td>0.0000000    </td><td>0.0000000    </td><td>0            </td><td>0.0000000    </td><td>0.00000000   </td><td>⋯            </td><td> 0.0076865895</td><td> 0.001861412 </td><td> 0.0017928526</td><td> 0.004518623 </td><td> 0.0006469243</td><td> 0.0003716432</td><td>-0.001882316 </td><td> 0.004401699 </td><td> 0.0057787347</td><td>0.09131876   </td></tr>\n",
       "\t<tr><th scope=row>22RV1</th><td>0.2614879    </td><td>0.00000000   </td><td>0.0000000    </td><td>0.0000000    </td><td>0.0000000    </td><td>0.3275242    </td><td>0.0000000    </td><td>0            </td><td>0.0000000    </td><td>0.00000000   </td><td>⋯            </td><td>-0.0010017477</td><td> 0.005630210 </td><td> 0.0030190165</td><td> 0.010249880 </td><td> 0.0051524126</td><td> 0.0016022283</td><td> 0.003564817 </td><td> 0.005435573 </td><td>-0.0028699161</td><td>0.07259953   </td></tr>\n",
       "\t<tr><th scope=row>23132-87</th><td>0.0000000    </td><td>0.00000000   </td><td>0.0000000    </td><td>0.0000000    </td><td>0.0000000    </td><td>0.4347781    </td><td>0.0000000    </td><td>0            </td><td>0.0000000    </td><td>0.00000000   </td><td>⋯            </td><td> 0.0005645692</td><td> 0.012583426 </td><td> 0.0090278778</td><td> 0.009818993 </td><td> 0.0102437355</td><td> 0.0024685669</td><td> 0.004149163 </td><td> 0.006343120 </td><td> 0.0023995281</td><td>0.11307935   </td></tr>\n",
       "\t<tr><th scope=row>42-MG-BA</th><td>0.2373844    </td><td>0.00000000   </td><td>0.0000000    </td><td>0.1712615    </td><td>0.1762817    </td><td>0.0000000    </td><td>0.0000000    </td><td>0            </td><td>0.0000000    </td><td>0.00000000   </td><td>⋯            </td><td>-0.0081143449</td><td> 0.004689561 </td><td>-0.0003273272</td><td>-0.002586602 </td><td>-0.0035598006</td><td>-0.0020150150</td><td> 0.006280175 </td><td> 0.006619866 </td><td>-0.0025801884</td><td>0.12716108   </td></tr>\n",
       "\t<tr><th scope=row>451Lu</th><td>0.0000000    </td><td>0.00000000   </td><td>0.0000000    </td><td>0.5484138    </td><td>0.0000000    </td><td>0.0000000    </td><td>0.3180342    </td><td>0            </td><td>0.0000000    </td><td>0.06575894   </td><td>⋯            </td><td> 0.0026985338</td><td> 0.001655629 </td><td> 0.0015241113</td><td> 0.001724272 </td><td> 0.0043736971</td><td> 0.0013268345</td><td> 0.002223718 </td><td>-0.000452316 </td><td>-0.0035554146</td><td>0.06779310   </td></tr>\n",
       "</tbody>\n",
       "</table>\n"
      ],
      "text/latex": [
       "\\begin{tabular}{r|lllllllllllllllllllllllllllllllllllllllllllllllllllllllllllllllllllllllllllllllllllllllllllllllllllllllllllllllllllllllllllllllllllllllllllllllllllllllllllllllllllllllllllllllllllllllllllllllllllllllllllllllllllllllllllllllllllllllllllllllllllllllllllllllllllllllllllllllllllllllllllllllllllllllllllllllllllllllllllllll}\n",
       "  & weights.Signature.1 & weights.Signature.2 & weights.Signature.3 & weights.Signature.4 & weights.Signature.5 & weights.Signature.6 & weights.Signature.7 & weights.Signature.8 & weights.Signature.9 & weights.Signature.10 & ⋯ & diff.C.T.G.T & diff.G.T.G.A & diff.G.T.G.C & diff.G.T.G.G & diff.G.T.G.T & diff.T.T.G.A & diff.T.T.G.C & diff.T.T.G.G & diff.T.T.G.T & unknown\\\\\n",
       "\\hline\n",
       "\tZR-75-30 & 0.1411407     & 0.07308761    & 0.1611302     & 0.0000000     & 0.0000000     & 0.0000000     & 0.0000000     & 0             & 0.1267835     & 0.00000000    & ⋯             & -0.0018075770 & -0.001603643  &  0.0012769808 &  0.007630238  &  0.0032219239 & -0.0028397262 & -0.002228840  &  0.003524287  & -0.0003385806 & 0.19183679   \\\\\n",
       "\t201T & 0.1635878     & 0.00000000    & 0.0000000     & 0.1220388     & 0.2549915     & 0.0000000     & 0.0000000     & 0             & 0.0000000     & 0.00000000    & ⋯             &  0.0076865895 &  0.001861412  &  0.0017928526 &  0.004518623  &  0.0006469243 &  0.0003716432 & -0.001882316  &  0.004401699  &  0.0057787347 & 0.09131876   \\\\\n",
       "\t22RV1 & 0.2614879     & 0.00000000    & 0.0000000     & 0.0000000     & 0.0000000     & 0.3275242     & 0.0000000     & 0             & 0.0000000     & 0.00000000    & ⋯             & -0.0010017477 &  0.005630210  &  0.0030190165 &  0.010249880  &  0.0051524126 &  0.0016022283 &  0.003564817  &  0.005435573  & -0.0028699161 & 0.07259953   \\\\\n",
       "\t23132-87 & 0.0000000     & 0.00000000    & 0.0000000     & 0.0000000     & 0.0000000     & 0.4347781     & 0.0000000     & 0             & 0.0000000     & 0.00000000    & ⋯             &  0.0005645692 &  0.012583426  &  0.0090278778 &  0.009818993  &  0.0102437355 &  0.0024685669 &  0.004149163  &  0.006343120  &  0.0023995281 & 0.11307935   \\\\\n",
       "\t42-MG-BA & 0.2373844     & 0.00000000    & 0.0000000     & 0.1712615     & 0.1762817     & 0.0000000     & 0.0000000     & 0             & 0.0000000     & 0.00000000    & ⋯             & -0.0081143449 &  0.004689561  & -0.0003273272 & -0.002586602  & -0.0035598006 & -0.0020150150 &  0.006280175  &  0.006619866  & -0.0025801884 & 0.12716108   \\\\\n",
       "\t451Lu & 0.0000000     & 0.00000000    & 0.0000000     & 0.5484138     & 0.0000000     & 0.0000000     & 0.3180342     & 0             & 0.0000000     & 0.06575894    & ⋯             &  0.0026985338 &  0.001655629  &  0.0015241113 &  0.001724272  &  0.0043736971 &  0.0013268345 &  0.002223718  & -0.000452316  & -0.0035554146 & 0.06779310   \\\\\n",
       "\\end{tabular}\n"
      ],
      "text/markdown": [
       "\n",
       "| <!--/--> | weights.Signature.1 | weights.Signature.2 | weights.Signature.3 | weights.Signature.4 | weights.Signature.5 | weights.Signature.6 | weights.Signature.7 | weights.Signature.8 | weights.Signature.9 | weights.Signature.10 | ⋯ | diff.C.T.G.T | diff.G.T.G.A | diff.G.T.G.C | diff.G.T.G.G | diff.G.T.G.T | diff.T.T.G.A | diff.T.T.G.C | diff.T.T.G.G | diff.T.T.G.T | unknown |\n",
       "|---|---|---|---|---|---|---|---|---|---|---|---|---|---|---|---|---|---|---|---|---|---|\n",
       "| ZR-75-30 | 0.1411407     | 0.07308761    | 0.1611302     | 0.0000000     | 0.0000000     | 0.0000000     | 0.0000000     | 0             | 0.1267835     | 0.00000000    | ⋯             | -0.0018075770 | -0.001603643  |  0.0012769808 |  0.007630238  |  0.0032219239 | -0.0028397262 | -0.002228840  |  0.003524287  | -0.0003385806 | 0.19183679    |\n",
       "| 201T | 0.1635878     | 0.00000000    | 0.0000000     | 0.1220388     | 0.2549915     | 0.0000000     | 0.0000000     | 0             | 0.0000000     | 0.00000000    | ⋯             |  0.0076865895 |  0.001861412  |  0.0017928526 |  0.004518623  |  0.0006469243 |  0.0003716432 | -0.001882316  |  0.004401699  |  0.0057787347 | 0.09131876    |\n",
       "| 22RV1 | 0.2614879     | 0.00000000    | 0.0000000     | 0.0000000     | 0.0000000     | 0.3275242     | 0.0000000     | 0             | 0.0000000     | 0.00000000    | ⋯             | -0.0010017477 |  0.005630210  |  0.0030190165 |  0.010249880  |  0.0051524126 |  0.0016022283 |  0.003564817  |  0.005435573  | -0.0028699161 | 0.07259953    |\n",
       "| 23132-87 | 0.0000000     | 0.00000000    | 0.0000000     | 0.0000000     | 0.0000000     | 0.4347781     | 0.0000000     | 0             | 0.0000000     | 0.00000000    | ⋯             |  0.0005645692 |  0.012583426  |  0.0090278778 |  0.009818993  |  0.0102437355 |  0.0024685669 |  0.004149163  |  0.006343120  |  0.0023995281 | 0.11307935    |\n",
       "| 42-MG-BA | 0.2373844     | 0.00000000    | 0.0000000     | 0.1712615     | 0.1762817     | 0.0000000     | 0.0000000     | 0             | 0.0000000     | 0.00000000    | ⋯             | -0.0081143449 |  0.004689561  | -0.0003273272 | -0.002586602  | -0.0035598006 | -0.0020150150 |  0.006280175  |  0.006619866  | -0.0025801884 | 0.12716108    |\n",
       "| 451Lu | 0.0000000     | 0.00000000    | 0.0000000     | 0.5484138     | 0.0000000     | 0.0000000     | 0.3180342     | 0             | 0.0000000     | 0.06575894    | ⋯             |  0.0026985338 |  0.001655629  |  0.0015241113 |  0.001724272  |  0.0043736971 |  0.0013268345 |  0.002223718  | -0.000452316  | -0.0035554146 | 0.06779310    |\n",
       "\n"
      ],
      "text/plain": [
       "         weights.Signature.1 weights.Signature.2 weights.Signature.3\n",
       "ZR-75-30 0.1411407           0.07308761          0.1611302          \n",
       "201T     0.1635878           0.00000000          0.0000000          \n",
       "22RV1    0.2614879           0.00000000          0.0000000          \n",
       "23132-87 0.0000000           0.00000000          0.0000000          \n",
       "42-MG-BA 0.2373844           0.00000000          0.0000000          \n",
       "451Lu    0.0000000           0.00000000          0.0000000          \n",
       "         weights.Signature.4 weights.Signature.5 weights.Signature.6\n",
       "ZR-75-30 0.0000000           0.0000000           0.0000000          \n",
       "201T     0.1220388           0.2549915           0.0000000          \n",
       "22RV1    0.0000000           0.0000000           0.3275242          \n",
       "23132-87 0.0000000           0.0000000           0.4347781          \n",
       "42-MG-BA 0.1712615           0.1762817           0.0000000          \n",
       "451Lu    0.5484138           0.0000000           0.0000000          \n",
       "         weights.Signature.7 weights.Signature.8 weights.Signature.9\n",
       "ZR-75-30 0.0000000           0                   0.1267835          \n",
       "201T     0.0000000           0                   0.0000000          \n",
       "22RV1    0.0000000           0                   0.0000000          \n",
       "23132-87 0.0000000           0                   0.0000000          \n",
       "42-MG-BA 0.0000000           0                   0.0000000          \n",
       "451Lu    0.3180342           0                   0.0000000          \n",
       "         weights.Signature.10 ⋯ diff.C.T.G.T  diff.G.T.G.A diff.G.T.G.C \n",
       "ZR-75-30 0.00000000           ⋯ -0.0018075770 -0.001603643  0.0012769808\n",
       "201T     0.00000000           ⋯  0.0076865895  0.001861412  0.0017928526\n",
       "22RV1    0.00000000           ⋯ -0.0010017477  0.005630210  0.0030190165\n",
       "23132-87 0.00000000           ⋯  0.0005645692  0.012583426  0.0090278778\n",
       "42-MG-BA 0.00000000           ⋯ -0.0081143449  0.004689561 -0.0003273272\n",
       "451Lu    0.06575894           ⋯  0.0026985338  0.001655629  0.0015241113\n",
       "         diff.G.T.G.G diff.G.T.G.T  diff.T.T.G.A  diff.T.T.G.C diff.T.T.G.G\n",
       "ZR-75-30  0.007630238  0.0032219239 -0.0028397262 -0.002228840  0.003524287\n",
       "201T      0.004518623  0.0006469243  0.0003716432 -0.001882316  0.004401699\n",
       "22RV1     0.010249880  0.0051524126  0.0016022283  0.003564817  0.005435573\n",
       "23132-87  0.009818993  0.0102437355  0.0024685669  0.004149163  0.006343120\n",
       "42-MG-BA -0.002586602 -0.0035598006 -0.0020150150  0.006280175  0.006619866\n",
       "451Lu     0.001724272  0.0043736971  0.0013268345  0.002223718 -0.000452316\n",
       "         diff.T.T.G.T  unknown   \n",
       "ZR-75-30 -0.0003385806 0.19183679\n",
       "201T      0.0057787347 0.09131876\n",
       "22RV1    -0.0028699161 0.07259953\n",
       "23132-87  0.0023995281 0.11307935\n",
       "42-MG-BA -0.0025801884 0.12716108\n",
       "451Lu    -0.0035554146 0.06779310"
      ]
     },
     "metadata": {},
     "output_type": "display_data"
    }
   ],
   "source": [
    "head(output.sigs.final)"
   ]
  },
  {
   "cell_type": "code",
   "execution_count": 33,
   "metadata": {},
   "outputs": [
    {
     "data": {
      "text/html": [
       "319"
      ],
      "text/latex": [
       "319"
      ],
      "text/markdown": [
       "319"
      ],
      "text/plain": [
       "[1] 319"
      ]
     },
     "metadata": {},
     "output_type": "display_data"
    }
   ],
   "source": [
    "length(output.sigs.final)"
   ]
  },
  {
   "cell_type": "code",
   "execution_count": 34,
   "metadata": {},
   "outputs": [
    {
     "data": {
      "text/html": [
       "<table>\n",
       "<thead><tr><th></th><th scope=col>weights.Signature.1</th><th scope=col>weights.Signature.2</th><th scope=col>weights.Signature.3</th><th scope=col>weights.Signature.4</th><th scope=col>weights.Signature.5</th><th scope=col>weights.Signature.6</th><th scope=col>weights.Signature.7</th><th scope=col>weights.Signature.8</th><th scope=col>weights.Signature.9</th><th scope=col>weights.Signature.10</th><th scope=col>⋯</th><th scope=col>diff.C.T.G.T</th><th scope=col>diff.G.T.G.A</th><th scope=col>diff.G.T.G.C</th><th scope=col>diff.G.T.G.G</th><th scope=col>diff.G.T.G.T</th><th scope=col>diff.T.T.G.A</th><th scope=col>diff.T.T.G.C</th><th scope=col>diff.T.T.G.G</th><th scope=col>diff.T.T.G.T</th><th scope=col>unknown</th></tr></thead>\n",
       "<tbody>\n",
       "\t<tr><th scope=row>YAPC</th><td>0.26023720   </td><td>0.00000000   </td><td>0.0000000    </td><td>0.0000000    </td><td>0.22241884   </td><td>0.0000000    </td><td>0.00000000   </td><td>0            </td><td>0.00000000   </td><td>0            </td><td>⋯            </td><td> 0.004222861 </td><td> 0.0080862518</td><td> 0.0034169959</td><td>0.009918494  </td><td> 0.002556061 </td><td>-0.0015209523</td><td> 0.002704321 </td><td> 0.006170265 </td><td> 0.0001062427</td><td>0.1107668    </td></tr>\n",
       "\t<tr><th scope=row>YH-13</th><td>0.08562261   </td><td>0.00000000   </td><td>0.0000000    </td><td>0.1847224    </td><td>0.09514237   </td><td>0.1773799    </td><td>0.07025578   </td><td>0            </td><td>0.00000000   </td><td>0            </td><td>⋯            </td><td> 0.011036072 </td><td>-0.0001633404</td><td> 0.0032121999</td><td>0.001827154  </td><td>-0.001493027 </td><td> 0.0066689165</td><td> 0.002538027 </td><td> 0.001868562 </td><td> 0.0079306829</td><td>0.1164420    </td></tr>\n",
       "\t<tr><th scope=row>YKG-1</th><td>0.21344581   </td><td>0.00000000   </td><td>0.0000000    </td><td>0.2897001    </td><td>0.22302240   </td><td>0.0000000    </td><td>0.00000000   </td><td>0            </td><td>0.00000000   </td><td>0            </td><td>⋯            </td><td> 0.004334643 </td><td> 0.0022268197</td><td> 0.0024946797</td><td>0.003120089  </td><td> 0.004255442 </td><td> 0.0037632726</td><td> 0.003714843 </td><td> 0.007790782 </td><td> 0.0115051170</td><td>0.2738317    </td></tr>\n",
       "\t<tr><th scope=row>YMB-1-E</th><td>0.10049404   </td><td>0.11466367   </td><td>0.0000000    </td><td>0.1788112    </td><td>0.24148522   </td><td>0.0000000    </td><td>0.00000000   </td><td>0            </td><td>0.00000000   </td><td>0            </td><td>⋯            </td><td> 0.004369614 </td><td> 0.0035076019</td><td>-0.0001048691</td><td>0.005315574  </td><td> 0.005836598 </td><td>-0.0014050887</td><td>-0.001424300 </td><td>-0.002288388 </td><td> 0.0107848753</td><td>0.1895443    </td></tr>\n",
       "\t<tr><th scope=row>YT</th><td>0.00000000   </td><td>0.00000000   </td><td>0.0000000    </td><td>0.0000000    </td><td>0.24442929   </td><td>0.1216366    </td><td>0.00000000   </td><td>0            </td><td>0.09918715   </td><td>0            </td><td>⋯            </td><td>-0.011692389 </td><td> 0.0117613931</td><td>-0.0024869779</td><td>0.003938103  </td><td> 0.003763285 </td><td> 0.0000910327</td><td>-0.001359165 </td><td> 0.005994592 </td><td>-0.0094624345</td><td>0.1030881    </td></tr>\n",
       "\t<tr><th scope=row>ZR-75-301</th><td>0.14114070   </td><td>0.07308761   </td><td>0.1611302    </td><td>0.0000000    </td><td>0.00000000   </td><td>0.0000000    </td><td>0.00000000   </td><td>0            </td><td>0.12678346   </td><td>0            </td><td>⋯            </td><td>-0.001807577 </td><td>-0.0016036433</td><td> 0.0012769808</td><td>0.007630238  </td><td> 0.003221924 </td><td>-0.0028397262</td><td>-0.002228840 </td><td> 0.003524287 </td><td>-0.0003385806</td><td>0.1918368    </td></tr>\n",
       "</tbody>\n",
       "</table>\n"
      ],
      "text/latex": [
       "\\begin{tabular}{r|lllllllllllllllllllllllllllllllllllllllllllllllllllllllllllllllllllllllllllllllllllllllllllllllllllllllllllllllllllllllllllllllllllllllllllllllllllllllllllllllllllllllllllllllllllllllllllllllllllllllllllllllllllllllllllllllllllllllllllllllllllllllllllllllllllllllllllllllllllllllllllllllllllllllllllllllllllllllllllllll}\n",
       "  & weights.Signature.1 & weights.Signature.2 & weights.Signature.3 & weights.Signature.4 & weights.Signature.5 & weights.Signature.6 & weights.Signature.7 & weights.Signature.8 & weights.Signature.9 & weights.Signature.10 & ⋯ & diff.C.T.G.T & diff.G.T.G.A & diff.G.T.G.C & diff.G.T.G.G & diff.G.T.G.T & diff.T.T.G.A & diff.T.T.G.C & diff.T.T.G.G & diff.T.T.G.T & unknown\\\\\n",
       "\\hline\n",
       "\tYAPC & 0.26023720    & 0.00000000    & 0.0000000     & 0.0000000     & 0.22241884    & 0.0000000     & 0.00000000    & 0             & 0.00000000    & 0             & ⋯             &  0.004222861  &  0.0080862518 &  0.0034169959 & 0.009918494   &  0.002556061  & -0.0015209523 &  0.002704321  &  0.006170265  &  0.0001062427 & 0.1107668    \\\\\n",
       "\tYH-13 & 0.08562261    & 0.00000000    & 0.0000000     & 0.1847224     & 0.09514237    & 0.1773799     & 0.07025578    & 0             & 0.00000000    & 0             & ⋯             &  0.011036072  & -0.0001633404 &  0.0032121999 & 0.001827154   & -0.001493027  &  0.0066689165 &  0.002538027  &  0.001868562  &  0.0079306829 & 0.1164420    \\\\\n",
       "\tYKG-1 & 0.21344581    & 0.00000000    & 0.0000000     & 0.2897001     & 0.22302240    & 0.0000000     & 0.00000000    & 0             & 0.00000000    & 0             & ⋯             &  0.004334643  &  0.0022268197 &  0.0024946797 & 0.003120089   &  0.004255442  &  0.0037632726 &  0.003714843  &  0.007790782  &  0.0115051170 & 0.2738317    \\\\\n",
       "\tYMB-1-E & 0.10049404    & 0.11466367    & 0.0000000     & 0.1788112     & 0.24148522    & 0.0000000     & 0.00000000    & 0             & 0.00000000    & 0             & ⋯             &  0.004369614  &  0.0035076019 & -0.0001048691 & 0.005315574   &  0.005836598  & -0.0014050887 & -0.001424300  & -0.002288388  &  0.0107848753 & 0.1895443    \\\\\n",
       "\tYT & 0.00000000    & 0.00000000    & 0.0000000     & 0.0000000     & 0.24442929    & 0.1216366     & 0.00000000    & 0             & 0.09918715    & 0             & ⋯             & -0.011692389  &  0.0117613931 & -0.0024869779 & 0.003938103   &  0.003763285  &  0.0000910327 & -0.001359165  &  0.005994592  & -0.0094624345 & 0.1030881    \\\\\n",
       "\tZR-75-301 & 0.14114070    & 0.07308761    & 0.1611302     & 0.0000000     & 0.00000000    & 0.0000000     & 0.00000000    & 0             & 0.12678346    & 0             & ⋯             & -0.001807577  & -0.0016036433 &  0.0012769808 & 0.007630238   &  0.003221924  & -0.0028397262 & -0.002228840  &  0.003524287  & -0.0003385806 & 0.1918368    \\\\\n",
       "\\end{tabular}\n"
      ],
      "text/markdown": [
       "\n",
       "| <!--/--> | weights.Signature.1 | weights.Signature.2 | weights.Signature.3 | weights.Signature.4 | weights.Signature.5 | weights.Signature.6 | weights.Signature.7 | weights.Signature.8 | weights.Signature.9 | weights.Signature.10 | ⋯ | diff.C.T.G.T | diff.G.T.G.A | diff.G.T.G.C | diff.G.T.G.G | diff.G.T.G.T | diff.T.T.G.A | diff.T.T.G.C | diff.T.T.G.G | diff.T.T.G.T | unknown |\n",
       "|---|---|---|---|---|---|---|---|---|---|---|---|---|---|---|---|---|---|---|---|---|---|\n",
       "| YAPC | 0.26023720    | 0.00000000    | 0.0000000     | 0.0000000     | 0.22241884    | 0.0000000     | 0.00000000    | 0             | 0.00000000    | 0             | ⋯             |  0.004222861  |  0.0080862518 |  0.0034169959 | 0.009918494   |  0.002556061  | -0.0015209523 |  0.002704321  |  0.006170265  |  0.0001062427 | 0.1107668     |\n",
       "| YH-13 | 0.08562261    | 0.00000000    | 0.0000000     | 0.1847224     | 0.09514237    | 0.1773799     | 0.07025578    | 0             | 0.00000000    | 0             | ⋯             |  0.011036072  | -0.0001633404 |  0.0032121999 | 0.001827154   | -0.001493027  |  0.0066689165 |  0.002538027  |  0.001868562  |  0.0079306829 | 0.1164420     |\n",
       "| YKG-1 | 0.21344581    | 0.00000000    | 0.0000000     | 0.2897001     | 0.22302240    | 0.0000000     | 0.00000000    | 0             | 0.00000000    | 0             | ⋯             |  0.004334643  |  0.0022268197 |  0.0024946797 | 0.003120089   |  0.004255442  |  0.0037632726 |  0.003714843  |  0.007790782  |  0.0115051170 | 0.2738317     |\n",
       "| YMB-1-E | 0.10049404    | 0.11466367    | 0.0000000     | 0.1788112     | 0.24148522    | 0.0000000     | 0.00000000    | 0             | 0.00000000    | 0             | ⋯             |  0.004369614  |  0.0035076019 | -0.0001048691 | 0.005315574   |  0.005836598  | -0.0014050887 | -0.001424300  | -0.002288388  |  0.0107848753 | 0.1895443     |\n",
       "| YT | 0.00000000    | 0.00000000    | 0.0000000     | 0.0000000     | 0.24442929    | 0.1216366     | 0.00000000    | 0             | 0.09918715    | 0             | ⋯             | -0.011692389  |  0.0117613931 | -0.0024869779 | 0.003938103   |  0.003763285  |  0.0000910327 | -0.001359165  |  0.005994592  | -0.0094624345 | 0.1030881     |\n",
       "| ZR-75-301 | 0.14114070    | 0.07308761    | 0.1611302     | 0.0000000     | 0.00000000    | 0.0000000     | 0.00000000    | 0             | 0.12678346    | 0             | ⋯             | -0.001807577  | -0.0016036433 |  0.0012769808 | 0.007630238   |  0.003221924  | -0.0028397262 | -0.002228840  |  0.003524287  | -0.0003385806 | 0.1918368     |\n",
       "\n"
      ],
      "text/plain": [
       "          weights.Signature.1 weights.Signature.2 weights.Signature.3\n",
       "YAPC      0.26023720          0.00000000          0.0000000          \n",
       "YH-13     0.08562261          0.00000000          0.0000000          \n",
       "YKG-1     0.21344581          0.00000000          0.0000000          \n",
       "YMB-1-E   0.10049404          0.11466367          0.0000000          \n",
       "YT        0.00000000          0.00000000          0.0000000          \n",
       "ZR-75-301 0.14114070          0.07308761          0.1611302          \n",
       "          weights.Signature.4 weights.Signature.5 weights.Signature.6\n",
       "YAPC      0.0000000           0.22241884          0.0000000          \n",
       "YH-13     0.1847224           0.09514237          0.1773799          \n",
       "YKG-1     0.2897001           0.22302240          0.0000000          \n",
       "YMB-1-E   0.1788112           0.24148522          0.0000000          \n",
       "YT        0.0000000           0.24442929          0.1216366          \n",
       "ZR-75-301 0.0000000           0.00000000          0.0000000          \n",
       "          weights.Signature.7 weights.Signature.8 weights.Signature.9\n",
       "YAPC      0.00000000          0                   0.00000000         \n",
       "YH-13     0.07025578          0                   0.00000000         \n",
       "YKG-1     0.00000000          0                   0.00000000         \n",
       "YMB-1-E   0.00000000          0                   0.00000000         \n",
       "YT        0.00000000          0                   0.09918715         \n",
       "ZR-75-301 0.00000000          0                   0.12678346         \n",
       "          weights.Signature.10 ⋯ diff.C.T.G.T diff.G.T.G.A  diff.G.T.G.C \n",
       "YAPC      0                    ⋯  0.004222861  0.0080862518  0.0034169959\n",
       "YH-13     0                    ⋯  0.011036072 -0.0001633404  0.0032121999\n",
       "YKG-1     0                    ⋯  0.004334643  0.0022268197  0.0024946797\n",
       "YMB-1-E   0                    ⋯  0.004369614  0.0035076019 -0.0001048691\n",
       "YT        0                    ⋯ -0.011692389  0.0117613931 -0.0024869779\n",
       "ZR-75-301 0                    ⋯ -0.001807577 -0.0016036433  0.0012769808\n",
       "          diff.G.T.G.G diff.G.T.G.T diff.T.T.G.A  diff.T.T.G.C diff.T.T.G.G\n",
       "YAPC      0.009918494   0.002556061 -0.0015209523  0.002704321  0.006170265\n",
       "YH-13     0.001827154  -0.001493027  0.0066689165  0.002538027  0.001868562\n",
       "YKG-1     0.003120089   0.004255442  0.0037632726  0.003714843  0.007790782\n",
       "YMB-1-E   0.005315574   0.005836598 -0.0014050887 -0.001424300 -0.002288388\n",
       "YT        0.003938103   0.003763285  0.0000910327 -0.001359165  0.005994592\n",
       "ZR-75-301 0.007630238   0.003221924 -0.0028397262 -0.002228840  0.003524287\n",
       "          diff.T.T.G.T  unknown  \n",
       "YAPC       0.0001062427 0.1107668\n",
       "YH-13      0.0079306829 0.1164420\n",
       "YKG-1      0.0115051170 0.2738317\n",
       "YMB-1-E    0.0107848753 0.1895443\n",
       "YT        -0.0094624345 0.1030881\n",
       "ZR-75-301 -0.0003385806 0.1918368"
      ]
     },
     "metadata": {},
     "output_type": "display_data"
    }
   ],
   "source": [
    "tail(output.sigs.final)"
   ]
  },
  {
   "cell_type": "code",
   "execution_count": 35,
   "metadata": {},
   "outputs": [],
   "source": [
    "output.sigs.final <- head(output.sigs.final,-1)"
   ]
  },
  {
   "cell_type": "code",
   "execution_count": 36,
   "metadata": {},
   "outputs": [
    {
     "data": {
      "text/html": [
       "319"
      ],
      "text/latex": [
       "319"
      ],
      "text/markdown": [
       "319"
      ],
      "text/plain": [
       "[1] 319"
      ]
     },
     "metadata": {},
     "output_type": "display_data"
    }
   ],
   "source": [
    "length(output.sigs.final)"
   ]
  },
  {
   "cell_type": "code",
   "execution_count": 37,
   "metadata": {},
   "outputs": [
    {
     "data": {
      "text/html": [
       "<table>\n",
       "<thead><tr><th></th><th scope=col>weights.Signature.1</th><th scope=col>weights.Signature.2</th><th scope=col>weights.Signature.3</th><th scope=col>weights.Signature.4</th><th scope=col>weights.Signature.5</th><th scope=col>weights.Signature.6</th><th scope=col>weights.Signature.7</th><th scope=col>weights.Signature.8</th><th scope=col>weights.Signature.9</th><th scope=col>weights.Signature.10</th><th scope=col>⋯</th><th scope=col>diff.C.T.G.T</th><th scope=col>diff.G.T.G.A</th><th scope=col>diff.G.T.G.C</th><th scope=col>diff.G.T.G.G</th><th scope=col>diff.G.T.G.T</th><th scope=col>diff.T.T.G.A</th><th scope=col>diff.T.T.G.C</th><th scope=col>diff.T.T.G.G</th><th scope=col>diff.T.T.G.T</th><th scope=col>unknown</th></tr></thead>\n",
       "<tbody>\n",
       "\t<tr><th scope=row>WSU-NHL</th><td>0.00000000   </td><td>0.0000000    </td><td>0            </td><td>0.0000000    </td><td>0.00000000   </td><td>0.1718595    </td><td>0.00000000   </td><td>0            </td><td>0.13816969   </td><td>0            </td><td>⋯            </td><td> 0.001358316 </td><td> 0.0152114969</td><td> 0.0192090808</td><td>0.010589706  </td><td> 0.013364530 </td><td> 0.0003286505</td><td> 0.008063403 </td><td> 0.004941304 </td><td>-0.0042737476</td><td>0.05279659   </td></tr>\n",
       "\t<tr><th scope=row>YAPC</th><td>0.26023720   </td><td>0.0000000    </td><td>0            </td><td>0.0000000    </td><td>0.22241884   </td><td>0.0000000    </td><td>0.00000000   </td><td>0            </td><td>0.00000000   </td><td>0            </td><td>⋯            </td><td> 0.004222861 </td><td> 0.0080862518</td><td> 0.0034169959</td><td>0.009918494  </td><td> 0.002556061 </td><td>-0.0015209523</td><td> 0.002704321 </td><td> 0.006170265 </td><td> 0.0001062427</td><td>0.11076679   </td></tr>\n",
       "\t<tr><th scope=row>YH-13</th><td>0.08562261   </td><td>0.0000000    </td><td>0            </td><td>0.1847224    </td><td>0.09514237   </td><td>0.1773799    </td><td>0.07025578   </td><td>0            </td><td>0.00000000   </td><td>0            </td><td>⋯            </td><td> 0.011036072 </td><td>-0.0001633404</td><td> 0.0032121999</td><td>0.001827154  </td><td>-0.001493027 </td><td> 0.0066689165</td><td> 0.002538027 </td><td> 0.001868562 </td><td> 0.0079306829</td><td>0.11644197   </td></tr>\n",
       "\t<tr><th scope=row>YKG-1</th><td>0.21344581   </td><td>0.0000000    </td><td>0            </td><td>0.2897001    </td><td>0.22302240   </td><td>0.0000000    </td><td>0.00000000   </td><td>0            </td><td>0.00000000   </td><td>0            </td><td>⋯            </td><td> 0.004334643 </td><td> 0.0022268197</td><td> 0.0024946797</td><td>0.003120089  </td><td> 0.004255442 </td><td> 0.0037632726</td><td> 0.003714843 </td><td> 0.007790782 </td><td> 0.0115051170</td><td>0.27383165   </td></tr>\n",
       "\t<tr><th scope=row>YMB-1-E</th><td>0.10049404   </td><td>0.1146637    </td><td>0            </td><td>0.1788112    </td><td>0.24148522   </td><td>0.0000000    </td><td>0.00000000   </td><td>0            </td><td>0.00000000   </td><td>0            </td><td>⋯            </td><td> 0.004369614 </td><td> 0.0035076019</td><td>-0.0001048691</td><td>0.005315574  </td><td> 0.005836598 </td><td>-0.0014050887</td><td>-0.001424300 </td><td>-0.002288388 </td><td> 0.0107848753</td><td>0.18954431   </td></tr>\n",
       "\t<tr><th scope=row>YT</th><td>0.00000000   </td><td>0.0000000    </td><td>0            </td><td>0.0000000    </td><td>0.24442929   </td><td>0.1216366    </td><td>0.00000000   </td><td>0            </td><td>0.09918715   </td><td>0            </td><td>⋯            </td><td>-0.011692389 </td><td> 0.0117613931</td><td>-0.0024869779</td><td>0.003938103  </td><td> 0.003763285 </td><td> 0.0000910327</td><td>-0.001359165 </td><td> 0.005994592 </td><td>-0.0094624345</td><td>0.10308813   </td></tr>\n",
       "</tbody>\n",
       "</table>\n"
      ],
      "text/latex": [
       "\\begin{tabular}{r|lllllllllllllllllllllllllllllllllllllllllllllllllllllllllllllllllllllllllllllllllllllllllllllllllllllllllllllllllllllllllllllllllllllllllllllllllllllllllllllllllllllllllllllllllllllllllllllllllllllllllllllllllllllllllllllllllllllllllllllllllllllllllllllllllllllllllllllllllllllllllllllllllllllllllllllllllllllllllllllll}\n",
       "  & weights.Signature.1 & weights.Signature.2 & weights.Signature.3 & weights.Signature.4 & weights.Signature.5 & weights.Signature.6 & weights.Signature.7 & weights.Signature.8 & weights.Signature.9 & weights.Signature.10 & ⋯ & diff.C.T.G.T & diff.G.T.G.A & diff.G.T.G.C & diff.G.T.G.G & diff.G.T.G.T & diff.T.T.G.A & diff.T.T.G.C & diff.T.T.G.G & diff.T.T.G.T & unknown\\\\\n",
       "\\hline\n",
       "\tWSU-NHL & 0.00000000    & 0.0000000     & 0             & 0.0000000     & 0.00000000    & 0.1718595     & 0.00000000    & 0             & 0.13816969    & 0             & ⋯             &  0.001358316  &  0.0152114969 &  0.0192090808 & 0.010589706   &  0.013364530  &  0.0003286505 &  0.008063403  &  0.004941304  & -0.0042737476 & 0.05279659   \\\\\n",
       "\tYAPC & 0.26023720    & 0.0000000     & 0             & 0.0000000     & 0.22241884    & 0.0000000     & 0.00000000    & 0             & 0.00000000    & 0             & ⋯             &  0.004222861  &  0.0080862518 &  0.0034169959 & 0.009918494   &  0.002556061  & -0.0015209523 &  0.002704321  &  0.006170265  &  0.0001062427 & 0.11076679   \\\\\n",
       "\tYH-13 & 0.08562261    & 0.0000000     & 0             & 0.1847224     & 0.09514237    & 0.1773799     & 0.07025578    & 0             & 0.00000000    & 0             & ⋯             &  0.011036072  & -0.0001633404 &  0.0032121999 & 0.001827154   & -0.001493027  &  0.0066689165 &  0.002538027  &  0.001868562  &  0.0079306829 & 0.11644197   \\\\\n",
       "\tYKG-1 & 0.21344581    & 0.0000000     & 0             & 0.2897001     & 0.22302240    & 0.0000000     & 0.00000000    & 0             & 0.00000000    & 0             & ⋯             &  0.004334643  &  0.0022268197 &  0.0024946797 & 0.003120089   &  0.004255442  &  0.0037632726 &  0.003714843  &  0.007790782  &  0.0115051170 & 0.27383165   \\\\\n",
       "\tYMB-1-E & 0.10049404    & 0.1146637     & 0             & 0.1788112     & 0.24148522    & 0.0000000     & 0.00000000    & 0             & 0.00000000    & 0             & ⋯             &  0.004369614  &  0.0035076019 & -0.0001048691 & 0.005315574   &  0.005836598  & -0.0014050887 & -0.001424300  & -0.002288388  &  0.0107848753 & 0.18954431   \\\\\n",
       "\tYT & 0.00000000    & 0.0000000     & 0             & 0.0000000     & 0.24442929    & 0.1216366     & 0.00000000    & 0             & 0.09918715    & 0             & ⋯             & -0.011692389  &  0.0117613931 & -0.0024869779 & 0.003938103   &  0.003763285  &  0.0000910327 & -0.001359165  &  0.005994592  & -0.0094624345 & 0.10308813   \\\\\n",
       "\\end{tabular}\n"
      ],
      "text/markdown": [
       "\n",
       "| <!--/--> | weights.Signature.1 | weights.Signature.2 | weights.Signature.3 | weights.Signature.4 | weights.Signature.5 | weights.Signature.6 | weights.Signature.7 | weights.Signature.8 | weights.Signature.9 | weights.Signature.10 | ⋯ | diff.C.T.G.T | diff.G.T.G.A | diff.G.T.G.C | diff.G.T.G.G | diff.G.T.G.T | diff.T.T.G.A | diff.T.T.G.C | diff.T.T.G.G | diff.T.T.G.T | unknown |\n",
       "|---|---|---|---|---|---|---|---|---|---|---|---|---|---|---|---|---|---|---|---|---|---|\n",
       "| WSU-NHL | 0.00000000    | 0.0000000     | 0             | 0.0000000     | 0.00000000    | 0.1718595     | 0.00000000    | 0             | 0.13816969    | 0             | ⋯             |  0.001358316  |  0.0152114969 |  0.0192090808 | 0.010589706   |  0.013364530  |  0.0003286505 |  0.008063403  |  0.004941304  | -0.0042737476 | 0.05279659    |\n",
       "| YAPC | 0.26023720    | 0.0000000     | 0             | 0.0000000     | 0.22241884    | 0.0000000     | 0.00000000    | 0             | 0.00000000    | 0             | ⋯             |  0.004222861  |  0.0080862518 |  0.0034169959 | 0.009918494   |  0.002556061  | -0.0015209523 |  0.002704321  |  0.006170265  |  0.0001062427 | 0.11076679    |\n",
       "| YH-13 | 0.08562261    | 0.0000000     | 0             | 0.1847224     | 0.09514237    | 0.1773799     | 0.07025578    | 0             | 0.00000000    | 0             | ⋯             |  0.011036072  | -0.0001633404 |  0.0032121999 | 0.001827154   | -0.001493027  |  0.0066689165 |  0.002538027  |  0.001868562  |  0.0079306829 | 0.11644197    |\n",
       "| YKG-1 | 0.21344581    | 0.0000000     | 0             | 0.2897001     | 0.22302240    | 0.0000000     | 0.00000000    | 0             | 0.00000000    | 0             | ⋯             |  0.004334643  |  0.0022268197 |  0.0024946797 | 0.003120089   |  0.004255442  |  0.0037632726 |  0.003714843  |  0.007790782  |  0.0115051170 | 0.27383165    |\n",
       "| YMB-1-E | 0.10049404    | 0.1146637     | 0             | 0.1788112     | 0.24148522    | 0.0000000     | 0.00000000    | 0             | 0.00000000    | 0             | ⋯             |  0.004369614  |  0.0035076019 | -0.0001048691 | 0.005315574   |  0.005836598  | -0.0014050887 | -0.001424300  | -0.002288388  |  0.0107848753 | 0.18954431    |\n",
       "| YT | 0.00000000    | 0.0000000     | 0             | 0.0000000     | 0.24442929    | 0.1216366     | 0.00000000    | 0             | 0.09918715    | 0             | ⋯             | -0.011692389  |  0.0117613931 | -0.0024869779 | 0.003938103   |  0.003763285  |  0.0000910327 | -0.001359165  |  0.005994592  | -0.0094624345 | 0.10308813    |\n",
       "\n"
      ],
      "text/plain": [
       "        weights.Signature.1 weights.Signature.2 weights.Signature.3\n",
       "WSU-NHL 0.00000000          0.0000000           0                  \n",
       "YAPC    0.26023720          0.0000000           0                  \n",
       "YH-13   0.08562261          0.0000000           0                  \n",
       "YKG-1   0.21344581          0.0000000           0                  \n",
       "YMB-1-E 0.10049404          0.1146637           0                  \n",
       "YT      0.00000000          0.0000000           0                  \n",
       "        weights.Signature.4 weights.Signature.5 weights.Signature.6\n",
       "WSU-NHL 0.0000000           0.00000000          0.1718595          \n",
       "YAPC    0.0000000           0.22241884          0.0000000          \n",
       "YH-13   0.1847224           0.09514237          0.1773799          \n",
       "YKG-1   0.2897001           0.22302240          0.0000000          \n",
       "YMB-1-E 0.1788112           0.24148522          0.0000000          \n",
       "YT      0.0000000           0.24442929          0.1216366          \n",
       "        weights.Signature.7 weights.Signature.8 weights.Signature.9\n",
       "WSU-NHL 0.00000000          0                   0.13816969         \n",
       "YAPC    0.00000000          0                   0.00000000         \n",
       "YH-13   0.07025578          0                   0.00000000         \n",
       "YKG-1   0.00000000          0                   0.00000000         \n",
       "YMB-1-E 0.00000000          0                   0.00000000         \n",
       "YT      0.00000000          0                   0.09918715         \n",
       "        weights.Signature.10 ⋯ diff.C.T.G.T diff.G.T.G.A  diff.G.T.G.C \n",
       "WSU-NHL 0                    ⋯  0.001358316  0.0152114969  0.0192090808\n",
       "YAPC    0                    ⋯  0.004222861  0.0080862518  0.0034169959\n",
       "YH-13   0                    ⋯  0.011036072 -0.0001633404  0.0032121999\n",
       "YKG-1   0                    ⋯  0.004334643  0.0022268197  0.0024946797\n",
       "YMB-1-E 0                    ⋯  0.004369614  0.0035076019 -0.0001048691\n",
       "YT      0                    ⋯ -0.011692389  0.0117613931 -0.0024869779\n",
       "        diff.G.T.G.G diff.G.T.G.T diff.T.T.G.A  diff.T.T.G.C diff.T.T.G.G\n",
       "WSU-NHL 0.010589706   0.013364530  0.0003286505  0.008063403  0.004941304\n",
       "YAPC    0.009918494   0.002556061 -0.0015209523  0.002704321  0.006170265\n",
       "YH-13   0.001827154  -0.001493027  0.0066689165  0.002538027  0.001868562\n",
       "YKG-1   0.003120089   0.004255442  0.0037632726  0.003714843  0.007790782\n",
       "YMB-1-E 0.005315574   0.005836598 -0.0014050887 -0.001424300 -0.002288388\n",
       "YT      0.003938103   0.003763285  0.0000910327 -0.001359165  0.005994592\n",
       "        diff.T.T.G.T  unknown   \n",
       "WSU-NHL -0.0042737476 0.05279659\n",
       "YAPC     0.0001062427 0.11076679\n",
       "YH-13    0.0079306829 0.11644197\n",
       "YKG-1    0.0115051170 0.27383165\n",
       "YMB-1-E  0.0107848753 0.18954431\n",
       "YT      -0.0094624345 0.10308813"
      ]
     },
     "metadata": {},
     "output_type": "display_data"
    }
   ],
   "source": [
    "tail(output.sigs.final)"
   ]
  },
  {
   "cell_type": "code",
   "execution_count": 38,
   "metadata": {},
   "outputs": [],
   "source": [
    "# combine to separate signatures. Not sure exactly what 2 and 13 are just yet\n",
    "output.sigs.final$zAPOBEC.Sig <- output.sigs.final$weights.Signature.2 + output.sigs.final$weights.Signature.13"
   ]
  },
  {
   "cell_type": "code",
   "execution_count": 39,
   "metadata": {},
   "outputs": [
    {
     "data": {
      "text/html": [
       "<table>\n",
       "<thead><tr><th></th><th scope=col>weights.Signature.1</th><th scope=col>weights.Signature.2</th><th scope=col>weights.Signature.3</th><th scope=col>weights.Signature.4</th><th scope=col>weights.Signature.5</th><th scope=col>weights.Signature.6</th><th scope=col>weights.Signature.7</th><th scope=col>weights.Signature.8</th><th scope=col>weights.Signature.9</th><th scope=col>weights.Signature.10</th><th scope=col>⋯</th><th scope=col>weights.Signature.23</th><th scope=col>weights.Signature.24</th><th scope=col>weights.Signature.25</th><th scope=col>weights.Signature.26</th><th scope=col>weights.Signature.27</th><th scope=col>weights.Signature.28</th><th scope=col>weights.Signature.29</th><th scope=col>weights.Signature.30</th><th scope=col>unknown</th><th scope=col>zAPOBEC.Sig</th></tr></thead>\n",
       "<tbody>\n",
       "\t<tr><th scope=row>ZR-75-30</th><td>0.1411407 </td><td>0.07308761</td><td>0.1611302 </td><td>0.0000000 </td><td>0.0000000 </td><td>0.0000000 </td><td>0.0000000 </td><td>0         </td><td>0.1267835 </td><td>0.00000000</td><td>⋯         </td><td>0         </td><td>0.1958402 </td><td>0         </td><td>0.00000000</td><td>0         </td><td>0.00000000</td><td>0         </td><td>0.00000000</td><td>0.19183679</td><td>0.1832686 </td></tr>\n",
       "\t<tr><th scope=row>201T</th><td>0.1635878 </td><td>0.00000000</td><td>0.0000000 </td><td>0.1220388 </td><td>0.2549915 </td><td>0.0000000 </td><td>0.0000000 </td><td>0         </td><td>0.0000000 </td><td>0.00000000</td><td>⋯         </td><td>0         </td><td>0.2127248 </td><td>0         </td><td>0.00000000</td><td>0         </td><td>0.00000000</td><td>0         </td><td>0.06764838</td><td>0.09131876</td><td>0.0000000 </td></tr>\n",
       "\t<tr><th scope=row>22RV1</th><td>0.2614879 </td><td>0.00000000</td><td>0.0000000 </td><td>0.0000000 </td><td>0.0000000 </td><td>0.3275242 </td><td>0.0000000 </td><td>0         </td><td>0.0000000 </td><td>0.00000000</td><td>⋯         </td><td>0         </td><td>0.3383884 </td><td>0         </td><td>0.00000000</td><td>0         </td><td>0.00000000</td><td>0         </td><td>0.00000000</td><td>0.07259953</td><td>0.0000000 </td></tr>\n",
       "\t<tr><th scope=row>23132-87</th><td>0.0000000 </td><td>0.00000000</td><td>0.0000000 </td><td>0.0000000 </td><td>0.0000000 </td><td>0.4347781 </td><td>0.0000000 </td><td>0         </td><td>0.0000000 </td><td>0.00000000</td><td>⋯         </td><td>0         </td><td>0.3883209 </td><td>0         </td><td>0.06382161</td><td>0         </td><td>0.00000000</td><td>0         </td><td>0.00000000</td><td>0.11307935</td><td>0.0000000 </td></tr>\n",
       "\t<tr><th scope=row>42-MG-BA</th><td>0.2373844 </td><td>0.00000000</td><td>0.0000000 </td><td>0.1712615 </td><td>0.1762817 </td><td>0.0000000 </td><td>0.0000000 </td><td>0         </td><td>0.0000000 </td><td>0.00000000</td><td>⋯         </td><td>0         </td><td>0.2063230 </td><td>0         </td><td>0.00000000</td><td>0         </td><td>0.08158825</td><td>0         </td><td>0.00000000</td><td>0.12716108</td><td>0.0000000 </td></tr>\n",
       "\t<tr><th scope=row>451Lu</th><td>0.0000000 </td><td>0.00000000</td><td>0.0000000 </td><td>0.5484138 </td><td>0.0000000 </td><td>0.0000000 </td><td>0.3180342 </td><td>0         </td><td>0.0000000 </td><td>0.06575894</td><td>⋯         </td><td>0         </td><td>0.0000000 </td><td>0         </td><td>0.00000000</td><td>0         </td><td>0.00000000</td><td>0         </td><td>0.00000000</td><td>0.06779310</td><td>0.0000000 </td></tr>\n",
       "</tbody>\n",
       "</table>\n"
      ],
      "text/latex": [
       "\\begin{tabular}{r|llllllllllllllllllllllllllllllll}\n",
       "  & weights.Signature.1 & weights.Signature.2 & weights.Signature.3 & weights.Signature.4 & weights.Signature.5 & weights.Signature.6 & weights.Signature.7 & weights.Signature.8 & weights.Signature.9 & weights.Signature.10 & ⋯ & weights.Signature.23 & weights.Signature.24 & weights.Signature.25 & weights.Signature.26 & weights.Signature.27 & weights.Signature.28 & weights.Signature.29 & weights.Signature.30 & unknown & zAPOBEC.Sig\\\\\n",
       "\\hline\n",
       "\tZR-75-30 & 0.1411407  & 0.07308761 & 0.1611302  & 0.0000000  & 0.0000000  & 0.0000000  & 0.0000000  & 0          & 0.1267835  & 0.00000000 & ⋯          & 0          & 0.1958402  & 0          & 0.00000000 & 0          & 0.00000000 & 0          & 0.00000000 & 0.19183679 & 0.1832686 \\\\\n",
       "\t201T & 0.1635878  & 0.00000000 & 0.0000000  & 0.1220388  & 0.2549915  & 0.0000000  & 0.0000000  & 0          & 0.0000000  & 0.00000000 & ⋯          & 0          & 0.2127248  & 0          & 0.00000000 & 0          & 0.00000000 & 0          & 0.06764838 & 0.09131876 & 0.0000000 \\\\\n",
       "\t22RV1 & 0.2614879  & 0.00000000 & 0.0000000  & 0.0000000  & 0.0000000  & 0.3275242  & 0.0000000  & 0          & 0.0000000  & 0.00000000 & ⋯          & 0          & 0.3383884  & 0          & 0.00000000 & 0          & 0.00000000 & 0          & 0.00000000 & 0.07259953 & 0.0000000 \\\\\n",
       "\t23132-87 & 0.0000000  & 0.00000000 & 0.0000000  & 0.0000000  & 0.0000000  & 0.4347781  & 0.0000000  & 0          & 0.0000000  & 0.00000000 & ⋯          & 0          & 0.3883209  & 0          & 0.06382161 & 0          & 0.00000000 & 0          & 0.00000000 & 0.11307935 & 0.0000000 \\\\\n",
       "\t42-MG-BA & 0.2373844  & 0.00000000 & 0.0000000  & 0.1712615  & 0.1762817  & 0.0000000  & 0.0000000  & 0          & 0.0000000  & 0.00000000 & ⋯          & 0          & 0.2063230  & 0          & 0.00000000 & 0          & 0.08158825 & 0          & 0.00000000 & 0.12716108 & 0.0000000 \\\\\n",
       "\t451Lu & 0.0000000  & 0.00000000 & 0.0000000  & 0.5484138  & 0.0000000  & 0.0000000  & 0.3180342  & 0          & 0.0000000  & 0.06575894 & ⋯          & 0          & 0.0000000  & 0          & 0.00000000 & 0          & 0.00000000 & 0          & 0.00000000 & 0.06779310 & 0.0000000 \\\\\n",
       "\\end{tabular}\n"
      ],
      "text/markdown": [
       "\n",
       "| <!--/--> | weights.Signature.1 | weights.Signature.2 | weights.Signature.3 | weights.Signature.4 | weights.Signature.5 | weights.Signature.6 | weights.Signature.7 | weights.Signature.8 | weights.Signature.9 | weights.Signature.10 | ⋯ | weights.Signature.23 | weights.Signature.24 | weights.Signature.25 | weights.Signature.26 | weights.Signature.27 | weights.Signature.28 | weights.Signature.29 | weights.Signature.30 | unknown | zAPOBEC.Sig |\n",
       "|---|---|---|---|---|---|---|---|---|---|---|---|---|---|---|---|---|---|---|---|---|---|\n",
       "| ZR-75-30 | 0.1411407  | 0.07308761 | 0.1611302  | 0.0000000  | 0.0000000  | 0.0000000  | 0.0000000  | 0          | 0.1267835  | 0.00000000 | ⋯          | 0          | 0.1958402  | 0          | 0.00000000 | 0          | 0.00000000 | 0          | 0.00000000 | 0.19183679 | 0.1832686  |\n",
       "| 201T | 0.1635878  | 0.00000000 | 0.0000000  | 0.1220388  | 0.2549915  | 0.0000000  | 0.0000000  | 0          | 0.0000000  | 0.00000000 | ⋯          | 0          | 0.2127248  | 0          | 0.00000000 | 0          | 0.00000000 | 0          | 0.06764838 | 0.09131876 | 0.0000000  |\n",
       "| 22RV1 | 0.2614879  | 0.00000000 | 0.0000000  | 0.0000000  | 0.0000000  | 0.3275242  | 0.0000000  | 0          | 0.0000000  | 0.00000000 | ⋯          | 0          | 0.3383884  | 0          | 0.00000000 | 0          | 0.00000000 | 0          | 0.00000000 | 0.07259953 | 0.0000000  |\n",
       "| 23132-87 | 0.0000000  | 0.00000000 | 0.0000000  | 0.0000000  | 0.0000000  | 0.4347781  | 0.0000000  | 0          | 0.0000000  | 0.00000000 | ⋯          | 0          | 0.3883209  | 0          | 0.06382161 | 0          | 0.00000000 | 0          | 0.00000000 | 0.11307935 | 0.0000000  |\n",
       "| 42-MG-BA | 0.2373844  | 0.00000000 | 0.0000000  | 0.1712615  | 0.1762817  | 0.0000000  | 0.0000000  | 0          | 0.0000000  | 0.00000000 | ⋯          | 0          | 0.2063230  | 0          | 0.00000000 | 0          | 0.08158825 | 0          | 0.00000000 | 0.12716108 | 0.0000000  |\n",
       "| 451Lu | 0.0000000  | 0.00000000 | 0.0000000  | 0.5484138  | 0.0000000  | 0.0000000  | 0.3180342  | 0          | 0.0000000  | 0.06575894 | ⋯          | 0          | 0.0000000  | 0          | 0.00000000 | 0          | 0.00000000 | 0          | 0.00000000 | 0.06779310 | 0.0000000  |\n",
       "\n"
      ],
      "text/plain": [
       "         weights.Signature.1 weights.Signature.2 weights.Signature.3\n",
       "ZR-75-30 0.1411407           0.07308761          0.1611302          \n",
       "201T     0.1635878           0.00000000          0.0000000          \n",
       "22RV1    0.2614879           0.00000000          0.0000000          \n",
       "23132-87 0.0000000           0.00000000          0.0000000          \n",
       "42-MG-BA 0.2373844           0.00000000          0.0000000          \n",
       "451Lu    0.0000000           0.00000000          0.0000000          \n",
       "         weights.Signature.4 weights.Signature.5 weights.Signature.6\n",
       "ZR-75-30 0.0000000           0.0000000           0.0000000          \n",
       "201T     0.1220388           0.2549915           0.0000000          \n",
       "22RV1    0.0000000           0.0000000           0.3275242          \n",
       "23132-87 0.0000000           0.0000000           0.4347781          \n",
       "42-MG-BA 0.1712615           0.1762817           0.0000000          \n",
       "451Lu    0.5484138           0.0000000           0.0000000          \n",
       "         weights.Signature.7 weights.Signature.8 weights.Signature.9\n",
       "ZR-75-30 0.0000000           0                   0.1267835          \n",
       "201T     0.0000000           0                   0.0000000          \n",
       "22RV1    0.0000000           0                   0.0000000          \n",
       "23132-87 0.0000000           0                   0.0000000          \n",
       "42-MG-BA 0.0000000           0                   0.0000000          \n",
       "451Lu    0.3180342           0                   0.0000000          \n",
       "         weights.Signature.10 ⋯ weights.Signature.23 weights.Signature.24\n",
       "ZR-75-30 0.00000000           ⋯ 0                    0.1958402           \n",
       "201T     0.00000000           ⋯ 0                    0.2127248           \n",
       "22RV1    0.00000000           ⋯ 0                    0.3383884           \n",
       "23132-87 0.00000000           ⋯ 0                    0.3883209           \n",
       "42-MG-BA 0.00000000           ⋯ 0                    0.2063230           \n",
       "451Lu    0.06575894           ⋯ 0                    0.0000000           \n",
       "         weights.Signature.25 weights.Signature.26 weights.Signature.27\n",
       "ZR-75-30 0                    0.00000000           0                   \n",
       "201T     0                    0.00000000           0                   \n",
       "22RV1    0                    0.00000000           0                   \n",
       "23132-87 0                    0.06382161           0                   \n",
       "42-MG-BA 0                    0.00000000           0                   \n",
       "451Lu    0                    0.00000000           0                   \n",
       "         weights.Signature.28 weights.Signature.29 weights.Signature.30\n",
       "ZR-75-30 0.00000000           0                    0.00000000          \n",
       "201T     0.00000000           0                    0.06764838          \n",
       "22RV1    0.00000000           0                    0.00000000          \n",
       "23132-87 0.00000000           0                    0.00000000          \n",
       "42-MG-BA 0.08158825           0                    0.00000000          \n",
       "451Lu    0.00000000           0                    0.00000000          \n",
       "         unknown    zAPOBEC.Sig\n",
       "ZR-75-30 0.19183679 0.1832686  \n",
       "201T     0.09131876 0.0000000  \n",
       "22RV1    0.07259953 0.0000000  \n",
       "23132-87 0.11307935 0.0000000  \n",
       "42-MG-BA 0.12716108 0.0000000  \n",
       "451Lu    0.06779310 0.0000000  "
      ]
     },
     "metadata": {},
     "output_type": "display_data"
    }
   ],
   "source": [
    "head(output.sigs.final[,c(1:30,319,320)])"
   ]
  },
  {
   "cell_type": "code",
   "execution_count": 40,
   "metadata": {},
   "outputs": [
    {
     "data": {
      "text/html": [
       "<ol class=list-inline>\n",
       "\t<li>'weights.Signature.1'</li>\n",
       "\t<li>'weights.Signature.2'</li>\n",
       "\t<li>'weights.Signature.3'</li>\n",
       "\t<li>'weights.Signature.4'</li>\n",
       "\t<li>'weights.Signature.5'</li>\n",
       "\t<li>'weights.Signature.6'</li>\n",
       "\t<li>'weights.Signature.7'</li>\n",
       "\t<li>'weights.Signature.8'</li>\n",
       "\t<li>'weights.Signature.9'</li>\n",
       "\t<li>'weights.Signature.10'</li>\n",
       "\t<li>'weights.Signature.11'</li>\n",
       "\t<li>'weights.Signature.12'</li>\n",
       "\t<li>'weights.Signature.13'</li>\n",
       "\t<li>'weights.Signature.14'</li>\n",
       "\t<li>'weights.Signature.15'</li>\n",
       "\t<li>'weights.Signature.16'</li>\n",
       "\t<li>'weights.Signature.17'</li>\n",
       "\t<li>'weights.Signature.18'</li>\n",
       "\t<li>'weights.Signature.19'</li>\n",
       "\t<li>'weights.Signature.20'</li>\n",
       "\t<li>'weights.Signature.21'</li>\n",
       "\t<li>'weights.Signature.22'</li>\n",
       "\t<li>'weights.Signature.23'</li>\n",
       "\t<li>'weights.Signature.24'</li>\n",
       "\t<li>'weights.Signature.25'</li>\n",
       "\t<li>'weights.Signature.26'</li>\n",
       "\t<li>'weights.Signature.27'</li>\n",
       "\t<li>'weights.Signature.28'</li>\n",
       "\t<li>'weights.Signature.29'</li>\n",
       "\t<li>'weights.Signature.30'</li>\n",
       "\t<li>'unknown'</li>\n",
       "\t<li>'zAPOBEC.Sig'</li>\n",
       "</ol>\n"
      ],
      "text/latex": [
       "\\begin{enumerate*}\n",
       "\\item 'weights.Signature.1'\n",
       "\\item 'weights.Signature.2'\n",
       "\\item 'weights.Signature.3'\n",
       "\\item 'weights.Signature.4'\n",
       "\\item 'weights.Signature.5'\n",
       "\\item 'weights.Signature.6'\n",
       "\\item 'weights.Signature.7'\n",
       "\\item 'weights.Signature.8'\n",
       "\\item 'weights.Signature.9'\n",
       "\\item 'weights.Signature.10'\n",
       "\\item 'weights.Signature.11'\n",
       "\\item 'weights.Signature.12'\n",
       "\\item 'weights.Signature.13'\n",
       "\\item 'weights.Signature.14'\n",
       "\\item 'weights.Signature.15'\n",
       "\\item 'weights.Signature.16'\n",
       "\\item 'weights.Signature.17'\n",
       "\\item 'weights.Signature.18'\n",
       "\\item 'weights.Signature.19'\n",
       "\\item 'weights.Signature.20'\n",
       "\\item 'weights.Signature.21'\n",
       "\\item 'weights.Signature.22'\n",
       "\\item 'weights.Signature.23'\n",
       "\\item 'weights.Signature.24'\n",
       "\\item 'weights.Signature.25'\n",
       "\\item 'weights.Signature.26'\n",
       "\\item 'weights.Signature.27'\n",
       "\\item 'weights.Signature.28'\n",
       "\\item 'weights.Signature.29'\n",
       "\\item 'weights.Signature.30'\n",
       "\\item 'unknown'\n",
       "\\item 'zAPOBEC.Sig'\n",
       "\\end{enumerate*}\n"
      ],
      "text/markdown": [
       "1. 'weights.Signature.1'\n",
       "2. 'weights.Signature.2'\n",
       "3. 'weights.Signature.3'\n",
       "4. 'weights.Signature.4'\n",
       "5. 'weights.Signature.5'\n",
       "6. 'weights.Signature.6'\n",
       "7. 'weights.Signature.7'\n",
       "8. 'weights.Signature.8'\n",
       "9. 'weights.Signature.9'\n",
       "10. 'weights.Signature.10'\n",
       "11. 'weights.Signature.11'\n",
       "12. 'weights.Signature.12'\n",
       "13. 'weights.Signature.13'\n",
       "14. 'weights.Signature.14'\n",
       "15. 'weights.Signature.15'\n",
       "16. 'weights.Signature.16'\n",
       "17. 'weights.Signature.17'\n",
       "18. 'weights.Signature.18'\n",
       "19. 'weights.Signature.19'\n",
       "20. 'weights.Signature.20'\n",
       "21. 'weights.Signature.21'\n",
       "22. 'weights.Signature.22'\n",
       "23. 'weights.Signature.23'\n",
       "24. 'weights.Signature.24'\n",
       "25. 'weights.Signature.25'\n",
       "26. 'weights.Signature.26'\n",
       "27. 'weights.Signature.27'\n",
       "28. 'weights.Signature.28'\n",
       "29. 'weights.Signature.29'\n",
       "30. 'weights.Signature.30'\n",
       "31. 'unknown'\n",
       "32. 'zAPOBEC.Sig'\n",
       "\n",
       "\n"
      ],
      "text/plain": [
       " [1] \"weights.Signature.1\"  \"weights.Signature.2\"  \"weights.Signature.3\" \n",
       " [4] \"weights.Signature.4\"  \"weights.Signature.5\"  \"weights.Signature.6\" \n",
       " [7] \"weights.Signature.7\"  \"weights.Signature.8\"  \"weights.Signature.9\" \n",
       "[10] \"weights.Signature.10\" \"weights.Signature.11\" \"weights.Signature.12\"\n",
       "[13] \"weights.Signature.13\" \"weights.Signature.14\" \"weights.Signature.15\"\n",
       "[16] \"weights.Signature.16\" \"weights.Signature.17\" \"weights.Signature.18\"\n",
       "[19] \"weights.Signature.19\" \"weights.Signature.20\" \"weights.Signature.21\"\n",
       "[22] \"weights.Signature.22\" \"weights.Signature.23\" \"weights.Signature.24\"\n",
       "[25] \"weights.Signature.25\" \"weights.Signature.26\" \"weights.Signature.27\"\n",
       "[28] \"weights.Signature.28\" \"weights.Signature.29\" \"weights.Signature.30\"\n",
       "[31] \"unknown\"              \"zAPOBEC.Sig\"         "
      ]
     },
     "metadata": {},
     "output_type": "display_data"
    }
   ],
   "source": [
    "colnames(output.sigs.final)[c(1:30,319,320)]"
   ]
  },
  {
   "cell_type": "code",
   "execution_count": 41,
   "metadata": {},
   "outputs": [
    {
     "data": {
      "text/html": [
       "<table>\n",
       "<thead><tr><th></th><th scope=col>weights.Signature.1</th><th scope=col>weights.Signature.2</th><th scope=col>weights.Signature.3</th><th scope=col>weights.Signature.4</th><th scope=col>weights.Signature.5</th><th scope=col>weights.Signature.6</th><th scope=col>weights.Signature.7</th><th scope=col>weights.Signature.8</th><th scope=col>weights.Signature.9</th><th scope=col>weights.Signature.10</th><th scope=col>⋯</th><th scope=col>weights.Signature.23</th><th scope=col>weights.Signature.24</th><th scope=col>weights.Signature.25</th><th scope=col>weights.Signature.26</th><th scope=col>weights.Signature.27</th><th scope=col>weights.Signature.28</th><th scope=col>weights.Signature.29</th><th scope=col>weights.Signature.30</th><th scope=col>unknown</th><th scope=col>zAPOBEC.Sig</th></tr></thead>\n",
       "<tbody>\n",
       "\t<tr><th scope=row>ZR-75-30</th><td>0.1411407 </td><td>0.07308761</td><td>0.1611302 </td><td>0.0000000 </td><td>0.0000000 </td><td>0.0000000 </td><td>0.0000000 </td><td>0         </td><td>0.1267835 </td><td>0.00000000</td><td>⋯         </td><td>0         </td><td>0.1958402 </td><td>0         </td><td>0.00000000</td><td>0         </td><td>0.00000000</td><td>0         </td><td>0.00000000</td><td>0.19183679</td><td>0.1832686 </td></tr>\n",
       "\t<tr><th scope=row>201T</th><td>0.1635878 </td><td>0.00000000</td><td>0.0000000 </td><td>0.1220388 </td><td>0.2549915 </td><td>0.0000000 </td><td>0.0000000 </td><td>0         </td><td>0.0000000 </td><td>0.00000000</td><td>⋯         </td><td>0         </td><td>0.2127248 </td><td>0         </td><td>0.00000000</td><td>0         </td><td>0.00000000</td><td>0         </td><td>0.06764838</td><td>0.09131876</td><td>0.0000000 </td></tr>\n",
       "\t<tr><th scope=row>22RV1</th><td>0.2614879 </td><td>0.00000000</td><td>0.0000000 </td><td>0.0000000 </td><td>0.0000000 </td><td>0.3275242 </td><td>0.0000000 </td><td>0         </td><td>0.0000000 </td><td>0.00000000</td><td>⋯         </td><td>0         </td><td>0.3383884 </td><td>0         </td><td>0.00000000</td><td>0         </td><td>0.00000000</td><td>0         </td><td>0.00000000</td><td>0.07259953</td><td>0.0000000 </td></tr>\n",
       "\t<tr><th scope=row>23132-87</th><td>0.0000000 </td><td>0.00000000</td><td>0.0000000 </td><td>0.0000000 </td><td>0.0000000 </td><td>0.4347781 </td><td>0.0000000 </td><td>0         </td><td>0.0000000 </td><td>0.00000000</td><td>⋯         </td><td>0         </td><td>0.3883209 </td><td>0         </td><td>0.06382161</td><td>0         </td><td>0.00000000</td><td>0         </td><td>0.00000000</td><td>0.11307935</td><td>0.0000000 </td></tr>\n",
       "\t<tr><th scope=row>42-MG-BA</th><td>0.2373844 </td><td>0.00000000</td><td>0.0000000 </td><td>0.1712615 </td><td>0.1762817 </td><td>0.0000000 </td><td>0.0000000 </td><td>0         </td><td>0.0000000 </td><td>0.00000000</td><td>⋯         </td><td>0         </td><td>0.2063230 </td><td>0         </td><td>0.00000000</td><td>0         </td><td>0.08158825</td><td>0         </td><td>0.00000000</td><td>0.12716108</td><td>0.0000000 </td></tr>\n",
       "\t<tr><th scope=row>451Lu</th><td>0.0000000 </td><td>0.00000000</td><td>0.0000000 </td><td>0.5484138 </td><td>0.0000000 </td><td>0.0000000 </td><td>0.3180342 </td><td>0         </td><td>0.0000000 </td><td>0.06575894</td><td>⋯         </td><td>0         </td><td>0.0000000 </td><td>0         </td><td>0.00000000</td><td>0         </td><td>0.00000000</td><td>0         </td><td>0.00000000</td><td>0.06779310</td><td>0.0000000 </td></tr>\n",
       "</tbody>\n",
       "</table>\n"
      ],
      "text/latex": [
       "\\begin{tabular}{r|llllllllllllllllllllllllllllllll}\n",
       "  & weights.Signature.1 & weights.Signature.2 & weights.Signature.3 & weights.Signature.4 & weights.Signature.5 & weights.Signature.6 & weights.Signature.7 & weights.Signature.8 & weights.Signature.9 & weights.Signature.10 & ⋯ & weights.Signature.23 & weights.Signature.24 & weights.Signature.25 & weights.Signature.26 & weights.Signature.27 & weights.Signature.28 & weights.Signature.29 & weights.Signature.30 & unknown & zAPOBEC.Sig\\\\\n",
       "\\hline\n",
       "\tZR-75-30 & 0.1411407  & 0.07308761 & 0.1611302  & 0.0000000  & 0.0000000  & 0.0000000  & 0.0000000  & 0          & 0.1267835  & 0.00000000 & ⋯          & 0          & 0.1958402  & 0          & 0.00000000 & 0          & 0.00000000 & 0          & 0.00000000 & 0.19183679 & 0.1832686 \\\\\n",
       "\t201T & 0.1635878  & 0.00000000 & 0.0000000  & 0.1220388  & 0.2549915  & 0.0000000  & 0.0000000  & 0          & 0.0000000  & 0.00000000 & ⋯          & 0          & 0.2127248  & 0          & 0.00000000 & 0          & 0.00000000 & 0          & 0.06764838 & 0.09131876 & 0.0000000 \\\\\n",
       "\t22RV1 & 0.2614879  & 0.00000000 & 0.0000000  & 0.0000000  & 0.0000000  & 0.3275242  & 0.0000000  & 0          & 0.0000000  & 0.00000000 & ⋯          & 0          & 0.3383884  & 0          & 0.00000000 & 0          & 0.00000000 & 0          & 0.00000000 & 0.07259953 & 0.0000000 \\\\\n",
       "\t23132-87 & 0.0000000  & 0.00000000 & 0.0000000  & 0.0000000  & 0.0000000  & 0.4347781  & 0.0000000  & 0          & 0.0000000  & 0.00000000 & ⋯          & 0          & 0.3883209  & 0          & 0.06382161 & 0          & 0.00000000 & 0          & 0.00000000 & 0.11307935 & 0.0000000 \\\\\n",
       "\t42-MG-BA & 0.2373844  & 0.00000000 & 0.0000000  & 0.1712615  & 0.1762817  & 0.0000000  & 0.0000000  & 0          & 0.0000000  & 0.00000000 & ⋯          & 0          & 0.2063230  & 0          & 0.00000000 & 0          & 0.08158825 & 0          & 0.00000000 & 0.12716108 & 0.0000000 \\\\\n",
       "\t451Lu & 0.0000000  & 0.00000000 & 0.0000000  & 0.5484138  & 0.0000000  & 0.0000000  & 0.3180342  & 0          & 0.0000000  & 0.06575894 & ⋯          & 0          & 0.0000000  & 0          & 0.00000000 & 0          & 0.00000000 & 0          & 0.00000000 & 0.06779310 & 0.0000000 \\\\\n",
       "\\end{tabular}\n"
      ],
      "text/markdown": [
       "\n",
       "| <!--/--> | weights.Signature.1 | weights.Signature.2 | weights.Signature.3 | weights.Signature.4 | weights.Signature.5 | weights.Signature.6 | weights.Signature.7 | weights.Signature.8 | weights.Signature.9 | weights.Signature.10 | ⋯ | weights.Signature.23 | weights.Signature.24 | weights.Signature.25 | weights.Signature.26 | weights.Signature.27 | weights.Signature.28 | weights.Signature.29 | weights.Signature.30 | unknown | zAPOBEC.Sig |\n",
       "|---|---|---|---|---|---|---|---|---|---|---|---|---|---|---|---|---|---|---|---|---|---|\n",
       "| ZR-75-30 | 0.1411407  | 0.07308761 | 0.1611302  | 0.0000000  | 0.0000000  | 0.0000000  | 0.0000000  | 0          | 0.1267835  | 0.00000000 | ⋯          | 0          | 0.1958402  | 0          | 0.00000000 | 0          | 0.00000000 | 0          | 0.00000000 | 0.19183679 | 0.1832686  |\n",
       "| 201T | 0.1635878  | 0.00000000 | 0.0000000  | 0.1220388  | 0.2549915  | 0.0000000  | 0.0000000  | 0          | 0.0000000  | 0.00000000 | ⋯          | 0          | 0.2127248  | 0          | 0.00000000 | 0          | 0.00000000 | 0          | 0.06764838 | 0.09131876 | 0.0000000  |\n",
       "| 22RV1 | 0.2614879  | 0.00000000 | 0.0000000  | 0.0000000  | 0.0000000  | 0.3275242  | 0.0000000  | 0          | 0.0000000  | 0.00000000 | ⋯          | 0          | 0.3383884  | 0          | 0.00000000 | 0          | 0.00000000 | 0          | 0.00000000 | 0.07259953 | 0.0000000  |\n",
       "| 23132-87 | 0.0000000  | 0.00000000 | 0.0000000  | 0.0000000  | 0.0000000  | 0.4347781  | 0.0000000  | 0          | 0.0000000  | 0.00000000 | ⋯          | 0          | 0.3883209  | 0          | 0.06382161 | 0          | 0.00000000 | 0          | 0.00000000 | 0.11307935 | 0.0000000  |\n",
       "| 42-MG-BA | 0.2373844  | 0.00000000 | 0.0000000  | 0.1712615  | 0.1762817  | 0.0000000  | 0.0000000  | 0          | 0.0000000  | 0.00000000 | ⋯          | 0          | 0.2063230  | 0          | 0.00000000 | 0          | 0.08158825 | 0          | 0.00000000 | 0.12716108 | 0.0000000  |\n",
       "| 451Lu | 0.0000000  | 0.00000000 | 0.0000000  | 0.5484138  | 0.0000000  | 0.0000000  | 0.3180342  | 0          | 0.0000000  | 0.06575894 | ⋯          | 0          | 0.0000000  | 0          | 0.00000000 | 0          | 0.00000000 | 0          | 0.00000000 | 0.06779310 | 0.0000000  |\n",
       "\n"
      ],
      "text/plain": [
       "         weights.Signature.1 weights.Signature.2 weights.Signature.3\n",
       "ZR-75-30 0.1411407           0.07308761          0.1611302          \n",
       "201T     0.1635878           0.00000000          0.0000000          \n",
       "22RV1    0.2614879           0.00000000          0.0000000          \n",
       "23132-87 0.0000000           0.00000000          0.0000000          \n",
       "42-MG-BA 0.2373844           0.00000000          0.0000000          \n",
       "451Lu    0.0000000           0.00000000          0.0000000          \n",
       "         weights.Signature.4 weights.Signature.5 weights.Signature.6\n",
       "ZR-75-30 0.0000000           0.0000000           0.0000000          \n",
       "201T     0.1220388           0.2549915           0.0000000          \n",
       "22RV1    0.0000000           0.0000000           0.3275242          \n",
       "23132-87 0.0000000           0.0000000           0.4347781          \n",
       "42-MG-BA 0.1712615           0.1762817           0.0000000          \n",
       "451Lu    0.5484138           0.0000000           0.0000000          \n",
       "         weights.Signature.7 weights.Signature.8 weights.Signature.9\n",
       "ZR-75-30 0.0000000           0                   0.1267835          \n",
       "201T     0.0000000           0                   0.0000000          \n",
       "22RV1    0.0000000           0                   0.0000000          \n",
       "23132-87 0.0000000           0                   0.0000000          \n",
       "42-MG-BA 0.0000000           0                   0.0000000          \n",
       "451Lu    0.3180342           0                   0.0000000          \n",
       "         weights.Signature.10 ⋯ weights.Signature.23 weights.Signature.24\n",
       "ZR-75-30 0.00000000           ⋯ 0                    0.1958402           \n",
       "201T     0.00000000           ⋯ 0                    0.2127248           \n",
       "22RV1    0.00000000           ⋯ 0                    0.3383884           \n",
       "23132-87 0.00000000           ⋯ 0                    0.3883209           \n",
       "42-MG-BA 0.00000000           ⋯ 0                    0.2063230           \n",
       "451Lu    0.06575894           ⋯ 0                    0.0000000           \n",
       "         weights.Signature.25 weights.Signature.26 weights.Signature.27\n",
       "ZR-75-30 0                    0.00000000           0                   \n",
       "201T     0                    0.00000000           0                   \n",
       "22RV1    0                    0.00000000           0                   \n",
       "23132-87 0                    0.06382161           0                   \n",
       "42-MG-BA 0                    0.00000000           0                   \n",
       "451Lu    0                    0.00000000           0                   \n",
       "         weights.Signature.28 weights.Signature.29 weights.Signature.30\n",
       "ZR-75-30 0.00000000           0                    0.00000000          \n",
       "201T     0.00000000           0                    0.06764838          \n",
       "22RV1    0.00000000           0                    0.00000000          \n",
       "23132-87 0.00000000           0                    0.00000000          \n",
       "42-MG-BA 0.08158825           0                    0.00000000          \n",
       "451Lu    0.00000000           0                    0.00000000          \n",
       "         unknown    zAPOBEC.Sig\n",
       "ZR-75-30 0.19183679 0.1832686  \n",
       "201T     0.09131876 0.0000000  \n",
       "22RV1    0.07259953 0.0000000  \n",
       "23132-87 0.11307935 0.0000000  \n",
       "42-MG-BA 0.12716108 0.0000000  \n",
       "451Lu    0.06779310 0.0000000  "
      ]
     },
     "metadata": {},
     "output_type": "display_data"
    }
   ],
   "source": [
    "# Only want 32 of these columns?\n",
    "output.sigs.final <- output.sigs.final[,c(1:30,319,320)]\n",
    "head(output.sigs.final)"
   ]
  },
  {
   "cell_type": "code",
   "execution_count": 42,
   "metadata": {},
   "outputs": [
    {
     "data": {
      "text/html": [
       "<ol class=list-inline>\n",
       "\t<li>'ZR-75-30'</li>\n",
       "\t<li>'201T'</li>\n",
       "\t<li>'22RV1'</li>\n",
       "\t<li>'23132-87'</li>\n",
       "\t<li>'42-MG-BA'</li>\n",
       "\t<li>'451Lu'</li>\n",
       "</ol>\n"
      ],
      "text/latex": [
       "\\begin{enumerate*}\n",
       "\\item 'ZR-75-30'\n",
       "\\item '201T'\n",
       "\\item '22RV1'\n",
       "\\item '23132-87'\n",
       "\\item '42-MG-BA'\n",
       "\\item '451Lu'\n",
       "\\end{enumerate*}\n"
      ],
      "text/markdown": [
       "1. 'ZR-75-30'\n",
       "2. '201T'\n",
       "3. '22RV1'\n",
       "4. '23132-87'\n",
       "5. '42-MG-BA'\n",
       "6. '451Lu'\n",
       "\n",
       "\n"
      ],
      "text/plain": [
       "[1] \"ZR-75-30\" \"201T\"     \"22RV1\"    \"23132-87\" \"42-MG-BA\" \"451Lu\"   "
      ]
     },
     "metadata": {},
     "output_type": "display_data"
    }
   ],
   "source": [
    "output.sigs.final$sample <- rownames(output.sigs.final)\n",
    "head(output.sigs.final$sample)"
   ]
  },
  {
   "cell_type": "code",
   "execution_count": 43,
   "metadata": {},
   "outputs": [],
   "source": [
    "rownames(output.sigs.final) <- NULL\n",
    "head(output.sigs.final)"
   ]
  },
  {
   "cell_type": "code",
   "execution_count": 46,
   "metadata": {},
   "outputs": [
    {
     "data": {
      "text/html": [
       "<table>\n",
       "<thead><tr><th scope=col>V1</th><th scope=col>V2</th></tr></thead>\n",
       "<tbody>\n",
       "\t<tr><td>201T    </td><td>Lung    </td></tr>\n",
       "\t<tr><td>22RV1   </td><td>Prostate</td></tr>\n",
       "\t<tr><td>23132-87</td><td>Stomach </td></tr>\n",
       "\t<tr><td>42-MG-BA</td><td>CNS     </td></tr>\n",
       "\t<tr><td>451Lu   </td><td>Skin    </td></tr>\n",
       "\t<tr><td>5637    </td><td>Bladder </td></tr>\n",
       "</tbody>\n",
       "</table>\n"
      ],
      "text/latex": [
       "\\begin{tabular}{r|ll}\n",
       " V1 & V2\\\\\n",
       "\\hline\n",
       "\t 201T     & Lung    \\\\\n",
       "\t 22RV1    & Prostate\\\\\n",
       "\t 23132-87 & Stomach \\\\\n",
       "\t 42-MG-BA & CNS     \\\\\n",
       "\t 451Lu    & Skin    \\\\\n",
       "\t 5637     & Bladder \\\\\n",
       "\\end{tabular}\n"
      ],
      "text/markdown": [
       "\n",
       "| V1 | V2 |\n",
       "|---|---|\n",
       "| 201T     | Lung     |\n",
       "| 22RV1    | Prostate |\n",
       "| 23132-87 | Stomach  |\n",
       "| 42-MG-BA | CNS      |\n",
       "| 451Lu    | Skin     |\n",
       "| 5637     | Bladder  |\n",
       "\n"
      ],
      "text/plain": [
       "  V1       V2      \n",
       "1 201T     Lung    \n",
       "2 22RV1    Prostate\n",
       "3 23132-87 Stomach \n",
       "4 42-MG-BA CNS     \n",
       "5 451Lu    Skin    \n",
       "6 5637     Bladder "
      ]
     },
     "metadata": {},
     "output_type": "display_data"
    }
   ],
   "source": [
    "cosmic_tissue_type <- read.table(file = \"cosmic/cosmic_tissue_type.txt\", header = F, stringsAsFactors = F, fill = T, sep=\"\\t\")\n",
    "head(cosmic_tissue_type)"
   ]
  },
  {
   "cell_type": "code",
   "execution_count": 47,
   "metadata": {},
   "outputs": [
    {
     "data": {
      "text/html": [
       "<table>\n",
       "<thead><tr><th scope=col>sample</th><th scope=col>tissue</th></tr></thead>\n",
       "<tbody>\n",
       "\t<tr><td>201T    </td><td>Lung    </td></tr>\n",
       "\t<tr><td>22RV1   </td><td>Prostate</td></tr>\n",
       "\t<tr><td>23132-87</td><td>Stomach </td></tr>\n",
       "\t<tr><td>42-MG-BA</td><td>CNS     </td></tr>\n",
       "\t<tr><td>451Lu   </td><td>Skin    </td></tr>\n",
       "\t<tr><td>5637    </td><td>Bladder </td></tr>\n",
       "</tbody>\n",
       "</table>\n"
      ],
      "text/latex": [
       "\\begin{tabular}{r|ll}\n",
       " sample & tissue\\\\\n",
       "\\hline\n",
       "\t 201T     & Lung    \\\\\n",
       "\t 22RV1    & Prostate\\\\\n",
       "\t 23132-87 & Stomach \\\\\n",
       "\t 42-MG-BA & CNS     \\\\\n",
       "\t 451Lu    & Skin    \\\\\n",
       "\t 5637     & Bladder \\\\\n",
       "\\end{tabular}\n"
      ],
      "text/markdown": [
       "\n",
       "| sample | tissue |\n",
       "|---|---|\n",
       "| 201T     | Lung     |\n",
       "| 22RV1    | Prostate |\n",
       "| 23132-87 | Stomach  |\n",
       "| 42-MG-BA | CNS      |\n",
       "| 451Lu    | Skin     |\n",
       "| 5637     | Bladder  |\n",
       "\n"
      ],
      "text/plain": [
       "  sample   tissue  \n",
       "1 201T     Lung    \n",
       "2 22RV1    Prostate\n",
       "3 23132-87 Stomach \n",
       "4 42-MG-BA CNS     \n",
       "5 451Lu    Skin    \n",
       "6 5637     Bladder "
      ]
     },
     "metadata": {},
     "output_type": "display_data"
    }
   ],
   "source": [
    "colnames(cosmic_tissue_type) <- c(\"sample\", \"tissue\")\n",
    "head(cosmic_tissue_type)"
   ]
  },
  {
   "cell_type": "code",
   "execution_count": 48,
   "metadata": {},
   "outputs": [
    {
     "data": {
      "text/html": [
       "2"
      ],
      "text/latex": [
       "2"
      ],
      "text/markdown": [
       "2"
      ],
      "text/plain": [
       "[1] 2"
      ]
     },
     "metadata": {},
     "output_type": "display_data"
    }
   ],
   "source": [
    "length(cosmic_tissue_type)"
   ]
  },
  {
   "cell_type": "code",
   "execution_count": 49,
   "metadata": {},
   "outputs": [
    {
     "data": {
      "text/html": [
       "2"
      ],
      "text/latex": [
       "2"
      ],
      "text/markdown": [
       "2"
      ],
      "text/plain": [
       "[1] 2"
      ]
     },
     "metadata": {},
     "output_type": "display_data"
    }
   ],
   "source": [
    "# Unnecessary\n",
    "cosmic_tissue_type <- unique(cosmic_tissue_type)\n",
    "length(cosmic_tissue_type)"
   ]
  },
  {
   "cell_type": "code",
   "execution_count": 50,
   "metadata": {},
   "outputs": [
    {
     "data": {
      "text/html": [
       "<table>\n",
       "<thead><tr><th scope=col>sample</th><th scope=col>tissue</th></tr></thead>\n",
       "<tbody>\n",
       "\t<tr><td>201T    </td><td>Lung    </td></tr>\n",
       "\t<tr><td>22RV1   </td><td>Prostate</td></tr>\n",
       "\t<tr><td>23132-87</td><td>Stomach </td></tr>\n",
       "\t<tr><td>42-MG-BA</td><td>CNS     </td></tr>\n",
       "\t<tr><td>451Lu   </td><td>Skin    </td></tr>\n",
       "\t<tr><td>5637    </td><td>Bladder </td></tr>\n",
       "</tbody>\n",
       "</table>\n"
      ],
      "text/latex": [
       "\\begin{tabular}{r|ll}\n",
       " sample & tissue\\\\\n",
       "\\hline\n",
       "\t 201T     & Lung    \\\\\n",
       "\t 22RV1    & Prostate\\\\\n",
       "\t 23132-87 & Stomach \\\\\n",
       "\t 42-MG-BA & CNS     \\\\\n",
       "\t 451Lu    & Skin    \\\\\n",
       "\t 5637     & Bladder \\\\\n",
       "\\end{tabular}\n"
      ],
      "text/markdown": [
       "\n",
       "| sample | tissue |\n",
       "|---|---|\n",
       "| 201T     | Lung     |\n",
       "| 22RV1    | Prostate |\n",
       "| 23132-87 | Stomach  |\n",
       "| 42-MG-BA | CNS      |\n",
       "| 451Lu    | Skin     |\n",
       "| 5637     | Bladder  |\n",
       "\n"
      ],
      "text/plain": [
       "  sample   tissue  \n",
       "1 201T     Lung    \n",
       "2 22RV1    Prostate\n",
       "3 23132-87 Stomach \n",
       "4 42-MG-BA CNS     \n",
       "5 451Lu    Skin    \n",
       "6 5637     Bladder "
      ]
     },
     "metadata": {},
     "output_type": "display_data"
    }
   ],
   "source": [
    "cosmic_mut_tissue <- merge(cosmic_mut_all_sort, cosmic_tissue_type, by = \"sample\", all.x = T)\n",
    "head(cosmic_tissue_type)"
   ]
  },
  {
   "cell_type": "code",
   "execution_count": 51,
   "metadata": {},
   "outputs": [
    {
     "data": {
      "text/html": [
       "<table>\n",
       "<thead><tr><th scope=col>Var1</th><th scope=col>Freq</th></tr></thead>\n",
       "<tbody>\n",
       "\t<tr><td>201T    </td><td> 428    </td></tr>\n",
       "\t<tr><td>22RV1   </td><td>1810    </td></tr>\n",
       "\t<tr><td>23132-87</td><td>1794    </td></tr>\n",
       "\t<tr><td>42-MG-BA</td><td> 217    </td></tr>\n",
       "\t<tr><td>451Lu   </td><td> 618    </td></tr>\n",
       "\t<tr><td>5637    </td><td> 603    </td></tr>\n",
       "</tbody>\n",
       "</table>\n"
      ],
      "text/latex": [
       "\\begin{tabular}{r|ll}\n",
       " Var1 & Freq\\\\\n",
       "\\hline\n",
       "\t 201T     &  428    \\\\\n",
       "\t 22RV1    & 1810    \\\\\n",
       "\t 23132-87 & 1794    \\\\\n",
       "\t 42-MG-BA &  217    \\\\\n",
       "\t 451Lu    &  618    \\\\\n",
       "\t 5637     &  603    \\\\\n",
       "\\end{tabular}\n"
      ],
      "text/markdown": [
       "\n",
       "| Var1 | Freq |\n",
       "|---|---|\n",
       "| 201T     |  428     |\n",
       "| 22RV1    | 1810     |\n",
       "| 23132-87 | 1794     |\n",
       "| 42-MG-BA |  217     |\n",
       "| 451Lu    |  618     |\n",
       "| 5637     |  603     |\n",
       "\n"
      ],
      "text/plain": [
       "  Var1     Freq\n",
       "1 201T      428\n",
       "2 22RV1    1810\n",
       "3 23132-87 1794\n",
       "4 42-MG-BA  217\n",
       "5 451Lu     618\n",
       "6 5637      603"
      ]
     },
     "metadata": {},
     "output_type": "display_data"
    }
   ],
   "source": [
    "cell_line_mutload <- as.data.frame(table(cosmic_mut_tissue$sample))\n",
    "head(cell_line_mutload)"
   ]
  },
  {
   "cell_type": "code",
   "execution_count": 52,
   "metadata": {},
   "outputs": [
    {
     "data": {
      "text/html": [
       "<table>\n",
       "<thead><tr><th scope=col>sample</th><th scope=col>mut_tot</th></tr></thead>\n",
       "<tbody>\n",
       "\t<tr><td>201T    </td><td> 428    </td></tr>\n",
       "\t<tr><td>22RV1   </td><td>1810    </td></tr>\n",
       "\t<tr><td>23132-87</td><td>1794    </td></tr>\n",
       "\t<tr><td>42-MG-BA</td><td> 217    </td></tr>\n",
       "\t<tr><td>451Lu   </td><td> 618    </td></tr>\n",
       "\t<tr><td>5637    </td><td> 603    </td></tr>\n",
       "</tbody>\n",
       "</table>\n"
      ],
      "text/latex": [
       "\\begin{tabular}{r|ll}\n",
       " sample & mut\\_tot\\\\\n",
       "\\hline\n",
       "\t 201T     &  428    \\\\\n",
       "\t 22RV1    & 1810    \\\\\n",
       "\t 23132-87 & 1794    \\\\\n",
       "\t 42-MG-BA &  217    \\\\\n",
       "\t 451Lu    &  618    \\\\\n",
       "\t 5637     &  603    \\\\\n",
       "\\end{tabular}\n"
      ],
      "text/markdown": [
       "\n",
       "| sample | mut_tot |\n",
       "|---|---|\n",
       "| 201T     |  428     |\n",
       "| 22RV1    | 1810     |\n",
       "| 23132-87 | 1794     |\n",
       "| 42-MG-BA |  217     |\n",
       "| 451Lu    |  618     |\n",
       "| 5637     |  603     |\n",
       "\n"
      ],
      "text/plain": [
       "  sample   mut_tot\n",
       "1 201T      428   \n",
       "2 22RV1    1810   \n",
       "3 23132-87 1794   \n",
       "4 42-MG-BA  217   \n",
       "5 451Lu     618   \n",
       "6 5637      603   "
      ]
     },
     "metadata": {},
     "output_type": "display_data"
    }
   ],
   "source": [
    "colnames(cell_line_mutload) <- c(\"sample\", \"mut_tot\")\n",
    "head(cell_line_mutload)"
   ]
  },
  {
   "cell_type": "code",
   "execution_count": 53,
   "metadata": {},
   "outputs": [
    {
     "data": {
      "text/html": [
       "<table>\n",
       "<thead><tr><th scope=col>sample</th><th scope=col>mut_tot</th><th scope=col>tissue</th></tr></thead>\n",
       "<tbody>\n",
       "\t<tr><td>201T    </td><td> 428    </td><td>Lung    </td></tr>\n",
       "\t<tr><td>22RV1   </td><td>1810    </td><td>Prostate</td></tr>\n",
       "\t<tr><td>23132-87</td><td>1794    </td><td>Stomach </td></tr>\n",
       "\t<tr><td>42-MG-BA</td><td> 217    </td><td>CNS     </td></tr>\n",
       "\t<tr><td>451Lu   </td><td> 618    </td><td>Skin    </td></tr>\n",
       "\t<tr><td>5637    </td><td> 603    </td><td>Bladder </td></tr>\n",
       "</tbody>\n",
       "</table>\n"
      ],
      "text/latex": [
       "\\begin{tabular}{r|lll}\n",
       " sample & mut\\_tot & tissue\\\\\n",
       "\\hline\n",
       "\t 201T     &  428     & Lung    \\\\\n",
       "\t 22RV1    & 1810     & Prostate\\\\\n",
       "\t 23132-87 & 1794     & Stomach \\\\\n",
       "\t 42-MG-BA &  217     & CNS     \\\\\n",
       "\t 451Lu    &  618     & Skin    \\\\\n",
       "\t 5637     &  603     & Bladder \\\\\n",
       "\\end{tabular}\n"
      ],
      "text/markdown": [
       "\n",
       "| sample | mut_tot | tissue |\n",
       "|---|---|---|\n",
       "| 201T     |  428     | Lung     |\n",
       "| 22RV1    | 1810     | Prostate |\n",
       "| 23132-87 | 1794     | Stomach  |\n",
       "| 42-MG-BA |  217     | CNS      |\n",
       "| 451Lu    |  618     | Skin     |\n",
       "| 5637     |  603     | Bladder  |\n",
       "\n"
      ],
      "text/plain": [
       "  sample   mut_tot tissue  \n",
       "1 201T      428    Lung    \n",
       "2 22RV1    1810    Prostate\n",
       "3 23132-87 1794    Stomach \n",
       "4 42-MG-BA  217    CNS     \n",
       "5 451Lu     618    Skin    \n",
       "6 5637      603    Bladder "
      ]
     },
     "metadata": {},
     "output_type": "display_data"
    }
   ],
   "source": [
    "cell_line_mutload <- merge(cell_line_mutload, cosmic_tissue_type, by = \"sample\", all.x = T)\n",
    "head(cell_line_mutload)"
   ]
  },
  {
   "cell_type": "code",
   "execution_count": 54,
   "metadata": {},
   "outputs": [
    {
     "data": {
      "text/html": [
       "<table>\n",
       "<thead><tr><th scope=col>sample</th><th scope=col>weights.Signature.1</th><th scope=col>weights.Signature.2</th><th scope=col>weights.Signature.3</th><th scope=col>weights.Signature.4</th><th scope=col>weights.Signature.5</th><th scope=col>weights.Signature.6</th><th scope=col>weights.Signature.7</th><th scope=col>weights.Signature.8</th><th scope=col>weights.Signature.9</th><th scope=col>⋯</th><th scope=col>weights.Signature.25</th><th scope=col>weights.Signature.26</th><th scope=col>weights.Signature.27</th><th scope=col>weights.Signature.28</th><th scope=col>weights.Signature.29</th><th scope=col>weights.Signature.30</th><th scope=col>unknown</th><th scope=col>zAPOBEC.Sig</th><th scope=col>mut_tot</th><th scope=col>tissue</th></tr></thead>\n",
       "<tbody>\n",
       "\t<tr><td>201T      </td><td>0.1635878 </td><td>0.0000000 </td><td>0         </td><td>0.1220388 </td><td>0.2549915 </td><td>0.0000000 </td><td>0.0000000 </td><td>0         </td><td>0.00000000</td><td>⋯         </td><td>0         </td><td>0.00000000</td><td>0         </td><td>0.00000000</td><td>0         </td><td>0.06764838</td><td>0.09131876</td><td>0.000000  </td><td> 428      </td><td>Lung      </td></tr>\n",
       "\t<tr><td>22RV1     </td><td>0.2614879 </td><td>0.0000000 </td><td>0         </td><td>0.0000000 </td><td>0.0000000 </td><td>0.3275242 </td><td>0.0000000 </td><td>0         </td><td>0.00000000</td><td>⋯         </td><td>0         </td><td>0.00000000</td><td>0         </td><td>0.00000000</td><td>0         </td><td>0.00000000</td><td>0.07259953</td><td>0.000000  </td><td>1810      </td><td>Prostate  </td></tr>\n",
       "\t<tr><td>23132-87  </td><td>0.0000000 </td><td>0.0000000 </td><td>0         </td><td>0.0000000 </td><td>0.0000000 </td><td>0.4347781 </td><td>0.0000000 </td><td>0         </td><td>0.00000000</td><td>⋯         </td><td>0         </td><td>0.06382161</td><td>0         </td><td>0.00000000</td><td>0         </td><td>0.00000000</td><td>0.11307935</td><td>0.000000  </td><td>1794      </td><td>Stomach   </td></tr>\n",
       "\t<tr><td>42-MG-BA  </td><td>0.2373844 </td><td>0.0000000 </td><td>0         </td><td>0.1712615 </td><td>0.1762817 </td><td>0.0000000 </td><td>0.0000000 </td><td>0         </td><td>0.00000000</td><td>⋯         </td><td>0         </td><td>0.00000000</td><td>0         </td><td>0.08158825</td><td>0         </td><td>0.00000000</td><td>0.12716108</td><td>0.000000  </td><td> 217      </td><td>CNS       </td></tr>\n",
       "\t<tr><td>451Lu     </td><td>0.0000000 </td><td>0.0000000 </td><td>0         </td><td>0.5484138 </td><td>0.0000000 </td><td>0.0000000 </td><td>0.3180342 </td><td>0         </td><td>0.00000000</td><td>⋯         </td><td>0         </td><td>0.00000000</td><td>0         </td><td>0.00000000</td><td>0         </td><td>0.00000000</td><td>0.06779310</td><td>0.000000  </td><td> 618      </td><td>Skin      </td></tr>\n",
       "\t<tr><td>5637      </td><td>0.1557857 </td><td>0.0609748 </td><td>0         </td><td>0.2520327 </td><td>0.1160934 </td><td>0.0000000 </td><td>0.0000000 </td><td>0         </td><td>0.06786217</td><td>⋯         </td><td>0         </td><td>0.00000000</td><td>0         </td><td>0.00000000</td><td>0         </td><td>0.00000000</td><td>0.15869580</td><td>0.143348  </td><td> 603      </td><td>Bladder   </td></tr>\n",
       "</tbody>\n",
       "</table>\n"
      ],
      "text/latex": [
       "\\begin{tabular}{r|lllllllllllllllllllllllllllllllllll}\n",
       " sample & weights.Signature.1 & weights.Signature.2 & weights.Signature.3 & weights.Signature.4 & weights.Signature.5 & weights.Signature.6 & weights.Signature.7 & weights.Signature.8 & weights.Signature.9 & ⋯ & weights.Signature.25 & weights.Signature.26 & weights.Signature.27 & weights.Signature.28 & weights.Signature.29 & weights.Signature.30 & unknown & zAPOBEC.Sig & mut\\_tot & tissue\\\\\n",
       "\\hline\n",
       "\t 201T       & 0.1635878  & 0.0000000  & 0          & 0.1220388  & 0.2549915  & 0.0000000  & 0.0000000  & 0          & 0.00000000 & ⋯          & 0          & 0.00000000 & 0          & 0.00000000 & 0          & 0.06764838 & 0.09131876 & 0.000000   &  428       & Lung      \\\\\n",
       "\t 22RV1      & 0.2614879  & 0.0000000  & 0          & 0.0000000  & 0.0000000  & 0.3275242  & 0.0000000  & 0          & 0.00000000 & ⋯          & 0          & 0.00000000 & 0          & 0.00000000 & 0          & 0.00000000 & 0.07259953 & 0.000000   & 1810       & Prostate  \\\\\n",
       "\t 23132-87   & 0.0000000  & 0.0000000  & 0          & 0.0000000  & 0.0000000  & 0.4347781  & 0.0000000  & 0          & 0.00000000 & ⋯          & 0          & 0.06382161 & 0          & 0.00000000 & 0          & 0.00000000 & 0.11307935 & 0.000000   & 1794       & Stomach   \\\\\n",
       "\t 42-MG-BA   & 0.2373844  & 0.0000000  & 0          & 0.1712615  & 0.1762817  & 0.0000000  & 0.0000000  & 0          & 0.00000000 & ⋯          & 0          & 0.00000000 & 0          & 0.08158825 & 0          & 0.00000000 & 0.12716108 & 0.000000   &  217       & CNS       \\\\\n",
       "\t 451Lu      & 0.0000000  & 0.0000000  & 0          & 0.5484138  & 0.0000000  & 0.0000000  & 0.3180342  & 0          & 0.00000000 & ⋯          & 0          & 0.00000000 & 0          & 0.00000000 & 0          & 0.00000000 & 0.06779310 & 0.000000   &  618       & Skin      \\\\\n",
       "\t 5637       & 0.1557857  & 0.0609748  & 0          & 0.2520327  & 0.1160934  & 0.0000000  & 0.0000000  & 0          & 0.06786217 & ⋯          & 0          & 0.00000000 & 0          & 0.00000000 & 0          & 0.00000000 & 0.15869580 & 0.143348   &  603       & Bladder   \\\\\n",
       "\\end{tabular}\n"
      ],
      "text/markdown": [
       "\n",
       "| sample | weights.Signature.1 | weights.Signature.2 | weights.Signature.3 | weights.Signature.4 | weights.Signature.5 | weights.Signature.6 | weights.Signature.7 | weights.Signature.8 | weights.Signature.9 | ⋯ | weights.Signature.25 | weights.Signature.26 | weights.Signature.27 | weights.Signature.28 | weights.Signature.29 | weights.Signature.30 | unknown | zAPOBEC.Sig | mut_tot | tissue |\n",
       "|---|---|---|---|---|---|---|---|---|---|---|---|---|---|---|---|---|---|---|---|---|\n",
       "| 201T       | 0.1635878  | 0.0000000  | 0          | 0.1220388  | 0.2549915  | 0.0000000  | 0.0000000  | 0          | 0.00000000 | ⋯          | 0          | 0.00000000 | 0          | 0.00000000 | 0          | 0.06764838 | 0.09131876 | 0.000000   |  428       | Lung       |\n",
       "| 22RV1      | 0.2614879  | 0.0000000  | 0          | 0.0000000  | 0.0000000  | 0.3275242  | 0.0000000  | 0          | 0.00000000 | ⋯          | 0          | 0.00000000 | 0          | 0.00000000 | 0          | 0.00000000 | 0.07259953 | 0.000000   | 1810       | Prostate   |\n",
       "| 23132-87   | 0.0000000  | 0.0000000  | 0          | 0.0000000  | 0.0000000  | 0.4347781  | 0.0000000  | 0          | 0.00000000 | ⋯          | 0          | 0.06382161 | 0          | 0.00000000 | 0          | 0.00000000 | 0.11307935 | 0.000000   | 1794       | Stomach    |\n",
       "| 42-MG-BA   | 0.2373844  | 0.0000000  | 0          | 0.1712615  | 0.1762817  | 0.0000000  | 0.0000000  | 0          | 0.00000000 | ⋯          | 0          | 0.00000000 | 0          | 0.08158825 | 0          | 0.00000000 | 0.12716108 | 0.000000   |  217       | CNS        |\n",
       "| 451Lu      | 0.0000000  | 0.0000000  | 0          | 0.5484138  | 0.0000000  | 0.0000000  | 0.3180342  | 0          | 0.00000000 | ⋯          | 0          | 0.00000000 | 0          | 0.00000000 | 0          | 0.00000000 | 0.06779310 | 0.000000   |  618       | Skin       |\n",
       "| 5637       | 0.1557857  | 0.0609748  | 0          | 0.2520327  | 0.1160934  | 0.0000000  | 0.0000000  | 0          | 0.06786217 | ⋯          | 0          | 0.00000000 | 0          | 0.00000000 | 0          | 0.00000000 | 0.15869580 | 0.143348   |  603       | Bladder    |\n",
       "\n"
      ],
      "text/plain": [
       "  sample   weights.Signature.1 weights.Signature.2 weights.Signature.3\n",
       "1 201T     0.1635878           0.0000000           0                  \n",
       "2 22RV1    0.2614879           0.0000000           0                  \n",
       "3 23132-87 0.0000000           0.0000000           0                  \n",
       "4 42-MG-BA 0.2373844           0.0000000           0                  \n",
       "5 451Lu    0.0000000           0.0000000           0                  \n",
       "6 5637     0.1557857           0.0609748           0                  \n",
       "  weights.Signature.4 weights.Signature.5 weights.Signature.6\n",
       "1 0.1220388           0.2549915           0.0000000          \n",
       "2 0.0000000           0.0000000           0.3275242          \n",
       "3 0.0000000           0.0000000           0.4347781          \n",
       "4 0.1712615           0.1762817           0.0000000          \n",
       "5 0.5484138           0.0000000           0.0000000          \n",
       "6 0.2520327           0.1160934           0.0000000          \n",
       "  weights.Signature.7 weights.Signature.8 weights.Signature.9 ⋯\n",
       "1 0.0000000           0                   0.00000000          ⋯\n",
       "2 0.0000000           0                   0.00000000          ⋯\n",
       "3 0.0000000           0                   0.00000000          ⋯\n",
       "4 0.0000000           0                   0.00000000          ⋯\n",
       "5 0.3180342           0                   0.00000000          ⋯\n",
       "6 0.0000000           0                   0.06786217          ⋯\n",
       "  weights.Signature.25 weights.Signature.26 weights.Signature.27\n",
       "1 0                    0.00000000           0                   \n",
       "2 0                    0.00000000           0                   \n",
       "3 0                    0.06382161           0                   \n",
       "4 0                    0.00000000           0                   \n",
       "5 0                    0.00000000           0                   \n",
       "6 0                    0.00000000           0                   \n",
       "  weights.Signature.28 weights.Signature.29 weights.Signature.30 unknown   \n",
       "1 0.00000000           0                    0.06764838           0.09131876\n",
       "2 0.00000000           0                    0.00000000           0.07259953\n",
       "3 0.00000000           0                    0.00000000           0.11307935\n",
       "4 0.08158825           0                    0.00000000           0.12716108\n",
       "5 0.00000000           0                    0.00000000           0.06779310\n",
       "6 0.00000000           0                    0.00000000           0.15869580\n",
       "  zAPOBEC.Sig mut_tot tissue  \n",
       "1 0.000000     428    Lung    \n",
       "2 0.000000    1810    Prostate\n",
       "3 0.000000    1794    Stomach \n",
       "4 0.000000     217    CNS     \n",
       "5 0.000000     618    Skin    \n",
       "6 0.143348     603    Bladder "
      ]
     },
     "metadata": {},
     "output_type": "display_data"
    }
   ],
   "source": [
    "sigs_tissues <- merge(output.sigs.final, cell_line_mutload, by = \"sample\")\n",
    "head(sigs_tissues)"
   ]
  },
  {
   "cell_type": "code",
   "execution_count": 55,
   "metadata": {},
   "outputs": [
    {
     "data": {
      "text/html": [
       "<table>\n",
       "<thead><tr><th></th><th scope=col>sample</th><th scope=col>weights.Signature.1</th><th scope=col>weights.Signature.2</th><th scope=col>weights.Signature.3</th><th scope=col>weights.Signature.4</th><th scope=col>weights.Signature.5</th><th scope=col>weights.Signature.6</th><th scope=col>weights.Signature.7</th><th scope=col>weights.Signature.8</th><th scope=col>weights.Signature.9</th><th scope=col>⋯</th><th scope=col>weights.Signature.25</th><th scope=col>weights.Signature.26</th><th scope=col>weights.Signature.27</th><th scope=col>weights.Signature.28</th><th scope=col>weights.Signature.29</th><th scope=col>weights.Signature.30</th><th scope=col>unknown</th><th scope=col>zAPOBEC.Sig</th><th scope=col>mut_tot</th><th scope=col>tissue</th></tr></thead>\n",
       "<tbody>\n",
       "\t<tr><th scope=row>76</th><td>C2BBe1      </td><td>0.1617102   </td><td>0           </td><td>0.00000000  </td><td>0.1549067   </td><td>0.16822886  </td><td>0.00000000  </td><td>0.07744519  </td><td>0           </td><td>0.00000000  </td><td>⋯           </td><td>0           </td><td>0.0000000   </td><td>0           </td><td>0           </td><td>0           </td><td>0           </td><td>0.20145858  </td><td>0           </td><td> 338        </td><td>L. Intestine</td></tr>\n",
       "\t<tr><th scope=row>104</th><td>CaR-1       </td><td>0.2330125   </td><td>0           </td><td>0.08368834  </td><td>0.2929195   </td><td>0.07484726  </td><td>0.07184822  </td><td>0.00000000  </td><td>0           </td><td>0.09215439  </td><td>⋯           </td><td>0           </td><td>0.0000000   </td><td>0           </td><td>0           </td><td>0           </td><td>0           </td><td>0.04038048  </td><td>0           </td><td> 286        </td><td>L. Intestine</td></tr>\n",
       "\t<tr><th scope=row>107</th><td>CCK-81      </td><td>0.0000000   </td><td>0           </td><td>0.00000000  </td><td>0.0000000   </td><td>0.00000000  </td><td>0.26303180  </td><td>0.00000000  </td><td>0           </td><td>0.16321047  </td><td>⋯           </td><td>0           </td><td>0.1881096   </td><td>0           </td><td>0           </td><td>0           </td><td>0           </td><td>0.11526911  </td><td>0           </td><td>2774        </td><td>L. Intestine</td></tr>\n",
       "\t<tr><th scope=row>120</th><td>CL-11       </td><td>0.3966457   </td><td>0           </td><td>0.00000000  </td><td>0.0000000   </td><td>0.00000000  </td><td>0.00000000  </td><td>0.00000000  </td><td>0           </td><td>0.10678144  </td><td>⋯           </td><td>0           </td><td>0.0000000   </td><td>0           </td><td>0           </td><td>0           </td><td>0           </td><td>0.10787548  </td><td>0           </td><td> 220        </td><td>L. Intestine</td></tr>\n",
       "\t<tr><th scope=row>121</th><td>CL-34       </td><td>0.2160526   </td><td>0           </td><td>0.00000000  </td><td>0.0000000   </td><td>0.00000000  </td><td>0.33180008  </td><td>0.00000000  </td><td>0           </td><td>0.00000000  </td><td>⋯           </td><td>0           </td><td>0.0000000   </td><td>0           </td><td>0           </td><td>0           </td><td>0           </td><td>0.06893742  </td><td>0           </td><td>1142        </td><td>L. Intestine</td></tr>\n",
       "\t<tr><th scope=row>122</th><td>CL-40       </td><td>0.3977086   </td><td>0           </td><td>0.00000000  </td><td>0.0000000   </td><td>0.10776209  </td><td>0.00000000  </td><td>0.00000000  </td><td>0           </td><td>0.00000000  </td><td>⋯           </td><td>0           </td><td>0.0000000   </td><td>0           </td><td>0           </td><td>0           </td><td>0           </td><td>0.04563042  </td><td>0           </td><td> 369        </td><td>L. Intestine</td></tr>\n",
       "</tbody>\n",
       "</table>\n"
      ],
      "text/latex": [
       "\\begin{tabular}{r|lllllllllllllllllllllllllllllllllll}\n",
       "  & sample & weights.Signature.1 & weights.Signature.2 & weights.Signature.3 & weights.Signature.4 & weights.Signature.5 & weights.Signature.6 & weights.Signature.7 & weights.Signature.8 & weights.Signature.9 & ⋯ & weights.Signature.25 & weights.Signature.26 & weights.Signature.27 & weights.Signature.28 & weights.Signature.29 & weights.Signature.30 & unknown & zAPOBEC.Sig & mut\\_tot & tissue\\\\\n",
       "\\hline\n",
       "\t76 & C2BBe1       & 0.1617102    & 0            & 0.00000000   & 0.1549067    & 0.16822886   & 0.00000000   & 0.07744519   & 0            & 0.00000000   & ⋯            & 0            & 0.0000000    & 0            & 0            & 0            & 0            & 0.20145858   & 0            &  338         & L. Intestine\\\\\n",
       "\t104 & CaR-1        & 0.2330125    & 0            & 0.08368834   & 0.2929195    & 0.07484726   & 0.07184822   & 0.00000000   & 0            & 0.09215439   & ⋯            & 0            & 0.0000000    & 0            & 0            & 0            & 0            & 0.04038048   & 0            &  286         & L. Intestine\\\\\n",
       "\t107 & CCK-81       & 0.0000000    & 0            & 0.00000000   & 0.0000000    & 0.00000000   & 0.26303180   & 0.00000000   & 0            & 0.16321047   & ⋯            & 0            & 0.1881096    & 0            & 0            & 0            & 0            & 0.11526911   & 0            & 2774         & L. Intestine\\\\\n",
       "\t120 & CL-11        & 0.3966457    & 0            & 0.00000000   & 0.0000000    & 0.00000000   & 0.00000000   & 0.00000000   & 0            & 0.10678144   & ⋯            & 0            & 0.0000000    & 0            & 0            & 0            & 0            & 0.10787548   & 0            &  220         & L. Intestine\\\\\n",
       "\t121 & CL-34        & 0.2160526    & 0            & 0.00000000   & 0.0000000    & 0.00000000   & 0.33180008   & 0.00000000   & 0            & 0.00000000   & ⋯            & 0            & 0.0000000    & 0            & 0            & 0            & 0            & 0.06893742   & 0            & 1142         & L. Intestine\\\\\n",
       "\t122 & CL-40        & 0.3977086    & 0            & 0.00000000   & 0.0000000    & 0.10776209   & 0.00000000   & 0.00000000   & 0            & 0.00000000   & ⋯            & 0            & 0.0000000    & 0            & 0            & 0            & 0            & 0.04563042   & 0            &  369         & L. Intestine\\\\\n",
       "\\end{tabular}\n"
      ],
      "text/markdown": [
       "\n",
       "| <!--/--> | sample | weights.Signature.1 | weights.Signature.2 | weights.Signature.3 | weights.Signature.4 | weights.Signature.5 | weights.Signature.6 | weights.Signature.7 | weights.Signature.8 | weights.Signature.9 | ⋯ | weights.Signature.25 | weights.Signature.26 | weights.Signature.27 | weights.Signature.28 | weights.Signature.29 | weights.Signature.30 | unknown | zAPOBEC.Sig | mut_tot | tissue |\n",
       "|---|---|---|---|---|---|---|---|---|---|---|---|---|---|---|---|---|---|---|---|---|---|\n",
       "| 76 | C2BBe1       | 0.1617102    | 0            | 0.00000000   | 0.1549067    | 0.16822886   | 0.00000000   | 0.07744519   | 0            | 0.00000000   | ⋯            | 0            | 0.0000000    | 0            | 0            | 0            | 0            | 0.20145858   | 0            |  338         | L. Intestine |\n",
       "| 104 | CaR-1        | 0.2330125    | 0            | 0.08368834   | 0.2929195    | 0.07484726   | 0.07184822   | 0.00000000   | 0            | 0.09215439   | ⋯            | 0            | 0.0000000    | 0            | 0            | 0            | 0            | 0.04038048   | 0            |  286         | L. Intestine |\n",
       "| 107 | CCK-81       | 0.0000000    | 0            | 0.00000000   | 0.0000000    | 0.00000000   | 0.26303180   | 0.00000000   | 0            | 0.16321047   | ⋯            | 0            | 0.1881096    | 0            | 0            | 0            | 0            | 0.11526911   | 0            | 2774         | L. Intestine |\n",
       "| 120 | CL-11        | 0.3966457    | 0            | 0.00000000   | 0.0000000    | 0.00000000   | 0.00000000   | 0.00000000   | 0            | 0.10678144   | ⋯            | 0            | 0.0000000    | 0            | 0            | 0            | 0            | 0.10787548   | 0            |  220         | L. Intestine |\n",
       "| 121 | CL-34        | 0.2160526    | 0            | 0.00000000   | 0.0000000    | 0.00000000   | 0.33180008   | 0.00000000   | 0            | 0.00000000   | ⋯            | 0            | 0.0000000    | 0            | 0            | 0            | 0            | 0.06893742   | 0            | 1142         | L. Intestine |\n",
       "| 122 | CL-40        | 0.3977086    | 0            | 0.00000000   | 0.0000000    | 0.10776209   | 0.00000000   | 0.00000000   | 0            | 0.00000000   | ⋯            | 0            | 0.0000000    | 0            | 0            | 0            | 0            | 0.04563042   | 0            |  369         | L. Intestine |\n",
       "\n"
      ],
      "text/plain": [
       "    sample weights.Signature.1 weights.Signature.2 weights.Signature.3\n",
       "76  C2BBe1 0.1617102           0                   0.00000000         \n",
       "104 CaR-1  0.2330125           0                   0.08368834         \n",
       "107 CCK-81 0.0000000           0                   0.00000000         \n",
       "120 CL-11  0.3966457           0                   0.00000000         \n",
       "121 CL-34  0.2160526           0                   0.00000000         \n",
       "122 CL-40  0.3977086           0                   0.00000000         \n",
       "    weights.Signature.4 weights.Signature.5 weights.Signature.6\n",
       "76  0.1549067           0.16822886          0.00000000         \n",
       "104 0.2929195           0.07484726          0.07184822         \n",
       "107 0.0000000           0.00000000          0.26303180         \n",
       "120 0.0000000           0.00000000          0.00000000         \n",
       "121 0.0000000           0.00000000          0.33180008         \n",
       "122 0.0000000           0.10776209          0.00000000         \n",
       "    weights.Signature.7 weights.Signature.8 weights.Signature.9 ⋯\n",
       "76  0.07744519          0                   0.00000000          ⋯\n",
       "104 0.00000000          0                   0.09215439          ⋯\n",
       "107 0.00000000          0                   0.16321047          ⋯\n",
       "120 0.00000000          0                   0.10678144          ⋯\n",
       "121 0.00000000          0                   0.00000000          ⋯\n",
       "122 0.00000000          0                   0.00000000          ⋯\n",
       "    weights.Signature.25 weights.Signature.26 weights.Signature.27\n",
       "76  0                    0.0000000            0                   \n",
       "104 0                    0.0000000            0                   \n",
       "107 0                    0.1881096            0                   \n",
       "120 0                    0.0000000            0                   \n",
       "121 0                    0.0000000            0                   \n",
       "122 0                    0.0000000            0                   \n",
       "    weights.Signature.28 weights.Signature.29 weights.Signature.30 unknown   \n",
       "76  0                    0                    0                    0.20145858\n",
       "104 0                    0                    0                    0.04038048\n",
       "107 0                    0                    0                    0.11526911\n",
       "120 0                    0                    0                    0.10787548\n",
       "121 0                    0                    0                    0.06893742\n",
       "122 0                    0                    0                    0.04563042\n",
       "    zAPOBEC.Sig mut_tot tissue      \n",
       "76  0            338    L. Intestine\n",
       "104 0            286    L. Intestine\n",
       "107 0           2774    L. Intestine\n",
       "120 0            220    L. Intestine\n",
       "121 0           1142    L. Intestine\n",
       "122 0            369    L. Intestine"
      ]
     },
     "metadata": {},
     "output_type": "display_data"
    }
   ],
   "source": [
    "sigs_individual <- subset(sigs_tissues, tissue == \"L. Intestine\")\n",
    "head(sigs_individual)"
   ]
  },
  {
   "cell_type": "code",
   "execution_count": 56,
   "metadata": {},
   "outputs": [
    {
     "data": {
      "text/html": [
       "<ol class=list-inline>\n",
       "\t<li>'sample'</li>\n",
       "\t<li>'weights.Signature.1'</li>\n",
       "\t<li>'weights.Signature.2'</li>\n",
       "\t<li>'weights.Signature.3'</li>\n",
       "\t<li>'weights.Signature.4'</li>\n",
       "\t<li>'weights.Signature.5'</li>\n",
       "\t<li>'weights.Signature.6'</li>\n",
       "\t<li>'weights.Signature.7'</li>\n",
       "\t<li>'weights.Signature.8'</li>\n",
       "\t<li>'weights.Signature.9'</li>\n",
       "\t<li>'weights.Signature.10'</li>\n",
       "\t<li>'weights.Signature.11'</li>\n",
       "\t<li>'weights.Signature.12'</li>\n",
       "\t<li>'weights.Signature.13'</li>\n",
       "\t<li>'weights.Signature.14'</li>\n",
       "\t<li>'weights.Signature.15'</li>\n",
       "\t<li>'weights.Signature.16'</li>\n",
       "\t<li>'weights.Signature.17'</li>\n",
       "\t<li>'weights.Signature.18'</li>\n",
       "\t<li>'weights.Signature.19'</li>\n",
       "\t<li>'weights.Signature.20'</li>\n",
       "\t<li>'weights.Signature.21'</li>\n",
       "\t<li>'weights.Signature.22'</li>\n",
       "\t<li>'weights.Signature.23'</li>\n",
       "\t<li>'weights.Signature.24'</li>\n",
       "\t<li>'weights.Signature.25'</li>\n",
       "\t<li>'weights.Signature.26'</li>\n",
       "\t<li>'weights.Signature.27'</li>\n",
       "\t<li>'weights.Signature.28'</li>\n",
       "\t<li>'weights.Signature.29'</li>\n",
       "\t<li>'weights.Signature.30'</li>\n",
       "\t<li>'unknown'</li>\n",
       "\t<li>'zAPOBEC.Sig'</li>\n",
       "\t<li>'mut_tot'</li>\n",
       "\t<li>'tissue'</li>\n",
       "</ol>\n"
      ],
      "text/latex": [
       "\\begin{enumerate*}\n",
       "\\item 'sample'\n",
       "\\item 'weights.Signature.1'\n",
       "\\item 'weights.Signature.2'\n",
       "\\item 'weights.Signature.3'\n",
       "\\item 'weights.Signature.4'\n",
       "\\item 'weights.Signature.5'\n",
       "\\item 'weights.Signature.6'\n",
       "\\item 'weights.Signature.7'\n",
       "\\item 'weights.Signature.8'\n",
       "\\item 'weights.Signature.9'\n",
       "\\item 'weights.Signature.10'\n",
       "\\item 'weights.Signature.11'\n",
       "\\item 'weights.Signature.12'\n",
       "\\item 'weights.Signature.13'\n",
       "\\item 'weights.Signature.14'\n",
       "\\item 'weights.Signature.15'\n",
       "\\item 'weights.Signature.16'\n",
       "\\item 'weights.Signature.17'\n",
       "\\item 'weights.Signature.18'\n",
       "\\item 'weights.Signature.19'\n",
       "\\item 'weights.Signature.20'\n",
       "\\item 'weights.Signature.21'\n",
       "\\item 'weights.Signature.22'\n",
       "\\item 'weights.Signature.23'\n",
       "\\item 'weights.Signature.24'\n",
       "\\item 'weights.Signature.25'\n",
       "\\item 'weights.Signature.26'\n",
       "\\item 'weights.Signature.27'\n",
       "\\item 'weights.Signature.28'\n",
       "\\item 'weights.Signature.29'\n",
       "\\item 'weights.Signature.30'\n",
       "\\item 'unknown'\n",
       "\\item 'zAPOBEC.Sig'\n",
       "\\item 'mut\\_tot'\n",
       "\\item 'tissue'\n",
       "\\end{enumerate*}\n"
      ],
      "text/markdown": [
       "1. 'sample'\n",
       "2. 'weights.Signature.1'\n",
       "3. 'weights.Signature.2'\n",
       "4. 'weights.Signature.3'\n",
       "5. 'weights.Signature.4'\n",
       "6. 'weights.Signature.5'\n",
       "7. 'weights.Signature.6'\n",
       "8. 'weights.Signature.7'\n",
       "9. 'weights.Signature.8'\n",
       "10. 'weights.Signature.9'\n",
       "11. 'weights.Signature.10'\n",
       "12. 'weights.Signature.11'\n",
       "13. 'weights.Signature.12'\n",
       "14. 'weights.Signature.13'\n",
       "15. 'weights.Signature.14'\n",
       "16. 'weights.Signature.15'\n",
       "17. 'weights.Signature.16'\n",
       "18. 'weights.Signature.17'\n",
       "19. 'weights.Signature.18'\n",
       "20. 'weights.Signature.19'\n",
       "21. 'weights.Signature.20'\n",
       "22. 'weights.Signature.21'\n",
       "23. 'weights.Signature.22'\n",
       "24. 'weights.Signature.23'\n",
       "25. 'weights.Signature.24'\n",
       "26. 'weights.Signature.25'\n",
       "27. 'weights.Signature.26'\n",
       "28. 'weights.Signature.27'\n",
       "29. 'weights.Signature.28'\n",
       "30. 'weights.Signature.29'\n",
       "31. 'weights.Signature.30'\n",
       "32. 'unknown'\n",
       "33. 'zAPOBEC.Sig'\n",
       "34. 'mut_tot'\n",
       "35. 'tissue'\n",
       "\n",
       "\n"
      ],
      "text/plain": [
       " [1] \"sample\"               \"weights.Signature.1\"  \"weights.Signature.2\" \n",
       " [4] \"weights.Signature.3\"  \"weights.Signature.4\"  \"weights.Signature.5\" \n",
       " [7] \"weights.Signature.6\"  \"weights.Signature.7\"  \"weights.Signature.8\" \n",
       "[10] \"weights.Signature.9\"  \"weights.Signature.10\" \"weights.Signature.11\"\n",
       "[13] \"weights.Signature.12\" \"weights.Signature.13\" \"weights.Signature.14\"\n",
       "[16] \"weights.Signature.15\" \"weights.Signature.16\" \"weights.Signature.17\"\n",
       "[19] \"weights.Signature.18\" \"weights.Signature.19\" \"weights.Signature.20\"\n",
       "[22] \"weights.Signature.21\" \"weights.Signature.22\" \"weights.Signature.23\"\n",
       "[25] \"weights.Signature.24\" \"weights.Signature.25\" \"weights.Signature.26\"\n",
       "[28] \"weights.Signature.27\" \"weights.Signature.28\" \"weights.Signature.29\"\n",
       "[31] \"weights.Signature.30\" \"unknown\"              \"zAPOBEC.Sig\"         \n",
       "[34] \"mut_tot\"              \"tissue\"              "
      ]
     },
     "metadata": {},
     "output_type": "display_data"
    }
   ],
   "source": [
    "colnames(sigs_individual)"
   ]
  },
  {
   "cell_type": "code",
   "execution_count": 57,
   "metadata": {},
   "outputs": [
    {
     "data": {
      "text/html": [
       "'unknown'"
      ],
      "text/latex": [
       "'unknown'"
      ],
      "text/markdown": [
       "'unknown'"
      ],
      "text/plain": [
       "[1] \"unknown\""
      ]
     },
     "metadata": {},
     "output_type": "display_data"
    }
   ],
   "source": [
    "colnames(sigs_individual)[32]"
   ]
  },
  {
   "cell_type": "code",
   "execution_count": 58,
   "metadata": {},
   "outputs": [
    {
     "data": {
      "text/html": [
       "<table>\n",
       "<thead><tr><th></th><th scope=col>sample</th><th scope=col>weights.Signature.1</th><th scope=col>weights.Signature.2</th><th scope=col>weights.Signature.3</th><th scope=col>weights.Signature.4</th><th scope=col>weights.Signature.5</th><th scope=col>weights.Signature.6</th><th scope=col>weights.Signature.7</th><th scope=col>weights.Signature.8</th><th scope=col>weights.Signature.9</th><th scope=col>⋯</th><th scope=col>weights.Signature.24</th><th scope=col>weights.Signature.25</th><th scope=col>weights.Signature.26</th><th scope=col>weights.Signature.27</th><th scope=col>weights.Signature.28</th><th scope=col>weights.Signature.29</th><th scope=col>weights.Signature.30</th><th scope=col>zAPOBEC.Sig</th><th scope=col>mut_tot</th><th scope=col>tissue</th></tr></thead>\n",
       "<tbody>\n",
       "\t<tr><th scope=row>76</th><td>C2BBe1      </td><td>0.1617102   </td><td>0           </td><td>0.00000000  </td><td>0.1549067   </td><td>0.16822886  </td><td>0.00000000  </td><td>0.07744519  </td><td>0           </td><td>0.00000000  </td><td>⋯           </td><td>0.2362505   </td><td>0           </td><td>0.0000000   </td><td>0           </td><td>0           </td><td>0           </td><td>0           </td><td>0           </td><td> 338        </td><td>L. Intestine</td></tr>\n",
       "\t<tr><th scope=row>104</th><td>CaR-1       </td><td>0.2330125   </td><td>0           </td><td>0.08368834  </td><td>0.2929195   </td><td>0.07484726  </td><td>0.07184822  </td><td>0.00000000  </td><td>0           </td><td>0.09215439  </td><td>⋯           </td><td>0.0000000   </td><td>0           </td><td>0.0000000   </td><td>0           </td><td>0           </td><td>0           </td><td>0           </td><td>0           </td><td> 286        </td><td>L. Intestine</td></tr>\n",
       "\t<tr><th scope=row>107</th><td>CCK-81      </td><td>0.0000000   </td><td>0           </td><td>0.00000000  </td><td>0.0000000   </td><td>0.00000000  </td><td>0.26303180  </td><td>0.00000000  </td><td>0           </td><td>0.16321047  </td><td>⋯           </td><td>0.2703790   </td><td>0           </td><td>0.1881096   </td><td>0           </td><td>0           </td><td>0           </td><td>0           </td><td>0           </td><td>2774        </td><td>L. Intestine</td></tr>\n",
       "\t<tr><th scope=row>120</th><td>CL-11       </td><td>0.3966457   </td><td>0           </td><td>0.00000000  </td><td>0.0000000   </td><td>0.00000000  </td><td>0.00000000  </td><td>0.00000000  </td><td>0           </td><td>0.10678144  </td><td>⋯           </td><td>0.3089886   </td><td>0           </td><td>0.0000000   </td><td>0           </td><td>0           </td><td>0           </td><td>0           </td><td>0           </td><td> 220        </td><td>L. Intestine</td></tr>\n",
       "\t<tr><th scope=row>121</th><td>CL-34       </td><td>0.2160526   </td><td>0           </td><td>0.00000000  </td><td>0.0000000   </td><td>0.00000000  </td><td>0.33180008  </td><td>0.00000000  </td><td>0           </td><td>0.00000000  </td><td>⋯           </td><td>0.3832099   </td><td>0           </td><td>0.0000000   </td><td>0           </td><td>0           </td><td>0           </td><td>0           </td><td>0           </td><td>1142        </td><td>L. Intestine</td></tr>\n",
       "\t<tr><th scope=row>122</th><td>CL-40       </td><td>0.3977086   </td><td>0           </td><td>0.00000000  </td><td>0.0000000   </td><td>0.10776209  </td><td>0.00000000  </td><td>0.00000000  </td><td>0           </td><td>0.00000000  </td><td>⋯           </td><td>0.3148738   </td><td>0           </td><td>0.0000000   </td><td>0           </td><td>0           </td><td>0           </td><td>0           </td><td>0           </td><td> 369        </td><td>L. Intestine</td></tr>\n",
       "</tbody>\n",
       "</table>\n"
      ],
      "text/latex": [
       "\\begin{tabular}{r|llllllllllllllllllllllllllllllllll}\n",
       "  & sample & weights.Signature.1 & weights.Signature.2 & weights.Signature.3 & weights.Signature.4 & weights.Signature.5 & weights.Signature.6 & weights.Signature.7 & weights.Signature.8 & weights.Signature.9 & ⋯ & weights.Signature.24 & weights.Signature.25 & weights.Signature.26 & weights.Signature.27 & weights.Signature.28 & weights.Signature.29 & weights.Signature.30 & zAPOBEC.Sig & mut\\_tot & tissue\\\\\n",
       "\\hline\n",
       "\t76 & C2BBe1       & 0.1617102    & 0            & 0.00000000   & 0.1549067    & 0.16822886   & 0.00000000   & 0.07744519   & 0            & 0.00000000   & ⋯            & 0.2362505    & 0            & 0.0000000    & 0            & 0            & 0            & 0            & 0            &  338         & L. Intestine\\\\\n",
       "\t104 & CaR-1        & 0.2330125    & 0            & 0.08368834   & 0.2929195    & 0.07484726   & 0.07184822   & 0.00000000   & 0            & 0.09215439   & ⋯            & 0.0000000    & 0            & 0.0000000    & 0            & 0            & 0            & 0            & 0            &  286         & L. Intestine\\\\\n",
       "\t107 & CCK-81       & 0.0000000    & 0            & 0.00000000   & 0.0000000    & 0.00000000   & 0.26303180   & 0.00000000   & 0            & 0.16321047   & ⋯            & 0.2703790    & 0            & 0.1881096    & 0            & 0            & 0            & 0            & 0            & 2774         & L. Intestine\\\\\n",
       "\t120 & CL-11        & 0.3966457    & 0            & 0.00000000   & 0.0000000    & 0.00000000   & 0.00000000   & 0.00000000   & 0            & 0.10678144   & ⋯            & 0.3089886    & 0            & 0.0000000    & 0            & 0            & 0            & 0            & 0            &  220         & L. Intestine\\\\\n",
       "\t121 & CL-34        & 0.2160526    & 0            & 0.00000000   & 0.0000000    & 0.00000000   & 0.33180008   & 0.00000000   & 0            & 0.00000000   & ⋯            & 0.3832099    & 0            & 0.0000000    & 0            & 0            & 0            & 0            & 0            & 1142         & L. Intestine\\\\\n",
       "\t122 & CL-40        & 0.3977086    & 0            & 0.00000000   & 0.0000000    & 0.10776209   & 0.00000000   & 0.00000000   & 0            & 0.00000000   & ⋯            & 0.3148738    & 0            & 0.0000000    & 0            & 0            & 0            & 0            & 0            &  369         & L. Intestine\\\\\n",
       "\\end{tabular}\n"
      ],
      "text/markdown": [
       "\n",
       "| <!--/--> | sample | weights.Signature.1 | weights.Signature.2 | weights.Signature.3 | weights.Signature.4 | weights.Signature.5 | weights.Signature.6 | weights.Signature.7 | weights.Signature.8 | weights.Signature.9 | ⋯ | weights.Signature.24 | weights.Signature.25 | weights.Signature.26 | weights.Signature.27 | weights.Signature.28 | weights.Signature.29 | weights.Signature.30 | zAPOBEC.Sig | mut_tot | tissue |\n",
       "|---|---|---|---|---|---|---|---|---|---|---|---|---|---|---|---|---|---|---|---|---|---|\n",
       "| 76 | C2BBe1       | 0.1617102    | 0            | 0.00000000   | 0.1549067    | 0.16822886   | 0.00000000   | 0.07744519   | 0            | 0.00000000   | ⋯            | 0.2362505    | 0            | 0.0000000    | 0            | 0            | 0            | 0            | 0            |  338         | L. Intestine |\n",
       "| 104 | CaR-1        | 0.2330125    | 0            | 0.08368834   | 0.2929195    | 0.07484726   | 0.07184822   | 0.00000000   | 0            | 0.09215439   | ⋯            | 0.0000000    | 0            | 0.0000000    | 0            | 0            | 0            | 0            | 0            |  286         | L. Intestine |\n",
       "| 107 | CCK-81       | 0.0000000    | 0            | 0.00000000   | 0.0000000    | 0.00000000   | 0.26303180   | 0.00000000   | 0            | 0.16321047   | ⋯            | 0.2703790    | 0            | 0.1881096    | 0            | 0            | 0            | 0            | 0            | 2774         | L. Intestine |\n",
       "| 120 | CL-11        | 0.3966457    | 0            | 0.00000000   | 0.0000000    | 0.00000000   | 0.00000000   | 0.00000000   | 0            | 0.10678144   | ⋯            | 0.3089886    | 0            | 0.0000000    | 0            | 0            | 0            | 0            | 0            |  220         | L. Intestine |\n",
       "| 121 | CL-34        | 0.2160526    | 0            | 0.00000000   | 0.0000000    | 0.00000000   | 0.33180008   | 0.00000000   | 0            | 0.00000000   | ⋯            | 0.3832099    | 0            | 0.0000000    | 0            | 0            | 0            | 0            | 0            | 1142         | L. Intestine |\n",
       "| 122 | CL-40        | 0.3977086    | 0            | 0.00000000   | 0.0000000    | 0.10776209   | 0.00000000   | 0.00000000   | 0            | 0.00000000   | ⋯            | 0.3148738    | 0            | 0.0000000    | 0            | 0            | 0            | 0            | 0            |  369         | L. Intestine |\n",
       "\n"
      ],
      "text/plain": [
       "    sample weights.Signature.1 weights.Signature.2 weights.Signature.3\n",
       "76  C2BBe1 0.1617102           0                   0.00000000         \n",
       "104 CaR-1  0.2330125           0                   0.08368834         \n",
       "107 CCK-81 0.0000000           0                   0.00000000         \n",
       "120 CL-11  0.3966457           0                   0.00000000         \n",
       "121 CL-34  0.2160526           0                   0.00000000         \n",
       "122 CL-40  0.3977086           0                   0.00000000         \n",
       "    weights.Signature.4 weights.Signature.5 weights.Signature.6\n",
       "76  0.1549067           0.16822886          0.00000000         \n",
       "104 0.2929195           0.07484726          0.07184822         \n",
       "107 0.0000000           0.00000000          0.26303180         \n",
       "120 0.0000000           0.00000000          0.00000000         \n",
       "121 0.0000000           0.00000000          0.33180008         \n",
       "122 0.0000000           0.10776209          0.00000000         \n",
       "    weights.Signature.7 weights.Signature.8 weights.Signature.9 ⋯\n",
       "76  0.07744519          0                   0.00000000          ⋯\n",
       "104 0.00000000          0                   0.09215439          ⋯\n",
       "107 0.00000000          0                   0.16321047          ⋯\n",
       "120 0.00000000          0                   0.10678144          ⋯\n",
       "121 0.00000000          0                   0.00000000          ⋯\n",
       "122 0.00000000          0                   0.00000000          ⋯\n",
       "    weights.Signature.24 weights.Signature.25 weights.Signature.26\n",
       "76  0.2362505            0                    0.0000000           \n",
       "104 0.0000000            0                    0.0000000           \n",
       "107 0.2703790            0                    0.1881096           \n",
       "120 0.3089886            0                    0.0000000           \n",
       "121 0.3832099            0                    0.0000000           \n",
       "122 0.3148738            0                    0.0000000           \n",
       "    weights.Signature.27 weights.Signature.28 weights.Signature.29\n",
       "76  0                    0                    0                   \n",
       "104 0                    0                    0                   \n",
       "107 0                    0                    0                   \n",
       "120 0                    0                    0                   \n",
       "121 0                    0                    0                   \n",
       "122 0                    0                    0                   \n",
       "    weights.Signature.30 zAPOBEC.Sig mut_tot tissue      \n",
       "76  0                    0            338    L. Intestine\n",
       "104 0                    0            286    L. Intestine\n",
       "107 0                    0           2774    L. Intestine\n",
       "120 0                    0            220    L. Intestine\n",
       "121 0                    0           1142    L. Intestine\n",
       "122 0                    0            369    L. Intestine"
      ]
     },
     "metadata": {},
     "output_type": "display_data"
    }
   ],
   "source": [
    "# remove column 32??\n",
    "sigs_individual <- sigs_individual[,-c(32)]\n",
    "head(sigs_individual)"
   ]
  },
  {
   "cell_type": "code",
   "execution_count": 59,
   "metadata": {},
   "outputs": [
    {
     "data": {
      "text/html": [
       "<table>\n",
       "<thead><tr><th scope=col>sample</th><th scope=col>variable</th><th scope=col>value</th></tr></thead>\n",
       "<tbody>\n",
       "\t<tr><td>C2BBe1             </td><td>weights.Signature.1</td><td>0.161710207359575  </td></tr>\n",
       "\t<tr><td>CaR-1              </td><td>weights.Signature.1</td><td>0.233012455323087  </td></tr>\n",
       "\t<tr><td>CCK-81             </td><td>weights.Signature.1</td><td>0                  </td></tr>\n",
       "\t<tr><td>CL-11              </td><td>weights.Signature.1</td><td>0.39664572780252   </td></tr>\n",
       "\t<tr><td>CL-34              </td><td>weights.Signature.1</td><td>0.216052628438758  </td></tr>\n",
       "\t<tr><td>CL-40              </td><td>weights.Signature.1</td><td>0.397708572847825  </td></tr>\n",
       "</tbody>\n",
       "</table>\n"
      ],
      "text/latex": [
       "\\begin{tabular}{r|lll}\n",
       " sample & variable & value\\\\\n",
       "\\hline\n",
       "\t C2BBe1              & weights.Signature.1 & 0.161710207359575  \\\\\n",
       "\t CaR-1               & weights.Signature.1 & 0.233012455323087  \\\\\n",
       "\t CCK-81              & weights.Signature.1 & 0                  \\\\\n",
       "\t CL-11               & weights.Signature.1 & 0.39664572780252   \\\\\n",
       "\t CL-34               & weights.Signature.1 & 0.216052628438758  \\\\\n",
       "\t CL-40               & weights.Signature.1 & 0.397708572847825  \\\\\n",
       "\\end{tabular}\n"
      ],
      "text/markdown": [
       "\n",
       "| sample | variable | value |\n",
       "|---|---|---|\n",
       "| C2BBe1              | weights.Signature.1 | 0.161710207359575   |\n",
       "| CaR-1               | weights.Signature.1 | 0.233012455323087   |\n",
       "| CCK-81              | weights.Signature.1 | 0                   |\n",
       "| CL-11               | weights.Signature.1 | 0.39664572780252    |\n",
       "| CL-34               | weights.Signature.1 | 0.216052628438758   |\n",
       "| CL-40               | weights.Signature.1 | 0.397708572847825   |\n",
       "\n"
      ],
      "text/plain": [
       "  sample variable            value            \n",
       "1 C2BBe1 weights.Signature.1 0.161710207359575\n",
       "2 CaR-1  weights.Signature.1 0.233012455323087\n",
       "3 CCK-81 weights.Signature.1 0                \n",
       "4 CL-11  weights.Signature.1 0.39664572780252 \n",
       "5 CL-34  weights.Signature.1 0.216052628438758\n",
       "6 CL-40  weights.Signature.1 0.397708572847825"
      ]
     },
     "metadata": {},
     "output_type": "display_data"
    }
   ],
   "source": [
    "sigs_melt <- melt(sigs_individual, id = \"sample\")\n",
    "head(sigs_melt)"
   ]
  },
  {
   "cell_type": "code",
   "execution_count": 60,
   "metadata": {},
   "outputs": [
    {
     "data": {
      "text/html": [
       "<table>\n",
       "<thead><tr><th scope=col>sample</th><th scope=col>sig</th><th scope=col>value</th></tr></thead>\n",
       "<tbody>\n",
       "\t<tr><td>C2BBe1             </td><td>weights.Signature.1</td><td>0.161710207359575  </td></tr>\n",
       "\t<tr><td>CaR-1              </td><td>weights.Signature.1</td><td>0.233012455323087  </td></tr>\n",
       "\t<tr><td>CCK-81             </td><td>weights.Signature.1</td><td>0                  </td></tr>\n",
       "\t<tr><td>CL-11              </td><td>weights.Signature.1</td><td>0.39664572780252   </td></tr>\n",
       "\t<tr><td>CL-34              </td><td>weights.Signature.1</td><td>0.216052628438758  </td></tr>\n",
       "\t<tr><td>CL-40              </td><td>weights.Signature.1</td><td>0.397708572847825  </td></tr>\n",
       "</tbody>\n",
       "</table>\n"
      ],
      "text/latex": [
       "\\begin{tabular}{r|lll}\n",
       " sample & sig & value\\\\\n",
       "\\hline\n",
       "\t C2BBe1              & weights.Signature.1 & 0.161710207359575  \\\\\n",
       "\t CaR-1               & weights.Signature.1 & 0.233012455323087  \\\\\n",
       "\t CCK-81              & weights.Signature.1 & 0                  \\\\\n",
       "\t CL-11               & weights.Signature.1 & 0.39664572780252   \\\\\n",
       "\t CL-34               & weights.Signature.1 & 0.216052628438758  \\\\\n",
       "\t CL-40               & weights.Signature.1 & 0.397708572847825  \\\\\n",
       "\\end{tabular}\n"
      ],
      "text/markdown": [
       "\n",
       "| sample | sig | value |\n",
       "|---|---|---|\n",
       "| C2BBe1              | weights.Signature.1 | 0.161710207359575   |\n",
       "| CaR-1               | weights.Signature.1 | 0.233012455323087   |\n",
       "| CCK-81              | weights.Signature.1 | 0                   |\n",
       "| CL-11               | weights.Signature.1 | 0.39664572780252    |\n",
       "| CL-34               | weights.Signature.1 | 0.216052628438758   |\n",
       "| CL-40               | weights.Signature.1 | 0.397708572847825   |\n",
       "\n"
      ],
      "text/plain": [
       "  sample sig                 value            \n",
       "1 C2BBe1 weights.Signature.1 0.161710207359575\n",
       "2 CaR-1  weights.Signature.1 0.233012455323087\n",
       "3 CCK-81 weights.Signature.1 0                \n",
       "4 CL-11  weights.Signature.1 0.39664572780252 \n",
       "5 CL-34  weights.Signature.1 0.216052628438758\n",
       "6 CL-40  weights.Signature.1 0.397708572847825"
      ]
     },
     "metadata": {},
     "output_type": "display_data"
    }
   ],
   "source": [
    "colnames(sigs_melt) <- c(\"sample\", \"sig\", \"value\")\n",
    "head(sigs_melt)"
   ]
  },
  {
   "cell_type": "code",
   "execution_count": 67,
   "metadata": {},
   "outputs": [
    {
     "data": {
      "text/html": [
       "1815"
      ],
      "text/latex": [
       "1815"
      ],
      "text/markdown": [
       "1815"
      ],
      "text/plain": [
       "[1] 1815"
      ]
     },
     "metadata": {},
     "output_type": "display_data"
    }
   ],
   "source": [
    "nrow(sigs_melt)"
   ]
  },
  {
   "cell_type": "code",
   "execution_count": 68,
   "metadata": {},
   "outputs": [],
   "source": [
    "sigs_melt[,\"sig\"] <- gsub(\"weights.\", \"\", sigs_melt[,\"sig\"])"
   ]
  },
  {
   "cell_type": "code",
   "execution_count": 69,
   "metadata": {},
   "outputs": [
    {
     "data": {
      "text/html": [
       "1815"
      ],
      "text/latex": [
       "1815"
      ],
      "text/markdown": [
       "1815"
      ],
      "text/plain": [
       "[1] 1815"
      ]
     },
     "metadata": {},
     "output_type": "display_data"
    }
   ],
   "source": [
    "nrow(sigs_melt)"
   ]
  },
  {
   "cell_type": "code",
   "execution_count": 70,
   "metadata": {},
   "outputs": [
    {
     "data": {
      "text/html": [
       "<table>\n",
       "<thead><tr><th scope=col>sample</th><th scope=col>sig</th><th scope=col>value</th></tr></thead>\n",
       "<tbody>\n",
       "\t<tr><td>C2BBe1           </td><td>Signature.1      </td><td>0.161710207359575</td></tr>\n",
       "\t<tr><td>CaR-1            </td><td>Signature.1      </td><td>0.233012455323087</td></tr>\n",
       "\t<tr><td>CCK-81           </td><td>Signature.1      </td><td>0                </td></tr>\n",
       "\t<tr><td>CL-11            </td><td>Signature.1      </td><td>0.39664572780252 </td></tr>\n",
       "\t<tr><td>CL-34            </td><td>Signature.1      </td><td>0.216052628438758</td></tr>\n",
       "\t<tr><td>CL-40            </td><td>Signature.1      </td><td>0.397708572847825</td></tr>\n",
       "</tbody>\n",
       "</table>\n"
      ],
      "text/latex": [
       "\\begin{tabular}{r|lll}\n",
       " sample & sig & value\\\\\n",
       "\\hline\n",
       "\t C2BBe1            & Signature.1       & 0.161710207359575\\\\\n",
       "\t CaR-1             & Signature.1       & 0.233012455323087\\\\\n",
       "\t CCK-81            & Signature.1       & 0                \\\\\n",
       "\t CL-11             & Signature.1       & 0.39664572780252 \\\\\n",
       "\t CL-34             & Signature.1       & 0.216052628438758\\\\\n",
       "\t CL-40             & Signature.1       & 0.397708572847825\\\\\n",
       "\\end{tabular}\n"
      ],
      "text/markdown": [
       "\n",
       "| sample | sig | value |\n",
       "|---|---|---|\n",
       "| C2BBe1            | Signature.1       | 0.161710207359575 |\n",
       "| CaR-1             | Signature.1       | 0.233012455323087 |\n",
       "| CCK-81            | Signature.1       | 0                 |\n",
       "| CL-11             | Signature.1       | 0.39664572780252  |\n",
       "| CL-34             | Signature.1       | 0.216052628438758 |\n",
       "| CL-40             | Signature.1       | 0.397708572847825 |\n",
       "\n"
      ],
      "text/plain": [
       "  sample sig         value            \n",
       "1 C2BBe1 Signature.1 0.161710207359575\n",
       "2 CaR-1  Signature.1 0.233012455323087\n",
       "3 CCK-81 Signature.1 0                \n",
       "4 CL-11  Signature.1 0.39664572780252 \n",
       "5 CL-34  Signature.1 0.216052628438758\n",
       "6 CL-40  Signature.1 0.397708572847825"
      ]
     },
     "metadata": {},
     "output_type": "display_data"
    }
   ],
   "source": [
    "head(sigs_melt)"
   ]
  },
  {
   "cell_type": "code",
   "execution_count": 71,
   "metadata": {},
   "outputs": [
    {
     "data": {
      "text/html": [
       "<table>\n",
       "<thead><tr><th></th><th scope=col>sample</th><th scope=col>sig</th><th scope=col>value</th></tr></thead>\n",
       "<tbody>\n",
       "\t<tr><th scope=row>1810</th><td>SW403       </td><td>tissue      </td><td>L. Intestine</td></tr>\n",
       "\t<tr><th scope=row>1811</th><td>SW48        </td><td>tissue      </td><td>L. Intestine</td></tr>\n",
       "\t<tr><th scope=row>1812</th><td>SW620       </td><td>tissue      </td><td>L. Intestine</td></tr>\n",
       "\t<tr><th scope=row>1813</th><td>SW837       </td><td>tissue      </td><td>L. Intestine</td></tr>\n",
       "\t<tr><th scope=row>1814</th><td>SW948       </td><td>tissue      </td><td>L. Intestine</td></tr>\n",
       "\t<tr><th scope=row>1815</th><td>T84         </td><td>tissue      </td><td>L. Intestine</td></tr>\n",
       "</tbody>\n",
       "</table>\n"
      ],
      "text/latex": [
       "\\begin{tabular}{r|lll}\n",
       "  & sample & sig & value\\\\\n",
       "\\hline\n",
       "\t1810 & SW403        & tissue       & L. Intestine\\\\\n",
       "\t1811 & SW48         & tissue       & L. Intestine\\\\\n",
       "\t1812 & SW620        & tissue       & L. Intestine\\\\\n",
       "\t1813 & SW837        & tissue       & L. Intestine\\\\\n",
       "\t1814 & SW948        & tissue       & L. Intestine\\\\\n",
       "\t1815 & T84          & tissue       & L. Intestine\\\\\n",
       "\\end{tabular}\n"
      ],
      "text/markdown": [
       "\n",
       "| <!--/--> | sample | sig | value |\n",
       "|---|---|---|---|\n",
       "| 1810 | SW403        | tissue       | L. Intestine |\n",
       "| 1811 | SW48         | tissue       | L. Intestine |\n",
       "| 1812 | SW620        | tissue       | L. Intestine |\n",
       "| 1813 | SW837        | tissue       | L. Intestine |\n",
       "| 1814 | SW948        | tissue       | L. Intestine |\n",
       "| 1815 | T84          | tissue       | L. Intestine |\n",
       "\n"
      ],
      "text/plain": [
       "     sample sig    value       \n",
       "1810 SW403  tissue L. Intestine\n",
       "1811 SW48   tissue L. Intestine\n",
       "1812 SW620  tissue L. Intestine\n",
       "1813 SW837  tissue L. Intestine\n",
       "1814 SW948  tissue L. Intestine\n",
       "1815 T84    tissue L. Intestine"
      ]
     },
     "metadata": {},
     "output_type": "display_data"
    }
   ],
   "source": [
    "tail(sigs_melt)"
   ]
  },
  {
   "cell_type": "code",
   "execution_count": 72,
   "metadata": {},
   "outputs": [],
   "source": [
    "\n",
    "sigs_melt[,\"sig\"] <- gsub(\"Signature.10\", \"I\", sigs_melt[,\"sig\"])\n",
    "sigs_melt[,\"sig\"] <- gsub(\"Signature.11\", \"J\", sigs_melt[,\"sig\"])\n",
    "sigs_melt[,\"sig\"] <- gsub(\"Signature.12\", \"K\", sigs_melt[,\"sig\"])\n",
    "sigs_melt[,\"sig\"] <- gsub(\"Signature.14\", \"L\", sigs_melt[,\"sig\"])\n",
    "sigs_melt[,\"sig\"] <- gsub(\"Signature.15\", \"M\", sigs_melt[,\"sig\"])\n",
    "sigs_melt[,\"sig\"] <- gsub(\"Signature.16\", \"N\", sigs_melt[,\"sig\"])\n",
    "sigs_melt[,\"sig\"] <- gsub(\"Signature.17\", \"O\", sigs_melt[,\"sig\"])\n",
    "sigs_melt[,\"sig\"] <- gsub(\"Signature.18\", \"P\", sigs_melt[,\"sig\"])\n",
    "sigs_melt[,\"sig\"] <- gsub(\"Signature.19\", \"Q\", sigs_melt[,\"sig\"])\n",
    "sigs_melt[,\"sig\"] <- gsub(\"Signature.20\", \"R\", sigs_melt[,\"sig\"])\n",
    "sigs_melt[,\"sig\"] <- gsub(\"Signature.21\", \"S\", sigs_melt[,\"sig\"])\n",
    "sigs_melt[,\"sig\"] <- gsub(\"Signature.22\", \"T\", sigs_melt[,\"sig\"])\n",
    "sigs_melt[,\"sig\"] <- gsub(\"Signature.23\", \"U\", sigs_melt[,\"sig\"])\n",
    "sigs_melt[,\"sig\"] <- gsub(\"Signature.24\", \"V\", sigs_melt[,\"sig\"])\n",
    "sigs_melt[,\"sig\"] <- gsub(\"Signature.25\", \"W\", sigs_melt[,\"sig\"])\n",
    "sigs_melt[,\"sig\"] <- gsub(\"Signature.26\", \"X\", sigs_melt[,\"sig\"])\n",
    "sigs_melt[,\"sig\"] <- gsub(\"Signature.27\", \"Y\", sigs_melt[,\"sig\"])\n",
    "sigs_melt[,\"sig\"] <- gsub(\"Signature.28\", \"Z\", sigs_melt[,\"sig\"])\n",
    "sigs_melt[,\"sig\"] <- gsub(\"Signature.29\", \"ZZ\", sigs_melt[,\"sig\"])\n",
    "sigs_melt[,\"sig\"] <- gsub(\"Signature.30\", \"ZZZ\", sigs_melt[,\"sig\"])\n",
    "sigs_melt[,\"sig\"] <- gsub(\"unknown\", \"ZZZZ\", sigs_melt[,\"sig\"])\n",
    "sigs_melt[,\"sig\"] <- gsub(\"zAPOBEC.Sig\", \"ZZZZZ\", sigs_melt[,\"sig\"])\n",
    "sigs_melt[,\"sig\"] <- gsub(\"Signature.1\", \"A\", sigs_melt[,\"sig\"])\n",
    "sigs_melt[,\"sig\"] <- gsub(\"Signature.3\", \"B\", sigs_melt[,\"sig\"])\n",
    "sigs_melt[,\"sig\"] <- gsub(\"Signature.4\", \"C\", sigs_melt[,\"sig\"])\n",
    "sigs_melt[,\"sig\"] <- gsub(\"Signature.5\", \"D\", sigs_melt[,\"sig\"])\n",
    "sigs_melt[,\"sig\"] <- gsub(\"Signature.6\", \"E\", sigs_melt[,\"sig\"])\n",
    "sigs_melt[,\"sig\"] <- gsub(\"Signature.7\", \"F\", sigs_melt[,\"sig\"])\n",
    "sigs_melt[,\"sig\"] <- gsub(\"Signature.8\", \"G\", sigs_melt[,\"sig\"])\n",
    "sigs_melt[,\"sig\"] <- gsub(\"Signature.9\", \"H\", sigs_melt[,\"sig\"])"
   ]
  },
  {
   "cell_type": "code",
   "execution_count": 73,
   "metadata": {},
   "outputs": [
    {
     "data": {
      "text/html": [
       "1815"
      ],
      "text/latex": [
       "1815"
      ],
      "text/markdown": [
       "1815"
      ],
      "text/plain": [
       "[1] 1815"
      ]
     },
     "metadata": {},
     "output_type": "display_data"
    }
   ],
   "source": [
    "nrow(sigs_melt)"
   ]
  },
  {
   "cell_type": "code",
   "execution_count": 74,
   "metadata": {},
   "outputs": [
    {
     "data": {
      "text/html": [
       "<table>\n",
       "<thead><tr><th></th><th scope=col>sample</th><th scope=col>weights.Signature.1</th><th scope=col>weights.Signature.2</th><th scope=col>weights.Signature.3</th><th scope=col>weights.Signature.4</th><th scope=col>weights.Signature.5</th><th scope=col>weights.Signature.6</th><th scope=col>weights.Signature.7</th><th scope=col>weights.Signature.8</th><th scope=col>weights.Signature.9</th><th scope=col>⋯</th><th scope=col>weights.Signature.24</th><th scope=col>weights.Signature.25</th><th scope=col>weights.Signature.26</th><th scope=col>weights.Signature.27</th><th scope=col>weights.Signature.28</th><th scope=col>weights.Signature.29</th><th scope=col>weights.Signature.30</th><th scope=col>zAPOBEC.Sig</th><th scope=col>mut_tot</th><th scope=col>tissue</th></tr></thead>\n",
       "<tbody>\n",
       "\t<tr><th scope=row>76</th><td>C2BBe1      </td><td>0.1617102   </td><td>0           </td><td>0.00000000  </td><td>0.1549067   </td><td>0.16822886  </td><td>0.00000000  </td><td>0.07744519  </td><td>0           </td><td>0.00000000  </td><td>⋯           </td><td>0.2362505   </td><td>0           </td><td>0.0000000   </td><td>0           </td><td>0           </td><td>0           </td><td>0           </td><td>0           </td><td> 338        </td><td>L. Intestine</td></tr>\n",
       "\t<tr><th scope=row>104</th><td>CaR-1       </td><td>0.2330125   </td><td>0           </td><td>0.08368834  </td><td>0.2929195   </td><td>0.07484726  </td><td>0.07184822  </td><td>0.00000000  </td><td>0           </td><td>0.09215439  </td><td>⋯           </td><td>0.0000000   </td><td>0           </td><td>0.0000000   </td><td>0           </td><td>0           </td><td>0           </td><td>0           </td><td>0           </td><td> 286        </td><td>L. Intestine</td></tr>\n",
       "\t<tr><th scope=row>107</th><td>CCK-81      </td><td>0.0000000   </td><td>0           </td><td>0.00000000  </td><td>0.0000000   </td><td>0.00000000  </td><td>0.26303180  </td><td>0.00000000  </td><td>0           </td><td>0.16321047  </td><td>⋯           </td><td>0.2703790   </td><td>0           </td><td>0.1881096   </td><td>0           </td><td>0           </td><td>0           </td><td>0           </td><td>0           </td><td>2774        </td><td>L. Intestine</td></tr>\n",
       "\t<tr><th scope=row>120</th><td>CL-11       </td><td>0.3966457   </td><td>0           </td><td>0.00000000  </td><td>0.0000000   </td><td>0.00000000  </td><td>0.00000000  </td><td>0.00000000  </td><td>0           </td><td>0.10678144  </td><td>⋯           </td><td>0.3089886   </td><td>0           </td><td>0.0000000   </td><td>0           </td><td>0           </td><td>0           </td><td>0           </td><td>0           </td><td> 220        </td><td>L. Intestine</td></tr>\n",
       "\t<tr><th scope=row>121</th><td>CL-34       </td><td>0.2160526   </td><td>0           </td><td>0.00000000  </td><td>0.0000000   </td><td>0.00000000  </td><td>0.33180008  </td><td>0.00000000  </td><td>0           </td><td>0.00000000  </td><td>⋯           </td><td>0.3832099   </td><td>0           </td><td>0.0000000   </td><td>0           </td><td>0           </td><td>0           </td><td>0           </td><td>0           </td><td>1142        </td><td>L. Intestine</td></tr>\n",
       "\t<tr><th scope=row>122</th><td>CL-40       </td><td>0.3977086   </td><td>0           </td><td>0.00000000  </td><td>0.0000000   </td><td>0.10776209  </td><td>0.00000000  </td><td>0.00000000  </td><td>0           </td><td>0.00000000  </td><td>⋯           </td><td>0.3148738   </td><td>0           </td><td>0.0000000   </td><td>0           </td><td>0           </td><td>0           </td><td>0           </td><td>0           </td><td> 369        </td><td>L. Intestine</td></tr>\n",
       "</tbody>\n",
       "</table>\n"
      ],
      "text/latex": [
       "\\begin{tabular}{r|llllllllllllllllllllllllllllllllll}\n",
       "  & sample & weights.Signature.1 & weights.Signature.2 & weights.Signature.3 & weights.Signature.4 & weights.Signature.5 & weights.Signature.6 & weights.Signature.7 & weights.Signature.8 & weights.Signature.9 & ⋯ & weights.Signature.24 & weights.Signature.25 & weights.Signature.26 & weights.Signature.27 & weights.Signature.28 & weights.Signature.29 & weights.Signature.30 & zAPOBEC.Sig & mut\\_tot & tissue\\\\\n",
       "\\hline\n",
       "\t76 & C2BBe1       & 0.1617102    & 0            & 0.00000000   & 0.1549067    & 0.16822886   & 0.00000000   & 0.07744519   & 0            & 0.00000000   & ⋯            & 0.2362505    & 0            & 0.0000000    & 0            & 0            & 0            & 0            & 0            &  338         & L. Intestine\\\\\n",
       "\t104 & CaR-1        & 0.2330125    & 0            & 0.08368834   & 0.2929195    & 0.07484726   & 0.07184822   & 0.00000000   & 0            & 0.09215439   & ⋯            & 0.0000000    & 0            & 0.0000000    & 0            & 0            & 0            & 0            & 0            &  286         & L. Intestine\\\\\n",
       "\t107 & CCK-81       & 0.0000000    & 0            & 0.00000000   & 0.0000000    & 0.00000000   & 0.26303180   & 0.00000000   & 0            & 0.16321047   & ⋯            & 0.2703790    & 0            & 0.1881096    & 0            & 0            & 0            & 0            & 0            & 2774         & L. Intestine\\\\\n",
       "\t120 & CL-11        & 0.3966457    & 0            & 0.00000000   & 0.0000000    & 0.00000000   & 0.00000000   & 0.00000000   & 0            & 0.10678144   & ⋯            & 0.3089886    & 0            & 0.0000000    & 0            & 0            & 0            & 0            & 0            &  220         & L. Intestine\\\\\n",
       "\t121 & CL-34        & 0.2160526    & 0            & 0.00000000   & 0.0000000    & 0.00000000   & 0.33180008   & 0.00000000   & 0            & 0.00000000   & ⋯            & 0.3832099    & 0            & 0.0000000    & 0            & 0            & 0            & 0            & 0            & 1142         & L. Intestine\\\\\n",
       "\t122 & CL-40        & 0.3977086    & 0            & 0.00000000   & 0.0000000    & 0.10776209   & 0.00000000   & 0.00000000   & 0            & 0.00000000   & ⋯            & 0.3148738    & 0            & 0.0000000    & 0            & 0            & 0            & 0            & 0            &  369         & L. Intestine\\\\\n",
       "\\end{tabular}\n"
      ],
      "text/markdown": [
       "\n",
       "| <!--/--> | sample | weights.Signature.1 | weights.Signature.2 | weights.Signature.3 | weights.Signature.4 | weights.Signature.5 | weights.Signature.6 | weights.Signature.7 | weights.Signature.8 | weights.Signature.9 | ⋯ | weights.Signature.24 | weights.Signature.25 | weights.Signature.26 | weights.Signature.27 | weights.Signature.28 | weights.Signature.29 | weights.Signature.30 | zAPOBEC.Sig | mut_tot | tissue |\n",
       "|---|---|---|---|---|---|---|---|---|---|---|---|---|---|---|---|---|---|---|---|---|---|\n",
       "| 76 | C2BBe1       | 0.1617102    | 0            | 0.00000000   | 0.1549067    | 0.16822886   | 0.00000000   | 0.07744519   | 0            | 0.00000000   | ⋯            | 0.2362505    | 0            | 0.0000000    | 0            | 0            | 0            | 0            | 0            |  338         | L. Intestine |\n",
       "| 104 | CaR-1        | 0.2330125    | 0            | 0.08368834   | 0.2929195    | 0.07484726   | 0.07184822   | 0.00000000   | 0            | 0.09215439   | ⋯            | 0.0000000    | 0            | 0.0000000    | 0            | 0            | 0            | 0            | 0            |  286         | L. Intestine |\n",
       "| 107 | CCK-81       | 0.0000000    | 0            | 0.00000000   | 0.0000000    | 0.00000000   | 0.26303180   | 0.00000000   | 0            | 0.16321047   | ⋯            | 0.2703790    | 0            | 0.1881096    | 0            | 0            | 0            | 0            | 0            | 2774         | L. Intestine |\n",
       "| 120 | CL-11        | 0.3966457    | 0            | 0.00000000   | 0.0000000    | 0.00000000   | 0.00000000   | 0.00000000   | 0            | 0.10678144   | ⋯            | 0.3089886    | 0            | 0.0000000    | 0            | 0            | 0            | 0            | 0            |  220         | L. Intestine |\n",
       "| 121 | CL-34        | 0.2160526    | 0            | 0.00000000   | 0.0000000    | 0.00000000   | 0.33180008   | 0.00000000   | 0            | 0.00000000   | ⋯            | 0.3832099    | 0            | 0.0000000    | 0            | 0            | 0            | 0            | 0            | 1142         | L. Intestine |\n",
       "| 122 | CL-40        | 0.3977086    | 0            | 0.00000000   | 0.0000000    | 0.10776209   | 0.00000000   | 0.00000000   | 0            | 0.00000000   | ⋯            | 0.3148738    | 0            | 0.0000000    | 0            | 0            | 0            | 0            | 0            |  369         | L. Intestine |\n",
       "\n"
      ],
      "text/plain": [
       "    sample weights.Signature.1 weights.Signature.2 weights.Signature.3\n",
       "76  C2BBe1 0.1617102           0                   0.00000000         \n",
       "104 CaR-1  0.2330125           0                   0.08368834         \n",
       "107 CCK-81 0.0000000           0                   0.00000000         \n",
       "120 CL-11  0.3966457           0                   0.00000000         \n",
       "121 CL-34  0.2160526           0                   0.00000000         \n",
       "122 CL-40  0.3977086           0                   0.00000000         \n",
       "    weights.Signature.4 weights.Signature.5 weights.Signature.6\n",
       "76  0.1549067           0.16822886          0.00000000         \n",
       "104 0.2929195           0.07484726          0.07184822         \n",
       "107 0.0000000           0.00000000          0.26303180         \n",
       "120 0.0000000           0.00000000          0.00000000         \n",
       "121 0.0000000           0.00000000          0.33180008         \n",
       "122 0.0000000           0.10776209          0.00000000         \n",
       "    weights.Signature.7 weights.Signature.8 weights.Signature.9 ⋯\n",
       "76  0.07744519          0                   0.00000000          ⋯\n",
       "104 0.00000000          0                   0.09215439          ⋯\n",
       "107 0.00000000          0                   0.16321047          ⋯\n",
       "120 0.00000000          0                   0.10678144          ⋯\n",
       "121 0.00000000          0                   0.00000000          ⋯\n",
       "122 0.00000000          0                   0.00000000          ⋯\n",
       "    weights.Signature.24 weights.Signature.25 weights.Signature.26\n",
       "76  0.2362505            0                    0.0000000           \n",
       "104 0.0000000            0                    0.0000000           \n",
       "107 0.2703790            0                    0.1881096           \n",
       "120 0.3089886            0                    0.0000000           \n",
       "121 0.3832099            0                    0.0000000           \n",
       "122 0.3148738            0                    0.0000000           \n",
       "    weights.Signature.27 weights.Signature.28 weights.Signature.29\n",
       "76  0                    0                    0                   \n",
       "104 0                    0                    0                   \n",
       "107 0                    0                    0                   \n",
       "120 0                    0                    0                   \n",
       "121 0                    0                    0                   \n",
       "122 0                    0                    0                   \n",
       "    weights.Signature.30 zAPOBEC.Sig mut_tot tissue      \n",
       "76  0                    0            338    L. Intestine\n",
       "104 0                    0            286    L. Intestine\n",
       "107 0                    0           2774    L. Intestine\n",
       "120 0                    0            220    L. Intestine\n",
       "121 0                    0           1142    L. Intestine\n",
       "122 0                    0            369    L. Intestine"
      ]
     },
     "metadata": {},
     "output_type": "display_data"
    }
   ],
   "source": [
    "list <- sigs_individual[order(sigs_individual$zAPOBEC.Sig),]\n",
    "head(list)"
   ]
  },
  {
   "cell_type": "code",
   "execution_count": 75,
   "metadata": {},
   "outputs": [
    {
     "data": {
      "text/html": [
       "<ol class=list-inline>\n",
       "\t<li>'C2BBe1'</li>\n",
       "\t<li>'CaR-1'</li>\n",
       "\t<li>'CCK-81'</li>\n",
       "\t<li>'CL-11'</li>\n",
       "\t<li>'CL-34'</li>\n",
       "\t<li>'CL-40'</li>\n",
       "</ol>\n"
      ],
      "text/latex": [
       "\\begin{enumerate*}\n",
       "\\item 'C2BBe1'\n",
       "\\item 'CaR-1'\n",
       "\\item 'CCK-81'\n",
       "\\item 'CL-11'\n",
       "\\item 'CL-34'\n",
       "\\item 'CL-40'\n",
       "\\end{enumerate*}\n"
      ],
      "text/markdown": [
       "1. 'C2BBe1'\n",
       "2. 'CaR-1'\n",
       "3. 'CCK-81'\n",
       "4. 'CL-11'\n",
       "5. 'CL-34'\n",
       "6. 'CL-40'\n",
       "\n",
       "\n"
      ],
      "text/plain": [
       "[1] \"C2BBe1\" \"CaR-1\"  \"CCK-81\" \"CL-11\"  \"CL-34\"  \"CL-40\" "
      ]
     },
     "metadata": {},
     "output_type": "display_data"
    }
   ],
   "source": [
    "list1 <- as.vector(list[,\"sample\"])\n",
    "head(list1)"
   ]
  },
  {
   "cell_type": "code",
   "execution_count": 76,
   "metadata": {},
   "outputs": [
    {
     "data": {
      "image/png": "[encoded data removed]",
      "text/plain": [
       "plot without title"
      ]
     },
     "metadata": {},
     "output_type": "display_data"
    }
   ],
   "source": [
    "ggplot(sigs_melt, aes(sample, value, fill = sig)) +\n",
    "  geom_col() +\n",
    "  #scale_fill_brewer() +\n",
    "  theme(axis.text.x=element_text(angle = 45, hjust = 1)) +\n",
    "  xlab(\"Cancer Cell Line\") +\n",
    "  ylab(\"Mutational Signature Proportion\") +\n",
    "  scale_x_discrete(limits = list1) +\n",
    "  theme_bw() +\n",
    "  theme(axis.text.x=element_text(angle = 45, hjust = 1),\n",
    "    panel.border = element_blank(),\n",
    "    panel.grid.major = element_blank(),\n",
    "    panel.grid.minor = element_blank(),\n",
    "    axis.line = element_line(colour = \"black\"))"
   ]
  },
  {
   "cell_type": "code",
   "execution_count": 77,
   "metadata": {},
   "outputs": [],
   "source": [
    "enrich_tot <- unique(cosmic_mut_all_sort)\n",
    "enrich_tot$Mut_TCW <- \"0\"\n",
    "enrich_tot$Mut_C <- \"0\"\n",
    "enrich_tot$Con_TCW <- \"0\"\n",
    "enrich_tot$Con_C <- \"0\"\n",
    "mut <- data.frame(do.call('rbind', strsplit(as.character(enrich_tot$mut),'>',fixed=T)))\n",
    "enrich_tot$mut_ref <- mut[,1]\n",
    "\n",
    "enrich_C <- subset(enrich_tot, mut_ref == \"C\")\n",
    "enrich_CtoK <- subset(enrich_C, mut != \"C>A\") # Remove C>A mutations!\n",
    "\n",
    "enrich_CtoK[which(enrich_CtoK$mut_ref == \"C\"),\"Mut_C\"] <- \"1\"\n",
    "\n",
    "enrich_CtoK[which(enrich_CtoK$trinuc_mut == \"T[C>G]A\"),\"Mut_TCW\"] <- \"1\"\n",
    "enrich_CtoK[which(enrich_CtoK$trinuc_mut == \"T[C>G]T\"),\"Mut_TCW\"] <- \"1\"\n",
    "enrich_CtoK[which(enrich_CtoK$trinuc_mut == \"T[C>T]A\"),\"Mut_TCW\"] <- \"1\"\n",
    "enrich_CtoK[which(enrich_CtoK$trinuc_mut == \"T[C>T]T\"),\"Mut_TCW\"] <- \"1\"\n",
    "\n",
    "enrich_CtoK$Con_C <- str_count(enrich_CtoK$context, \"C\") + str_count(enrich_CtoK$context, \"G\")\n",
    "\n",
    "enrich_CtoK$Con_TCW <- str_count(enrich_CtoK$context, \"TCA\") + str_count(enrich_CtoK$context, \"TCT\") + str_count(enrich_CtoK$context, \"TGA\") + str_count(enrich_CtoK$context, \"TGT\")\n",
    "\n",
    "enrich_final <- enrich_CtoK[,16:20]\n",
    "enrich_final$Mut_TCW <- as.integer(enrich_final$Mut_TCW)\n",
    "enrich_final$Mut_C <- as.integer(enrich_final$Mut_C)\n",
    "\n",
    "enrich_final <- ddply(enrich_final, \"sample\", numcolwise(sum))\n",
    "\n",
    "rownames(enrich_final) <- enrich_final$sample\n",
    "enrich_final$sample <- NULL\n",
    "enrich_final$enrich_score <- (enrich_final$Mut_TCW / enrich_final$Con_TCW) / (enrich_final$Mut_C / enrich_final$Con_C)\n",
    "\n",
    "enrich_matrix <- as.data.frame(enrich_final$Mut_TCW)\n",
    "enrich_matrix$Mut_Denom <- enrich_final$Mut_C - enrich_final$Mut_TCW\n",
    "enrich_matrix$Con_TCW <- enrich_final$Con_TCW\n",
    "enrich_matrix$Con_Denom <- enrich_final$Con_C - enrich_final$Con_TCW\n",
    "rownames(enrich_matrix) <- rownames(enrich_final)\n",
    "colnames(enrich_matrix) <- c(\"Mut_TCW\", \"Mut_Denom\", \"Con_TCW\", \"Con_Denom\")\n",
    "\n",
    "enrich_matrix <- as.matrix(enrich_matrix)\n",
    "\n",
    "\n",
    "exe_fisher <- function(x) {\n",
    "  m <- matrix(unlist(x), ncol = 2, nrow = 2, byrow = T)\n",
    "  f <- fisher.test(m)\n",
    "  return(as.data.frame(f$p.value))\n",
    "}\n",
    "\n",
    "fishers <- t(as.data.frame(apply(enrich_matrix, 1, exe_fisher)))\n",
    "fishers <- as.data.frame(fishers)\n",
    "\n",
    "enrich_final$fisher_pval <- fishers$V1\n",
    "enrich_final$bh_adj_qval <- p.adjust(enrich_final$fisher_pval, method = \"BH\")\n",
    "\n",
    "enrich_final$Mut_Ratio <- enrich_final$Mut_TCW/(enrich_final$Mut_C - enrich_final$Mut_TCW)\n",
    "enrich_final$Con_Ratio <- enrich_final$Con_TCW/(enrich_final$Con_C - enrich_final$Con_TCW)\n",
    "enrich_final[which(enrich_final$Mut_Ratio < enrich_final$Con_Ratio), \"bh_adj_qval\"] <- 1\n",
    "enrich_final$Mut_Ratio <- NULL\n",
    "enrich_final$Con_Ratio <- NULL\n",
    "enrich_final$sample <- rownames(enrich_final)\n",
    "rownames(enrich_final) <- NULL\n",
    "\n",
    "mut_sub <- subset(cell_line_mutload, tissue == \"Endometrium\")\n",
    "\n",
    "mut_med_quantiles <- as.data.frame(t(quantile(mut_sub$mut_tot)))\n",
    "\n",
    "\n",
    "mut_med_quantiles$tissue <- rownames(mut_med_quantiles)\n",
    "colnames(mut_med_quantiles) <- c(\"low\", \"first\", \"med\", \"third\", \"high\", \"tissue\")"
   ]
  },
  {
   "cell_type": "code",
   "execution_count": 79,
   "metadata": {},
   "outputs": [
    {
     "data": {
      "text/html": [
       "<table>\n",
       "<thead><tr><th scope=col>low</th><th scope=col>first</th><th scope=col>med</th><th scope=col>third</th><th scope=col>high</th><th scope=col>tissue</th></tr></thead>\n",
       "<tbody>\n",
       "\t<tr><td>177  </td><td>794.5</td><td>1885 </td><td>3312 </td><td>4887 </td><td>1    </td></tr>\n",
       "</tbody>\n",
       "</table>\n"
      ],
      "text/latex": [
       "\\begin{tabular}{r|llllll}\n",
       " low & first & med & third & high & tissue\\\\\n",
       "\\hline\n",
       "\t 177   & 794.5 & 1885  & 3312  & 4887  & 1    \\\\\n",
       "\\end{tabular}\n"
      ],
      "text/markdown": [
       "\n",
       "| low | first | med | third | high | tissue |\n",
       "|---|---|---|---|---|---|\n",
       "| 177   | 794.5 | 1885  | 3312  | 4887  | 1     |\n",
       "\n"
      ],
      "text/plain": [
       "  low first med  third high tissue\n",
       "1 177 794.5 1885 3312  4887 1     "
      ]
     },
     "metadata": {},
     "output_type": "display_data"
    }
   ],
   "source": [
    "mut_med_quantiles"
   ]
  },
  {
   "cell_type": "code",
   "execution_count": 80,
   "metadata": {},
   "outputs": [
    {
     "name": "stderr",
     "output_type": "stream",
     "text": [
      "Warning message:\n",
      "“Removed 1 rows containing missing values (position_stack).”Warning message:\n",
      "“Removed 1 rows containing missing values (geom_errorbar).”"
     ]
    },
    {
     "data": {
      "image/png": "[encoded data removed]",
      "text/plain": [
       "plot without title"
      ]
     },
     "metadata": {},
     "output_type": "display_data"
    }
   ],
   "source": [
    "ggplot(mut_med_quantiles, aes(tissue, med)) +\n",
    "  geom_col() +\n",
    "  theme(axis.text.x=element_text(angle = 45, hjust = 1), legend.position = \"none\") +\n",
    "  geom_errorbar(aes(ymin=first, ymax=third), width=.3) +\n",
    "  scale_y_continuous(limits = c(0,3501),\n",
    "    breaks = c(0,1200,2400,3600)) +\n",
    "  xlab(\"Tissue Type\") +\n",
    "  ylab(\"Median Number of Mutations\") +\n",
    "  #geom_text(aes(label = freq), vjust = -0.2) +\n",
    "  theme_bw() +\n",
    "  theme(axis.text.x=element_text(angle = 45, hjust = 1),\n",
    "    panel.border = element_blank(),\n",
    "    panel.grid.major = element_blank(),\n",
    "    panel.grid.minor = element_blank(),\n",
    "    axis.line = element_line(colour = \"black\")) +\n",
    "  scale_fill_gradient(low = \"blue\", high = \"red\") +\n",
    "  scale_x_discrete(limits = c(\"Adrenal Gland\",\"Autonomic Ganglia\",\"Biliary Tract\",\"Bladder\",\"Bone\",\"Breast\",\"Cervix\",\"CNS\",\"Endometrium\",\"Kidney\",\"L. Intestine\",\"Liver\",\"Lung\",\"NS\",\"Oesophagus\",\"Ovary\",\"Pancreas\",\"Placenta\",\"Pleura\",\"Prostate\",\"Salivary Gland\",\"S. Intestine\",\"Skin\",\"Soft Tissue\",\"Stomach\",\"Testis\",\"Thyroid\",\"Upper Aerodigestive Tract\",\"Vulva\",\"WBC\")) +\n",
    "  ggtitle(\"Median Mutations by Tissue Type\")"
   ]
  },
  {
   "cell_type": "code",
   "execution_count": 81,
   "metadata": {},
   "outputs": [
    {
     "data": {
      "image/png": "[encoded data removed]",
      "text/plain": [
       "plot without title"
      ]
     },
     "metadata": {},
     "output_type": "display_data"
    }
   ],
   "source": [
    "number <- as.data.frame(table(cosmic_tissue_type$tissue))\n",
    "colnames(number) <- c(\"tissue\", \"freq\")\n",
    "ggplot(number, aes(tissue, freq)) +\n",
    "  geom_point(size = 4) +\n",
    "  ylim(0,200) +\n",
    "  scale_x_discrete(limits = c(\"Adrenal Gland\",\"Autonomic Ganglia\",\"Biliary Tract\",\"Bladder\",\"Bone\",\"Breast\",\"Cervix\",\"CNS\",\"Endometrium\",\"Kidney\",\"L. Intestine\",\"Liver\",\"Lung\",\"NS\",\"Oesophagus\",\"Ovary\",\"Pancreas\",\"Placenta\",\"Pleura\",\"Prostate\",\"Salivary Gland\",\"S. Intestine\",\"Skin\",\"Soft Tissue\",\"Stomach\",\"Testis\",\"Thyroid\",\"Upper Aerodigestive Tract\",\"Vulva\",\"WBC\"))"
   ]
  },
  {
   "cell_type": "code",
   "execution_count": 88,
   "metadata": {},
   "outputs": [
    {
     "data": {
      "text/html": [
       "<table>\n",
       "<thead><tr><th></th><th scope=col>sample</th><th scope=col>weights.Signature.1</th><th scope=col>weights.Signature.2</th><th scope=col>weights.Signature.3</th><th scope=col>weights.Signature.4</th><th scope=col>weights.Signature.5</th><th scope=col>weights.Signature.6</th><th scope=col>weights.Signature.7</th><th scope=col>weights.Signature.8</th><th scope=col>weights.Signature.9</th><th scope=col>⋯</th><th scope=col>weights.Signature.25</th><th scope=col>weights.Signature.26</th><th scope=col>weights.Signature.27</th><th scope=col>weights.Signature.28</th><th scope=col>weights.Signature.29</th><th scope=col>weights.Signature.30</th><th scope=col>unknown</th><th scope=col>zAPOBEC.Sig</th><th scope=col>mut_tot</th><th scope=col>tissue</th></tr></thead>\n",
       "<tbody>\n",
       "\t<tr><th scope=row>76</th><td>C2BBe1      </td><td>0.1617102   </td><td>0           </td><td>0.00000000  </td><td>0.1549067   </td><td>0.16822886  </td><td>0.00000000  </td><td>0.07744519  </td><td>0           </td><td>0.00000000  </td><td>⋯           </td><td>0           </td><td>0.0000000   </td><td>0           </td><td>0           </td><td>0           </td><td>0           </td><td>0.20145858  </td><td>0           </td><td> 338        </td><td>L. Intestine</td></tr>\n",
       "\t<tr><th scope=row>104</th><td>CaR-1       </td><td>0.2330125   </td><td>0           </td><td>0.08368834  </td><td>0.2929195   </td><td>0.07484726  </td><td>0.07184822  </td><td>0.00000000  </td><td>0           </td><td>0.09215439  </td><td>⋯           </td><td>0           </td><td>0.0000000   </td><td>0           </td><td>0           </td><td>0           </td><td>0           </td><td>0.04038048  </td><td>0           </td><td> 286        </td><td>L. Intestine</td></tr>\n",
       "\t<tr><th scope=row>107</th><td>CCK-81      </td><td>0.0000000   </td><td>0           </td><td>0.00000000  </td><td>0.0000000   </td><td>0.00000000  </td><td>0.26303180  </td><td>0.00000000  </td><td>0           </td><td>0.16321047  </td><td>⋯           </td><td>0           </td><td>0.1881096   </td><td>0           </td><td>0           </td><td>0           </td><td>0           </td><td>0.11526911  </td><td>0           </td><td>2774        </td><td>L. Intestine</td></tr>\n",
       "\t<tr><th scope=row>120</th><td>CL-11       </td><td>0.3966457   </td><td>0           </td><td>0.00000000  </td><td>0.0000000   </td><td>0.00000000  </td><td>0.00000000  </td><td>0.00000000  </td><td>0           </td><td>0.10678144  </td><td>⋯           </td><td>0           </td><td>0.0000000   </td><td>0           </td><td>0           </td><td>0           </td><td>0           </td><td>0.10787548  </td><td>0           </td><td> 220        </td><td>L. Intestine</td></tr>\n",
       "\t<tr><th scope=row>121</th><td>CL-34       </td><td>0.2160526   </td><td>0           </td><td>0.00000000  </td><td>0.0000000   </td><td>0.00000000  </td><td>0.33180008  </td><td>0.00000000  </td><td>0           </td><td>0.00000000  </td><td>⋯           </td><td>0           </td><td>0.0000000   </td><td>0           </td><td>0           </td><td>0           </td><td>0           </td><td>0.06893742  </td><td>0           </td><td>1142        </td><td>L. Intestine</td></tr>\n",
       "\t<tr><th scope=row>122</th><td>CL-40       </td><td>0.3977086   </td><td>0           </td><td>0.00000000  </td><td>0.0000000   </td><td>0.10776209  </td><td>0.00000000  </td><td>0.00000000  </td><td>0           </td><td>0.00000000  </td><td>⋯           </td><td>0           </td><td>0.0000000   </td><td>0           </td><td>0           </td><td>0           </td><td>0           </td><td>0.04563042  </td><td>0           </td><td> 369        </td><td>L. Intestine</td></tr>\n",
       "</tbody>\n",
       "</table>\n"
      ],
      "text/latex": [
       "\\begin{tabular}{r|lllllllllllllllllllllllllllllllllll}\n",
       "  & sample & weights.Signature.1 & weights.Signature.2 & weights.Signature.3 & weights.Signature.4 & weights.Signature.5 & weights.Signature.6 & weights.Signature.7 & weights.Signature.8 & weights.Signature.9 & ⋯ & weights.Signature.25 & weights.Signature.26 & weights.Signature.27 & weights.Signature.28 & weights.Signature.29 & weights.Signature.30 & unknown & zAPOBEC.Sig & mut\\_tot & tissue\\\\\n",
       "\\hline\n",
       "\t76 & C2BBe1       & 0.1617102    & 0            & 0.00000000   & 0.1549067    & 0.16822886   & 0.00000000   & 0.07744519   & 0            & 0.00000000   & ⋯            & 0            & 0.0000000    & 0            & 0            & 0            & 0            & 0.20145858   & 0            &  338         & L. Intestine\\\\\n",
       "\t104 & CaR-1        & 0.2330125    & 0            & 0.08368834   & 0.2929195    & 0.07484726   & 0.07184822   & 0.00000000   & 0            & 0.09215439   & ⋯            & 0            & 0.0000000    & 0            & 0            & 0            & 0            & 0.04038048   & 0            &  286         & L. Intestine\\\\\n",
       "\t107 & CCK-81       & 0.0000000    & 0            & 0.00000000   & 0.0000000    & 0.00000000   & 0.26303180   & 0.00000000   & 0            & 0.16321047   & ⋯            & 0            & 0.1881096    & 0            & 0            & 0            & 0            & 0.11526911   & 0            & 2774         & L. Intestine\\\\\n",
       "\t120 & CL-11        & 0.3966457    & 0            & 0.00000000   & 0.0000000    & 0.00000000   & 0.00000000   & 0.00000000   & 0            & 0.10678144   & ⋯            & 0            & 0.0000000    & 0            & 0            & 0            & 0            & 0.10787548   & 0            &  220         & L. Intestine\\\\\n",
       "\t121 & CL-34        & 0.2160526    & 0            & 0.00000000   & 0.0000000    & 0.00000000   & 0.33180008   & 0.00000000   & 0            & 0.00000000   & ⋯            & 0            & 0.0000000    & 0            & 0            & 0            & 0            & 0.06893742   & 0            & 1142         & L. Intestine\\\\\n",
       "\t122 & CL-40        & 0.3977086    & 0            & 0.00000000   & 0.0000000    & 0.10776209   & 0.00000000   & 0.00000000   & 0            & 0.00000000   & ⋯            & 0            & 0.0000000    & 0            & 0            & 0            & 0            & 0.04563042   & 0            &  369         & L. Intestine\\\\\n",
       "\\end{tabular}\n"
      ],
      "text/markdown": [
       "\n",
       "| <!--/--> | sample | weights.Signature.1 | weights.Signature.2 | weights.Signature.3 | weights.Signature.4 | weights.Signature.5 | weights.Signature.6 | weights.Signature.7 | weights.Signature.8 | weights.Signature.9 | ⋯ | weights.Signature.25 | weights.Signature.26 | weights.Signature.27 | weights.Signature.28 | weights.Signature.29 | weights.Signature.30 | unknown | zAPOBEC.Sig | mut_tot | tissue |\n",
       "|---|---|---|---|---|---|---|---|---|---|---|---|---|---|---|---|---|---|---|---|---|---|\n",
       "| 76 | C2BBe1       | 0.1617102    | 0            | 0.00000000   | 0.1549067    | 0.16822886   | 0.00000000   | 0.07744519   | 0            | 0.00000000   | ⋯            | 0            | 0.0000000    | 0            | 0            | 0            | 0            | 0.20145858   | 0            |  338         | L. Intestine |\n",
       "| 104 | CaR-1        | 0.2330125    | 0            | 0.08368834   | 0.2929195    | 0.07484726   | 0.07184822   | 0.00000000   | 0            | 0.09215439   | ⋯            | 0            | 0.0000000    | 0            | 0            | 0            | 0            | 0.04038048   | 0            |  286         | L. Intestine |\n",
       "| 107 | CCK-81       | 0.0000000    | 0            | 0.00000000   | 0.0000000    | 0.00000000   | 0.26303180   | 0.00000000   | 0            | 0.16321047   | ⋯            | 0            | 0.1881096    | 0            | 0            | 0            | 0            | 0.11526911   | 0            | 2774         | L. Intestine |\n",
       "| 120 | CL-11        | 0.3966457    | 0            | 0.00000000   | 0.0000000    | 0.00000000   | 0.00000000   | 0.00000000   | 0            | 0.10678144   | ⋯            | 0            | 0.0000000    | 0            | 0            | 0            | 0            | 0.10787548   | 0            |  220         | L. Intestine |\n",
       "| 121 | CL-34        | 0.2160526    | 0            | 0.00000000   | 0.0000000    | 0.00000000   | 0.33180008   | 0.00000000   | 0            | 0.00000000   | ⋯            | 0            | 0.0000000    | 0            | 0            | 0            | 0            | 0.06893742   | 0            | 1142         | L. Intestine |\n",
       "| 122 | CL-40        | 0.3977086    | 0            | 0.00000000   | 0.0000000    | 0.10776209   | 0.00000000   | 0.00000000   | 0            | 0.00000000   | ⋯            | 0            | 0.0000000    | 0            | 0            | 0            | 0            | 0.04563042   | 0            |  369         | L. Intestine |\n",
       "\n"
      ],
      "text/plain": [
       "    sample weights.Signature.1 weights.Signature.2 weights.Signature.3\n",
       "76  C2BBe1 0.1617102           0                   0.00000000         \n",
       "104 CaR-1  0.2330125           0                   0.08368834         \n",
       "107 CCK-81 0.0000000           0                   0.00000000         \n",
       "120 CL-11  0.3966457           0                   0.00000000         \n",
       "121 CL-34  0.2160526           0                   0.00000000         \n",
       "122 CL-40  0.3977086           0                   0.00000000         \n",
       "    weights.Signature.4 weights.Signature.5 weights.Signature.6\n",
       "76  0.1549067           0.16822886          0.00000000         \n",
       "104 0.2929195           0.07484726          0.07184822         \n",
       "107 0.0000000           0.00000000          0.26303180         \n",
       "120 0.0000000           0.00000000          0.00000000         \n",
       "121 0.0000000           0.00000000          0.33180008         \n",
       "122 0.0000000           0.10776209          0.00000000         \n",
       "    weights.Signature.7 weights.Signature.8 weights.Signature.9 ⋯\n",
       "76  0.07744519          0                   0.00000000          ⋯\n",
       "104 0.00000000          0                   0.09215439          ⋯\n",
       "107 0.00000000          0                   0.16321047          ⋯\n",
       "120 0.00000000          0                   0.10678144          ⋯\n",
       "121 0.00000000          0                   0.00000000          ⋯\n",
       "122 0.00000000          0                   0.00000000          ⋯\n",
       "    weights.Signature.25 weights.Signature.26 weights.Signature.27\n",
       "76  0                    0.0000000            0                   \n",
       "104 0                    0.0000000            0                   \n",
       "107 0                    0.1881096            0                   \n",
       "120 0                    0.0000000            0                   \n",
       "121 0                    0.0000000            0                   \n",
       "122 0                    0.0000000            0                   \n",
       "    weights.Signature.28 weights.Signature.29 weights.Signature.30 unknown   \n",
       "76  0                    0                    0                    0.20145858\n",
       "104 0                    0                    0                    0.04038048\n",
       "107 0                    0                    0                    0.11526911\n",
       "120 0                    0                    0                    0.10787548\n",
       "121 0                    0                    0                    0.06893742\n",
       "122 0                    0                    0                    0.04563042\n",
       "    zAPOBEC.Sig mut_tot tissue      \n",
       "76  0            338    L. Intestine\n",
       "104 0            286    L. Intestine\n",
       "107 0           2774    L. Intestine\n",
       "120 0            220    L. Intestine\n",
       "121 0           1142    L. Intestine\n",
       "122 0            369    L. Intestine"
      ]
     },
     "metadata": {},
     "output_type": "display_data"
    }
   ],
   "source": [
    "sigs_tissues_individual <- subset(sigs_tissues, tissue == \"L. Intestine\")\n",
    "head(sigs_tissues_individual)"
   ]
  },
  {
   "cell_type": "code",
   "execution_count": 89,
   "metadata": {},
   "outputs": [
    {
     "data": {
      "text/html": [
       "35"
      ],
      "text/latex": [
       "35"
      ],
      "text/markdown": [
       "35"
      ],
      "text/plain": [
       "[1] 35"
      ]
     },
     "metadata": {},
     "output_type": "display_data"
    }
   ],
   "source": [
    "length(sigs_tissues_individual)"
   ]
  },
  {
   "cell_type": "code",
   "execution_count": 90,
   "metadata": {},
   "outputs": [
    {
     "data": {
      "text/html": [
       "<table>\n",
       "<thead><tr><th scope=col>sample</th><th scope=col>weights.Signature.1</th><th scope=col>weights.Signature.2</th><th scope=col>weights.Signature.3</th><th scope=col>weights.Signature.4</th><th scope=col>weights.Signature.5</th><th scope=col>weights.Signature.6</th><th scope=col>weights.Signature.7</th><th scope=col>weights.Signature.8</th><th scope=col>weights.Signature.9</th><th scope=col>⋯</th><th scope=col>weights.Signature.26</th><th scope=col>weights.Signature.27</th><th scope=col>weights.Signature.28</th><th scope=col>weights.Signature.29</th><th scope=col>weights.Signature.30</th><th scope=col>unknown</th><th scope=col>zAPOBEC.Sig</th><th scope=col>mut_tot</th><th scope=col>tissue</th><th scope=col>order</th></tr></thead>\n",
       "<tbody>\n",
       "\t<tr><td>C2BBe1      </td><td>0.1617102   </td><td>0           </td><td>0.00000000  </td><td>0.1549067   </td><td>0.16822886  </td><td>0.00000000  </td><td>0.07744519  </td><td>0           </td><td>0.00000000  </td><td>⋯           </td><td>0.0000000   </td><td>0           </td><td>0           </td><td>0           </td><td>0           </td><td>0.20145858  </td><td>0           </td><td> 338        </td><td>L. Intestine</td><td>1           </td></tr>\n",
       "\t<tr><td>CaR-1       </td><td>0.2330125   </td><td>0           </td><td>0.08368834  </td><td>0.2929195   </td><td>0.07484726  </td><td>0.07184822  </td><td>0.00000000  </td><td>0           </td><td>0.09215439  </td><td>⋯           </td><td>0.0000000   </td><td>0           </td><td>0           </td><td>0           </td><td>0           </td><td>0.04038048  </td><td>0           </td><td> 286        </td><td>L. Intestine</td><td>2           </td></tr>\n",
       "\t<tr><td>CCK-81      </td><td>0.0000000   </td><td>0           </td><td>0.00000000  </td><td>0.0000000   </td><td>0.00000000  </td><td>0.26303180  </td><td>0.00000000  </td><td>0           </td><td>0.16321047  </td><td>⋯           </td><td>0.1881096   </td><td>0           </td><td>0           </td><td>0           </td><td>0           </td><td>0.11526911  </td><td>0           </td><td>2774        </td><td>L. Intestine</td><td>3           </td></tr>\n",
       "\t<tr><td>CL-11       </td><td>0.3966457   </td><td>0           </td><td>0.00000000  </td><td>0.0000000   </td><td>0.00000000  </td><td>0.00000000  </td><td>0.00000000  </td><td>0           </td><td>0.10678144  </td><td>⋯           </td><td>0.0000000   </td><td>0           </td><td>0           </td><td>0           </td><td>0           </td><td>0.10787548  </td><td>0           </td><td> 220        </td><td>L. Intestine</td><td>4           </td></tr>\n",
       "\t<tr><td>CL-34       </td><td>0.2160526   </td><td>0           </td><td>0.00000000  </td><td>0.0000000   </td><td>0.00000000  </td><td>0.33180008  </td><td>0.00000000  </td><td>0           </td><td>0.00000000  </td><td>⋯           </td><td>0.0000000   </td><td>0           </td><td>0           </td><td>0           </td><td>0           </td><td>0.06893742  </td><td>0           </td><td>1142        </td><td>L. Intestine</td><td>5           </td></tr>\n",
       "\t<tr><td>CL-40       </td><td>0.3977086   </td><td>0           </td><td>0.00000000  </td><td>0.0000000   </td><td>0.10776209  </td><td>0.00000000  </td><td>0.00000000  </td><td>0           </td><td>0.00000000  </td><td>⋯           </td><td>0.0000000   </td><td>0           </td><td>0           </td><td>0           </td><td>0           </td><td>0.04563042  </td><td>0           </td><td> 369        </td><td>L. Intestine</td><td>6           </td></tr>\n",
       "</tbody>\n",
       "</table>\n"
      ],
      "text/latex": [
       "\\begin{tabular}{r|llllllllllllllllllllllllllllllllllll}\n",
       " sample & weights.Signature.1 & weights.Signature.2 & weights.Signature.3 & weights.Signature.4 & weights.Signature.5 & weights.Signature.6 & weights.Signature.7 & weights.Signature.8 & weights.Signature.9 & ⋯ & weights.Signature.26 & weights.Signature.27 & weights.Signature.28 & weights.Signature.29 & weights.Signature.30 & unknown & zAPOBEC.Sig & mut\\_tot & tissue & order\\\\\n",
       "\\hline\n",
       "\t C2BBe1       & 0.1617102    & 0            & 0.00000000   & 0.1549067    & 0.16822886   & 0.00000000   & 0.07744519   & 0            & 0.00000000   & ⋯            & 0.0000000    & 0            & 0            & 0            & 0            & 0.20145858   & 0            &  338         & L. Intestine & 1           \\\\\n",
       "\t CaR-1        & 0.2330125    & 0            & 0.08368834   & 0.2929195    & 0.07484726   & 0.07184822   & 0.00000000   & 0            & 0.09215439   & ⋯            & 0.0000000    & 0            & 0            & 0            & 0            & 0.04038048   & 0            &  286         & L. Intestine & 2           \\\\\n",
       "\t CCK-81       & 0.0000000    & 0            & 0.00000000   & 0.0000000    & 0.00000000   & 0.26303180   & 0.00000000   & 0            & 0.16321047   & ⋯            & 0.1881096    & 0            & 0            & 0            & 0            & 0.11526911   & 0            & 2774         & L. Intestine & 3           \\\\\n",
       "\t CL-11        & 0.3966457    & 0            & 0.00000000   & 0.0000000    & 0.00000000   & 0.00000000   & 0.00000000   & 0            & 0.10678144   & ⋯            & 0.0000000    & 0            & 0            & 0            & 0            & 0.10787548   & 0            &  220         & L. Intestine & 4           \\\\\n",
       "\t CL-34        & 0.2160526    & 0            & 0.00000000   & 0.0000000    & 0.00000000   & 0.33180008   & 0.00000000   & 0            & 0.00000000   & ⋯            & 0.0000000    & 0            & 0            & 0            & 0            & 0.06893742   & 0            & 1142         & L. Intestine & 5           \\\\\n",
       "\t CL-40        & 0.3977086    & 0            & 0.00000000   & 0.0000000    & 0.10776209   & 0.00000000   & 0.00000000   & 0            & 0.00000000   & ⋯            & 0.0000000    & 0            & 0            & 0            & 0            & 0.04563042   & 0            &  369         & L. Intestine & 6           \\\\\n",
       "\\end{tabular}\n"
      ],
      "text/markdown": [
       "\n",
       "| sample | weights.Signature.1 | weights.Signature.2 | weights.Signature.3 | weights.Signature.4 | weights.Signature.5 | weights.Signature.6 | weights.Signature.7 | weights.Signature.8 | weights.Signature.9 | ⋯ | weights.Signature.26 | weights.Signature.27 | weights.Signature.28 | weights.Signature.29 | weights.Signature.30 | unknown | zAPOBEC.Sig | mut_tot | tissue | order |\n",
       "|---|---|---|---|---|---|---|---|---|---|---|---|---|---|---|---|---|---|---|---|---|\n",
       "| C2BBe1       | 0.1617102    | 0            | 0.00000000   | 0.1549067    | 0.16822886   | 0.00000000   | 0.07744519   | 0            | 0.00000000   | ⋯            | 0.0000000    | 0            | 0            | 0            | 0            | 0.20145858   | 0            |  338         | L. Intestine | 1            |\n",
       "| CaR-1        | 0.2330125    | 0            | 0.08368834   | 0.2929195    | 0.07484726   | 0.07184822   | 0.00000000   | 0            | 0.09215439   | ⋯            | 0.0000000    | 0            | 0            | 0            | 0            | 0.04038048   | 0            |  286         | L. Intestine | 2            |\n",
       "| CCK-81       | 0.0000000    | 0            | 0.00000000   | 0.0000000    | 0.00000000   | 0.26303180   | 0.00000000   | 0            | 0.16321047   | ⋯            | 0.1881096    | 0            | 0            | 0            | 0            | 0.11526911   | 0            | 2774         | L. Intestine | 3            |\n",
       "| CL-11        | 0.3966457    | 0            | 0.00000000   | 0.0000000    | 0.00000000   | 0.00000000   | 0.00000000   | 0            | 0.10678144   | ⋯            | 0.0000000    | 0            | 0            | 0            | 0            | 0.10787548   | 0            |  220         | L. Intestine | 4            |\n",
       "| CL-34        | 0.2160526    | 0            | 0.00000000   | 0.0000000    | 0.00000000   | 0.33180008   | 0.00000000   | 0            | 0.00000000   | ⋯            | 0.0000000    | 0            | 0            | 0            | 0            | 0.06893742   | 0            | 1142         | L. Intestine | 5            |\n",
       "| CL-40        | 0.3977086    | 0            | 0.00000000   | 0.0000000    | 0.10776209   | 0.00000000   | 0.00000000   | 0            | 0.00000000   | ⋯            | 0.0000000    | 0            | 0            | 0            | 0            | 0.04563042   | 0            |  369         | L. Intestine | 6            |\n",
       "\n"
      ],
      "text/plain": [
       "  sample weights.Signature.1 weights.Signature.2 weights.Signature.3\n",
       "1 C2BBe1 0.1617102           0                   0.00000000         \n",
       "2 CaR-1  0.2330125           0                   0.08368834         \n",
       "3 CCK-81 0.0000000           0                   0.00000000         \n",
       "4 CL-11  0.3966457           0                   0.00000000         \n",
       "5 CL-34  0.2160526           0                   0.00000000         \n",
       "6 CL-40  0.3977086           0                   0.00000000         \n",
       "  weights.Signature.4 weights.Signature.5 weights.Signature.6\n",
       "1 0.1549067           0.16822886          0.00000000         \n",
       "2 0.2929195           0.07484726          0.07184822         \n",
       "3 0.0000000           0.00000000          0.26303180         \n",
       "4 0.0000000           0.00000000          0.00000000         \n",
       "5 0.0000000           0.00000000          0.33180008         \n",
       "6 0.0000000           0.10776209          0.00000000         \n",
       "  weights.Signature.7 weights.Signature.8 weights.Signature.9 ⋯\n",
       "1 0.07744519          0                   0.00000000          ⋯\n",
       "2 0.00000000          0                   0.09215439          ⋯\n",
       "3 0.00000000          0                   0.16321047          ⋯\n",
       "4 0.00000000          0                   0.10678144          ⋯\n",
       "5 0.00000000          0                   0.00000000          ⋯\n",
       "6 0.00000000          0                   0.00000000          ⋯\n",
       "  weights.Signature.26 weights.Signature.27 weights.Signature.28\n",
       "1 0.0000000            0                    0                   \n",
       "2 0.0000000            0                    0                   \n",
       "3 0.1881096            0                    0                   \n",
       "4 0.0000000            0                    0                   \n",
       "5 0.0000000            0                    0                   \n",
       "6 0.0000000            0                    0                   \n",
       "  weights.Signature.29 weights.Signature.30 unknown    zAPOBEC.Sig mut_tot\n",
       "1 0                    0                    0.20145858 0            338   \n",
       "2 0                    0                    0.04038048 0            286   \n",
       "3 0                    0                    0.11526911 0           2774   \n",
       "4 0                    0                    0.10787548 0            220   \n",
       "5 0                    0                    0.06893742 0           1142   \n",
       "6 0                    0                    0.04563042 0            369   \n",
       "  tissue       order\n",
       "1 L. Intestine 1    \n",
       "2 L. Intestine 2    \n",
       "3 L. Intestine 3    \n",
       "4 L. Intestine 4    \n",
       "5 L. Intestine 5    \n",
       "6 L. Intestine 6    "
      ]
     },
     "metadata": {},
     "output_type": "display_data"
    }
   ],
   "source": [
    "sigs_tissues_individual_1 <- sigs_tissues_individual[order(sigs_tissues_individual$zAPOBEC.Sig),]\n",
    "rownames(sigs_tissues_individual_1) <- c(1:nrow(sigs_tissues_individual_1))\n",
    "sigs_tissues_individual_1[,\"order\"] <- rownames(sigs_tissues_individual_1)\n",
    "head(sigs_tissues_individual_1)"
   ]
  },
  {
   "cell_type": "code",
   "execution_count": 91,
   "metadata": {},
   "outputs": [
    {
     "data": {
      "text/html": [
       "36"
      ],
      "text/latex": [
       "36"
      ],
      "text/markdown": [
       "36"
      ],
      "text/plain": [
       "[1] 36"
      ]
     },
     "metadata": {},
     "output_type": "display_data"
    }
   ],
   "source": [
    "length(sigs_tissues_individual_1)"
   ]
  },
  {
   "cell_type": "code",
   "execution_count": 92,
   "metadata": {},
   "outputs": [
    {
     "name": "stderr",
     "output_type": "stream",
     "text": [
      "`geom_smooth()` using method = 'loess' and formula 'y ~ x'\n",
      "Warning message:\n",
      "“Removed 20 rows containing non-finite values (stat_smooth).”Warning message:\n",
      "“Removed 20 rows containing missing values (geom_point).”"
     ]
    },
    {
     "data": {
      "image/png": "[encoded data removed]",
      "text/plain": [
       "plot without title"
      ]
     },
     "metadata": {},
     "output_type": "display_data"
    }
   ],
   "source": [
    "ggplot(sigs_tissues_individual_1, aes(as.numeric(order), mut_tot)) +\n",
    "  geom_point(shape = 18, size = 4) +\n",
    "  geom_smooth(span = 0.75) +\n",
    "  theme(axis.text.x=element_text(angle = 45, hjust = 1)) +\n",
    "  xlab(\"Breast Cancer Cell Line\") +\n",
    "  ylab(\"Mut Burden\") +\n",
    "  ylim(0,1600) +\n",
    "  theme_bw() +\n",
    "  theme(axis.text.x=element_text(angle = 45, hjust = 1),\n",
    "    panel.border = element_blank(),\n",
    "    panel.grid.major = element_blank(),\n",
    "    panel.grid.minor = element_blank(),\n",
    "    axis.line = element_line(colour = \"black\"))"
   ]
  },
  {
   "cell_type": "code",
   "execution_count": 93,
   "metadata": {},
   "outputs": [
    {
     "data": {
      "text/html": [
       "<table>\n",
       "<thead><tr><th scope=col>sample</th><th scope=col>weights.Signature.1</th><th scope=col>weights.Signature.2</th><th scope=col>weights.Signature.3</th><th scope=col>weights.Signature.4</th><th scope=col>weights.Signature.5</th><th scope=col>weights.Signature.6</th><th scope=col>weights.Signature.7</th><th scope=col>weights.Signature.8</th><th scope=col>weights.Signature.9</th><th scope=col>⋯</th><th scope=col>zAPOBEC.Sig</th><th scope=col>mut_tot</th><th scope=col>tissue</th><th scope=col>Mut_TCW</th><th scope=col>Mut_C</th><th scope=col>Con_TCW</th><th scope=col>Con_C</th><th scope=col>enrich_score</th><th scope=col>fisher_pval</th><th scope=col>bh_adj_qval</th></tr></thead>\n",
       "<tbody>\n",
       "\t<tr><td>201T        </td><td>0.1635878   </td><td>0.0000000   </td><td>0           </td><td>0.1220388   </td><td>0.2549915   </td><td>0.0000000   </td><td>0.0000000   </td><td>0           </td><td>0.00000000  </td><td>⋯           </td><td>0.000000    </td><td> 428        </td><td>Lung        </td><td>12          </td><td> 97         </td><td>243         </td><td>2173        </td><td>1.1062747   </td><td>7.415535e-01</td><td>0.99282750  </td></tr>\n",
       "\t<tr><td>22RV1       </td><td>0.2614879   </td><td>0.0000000   </td><td>0           </td><td>0.0000000   </td><td>0.0000000   </td><td>0.3275242   </td><td>0.0000000   </td><td>0           </td><td>0.00000000  </td><td>⋯           </td><td>0.000000    </td><td>1810        </td><td>Prostate    </td><td> 5          </td><td>392         </td><td>870         </td><td>9003        </td><td>0.1319933   </td><td>1.791741e-11</td><td>1.00000000  </td></tr>\n",
       "\t<tr><td>23132-87    </td><td>0.0000000   </td><td>0.0000000   </td><td>0           </td><td>0.0000000   </td><td>0.0000000   </td><td>0.4347781   </td><td>0.0000000   </td><td>0           </td><td>0.00000000  </td><td>⋯           </td><td>0.000000    </td><td>1794        </td><td>Stomach     </td><td>12          </td><td>350         </td><td>820         </td><td>8011        </td><td>0.3349547   </td><td>4.029958e-06</td><td>1.00000000  </td></tr>\n",
       "\t<tr><td>42-MG-BA    </td><td>0.2373844   </td><td>0.0000000   </td><td>0           </td><td>0.1712615   </td><td>0.1762817   </td><td>0.0000000   </td><td>0.0000000   </td><td>0           </td><td>0.00000000  </td><td>⋯           </td><td>0.000000    </td><td> 217        </td><td>CNS         </td><td> 8          </td><td> 50         </td><td>120         </td><td>1108        </td><td>1.4773333   </td><td>2.486648e-01</td><td>0.71047080  </td></tr>\n",
       "\t<tr><td>451Lu       </td><td>0.0000000   </td><td>0.0000000   </td><td>0           </td><td>0.5484138   </td><td>0.0000000   </td><td>0.0000000   </td><td>0.3180342   </td><td>0           </td><td>0.00000000  </td><td>⋯           </td><td>0.000000    </td><td> 618        </td><td>Skin        </td><td>24          </td><td>161         </td><td>379         </td><td>3428        </td><td>1.3483013   </td><td>1.267546e-01</td><td>0.50701840  </td></tr>\n",
       "\t<tr><td>5637        </td><td>0.1557857   </td><td>0.0609748   </td><td>0           </td><td>0.2520327   </td><td>0.1160934   </td><td>0.0000000   </td><td>0.0000000   </td><td>0           </td><td>0.06786217  </td><td>⋯           </td><td>0.143348    </td><td> 603        </td><td>Bladder     </td><td>33          </td><td>158         </td><td>433         </td><td>3476        </td><td>1.6766744   </td><td>3.332793e-03</td><td>0.02635232  </td></tr>\n",
       "</tbody>\n",
       "</table>\n"
      ],
      "text/latex": [
       "\\begin{tabular}{r|llllllllllllllllllllllllllllllllllllllllll}\n",
       " sample & weights.Signature.1 & weights.Signature.2 & weights.Signature.3 & weights.Signature.4 & weights.Signature.5 & weights.Signature.6 & weights.Signature.7 & weights.Signature.8 & weights.Signature.9 & ⋯ & zAPOBEC.Sig & mut\\_tot & tissue & Mut\\_TCW & Mut\\_C & Con\\_TCW & Con\\_C & enrich\\_score & fisher\\_pval & bh\\_adj\\_qval\\\\\n",
       "\\hline\n",
       "\t 201T         & 0.1635878    & 0.0000000    & 0            & 0.1220388    & 0.2549915    & 0.0000000    & 0.0000000    & 0            & 0.00000000   & ⋯            & 0.000000     &  428         & Lung         & 12           &  97          & 243          & 2173         & 1.1062747    & 7.415535e-01 & 0.99282750  \\\\\n",
       "\t 22RV1        & 0.2614879    & 0.0000000    & 0            & 0.0000000    & 0.0000000    & 0.3275242    & 0.0000000    & 0            & 0.00000000   & ⋯            & 0.000000     & 1810         & Prostate     &  5           & 392          & 870          & 9003         & 0.1319933    & 1.791741e-11 & 1.00000000  \\\\\n",
       "\t 23132-87     & 0.0000000    & 0.0000000    & 0            & 0.0000000    & 0.0000000    & 0.4347781    & 0.0000000    & 0            & 0.00000000   & ⋯            & 0.000000     & 1794         & Stomach      & 12           & 350          & 820          & 8011         & 0.3349547    & 4.029958e-06 & 1.00000000  \\\\\n",
       "\t 42-MG-BA     & 0.2373844    & 0.0000000    & 0            & 0.1712615    & 0.1762817    & 0.0000000    & 0.0000000    & 0            & 0.00000000   & ⋯            & 0.000000     &  217         & CNS          &  8           &  50          & 120          & 1108         & 1.4773333    & 2.486648e-01 & 0.71047080  \\\\\n",
       "\t 451Lu        & 0.0000000    & 0.0000000    & 0            & 0.5484138    & 0.0000000    & 0.0000000    & 0.3180342    & 0            & 0.00000000   & ⋯            & 0.000000     &  618         & Skin         & 24           & 161          & 379          & 3428         & 1.3483013    & 1.267546e-01 & 0.50701840  \\\\\n",
       "\t 5637         & 0.1557857    & 0.0609748    & 0            & 0.2520327    & 0.1160934    & 0.0000000    & 0.0000000    & 0            & 0.06786217   & ⋯            & 0.143348     &  603         & Bladder      & 33           & 158          & 433          & 3476         & 1.6766744    & 3.332793e-03 & 0.02635232  \\\\\n",
       "\\end{tabular}\n"
      ],
      "text/markdown": [
       "\n",
       "| sample | weights.Signature.1 | weights.Signature.2 | weights.Signature.3 | weights.Signature.4 | weights.Signature.5 | weights.Signature.6 | weights.Signature.7 | weights.Signature.8 | weights.Signature.9 | ⋯ | zAPOBEC.Sig | mut_tot | tissue | Mut_TCW | Mut_C | Con_TCW | Con_C | enrich_score | fisher_pval | bh_adj_qval |\n",
       "|---|---|---|---|---|---|---|---|---|---|---|---|---|---|---|---|---|---|---|---|---|\n",
       "| 201T         | 0.1635878    | 0.0000000    | 0            | 0.1220388    | 0.2549915    | 0.0000000    | 0.0000000    | 0            | 0.00000000   | ⋯            | 0.000000     |  428         | Lung         | 12           |  97          | 243          | 2173         | 1.1062747    | 7.415535e-01 | 0.99282750   |\n",
       "| 22RV1        | 0.2614879    | 0.0000000    | 0            | 0.0000000    | 0.0000000    | 0.3275242    | 0.0000000    | 0            | 0.00000000   | ⋯            | 0.000000     | 1810         | Prostate     |  5           | 392          | 870          | 9003         | 0.1319933    | 1.791741e-11 | 1.00000000   |\n",
       "| 23132-87     | 0.0000000    | 0.0000000    | 0            | 0.0000000    | 0.0000000    | 0.4347781    | 0.0000000    | 0            | 0.00000000   | ⋯            | 0.000000     | 1794         | Stomach      | 12           | 350          | 820          | 8011         | 0.3349547    | 4.029958e-06 | 1.00000000   |\n",
       "| 42-MG-BA     | 0.2373844    | 0.0000000    | 0            | 0.1712615    | 0.1762817    | 0.0000000    | 0.0000000    | 0            | 0.00000000   | ⋯            | 0.000000     |  217         | CNS          |  8           |  50          | 120          | 1108         | 1.4773333    | 2.486648e-01 | 0.71047080   |\n",
       "| 451Lu        | 0.0000000    | 0.0000000    | 0            | 0.5484138    | 0.0000000    | 0.0000000    | 0.3180342    | 0            | 0.00000000   | ⋯            | 0.000000     |  618         | Skin         | 24           | 161          | 379          | 3428         | 1.3483013    | 1.267546e-01 | 0.50701840   |\n",
       "| 5637         | 0.1557857    | 0.0609748    | 0            | 0.2520327    | 0.1160934    | 0.0000000    | 0.0000000    | 0            | 0.06786217   | ⋯            | 0.143348     |  603         | Bladder      | 33           | 158          | 433          | 3476         | 1.6766744    | 3.332793e-03 | 0.02635232   |\n",
       "\n"
      ],
      "text/plain": [
       "  sample   weights.Signature.1 weights.Signature.2 weights.Signature.3\n",
       "1 201T     0.1635878           0.0000000           0                  \n",
       "2 22RV1    0.2614879           0.0000000           0                  \n",
       "3 23132-87 0.0000000           0.0000000           0                  \n",
       "4 42-MG-BA 0.2373844           0.0000000           0                  \n",
       "5 451Lu    0.0000000           0.0000000           0                  \n",
       "6 5637     0.1557857           0.0609748           0                  \n",
       "  weights.Signature.4 weights.Signature.5 weights.Signature.6\n",
       "1 0.1220388           0.2549915           0.0000000          \n",
       "2 0.0000000           0.0000000           0.3275242          \n",
       "3 0.0000000           0.0000000           0.4347781          \n",
       "4 0.1712615           0.1762817           0.0000000          \n",
       "5 0.5484138           0.0000000           0.0000000          \n",
       "6 0.2520327           0.1160934           0.0000000          \n",
       "  weights.Signature.7 weights.Signature.8 weights.Signature.9 ⋯ zAPOBEC.Sig\n",
       "1 0.0000000           0                   0.00000000          ⋯ 0.000000   \n",
       "2 0.0000000           0                   0.00000000          ⋯ 0.000000   \n",
       "3 0.0000000           0                   0.00000000          ⋯ 0.000000   \n",
       "4 0.0000000           0                   0.00000000          ⋯ 0.000000   \n",
       "5 0.3180342           0                   0.00000000          ⋯ 0.000000   \n",
       "6 0.0000000           0                   0.06786217          ⋯ 0.143348   \n",
       "  mut_tot tissue   Mut_TCW Mut_C Con_TCW Con_C enrich_score fisher_pval \n",
       "1  428    Lung     12       97   243     2173  1.1062747    7.415535e-01\n",
       "2 1810    Prostate  5      392   870     9003  0.1319933    1.791741e-11\n",
       "3 1794    Stomach  12      350   820     8011  0.3349547    4.029958e-06\n",
       "4  217    CNS       8       50   120     1108  1.4773333    2.486648e-01\n",
       "5  618    Skin     24      161   379     3428  1.3483013    1.267546e-01\n",
       "6  603    Bladder  33      158   433     3476  1.6766744    3.332793e-03\n",
       "  bh_adj_qval\n",
       "1 0.99282750 \n",
       "2 1.00000000 \n",
       "3 1.00000000 \n",
       "4 0.71047080 \n",
       "5 0.50701840 \n",
       "6 0.02635232 "
      ]
     },
     "metadata": {},
     "output_type": "display_data"
    }
   ],
   "source": [
    "sigs_enrich <- merge(sigs_tissues, enrich_final, by = \"sample\")\n",
    "head(sigs_enrich)"
   ]
  },
  {
   "cell_type": "code",
   "execution_count": 94,
   "metadata": {},
   "outputs": [
    {
     "data": {
      "text/html": [
       "<table>\n",
       "<thead><tr><th scope=col>sample</th><th scope=col>weights.Signature.1</th><th scope=col>weights.Signature.2</th><th scope=col>weights.Signature.3</th><th scope=col>weights.Signature.4</th><th scope=col>weights.Signature.5</th><th scope=col>weights.Signature.6</th><th scope=col>weights.Signature.7</th><th scope=col>weights.Signature.8</th><th scope=col>weights.Signature.9</th><th scope=col>⋯</th><th scope=col>mut_tot</th><th scope=col>tissue</th><th scope=col>Mut_TCW</th><th scope=col>Mut_C</th><th scope=col>Con_TCW</th><th scope=col>Con_C</th><th scope=col>enrich_score</th><th scope=col>fisher_pval</th><th scope=col>bh_adj_qval</th><th scope=col>tca_tct</th></tr></thead>\n",
       "<tbody>\n",
       "\t<tr><td>201T        </td><td>0.1635878   </td><td>0.0000000   </td><td>0           </td><td>0.1220388   </td><td>0.2549915   </td><td>0.0000000   </td><td>0.0000000   </td><td>0           </td><td>0.00000000  </td><td>⋯           </td><td> 428        </td><td>Lung        </td><td>12          </td><td> 97         </td><td>243         </td><td>2173        </td><td>1.1062747   </td><td>7.415535e-01</td><td>0.99282750  </td><td>0.042713568 </td></tr>\n",
       "\t<tr><td>22RV1       </td><td>0.2614879   </td><td>0.0000000   </td><td>0           </td><td>0.0000000   </td><td>0.0000000   </td><td>0.3275242   </td><td>0.0000000   </td><td>0           </td><td>0.00000000  </td><td>⋯           </td><td>1810        </td><td>Prostate    </td><td> 5          </td><td>392         </td><td>870         </td><td>9003        </td><td>0.1319933   </td><td>1.791741e-11</td><td>1.00000000  </td><td>0.007352941 </td></tr>\n",
       "\t<tr><td>23132-87    </td><td>0.0000000   </td><td>0.0000000   </td><td>0           </td><td>0.0000000   </td><td>0.0000000   </td><td>0.4347781   </td><td>0.0000000   </td><td>0           </td><td>0.00000000  </td><td>⋯           </td><td>1794        </td><td>Stomach     </td><td>12          </td><td>350         </td><td>820         </td><td>8011        </td><td>0.3349547   </td><td>4.029958e-06</td><td>1.00000000  </td><td>0.016590389 </td></tr>\n",
       "\t<tr><td>42-MG-BA    </td><td>0.2373844   </td><td>0.0000000   </td><td>0           </td><td>0.1712615   </td><td>0.1762817   </td><td>0.0000000   </td><td>0.0000000   </td><td>0           </td><td>0.00000000  </td><td>⋯           </td><td> 217        </td><td>CNS         </td><td> 8          </td><td> 50         </td><td>120         </td><td>1108        </td><td>1.4773333   </td><td>2.486648e-01</td><td>0.71047080  </td><td>0.045000000 </td></tr>\n",
       "\t<tr><td>451Lu       </td><td>0.0000000   </td><td>0.0000000   </td><td>0           </td><td>0.5484138   </td><td>0.0000000   </td><td>0.0000000   </td><td>0.3180342   </td><td>0           </td><td>0.00000000  </td><td>⋯           </td><td> 618        </td><td>Skin        </td><td>24          </td><td>161         </td><td>379         </td><td>3428        </td><td>1.3483013   </td><td>1.267546e-01</td><td>0.50701840  </td><td>0.094370861 </td></tr>\n",
       "\t<tr><td>5637        </td><td>0.1557857   </td><td>0.0609748   </td><td>0           </td><td>0.2520327   </td><td>0.1160934   </td><td>0.0000000   </td><td>0.0000000   </td><td>0           </td><td>0.06786217  </td><td>⋯           </td><td> 603        </td><td>Bladder     </td><td>33          </td><td>158         </td><td>433         </td><td>3476        </td><td>1.6766744   </td><td>3.332793e-03</td><td>0.02635232  </td><td>0.128252788 </td></tr>\n",
       "</tbody>\n",
       "</table>\n"
      ],
      "text/latex": [
       "\\begin{tabular}{r|lllllllllllllllllllllllllllllllllllllllllll}\n",
       " sample & weights.Signature.1 & weights.Signature.2 & weights.Signature.3 & weights.Signature.4 & weights.Signature.5 & weights.Signature.6 & weights.Signature.7 & weights.Signature.8 & weights.Signature.9 & ⋯ & mut\\_tot & tissue & Mut\\_TCW & Mut\\_C & Con\\_TCW & Con\\_C & enrich\\_score & fisher\\_pval & bh\\_adj\\_qval & tca\\_tct\\\\\n",
       "\\hline\n",
       "\t 201T         & 0.1635878    & 0.0000000    & 0            & 0.1220388    & 0.2549915    & 0.0000000    & 0.0000000    & 0            & 0.00000000   & ⋯            &  428         & Lung         & 12           &  97          & 243          & 2173         & 1.1062747    & 7.415535e-01 & 0.99282750   & 0.042713568 \\\\\n",
       "\t 22RV1        & 0.2614879    & 0.0000000    & 0            & 0.0000000    & 0.0000000    & 0.3275242    & 0.0000000    & 0            & 0.00000000   & ⋯            & 1810         & Prostate     &  5           & 392          & 870          & 9003         & 0.1319933    & 1.791741e-11 & 1.00000000   & 0.007352941 \\\\\n",
       "\t 23132-87     & 0.0000000    & 0.0000000    & 0            & 0.0000000    & 0.0000000    & 0.4347781    & 0.0000000    & 0            & 0.00000000   & ⋯            & 1794         & Stomach      & 12           & 350          & 820          & 8011         & 0.3349547    & 4.029958e-06 & 1.00000000   & 0.016590389 \\\\\n",
       "\t 42-MG-BA     & 0.2373844    & 0.0000000    & 0            & 0.1712615    & 0.1762817    & 0.0000000    & 0.0000000    & 0            & 0.00000000   & ⋯            &  217         & CNS          &  8           &  50          & 120          & 1108         & 1.4773333    & 2.486648e-01 & 0.71047080   & 0.045000000 \\\\\n",
       "\t 451Lu        & 0.0000000    & 0.0000000    & 0            & 0.5484138    & 0.0000000    & 0.0000000    & 0.3180342    & 0            & 0.00000000   & ⋯            &  618         & Skin         & 24           & 161          & 379          & 3428         & 1.3483013    & 1.267546e-01 & 0.50701840   & 0.094370861 \\\\\n",
       "\t 5637         & 0.1557857    & 0.0609748    & 0            & 0.2520327    & 0.1160934    & 0.0000000    & 0.0000000    & 0            & 0.06786217   & ⋯            &  603         & Bladder      & 33           & 158          & 433          & 3476         & 1.6766744    & 3.332793e-03 & 0.02635232   & 0.128252788 \\\\\n",
       "\\end{tabular}\n"
      ],
      "text/markdown": [
       "\n",
       "| sample | weights.Signature.1 | weights.Signature.2 | weights.Signature.3 | weights.Signature.4 | weights.Signature.5 | weights.Signature.6 | weights.Signature.7 | weights.Signature.8 | weights.Signature.9 | ⋯ | mut_tot | tissue | Mut_TCW | Mut_C | Con_TCW | Con_C | enrich_score | fisher_pval | bh_adj_qval | tca_tct |\n",
       "|---|---|---|---|---|---|---|---|---|---|---|---|---|---|---|---|---|---|---|---|---|\n",
       "| 201T         | 0.1635878    | 0.0000000    | 0            | 0.1220388    | 0.2549915    | 0.0000000    | 0.0000000    | 0            | 0.00000000   | ⋯            |  428         | Lung         | 12           |  97          | 243          | 2173         | 1.1062747    | 7.415535e-01 | 0.99282750   | 0.042713568  |\n",
       "| 22RV1        | 0.2614879    | 0.0000000    | 0            | 0.0000000    | 0.0000000    | 0.3275242    | 0.0000000    | 0            | 0.00000000   | ⋯            | 1810         | Prostate     |  5           | 392          | 870          | 9003         | 0.1319933    | 1.791741e-11 | 1.00000000   | 0.007352941  |\n",
       "| 23132-87     | 0.0000000    | 0.0000000    | 0            | 0.0000000    | 0.0000000    | 0.4347781    | 0.0000000    | 0            | 0.00000000   | ⋯            | 1794         | Stomach      | 12           | 350          | 820          | 8011         | 0.3349547    | 4.029958e-06 | 1.00000000   | 0.016590389  |\n",
       "| 42-MG-BA     | 0.2373844    | 0.0000000    | 0            | 0.1712615    | 0.1762817    | 0.0000000    | 0.0000000    | 0            | 0.00000000   | ⋯            |  217         | CNS          |  8           |  50          | 120          | 1108         | 1.4773333    | 2.486648e-01 | 0.71047080   | 0.045000000  |\n",
       "| 451Lu        | 0.0000000    | 0.0000000    | 0            | 0.5484138    | 0.0000000    | 0.0000000    | 0.3180342    | 0            | 0.00000000   | ⋯            |  618         | Skin         | 24           | 161          | 379          | 3428         | 1.3483013    | 1.267546e-01 | 0.50701840   | 0.094370861  |\n",
       "| 5637         | 0.1557857    | 0.0609748    | 0            | 0.2520327    | 0.1160934    | 0.0000000    | 0.0000000    | 0            | 0.06786217   | ⋯            |  603         | Bladder      | 33           | 158          | 433          | 3476         | 1.6766744    | 3.332793e-03 | 0.02635232   | 0.128252788  |\n",
       "\n"
      ],
      "text/plain": [
       "  sample   weights.Signature.1 weights.Signature.2 weights.Signature.3\n",
       "1 201T     0.1635878           0.0000000           0                  \n",
       "2 22RV1    0.2614879           0.0000000           0                  \n",
       "3 23132-87 0.0000000           0.0000000           0                  \n",
       "4 42-MG-BA 0.2373844           0.0000000           0                  \n",
       "5 451Lu    0.0000000           0.0000000           0                  \n",
       "6 5637     0.1557857           0.0609748           0                  \n",
       "  weights.Signature.4 weights.Signature.5 weights.Signature.6\n",
       "1 0.1220388           0.2549915           0.0000000          \n",
       "2 0.0000000           0.0000000           0.3275242          \n",
       "3 0.0000000           0.0000000           0.4347781          \n",
       "4 0.1712615           0.1762817           0.0000000          \n",
       "5 0.5484138           0.0000000           0.0000000          \n",
       "6 0.2520327           0.1160934           0.0000000          \n",
       "  weights.Signature.7 weights.Signature.8 weights.Signature.9 ⋯ mut_tot\n",
       "1 0.0000000           0                   0.00000000          ⋯  428   \n",
       "2 0.0000000           0                   0.00000000          ⋯ 1810   \n",
       "3 0.0000000           0                   0.00000000          ⋯ 1794   \n",
       "4 0.0000000           0                   0.00000000          ⋯  217   \n",
       "5 0.3180342           0                   0.00000000          ⋯  618   \n",
       "6 0.0000000           0                   0.06786217          ⋯  603   \n",
       "  tissue   Mut_TCW Mut_C Con_TCW Con_C enrich_score fisher_pval  bh_adj_qval\n",
       "1 Lung     12       97   243     2173  1.1062747    7.415535e-01 0.99282750 \n",
       "2 Prostate  5      392   870     9003  0.1319933    1.791741e-11 1.00000000 \n",
       "3 Stomach  12      350   820     8011  0.3349547    4.029958e-06 1.00000000 \n",
       "4 CNS       8       50   120     1108  1.4773333    2.486648e-01 0.71047080 \n",
       "5 Skin     24      161   379     3428  1.3483013    1.267546e-01 0.50701840 \n",
       "6 Bladder  33      158   433     3476  1.6766744    3.332793e-03 0.02635232 \n",
       "  tca_tct    \n",
       "1 0.042713568\n",
       "2 0.007352941\n",
       "3 0.016590389\n",
       "4 0.045000000\n",
       "5 0.094370861\n",
       "6 0.128252788"
      ]
     },
     "metadata": {},
     "output_type": "display_data"
    }
   ],
   "source": [
    "sigs_enrich_tcw <- merge(sigs_enrich, tca_tct, by = \"sample\")\n",
    "head(sigs_enrich_tcw)"
   ]
  },
  {
   "cell_type": "code",
   "execution_count": 95,
   "metadata": {},
   "outputs": [
    {
     "data": {
      "image/png": "[encoded data removed]",
      "text/plain": [
       "plot without title"
      ]
     },
     "metadata": {},
     "output_type": "display_data"
    }
   ],
   "source": [
    "ggplot(sigs_enrich_tcw, aes(enrich_score, tca_tct)) +\n",
    "  geom_point() +\n",
    "  xlim(0,5) +\n",
    "  ylim(0,0.5)"
   ]
  },
  {
   "cell_type": "code",
   "execution_count": 96,
   "metadata": {},
   "outputs": [
    {
     "data": {
      "image/png": "[encoded data removed]",
      "text/plain": [
       "plot without title"
      ]
     },
     "metadata": {},
     "output_type": "display_data"
    }
   ],
   "source": [
    "ggplot(sigs_enrich_tcw, aes(zAPOBEC.Sig, tca_tct)) +\n",
    "  geom_point() +\n",
    "  xlim(0,0.6) +\n",
    "  ylim(0,0.5)"
   ]
  },
  {
   "cell_type": "code",
   "execution_count": null,
   "metadata": {},
   "outputs": [],
   "source": []
  }
 ],
 "metadata": {
  "kernelspec": {
   "display_name": "R",
   "language": "R",
   "name": "ir"
  },
  "language_info": {
   "codemirror_mode": "r",
   "file_extension": ".r",
   "mimetype": "text/x-r-source",
   "name": "R",
   "pygments_lexer": "r",
   "version": "3.5.1"
  }
 },
 "nbformat": 4,
 "nbformat_minor": 2
}
