{
 "cells": [
  {
   "cell_type": "markdown",
   "metadata": {},
   "source": []
  },
  {
   "cell_type": "code",
   "execution_count": null,
   "metadata": {},
   "outputs": [],
   "source": [
    "import numpy as np\n",
    "np.__version__"
   ]
  },
  {
   "cell_type": "code",
   "execution_count": null,
   "metadata": {},
   "outputs": [],
   "source": [
    "import pandas as pd\n",
    "pd.__version__"
   ]
  },
  {
   "cell_type": "code",
   "execution_count": null,
   "metadata": {},
   "outputs": [],
   "source": [
    "import matplotlib\n",
    "matplotlib.__version__"
   ]
  },
  {
   "cell_type": "code",
   "execution_count": null,
   "metadata": {},
   "outputs": [],
   "source": [
    "import matplotlib.pyplot as plt"
   ]
  },
  {
   "cell_type": "code",
   "execution_count": null,
   "metadata": {},
   "outputs": [],
   "source": [
    "# Adjust plot size\n",
    "#options(repr.plot.width=16, repr.plot.height=6)\n",
    "\n",
    "# For some reason, if this is in the same cell as the import command, it doesn't work.\n",
    "plt.rcParams[\"figure.figsize\"] = [18.0,8.0]"
   ]
  },
  {
   "cell_type": "code",
   "execution_count": null,
   "metadata": {},
   "outputs": [],
   "source": [
    "import scipy\n",
    "scipy.__version__"
   ]
  },
  {
   "cell_type": "code",
   "execution_count": null,
   "metadata": {},
   "outputs": [],
   "source": [
    "from scipy import stats"
   ]
  },
  {
   "cell_type": "code",
   "execution_count": null,
   "metadata": {},
   "outputs": [],
   "source": [
    "import seaborn as sns"
   ]
  },
  {
   "cell_type": "code",
   "execution_count": null,
   "metadata": {},
   "outputs": [],
   "source": [
    "from datetime import datetime"
   ]
  },
  {
   "cell_type": "code",
   "execution_count": null,
   "metadata": {},
   "outputs": [],
   "source": []
  },
  {
   "cell_type": "code",
   "execution_count": null,
   "metadata": {},
   "outputs": [],
   "source": [
    "from pandarallel import pandarallel"
   ]
  },
  {
   "cell_type": "code",
   "execution_count": null,
   "metadata": {},
   "outputs": [],
   "source": [
    "pandarallel.initialize(progress_bar=True)"
   ]
  },
  {
   "cell_type": "code",
   "execution_count": null,
   "metadata": {},
   "outputs": [],
   "source": []
  },
  {
   "cell_type": "code",
   "execution_count": null,
   "metadata": {},
   "outputs": [],
   "source": [
    "default_max_columns=pd.get_option('display.max_columns')"
   ]
  },
  {
   "cell_type": "code",
   "execution_count": null,
   "metadata": {},
   "outputs": [],
   "source": [
    "default_max_rows=pd.get_option('display.max_rows')"
   ]
  },
  {
   "cell_type": "code",
   "execution_count": null,
   "metadata": {},
   "outputs": [],
   "source": [
    "default_precision=pd.get_option('display.precision')"
   ]
  },
  {
   "cell_type": "code",
   "execution_count": null,
   "metadata": {},
   "outputs": [],
   "source": [
    "pd.set_option('display.precision', 2)"
   ]
  },
  {
   "cell_type": "code",
   "execution_count": null,
   "metadata": {},
   "outputs": [],
   "source": [
    "default_threshold=np.get_printoptions()['threshold']"
   ]
  },
  {
   "cell_type": "code",
   "execution_count": null,
   "metadata": {},
   "outputs": [],
   "source": [
    "np.set_printoptions(threshold=10000000)"
   ]
  },
  {
   "cell_type": "code",
   "execution_count": null,
   "metadata": {},
   "outputs": [],
   "source": []
  },
  {
   "cell_type": "markdown",
   "metadata": {},
   "source": [
    "# Read meta data"
   ]
  },
  {
   "cell_type": "code",
   "execution_count": null,
   "metadata": {},
   "outputs": [],
   "source": [
    "meta = pd.read_csv('20210428-EV/metadata.csv')"
   ]
  },
  {
   "cell_type": "code",
   "execution_count": null,
   "metadata": {},
   "outputs": [],
   "source": [
    "meta.head()"
   ]
  },
  {
   "cell_type": "code",
   "execution_count": null,
   "metadata": {},
   "outputs": [],
   "source": [
    "meta.rename(columns={\"Rand 2 Batch_order\": \"subject\"},inplace=True)\n",
    "meta.rename(columns={\"D-plex Sequencing ID\": \"dplex\"},inplace=True)\n",
    "meta.rename(columns={\"Lexogen Sequencing ID\": \"lexogen\"},inplace=True)\n",
    "meta.rename(columns={\"Diagnosis\": \"diag\"},inplace=True)\n",
    "#meta.set_index('subject',inplace=True)"
   ]
  },
  {
   "cell_type": "code",
   "execution_count": null,
   "metadata": {},
   "outputs": [],
   "source": []
  },
  {
   "cell_type": "code",
   "execution_count": null,
   "metadata": {
    "scrolled": true
   },
   "outputs": [],
   "source": [
    "meta"
   ]
  },
  {
   "cell_type": "code",
   "execution_count": null,
   "metadata": {},
   "outputs": [],
   "source": [
    "meta[['disease','idh','x1p19q']] = meta['diag'].str.split(\",\", 2, expand=True)\n",
    "#meta.drop('diag',axis='columns',inplace=True)"
   ]
  },
  {
   "cell_type": "code",
   "execution_count": null,
   "metadata": {
    "scrolled": true
   },
   "outputs": [],
   "source": [
    "meta"
   ]
  },
  {
   "cell_type": "code",
   "execution_count": null,
   "metadata": {},
   "outputs": [],
   "source": []
  },
  {
   "cell_type": "code",
   "execution_count": null,
   "metadata": {},
   "outputs": [],
   "source": []
  },
  {
   "cell_type": "code",
   "execution_count": null,
   "metadata": {},
   "outputs": [],
   "source": []
  },
  {
   "cell_type": "markdown",
   "metadata": {},
   "source": [
    "# Read raw matrix CORE"
   ]
  },
  {
   "cell_type": "code",
   "execution_count": null,
   "metadata": {},
   "outputs": [],
   "source": [
    "#df = pd.read_csv('20210428-EV/dplexonlyreport.csv',index_col=0,header=None)\n",
    "df = pd.read_csv('20210428-EV/20210513b-report.csv.gz',index_col=0,header=None,low_memory=False)"
   ]
  },
  {
   "cell_type": "code",
   "execution_count": null,
   "metadata": {},
   "outputs": [],
   "source": [
    "df.shape"
   ]
  },
  {
   "cell_type": "code",
   "execution_count": null,
   "metadata": {
    "scrolled": true
   },
   "outputs": [],
   "source": [
    "df.head(12)"
   ]
  },
  {
   "cell_type": "code",
   "execution_count": null,
   "metadata": {},
   "outputs": [],
   "source": [
    "df.drop(\"---\",inplace=True)"
   ]
  },
  {
   "cell_type": "code",
   "execution_count": null,
   "metadata": {},
   "outputs": [],
   "source": [
    "df.shape"
   ]
  },
  {
   "cell_type": "code",
   "execution_count": null,
   "metadata": {},
   "outputs": [],
   "source": [
    "df.rename({'  ':'sample'},axis='rows',inplace=True)\n",
    "df.rename({'Subject':'subject'},axis='rows',inplace=True)\n",
    "df.rename({'Trimmer':'trimmer'},axis='rows',inplace=True)"
   ]
  },
  {
   "cell_type": "code",
   "execution_count": null,
   "metadata": {},
   "outputs": [],
   "source": [
    "df"
   ]
  },
  {
   "cell_type": "code",
   "execution_count": null,
   "metadata": {},
   "outputs": [],
   "source": [
    "df=df.T\n",
    "df.head()"
   ]
  },
  {
   "cell_type": "code",
   "execution_count": null,
   "metadata": {},
   "outputs": [],
   "source": []
  },
  {
   "cell_type": "code",
   "execution_count": null,
   "metadata": {},
   "outputs": [],
   "source": [
    "#df=df.merge(meta,left_on='Subject',right_on='subject')\n",
    "df=df.merge(meta,on='subject')\n",
    "df.head()"
   ]
  },
  {
   "cell_type": "code",
   "execution_count": null,
   "metadata": {},
   "outputs": [],
   "source": []
  },
  {
   "cell_type": "code",
   "execution_count": null,
   "metadata": {},
   "outputs": [],
   "source": []
  },
  {
   "cell_type": "code",
   "execution_count": null,
   "metadata": {},
   "outputs": [],
   "source": []
  },
  {
   "cell_type": "code",
   "execution_count": null,
   "metadata": {},
   "outputs": [],
   "source": [
    "#rmsk_family_counts = pd.read_csv('20210428-EV/rmsk_family_counts.csv.gz',index_col=0,header=None,low_memory=False)\n",
    "rmsk_family_counts = pd.read_csv('20210428-EV/rmsk_family_counts.csv.gz',index_col=0,low_memory=False)\n",
    "rmsk_family_counts=rmsk_family_counts.T\n",
    "rmsk_family_counts.columns=\"rf_\"+rmsk_family_counts.columns\n",
    "rmsk_family_counts=rmsk_family_counts.reset_index()\n",
    "#rmsk_family_counts[['sample','trimmer','other']]=rmsk_family_counts['rf_sequence'].str.split(\".\",2,expand=True)\n",
    "#rmsk_family_counts.drop([\"rf_sequence\",\"other\"],inplace=True,axis='columns')\n",
    "rmsk_family_counts[['sample','trimmer','other']]=rmsk_family_counts['index'].str.split(\".\",2,expand=True)\n",
    "rmsk_family_counts.drop([\"index\",\"other\"],inplace=True,axis='columns')\n",
    "rmsk_family_counts.head()"
   ]
  },
  {
   "cell_type": "code",
   "execution_count": null,
   "metadata": {},
   "outputs": [],
   "source": [
    "df=df.merge(rmsk_family_counts,on=['sample','trimmer'])\n",
    "df.shape"
   ]
  },
  {
   "cell_type": "code",
   "execution_count": null,
   "metadata": {},
   "outputs": [],
   "source": []
  },
  {
   "cell_type": "code",
   "execution_count": null,
   "metadata": {},
   "outputs": [],
   "source": [
    "rmsk_class_counts = pd.read_csv('20210428-EV/rmsk_class_counts.csv.gz',index_col=0,low_memory=False)\n",
    "rmsk_class_counts=rmsk_class_counts.T\n",
    "rmsk_class_counts.columns=\"rc_\"+rmsk_class_counts.columns\n",
    "rmsk_class_counts=rmsk_class_counts.reset_index()\n",
    "rmsk_class_counts[['sample','trimmer','other']]=rmsk_class_counts['index'].str.split(\".\",2,expand=True)\n",
    "rmsk_class_counts.drop([\"index\",\"other\"],inplace=True,axis='columns')\n",
    "rmsk_class_counts.head()"
   ]
  },
  {
   "cell_type": "code",
   "execution_count": null,
   "metadata": {},
   "outputs": [],
   "source": [
    "df=df.merge(rmsk_class_counts,on=['sample','trimmer'])\n",
    "df.shape"
   ]
  },
  {
   "cell_type": "code",
   "execution_count": null,
   "metadata": {},
   "outputs": [],
   "source": []
  },
  {
   "cell_type": "code",
   "execution_count": null,
   "metadata": {},
   "outputs": [],
   "source": [
    "rmsk_name_counts = pd.read_csv('20210428-EV/rmsk_name_counts.csv.gz',index_col=0,low_memory=False)\n",
    "rmsk_name_counts=rmsk_name_counts.T\n",
    "rmsk_name_counts.columns=\"rn_\"+rmsk_name_counts.columns\n",
    "rmsk_name_counts=rmsk_name_counts.reset_index()\n",
    "rmsk_name_counts[['sample','trimmer','other']]=rmsk_name_counts['index'].str.split(\".\",2,expand=True)\n",
    "rmsk_name_counts.drop([\"index\",\"other\"],inplace=True,axis='columns')\n",
    "rmsk_name_counts.head()"
   ]
  },
  {
   "cell_type": "code",
   "execution_count": null,
   "metadata": {},
   "outputs": [],
   "source": [
    "df=df.merge(rmsk_name_counts,on=['sample','trimmer'])\n",
    "df.shape"
   ]
  },
  {
   "cell_type": "code",
   "execution_count": null,
   "metadata": {},
   "outputs": [],
   "source": []
  },
  {
   "cell_type": "markdown",
   "metadata": {},
   "source": [
    "gene_counts = pd.read_csv('20210428-EV/gene_counts.csv.gz',index_col=0,low_memory=False)\n",
    "gene_counts=gene_counts.T\n",
    "#gene_counts.columns=\"rf_\"+gene_counts.columns\n",
    "gene_counts=gene_counts.reset_index()\n",
    "gene_counts[['sample','trimmer','other']]=gene_counts['index'].str.split(\".\",2,expand=True)\n",
    "gene_counts.drop([\"index\",\"other\"],inplace=True,axis='columns')\n",
    "gene_counts.head()"
   ]
  },
  {
   "cell_type": "markdown",
   "metadata": {},
   "source": [
    "df=df.merge(gene_counts,on=['sample','trimmer'])\n",
    "df.shape"
   ]
  },
  {
   "cell_type": "code",
   "execution_count": null,
   "metadata": {},
   "outputs": [],
   "source": []
  },
  {
   "cell_type": "markdown",
   "metadata": {},
   "source": [
    "mirna_counts = pd.read_csv('20210428-EV/mirna_counts.csv.gz',index_col=0,low_memory=False)\n",
    "mirna_counts=mirna_counts.T\n",
    "#mirna_counts.columns=\"rf_\"+mirna_counts.columns\n",
    "mirna_counts=mirna_counts.reset_index()\n",
    "mirna_counts[['sample','trimmer','other']]=mirna_counts['index'].str.split(\".\",2,expand=True)\n",
    "mirna_counts.drop([\"index\",\"other\"],inplace=True,axis='columns')\n",
    "mirna_counts.head()"
   ]
  },
  {
   "cell_type": "markdown",
   "metadata": {},
   "source": [
    "df=df.merge(mirna_counts,on=['sample','trimmer'])\n",
    "df.shape"
   ]
  },
  {
   "cell_type": "code",
   "execution_count": null,
   "metadata": {},
   "outputs": [],
   "source": []
  },
  {
   "cell_type": "markdown",
   "metadata": {},
   "source": [
    "mrna_counts = pd.read_csv('20210428-EV/mrna_counts.csv.gz',index_col=0,low_memory=False)\n",
    "mrna_counts=mrna_counts.T\n",
    "#mrna_counts.columns=\"rf_\"+mrna_counts.columns\n",
    "mrna_counts=mrna_counts.reset_index()\n",
    "mrna_counts[['sample','trimmer','other']]=mrna_counts['index'].str.split(\".\",2,expand=True)\n",
    "mrna_counts.drop([\"index\",\"other\"],inplace=True,axis='columns')\n",
    "mrna_counts.head()"
   ]
  },
  {
   "cell_type": "markdown",
   "metadata": {},
   "source": [
    "df=df.merge(mrna_counts,on=['sample','trimmer'])\n",
    "df.shape"
   ]
  },
  {
   "cell_type": "markdown",
   "metadata": {},
   "source": [
    "(2400, 167817)\n"
   ]
  },
  {
   "cell_type": "code",
   "execution_count": null,
   "metadata": {
    "scrolled": false
   },
   "outputs": [],
   "source": [
    "df.head()"
   ]
  },
  {
   "cell_type": "code",
   "execution_count": null,
   "metadata": {},
   "outputs": [],
   "source": []
  },
  {
   "cell_type": "code",
   "execution_count": null,
   "metadata": {},
   "outputs": [],
   "source": []
  },
  {
   "cell_type": "code",
   "execution_count": null,
   "metadata": {},
   "outputs": [],
   "source": []
  },
  {
   "cell_type": "code",
   "execution_count": null,
   "metadata": {},
   "outputs": [],
   "source": []
  },
  {
   "cell_type": "code",
   "execution_count": null,
   "metadata": {},
   "outputs": [],
   "source": []
  },
  {
   "cell_type": "code",
   "execution_count": null,
   "metadata": {},
   "outputs": [],
   "source": []
  },
  {
   "cell_type": "code",
   "execution_count": null,
   "metadata": {
    "scrolled": false
   },
   "outputs": [],
   "source": [
    "df.columns  #.tolist()"
   ]
  },
  {
   "cell_type": "code",
   "execution_count": null,
   "metadata": {
    "scrolled": false
   },
   "outputs": [],
   "source": [
    "#df.columns.tolist().index('bowtie2 mRNA Counts')"
   ]
  },
  {
   "cell_type": "markdown",
   "metadata": {},
   "source": [
    "#mrnas=df.columns[41:91]\n",
    "#mrnas=df.columns[37:99]\n",
    "#a=df.columns.tolist().index('bowtie2 mRNA Counts')+1\n",
    "#b=df.columns.tolist().index('STAR Gene Counts')\n",
    "#mrnas=df.columns[a:b]\n",
    "mrnas=mrna_counts.columns[:-2]\n",
    "mrnas"
   ]
  },
  {
   "cell_type": "code",
   "execution_count": null,
   "metadata": {},
   "outputs": [],
   "source": [
    "#df.columns.tolist().index('STAR Gene Counts')"
   ]
  },
  {
   "cell_type": "markdown",
   "metadata": {},
   "source": [
    "#genes=df.columns[92:142]\n",
    "#genes=df.columns[100:554]\n",
    "#a=df.columns.tolist().index('STAR Gene Counts')+1\n",
    "#b=df.columns.tolist().index('STAR miRNA Counts')\n",
    "#genes=df.columns[a:b]\n",
    "genes=gene_counts.columns[:-2]\n",
    "genes"
   ]
  },
  {
   "cell_type": "code",
   "execution_count": null,
   "metadata": {},
   "outputs": [],
   "source": [
    "#df.columns.tolist().index('STAR miRNA Counts')"
   ]
  },
  {
   "cell_type": "markdown",
   "metadata": {},
   "source": [
    "#mirnas=df.columns[143:193]\n",
    "#mirnas=df.columns[555:1139]\n",
    "#a=df.columns.tolist().index('STAR miRNA Counts')+1\n",
    "#b=df.columns.tolist().index('rmsk Family Counts')\n",
    "##b=df.columns.tolist().index('diamond Family Counts')\n",
    "#mirnas=df.columns[a:b]\n",
    "mirnas=mirna_counts.columns[:-2]\n",
    "mirnas"
   ]
  },
  {
   "cell_type": "code",
   "execution_count": null,
   "metadata": {},
   "outputs": [],
   "source": [
    "#df.columns.tolist().index('diamond Family Counts')"
   ]
  },
  {
   "cell_type": "markdown",
   "metadata": {},
   "source": [
    "#diamond_families=df.columns[194:244]\n",
    "#a=df.columns.tolist().index('diamond Family Counts')+1\n",
    "#b=df.columns.tolist().index('rmsk Family Counts')\n",
    "#diamond_families=df.columns[a:b]\n",
    "\n",
    "diamond_families=[]\n",
    "#diamond_families=diamond_family_counts.columns[:-2]\n",
    "diamond_families"
   ]
  },
  {
   "cell_type": "code",
   "execution_count": null,
   "metadata": {},
   "outputs": [],
   "source": [
    "#df.columns.tolist().index('rmsk Family Counts')"
   ]
  },
  {
   "cell_type": "code",
   "execution_count": null,
   "metadata": {},
   "outputs": [],
   "source": [
    "#rmsk_families=df.columns[245:295]\n",
    "#rmsk_families=df.columns[1140:1196]\n",
    "#a=df.columns.tolist().index('rmsk Family Counts')+1\n",
    "#b=df.columns.tolist().index('rmsk Class Counts')\n",
    "#rmsk_families=df.columns[a:b]\n",
    "rmsk_families=rmsk_family_counts.columns[:-2]\n",
    "rmsk_families"
   ]
  },
  {
   "cell_type": "code",
   "execution_count": null,
   "metadata": {},
   "outputs": [],
   "source": [
    "#df.columns.tolist().index('rmsk Class Counts')"
   ]
  },
  {
   "cell_type": "code",
   "execution_count": null,
   "metadata": {},
   "outputs": [],
   "source": [
    "#rmsk_classes=df.columns[296:312]\n",
    "#rmsk_classes=df.columns[1197:1213]\n",
    "#a=df.columns.tolist().index('rmsk Class Counts')+1\n",
    "#b=df.columns.tolist().index('rmsk Name Counts')\n",
    "#rmsk_classes=df.columns[a:b]\n",
    "rmsk_classes=rmsk_class_counts.columns[:-2]\n",
    "rmsk_classes"
   ]
  },
  {
   "cell_type": "code",
   "execution_count": null,
   "metadata": {},
   "outputs": [],
   "source": [
    "#df.columns.tolist().index('rmsk Name Counts')"
   ]
  },
  {
   "cell_type": "code",
   "execution_count": null,
   "metadata": {},
   "outputs": [],
   "source": [
    "#rmsk_names=df.columns[313:363]\n",
    "#rmsk_names=df.columns[1214:1699]\n",
    "#a=df.columns.tolist().index('rmsk Name Counts')+1\n",
    "#b=df.columns.tolist().index('subject')\n",
    "#rmsk_names=df.columns[a:b]\n",
    "rmsk_names=rmsk_name_counts.columns[:-2]\n",
    "rmsk_names"
   ]
  },
  {
   "cell_type": "code",
   "execution_count": null,
   "metadata": {},
   "outputs": [],
   "source": [
    "#df.columns.tolist().index('subject')"
   ]
  },
  {
   "cell_type": "code",
   "execution_count": null,
   "metadata": {},
   "outputs": [],
   "source": []
  },
  {
   "cell_type": "code",
   "execution_count": null,
   "metadata": {},
   "outputs": [],
   "source": [
    "df['Raw Read Count'] = pd.to_numeric(df['Raw Read Count'], errors='coerce')"
   ]
  },
  {
   "cell_type": "code",
   "execution_count": null,
   "metadata": {},
   "outputs": [],
   "source": [
    "df['Trimmed Read Count'] = pd.to_numeric(df['Trimmed Read Count'], errors='coerce')"
   ]
  },
  {
   "cell_type": "code",
   "execution_count": null,
   "metadata": {},
   "outputs": [],
   "source": [
    "pd.set_option('display.max_rows',None)"
   ]
  },
  {
   "cell_type": "code",
   "execution_count": null,
   "metadata": {
    "scrolled": true
   },
   "outputs": [],
   "source": [
    "#df[['subject','sample','Raw Read Count']].drop_duplicates().sort_values(by='Raw Read Count')"
   ]
  },
  {
   "cell_type": "code",
   "execution_count": null,
   "metadata": {
    "scrolled": true
   },
   "outputs": [],
   "source": [
    "#df[['subject','sample','trimmer','Trimmed Read Count']].drop_duplicates().sort_values(by='Trimmed Read Count')"
   ]
  },
  {
   "cell_type": "code",
   "execution_count": null,
   "metadata": {},
   "outputs": [],
   "source": [
    "pd.set_option('display.max_rows',default_max_rows)"
   ]
  },
  {
   "cell_type": "code",
   "execution_count": null,
   "metadata": {},
   "outputs": [],
   "source": []
  },
  {
   "cell_type": "code",
   "execution_count": null,
   "metadata": {},
   "outputs": [],
   "source": []
  },
  {
   "cell_type": "code",
   "execution_count": null,
   "metadata": {},
   "outputs": [],
   "source": []
  },
  {
   "cell_type": "markdown",
   "metadata": {},
   "source": [
    "# Prepping to ttest all items against all other items"
   ]
  },
  {
   "cell_type": "code",
   "execution_count": null,
   "metadata": {},
   "outputs": [],
   "source": [
    "df['diag'].unique()"
   ]
  },
  {
   "cell_type": "code",
   "execution_count": null,
   "metadata": {},
   "outputs": [],
   "source": [
    "u=df['diag'].unique()\n",
    "diags=u[0:3]\n",
    "diags=np.append(diags,u[4])"
   ]
  },
  {
   "cell_type": "code",
   "execution_count": null,
   "metadata": {},
   "outputs": [],
   "source": [
    "diags"
   ]
  },
  {
   "cell_type": "code",
   "execution_count": null,
   "metadata": {},
   "outputs": [],
   "source": [
    "type(diags)"
   ]
  },
  {
   "cell_type": "code",
   "execution_count": null,
   "metadata": {},
   "outputs": [],
   "source": [
    "diags=diags.tolist()"
   ]
  },
  {
   "cell_type": "code",
   "execution_count": null,
   "metadata": {},
   "outputs": [],
   "source": [
    "diags"
   ]
  },
  {
   "cell_type": "code",
   "execution_count": null,
   "metadata": {},
   "outputs": [],
   "source": []
  },
  {
   "cell_type": "code",
   "execution_count": null,
   "metadata": {},
   "outputs": [],
   "source": [
    "# Why was this here?\n",
    "\n",
    "#import warnings\n",
    "#warnings.filterwarnings(\"ignore\", category=np.VisibleDeprecationWarning) "
   ]
  },
  {
   "cell_type": "code",
   "execution_count": null,
   "metadata": {},
   "outputs": [],
   "source": []
  },
  {
   "cell_type": "markdown",
   "metadata": {},
   "source": [
    "pca plots"
   ]
  },
  {
   "cell_type": "code",
   "execution_count": null,
   "metadata": {},
   "outputs": [],
   "source": []
  },
  {
   "cell_type": "code",
   "execution_count": null,
   "metadata": {},
   "outputs": [],
   "source": [
    "def ttests_boxplots_and_heatmaps(localdf,columns,box_p=0.05,heat_p=0.15):\n",
    "    select_p_values=[]\n",
    "    for col in columns:\n",
    "\n",
    "        if ( col not in localdf.columns ):\n",
    "            continue\n",
    "\n",
    "        for labkit in localdf['Lab kit'].unique():\n",
    "            #\"D-plex\",\"Lexogen\":\n",
    "            for trimmer in 'bbduk2','cutadapt2':\n",
    "                #localdf['Trimmer'].unique():\n",
    "                #\"bbduk1\",\"bbduk2\",\"bbduk3\",\"cutadapt1\",\"cutadapt2\",\"cutadapt3\":\n",
    "                for diag in diags:\n",
    "                    others=diags.copy()\n",
    "                    others.remove(diag)\n",
    "                    for other in others:\n",
    "                        t, p = stats.ttest_ind(\n",
    "                            localdf[((localdf[\"Lab kit\"]==labkit) &\n",
    "                                     (localdf[\"trimmer\"]==trimmer) & \n",
    "                                (localdf[\"diag\"]==diag))][col],\n",
    "                            localdf[((localdf[\"Lab kit\"]==labkit) &\n",
    "                                     (localdf[\"trimmer\"]==trimmer) & \n",
    "                                (localdf[\"diag\"]==other))][col])\n",
    "                        if p < heat_p:\n",
    "                            select_p_values.append([abs(t),p,col,labkit,trimmer])\n",
    "\n",
    "    pdf = pd.DataFrame(select_p_values, columns=['t','p','col','labkit','trimmer'])                        \n",
    "    pdf=pdf.drop_duplicates().sort_values('p')\n",
    "\n",
    "    for index, row in pdf.iterrows():\n",
    "        if row['p'] < box_p:\n",
    "            print(\" p : \"+str(row['p'])+\"  ( t : \"+str(row['t'])+\" ) :  \"+\n",
    "                  row['labkit']+\"  :  \"+row['trimmer']+\"  :  \"+row['col'])\n",
    "            print(\"Control and blanks\")\n",
    "            print(localdf[\n",
    "                (localdf['diag']=='V01 control (S1),,') &\n",
    "                (localdf[\"Lab kit\"]==row['labkit']) &\n",
    "                (localdf[\"trimmer\"]==row['trimmer'])][row['col']])\n",
    "            print(localdf[\n",
    "                (localdf['diag']=='blank 2 (C1),,') &\n",
    "                (localdf[\"Lab kit\"]==row['labkit']) &\n",
    "                (localdf[\"trimmer\"]==row['trimmer'])][row['col']])\n",
    "            print(localdf[\n",
    "                (localdf['diag']=='blank1 (C1),,') &\n",
    "                (localdf[\"Lab kit\"]==row['labkit']) &\n",
    "                (localdf[\"trimmer\"]==row['trimmer'])][row['col']])\n",
    "                        \n",
    "            localdf[((localdf[\"Lab kit\"]==row['labkit']) &\n",
    "                     (localdf[\"trimmer\"]==row['trimmer']))].boxplot(\n",
    "                column=row['col'],by=['diag'])\n",
    "            plt.title(row['col'] + \" Normalized by Trimmed Read Count\")\n",
    "            plt.xticks(rotation=75,ha='right')\n",
    "            plt.show()\n",
    "\n",
    "    selected=['subject','sample','Lab kit','trimmer','diag','idh']\n",
    "    selected=np.append(selected,pdf['col'])\n",
    "    selected=np.unique(selected)\n",
    "\n",
    "    #['Lab kit' 'NR_029609.1' 'trimmer' 'diag' 'idh' 'sample' 'subject']\n",
    "    if len(selected) > 7:\n",
    "        for trimmer in 'bbduk2','cutadapt2':\n",
    "            for labkit in dfn['Lab kit'].unique():\n",
    "                tmp=localdf[selected].copy()\n",
    "                tmp=tmp[(tmp['trimmer']==trimmer) & (tmp['Lab kit']==labkit)]\n",
    "                tmp=tmp.drop('trimmer',axis='columns')\n",
    "                tmp=tmp.drop('Lab kit',axis='columns')\n",
    "                tmp.set_index(['subject','sample','diag','idh'],inplace=True)\n",
    "                \n",
    "                #tmp-=tmp.min() # This may almost always be 0 now.\n",
    "                tmp/=tmp.max() # given that there should be no NAs now, coule let clustermap do this\n",
    "                # ...\n",
    "                #standard_scale int or None, optional\n",
    "                #Either 0 (rows) or 1 (columns).\n",
    "                #Whether or not to standardize that dimension, meaning for each row or column,\n",
    "                #subtract the minimum and divide each by its maximum.\n",
    "                # how would that deal with 0s or empty cells\n",
    "\n",
    "                tmp=tmp.fillna(0) # Somehow, some scaled values become NaN so keep this\n",
    "                \n",
    "                tmp.reset_index(inplace=True)\n",
    "\n",
    "                #tmp1=tmp.sort_values(['diag']).T\n",
    "                tmp=tmp.sort_values(['idh','diag'])\n",
    "                #print(tmp.head())\n",
    "                tmp.drop(['subject'],inplace=True,axis='columns')\n",
    "                tmp.set_index(['sample','idh'],inplace=True)\n",
    "                \n",
    "                diagnoses=tmp.pop('diag')\n",
    "                #lut = dict(zip(diagnoses.unique(), \"rgbcmykb\"))\n",
    "                #col_colors = diagnoses.map(lut)\n",
    "                #print(col_colors)\n",
    "                #print(tmp.columns)\n",
    "                \n",
    "                tmp=tmp.T\n",
    "\n",
    "                #print('pal')\n",
    "                network_pal = sns.cubehelix_palette(len(diagnoses.unique()),\n",
    "                                    light=.9, dark=.1, reverse=True,\n",
    "                                    start=1, rot=-2)\n",
    "                #print(network_pal)\n",
    "                network_pal\n",
    "                #print('lut')\n",
    "                network_lut = dict(zip(diagnoses.unique(), network_pal))\n",
    "                #print(network_lut)\n",
    "                #print('labels')\n",
    "                # Convert the palette to vectors that will be drawn on the side of the matrix\n",
    "                network_labels = diagnoses\n",
    "                #print(network_labels)\n",
    "                network_colors = pd.Series(network_labels, index=tmp.columns).map(network_lut)                \n",
    "                #print('colors')\n",
    "                #print(network_colors)\n",
    "                \n",
    "                # from http://dawnmy.github.io/2016/10/24/Plot-heatmaap-with-side-color-indicating-the-class-of-variables/\n",
    "                # Create a custom palette to identify the networks\n",
    "                #network_pal = sns.cubehelix_palette(len(used_networks),\n",
    "                #                    light=.9, dark=.1, reverse=True,\n",
    "                #                    start=1, rot=-2)\n",
    "                #network_lut = dict(zip(map(str, used_networks), network_pal))\n",
    "\n",
    "                # Convert the palette to vectors that will be drawn on the side of the matrix\n",
    "                #network_labels = df.columns.get_level_values(\"network\")\n",
    "                #network_colors = pd.Series(network_labels, index=df.columns).map(network_lut)                \n",
    "   \n",
    "                # Create a custom colormap for the heatmap values\n",
    "                #cmap = sns.diverging_palette(h_neg=210, h_pos=350, s=90, l=30, as_cmap=True)\n",
    "\n",
    "                # Draw the full plot\n",
    "                #g = sns.clustermap(df.corr(),\n",
    "\n",
    "                #                 # Turn off the clustering\n",
    "                #                 row_cluster=False, col_cluster=False,\n",
    "\n",
    "                #                  # Add colored class labels\n",
    "                #                  row_colors=network_colors, col_colors=network_colors,\n",
    "\n",
    "                #                  # Make the plot look better when many rows/cols\n",
    "                #                  linewidths=0, xticklabels=False, yticklabels=False)\n",
    "\n",
    "                # Draw the legend bar for the classes                 \n",
    "                #for label in network_labels.unique():\n",
    "                #    g.ax_col_dendrogram.bar(0, 0, color=network_lut[label],\n",
    "                #                            label=label, linewidth=0)\n",
    "                #g.ax_col_dendrogram.legend(loc=\"center\", ncol=5)\n",
    "\n",
    "                \n",
    "                g=sns.clustermap(tmp,col_cluster=False,figsize=(15,20),cmap=\"Spectral\",col_colors=network_colors)\n",
    "                g.fig.suptitle(\"Clustermap 1 : \"+trimmer+\" \"+labkit)\n",
    "                plt.setp(g.ax_heatmap.get_xticklabels(), rotation=75, horizontalalignment='right')\n",
    "\n",
    "                # Draw the legend bar for the classes                 \n",
    "                for label in network_labels.unique():\n",
    "                    g.ax_col_dendrogram.bar(0, 0, color=network_lut[label],\n",
    "                                            label=label, linewidth=0)\n",
    "                g.ax_col_dendrogram.legend(loc=\"center\", ncol=4)\n",
    "                \n",
    "                # Adjust the postion of the main colorbar for the heatmap\n",
    "                #g.cax.set_position([.97, .2, .03, .45])\n",
    "                g.cax.set_position([0, .15, .005, .65])\n",
    "                plt.show()\n",
    "\n",
    "                g=sns.clustermap(tmp,figsize=(15,20),cmap=\"Spectral\",col_colors=network_colors)\n",
    "                g.fig.suptitle(\"Clustermap 2 : \"+trimmer+\" \"+labkit)\n",
    "                plt.setp(g.ax_heatmap.get_xticklabels(), rotation=75, horizontalalignment='right')\n",
    "\n",
    "                # Draw the legend bar for the classes                 \n",
    "                for label in network_labels.unique():\n",
    "                    g.ax_col_dendrogram.bar(0, 0, color=network_lut[label],\n",
    "                                            label=label, linewidth=0)\n",
    "                g.ax_col_dendrogram.legend(loc=\"center\", ncol=4)\n",
    "                                \n",
    "                # Adjust the postion of the main colorbar for the heatmap\n",
    "                # [dist from left,dist from bottom?,width?,height?]\n",
    "                g.cax.set_position([0, .15, .005, .65])\n",
    "                plt.show()  \n",
    "    else:\n",
    "        print(\"Not enough data to produce cluster maps\")"
   ]
  },
  {
   "cell_type": "code",
   "execution_count": null,
   "metadata": {},
   "outputs": [],
   "source": []
  },
  {
   "cell_type": "code",
   "execution_count": null,
   "metadata": {},
   "outputs": [],
   "source": []
  },
  {
   "cell_type": "markdown",
   "metadata": {},
   "source": [
    "# Normalize by Trimmed Read Count"
   ]
  },
  {
   "cell_type": "code",
   "execution_count": null,
   "metadata": {},
   "outputs": [],
   "source": [
    "dfn=df.copy()"
   ]
  },
  {
   "cell_type": "code",
   "execution_count": null,
   "metadata": {
    "scrolled": false
   },
   "outputs": [],
   "source": [
    "dfn.head()"
   ]
  },
  {
   "cell_type": "code",
   "execution_count": null,
   "metadata": {},
   "outputs": [],
   "source": []
  },
  {
   "cell_type": "markdown",
   "metadata": {},
   "source": [
    "def normalize(row,cols):\n",
    "    #return math.sin(x.a**2) + math.sin(x.b**2)\n",
    "    return 1e9*row[cols]/row['Trimmed Read Count']"
   ]
  },
  {
   "cell_type": "markdown",
   "metadata": {},
   "source": [
    "def vector_normalize(row,cols):\n",
    "    #return math.sin(x.a**2) + math.sin(x.b**2)\n",
    "    return 1e9*row[cols].values/row['Trimmed Read Count']"
   ]
  },
  {
   "cell_type": "code",
   "execution_count": null,
   "metadata": {},
   "outputs": [],
   "source": [
    "datetime.now().strftime(\"%H:%M:%S\")"
   ]
  },
  {
   "cell_type": "code",
   "execution_count": null,
   "metadata": {},
   "outputs": [],
   "source": [
    "dfn[rmsk_classes]=(1e9*dfn[rmsk_classes].values)/dfn[['Trimmed Read Count']].values\n",
    "#dfn[rmsk_classes]=np.divide((1e9*dfn[rmsk_classes].values),dfn[['Trimmed Read Count']].values)\n",
    "\n",
    "#dfn[rmsk_classes]=dfn[rmsk_classes].divide(dfn['Trimmed Read Count'], axis=\"index\")*1e9\n",
    "#dfn[rmsk_classes]=dfn.parallel_apply(vector_normalize,args=(rmsk_classes,),axis='columns')\n",
    "#dfn[rmsk_classes]=dfn.parallel_apply(normalize,args=(rmsk_classes,),axis='columns')\n",
    "#    lambda row: 1e9*row[rmsk_classes]/row['Trimmed Read Count'], axis='columns' )\n"
   ]
  },
  {
   "cell_type": "code",
   "execution_count": null,
   "metadata": {
    "scrolled": true
   },
   "outputs": [],
   "source": [
    "#np.divide((1e9*dfn[rmsk_classes].values),dfn[['Trimmed Read Count']].values)"
   ]
  },
  {
   "cell_type": "code",
   "execution_count": null,
   "metadata": {},
   "outputs": [],
   "source": [
    "#1e9*dfn[rmsk_classes].head().values"
   ]
  },
  {
   "cell_type": "code",
   "execution_count": null,
   "metadata": {},
   "outputs": [],
   "source": [
    "#dfn[rmsk_classes]=dfn[rmsk_classes].divide(dfn['Trimmed Read Count'], axis=\"index\")*1e9\n",
    "#dfn[rmsk_classes]=np.divide((1e9*dfn[rmsk_classes].values),dfn[['Trimmed Read Count']].values)"
   ]
  },
  {
   "cell_type": "code",
   "execution_count": null,
   "metadata": {
    "scrolled": true
   },
   "outputs": [],
   "source": [
    "#dfn[rmsk_classes].values"
   ]
  },
  {
   "cell_type": "code",
   "execution_count": null,
   "metadata": {},
   "outputs": [],
   "source": [
    "#dfn[['Trimmed Read Count']].shape"
   ]
  },
  {
   "cell_type": "code",
   "execution_count": null,
   "metadata": {},
   "outputs": [],
   "source": [
    "#dfn['Trimmed Read Count'].head().to_numpy()"
   ]
  },
  {
   "cell_type": "code",
   "execution_count": null,
   "metadata": {},
   "outputs": [],
   "source": [
    "#dfn[rmsk_classes].head()"
   ]
  },
  {
   "cell_type": "code",
   "execution_count": null,
   "metadata": {},
   "outputs": [],
   "source": []
  },
  {
   "cell_type": "code",
   "execution_count": null,
   "metadata": {},
   "outputs": [],
   "source": [
    "datetime.now().strftime(\"%H:%M:%S\")"
   ]
  },
  {
   "cell_type": "code",
   "execution_count": null,
   "metadata": {},
   "outputs": [],
   "source": [
    "dfn[rmsk_families]=(1e9*dfn[rmsk_families].values)/dfn[['Trimmed Read Count']].values\n",
    "#dfn[rmsk_families]=dfn[rmsk_families].divide(dfn['Trimmed Read Count'], axis=\"index\")*1e9\n",
    "#dfn[rmsk_families]=dfn.parallel_apply(normalize,args=(rmsk_families,),axis='columns')\n",
    "#    lambda row: 1e9*row[rmsk_families]/row['Trimmed Read Count'], axis='columns' )\n"
   ]
  },
  {
   "cell_type": "code",
   "execution_count": null,
   "metadata": {},
   "outputs": [],
   "source": [
    "datetime.now().strftime(\"%H:%M:%S\")"
   ]
  },
  {
   "cell_type": "code",
   "execution_count": null,
   "metadata": {},
   "outputs": [],
   "source": [
    "dfn[rmsk_names]=(1e9*dfn[rmsk_names].values)/dfn[['Trimmed Read Count']].values\n",
    "#dfn[rmsk_names]=dfn.parallel_apply(normalize,args=(rmsk_names,),axis='columns')\n",
    "#    lambda row: 1e9*row[rmsk_names/row['Trimmed Read Count'], axis='columns' )\n"
   ]
  },
  {
   "cell_type": "code",
   "execution_count": null,
   "metadata": {},
   "outputs": [],
   "source": [
    "datetime.now().strftime(\"%H:%M:%S\")"
   ]
  },
  {
   "cell_type": "markdown",
   "metadata": {},
   "source": [
    "dfn[mirnas]=(1e9*dfn[mirnas].values)/dfn[['Trimmed Read Count']].values\n",
    "#dfn[mirnas]=dfn.parallel_apply(normalize,args=(mirnas,),axis='columns')\n",
    "#    lambda row: 1e9*row[mirnas]/row['Trimmed Read Count'], axis='columns' )"
   ]
  },
  {
   "cell_type": "code",
   "execution_count": null,
   "metadata": {},
   "outputs": [],
   "source": [
    "datetime.now().strftime(\"%H:%M:%S\")"
   ]
  },
  {
   "cell_type": "markdown",
   "metadata": {},
   "source": [
    "dfn[genes]=(1e9*dfn[genes].values)/dfn[['Trimmed Read Count']].values\n",
    "#dfn[genes]=dfn.parallel_apply(normalize,args=(genes,),axis='columns')\n",
    "#    lambda row: 1e9*row[genes]/row['Trimmed Read Count'], axis='columns' )"
   ]
  },
  {
   "cell_type": "code",
   "execution_count": null,
   "metadata": {},
   "outputs": [],
   "source": [
    "datetime.now().strftime(\"%H:%M:%S\")"
   ]
  },
  {
   "cell_type": "markdown",
   "metadata": {},
   "source": [
    "dfn[mrnas]=(1e9*dfn[mrnas].values)/dfn[['Trimmed Read Count']].values\n",
    "#dfn[mrnas]=dfn.parallel_apply(normalize,args=(mrnas,),axis='columns')\n",
    "#    lambda row: 1e9*row[mrnas]/row['Trimmed Read Count'], axis='columns' )"
   ]
  },
  {
   "cell_type": "code",
   "execution_count": null,
   "metadata": {},
   "outputs": [],
   "source": [
    "datetime.now().strftime(\"%H:%M:%S\")"
   ]
  },
  {
   "cell_type": "code",
   "execution_count": null,
   "metadata": {},
   "outputs": [],
   "source": [
    "#dfn[diamond_families]=dfn.parallel_apply(normalize,args=(diamond_families,),axis='columns')\n",
    "#    lambda row: 1e9*row[diamond_families]/row['Trimmed Read Count'], axis='columns' )"
   ]
  },
  {
   "cell_type": "code",
   "execution_count": null,
   "metadata": {},
   "outputs": [],
   "source": [
    "datetime.now().strftime(\"%H:%M:%S\")"
   ]
  },
  {
   "cell_type": "code",
   "execution_count": null,
   "metadata": {},
   "outputs": [],
   "source": []
  },
  {
   "cell_type": "code",
   "execution_count": null,
   "metadata": {},
   "outputs": [],
   "source": [
    "#a=dfn.columns.tolist().index('x1p19q')+1\n",
    "#a"
   ]
  },
  {
   "cell_type": "code",
   "execution_count": null,
   "metadata": {
    "scrolled": true
   },
   "outputs": [],
   "source": [
    "#cols=dfn.columns[a:]\n",
    "#cols"
   ]
  },
  {
   "cell_type": "code",
   "execution_count": null,
   "metadata": {},
   "outputs": [],
   "source": [
    "dfn.head()"
   ]
  },
  {
   "cell_type": "code",
   "execution_count": null,
   "metadata": {},
   "outputs": [],
   "source": []
  },
  {
   "cell_type": "code",
   "execution_count": null,
   "metadata": {},
   "outputs": [],
   "source": [
    "datetime.now().strftime(\"%H:%M:%S\")"
   ]
  },
  {
   "cell_type": "markdown",
   "metadata": {},
   "source": [
    "for c in ['CDKN2A','CDKN2A-DT','CDKN2AIP','CDKN2AIPNL','CDKN2B','CDKN2B-AS1',\n",
    "    'EGFR','EGFR-AS1','IDH1','IDH1-AS1','IDH2','IDH2-DT','NF1','NOTCH1',\n",
    "    'RB1','RB1CC1','RB1-DT','TERT','TP53']:\n",
    "        if( c not in dfn.columns ):\n",
    "            print(\"Missing \"+c) "
   ]
  },
  {
   "cell_type": "code",
   "execution_count": null,
   "metadata": {},
   "outputs": [],
   "source": [
    "datetime.now().strftime(\"%H:%M:%S\")"
   ]
  },
  {
   "cell_type": "code",
   "execution_count": null,
   "metadata": {},
   "outputs": [],
   "source": []
  },
  {
   "cell_type": "code",
   "execution_count": null,
   "metadata": {},
   "outputs": [],
   "source": []
  },
  {
   "cell_type": "markdown",
   "metadata": {},
   "source": [
    "# Select Genes"
   ]
  },
  {
   "cell_type": "markdown",
   "metadata": {
    "scrolled": true
   },
   "source": [
    "ttests_boxplots_and_heatmaps(dfn,['CDKN2A','CDKN2A-DT','CDKN2AIP','CDKN2AIPNL','CDKN2B','CDKN2B-AS1','EGFR',\n",
    "                                  'EGFR-AS1','IDH1','IDH1-AS1','IDH2','IDH2-DT','NF1','NOTCH1','RB1','RB1CC1',\n",
    "                                  'RB1-DT','TERT','TP53'],box_p=0.1,heat_p=0.2)"
   ]
  },
  {
   "cell_type": "code",
   "execution_count": null,
   "metadata": {},
   "outputs": [],
   "source": [
    "datetime.now().strftime(\"%H:%M:%S\")"
   ]
  },
  {
   "cell_type": "markdown",
   "metadata": {},
   "source": [
    "# Genes"
   ]
  },
  {
   "cell_type": "markdown",
   "metadata": {
    "scrolled": true
   },
   "source": [
    "ttests_boxplots_and_heatmaps(dfn,genes)"
   ]
  },
  {
   "cell_type": "code",
   "execution_count": null,
   "metadata": {},
   "outputs": [],
   "source": [
    "datetime.now().strftime(\"%H:%M:%S\")"
   ]
  },
  {
   "cell_type": "markdown",
   "metadata": {},
   "source": [
    "# miRNA"
   ]
  },
  {
   "cell_type": "markdown",
   "metadata": {
    "scrolled": true
   },
   "source": [
    "ttests_boxplots_and_heatmaps(dfn,mirnas)"
   ]
  },
  {
   "cell_type": "code",
   "execution_count": null,
   "metadata": {},
   "outputs": [],
   "source": [
    "datetime.now().strftime(\"%H:%M:%S\")"
   ]
  },
  {
   "cell_type": "markdown",
   "metadata": {},
   "source": [
    "# mRNA_Prot"
   ]
  },
  {
   "cell_type": "markdown",
   "metadata": {
    "scrolled": true
   },
   "source": [
    "ttests_boxplots_and_heatmaps(dfn,mrnas)"
   ]
  },
  {
   "cell_type": "code",
   "execution_count": null,
   "metadata": {},
   "outputs": [],
   "source": [
    "datetime.now().strftime(\"%H:%M:%S\")"
   ]
  },
  {
   "cell_type": "markdown",
   "metadata": {},
   "source": [
    "# Diamond NR Families"
   ]
  },
  {
   "cell_type": "code",
   "execution_count": null,
   "metadata": {},
   "outputs": [],
   "source": [
    "#ttests_boxplots_and_heatmaps(dfn,diamond_families)"
   ]
  },
  {
   "cell_type": "code",
   "execution_count": null,
   "metadata": {},
   "outputs": [],
   "source": [
    "datetime.now().strftime(\"%H:%M:%S\")"
   ]
  },
  {
   "cell_type": "markdown",
   "metadata": {},
   "source": [
    "# RMSK Classes"
   ]
  },
  {
   "cell_type": "code",
   "execution_count": null,
   "metadata": {
    "scrolled": true
   },
   "outputs": [],
   "source": [
    "ttests_boxplots_and_heatmaps(dfn,rmsk_classes)"
   ]
  },
  {
   "cell_type": "code",
   "execution_count": null,
   "metadata": {},
   "outputs": [],
   "source": [
    "datetime.now().strftime(\"%H:%M:%S\")"
   ]
  },
  {
   "cell_type": "markdown",
   "metadata": {},
   "source": [
    "# RMSK Families"
   ]
  },
  {
   "cell_type": "code",
   "execution_count": null,
   "metadata": {
    "scrolled": true
   },
   "outputs": [],
   "source": [
    "ttests_boxplots_and_heatmaps(dfn,rmsk_families)"
   ]
  },
  {
   "cell_type": "code",
   "execution_count": null,
   "metadata": {},
   "outputs": [],
   "source": [
    "datetime.now().strftime(\"%H:%M:%S\")"
   ]
  },
  {
   "cell_type": "markdown",
   "metadata": {},
   "source": [
    "# RMSK Names"
   ]
  },
  {
   "cell_type": "code",
   "execution_count": null,
   "metadata": {
    "scrolled": false
   },
   "outputs": [],
   "source": [
    "ttests_boxplots_and_heatmaps(dfn,rmsk_names)"
   ]
  },
  {
   "cell_type": "code",
   "execution_count": null,
   "metadata": {},
   "outputs": [],
   "source": [
    "datetime.now().strftime(\"%H:%M:%S\")"
   ]
  },
  {
   "cell_type": "code",
   "execution_count": null,
   "metadata": {},
   "outputs": [],
   "source": []
  },
  {
   "cell_type": "code",
   "execution_count": null,
   "metadata": {},
   "outputs": [],
   "source": [
    "plt.rcParams[\"figure.figsize\"] = [18.0,8.0]"
   ]
  },
  {
   "cell_type": "code",
   "execution_count": null,
   "metadata": {},
   "outputs": [],
   "source": [
    "pd.set_option('display.max_columns', default_max_columns)"
   ]
  },
  {
   "cell_type": "code",
   "execution_count": null,
   "metadata": {},
   "outputs": [],
   "source": [
    "pd.set_option('display.max_rows',default_max_rows)"
   ]
  },
  {
   "cell_type": "code",
   "execution_count": null,
   "metadata": {},
   "outputs": [],
   "source": [
    "pd.set_option('display.precision', default_precision)"
   ]
  },
  {
   "cell_type": "code",
   "execution_count": null,
   "metadata": {},
   "outputs": [],
   "source": []
  },
  {
   "cell_type": "code",
   "execution_count": null,
   "metadata": {},
   "outputs": [],
   "source": []
  },
  {
   "cell_type": "code",
   "execution_count": null,
   "metadata": {},
   "outputs": [],
   "source": []
  },
  {
   "cell_type": "code",
   "execution_count": null,
   "metadata": {},
   "outputs": [],
   "source": []
  }
 ],
 "metadata": {
  "kernelspec": {
   "display_name": "Python 3",
   "language": "python",
   "name": "python3"
  },
  "language_info": {
   "codemirror_mode": {
    "name": "ipython",
    "version": 3
   },
   "file_extension": ".py",
   "mimetype": "text/x-python",
   "name": "python",
   "nbconvert_exporter": "python",
   "pygments_lexer": "ipython3",
   "version": "3.8.10"
  }
 },
 "nbformat": 4,
 "nbformat_minor": 2
}
