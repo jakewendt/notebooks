{
 "cells": [
  {
   "cell_type": "markdown",
   "metadata": {},
   "source": [
    "\n",
    "focused.csv.gz and focused.T.csv.gz are rounded to 1000.\n"
   ]
  },
  {
   "cell_type": "code",
   "execution_count": 1,
   "metadata": {},
   "outputs": [
    {
     "name": "stdout",
     "output_type": "stream",
     "text": [
      "1.19.5\n"
     ]
    }
   ],
   "source": [
    "import numpy as np\n",
    "print(np.__version__)"
   ]
  },
  {
   "cell_type": "code",
   "execution_count": 2,
   "metadata": {},
   "outputs": [
    {
     "name": "stdout",
     "output_type": "stream",
     "text": [
      "1.1.5\n"
     ]
    }
   ],
   "source": [
    "import pandas as pd\n",
    "print(pd.__version__)"
   ]
  },
  {
   "cell_type": "code",
   "execution_count": 3,
   "metadata": {},
   "outputs": [
    {
     "data": {
      "text/plain": [
       "'3.3.4'"
      ]
     },
     "execution_count": 3,
     "metadata": {},
     "output_type": "execute_result"
    }
   ],
   "source": [
    "import matplotlib\n",
    "matplotlib.__version__"
   ]
  },
  {
   "cell_type": "code",
   "execution_count": 4,
   "metadata": {},
   "outputs": [],
   "source": [
    "import matplotlib.pyplot as plt"
   ]
  },
  {
   "cell_type": "code",
   "execution_count": 5,
   "metadata": {},
   "outputs": [],
   "source": [
    "# Adjust plot size\n",
    "#options(repr.plot.width=16, repr.plot.height=6)\n",
    "\n",
    "# For some reason, if this is in the same cell as the import command, it doesn't work.\n",
    "plt.rcParams[\"figure.figsize\"] = [18.0,8.0]"
   ]
  },
  {
   "cell_type": "code",
   "execution_count": null,
   "metadata": {},
   "outputs": [],
   "source": []
  },
  {
   "cell_type": "code",
   "execution_count": 6,
   "metadata": {},
   "outputs": [],
   "source": [
    "max_rows=pd.get_option('display.max_rows')"
   ]
  },
  {
   "cell_type": "code",
   "execution_count": null,
   "metadata": {},
   "outputs": [],
   "source": []
  },
  {
   "cell_type": "markdown",
   "metadata": {},
   "source": [
    "# Read Metadata 1"
   ]
  },
  {
   "cell_type": "code",
   "execution_count": 7,
   "metadata": {},
   "outputs": [],
   "source": [
    "mt1=pd.read_csv(\"TCGA/metadata.cart.TCGA.GBM-LGG.WGS.bam.2020-07-17.csv\",header=None,\n",
    " names=['submitter','days_to_death','gender','disease_type','center_name'])"
   ]
  },
  {
   "cell_type": "code",
   "execution_count": 8,
   "metadata": {},
   "outputs": [
    {
     "data": {
      "text/plain": [
       "(127, 5)"
      ]
     },
     "execution_count": 8,
     "metadata": {},
     "output_type": "execute_result"
    }
   ],
   "source": [
    "mt1.shape"
   ]
  },
  {
   "cell_type": "code",
   "execution_count": 9,
   "metadata": {},
   "outputs": [],
   "source": [
    "mt1.rename(columns={\"submitter\": \"subject\"},inplace=True)\n",
    "mt1.rename(columns={\"gender\": \"gender1\"},inplace=True)"
   ]
  },
  {
   "cell_type": "code",
   "execution_count": 10,
   "metadata": {},
   "outputs": [
    {
     "data": {
      "text/html": [
       "<div>\n",
       "<style scoped>\n",
       "    .dataframe tbody tr th:only-of-type {\n",
       "        vertical-align: middle;\n",
       "    }\n",
       "\n",
       "    .dataframe tbody tr th {\n",
       "        vertical-align: top;\n",
       "    }\n",
       "\n",
       "    .dataframe thead th {\n",
       "        text-align: right;\n",
       "    }\n",
       "</style>\n",
       "<table border=\"1\" class=\"dataframe\">\n",
       "  <thead>\n",
       "    <tr style=\"text-align: right;\">\n",
       "      <th></th>\n",
       "      <th>subject</th>\n",
       "      <th>days_to_death</th>\n",
       "      <th>gender1</th>\n",
       "      <th>disease_type</th>\n",
       "      <th>center_name</th>\n",
       "    </tr>\n",
       "  </thead>\n",
       "  <tbody>\n",
       "    <tr>\n",
       "      <th>0</th>\n",
       "      <td>02-2483</td>\n",
       "      <td>NaN</td>\n",
       "      <td>male</td>\n",
       "      <td>Glioblastoma Multiforme</td>\n",
       "      <td>Broad Institute of MIT and Harvard</td>\n",
       "    </tr>\n",
       "    <tr>\n",
       "      <th>1</th>\n",
       "      <td>02-2485</td>\n",
       "      <td>NaN</td>\n",
       "      <td>male</td>\n",
       "      <td>Glioblastoma Multiforme</td>\n",
       "      <td>Broad Institute of MIT and Harvard</td>\n",
       "    </tr>\n",
       "    <tr>\n",
       "      <th>2</th>\n",
       "      <td>06-0125</td>\n",
       "      <td>1448.0</td>\n",
       "      <td>female</td>\n",
       "      <td>Glioblastoma Multiforme</td>\n",
       "      <td>Broad Institute of MIT and Harvard</td>\n",
       "    </tr>\n",
       "    <tr>\n",
       "      <th>3</th>\n",
       "      <td>06-0152</td>\n",
       "      <td>375.0</td>\n",
       "      <td>male</td>\n",
       "      <td>Glioblastoma Multiforme</td>\n",
       "      <td>Broad Institute of MIT and Harvard</td>\n",
       "    </tr>\n",
       "    <tr>\n",
       "      <th>4</th>\n",
       "      <td>06-0157</td>\n",
       "      <td>97.0</td>\n",
       "      <td>female</td>\n",
       "      <td>Glioblastoma Multiforme</td>\n",
       "      <td>Broad Institute of MIT and Harvard</td>\n",
       "    </tr>\n",
       "  </tbody>\n",
       "</table>\n",
       "</div>"
      ],
      "text/plain": [
       "   subject  days_to_death gender1             disease_type  \\\n",
       "0  02-2483            NaN    male  Glioblastoma Multiforme   \n",
       "1  02-2485            NaN    male  Glioblastoma Multiforme   \n",
       "2  06-0125         1448.0  female  Glioblastoma Multiforme   \n",
       "3  06-0152          375.0    male  Glioblastoma Multiforme   \n",
       "4  06-0157           97.0  female  Glioblastoma Multiforme   \n",
       "\n",
       "                          center_name  \n",
       "0  Broad Institute of MIT and Harvard  \n",
       "1  Broad Institute of MIT and Harvard  \n",
       "2  Broad Institute of MIT and Harvard  \n",
       "3  Broad Institute of MIT and Harvard  \n",
       "4  Broad Institute of MIT and Harvard  "
      ]
     },
     "execution_count": 10,
     "metadata": {},
     "output_type": "execute_result"
    }
   ],
   "source": [
    "mt1.head()"
   ]
  },
  {
   "cell_type": "code",
   "execution_count": 11,
   "metadata": {},
   "outputs": [
    {
     "data": {
      "text/plain": [
       "['subject', 'days_to_death', 'gender1', 'disease_type', 'center_name']"
      ]
     },
     "execution_count": 11,
     "metadata": {},
     "output_type": "execute_result"
    }
   ],
   "source": [
    "list(mt1)"
   ]
  },
  {
   "cell_type": "code",
   "execution_count": null,
   "metadata": {},
   "outputs": [],
   "source": []
  },
  {
   "cell_type": "code",
   "execution_count": null,
   "metadata": {},
   "outputs": [],
   "source": []
  },
  {
   "cell_type": "markdown",
   "metadata": {},
   "source": [
    "# Read Metadata 2"
   ]
  },
  {
   "cell_type": "code",
   "execution_count": 12,
   "metadata": {},
   "outputs": [],
   "source": [
    "mt2=pd.read_csv(\"TCGA/TCGA.Glioma.metadata.tsv\",sep=\"\\t\")"
   ]
  },
  {
   "cell_type": "code",
   "execution_count": 13,
   "metadata": {},
   "outputs": [
    {
     "data": {
      "text/plain": [
       "(1114, 18)"
      ]
     },
     "execution_count": 13,
     "metadata": {},
     "output_type": "execute_result"
    }
   ],
   "source": [
    "mt2.shape"
   ]
  },
  {
   "cell_type": "code",
   "execution_count": 14,
   "metadata": {},
   "outputs": [
    {
     "data": {
      "text/html": [
       "<div>\n",
       "<style scoped>\n",
       "    .dataframe tbody tr th:only-of-type {\n",
       "        vertical-align: middle;\n",
       "    }\n",
       "\n",
       "    .dataframe tbody tr th {\n",
       "        vertical-align: top;\n",
       "    }\n",
       "\n",
       "    .dataframe thead th {\n",
       "        text-align: right;\n",
       "    }\n",
       "</style>\n",
       "<table border=\"1\" class=\"dataframe\">\n",
       "  <thead>\n",
       "    <tr style=\"text-align: right;\">\n",
       "      <th></th>\n",
       "      <th>case_submitter_id</th>\n",
       "      <th>project_id</th>\n",
       "      <th>primary_diagnosis</th>\n",
       "      <th>race</th>\n",
       "      <th>ethnicity</th>\n",
       "      <th>gender</th>\n",
       "      <th>RE_names</th>\n",
       "      <th>IDH</th>\n",
       "      <th>x1p19q</th>\n",
       "      <th>TERT</th>\n",
       "      <th>IDH_1p19q_status</th>\n",
       "      <th>WHO_groups</th>\n",
       "      <th>Triple_group</th>\n",
       "      <th>Tissue_sample_location</th>\n",
       "      <th>MGMT</th>\n",
       "      <th>Age</th>\n",
       "      <th>Survival_months</th>\n",
       "      <th>Vital_status</th>\n",
       "    </tr>\n",
       "  </thead>\n",
       "  <tbody>\n",
       "    <tr>\n",
       "      <th>0</th>\n",
       "      <td>TCGA-02-0001</td>\n",
       "      <td>TCGA-GBM</td>\n",
       "      <td>Glioblastoma</td>\n",
       "      <td>white</td>\n",
       "      <td>not hispanic or latino</td>\n",
       "      <td>female</td>\n",
       "      <td>NaN</td>\n",
       "      <td>WT</td>\n",
       "      <td>non-codel</td>\n",
       "      <td>NaN</td>\n",
       "      <td>IDH-WT:1p19q-non-codel</td>\n",
       "      <td>glioblastoma:IDH-WT:1p19q-non-codel</td>\n",
       "      <td>IDH-WT:1p19q-non-codel:TERT-NA</td>\n",
       "      <td>MD Anderson Cancer Center</td>\n",
       "      <td>Unmethylated</td>\n",
       "      <td>44.0</td>\n",
       "      <td>11.762054</td>\n",
       "      <td>1.0</td>\n",
       "    </tr>\n",
       "    <tr>\n",
       "      <th>1</th>\n",
       "      <td>TCGA-02-0003</td>\n",
       "      <td>TCGA-GBM</td>\n",
       "      <td>Glioblastoma</td>\n",
       "      <td>white</td>\n",
       "      <td>not hispanic or latino</td>\n",
       "      <td>male</td>\n",
       "      <td>NaN</td>\n",
       "      <td>WT</td>\n",
       "      <td>non-codel</td>\n",
       "      <td>NaN</td>\n",
       "      <td>IDH-WT:1p19q-non-codel</td>\n",
       "      <td>glioblastoma:IDH-WT:1p19q-non-codel</td>\n",
       "      <td>IDH-WT:1p19q-non-codel:TERT-NA</td>\n",
       "      <td>MD Anderson Cancer Center</td>\n",
       "      <td>Unmethylated</td>\n",
       "      <td>50.0</td>\n",
       "      <td>4.731106</td>\n",
       "      <td>1.0</td>\n",
       "    </tr>\n",
       "    <tr>\n",
       "      <th>2</th>\n",
       "      <td>TCGA-02-0004</td>\n",
       "      <td>TCGA-GBM</td>\n",
       "      <td>Glioblastoma</td>\n",
       "      <td>white</td>\n",
       "      <td>not hispanic or latino</td>\n",
       "      <td>male</td>\n",
       "      <td>NaN</td>\n",
       "      <td>WT</td>\n",
       "      <td>NaN</td>\n",
       "      <td>NaN</td>\n",
       "      <td>IDH-WT:1p19q-NA</td>\n",
       "      <td>NaN</td>\n",
       "      <td>IDH-WT:1p19q-NA:TERT-NA</td>\n",
       "      <td>MD Anderson Cancer Center</td>\n",
       "      <td>NaN</td>\n",
       "      <td>59.0</td>\n",
       "      <td>11.334941</td>\n",
       "      <td>1.0</td>\n",
       "    </tr>\n",
       "    <tr>\n",
       "      <th>3</th>\n",
       "      <td>TCGA-02-0006</td>\n",
       "      <td>TCGA-GBM</td>\n",
       "      <td>Glioblastoma</td>\n",
       "      <td>white</td>\n",
       "      <td>not hispanic or latino</td>\n",
       "      <td>female</td>\n",
       "      <td>NaN</td>\n",
       "      <td>WT</td>\n",
       "      <td>non-codel</td>\n",
       "      <td>NaN</td>\n",
       "      <td>IDH-WT:1p19q-non-codel</td>\n",
       "      <td>glioblastoma:IDH-WT:1p19q-non-codel</td>\n",
       "      <td>IDH-WT:1p19q-non-codel:TERT-NA</td>\n",
       "      <td>MD Anderson Cancer Center</td>\n",
       "      <td>Unmethylated</td>\n",
       "      <td>56.0</td>\n",
       "      <td>18.333034</td>\n",
       "      <td>1.0</td>\n",
       "    </tr>\n",
       "    <tr>\n",
       "      <th>4</th>\n",
       "      <td>TCGA-02-0007</td>\n",
       "      <td>TCGA-GBM</td>\n",
       "      <td>Glioblastoma</td>\n",
       "      <td>white</td>\n",
       "      <td>not hispanic or latino</td>\n",
       "      <td>female</td>\n",
       "      <td>NaN</td>\n",
       "      <td>WT</td>\n",
       "      <td>non-codel</td>\n",
       "      <td>NaN</td>\n",
       "      <td>IDH-WT:1p19q-non-codel</td>\n",
       "      <td>glioblastoma:IDH-WT:1p19q-non-codel</td>\n",
       "      <td>IDH-WT:1p19q-non-codel:TERT-NA</td>\n",
       "      <td>MD Anderson Cancer Center</td>\n",
       "      <td>Unmethylated</td>\n",
       "      <td>40.0</td>\n",
       "      <td>23.162705</td>\n",
       "      <td>1.0</td>\n",
       "    </tr>\n",
       "  </tbody>\n",
       "</table>\n",
       "</div>"
      ],
      "text/plain": [
       "  case_submitter_id project_id primary_diagnosis   race  \\\n",
       "0      TCGA-02-0001   TCGA-GBM      Glioblastoma  white   \n",
       "1      TCGA-02-0003   TCGA-GBM      Glioblastoma  white   \n",
       "2      TCGA-02-0004   TCGA-GBM      Glioblastoma  white   \n",
       "3      TCGA-02-0006   TCGA-GBM      Glioblastoma  white   \n",
       "4      TCGA-02-0007   TCGA-GBM      Glioblastoma  white   \n",
       "\n",
       "                ethnicity  gender RE_names IDH     x1p19q TERT  \\\n",
       "0  not hispanic or latino  female      NaN  WT  non-codel  NaN   \n",
       "1  not hispanic or latino    male      NaN  WT  non-codel  NaN   \n",
       "2  not hispanic or latino    male      NaN  WT        NaN  NaN   \n",
       "3  not hispanic or latino  female      NaN  WT  non-codel  NaN   \n",
       "4  not hispanic or latino  female      NaN  WT  non-codel  NaN   \n",
       "\n",
       "         IDH_1p19q_status                           WHO_groups  \\\n",
       "0  IDH-WT:1p19q-non-codel  glioblastoma:IDH-WT:1p19q-non-codel   \n",
       "1  IDH-WT:1p19q-non-codel  glioblastoma:IDH-WT:1p19q-non-codel   \n",
       "2         IDH-WT:1p19q-NA                                  NaN   \n",
       "3  IDH-WT:1p19q-non-codel  glioblastoma:IDH-WT:1p19q-non-codel   \n",
       "4  IDH-WT:1p19q-non-codel  glioblastoma:IDH-WT:1p19q-non-codel   \n",
       "\n",
       "                     Triple_group     Tissue_sample_location          MGMT  \\\n",
       "0  IDH-WT:1p19q-non-codel:TERT-NA  MD Anderson Cancer Center  Unmethylated   \n",
       "1  IDH-WT:1p19q-non-codel:TERT-NA  MD Anderson Cancer Center  Unmethylated   \n",
       "2         IDH-WT:1p19q-NA:TERT-NA  MD Anderson Cancer Center           NaN   \n",
       "3  IDH-WT:1p19q-non-codel:TERT-NA  MD Anderson Cancer Center  Unmethylated   \n",
       "4  IDH-WT:1p19q-non-codel:TERT-NA  MD Anderson Cancer Center  Unmethylated   \n",
       "\n",
       "    Age  Survival_months  Vital_status  \n",
       "0  44.0        11.762054           1.0  \n",
       "1  50.0         4.731106           1.0  \n",
       "2  59.0        11.334941           1.0  \n",
       "3  56.0        18.333034           1.0  \n",
       "4  40.0        23.162705           1.0  "
      ]
     },
     "execution_count": 14,
     "metadata": {},
     "output_type": "execute_result"
    }
   ],
   "source": [
    "mt2.head()"
   ]
  },
  {
   "cell_type": "code",
   "execution_count": 15,
   "metadata": {},
   "outputs": [
    {
     "data": {
      "text/plain": [
       "['case_submitter_id',\n",
       " 'project_id',\n",
       " 'primary_diagnosis',\n",
       " 'race',\n",
       " 'ethnicity',\n",
       " 'gender',\n",
       " 'RE_names',\n",
       " 'IDH',\n",
       " 'x1p19q',\n",
       " 'TERT',\n",
       " 'IDH_1p19q_status',\n",
       " 'WHO_groups',\n",
       " 'Triple_group',\n",
       " 'Tissue_sample_location',\n",
       " 'MGMT',\n",
       " 'Age',\n",
       " 'Survival_months',\n",
       " 'Vital_status']"
      ]
     },
     "execution_count": 15,
     "metadata": {},
     "output_type": "execute_result"
    }
   ],
   "source": [
    "list(mt2)"
   ]
  },
  {
   "cell_type": "code",
   "execution_count": 16,
   "metadata": {},
   "outputs": [],
   "source": [
    "mt2['subject']=mt2['case_submitter_id'].astype(str).str[5:12]"
   ]
  },
  {
   "cell_type": "code",
   "execution_count": 17,
   "metadata": {},
   "outputs": [
    {
     "data": {
      "text/html": [
       "<div>\n",
       "<style scoped>\n",
       "    .dataframe tbody tr th:only-of-type {\n",
       "        vertical-align: middle;\n",
       "    }\n",
       "\n",
       "    .dataframe tbody tr th {\n",
       "        vertical-align: top;\n",
       "    }\n",
       "\n",
       "    .dataframe thead th {\n",
       "        text-align: right;\n",
       "    }\n",
       "</style>\n",
       "<table border=\"1\" class=\"dataframe\">\n",
       "  <thead>\n",
       "    <tr style=\"text-align: right;\">\n",
       "      <th></th>\n",
       "      <th>subject</th>\n",
       "      <th>case_submitter_id</th>\n",
       "    </tr>\n",
       "  </thead>\n",
       "  <tbody>\n",
       "    <tr>\n",
       "      <th>0</th>\n",
       "      <td>02-0001</td>\n",
       "      <td>TCGA-02-0001</td>\n",
       "    </tr>\n",
       "    <tr>\n",
       "      <th>1</th>\n",
       "      <td>02-0003</td>\n",
       "      <td>TCGA-02-0003</td>\n",
       "    </tr>\n",
       "    <tr>\n",
       "      <th>2</th>\n",
       "      <td>02-0004</td>\n",
       "      <td>TCGA-02-0004</td>\n",
       "    </tr>\n",
       "    <tr>\n",
       "      <th>3</th>\n",
       "      <td>02-0006</td>\n",
       "      <td>TCGA-02-0006</td>\n",
       "    </tr>\n",
       "    <tr>\n",
       "      <th>4</th>\n",
       "      <td>02-0007</td>\n",
       "      <td>TCGA-02-0007</td>\n",
       "    </tr>\n",
       "  </tbody>\n",
       "</table>\n",
       "</div>"
      ],
      "text/plain": [
       "   subject case_submitter_id\n",
       "0  02-0001      TCGA-02-0001\n",
       "1  02-0003      TCGA-02-0003\n",
       "2  02-0004      TCGA-02-0004\n",
       "3  02-0006      TCGA-02-0006\n",
       "4  02-0007      TCGA-02-0007"
      ]
     },
     "execution_count": 17,
     "metadata": {},
     "output_type": "execute_result"
    }
   ],
   "source": [
    "mt2[['subject','case_submitter_id']].head()"
   ]
  },
  {
   "cell_type": "code",
   "execution_count": 18,
   "metadata": {},
   "outputs": [],
   "source": [
    "mt2.drop('case_submitter_id',axis='columns',inplace=True)\n",
    "mt2.rename(columns={\"gender\": \"gender2\"},inplace=True)"
   ]
  },
  {
   "cell_type": "code",
   "execution_count": 19,
   "metadata": {},
   "outputs": [
    {
     "data": {
      "text/plain": [
       "['project_id',\n",
       " 'primary_diagnosis',\n",
       " 'race',\n",
       " 'ethnicity',\n",
       " 'gender2',\n",
       " 'RE_names',\n",
       " 'IDH',\n",
       " 'x1p19q',\n",
       " 'TERT',\n",
       " 'IDH_1p19q_status',\n",
       " 'WHO_groups',\n",
       " 'Triple_group',\n",
       " 'Tissue_sample_location',\n",
       " 'MGMT',\n",
       " 'Age',\n",
       " 'Survival_months',\n",
       " 'Vital_status',\n",
       " 'subject']"
      ]
     },
     "execution_count": 19,
     "metadata": {},
     "output_type": "execute_result"
    }
   ],
   "source": [
    "list(mt2)"
   ]
  },
  {
   "cell_type": "code",
   "execution_count": null,
   "metadata": {},
   "outputs": [],
   "source": []
  },
  {
   "cell_type": "markdown",
   "metadata": {},
   "source": [
    "# Merge Metadata"
   ]
  },
  {
   "cell_type": "code",
   "execution_count": 20,
   "metadata": {},
   "outputs": [],
   "source": [
    "#meta=mt2.merge(mt1,left_on='subject2',right_on='subject1',suffixes=[\"_mt2\",\"_mt1\"],how='inner')\n",
    "meta=mt2.merge(mt1,on='subject',suffixes=[\"_mt2\",\"_mt1\"],how='inner')"
   ]
  },
  {
   "cell_type": "code",
   "execution_count": 21,
   "metadata": {},
   "outputs": [],
   "source": [
    "del mt1\n",
    "del mt2"
   ]
  },
  {
   "cell_type": "code",
   "execution_count": 22,
   "metadata": {},
   "outputs": [
    {
     "data": {
      "text/html": [
       "<div>\n",
       "<style scoped>\n",
       "    .dataframe tbody tr th:only-of-type {\n",
       "        vertical-align: middle;\n",
       "    }\n",
       "\n",
       "    .dataframe tbody tr th {\n",
       "        vertical-align: top;\n",
       "    }\n",
       "\n",
       "    .dataframe thead th {\n",
       "        text-align: right;\n",
       "    }\n",
       "</style>\n",
       "<table border=\"1\" class=\"dataframe\">\n",
       "  <thead>\n",
       "    <tr style=\"text-align: right;\">\n",
       "      <th></th>\n",
       "      <th>project_id</th>\n",
       "      <th>primary_diagnosis</th>\n",
       "      <th>race</th>\n",
       "      <th>ethnicity</th>\n",
       "      <th>gender2</th>\n",
       "      <th>RE_names</th>\n",
       "      <th>IDH</th>\n",
       "      <th>x1p19q</th>\n",
       "      <th>TERT</th>\n",
       "      <th>IDH_1p19q_status</th>\n",
       "      <th>...</th>\n",
       "      <th>Tissue_sample_location</th>\n",
       "      <th>MGMT</th>\n",
       "      <th>Age</th>\n",
       "      <th>Survival_months</th>\n",
       "      <th>Vital_status</th>\n",
       "      <th>subject</th>\n",
       "      <th>days_to_death</th>\n",
       "      <th>gender1</th>\n",
       "      <th>disease_type</th>\n",
       "      <th>center_name</th>\n",
       "    </tr>\n",
       "  </thead>\n",
       "  <tbody>\n",
       "    <tr>\n",
       "      <th>0</th>\n",
       "      <td>TCGA-GBM</td>\n",
       "      <td>Glioblastoma</td>\n",
       "      <td>asian</td>\n",
       "      <td>not hispanic or latino</td>\n",
       "      <td>male</td>\n",
       "      <td>02-2483-01A-01R-1849-01+1</td>\n",
       "      <td>Mutant</td>\n",
       "      <td>non-codel</td>\n",
       "      <td>WT</td>\n",
       "      <td>IDH-Mutant:1p19q-non-codel</td>\n",
       "      <td>...</td>\n",
       "      <td>MD Anderson Cancer Center</td>\n",
       "      <td>Methylated</td>\n",
       "      <td>43.0</td>\n",
       "      <td>15.310383</td>\n",
       "      <td>0.0</td>\n",
       "      <td>02-2483</td>\n",
       "      <td>NaN</td>\n",
       "      <td>male</td>\n",
       "      <td>Glioblastoma Multiforme</td>\n",
       "      <td>Broad Institute of MIT and Harvard</td>\n",
       "    </tr>\n",
       "    <tr>\n",
       "      <th>1</th>\n",
       "      <td>TCGA-GBM</td>\n",
       "      <td>Glioblastoma</td>\n",
       "      <td>black or african american</td>\n",
       "      <td>not hispanic or latino</td>\n",
       "      <td>male</td>\n",
       "      <td>02-2485-01A-01R-1849-01+1</td>\n",
       "      <td>WT</td>\n",
       "      <td>non-codel</td>\n",
       "      <td>Mutant</td>\n",
       "      <td>IDH-WT:1p19q-non-codel</td>\n",
       "      <td>...</td>\n",
       "      <td>MD Anderson Cancer Center</td>\n",
       "      <td>Unmethylated</td>\n",
       "      <td>53.0</td>\n",
       "      <td>15.441803</td>\n",
       "      <td>0.0</td>\n",
       "      <td>02-2485</td>\n",
       "      <td>NaN</td>\n",
       "      <td>male</td>\n",
       "      <td>Glioblastoma Multiforme</td>\n",
       "      <td>Broad Institute of MIT and Harvard</td>\n",
       "    </tr>\n",
       "    <tr>\n",
       "      <th>2</th>\n",
       "      <td>TCGA-GBM</td>\n",
       "      <td>Glioblastoma</td>\n",
       "      <td>white</td>\n",
       "      <td>not hispanic or latino</td>\n",
       "      <td>female</td>\n",
       "      <td>06-0125-01A-01R-1849-01+1</td>\n",
       "      <td>WT</td>\n",
       "      <td>non-codel</td>\n",
       "      <td>Mutant</td>\n",
       "      <td>IDH-WT:1p19q-non-codel</td>\n",
       "      <td>...</td>\n",
       "      <td>Henry Ford Hospital</td>\n",
       "      <td>Methylated</td>\n",
       "      <td>63.0</td>\n",
       "      <td>47.573895</td>\n",
       "      <td>1.0</td>\n",
       "      <td>06-0125</td>\n",
       "      <td>1448.0</td>\n",
       "      <td>female</td>\n",
       "      <td>Glioblastoma Multiforme</td>\n",
       "      <td>Broad Institute of MIT and Harvard</td>\n",
       "    </tr>\n",
       "    <tr>\n",
       "      <th>3</th>\n",
       "      <td>TCGA-GBM</td>\n",
       "      <td>Glioblastoma</td>\n",
       "      <td>white</td>\n",
       "      <td>not hispanic or latino</td>\n",
       "      <td>male</td>\n",
       "      <td>NaN</td>\n",
       "      <td>WT</td>\n",
       "      <td>non-codel</td>\n",
       "      <td>NaN</td>\n",
       "      <td>IDH-WT:1p19q-non-codel</td>\n",
       "      <td>...</td>\n",
       "      <td>Henry Ford Hospital</td>\n",
       "      <td>NaN</td>\n",
       "      <td>68.0</td>\n",
       "      <td>12.320588</td>\n",
       "      <td>1.0</td>\n",
       "      <td>06-0152</td>\n",
       "      <td>375.0</td>\n",
       "      <td>male</td>\n",
       "      <td>Glioblastoma Multiforme</td>\n",
       "      <td>Broad Institute of MIT and Harvard</td>\n",
       "    </tr>\n",
       "    <tr>\n",
       "      <th>4</th>\n",
       "      <td>TCGA-GBM</td>\n",
       "      <td>Glioblastoma</td>\n",
       "      <td>white</td>\n",
       "      <td>not hispanic or latino</td>\n",
       "      <td>female</td>\n",
       "      <td>06-0157-01A-01R-1849-01+1</td>\n",
       "      <td>WT</td>\n",
       "      <td>non-codel</td>\n",
       "      <td>Mutant</td>\n",
       "      <td>IDH-WT:1p19q-non-codel</td>\n",
       "      <td>...</td>\n",
       "      <td>Henry Ford Hospital</td>\n",
       "      <td>NaN</td>\n",
       "      <td>63.0</td>\n",
       "      <td>3.186925</td>\n",
       "      <td>1.0</td>\n",
       "      <td>06-0157</td>\n",
       "      <td>97.0</td>\n",
       "      <td>female</td>\n",
       "      <td>Glioblastoma Multiforme</td>\n",
       "      <td>Broad Institute of MIT and Harvard</td>\n",
       "    </tr>\n",
       "  </tbody>\n",
       "</table>\n",
       "<p>5 rows × 22 columns</p>\n",
       "</div>"
      ],
      "text/plain": [
       "  project_id primary_diagnosis                       race  \\\n",
       "0   TCGA-GBM      Glioblastoma                      asian   \n",
       "1   TCGA-GBM      Glioblastoma  black or african american   \n",
       "2   TCGA-GBM      Glioblastoma                      white   \n",
       "3   TCGA-GBM      Glioblastoma                      white   \n",
       "4   TCGA-GBM      Glioblastoma                      white   \n",
       "\n",
       "                ethnicity gender2                   RE_names     IDH  \\\n",
       "0  not hispanic or latino    male  02-2483-01A-01R-1849-01+1  Mutant   \n",
       "1  not hispanic or latino    male  02-2485-01A-01R-1849-01+1      WT   \n",
       "2  not hispanic or latino  female  06-0125-01A-01R-1849-01+1      WT   \n",
       "3  not hispanic or latino    male                        NaN      WT   \n",
       "4  not hispanic or latino  female  06-0157-01A-01R-1849-01+1      WT   \n",
       "\n",
       "      x1p19q    TERT            IDH_1p19q_status  ...  \\\n",
       "0  non-codel      WT  IDH-Mutant:1p19q-non-codel  ...   \n",
       "1  non-codel  Mutant      IDH-WT:1p19q-non-codel  ...   \n",
       "2  non-codel  Mutant      IDH-WT:1p19q-non-codel  ...   \n",
       "3  non-codel     NaN      IDH-WT:1p19q-non-codel  ...   \n",
       "4  non-codel  Mutant      IDH-WT:1p19q-non-codel  ...   \n",
       "\n",
       "      Tissue_sample_location          MGMT   Age Survival_months  \\\n",
       "0  MD Anderson Cancer Center    Methylated  43.0       15.310383   \n",
       "1  MD Anderson Cancer Center  Unmethylated  53.0       15.441803   \n",
       "2        Henry Ford Hospital    Methylated  63.0       47.573895   \n",
       "3        Henry Ford Hospital           NaN  68.0       12.320588   \n",
       "4        Henry Ford Hospital           NaN  63.0        3.186925   \n",
       "\n",
       "   Vital_status  subject  days_to_death gender1             disease_type  \\\n",
       "0           0.0  02-2483            NaN    male  Glioblastoma Multiforme   \n",
       "1           0.0  02-2485            NaN    male  Glioblastoma Multiforme   \n",
       "2           1.0  06-0125         1448.0  female  Glioblastoma Multiforme   \n",
       "3           1.0  06-0152          375.0    male  Glioblastoma Multiforme   \n",
       "4           1.0  06-0157           97.0  female  Glioblastoma Multiforme   \n",
       "\n",
       "                          center_name  \n",
       "0  Broad Institute of MIT and Harvard  \n",
       "1  Broad Institute of MIT and Harvard  \n",
       "2  Broad Institute of MIT and Harvard  \n",
       "3  Broad Institute of MIT and Harvard  \n",
       "4  Broad Institute of MIT and Harvard  \n",
       "\n",
       "[5 rows x 22 columns]"
      ]
     },
     "execution_count": 22,
     "metadata": {},
     "output_type": "execute_result"
    }
   ],
   "source": [
    "meta.head()"
   ]
  },
  {
   "cell_type": "code",
   "execution_count": 23,
   "metadata": {},
   "outputs": [],
   "source": [
    "meta.drop(meta[(meta['subject']=='CS-6186') & (meta['center_name']=='Harvard Medical School')].index,inplace=True)"
   ]
  },
  {
   "cell_type": "code",
   "execution_count": 24,
   "metadata": {},
   "outputs": [],
   "source": [
    "meta.drop(meta[(meta['subject']=='DU-5872') & (meta['center_name']=='Harvard Medical School')].index,inplace=True)"
   ]
  },
  {
   "cell_type": "code",
   "execution_count": 25,
   "metadata": {},
   "outputs": [
    {
     "data": {
      "text/plain": [
       "Index(['project_id', 'primary_diagnosis', 'race', 'ethnicity', 'gender2',\n",
       "       'RE_names', 'IDH', 'x1p19q', 'TERT', 'IDH_1p19q_status', 'WHO_groups',\n",
       "       'Triple_group', 'Tissue_sample_location', 'MGMT', 'Age',\n",
       "       'Survival_months', 'Vital_status', 'subject', 'days_to_death',\n",
       "       'gender1', 'disease_type', 'center_name'],\n",
       "      dtype='object')"
      ]
     },
     "execution_count": 25,
     "metadata": {},
     "output_type": "execute_result"
    }
   ],
   "source": [
    "meta.columns"
   ]
  },
  {
   "cell_type": "code",
   "execution_count": 26,
   "metadata": {},
   "outputs": [
    {
     "data": {
      "text/plain": [
       "Mutant    68\n",
       "WT        54\n",
       "Name: TERT, dtype: int64"
      ]
     },
     "execution_count": 26,
     "metadata": {},
     "output_type": "execute_result"
    }
   ],
   "source": [
    "meta['TERT'].value_counts()"
   ]
  },
  {
   "cell_type": "code",
   "execution_count": 27,
   "metadata": {},
   "outputs": [
    {
     "data": {
      "text/plain": [
       "Glioblastoma                     35\n",
       "Oligodendroglioma, NOS           33\n",
       "Astrocytoma, anaplastic          24\n",
       "Mixed glioma                     16\n",
       "Astrocytoma, NOS                  9\n",
       "Oligodendroglioma, anaplastic     8\n",
       "Name: primary_diagnosis, dtype: int64"
      ]
     },
     "execution_count": 27,
     "metadata": {},
     "output_type": "execute_result"
    }
   ],
   "source": [
    "meta['primary_diagnosis'].value_counts()"
   ]
  },
  {
   "cell_type": "code",
   "execution_count": 28,
   "metadata": {},
   "outputs": [
    {
     "data": {
      "text/plain": [
       "Mutant    74\n",
       "WT        50\n",
       "Name: IDH, dtype: int64"
      ]
     },
     "execution_count": 28,
     "metadata": {},
     "output_type": "execute_result"
    }
   ],
   "source": [
    "meta['IDH'].value_counts()"
   ]
  },
  {
   "cell_type": "code",
   "execution_count": 29,
   "metadata": {},
   "outputs": [
    {
     "data": {
      "text/plain": [
       "non-codel    102\n",
       "codel         23\n",
       "Name: x1p19q, dtype: int64"
      ]
     },
     "execution_count": 29,
     "metadata": {},
     "output_type": "execute_result"
    }
   ],
   "source": [
    "meta['x1p19q'].value_counts()"
   ]
  },
  {
   "cell_type": "code",
   "execution_count": null,
   "metadata": {},
   "outputs": [],
   "source": []
  },
  {
   "cell_type": "code",
   "execution_count": null,
   "metadata": {},
   "outputs": [],
   "source": []
  },
  {
   "cell_type": "code",
   "execution_count": null,
   "metadata": {},
   "outputs": [],
   "source": []
  },
  {
   "cell_type": "code",
   "execution_count": null,
   "metadata": {},
   "outputs": [],
   "source": []
  },
  {
   "cell_type": "markdown",
   "metadata": {},
   "source": [
    "## We need a multi-level index to merge with df later so adding an empty index level"
   ]
  },
  {
   "cell_type": "code",
   "execution_count": 30,
   "metadata": {},
   "outputs": [],
   "source": [
    "meta.columns=[meta.columns,[''] * len(meta.columns)]"
   ]
  },
  {
   "cell_type": "code",
   "execution_count": 31,
   "metadata": {},
   "outputs": [],
   "source": [
    "#meta.columns.names=['chromosome','position']"
   ]
  },
  {
   "cell_type": "code",
   "execution_count": 32,
   "metadata": {},
   "outputs": [
    {
     "data": {
      "text/plain": [
       "MultiIndex([(            'project_id', ''),\n",
       "            (     'primary_diagnosis', ''),\n",
       "            (                  'race', ''),\n",
       "            (             'ethnicity', ''),\n",
       "            (               'gender2', ''),\n",
       "            (              'RE_names', ''),\n",
       "            (                   'IDH', ''),\n",
       "            (                'x1p19q', ''),\n",
       "            (                  'TERT', ''),\n",
       "            (      'IDH_1p19q_status', ''),\n",
       "            (            'WHO_groups', ''),\n",
       "            (          'Triple_group', ''),\n",
       "            ('Tissue_sample_location', ''),\n",
       "            (                  'MGMT', ''),\n",
       "            (                   'Age', ''),\n",
       "            (       'Survival_months', ''),\n",
       "            (          'Vital_status', ''),\n",
       "            (               'subject', ''),\n",
       "            (         'days_to_death', ''),\n",
       "            (               'gender1', ''),\n",
       "            (          'disease_type', ''),\n",
       "            (           'center_name', '')],\n",
       "           )"
      ]
     },
     "execution_count": 32,
     "metadata": {},
     "output_type": "execute_result"
    }
   ],
   "source": [
    "meta.columns"
   ]
  },
  {
   "cell_type": "code",
   "execution_count": null,
   "metadata": {},
   "outputs": [],
   "source": []
  },
  {
   "cell_type": "code",
   "execution_count": null,
   "metadata": {},
   "outputs": [],
   "source": []
  },
  {
   "cell_type": "markdown",
   "metadata": {},
   "source": [
    "# Read raw data and cleanup"
   ]
  },
  {
   "cell_type": "code",
   "execution_count": 33,
   "metadata": {},
   "outputs": [
    {
     "data": {
      "text/html": [
       "<div>\n",
       "<style scoped>\n",
       "    .dataframe tbody tr th:only-of-type {\n",
       "        vertical-align: middle;\n",
       "    }\n",
       "\n",
       "    .dataframe tbody tr th {\n",
       "        vertical-align: top;\n",
       "    }\n",
       "\n",
       "    .dataframe thead tr th {\n",
       "        text-align: left;\n",
       "    }\n",
       "</style>\n",
       "<table border=\"1\" class=\"dataframe\">\n",
       "  <thead>\n",
       "    <tr>\n",
       "      <th>chromosome</th>\n",
       "      <th>sample</th>\n",
       "      <th>pup</th>\n",
       "      <th>hkle</th>\n",
       "      <th>mapq</th>\n",
       "      <th colspan=\"6\" halign=\"left\">chr1</th>\n",
       "      <th>...</th>\n",
       "      <th colspan=\"10\" halign=\"left\">chrY</th>\n",
       "    </tr>\n",
       "    <tr>\n",
       "      <th>position</th>\n",
       "      <th></th>\n",
       "      <th></th>\n",
       "      <th></th>\n",
       "      <th></th>\n",
       "      <th>1048000</th>\n",
       "      <th>1190000</th>\n",
       "      <th>1308000</th>\n",
       "      <th>1409000</th>\n",
       "      <th>1410000</th>\n",
       "      <th>1580000</th>\n",
       "      <th>...</th>\n",
       "      <th>19535000</th>\n",
       "      <th>19536000</th>\n",
       "      <th>19699000</th>\n",
       "      <th>19700000</th>\n",
       "      <th>20552000</th>\n",
       "      <th>20553000</th>\n",
       "      <th>20976000</th>\n",
       "      <th>21047000</th>\n",
       "      <th>21217000</th>\n",
       "      <th>21639000</th>\n",
       "    </tr>\n",
       "  </thead>\n",
       "  <tbody>\n",
       "    <tr>\n",
       "      <th>0</th>\n",
       "      <td>02-2483-01A</td>\n",
       "      <td>paired</td>\n",
       "      <td>HERVK113</td>\n",
       "      <td>Q20</td>\n",
       "      <td>0</td>\n",
       "      <td>0</td>\n",
       "      <td>0</td>\n",
       "      <td>4</td>\n",
       "      <td>1</td>\n",
       "      <td>4</td>\n",
       "      <td>...</td>\n",
       "      <td>0</td>\n",
       "      <td>0</td>\n",
       "      <td>2</td>\n",
       "      <td>0</td>\n",
       "      <td>0</td>\n",
       "      <td>0</td>\n",
       "      <td>0</td>\n",
       "      <td>0</td>\n",
       "      <td>0</td>\n",
       "      <td>0</td>\n",
       "    </tr>\n",
       "    <tr>\n",
       "      <th>1</th>\n",
       "      <td>02-2483-01A</td>\n",
       "      <td>paired</td>\n",
       "      <td>SVA_A</td>\n",
       "      <td>Q20</td>\n",
       "      <td>0</td>\n",
       "      <td>0</td>\n",
       "      <td>0</td>\n",
       "      <td>0</td>\n",
       "      <td>0</td>\n",
       "      <td>0</td>\n",
       "      <td>...</td>\n",
       "      <td>0</td>\n",
       "      <td>0</td>\n",
       "      <td>0</td>\n",
       "      <td>0</td>\n",
       "      <td>0</td>\n",
       "      <td>0</td>\n",
       "      <td>0</td>\n",
       "      <td>0</td>\n",
       "      <td>0</td>\n",
       "      <td>0</td>\n",
       "    </tr>\n",
       "    <tr>\n",
       "      <th>2</th>\n",
       "      <td>02-2483-01A</td>\n",
       "      <td>paired</td>\n",
       "      <td>SVA_B</td>\n",
       "      <td>Q20</td>\n",
       "      <td>0</td>\n",
       "      <td>0</td>\n",
       "      <td>0</td>\n",
       "      <td>0</td>\n",
       "      <td>0</td>\n",
       "      <td>0</td>\n",
       "      <td>...</td>\n",
       "      <td>0</td>\n",
       "      <td>0</td>\n",
       "      <td>0</td>\n",
       "      <td>0</td>\n",
       "      <td>0</td>\n",
       "      <td>0</td>\n",
       "      <td>0</td>\n",
       "      <td>0</td>\n",
       "      <td>0</td>\n",
       "      <td>0</td>\n",
       "    </tr>\n",
       "    <tr>\n",
       "      <th>3</th>\n",
       "      <td>02-2483-01A</td>\n",
       "      <td>paired</td>\n",
       "      <td>SVA_C</td>\n",
       "      <td>Q20</td>\n",
       "      <td>0</td>\n",
       "      <td>0</td>\n",
       "      <td>0</td>\n",
       "      <td>0</td>\n",
       "      <td>0</td>\n",
       "      <td>0</td>\n",
       "      <td>...</td>\n",
       "      <td>0</td>\n",
       "      <td>0</td>\n",
       "      <td>0</td>\n",
       "      <td>0</td>\n",
       "      <td>0</td>\n",
       "      <td>0</td>\n",
       "      <td>0</td>\n",
       "      <td>0</td>\n",
       "      <td>0</td>\n",
       "      <td>0</td>\n",
       "    </tr>\n",
       "    <tr>\n",
       "      <th>4</th>\n",
       "      <td>02-2483-01A</td>\n",
       "      <td>paired</td>\n",
       "      <td>SVA_D</td>\n",
       "      <td>Q20</td>\n",
       "      <td>0</td>\n",
       "      <td>0</td>\n",
       "      <td>0</td>\n",
       "      <td>0</td>\n",
       "      <td>0</td>\n",
       "      <td>0</td>\n",
       "      <td>...</td>\n",
       "      <td>0</td>\n",
       "      <td>0</td>\n",
       "      <td>0</td>\n",
       "      <td>0</td>\n",
       "      <td>0</td>\n",
       "      <td>0</td>\n",
       "      <td>0</td>\n",
       "      <td>0</td>\n",
       "      <td>0</td>\n",
       "      <td>0</td>\n",
       "    </tr>\n",
       "  </tbody>\n",
       "</table>\n",
       "<p>5 rows × 17413 columns</p>\n",
       "</div>"
      ],
      "text/plain": [
       "chromosome       sample     pup      hkle mapq    chr1                  \\\n",
       "position                                       1048000 1190000 1308000   \n",
       "0           02-2483-01A  paired  HERVK113  Q20       0       0       0   \n",
       "1           02-2483-01A  paired     SVA_A  Q20       0       0       0   \n",
       "2           02-2483-01A  paired     SVA_B  Q20       0       0       0   \n",
       "3           02-2483-01A  paired     SVA_C  Q20       0       0       0   \n",
       "4           02-2483-01A  paired     SVA_D  Q20       0       0       0   \n",
       "\n",
       "chromosome                          ...     chrY                             \\\n",
       "position   1409000 1410000 1580000  ... 19535000 19536000 19699000 19700000   \n",
       "0                4       1       4  ...        0        0        2        0   \n",
       "1                0       0       0  ...        0        0        0        0   \n",
       "2                0       0       0  ...        0        0        0        0   \n",
       "3                0       0       0  ...        0        0        0        0   \n",
       "4                0       0       0  ...        0        0        0        0   \n",
       "\n",
       "chromosome                                                        \n",
       "position   20552000 20553000 20976000 21047000 21217000 21639000  \n",
       "0                 0        0        0        0        0        0  \n",
       "1                 0        0        0        0        0        0  \n",
       "2                 0        0        0        0        0        0  \n",
       "3                 0        0        0        0        0        0  \n",
       "4                 0        0        0        0        0        0  \n",
       "\n",
       "[5 rows x 17413 columns]"
      ]
     },
     "execution_count": 33,
     "metadata": {},
     "output_type": "execute_result"
    }
   ],
   "source": [
    "#df=pd.read_csv(\"focused.csv.gz\",header=[0,1,2,3],index_col=[0,1])\n",
    "#df.columns.names=['sample','pup','hkle','q']\n",
    "#df=df.T\n",
    "df=pd.read_csv(\"focused.T.csv.gz\",header=[0,1],index_col=[0,1,2,3])\n",
    "\n",
    "df.reset_index(inplace=True)\n",
    "df.head()\n"
   ]
  },
  {
   "cell_type": "code",
   "execution_count": 34,
   "metadata": {},
   "outputs": [
    {
     "data": {
      "text/plain": [
       "0       02-2483\n",
       "1       02-2483\n",
       "2       02-2483\n",
       "3       02-2483\n",
       "4       02-2483\n",
       "         ...   \n",
       "1913    TQ-A8XE\n",
       "1914    TQ-A8XE\n",
       "1915    TQ-A8XE\n",
       "1916    TQ-A8XE\n",
       "1917    TQ-A8XE\n",
       "Name: subject, Length: 1918, dtype: object"
      ]
     },
     "execution_count": 34,
     "metadata": {},
     "output_type": "execute_result"
    }
   ],
   "source": [
    "df['subject']=df['sample'].str[0:7]\n",
    "df['subject']"
   ]
  },
  {
   "cell_type": "code",
   "execution_count": 35,
   "metadata": {},
   "outputs": [
    {
     "data": {
      "text/plain": [
       "MultiIndex([( 'sample',         ''),\n",
       "            (    'pup',         ''),\n",
       "            (   'hkle',         ''),\n",
       "            (   'mapq',         ''),\n",
       "            (   'chr1',  '1048000'),\n",
       "            (   'chr1',  '1190000'),\n",
       "            (   'chr1',  '1308000'),\n",
       "            (   'chr1',  '1409000'),\n",
       "            (   'chr1',  '1410000'),\n",
       "            (   'chr1',  '1580000'),\n",
       "            ...\n",
       "            (   'chrY', '19536000'),\n",
       "            (   'chrY', '19699000'),\n",
       "            (   'chrY', '19700000'),\n",
       "            (   'chrY', '20552000'),\n",
       "            (   'chrY', '20553000'),\n",
       "            (   'chrY', '20976000'),\n",
       "            (   'chrY', '21047000'),\n",
       "            (   'chrY', '21217000'),\n",
       "            (   'chrY', '21639000'),\n",
       "            ('subject',         '')],\n",
       "           names=['chromosome', 'position'], length=17414)"
      ]
     },
     "execution_count": 35,
     "metadata": {},
     "output_type": "execute_result"
    }
   ],
   "source": [
    "df.columns"
   ]
  },
  {
   "cell_type": "code",
   "execution_count": 36,
   "metadata": {},
   "outputs": [
    {
     "data": {
      "text/html": [
       "<div>\n",
       "<style scoped>\n",
       "    .dataframe tbody tr th:only-of-type {\n",
       "        vertical-align: middle;\n",
       "    }\n",
       "\n",
       "    .dataframe tbody tr th {\n",
       "        vertical-align: top;\n",
       "    }\n",
       "\n",
       "    .dataframe thead tr th {\n",
       "        text-align: left;\n",
       "    }\n",
       "</style>\n",
       "<table border=\"1\" class=\"dataframe\">\n",
       "  <thead>\n",
       "    <tr>\n",
       "      <th>chromosome</th>\n",
       "      <th>sample</th>\n",
       "      <th>pup</th>\n",
       "      <th>hkle</th>\n",
       "      <th>mapq</th>\n",
       "      <th colspan=\"6\" halign=\"left\">chr1</th>\n",
       "      <th>...</th>\n",
       "      <th colspan=\"9\" halign=\"left\">chrY</th>\n",
       "      <th>subject</th>\n",
       "    </tr>\n",
       "    <tr>\n",
       "      <th>position</th>\n",
       "      <th></th>\n",
       "      <th></th>\n",
       "      <th></th>\n",
       "      <th></th>\n",
       "      <th>1048000</th>\n",
       "      <th>1190000</th>\n",
       "      <th>1308000</th>\n",
       "      <th>1409000</th>\n",
       "      <th>1410000</th>\n",
       "      <th>1580000</th>\n",
       "      <th>...</th>\n",
       "      <th>19536000</th>\n",
       "      <th>19699000</th>\n",
       "      <th>19700000</th>\n",
       "      <th>20552000</th>\n",
       "      <th>20553000</th>\n",
       "      <th>20976000</th>\n",
       "      <th>21047000</th>\n",
       "      <th>21217000</th>\n",
       "      <th>21639000</th>\n",
       "      <th></th>\n",
       "    </tr>\n",
       "  </thead>\n",
       "  <tbody>\n",
       "    <tr>\n",
       "      <th>0</th>\n",
       "      <td>02-2483-01A</td>\n",
       "      <td>paired</td>\n",
       "      <td>HERVK113</td>\n",
       "      <td>Q20</td>\n",
       "      <td>0</td>\n",
       "      <td>0</td>\n",
       "      <td>0</td>\n",
       "      <td>4</td>\n",
       "      <td>1</td>\n",
       "      <td>4</td>\n",
       "      <td>...</td>\n",
       "      <td>0</td>\n",
       "      <td>2</td>\n",
       "      <td>0</td>\n",
       "      <td>0</td>\n",
       "      <td>0</td>\n",
       "      <td>0</td>\n",
       "      <td>0</td>\n",
       "      <td>0</td>\n",
       "      <td>0</td>\n",
       "      <td>02-2483</td>\n",
       "    </tr>\n",
       "    <tr>\n",
       "      <th>1</th>\n",
       "      <td>02-2483-01A</td>\n",
       "      <td>paired</td>\n",
       "      <td>SVA_A</td>\n",
       "      <td>Q20</td>\n",
       "      <td>0</td>\n",
       "      <td>0</td>\n",
       "      <td>0</td>\n",
       "      <td>0</td>\n",
       "      <td>0</td>\n",
       "      <td>0</td>\n",
       "      <td>...</td>\n",
       "      <td>0</td>\n",
       "      <td>0</td>\n",
       "      <td>0</td>\n",
       "      <td>0</td>\n",
       "      <td>0</td>\n",
       "      <td>0</td>\n",
       "      <td>0</td>\n",
       "      <td>0</td>\n",
       "      <td>0</td>\n",
       "      <td>02-2483</td>\n",
       "    </tr>\n",
       "    <tr>\n",
       "      <th>2</th>\n",
       "      <td>02-2483-01A</td>\n",
       "      <td>paired</td>\n",
       "      <td>SVA_B</td>\n",
       "      <td>Q20</td>\n",
       "      <td>0</td>\n",
       "      <td>0</td>\n",
       "      <td>0</td>\n",
       "      <td>0</td>\n",
       "      <td>0</td>\n",
       "      <td>0</td>\n",
       "      <td>...</td>\n",
       "      <td>0</td>\n",
       "      <td>0</td>\n",
       "      <td>0</td>\n",
       "      <td>0</td>\n",
       "      <td>0</td>\n",
       "      <td>0</td>\n",
       "      <td>0</td>\n",
       "      <td>0</td>\n",
       "      <td>0</td>\n",
       "      <td>02-2483</td>\n",
       "    </tr>\n",
       "    <tr>\n",
       "      <th>3</th>\n",
       "      <td>02-2483-01A</td>\n",
       "      <td>paired</td>\n",
       "      <td>SVA_C</td>\n",
       "      <td>Q20</td>\n",
       "      <td>0</td>\n",
       "      <td>0</td>\n",
       "      <td>0</td>\n",
       "      <td>0</td>\n",
       "      <td>0</td>\n",
       "      <td>0</td>\n",
       "      <td>...</td>\n",
       "      <td>0</td>\n",
       "      <td>0</td>\n",
       "      <td>0</td>\n",
       "      <td>0</td>\n",
       "      <td>0</td>\n",
       "      <td>0</td>\n",
       "      <td>0</td>\n",
       "      <td>0</td>\n",
       "      <td>0</td>\n",
       "      <td>02-2483</td>\n",
       "    </tr>\n",
       "    <tr>\n",
       "      <th>4</th>\n",
       "      <td>02-2483-01A</td>\n",
       "      <td>paired</td>\n",
       "      <td>SVA_D</td>\n",
       "      <td>Q20</td>\n",
       "      <td>0</td>\n",
       "      <td>0</td>\n",
       "      <td>0</td>\n",
       "      <td>0</td>\n",
       "      <td>0</td>\n",
       "      <td>0</td>\n",
       "      <td>...</td>\n",
       "      <td>0</td>\n",
       "      <td>0</td>\n",
       "      <td>0</td>\n",
       "      <td>0</td>\n",
       "      <td>0</td>\n",
       "      <td>0</td>\n",
       "      <td>0</td>\n",
       "      <td>0</td>\n",
       "      <td>0</td>\n",
       "      <td>02-2483</td>\n",
       "    </tr>\n",
       "  </tbody>\n",
       "</table>\n",
       "<p>5 rows × 17414 columns</p>\n",
       "</div>"
      ],
      "text/plain": [
       "chromosome       sample     pup      hkle mapq    chr1                  \\\n",
       "position                                       1048000 1190000 1308000   \n",
       "0           02-2483-01A  paired  HERVK113  Q20       0       0       0   \n",
       "1           02-2483-01A  paired     SVA_A  Q20       0       0       0   \n",
       "2           02-2483-01A  paired     SVA_B  Q20       0       0       0   \n",
       "3           02-2483-01A  paired     SVA_C  Q20       0       0       0   \n",
       "4           02-2483-01A  paired     SVA_D  Q20       0       0       0   \n",
       "\n",
       "chromosome                          ...     chrY                             \\\n",
       "position   1409000 1410000 1580000  ... 19536000 19699000 19700000 20552000   \n",
       "0                4       1       4  ...        0        2        0        0   \n",
       "1                0       0       0  ...        0        0        0        0   \n",
       "2                0       0       0  ...        0        0        0        0   \n",
       "3                0       0       0  ...        0        0        0        0   \n",
       "4                0       0       0  ...        0        0        0        0   \n",
       "\n",
       "chromosome                                               subject  \n",
       "position   20553000 20976000 21047000 21217000 21639000           \n",
       "0                 0        0        0        0        0  02-2483  \n",
       "1                 0        0        0        0        0  02-2483  \n",
       "2                 0        0        0        0        0  02-2483  \n",
       "3                 0        0        0        0        0  02-2483  \n",
       "4                 0        0        0        0        0  02-2483  \n",
       "\n",
       "[5 rows x 17414 columns]"
      ]
     },
     "execution_count": 36,
     "metadata": {},
     "output_type": "execute_result"
    }
   ],
   "source": [
    "df.head()"
   ]
  },
  {
   "cell_type": "code",
   "execution_count": 37,
   "metadata": {},
   "outputs": [],
   "source": [
    "df.set_index(['subject','sample','pup','hkle','mapq'],inplace=True)"
   ]
  },
  {
   "cell_type": "code",
   "execution_count": 38,
   "metadata": {},
   "outputs": [
    {
     "data": {
      "text/html": [
       "<div>\n",
       "<style scoped>\n",
       "    .dataframe tbody tr th:only-of-type {\n",
       "        vertical-align: middle;\n",
       "    }\n",
       "\n",
       "    .dataframe tbody tr th {\n",
       "        vertical-align: top;\n",
       "    }\n",
       "\n",
       "    .dataframe thead tr th {\n",
       "        text-align: left;\n",
       "    }\n",
       "\n",
       "    .dataframe thead tr:last-of-type th {\n",
       "        text-align: right;\n",
       "    }\n",
       "</style>\n",
       "<table border=\"1\" class=\"dataframe\">\n",
       "  <thead>\n",
       "    <tr>\n",
       "      <th></th>\n",
       "      <th></th>\n",
       "      <th></th>\n",
       "      <th></th>\n",
       "      <th>chromosome</th>\n",
       "      <th colspan=\"10\" halign=\"left\">chr1</th>\n",
       "      <th>...</th>\n",
       "      <th colspan=\"10\" halign=\"left\">chrY</th>\n",
       "    </tr>\n",
       "    <tr>\n",
       "      <th></th>\n",
       "      <th></th>\n",
       "      <th></th>\n",
       "      <th></th>\n",
       "      <th>position</th>\n",
       "      <th>1048000</th>\n",
       "      <th>1190000</th>\n",
       "      <th>1308000</th>\n",
       "      <th>1409000</th>\n",
       "      <th>1410000</th>\n",
       "      <th>1580000</th>\n",
       "      <th>1581000</th>\n",
       "      <th>2211000</th>\n",
       "      <th>2513000</th>\n",
       "      <th>2581000</th>\n",
       "      <th>...</th>\n",
       "      <th>19535000</th>\n",
       "      <th>19536000</th>\n",
       "      <th>19699000</th>\n",
       "      <th>19700000</th>\n",
       "      <th>20552000</th>\n",
       "      <th>20553000</th>\n",
       "      <th>20976000</th>\n",
       "      <th>21047000</th>\n",
       "      <th>21217000</th>\n",
       "      <th>21639000</th>\n",
       "    </tr>\n",
       "    <tr>\n",
       "      <th>subject</th>\n",
       "      <th>sample</th>\n",
       "      <th>pup</th>\n",
       "      <th>hkle</th>\n",
       "      <th>mapq</th>\n",
       "      <th></th>\n",
       "      <th></th>\n",
       "      <th></th>\n",
       "      <th></th>\n",
       "      <th></th>\n",
       "      <th></th>\n",
       "      <th></th>\n",
       "      <th></th>\n",
       "      <th></th>\n",
       "      <th></th>\n",
       "      <th></th>\n",
       "      <th></th>\n",
       "      <th></th>\n",
       "      <th></th>\n",
       "      <th></th>\n",
       "      <th></th>\n",
       "      <th></th>\n",
       "      <th></th>\n",
       "      <th></th>\n",
       "      <th></th>\n",
       "      <th></th>\n",
       "    </tr>\n",
       "  </thead>\n",
       "  <tbody>\n",
       "    <tr>\n",
       "      <th rowspan=\"5\" valign=\"top\">02-2483</th>\n",
       "      <th rowspan=\"5\" valign=\"top\">02-2483-01A</th>\n",
       "      <th rowspan=\"5\" valign=\"top\">paired</th>\n",
       "      <th>HERVK113</th>\n",
       "      <th>Q20</th>\n",
       "      <td>0</td>\n",
       "      <td>0</td>\n",
       "      <td>0</td>\n",
       "      <td>4</td>\n",
       "      <td>1</td>\n",
       "      <td>4</td>\n",
       "      <td>0</td>\n",
       "      <td>0</td>\n",
       "      <td>0</td>\n",
       "      <td>0</td>\n",
       "      <td>...</td>\n",
       "      <td>0</td>\n",
       "      <td>0</td>\n",
       "      <td>2</td>\n",
       "      <td>0</td>\n",
       "      <td>0</td>\n",
       "      <td>0</td>\n",
       "      <td>0</td>\n",
       "      <td>0</td>\n",
       "      <td>0</td>\n",
       "      <td>0</td>\n",
       "    </tr>\n",
       "    <tr>\n",
       "      <th>SVA_A</th>\n",
       "      <th>Q20</th>\n",
       "      <td>0</td>\n",
       "      <td>0</td>\n",
       "      <td>0</td>\n",
       "      <td>0</td>\n",
       "      <td>0</td>\n",
       "      <td>0</td>\n",
       "      <td>0</td>\n",
       "      <td>0</td>\n",
       "      <td>0</td>\n",
       "      <td>0</td>\n",
       "      <td>...</td>\n",
       "      <td>0</td>\n",
       "      <td>0</td>\n",
       "      <td>0</td>\n",
       "      <td>0</td>\n",
       "      <td>0</td>\n",
       "      <td>0</td>\n",
       "      <td>0</td>\n",
       "      <td>0</td>\n",
       "      <td>0</td>\n",
       "      <td>0</td>\n",
       "    </tr>\n",
       "    <tr>\n",
       "      <th>SVA_B</th>\n",
       "      <th>Q20</th>\n",
       "      <td>0</td>\n",
       "      <td>0</td>\n",
       "      <td>0</td>\n",
       "      <td>0</td>\n",
       "      <td>0</td>\n",
       "      <td>0</td>\n",
       "      <td>0</td>\n",
       "      <td>0</td>\n",
       "      <td>0</td>\n",
       "      <td>0</td>\n",
       "      <td>...</td>\n",
       "      <td>0</td>\n",
       "      <td>0</td>\n",
       "      <td>0</td>\n",
       "      <td>0</td>\n",
       "      <td>0</td>\n",
       "      <td>0</td>\n",
       "      <td>0</td>\n",
       "      <td>0</td>\n",
       "      <td>0</td>\n",
       "      <td>0</td>\n",
       "    </tr>\n",
       "    <tr>\n",
       "      <th>SVA_C</th>\n",
       "      <th>Q20</th>\n",
       "      <td>0</td>\n",
       "      <td>0</td>\n",
       "      <td>0</td>\n",
       "      <td>0</td>\n",
       "      <td>0</td>\n",
       "      <td>0</td>\n",
       "      <td>0</td>\n",
       "      <td>0</td>\n",
       "      <td>0</td>\n",
       "      <td>0</td>\n",
       "      <td>...</td>\n",
       "      <td>0</td>\n",
       "      <td>0</td>\n",
       "      <td>0</td>\n",
       "      <td>0</td>\n",
       "      <td>0</td>\n",
       "      <td>0</td>\n",
       "      <td>0</td>\n",
       "      <td>0</td>\n",
       "      <td>0</td>\n",
       "      <td>0</td>\n",
       "    </tr>\n",
       "    <tr>\n",
       "      <th>SVA_D</th>\n",
       "      <th>Q20</th>\n",
       "      <td>0</td>\n",
       "      <td>0</td>\n",
       "      <td>0</td>\n",
       "      <td>0</td>\n",
       "      <td>0</td>\n",
       "      <td>0</td>\n",
       "      <td>0</td>\n",
       "      <td>0</td>\n",
       "      <td>0</td>\n",
       "      <td>0</td>\n",
       "      <td>...</td>\n",
       "      <td>0</td>\n",
       "      <td>0</td>\n",
       "      <td>0</td>\n",
       "      <td>0</td>\n",
       "      <td>0</td>\n",
       "      <td>0</td>\n",
       "      <td>0</td>\n",
       "      <td>0</td>\n",
       "      <td>0</td>\n",
       "      <td>0</td>\n",
       "    </tr>\n",
       "  </tbody>\n",
       "</table>\n",
       "<p>5 rows × 17409 columns</p>\n",
       "</div>"
      ],
      "text/plain": [
       "chromosome                                  chr1                          \\\n",
       "position                                 1048000 1190000 1308000 1409000   \n",
       "subject sample      pup    hkle     mapq                                   \n",
       "02-2483 02-2483-01A paired HERVK113 Q20        0       0       0       4   \n",
       "                           SVA_A    Q20        0       0       0       0   \n",
       "                           SVA_B    Q20        0       0       0       0   \n",
       "                           SVA_C    Q20        0       0       0       0   \n",
       "                           SVA_D    Q20        0       0       0       0   \n",
       "\n",
       "chromosome                                                                \\\n",
       "position                                 1410000 1580000 1581000 2211000   \n",
       "subject sample      pup    hkle     mapq                                   \n",
       "02-2483 02-2483-01A paired HERVK113 Q20        1       4       0       0   \n",
       "                           SVA_A    Q20        0       0       0       0   \n",
       "                           SVA_B    Q20        0       0       0       0   \n",
       "                           SVA_C    Q20        0       0       0       0   \n",
       "                           SVA_D    Q20        0       0       0       0   \n",
       "\n",
       "chromosome                                                ...     chrY  \\\n",
       "position                                 2513000 2581000  ... 19535000   \n",
       "subject sample      pup    hkle     mapq                  ...            \n",
       "02-2483 02-2483-01A paired HERVK113 Q20        0       0  ...        0   \n",
       "                           SVA_A    Q20        0       0  ...        0   \n",
       "                           SVA_B    Q20        0       0  ...        0   \n",
       "                           SVA_C    Q20        0       0  ...        0   \n",
       "                           SVA_D    Q20        0       0  ...        0   \n",
       "\n",
       "chromosome                                                                    \\\n",
       "position                                 19536000 19699000 19700000 20552000   \n",
       "subject sample      pup    hkle     mapq                                       \n",
       "02-2483 02-2483-01A paired HERVK113 Q20         0        2        0        0   \n",
       "                           SVA_A    Q20         0        0        0        0   \n",
       "                           SVA_B    Q20         0        0        0        0   \n",
       "                           SVA_C    Q20         0        0        0        0   \n",
       "                           SVA_D    Q20         0        0        0        0   \n",
       "\n",
       "chromosome                                                                    \\\n",
       "position                                 20553000 20976000 21047000 21217000   \n",
       "subject sample      pup    hkle     mapq                                       \n",
       "02-2483 02-2483-01A paired HERVK113 Q20         0        0        0        0   \n",
       "                           SVA_A    Q20         0        0        0        0   \n",
       "                           SVA_B    Q20         0        0        0        0   \n",
       "                           SVA_C    Q20         0        0        0        0   \n",
       "                           SVA_D    Q20         0        0        0        0   \n",
       "\n",
       "chromosome                                         \n",
       "position                                 21639000  \n",
       "subject sample      pup    hkle     mapq           \n",
       "02-2483 02-2483-01A paired HERVK113 Q20         0  \n",
       "                           SVA_A    Q20         0  \n",
       "                           SVA_B    Q20         0  \n",
       "                           SVA_C    Q20         0  \n",
       "                           SVA_D    Q20         0  \n",
       "\n",
       "[5 rows x 17409 columns]"
      ]
     },
     "execution_count": 38,
     "metadata": {},
     "output_type": "execute_result"
    }
   ],
   "source": [
    "df.head()"
   ]
  },
  {
   "cell_type": "code",
   "execution_count": 39,
   "metadata": {},
   "outputs": [
    {
     "data": {
      "text/plain": [
       "(1918, 17409)"
      ]
     },
     "execution_count": 39,
     "metadata": {},
     "output_type": "execute_result"
    }
   ],
   "source": [
    "df.shape"
   ]
  },
  {
   "cell_type": "code",
   "execution_count": null,
   "metadata": {},
   "outputs": [],
   "source": []
  },
  {
   "cell_type": "markdown",
   "metadata": {},
   "source": [
    "## Remove \"pup\" and \"q\" as they are useless in this dataset."
   ]
  },
  {
   "cell_type": "code",
   "execution_count": 40,
   "metadata": {},
   "outputs": [],
   "source": [
    "df=df.droplevel('pup',axis='index').droplevel('mapq',axis='index')"
   ]
  },
  {
   "cell_type": "code",
   "execution_count": 41,
   "metadata": {
    "scrolled": false
   },
   "outputs": [
    {
     "data": {
      "text/html": [
       "<div>\n",
       "<style scoped>\n",
       "    .dataframe tbody tr th:only-of-type {\n",
       "        vertical-align: middle;\n",
       "    }\n",
       "\n",
       "    .dataframe tbody tr th {\n",
       "        vertical-align: top;\n",
       "    }\n",
       "\n",
       "    .dataframe thead tr th {\n",
       "        text-align: left;\n",
       "    }\n",
       "\n",
       "    .dataframe thead tr:last-of-type th {\n",
       "        text-align: right;\n",
       "    }\n",
       "</style>\n",
       "<table border=\"1\" class=\"dataframe\">\n",
       "  <thead>\n",
       "    <tr>\n",
       "      <th></th>\n",
       "      <th></th>\n",
       "      <th>chromosome</th>\n",
       "      <th colspan=\"10\" halign=\"left\">chr1</th>\n",
       "      <th>...</th>\n",
       "      <th colspan=\"10\" halign=\"left\">chrY</th>\n",
       "    </tr>\n",
       "    <tr>\n",
       "      <th></th>\n",
       "      <th></th>\n",
       "      <th>position</th>\n",
       "      <th>1048000</th>\n",
       "      <th>1190000</th>\n",
       "      <th>1308000</th>\n",
       "      <th>1409000</th>\n",
       "      <th>1410000</th>\n",
       "      <th>1580000</th>\n",
       "      <th>1581000</th>\n",
       "      <th>2211000</th>\n",
       "      <th>2513000</th>\n",
       "      <th>2581000</th>\n",
       "      <th>...</th>\n",
       "      <th>19535000</th>\n",
       "      <th>19536000</th>\n",
       "      <th>19699000</th>\n",
       "      <th>19700000</th>\n",
       "      <th>20552000</th>\n",
       "      <th>20553000</th>\n",
       "      <th>20976000</th>\n",
       "      <th>21047000</th>\n",
       "      <th>21217000</th>\n",
       "      <th>21639000</th>\n",
       "    </tr>\n",
       "    <tr>\n",
       "      <th>subject</th>\n",
       "      <th>sample</th>\n",
       "      <th>hkle</th>\n",
       "      <th></th>\n",
       "      <th></th>\n",
       "      <th></th>\n",
       "      <th></th>\n",
       "      <th></th>\n",
       "      <th></th>\n",
       "      <th></th>\n",
       "      <th></th>\n",
       "      <th></th>\n",
       "      <th></th>\n",
       "      <th></th>\n",
       "      <th></th>\n",
       "      <th></th>\n",
       "      <th></th>\n",
       "      <th></th>\n",
       "      <th></th>\n",
       "      <th></th>\n",
       "      <th></th>\n",
       "      <th></th>\n",
       "      <th></th>\n",
       "      <th></th>\n",
       "    </tr>\n",
       "  </thead>\n",
       "  <tbody>\n",
       "    <tr>\n",
       "      <th rowspan=\"5\" valign=\"top\">02-2483</th>\n",
       "      <th rowspan=\"5\" valign=\"top\">02-2483-01A</th>\n",
       "      <th>HERVK113</th>\n",
       "      <td>0</td>\n",
       "      <td>0</td>\n",
       "      <td>0</td>\n",
       "      <td>4</td>\n",
       "      <td>1</td>\n",
       "      <td>4</td>\n",
       "      <td>0</td>\n",
       "      <td>0</td>\n",
       "      <td>0</td>\n",
       "      <td>0</td>\n",
       "      <td>...</td>\n",
       "      <td>0</td>\n",
       "      <td>0</td>\n",
       "      <td>2</td>\n",
       "      <td>0</td>\n",
       "      <td>0</td>\n",
       "      <td>0</td>\n",
       "      <td>0</td>\n",
       "      <td>0</td>\n",
       "      <td>0</td>\n",
       "      <td>0</td>\n",
       "    </tr>\n",
       "    <tr>\n",
       "      <th>SVA_A</th>\n",
       "      <td>0</td>\n",
       "      <td>0</td>\n",
       "      <td>0</td>\n",
       "      <td>0</td>\n",
       "      <td>0</td>\n",
       "      <td>0</td>\n",
       "      <td>0</td>\n",
       "      <td>0</td>\n",
       "      <td>0</td>\n",
       "      <td>0</td>\n",
       "      <td>...</td>\n",
       "      <td>0</td>\n",
       "      <td>0</td>\n",
       "      <td>0</td>\n",
       "      <td>0</td>\n",
       "      <td>0</td>\n",
       "      <td>0</td>\n",
       "      <td>0</td>\n",
       "      <td>0</td>\n",
       "      <td>0</td>\n",
       "      <td>0</td>\n",
       "    </tr>\n",
       "    <tr>\n",
       "      <th>SVA_B</th>\n",
       "      <td>0</td>\n",
       "      <td>0</td>\n",
       "      <td>0</td>\n",
       "      <td>0</td>\n",
       "      <td>0</td>\n",
       "      <td>0</td>\n",
       "      <td>0</td>\n",
       "      <td>0</td>\n",
       "      <td>0</td>\n",
       "      <td>0</td>\n",
       "      <td>...</td>\n",
       "      <td>0</td>\n",
       "      <td>0</td>\n",
       "      <td>0</td>\n",
       "      <td>0</td>\n",
       "      <td>0</td>\n",
       "      <td>0</td>\n",
       "      <td>0</td>\n",
       "      <td>0</td>\n",
       "      <td>0</td>\n",
       "      <td>0</td>\n",
       "    </tr>\n",
       "    <tr>\n",
       "      <th>SVA_C</th>\n",
       "      <td>0</td>\n",
       "      <td>0</td>\n",
       "      <td>0</td>\n",
       "      <td>0</td>\n",
       "      <td>0</td>\n",
       "      <td>0</td>\n",
       "      <td>0</td>\n",
       "      <td>0</td>\n",
       "      <td>0</td>\n",
       "      <td>0</td>\n",
       "      <td>...</td>\n",
       "      <td>0</td>\n",
       "      <td>0</td>\n",
       "      <td>0</td>\n",
       "      <td>0</td>\n",
       "      <td>0</td>\n",
       "      <td>0</td>\n",
       "      <td>0</td>\n",
       "      <td>0</td>\n",
       "      <td>0</td>\n",
       "      <td>0</td>\n",
       "    </tr>\n",
       "    <tr>\n",
       "      <th>SVA_D</th>\n",
       "      <td>0</td>\n",
       "      <td>0</td>\n",
       "      <td>0</td>\n",
       "      <td>0</td>\n",
       "      <td>0</td>\n",
       "      <td>0</td>\n",
       "      <td>0</td>\n",
       "      <td>0</td>\n",
       "      <td>0</td>\n",
       "      <td>0</td>\n",
       "      <td>...</td>\n",
       "      <td>0</td>\n",
       "      <td>0</td>\n",
       "      <td>0</td>\n",
       "      <td>0</td>\n",
       "      <td>0</td>\n",
       "      <td>0</td>\n",
       "      <td>0</td>\n",
       "      <td>0</td>\n",
       "      <td>0</td>\n",
       "      <td>0</td>\n",
       "    </tr>\n",
       "  </tbody>\n",
       "</table>\n",
       "<p>5 rows × 17409 columns</p>\n",
       "</div>"
      ],
      "text/plain": [
       "chromosome                      chr1                                          \\\n",
       "position                     1048000 1190000 1308000 1409000 1410000 1580000   \n",
       "subject sample      hkle                                                       \n",
       "02-2483 02-2483-01A HERVK113       0       0       0       4       1       4   \n",
       "                    SVA_A          0       0       0       0       0       0   \n",
       "                    SVA_B          0       0       0       0       0       0   \n",
       "                    SVA_C          0       0       0       0       0       0   \n",
       "                    SVA_D          0       0       0       0       0       0   \n",
       "\n",
       "chromosome                                                    ...     chrY  \\\n",
       "position                     1581000 2211000 2513000 2581000  ... 19535000   \n",
       "subject sample      hkle                                      ...            \n",
       "02-2483 02-2483-01A HERVK113       0       0       0       0  ...        0   \n",
       "                    SVA_A          0       0       0       0  ...        0   \n",
       "                    SVA_B          0       0       0       0  ...        0   \n",
       "                    SVA_C          0       0       0       0  ...        0   \n",
       "                    SVA_D          0       0       0       0  ...        0   \n",
       "\n",
       "chromosome                                                                 \\\n",
       "position                     19536000 19699000 19700000 20552000 20553000   \n",
       "subject sample      hkle                                                    \n",
       "02-2483 02-2483-01A HERVK113        0        2        0        0        0   \n",
       "                    SVA_A           0        0        0        0        0   \n",
       "                    SVA_B           0        0        0        0        0   \n",
       "                    SVA_C           0        0        0        0        0   \n",
       "                    SVA_D           0        0        0        0        0   \n",
       "\n",
       "chromosome                                                        \n",
       "position                     20976000 21047000 21217000 21639000  \n",
       "subject sample      hkle                                          \n",
       "02-2483 02-2483-01A HERVK113        0        0        0        0  \n",
       "                    SVA_A           0        0        0        0  \n",
       "                    SVA_B           0        0        0        0  \n",
       "                    SVA_C           0        0        0        0  \n",
       "                    SVA_D           0        0        0        0  \n",
       "\n",
       "[5 rows x 17409 columns]"
      ]
     },
     "execution_count": 41,
     "metadata": {},
     "output_type": "execute_result"
    }
   ],
   "source": [
    "df.head()"
   ]
  },
  {
   "cell_type": "code",
   "execution_count": 42,
   "metadata": {},
   "outputs": [
    {
     "data": {
      "text/plain": [
       "(1918, 17409)"
      ]
     },
     "execution_count": 42,
     "metadata": {},
     "output_type": "execute_result"
    }
   ],
   "source": [
    "df.shape"
   ]
  },
  {
   "cell_type": "code",
   "execution_count": null,
   "metadata": {},
   "outputs": [],
   "source": []
  },
  {
   "cell_type": "markdown",
   "metadata": {},
   "source": [
    "## Drop recurrent tumor (-02?)"
   ]
  },
  {
   "cell_type": "code",
   "execution_count": 43,
   "metadata": {},
   "outputs": [
    {
     "data": {
      "text/plain": [
       "MultiIndex([('06-0125', '06-0125-02A', 'HERVK113'),\n",
       "            ('06-0125', '06-0125-02A',    'SVA_A'),\n",
       "            ('06-0125', '06-0125-02A',    'SVA_B'),\n",
       "            ('06-0125', '06-0125-02A',    'SVA_C'),\n",
       "            ('06-0125', '06-0125-02A',    'SVA_D'),\n",
       "            ('06-0125', '06-0125-02A',    'SVA_E'),\n",
       "            ('06-0125', '06-0125-02A',    'SVA_F'),\n",
       "            ('06-0152', '06-0152-02A', 'HERVK113'),\n",
       "            ('06-0152', '06-0152-02A',    'SVA_A'),\n",
       "            ('06-0152', '06-0152-02A',    'SVA_B'),\n",
       "            ...\n",
       "            ('TQ-A7RV', 'TQ-A7RV-02A',    'SVA_D'),\n",
       "            ('TQ-A7RV', 'TQ-A7RV-02A',    'SVA_E'),\n",
       "            ('TQ-A7RV', 'TQ-A7RV-02A',    'SVA_F'),\n",
       "            ('TQ-A8XE', 'TQ-A8XE-02A', 'HERVK113'),\n",
       "            ('TQ-A8XE', 'TQ-A8XE-02A',    'SVA_A'),\n",
       "            ('TQ-A8XE', 'TQ-A8XE-02A',    'SVA_B'),\n",
       "            ('TQ-A8XE', 'TQ-A8XE-02A',    'SVA_C'),\n",
       "            ('TQ-A8XE', 'TQ-A8XE-02A',    'SVA_D'),\n",
       "            ('TQ-A8XE', 'TQ-A8XE-02A',    'SVA_E'),\n",
       "            ('TQ-A8XE', 'TQ-A8XE-02A',    'SVA_F')],\n",
       "           names=['subject', 'sample', 'hkle'], length=189)"
      ]
     },
     "execution_count": 43,
     "metadata": {},
     "output_type": "execute_result"
    }
   ],
   "source": [
    "df.loc[df.index.get_level_values('sample').str.contains(\"-02.$\")].index"
   ]
  },
  {
   "cell_type": "code",
   "execution_count": 44,
   "metadata": {},
   "outputs": [],
   "source": [
    "df.drop(df.loc[df.index.get_level_values('sample').str.contains(\"-02.$\")].index,axis='index',inplace=True)"
   ]
  },
  {
   "cell_type": "code",
   "execution_count": 45,
   "metadata": {
    "scrolled": true
   },
   "outputs": [
    {
     "data": {
      "text/plain": [
       "MultiIndex([], names=['subject', 'sample', 'hkle'])"
      ]
     },
     "execution_count": 45,
     "metadata": {},
     "output_type": "execute_result"
    }
   ],
   "source": [
    "df.loc[df.index.get_level_values('sample').str.contains(\"-02.$\")].index"
   ]
  },
  {
   "cell_type": "code",
   "execution_count": null,
   "metadata": {},
   "outputs": [],
   "source": []
  },
  {
   "cell_type": "markdown",
   "metadata": {},
   "source": [
    "## Drop solid normal (-11?) (I've seen a couple)"
   ]
  },
  {
   "cell_type": "code",
   "execution_count": 46,
   "metadata": {},
   "outputs": [
    {
     "data": {
      "text/plain": [
       "MultiIndex([('FG-5963', 'FG-5963-11A', 'HERVK113'),\n",
       "            ('FG-5963', 'FG-5963-11A',    'SVA_A'),\n",
       "            ('FG-5963', 'FG-5963-11A',    'SVA_B'),\n",
       "            ('FG-5963', 'FG-5963-11A',    'SVA_C'),\n",
       "            ('FG-5963', 'FG-5963-11A',    'SVA_D'),\n",
       "            ('FG-5963', 'FG-5963-11A',    'SVA_E'),\n",
       "            ('FG-5963', 'FG-5963-11A',    'SVA_F')],\n",
       "           names=['subject', 'sample', 'hkle'])"
      ]
     },
     "execution_count": 46,
     "metadata": {},
     "output_type": "execute_result"
    }
   ],
   "source": [
    "df.loc[df.index.get_level_values('sample').str.contains(\"-11.$\")].index"
   ]
  },
  {
   "cell_type": "code",
   "execution_count": 47,
   "metadata": {},
   "outputs": [],
   "source": [
    "df.drop(df.loc[df.index.get_level_values('sample').str.contains(\"-11.$\")].index,axis='index',inplace=True)"
   ]
  },
  {
   "cell_type": "code",
   "execution_count": 48,
   "metadata": {
    "scrolled": true
   },
   "outputs": [
    {
     "data": {
      "text/plain": [
       "MultiIndex([], names=['subject', 'sample', 'hkle'])"
      ]
     },
     "execution_count": 48,
     "metadata": {},
     "output_type": "execute_result"
    }
   ],
   "source": [
    "df.loc[df.index.get_level_values('sample').str.contains(\"-11.$\")].index"
   ]
  },
  {
   "cell_type": "code",
   "execution_count": null,
   "metadata": {},
   "outputs": [],
   "source": []
  },
  {
   "cell_type": "markdown",
   "metadata": {},
   "source": [
    "## Drop solitary tumor / normal ( not sure how to do this programmatically )"
   ]
  },
  {
   "cell_type": "markdown",
   "metadata": {},
   "source": [
    "* FG-5963-01A\n",
    "* CS-5390-10A"
   ]
  },
  {
   "cell_type": "code",
   "execution_count": 49,
   "metadata": {},
   "outputs": [
    {
     "data": {
      "text/plain": [
       "MultiIndex([('FG-5963', 'FG-5963-01A', 'HERVK113'),\n",
       "            ('FG-5963', 'FG-5963-01A',    'SVA_A'),\n",
       "            ('FG-5963', 'FG-5963-01A',    'SVA_B'),\n",
       "            ('FG-5963', 'FG-5963-01A',    'SVA_C'),\n",
       "            ('FG-5963', 'FG-5963-01A',    'SVA_D'),\n",
       "            ('FG-5963', 'FG-5963-01A',    'SVA_E'),\n",
       "            ('FG-5963', 'FG-5963-01A',    'SVA_F')],\n",
       "           names=['subject', 'sample', 'hkle'])"
      ]
     },
     "execution_count": 49,
     "metadata": {},
     "output_type": "execute_result"
    }
   ],
   "source": [
    "df.loc[df.index.get_level_values('sample') == 'FG-5963-01A'].index"
   ]
  },
  {
   "cell_type": "code",
   "execution_count": 50,
   "metadata": {},
   "outputs": [],
   "source": [
    "df.drop(df.loc[df.index.get_level_values('sample') == 'FG-5963-01A'].index,axis='index',inplace=True)"
   ]
  },
  {
   "cell_type": "code",
   "execution_count": 51,
   "metadata": {
    "scrolled": true
   },
   "outputs": [
    {
     "data": {
      "text/plain": [
       "MultiIndex([], names=['subject', 'sample', 'hkle'])"
      ]
     },
     "execution_count": 51,
     "metadata": {},
     "output_type": "execute_result"
    }
   ],
   "source": [
    "df.loc[df.index.get_level_values('sample') == 'FG-5963-01A'].index"
   ]
  },
  {
   "cell_type": "code",
   "execution_count": null,
   "metadata": {},
   "outputs": [],
   "source": []
  },
  {
   "cell_type": "code",
   "execution_count": 52,
   "metadata": {},
   "outputs": [
    {
     "data": {
      "text/plain": [
       "MultiIndex([('CS-5390', 'CS-5390-10A', 'HERVK113'),\n",
       "            ('CS-5390', 'CS-5390-10A',    'SVA_A'),\n",
       "            ('CS-5390', 'CS-5390-10A',    'SVA_B'),\n",
       "            ('CS-5390', 'CS-5390-10A',    'SVA_C'),\n",
       "            ('CS-5390', 'CS-5390-10A',    'SVA_D'),\n",
       "            ('CS-5390', 'CS-5390-10A',    'SVA_E'),\n",
       "            ('CS-5390', 'CS-5390-10A',    'SVA_F')],\n",
       "           names=['subject', 'sample', 'hkle'])"
      ]
     },
     "execution_count": 52,
     "metadata": {},
     "output_type": "execute_result"
    }
   ],
   "source": [
    "df.loc[df.index.get_level_values('sample') == \"CS-5390-10A\"].index"
   ]
  },
  {
   "cell_type": "code",
   "execution_count": 53,
   "metadata": {},
   "outputs": [],
   "source": [
    "df.drop(df.loc[df.index.get_level_values('sample') == \"CS-5390-10A\"].index,axis='index',inplace=True)"
   ]
  },
  {
   "cell_type": "code",
   "execution_count": 54,
   "metadata": {
    "scrolled": true
   },
   "outputs": [
    {
     "data": {
      "text/plain": [
       "MultiIndex([], names=['subject', 'sample', 'hkle'])"
      ]
     },
     "execution_count": 54,
     "metadata": {},
     "output_type": "execute_result"
    }
   ],
   "source": [
    "df.loc[df.index.get_level_values('sample') == \"CS-5390-10A\"].index"
   ]
  },
  {
   "cell_type": "code",
   "execution_count": null,
   "metadata": {},
   "outputs": [],
   "source": []
  },
  {
   "cell_type": "code",
   "execution_count": null,
   "metadata": {},
   "outputs": [],
   "source": []
  },
  {
   "cell_type": "markdown",
   "metadata": {},
   "source": [
    "# Match earlier HERVK113 notebook counts\n",
    "* CS-5390-10A - 553\n",
    "* FG-5963-01A - 68\n",
    "* CS-6186-01A - 1100\n",
    "* CS-6186-10A - 950\n",
    "* DU-5872-01A - 1108\n",
    "* DU-5872-10A - 776\n",
    "* 02-2483-01A - 568\n",
    "* 02-2483-10A - 557\n",
    "* 02-2485-01A - 587\n",
    "* 02-2485-10A - 498\n",
    "* 06-0125-01A - 734"
   ]
  },
  {
   "cell_type": "code",
   "execution_count": 55,
   "metadata": {},
   "outputs": [
    {
     "data": {
      "text/plain": [
       "hkle\n",
       "HERVK113    1100\n",
       "SVA_A       2224\n",
       "SVA_B       2141\n",
       "SVA_C       2174\n",
       "SVA_D       2200\n",
       "SVA_E       2159\n",
       "SVA_F       1784\n",
       "dtype: int64"
      ]
     },
     "execution_count": 55,
     "metadata": {},
     "output_type": "execute_result"
    }
   ],
   "source": [
    "df[df[df.columns]>0].count(axis='columns')['CS-6186','CS-6186-01A']"
   ]
  },
  {
   "cell_type": "code",
   "execution_count": 56,
   "metadata": {},
   "outputs": [
    {
     "data": {
      "text/plain": [
       "hkle\n",
       "HERVK113     950\n",
       "SVA_A       1962\n",
       "SVA_B       1839\n",
       "SVA_C       1845\n",
       "SVA_D       1868\n",
       "SVA_E       1827\n",
       "SVA_F       1512\n",
       "dtype: int64"
      ]
     },
     "execution_count": 56,
     "metadata": {},
     "output_type": "execute_result"
    }
   ],
   "source": [
    "df[df[df.columns]>0].count(axis='columns')['CS-6186','CS-6186-10A']"
   ]
  },
  {
   "cell_type": "code",
   "execution_count": 57,
   "metadata": {},
   "outputs": [
    {
     "data": {
      "text/plain": [
       "hkle\n",
       "HERVK113    1108\n",
       "SVA_A       2744\n",
       "SVA_B       2640\n",
       "SVA_C       2625\n",
       "SVA_D       2644\n",
       "SVA_E       2614\n",
       "SVA_F       2285\n",
       "dtype: int64"
      ]
     },
     "execution_count": 57,
     "metadata": {},
     "output_type": "execute_result"
    }
   ],
   "source": [
    "df[df[df.columns]>0].count(axis='columns')['DU-5872','DU-5872-01A']"
   ]
  },
  {
   "cell_type": "code",
   "execution_count": 58,
   "metadata": {},
   "outputs": [
    {
     "data": {
      "text/plain": [
       "hkle\n",
       "HERVK113     776\n",
       "SVA_A       2008\n",
       "SVA_B       1904\n",
       "SVA_C       1908\n",
       "SVA_D       1926\n",
       "SVA_E       1884\n",
       "SVA_F       1547\n",
       "dtype: int64"
      ]
     },
     "execution_count": 58,
     "metadata": {},
     "output_type": "execute_result"
    }
   ],
   "source": [
    "df[df[df.columns]>0].count(axis='columns')['DU-5872','DU-5872-10A']"
   ]
  },
  {
   "cell_type": "code",
   "execution_count": null,
   "metadata": {},
   "outputs": [],
   "source": []
  },
  {
   "cell_type": "markdown",
   "metadata": {},
   "source": [
    "## Keep only Broad and drop Harvard Medical School\n",
    "\n",
    "### Harvard's samples were really low coverage?"
   ]
  },
  {
   "cell_type": "code",
   "execution_count": 59,
   "metadata": {},
   "outputs": [
    {
     "data": {
      "text/plain": [
       "array(['02-2483', '02-2485', '06-0125', '06-0152', '06-0157', '06-0171',\n",
       "       '06-0190', '06-0210', '06-0211', '06-0214', '06-0221', '06-0686',\n",
       "       '06-0744', '06-0745', '06-2557', '06-2570', '06-5411', '06-5415',\n",
       "       '14-1034', '14-1402', '14-1823', '14-2554', '15-1444', '19-1389',\n",
       "       '19-2620', '19-2624', '19-2629', '19-5960', '26-5132', '26-5135',\n",
       "       '27-1831', '27-2523', '27-2528', '32-1970', '41-5651', 'CS-5390',\n",
       "       'CS-5395', 'CS-6186', 'CS-6665', 'CS-6668', 'CS-6669', 'DB-5278',\n",
       "       'DH-A669', 'DU-5870', 'DU-5872', 'DU-5874', 'DU-6397', 'DU-6401',\n",
       "       'DU-6404', 'DU-6407', 'DU-7009', 'DU-7013', 'DU-7301', 'DU-7304',\n",
       "       'E1-5318', 'E1-5319', 'EZ-7264', 'FG-5964', 'FG-5965', 'FG-7643',\n",
       "       'FG-8182', 'FG-A4MT', 'HT-7602', 'HT-7689', 'HT-7695', 'HT-8104',\n",
       "       'HT-A5R7', 'HT-A61B', 'HW-7486', 'HW-7487', 'IK-7675', 'TM-A7CF',\n",
       "       'TQ-A7RK', 'TQ-A7RV', 'TQ-A8XE'], dtype=object)"
      ]
     },
     "execution_count": 59,
     "metadata": {},
     "output_type": "execute_result"
    }
   ],
   "source": [
    "meta[meta['center_name'] == 'Broad Institute of MIT and Harvard']['subject'].unique()\n"
   ]
  },
  {
   "cell_type": "code",
   "execution_count": 60,
   "metadata": {},
   "outputs": [
    {
     "data": {
      "text/plain": [
       "Index(['02-2483', '02-2483', '02-2483', '02-2483', '02-2483', '02-2483',\n",
       "       '02-2483', '02-2483', '02-2483', '02-2483',\n",
       "       ...\n",
       "       'TQ-A8XE', 'TQ-A8XE', 'TQ-A8XE', 'TQ-A8XE', 'TQ-A8XE', 'TQ-A8XE',\n",
       "       'TQ-A8XE', 'TQ-A8XE', 'TQ-A8XE', 'TQ-A8XE'],\n",
       "      dtype='object', name='subject', length=1708)"
      ]
     },
     "execution_count": 60,
     "metadata": {},
     "output_type": "execute_result"
    }
   ],
   "source": [
    "df.index.get_level_values('subject')\n"
   ]
  },
  {
   "cell_type": "code",
   "execution_count": 61,
   "metadata": {},
   "outputs": [
    {
     "data": {
      "text/plain": [
       "array([ True,  True,  True, ...,  True,  True,  True])"
      ]
     },
     "execution_count": 61,
     "metadata": {},
     "output_type": "execute_result"
    }
   ],
   "source": [
    "df.index.get_level_values('subject').isin(\n",
    "    meta[meta['center_name'] == 'Broad Institute of MIT and Harvard']['subject'].unique())\n"
   ]
  },
  {
   "cell_type": "code",
   "execution_count": 62,
   "metadata": {},
   "outputs": [
    {
     "data": {
      "text/html": [
       "<div>\n",
       "<style scoped>\n",
       "    .dataframe tbody tr th:only-of-type {\n",
       "        vertical-align: middle;\n",
       "    }\n",
       "\n",
       "    .dataframe tbody tr th {\n",
       "        vertical-align: top;\n",
       "    }\n",
       "\n",
       "    .dataframe thead tr th {\n",
       "        text-align: left;\n",
       "    }\n",
       "\n",
       "    .dataframe thead tr:last-of-type th {\n",
       "        text-align: right;\n",
       "    }\n",
       "</style>\n",
       "<table border=\"1\" class=\"dataframe\">\n",
       "  <thead>\n",
       "    <tr>\n",
       "      <th></th>\n",
       "      <th></th>\n",
       "      <th>chromosome</th>\n",
       "      <th colspan=\"10\" halign=\"left\">chr1</th>\n",
       "      <th>...</th>\n",
       "      <th colspan=\"10\" halign=\"left\">chrY</th>\n",
       "    </tr>\n",
       "    <tr>\n",
       "      <th></th>\n",
       "      <th></th>\n",
       "      <th>position</th>\n",
       "      <th>1048000</th>\n",
       "      <th>1190000</th>\n",
       "      <th>1308000</th>\n",
       "      <th>1409000</th>\n",
       "      <th>1410000</th>\n",
       "      <th>1580000</th>\n",
       "      <th>1581000</th>\n",
       "      <th>2211000</th>\n",
       "      <th>2513000</th>\n",
       "      <th>2581000</th>\n",
       "      <th>...</th>\n",
       "      <th>19535000</th>\n",
       "      <th>19536000</th>\n",
       "      <th>19699000</th>\n",
       "      <th>19700000</th>\n",
       "      <th>20552000</th>\n",
       "      <th>20553000</th>\n",
       "      <th>20976000</th>\n",
       "      <th>21047000</th>\n",
       "      <th>21217000</th>\n",
       "      <th>21639000</th>\n",
       "    </tr>\n",
       "    <tr>\n",
       "      <th>subject</th>\n",
       "      <th>sample</th>\n",
       "      <th>hkle</th>\n",
       "      <th></th>\n",
       "      <th></th>\n",
       "      <th></th>\n",
       "      <th></th>\n",
       "      <th></th>\n",
       "      <th></th>\n",
       "      <th></th>\n",
       "      <th></th>\n",
       "      <th></th>\n",
       "      <th></th>\n",
       "      <th></th>\n",
       "      <th></th>\n",
       "      <th></th>\n",
       "      <th></th>\n",
       "      <th></th>\n",
       "      <th></th>\n",
       "      <th></th>\n",
       "      <th></th>\n",
       "      <th></th>\n",
       "      <th></th>\n",
       "      <th></th>\n",
       "    </tr>\n",
       "  </thead>\n",
       "  <tbody>\n",
       "    <tr>\n",
       "      <th rowspan=\"5\" valign=\"top\">02-2483</th>\n",
       "      <th rowspan=\"5\" valign=\"top\">02-2483-01A</th>\n",
       "      <th>HERVK113</th>\n",
       "      <td>0</td>\n",
       "      <td>0</td>\n",
       "      <td>0</td>\n",
       "      <td>4</td>\n",
       "      <td>1</td>\n",
       "      <td>4</td>\n",
       "      <td>0</td>\n",
       "      <td>0</td>\n",
       "      <td>0</td>\n",
       "      <td>0</td>\n",
       "      <td>...</td>\n",
       "      <td>0</td>\n",
       "      <td>0</td>\n",
       "      <td>2</td>\n",
       "      <td>0</td>\n",
       "      <td>0</td>\n",
       "      <td>0</td>\n",
       "      <td>0</td>\n",
       "      <td>0</td>\n",
       "      <td>0</td>\n",
       "      <td>0</td>\n",
       "    </tr>\n",
       "    <tr>\n",
       "      <th>SVA_A</th>\n",
       "      <td>0</td>\n",
       "      <td>0</td>\n",
       "      <td>0</td>\n",
       "      <td>0</td>\n",
       "      <td>0</td>\n",
       "      <td>0</td>\n",
       "      <td>0</td>\n",
       "      <td>0</td>\n",
       "      <td>0</td>\n",
       "      <td>0</td>\n",
       "      <td>...</td>\n",
       "      <td>0</td>\n",
       "      <td>0</td>\n",
       "      <td>0</td>\n",
       "      <td>0</td>\n",
       "      <td>0</td>\n",
       "      <td>0</td>\n",
       "      <td>0</td>\n",
       "      <td>0</td>\n",
       "      <td>0</td>\n",
       "      <td>0</td>\n",
       "    </tr>\n",
       "    <tr>\n",
       "      <th>SVA_B</th>\n",
       "      <td>0</td>\n",
       "      <td>0</td>\n",
       "      <td>0</td>\n",
       "      <td>0</td>\n",
       "      <td>0</td>\n",
       "      <td>0</td>\n",
       "      <td>0</td>\n",
       "      <td>0</td>\n",
       "      <td>0</td>\n",
       "      <td>0</td>\n",
       "      <td>...</td>\n",
       "      <td>0</td>\n",
       "      <td>0</td>\n",
       "      <td>0</td>\n",
       "      <td>0</td>\n",
       "      <td>0</td>\n",
       "      <td>0</td>\n",
       "      <td>0</td>\n",
       "      <td>0</td>\n",
       "      <td>0</td>\n",
       "      <td>0</td>\n",
       "    </tr>\n",
       "    <tr>\n",
       "      <th>SVA_C</th>\n",
       "      <td>0</td>\n",
       "      <td>0</td>\n",
       "      <td>0</td>\n",
       "      <td>0</td>\n",
       "      <td>0</td>\n",
       "      <td>0</td>\n",
       "      <td>0</td>\n",
       "      <td>0</td>\n",
       "      <td>0</td>\n",
       "      <td>0</td>\n",
       "      <td>...</td>\n",
       "      <td>0</td>\n",
       "      <td>0</td>\n",
       "      <td>0</td>\n",
       "      <td>0</td>\n",
       "      <td>0</td>\n",
       "      <td>0</td>\n",
       "      <td>0</td>\n",
       "      <td>0</td>\n",
       "      <td>0</td>\n",
       "      <td>0</td>\n",
       "    </tr>\n",
       "    <tr>\n",
       "      <th>SVA_D</th>\n",
       "      <td>0</td>\n",
       "      <td>0</td>\n",
       "      <td>0</td>\n",
       "      <td>0</td>\n",
       "      <td>0</td>\n",
       "      <td>0</td>\n",
       "      <td>0</td>\n",
       "      <td>0</td>\n",
       "      <td>0</td>\n",
       "      <td>0</td>\n",
       "      <td>...</td>\n",
       "      <td>0</td>\n",
       "      <td>0</td>\n",
       "      <td>0</td>\n",
       "      <td>0</td>\n",
       "      <td>0</td>\n",
       "      <td>0</td>\n",
       "      <td>0</td>\n",
       "      <td>0</td>\n",
       "      <td>0</td>\n",
       "      <td>0</td>\n",
       "    </tr>\n",
       "  </tbody>\n",
       "</table>\n",
       "<p>5 rows × 17409 columns</p>\n",
       "</div>"
      ],
      "text/plain": [
       "chromosome                      chr1                                          \\\n",
       "position                     1048000 1190000 1308000 1409000 1410000 1580000   \n",
       "subject sample      hkle                                                       \n",
       "02-2483 02-2483-01A HERVK113       0       0       0       4       1       4   \n",
       "                    SVA_A          0       0       0       0       0       0   \n",
       "                    SVA_B          0       0       0       0       0       0   \n",
       "                    SVA_C          0       0       0       0       0       0   \n",
       "                    SVA_D          0       0       0       0       0       0   \n",
       "\n",
       "chromosome                                                    ...     chrY  \\\n",
       "position                     1581000 2211000 2513000 2581000  ... 19535000   \n",
       "subject sample      hkle                                      ...            \n",
       "02-2483 02-2483-01A HERVK113       0       0       0       0  ...        0   \n",
       "                    SVA_A          0       0       0       0  ...        0   \n",
       "                    SVA_B          0       0       0       0  ...        0   \n",
       "                    SVA_C          0       0       0       0  ...        0   \n",
       "                    SVA_D          0       0       0       0  ...        0   \n",
       "\n",
       "chromosome                                                                 \\\n",
       "position                     19536000 19699000 19700000 20552000 20553000   \n",
       "subject sample      hkle                                                    \n",
       "02-2483 02-2483-01A HERVK113        0        2        0        0        0   \n",
       "                    SVA_A           0        0        0        0        0   \n",
       "                    SVA_B           0        0        0        0        0   \n",
       "                    SVA_C           0        0        0        0        0   \n",
       "                    SVA_D           0        0        0        0        0   \n",
       "\n",
       "chromosome                                                        \n",
       "position                     20976000 21047000 21217000 21639000  \n",
       "subject sample      hkle                                          \n",
       "02-2483 02-2483-01A HERVK113        0        0        0        0  \n",
       "                    SVA_A           0        0        0        0  \n",
       "                    SVA_B           0        0        0        0  \n",
       "                    SVA_C           0        0        0        0  \n",
       "                    SVA_D           0        0        0        0  \n",
       "\n",
       "[5 rows x 17409 columns]"
      ]
     },
     "execution_count": 62,
     "metadata": {},
     "output_type": "execute_result"
    }
   ],
   "source": [
    "df=df[df.index.get_level_values('subject').isin(\n",
    "    meta[meta['center_name'] == 'Broad Institute of MIT and Harvard']['subject'].unique())]\n",
    "df.head()\n"
   ]
  },
  {
   "cell_type": "code",
   "execution_count": 63,
   "metadata": {},
   "outputs": [
    {
     "data": {
      "text/plain": [
       "(1022, 17409)"
      ]
     },
     "execution_count": 63,
     "metadata": {},
     "output_type": "execute_result"
    }
   ],
   "source": [
    "df.shape"
   ]
  },
  {
   "cell_type": "code",
   "execution_count": null,
   "metadata": {},
   "outputs": [],
   "source": []
  },
  {
   "cell_type": "code",
   "execution_count": null,
   "metadata": {},
   "outputs": [],
   "source": []
  },
  {
   "cell_type": "code",
   "execution_count": null,
   "metadata": {},
   "outputs": [],
   "source": []
  },
  {
   "cell_type": "markdown",
   "metadata": {},
   "source": [
    "## New technique. Separate the tumor and normal counts.\n",
    "### Remove the sample column\n",
    "### DO NOT RESHAPE"
   ]
  },
  {
   "cell_type": "code",
   "execution_count": 64,
   "metadata": {},
   "outputs": [],
   "source": [
    "n=df.copy()    # NORMAL\n",
    "t=df.copy()    # TUMOR"
   ]
  },
  {
   "cell_type": "code",
   "execution_count": 65,
   "metadata": {},
   "outputs": [],
   "source": [
    "n.drop(n.loc[n.index.get_level_values('sample').str.contains(\"-01.$\")].index,axis='index',inplace=True)\n",
    "t.drop(t.loc[t.index.get_level_values('sample').str.contains(\"-10.$\")].index,axis='index',inplace=True)"
   ]
  },
  {
   "cell_type": "code",
   "execution_count": 66,
   "metadata": {},
   "outputs": [],
   "source": [
    "n=n.droplevel('sample',axis='index')\n",
    "t=t.droplevel('sample',axis='index')"
   ]
  },
  {
   "cell_type": "code",
   "execution_count": 67,
   "metadata": {},
   "outputs": [
    {
     "data": {
      "text/html": [
       "<div>\n",
       "<style scoped>\n",
       "    .dataframe tbody tr th:only-of-type {\n",
       "        vertical-align: middle;\n",
       "    }\n",
       "\n",
       "    .dataframe tbody tr th {\n",
       "        vertical-align: top;\n",
       "    }\n",
       "\n",
       "    .dataframe thead tr th {\n",
       "        text-align: left;\n",
       "    }\n",
       "\n",
       "    .dataframe thead tr:last-of-type th {\n",
       "        text-align: right;\n",
       "    }\n",
       "</style>\n",
       "<table border=\"1\" class=\"dataframe\">\n",
       "  <thead>\n",
       "    <tr>\n",
       "      <th></th>\n",
       "      <th>chromosome</th>\n",
       "      <th colspan=\"10\" halign=\"left\">chr1</th>\n",
       "      <th>...</th>\n",
       "      <th colspan=\"10\" halign=\"left\">chrY</th>\n",
       "    </tr>\n",
       "    <tr>\n",
       "      <th></th>\n",
       "      <th>position</th>\n",
       "      <th>1048000</th>\n",
       "      <th>1190000</th>\n",
       "      <th>1308000</th>\n",
       "      <th>1409000</th>\n",
       "      <th>1410000</th>\n",
       "      <th>1580000</th>\n",
       "      <th>1581000</th>\n",
       "      <th>2211000</th>\n",
       "      <th>2513000</th>\n",
       "      <th>2581000</th>\n",
       "      <th>...</th>\n",
       "      <th>19535000</th>\n",
       "      <th>19536000</th>\n",
       "      <th>19699000</th>\n",
       "      <th>19700000</th>\n",
       "      <th>20552000</th>\n",
       "      <th>20553000</th>\n",
       "      <th>20976000</th>\n",
       "      <th>21047000</th>\n",
       "      <th>21217000</th>\n",
       "      <th>21639000</th>\n",
       "    </tr>\n",
       "    <tr>\n",
       "      <th>subject</th>\n",
       "      <th>hkle</th>\n",
       "      <th></th>\n",
       "      <th></th>\n",
       "      <th></th>\n",
       "      <th></th>\n",
       "      <th></th>\n",
       "      <th></th>\n",
       "      <th></th>\n",
       "      <th></th>\n",
       "      <th></th>\n",
       "      <th></th>\n",
       "      <th></th>\n",
       "      <th></th>\n",
       "      <th></th>\n",
       "      <th></th>\n",
       "      <th></th>\n",
       "      <th></th>\n",
       "      <th></th>\n",
       "      <th></th>\n",
       "      <th></th>\n",
       "      <th></th>\n",
       "      <th></th>\n",
       "    </tr>\n",
       "  </thead>\n",
       "  <tbody>\n",
       "    <tr>\n",
       "      <th rowspan=\"5\" valign=\"top\">02-2483</th>\n",
       "      <th>HERVK113</th>\n",
       "      <td>0</td>\n",
       "      <td>0</td>\n",
       "      <td>0</td>\n",
       "      <td>2</td>\n",
       "      <td>3</td>\n",
       "      <td>3</td>\n",
       "      <td>0</td>\n",
       "      <td>0</td>\n",
       "      <td>0</td>\n",
       "      <td>0</td>\n",
       "      <td>...</td>\n",
       "      <td>0</td>\n",
       "      <td>0</td>\n",
       "      <td>1</td>\n",
       "      <td>1</td>\n",
       "      <td>0</td>\n",
       "      <td>0</td>\n",
       "      <td>0</td>\n",
       "      <td>0</td>\n",
       "      <td>0</td>\n",
       "      <td>0</td>\n",
       "    </tr>\n",
       "    <tr>\n",
       "      <th>SVA_A</th>\n",
       "      <td>0</td>\n",
       "      <td>0</td>\n",
       "      <td>0</td>\n",
       "      <td>0</td>\n",
       "      <td>0</td>\n",
       "      <td>0</td>\n",
       "      <td>0</td>\n",
       "      <td>0</td>\n",
       "      <td>0</td>\n",
       "      <td>0</td>\n",
       "      <td>...</td>\n",
       "      <td>0</td>\n",
       "      <td>0</td>\n",
       "      <td>0</td>\n",
       "      <td>0</td>\n",
       "      <td>0</td>\n",
       "      <td>0</td>\n",
       "      <td>0</td>\n",
       "      <td>0</td>\n",
       "      <td>0</td>\n",
       "      <td>0</td>\n",
       "    </tr>\n",
       "    <tr>\n",
       "      <th>SVA_B</th>\n",
       "      <td>0</td>\n",
       "      <td>0</td>\n",
       "      <td>0</td>\n",
       "      <td>0</td>\n",
       "      <td>0</td>\n",
       "      <td>0</td>\n",
       "      <td>0</td>\n",
       "      <td>0</td>\n",
       "      <td>0</td>\n",
       "      <td>0</td>\n",
       "      <td>...</td>\n",
       "      <td>0</td>\n",
       "      <td>0</td>\n",
       "      <td>0</td>\n",
       "      <td>0</td>\n",
       "      <td>0</td>\n",
       "      <td>0</td>\n",
       "      <td>0</td>\n",
       "      <td>0</td>\n",
       "      <td>0</td>\n",
       "      <td>0</td>\n",
       "    </tr>\n",
       "    <tr>\n",
       "      <th>SVA_C</th>\n",
       "      <td>0</td>\n",
       "      <td>0</td>\n",
       "      <td>0</td>\n",
       "      <td>0</td>\n",
       "      <td>0</td>\n",
       "      <td>0</td>\n",
       "      <td>0</td>\n",
       "      <td>0</td>\n",
       "      <td>0</td>\n",
       "      <td>0</td>\n",
       "      <td>...</td>\n",
       "      <td>0</td>\n",
       "      <td>0</td>\n",
       "      <td>0</td>\n",
       "      <td>0</td>\n",
       "      <td>0</td>\n",
       "      <td>0</td>\n",
       "      <td>0</td>\n",
       "      <td>0</td>\n",
       "      <td>0</td>\n",
       "      <td>0</td>\n",
       "    </tr>\n",
       "    <tr>\n",
       "      <th>SVA_D</th>\n",
       "      <td>0</td>\n",
       "      <td>0</td>\n",
       "      <td>0</td>\n",
       "      <td>0</td>\n",
       "      <td>0</td>\n",
       "      <td>0</td>\n",
       "      <td>0</td>\n",
       "      <td>0</td>\n",
       "      <td>0</td>\n",
       "      <td>0</td>\n",
       "      <td>...</td>\n",
       "      <td>0</td>\n",
       "      <td>0</td>\n",
       "      <td>0</td>\n",
       "      <td>0</td>\n",
       "      <td>0</td>\n",
       "      <td>0</td>\n",
       "      <td>0</td>\n",
       "      <td>0</td>\n",
       "      <td>0</td>\n",
       "      <td>0</td>\n",
       "    </tr>\n",
       "  </tbody>\n",
       "</table>\n",
       "<p>5 rows × 17409 columns</p>\n",
       "</div>"
      ],
      "text/plain": [
       "chromosome          chr1                                                  \\\n",
       "position         1048000 1190000 1308000 1409000 1410000 1580000 1581000   \n",
       "subject hkle                                                               \n",
       "02-2483 HERVK113       0       0       0       2       3       3       0   \n",
       "        SVA_A          0       0       0       0       0       0       0   \n",
       "        SVA_B          0       0       0       0       0       0       0   \n",
       "        SVA_C          0       0       0       0       0       0       0   \n",
       "        SVA_D          0       0       0       0       0       0       0   \n",
       "\n",
       "chromosome                                ...     chrY                    \\\n",
       "position         2211000 2513000 2581000  ... 19535000 19536000 19699000   \n",
       "subject hkle                              ...                              \n",
       "02-2483 HERVK113       0       0       0  ...        0        0        1   \n",
       "        SVA_A          0       0       0  ...        0        0        0   \n",
       "        SVA_B          0       0       0  ...        0        0        0   \n",
       "        SVA_C          0       0       0  ...        0        0        0   \n",
       "        SVA_D          0       0       0  ...        0        0        0   \n",
       "\n",
       "chromosome                                                              \\\n",
       "position         19700000 20552000 20553000 20976000 21047000 21217000   \n",
       "subject hkle                                                             \n",
       "02-2483 HERVK113        1        0        0        0        0        0   \n",
       "        SVA_A           0        0        0        0        0        0   \n",
       "        SVA_B           0        0        0        0        0        0   \n",
       "        SVA_C           0        0        0        0        0        0   \n",
       "        SVA_D           0        0        0        0        0        0   \n",
       "\n",
       "chromosome                 \n",
       "position         21639000  \n",
       "subject hkle               \n",
       "02-2483 HERVK113        0  \n",
       "        SVA_A           0  \n",
       "        SVA_B           0  \n",
       "        SVA_C           0  \n",
       "        SVA_D           0  \n",
       "\n",
       "[5 rows x 17409 columns]"
      ]
     },
     "execution_count": 67,
     "metadata": {},
     "output_type": "execute_result"
    }
   ],
   "source": [
    "n.head()"
   ]
  },
  {
   "cell_type": "code",
   "execution_count": 68,
   "metadata": {},
   "outputs": [
    {
     "data": {
      "text/html": [
       "<div>\n",
       "<style scoped>\n",
       "    .dataframe tbody tr th:only-of-type {\n",
       "        vertical-align: middle;\n",
       "    }\n",
       "\n",
       "    .dataframe tbody tr th {\n",
       "        vertical-align: top;\n",
       "    }\n",
       "\n",
       "    .dataframe thead tr th {\n",
       "        text-align: left;\n",
       "    }\n",
       "\n",
       "    .dataframe thead tr:last-of-type th {\n",
       "        text-align: right;\n",
       "    }\n",
       "</style>\n",
       "<table border=\"1\" class=\"dataframe\">\n",
       "  <thead>\n",
       "    <tr>\n",
       "      <th></th>\n",
       "      <th>chromosome</th>\n",
       "      <th colspan=\"10\" halign=\"left\">chr1</th>\n",
       "      <th>...</th>\n",
       "      <th colspan=\"10\" halign=\"left\">chrY</th>\n",
       "    </tr>\n",
       "    <tr>\n",
       "      <th></th>\n",
       "      <th>position</th>\n",
       "      <th>1048000</th>\n",
       "      <th>1190000</th>\n",
       "      <th>1308000</th>\n",
       "      <th>1409000</th>\n",
       "      <th>1410000</th>\n",
       "      <th>1580000</th>\n",
       "      <th>1581000</th>\n",
       "      <th>2211000</th>\n",
       "      <th>2513000</th>\n",
       "      <th>2581000</th>\n",
       "      <th>...</th>\n",
       "      <th>19535000</th>\n",
       "      <th>19536000</th>\n",
       "      <th>19699000</th>\n",
       "      <th>19700000</th>\n",
       "      <th>20552000</th>\n",
       "      <th>20553000</th>\n",
       "      <th>20976000</th>\n",
       "      <th>21047000</th>\n",
       "      <th>21217000</th>\n",
       "      <th>21639000</th>\n",
       "    </tr>\n",
       "    <tr>\n",
       "      <th>subject</th>\n",
       "      <th>hkle</th>\n",
       "      <th></th>\n",
       "      <th></th>\n",
       "      <th></th>\n",
       "      <th></th>\n",
       "      <th></th>\n",
       "      <th></th>\n",
       "      <th></th>\n",
       "      <th></th>\n",
       "      <th></th>\n",
       "      <th></th>\n",
       "      <th></th>\n",
       "      <th></th>\n",
       "      <th></th>\n",
       "      <th></th>\n",
       "      <th></th>\n",
       "      <th></th>\n",
       "      <th></th>\n",
       "      <th></th>\n",
       "      <th></th>\n",
       "      <th></th>\n",
       "      <th></th>\n",
       "    </tr>\n",
       "  </thead>\n",
       "  <tbody>\n",
       "    <tr>\n",
       "      <th rowspan=\"5\" valign=\"top\">02-2483</th>\n",
       "      <th>HERVK113</th>\n",
       "      <td>0</td>\n",
       "      <td>0</td>\n",
       "      <td>0</td>\n",
       "      <td>4</td>\n",
       "      <td>1</td>\n",
       "      <td>4</td>\n",
       "      <td>0</td>\n",
       "      <td>0</td>\n",
       "      <td>0</td>\n",
       "      <td>0</td>\n",
       "      <td>...</td>\n",
       "      <td>0</td>\n",
       "      <td>0</td>\n",
       "      <td>2</td>\n",
       "      <td>0</td>\n",
       "      <td>0</td>\n",
       "      <td>0</td>\n",
       "      <td>0</td>\n",
       "      <td>0</td>\n",
       "      <td>0</td>\n",
       "      <td>0</td>\n",
       "    </tr>\n",
       "    <tr>\n",
       "      <th>SVA_A</th>\n",
       "      <td>0</td>\n",
       "      <td>0</td>\n",
       "      <td>0</td>\n",
       "      <td>0</td>\n",
       "      <td>0</td>\n",
       "      <td>0</td>\n",
       "      <td>0</td>\n",
       "      <td>0</td>\n",
       "      <td>0</td>\n",
       "      <td>0</td>\n",
       "      <td>...</td>\n",
       "      <td>0</td>\n",
       "      <td>0</td>\n",
       "      <td>0</td>\n",
       "      <td>0</td>\n",
       "      <td>0</td>\n",
       "      <td>0</td>\n",
       "      <td>0</td>\n",
       "      <td>0</td>\n",
       "      <td>0</td>\n",
       "      <td>0</td>\n",
       "    </tr>\n",
       "    <tr>\n",
       "      <th>SVA_B</th>\n",
       "      <td>0</td>\n",
       "      <td>0</td>\n",
       "      <td>0</td>\n",
       "      <td>0</td>\n",
       "      <td>0</td>\n",
       "      <td>0</td>\n",
       "      <td>0</td>\n",
       "      <td>0</td>\n",
       "      <td>0</td>\n",
       "      <td>0</td>\n",
       "      <td>...</td>\n",
       "      <td>0</td>\n",
       "      <td>0</td>\n",
       "      <td>0</td>\n",
       "      <td>0</td>\n",
       "      <td>0</td>\n",
       "      <td>0</td>\n",
       "      <td>0</td>\n",
       "      <td>0</td>\n",
       "      <td>0</td>\n",
       "      <td>0</td>\n",
       "    </tr>\n",
       "    <tr>\n",
       "      <th>SVA_C</th>\n",
       "      <td>0</td>\n",
       "      <td>0</td>\n",
       "      <td>0</td>\n",
       "      <td>0</td>\n",
       "      <td>0</td>\n",
       "      <td>0</td>\n",
       "      <td>0</td>\n",
       "      <td>0</td>\n",
       "      <td>0</td>\n",
       "      <td>0</td>\n",
       "      <td>...</td>\n",
       "      <td>0</td>\n",
       "      <td>0</td>\n",
       "      <td>0</td>\n",
       "      <td>0</td>\n",
       "      <td>0</td>\n",
       "      <td>0</td>\n",
       "      <td>0</td>\n",
       "      <td>0</td>\n",
       "      <td>0</td>\n",
       "      <td>0</td>\n",
       "    </tr>\n",
       "    <tr>\n",
       "      <th>SVA_D</th>\n",
       "      <td>0</td>\n",
       "      <td>0</td>\n",
       "      <td>0</td>\n",
       "      <td>0</td>\n",
       "      <td>0</td>\n",
       "      <td>0</td>\n",
       "      <td>0</td>\n",
       "      <td>0</td>\n",
       "      <td>0</td>\n",
       "      <td>0</td>\n",
       "      <td>...</td>\n",
       "      <td>0</td>\n",
       "      <td>0</td>\n",
       "      <td>0</td>\n",
       "      <td>0</td>\n",
       "      <td>0</td>\n",
       "      <td>0</td>\n",
       "      <td>0</td>\n",
       "      <td>0</td>\n",
       "      <td>0</td>\n",
       "      <td>0</td>\n",
       "    </tr>\n",
       "  </tbody>\n",
       "</table>\n",
       "<p>5 rows × 17409 columns</p>\n",
       "</div>"
      ],
      "text/plain": [
       "chromosome          chr1                                                  \\\n",
       "position         1048000 1190000 1308000 1409000 1410000 1580000 1581000   \n",
       "subject hkle                                                               \n",
       "02-2483 HERVK113       0       0       0       4       1       4       0   \n",
       "        SVA_A          0       0       0       0       0       0       0   \n",
       "        SVA_B          0       0       0       0       0       0       0   \n",
       "        SVA_C          0       0       0       0       0       0       0   \n",
       "        SVA_D          0       0       0       0       0       0       0   \n",
       "\n",
       "chromosome                                ...     chrY                    \\\n",
       "position         2211000 2513000 2581000  ... 19535000 19536000 19699000   \n",
       "subject hkle                              ...                              \n",
       "02-2483 HERVK113       0       0       0  ...        0        0        2   \n",
       "        SVA_A          0       0       0  ...        0        0        0   \n",
       "        SVA_B          0       0       0  ...        0        0        0   \n",
       "        SVA_C          0       0       0  ...        0        0        0   \n",
       "        SVA_D          0       0       0  ...        0        0        0   \n",
       "\n",
       "chromosome                                                              \\\n",
       "position         19700000 20552000 20553000 20976000 21047000 21217000   \n",
       "subject hkle                                                             \n",
       "02-2483 HERVK113        0        0        0        0        0        0   \n",
       "        SVA_A           0        0        0        0        0        0   \n",
       "        SVA_B           0        0        0        0        0        0   \n",
       "        SVA_C           0        0        0        0        0        0   \n",
       "        SVA_D           0        0        0        0        0        0   \n",
       "\n",
       "chromosome                 \n",
       "position         21639000  \n",
       "subject hkle               \n",
       "02-2483 HERVK113        0  \n",
       "        SVA_A           0  \n",
       "        SVA_B           0  \n",
       "        SVA_C           0  \n",
       "        SVA_D           0  \n",
       "\n",
       "[5 rows x 17409 columns]"
      ]
     },
     "execution_count": 68,
     "metadata": {},
     "output_type": "execute_result"
    }
   ],
   "source": [
    "t.head()"
   ]
  },
  {
   "cell_type": "code",
   "execution_count": 69,
   "metadata": {},
   "outputs": [],
   "source": [
    "n_index=n.index\n",
    "t_index=t.index"
   ]
  },
  {
   "cell_type": "markdown",
   "metadata": {},
   "source": [
    "### Compare the indexes. An empty array shows that the indexes are the same. Yay."
   ]
  },
  {
   "cell_type": "code",
   "execution_count": 70,
   "metadata": {},
   "outputs": [
    {
     "data": {
      "text/plain": [
       "MultiIndex([], names=['subject', 'hkle'])"
      ]
     },
     "execution_count": 70,
     "metadata": {},
     "output_type": "execute_result"
    }
   ],
   "source": [
    "n_index[n_index != t_index]"
   ]
  },
  {
   "cell_type": "code",
   "execution_count": 71,
   "metadata": {},
   "outputs": [],
   "source": [
    "compdf=(((n>0)^(t>0))&(t>0)).replace([False,True],[0,1]) - (((n>0)^(t>0))&(n>0)).replace([False,True],[0,1])"
   ]
  },
  {
   "cell_type": "code",
   "execution_count": 72,
   "metadata": {},
   "outputs": [
    {
     "data": {
      "text/html": [
       "<div>\n",
       "<style scoped>\n",
       "    .dataframe tbody tr th:only-of-type {\n",
       "        vertical-align: middle;\n",
       "    }\n",
       "\n",
       "    .dataframe tbody tr th {\n",
       "        vertical-align: top;\n",
       "    }\n",
       "\n",
       "    .dataframe thead tr th {\n",
       "        text-align: left;\n",
       "    }\n",
       "\n",
       "    .dataframe thead tr:last-of-type th {\n",
       "        text-align: right;\n",
       "    }\n",
       "</style>\n",
       "<table border=\"1\" class=\"dataframe\">\n",
       "  <thead>\n",
       "    <tr>\n",
       "      <th></th>\n",
       "      <th>chromosome</th>\n",
       "      <th colspan=\"10\" halign=\"left\">chr1</th>\n",
       "      <th>...</th>\n",
       "      <th colspan=\"10\" halign=\"left\">chrY</th>\n",
       "    </tr>\n",
       "    <tr>\n",
       "      <th></th>\n",
       "      <th>position</th>\n",
       "      <th>1048000</th>\n",
       "      <th>1190000</th>\n",
       "      <th>1308000</th>\n",
       "      <th>1409000</th>\n",
       "      <th>1410000</th>\n",
       "      <th>1580000</th>\n",
       "      <th>1581000</th>\n",
       "      <th>2211000</th>\n",
       "      <th>2513000</th>\n",
       "      <th>2581000</th>\n",
       "      <th>...</th>\n",
       "      <th>19535000</th>\n",
       "      <th>19536000</th>\n",
       "      <th>19699000</th>\n",
       "      <th>19700000</th>\n",
       "      <th>20552000</th>\n",
       "      <th>20553000</th>\n",
       "      <th>20976000</th>\n",
       "      <th>21047000</th>\n",
       "      <th>21217000</th>\n",
       "      <th>21639000</th>\n",
       "    </tr>\n",
       "    <tr>\n",
       "      <th>subject</th>\n",
       "      <th>hkle</th>\n",
       "      <th></th>\n",
       "      <th></th>\n",
       "      <th></th>\n",
       "      <th></th>\n",
       "      <th></th>\n",
       "      <th></th>\n",
       "      <th></th>\n",
       "      <th></th>\n",
       "      <th></th>\n",
       "      <th></th>\n",
       "      <th></th>\n",
       "      <th></th>\n",
       "      <th></th>\n",
       "      <th></th>\n",
       "      <th></th>\n",
       "      <th></th>\n",
       "      <th></th>\n",
       "      <th></th>\n",
       "      <th></th>\n",
       "      <th></th>\n",
       "      <th></th>\n",
       "    </tr>\n",
       "  </thead>\n",
       "  <tbody>\n",
       "    <tr>\n",
       "      <th rowspan=\"5\" valign=\"top\">02-2483</th>\n",
       "      <th>HERVK113</th>\n",
       "      <td>0</td>\n",
       "      <td>0</td>\n",
       "      <td>0</td>\n",
       "      <td>0</td>\n",
       "      <td>0</td>\n",
       "      <td>0</td>\n",
       "      <td>0</td>\n",
       "      <td>0</td>\n",
       "      <td>0</td>\n",
       "      <td>0</td>\n",
       "      <td>...</td>\n",
       "      <td>0</td>\n",
       "      <td>0</td>\n",
       "      <td>0</td>\n",
       "      <td>-1</td>\n",
       "      <td>0</td>\n",
       "      <td>0</td>\n",
       "      <td>0</td>\n",
       "      <td>0</td>\n",
       "      <td>0</td>\n",
       "      <td>0</td>\n",
       "    </tr>\n",
       "    <tr>\n",
       "      <th>SVA_A</th>\n",
       "      <td>0</td>\n",
       "      <td>0</td>\n",
       "      <td>0</td>\n",
       "      <td>0</td>\n",
       "      <td>0</td>\n",
       "      <td>0</td>\n",
       "      <td>0</td>\n",
       "      <td>0</td>\n",
       "      <td>0</td>\n",
       "      <td>0</td>\n",
       "      <td>...</td>\n",
       "      <td>0</td>\n",
       "      <td>0</td>\n",
       "      <td>0</td>\n",
       "      <td>0</td>\n",
       "      <td>0</td>\n",
       "      <td>0</td>\n",
       "      <td>0</td>\n",
       "      <td>0</td>\n",
       "      <td>0</td>\n",
       "      <td>0</td>\n",
       "    </tr>\n",
       "    <tr>\n",
       "      <th>SVA_B</th>\n",
       "      <td>0</td>\n",
       "      <td>0</td>\n",
       "      <td>0</td>\n",
       "      <td>0</td>\n",
       "      <td>0</td>\n",
       "      <td>0</td>\n",
       "      <td>0</td>\n",
       "      <td>0</td>\n",
       "      <td>0</td>\n",
       "      <td>0</td>\n",
       "      <td>...</td>\n",
       "      <td>0</td>\n",
       "      <td>0</td>\n",
       "      <td>0</td>\n",
       "      <td>0</td>\n",
       "      <td>0</td>\n",
       "      <td>0</td>\n",
       "      <td>0</td>\n",
       "      <td>0</td>\n",
       "      <td>0</td>\n",
       "      <td>0</td>\n",
       "    </tr>\n",
       "    <tr>\n",
       "      <th>SVA_C</th>\n",
       "      <td>0</td>\n",
       "      <td>0</td>\n",
       "      <td>0</td>\n",
       "      <td>0</td>\n",
       "      <td>0</td>\n",
       "      <td>0</td>\n",
       "      <td>0</td>\n",
       "      <td>0</td>\n",
       "      <td>0</td>\n",
       "      <td>0</td>\n",
       "      <td>...</td>\n",
       "      <td>0</td>\n",
       "      <td>0</td>\n",
       "      <td>0</td>\n",
       "      <td>0</td>\n",
       "      <td>0</td>\n",
       "      <td>0</td>\n",
       "      <td>0</td>\n",
       "      <td>0</td>\n",
       "      <td>0</td>\n",
       "      <td>0</td>\n",
       "    </tr>\n",
       "    <tr>\n",
       "      <th>SVA_D</th>\n",
       "      <td>0</td>\n",
       "      <td>0</td>\n",
       "      <td>0</td>\n",
       "      <td>0</td>\n",
       "      <td>0</td>\n",
       "      <td>0</td>\n",
       "      <td>0</td>\n",
       "      <td>0</td>\n",
       "      <td>0</td>\n",
       "      <td>0</td>\n",
       "      <td>...</td>\n",
       "      <td>0</td>\n",
       "      <td>0</td>\n",
       "      <td>0</td>\n",
       "      <td>0</td>\n",
       "      <td>0</td>\n",
       "      <td>0</td>\n",
       "      <td>0</td>\n",
       "      <td>0</td>\n",
       "      <td>0</td>\n",
       "      <td>0</td>\n",
       "    </tr>\n",
       "    <tr>\n",
       "      <th>...</th>\n",
       "      <th>...</th>\n",
       "      <td>...</td>\n",
       "      <td>...</td>\n",
       "      <td>...</td>\n",
       "      <td>...</td>\n",
       "      <td>...</td>\n",
       "      <td>...</td>\n",
       "      <td>...</td>\n",
       "      <td>...</td>\n",
       "      <td>...</td>\n",
       "      <td>...</td>\n",
       "      <td>...</td>\n",
       "      <td>...</td>\n",
       "      <td>...</td>\n",
       "      <td>...</td>\n",
       "      <td>...</td>\n",
       "      <td>...</td>\n",
       "      <td>...</td>\n",
       "      <td>...</td>\n",
       "      <td>...</td>\n",
       "      <td>...</td>\n",
       "      <td>...</td>\n",
       "    </tr>\n",
       "    <tr>\n",
       "      <th rowspan=\"5\" valign=\"top\">TQ-A8XE</th>\n",
       "      <th>SVA_B</th>\n",
       "      <td>0</td>\n",
       "      <td>0</td>\n",
       "      <td>0</td>\n",
       "      <td>0</td>\n",
       "      <td>0</td>\n",
       "      <td>0</td>\n",
       "      <td>1</td>\n",
       "      <td>0</td>\n",
       "      <td>0</td>\n",
       "      <td>0</td>\n",
       "      <td>...</td>\n",
       "      <td>0</td>\n",
       "      <td>0</td>\n",
       "      <td>0</td>\n",
       "      <td>0</td>\n",
       "      <td>0</td>\n",
       "      <td>0</td>\n",
       "      <td>0</td>\n",
       "      <td>0</td>\n",
       "      <td>0</td>\n",
       "      <td>0</td>\n",
       "    </tr>\n",
       "    <tr>\n",
       "      <th>SVA_C</th>\n",
       "      <td>0</td>\n",
       "      <td>0</td>\n",
       "      <td>0</td>\n",
       "      <td>0</td>\n",
       "      <td>0</td>\n",
       "      <td>0</td>\n",
       "      <td>0</td>\n",
       "      <td>0</td>\n",
       "      <td>0</td>\n",
       "      <td>0</td>\n",
       "      <td>...</td>\n",
       "      <td>0</td>\n",
       "      <td>0</td>\n",
       "      <td>0</td>\n",
       "      <td>0</td>\n",
       "      <td>0</td>\n",
       "      <td>0</td>\n",
       "      <td>0</td>\n",
       "      <td>0</td>\n",
       "      <td>0</td>\n",
       "      <td>0</td>\n",
       "    </tr>\n",
       "    <tr>\n",
       "      <th>SVA_D</th>\n",
       "      <td>0</td>\n",
       "      <td>0</td>\n",
       "      <td>0</td>\n",
       "      <td>0</td>\n",
       "      <td>0</td>\n",
       "      <td>0</td>\n",
       "      <td>0</td>\n",
       "      <td>0</td>\n",
       "      <td>0</td>\n",
       "      <td>0</td>\n",
       "      <td>...</td>\n",
       "      <td>0</td>\n",
       "      <td>0</td>\n",
       "      <td>0</td>\n",
       "      <td>0</td>\n",
       "      <td>0</td>\n",
       "      <td>0</td>\n",
       "      <td>0</td>\n",
       "      <td>0</td>\n",
       "      <td>0</td>\n",
       "      <td>0</td>\n",
       "    </tr>\n",
       "    <tr>\n",
       "      <th>SVA_E</th>\n",
       "      <td>0</td>\n",
       "      <td>0</td>\n",
       "      <td>0</td>\n",
       "      <td>0</td>\n",
       "      <td>0</td>\n",
       "      <td>0</td>\n",
       "      <td>0</td>\n",
       "      <td>0</td>\n",
       "      <td>0</td>\n",
       "      <td>0</td>\n",
       "      <td>...</td>\n",
       "      <td>0</td>\n",
       "      <td>0</td>\n",
       "      <td>0</td>\n",
       "      <td>0</td>\n",
       "      <td>0</td>\n",
       "      <td>0</td>\n",
       "      <td>0</td>\n",
       "      <td>0</td>\n",
       "      <td>0</td>\n",
       "      <td>0</td>\n",
       "    </tr>\n",
       "    <tr>\n",
       "      <th>SVA_F</th>\n",
       "      <td>0</td>\n",
       "      <td>0</td>\n",
       "      <td>0</td>\n",
       "      <td>0</td>\n",
       "      <td>0</td>\n",
       "      <td>0</td>\n",
       "      <td>0</td>\n",
       "      <td>0</td>\n",
       "      <td>0</td>\n",
       "      <td>0</td>\n",
       "      <td>...</td>\n",
       "      <td>0</td>\n",
       "      <td>0</td>\n",
       "      <td>0</td>\n",
       "      <td>0</td>\n",
       "      <td>0</td>\n",
       "      <td>0</td>\n",
       "      <td>0</td>\n",
       "      <td>0</td>\n",
       "      <td>0</td>\n",
       "      <td>0</td>\n",
       "    </tr>\n",
       "  </tbody>\n",
       "</table>\n",
       "<p>511 rows × 17409 columns</p>\n",
       "</div>"
      ],
      "text/plain": [
       "chromosome          chr1                                                  \\\n",
       "position         1048000 1190000 1308000 1409000 1410000 1580000 1581000   \n",
       "subject hkle                                                               \n",
       "02-2483 HERVK113       0       0       0       0       0       0       0   \n",
       "        SVA_A          0       0       0       0       0       0       0   \n",
       "        SVA_B          0       0       0       0       0       0       0   \n",
       "        SVA_C          0       0       0       0       0       0       0   \n",
       "        SVA_D          0       0       0       0       0       0       0   \n",
       "...                  ...     ...     ...     ...     ...     ...     ...   \n",
       "TQ-A8XE SVA_B          0       0       0       0       0       0       1   \n",
       "        SVA_C          0       0       0       0       0       0       0   \n",
       "        SVA_D          0       0       0       0       0       0       0   \n",
       "        SVA_E          0       0       0       0       0       0       0   \n",
       "        SVA_F          0       0       0       0       0       0       0   \n",
       "\n",
       "chromosome                                ...     chrY                    \\\n",
       "position         2211000 2513000 2581000  ... 19535000 19536000 19699000   \n",
       "subject hkle                              ...                              \n",
       "02-2483 HERVK113       0       0       0  ...        0        0        0   \n",
       "        SVA_A          0       0       0  ...        0        0        0   \n",
       "        SVA_B          0       0       0  ...        0        0        0   \n",
       "        SVA_C          0       0       0  ...        0        0        0   \n",
       "        SVA_D          0       0       0  ...        0        0        0   \n",
       "...                  ...     ...     ...  ...      ...      ...      ...   \n",
       "TQ-A8XE SVA_B          0       0       0  ...        0        0        0   \n",
       "        SVA_C          0       0       0  ...        0        0        0   \n",
       "        SVA_D          0       0       0  ...        0        0        0   \n",
       "        SVA_E          0       0       0  ...        0        0        0   \n",
       "        SVA_F          0       0       0  ...        0        0        0   \n",
       "\n",
       "chromosome                                                              \\\n",
       "position         19700000 20552000 20553000 20976000 21047000 21217000   \n",
       "subject hkle                                                             \n",
       "02-2483 HERVK113       -1        0        0        0        0        0   \n",
       "        SVA_A           0        0        0        0        0        0   \n",
       "        SVA_B           0        0        0        0        0        0   \n",
       "        SVA_C           0        0        0        0        0        0   \n",
       "        SVA_D           0        0        0        0        0        0   \n",
       "...                   ...      ...      ...      ...      ...      ...   \n",
       "TQ-A8XE SVA_B           0        0        0        0        0        0   \n",
       "        SVA_C           0        0        0        0        0        0   \n",
       "        SVA_D           0        0        0        0        0        0   \n",
       "        SVA_E           0        0        0        0        0        0   \n",
       "        SVA_F           0        0        0        0        0        0   \n",
       "\n",
       "chromosome                 \n",
       "position         21639000  \n",
       "subject hkle               \n",
       "02-2483 HERVK113        0  \n",
       "        SVA_A           0  \n",
       "        SVA_B           0  \n",
       "        SVA_C           0  \n",
       "        SVA_D           0  \n",
       "...                   ...  \n",
       "TQ-A8XE SVA_B           0  \n",
       "        SVA_C           0  \n",
       "        SVA_D           0  \n",
       "        SVA_E           0  \n",
       "        SVA_F           0  \n",
       "\n",
       "[511 rows x 17409 columns]"
      ]
     },
     "execution_count": 72,
     "metadata": {},
     "output_type": "execute_result"
    }
   ],
   "source": [
    "compdf"
   ]
  },
  {
   "cell_type": "markdown",
   "metadata": {},
   "source": [
    "This is cleaner, faster and more pythonic than what follows for compdf.\n"
   ]
  },
  {
   "cell_type": "code",
   "execution_count": null,
   "metadata": {},
   "outputs": [],
   "source": []
  },
  {
   "cell_type": "markdown",
   "metadata": {},
   "source": [
    "## Search for the presence of HKLE insertions with positions unique to tumor or normal"
   ]
  },
  {
   "cell_type": "markdown",
   "metadata": {},
   "source": [
    "### Copy raw dataframe, remove sample level and clear out the values"
   ]
  },
  {
   "cell_type": "code",
   "execution_count": 73,
   "metadata": {},
   "outputs": [],
   "source": [
    "#compdf=df.copy()\n",
    "#compdf.drop(compdf.loc[compdf.index.get_level_values('sample').str.contains(\"-10.$\")].index,axis='index',inplace=True)\n",
    "#compdf=compdf.droplevel('sample',axis='index')\n",
    "#compdf.loc[:,:] = 0\n",
    "#compdf.head(10)"
   ]
  },
  {
   "cell_type": "code",
   "execution_count": null,
   "metadata": {},
   "outputs": [],
   "source": []
  },
  {
   "cell_type": "code",
   "execution_count": null,
   "metadata": {},
   "outputs": [],
   "source": []
  },
  {
   "cell_type": "markdown",
   "metadata": {},
   "source": [
    "## Ok. This is some dark magic I think. Gotta be a better, cleaner way to do this.\n",
    "\n",
    "* Loop over the subjects and hkles. (Loops aren't really pythony.)\n",
    "* Do an \"XOR-AND\" for the first (tumor 01) and second (normal 10) samples.\n",
    "* This returns a Boolean mask\n",
    "* Change it to 0/1\n",
    "* Subtract the tumor array from the normal array and assign it to the subject/hkle\n",
    "\n",
    "### This will create a dataframe of positions representing \"tumor - normal\" so with values of only\n",
    "\n",
    "* -1 : normal only\n",
    "*  0 : both or neither\n",
    "* +1 : tumor only\n"
   ]
  },
  {
   "cell_type": "code",
   "execution_count": 74,
   "metadata": {
    "scrolled": true
   },
   "outputs": [],
   "source": [
    "#for subject in df.index.get_level_values('subject').unique():\n",
    "#    for hkle in df.index.get_level_values('hkle').unique():\n",
    "#        tm=(((  df.loc[subject,:,hkle].iloc[0]>0)^(\n",
    "#                df.loc[subject,:,hkle].iloc[1]>0))&(\n",
    "#                df.loc[subject,:,hkle].iloc[0]>0))\n",
    "#        tm.replace([False,True],[0,1],inplace=True)\n",
    "#        nm=(((  df.loc[subject,:,hkle].iloc[0]>0)^(\n",
    "#                df.loc[subject,:,hkle].iloc[1]>0))&(\n",
    "#                df.loc[subject,:,hkle].iloc[1]>0))\n",
    "#        nm.replace([False,True],[0,1],inplace=True)\n",
    "#        compdf.loc[subject,hkle]=tm.values-nm.values"
   ]
  },
  {
   "cell_type": "code",
   "execution_count": 75,
   "metadata": {},
   "outputs": [
    {
     "data": {
      "text/html": [
       "<div>\n",
       "<style scoped>\n",
       "    .dataframe tbody tr th:only-of-type {\n",
       "        vertical-align: middle;\n",
       "    }\n",
       "\n",
       "    .dataframe tbody tr th {\n",
       "        vertical-align: top;\n",
       "    }\n",
       "\n",
       "    .dataframe thead tr th {\n",
       "        text-align: left;\n",
       "    }\n",
       "\n",
       "    .dataframe thead tr:last-of-type th {\n",
       "        text-align: right;\n",
       "    }\n",
       "</style>\n",
       "<table border=\"1\" class=\"dataframe\">\n",
       "  <thead>\n",
       "    <tr>\n",
       "      <th></th>\n",
       "      <th>chromosome</th>\n",
       "      <th colspan=\"10\" halign=\"left\">chr1</th>\n",
       "      <th>...</th>\n",
       "      <th colspan=\"10\" halign=\"left\">chrY</th>\n",
       "    </tr>\n",
       "    <tr>\n",
       "      <th></th>\n",
       "      <th>position</th>\n",
       "      <th>1048000</th>\n",
       "      <th>1190000</th>\n",
       "      <th>1308000</th>\n",
       "      <th>1409000</th>\n",
       "      <th>1410000</th>\n",
       "      <th>1580000</th>\n",
       "      <th>1581000</th>\n",
       "      <th>2211000</th>\n",
       "      <th>2513000</th>\n",
       "      <th>2581000</th>\n",
       "      <th>...</th>\n",
       "      <th>19535000</th>\n",
       "      <th>19536000</th>\n",
       "      <th>19699000</th>\n",
       "      <th>19700000</th>\n",
       "      <th>20552000</th>\n",
       "      <th>20553000</th>\n",
       "      <th>20976000</th>\n",
       "      <th>21047000</th>\n",
       "      <th>21217000</th>\n",
       "      <th>21639000</th>\n",
       "    </tr>\n",
       "    <tr>\n",
       "      <th>subject</th>\n",
       "      <th>hkle</th>\n",
       "      <th></th>\n",
       "      <th></th>\n",
       "      <th></th>\n",
       "      <th></th>\n",
       "      <th></th>\n",
       "      <th></th>\n",
       "      <th></th>\n",
       "      <th></th>\n",
       "      <th></th>\n",
       "      <th></th>\n",
       "      <th></th>\n",
       "      <th></th>\n",
       "      <th></th>\n",
       "      <th></th>\n",
       "      <th></th>\n",
       "      <th></th>\n",
       "      <th></th>\n",
       "      <th></th>\n",
       "      <th></th>\n",
       "      <th></th>\n",
       "      <th></th>\n",
       "    </tr>\n",
       "  </thead>\n",
       "  <tbody>\n",
       "    <tr>\n",
       "      <th rowspan=\"5\" valign=\"top\">02-2483</th>\n",
       "      <th>HERVK113</th>\n",
       "      <td>0</td>\n",
       "      <td>0</td>\n",
       "      <td>0</td>\n",
       "      <td>0</td>\n",
       "      <td>0</td>\n",
       "      <td>0</td>\n",
       "      <td>0</td>\n",
       "      <td>0</td>\n",
       "      <td>0</td>\n",
       "      <td>0</td>\n",
       "      <td>...</td>\n",
       "      <td>0</td>\n",
       "      <td>0</td>\n",
       "      <td>0</td>\n",
       "      <td>-1</td>\n",
       "      <td>0</td>\n",
       "      <td>0</td>\n",
       "      <td>0</td>\n",
       "      <td>0</td>\n",
       "      <td>0</td>\n",
       "      <td>0</td>\n",
       "    </tr>\n",
       "    <tr>\n",
       "      <th>SVA_A</th>\n",
       "      <td>0</td>\n",
       "      <td>0</td>\n",
       "      <td>0</td>\n",
       "      <td>0</td>\n",
       "      <td>0</td>\n",
       "      <td>0</td>\n",
       "      <td>0</td>\n",
       "      <td>0</td>\n",
       "      <td>0</td>\n",
       "      <td>0</td>\n",
       "      <td>...</td>\n",
       "      <td>0</td>\n",
       "      <td>0</td>\n",
       "      <td>0</td>\n",
       "      <td>0</td>\n",
       "      <td>0</td>\n",
       "      <td>0</td>\n",
       "      <td>0</td>\n",
       "      <td>0</td>\n",
       "      <td>0</td>\n",
       "      <td>0</td>\n",
       "    </tr>\n",
       "    <tr>\n",
       "      <th>SVA_B</th>\n",
       "      <td>0</td>\n",
       "      <td>0</td>\n",
       "      <td>0</td>\n",
       "      <td>0</td>\n",
       "      <td>0</td>\n",
       "      <td>0</td>\n",
       "      <td>0</td>\n",
       "      <td>0</td>\n",
       "      <td>0</td>\n",
       "      <td>0</td>\n",
       "      <td>...</td>\n",
       "      <td>0</td>\n",
       "      <td>0</td>\n",
       "      <td>0</td>\n",
       "      <td>0</td>\n",
       "      <td>0</td>\n",
       "      <td>0</td>\n",
       "      <td>0</td>\n",
       "      <td>0</td>\n",
       "      <td>0</td>\n",
       "      <td>0</td>\n",
       "    </tr>\n",
       "    <tr>\n",
       "      <th>SVA_C</th>\n",
       "      <td>0</td>\n",
       "      <td>0</td>\n",
       "      <td>0</td>\n",
       "      <td>0</td>\n",
       "      <td>0</td>\n",
       "      <td>0</td>\n",
       "      <td>0</td>\n",
       "      <td>0</td>\n",
       "      <td>0</td>\n",
       "      <td>0</td>\n",
       "      <td>...</td>\n",
       "      <td>0</td>\n",
       "      <td>0</td>\n",
       "      <td>0</td>\n",
       "      <td>0</td>\n",
       "      <td>0</td>\n",
       "      <td>0</td>\n",
       "      <td>0</td>\n",
       "      <td>0</td>\n",
       "      <td>0</td>\n",
       "      <td>0</td>\n",
       "    </tr>\n",
       "    <tr>\n",
       "      <th>SVA_D</th>\n",
       "      <td>0</td>\n",
       "      <td>0</td>\n",
       "      <td>0</td>\n",
       "      <td>0</td>\n",
       "      <td>0</td>\n",
       "      <td>0</td>\n",
       "      <td>0</td>\n",
       "      <td>0</td>\n",
       "      <td>0</td>\n",
       "      <td>0</td>\n",
       "      <td>...</td>\n",
       "      <td>0</td>\n",
       "      <td>0</td>\n",
       "      <td>0</td>\n",
       "      <td>0</td>\n",
       "      <td>0</td>\n",
       "      <td>0</td>\n",
       "      <td>0</td>\n",
       "      <td>0</td>\n",
       "      <td>0</td>\n",
       "      <td>0</td>\n",
       "    </tr>\n",
       "  </tbody>\n",
       "</table>\n",
       "<p>5 rows × 17409 columns</p>\n",
       "</div>"
      ],
      "text/plain": [
       "chromosome          chr1                                                  \\\n",
       "position         1048000 1190000 1308000 1409000 1410000 1580000 1581000   \n",
       "subject hkle                                                               \n",
       "02-2483 HERVK113       0       0       0       0       0       0       0   \n",
       "        SVA_A          0       0       0       0       0       0       0   \n",
       "        SVA_B          0       0       0       0       0       0       0   \n",
       "        SVA_C          0       0       0       0       0       0       0   \n",
       "        SVA_D          0       0       0       0       0       0       0   \n",
       "\n",
       "chromosome                                ...     chrY                    \\\n",
       "position         2211000 2513000 2581000  ... 19535000 19536000 19699000   \n",
       "subject hkle                              ...                              \n",
       "02-2483 HERVK113       0       0       0  ...        0        0        0   \n",
       "        SVA_A          0       0       0  ...        0        0        0   \n",
       "        SVA_B          0       0       0  ...        0        0        0   \n",
       "        SVA_C          0       0       0  ...        0        0        0   \n",
       "        SVA_D          0       0       0  ...        0        0        0   \n",
       "\n",
       "chromosome                                                              \\\n",
       "position         19700000 20552000 20553000 20976000 21047000 21217000   \n",
       "subject hkle                                                             \n",
       "02-2483 HERVK113       -1        0        0        0        0        0   \n",
       "        SVA_A           0        0        0        0        0        0   \n",
       "        SVA_B           0        0        0        0        0        0   \n",
       "        SVA_C           0        0        0        0        0        0   \n",
       "        SVA_D           0        0        0        0        0        0   \n",
       "\n",
       "chromosome                 \n",
       "position         21639000  \n",
       "subject hkle               \n",
       "02-2483 HERVK113        0  \n",
       "        SVA_A           0  \n",
       "        SVA_B           0  \n",
       "        SVA_C           0  \n",
       "        SVA_D           0  \n",
       "\n",
       "[5 rows x 17409 columns]"
      ]
     },
     "execution_count": 75,
     "metadata": {},
     "output_type": "execute_result"
    }
   ],
   "source": [
    "compdf.head()"
   ]
  },
  {
   "cell_type": "code",
   "execution_count": 76,
   "metadata": {},
   "outputs": [
    {
     "data": {
      "text/plain": [
       "(511, 17409)"
      ]
     },
     "execution_count": 76,
     "metadata": {},
     "output_type": "execute_result"
    }
   ],
   "source": [
    "compdf.shape"
   ]
  },
  {
   "cell_type": "markdown",
   "metadata": {},
   "source": [
    "### Keep only positions with any sample with something other than 0\n",
    "\n",
    "### We lose over 3000 positions"
   ]
  },
  {
   "cell_type": "code",
   "execution_count": 77,
   "metadata": {},
   "outputs": [],
   "source": [
    "compdf=compdf.loc[:, (compdf != 0).any(axis=0)]"
   ]
  },
  {
   "cell_type": "code",
   "execution_count": 78,
   "metadata": {},
   "outputs": [
    {
     "data": {
      "text/plain": [
       "(511, 14280)"
      ]
     },
     "execution_count": 78,
     "metadata": {},
     "output_type": "execute_result"
    }
   ],
   "source": [
    "compdf.shape"
   ]
  },
  {
   "cell_type": "code",
   "execution_count": 79,
   "metadata": {},
   "outputs": [
    {
     "data": {
      "text/html": [
       "<div>\n",
       "<style scoped>\n",
       "    .dataframe tbody tr th:only-of-type {\n",
       "        vertical-align: middle;\n",
       "    }\n",
       "\n",
       "    .dataframe tbody tr th {\n",
       "        vertical-align: top;\n",
       "    }\n",
       "\n",
       "    .dataframe thead tr th {\n",
       "        text-align: left;\n",
       "    }\n",
       "\n",
       "    .dataframe thead tr:last-of-type th {\n",
       "        text-align: right;\n",
       "    }\n",
       "</style>\n",
       "<table border=\"1\" class=\"dataframe\">\n",
       "  <thead>\n",
       "    <tr>\n",
       "      <th></th>\n",
       "      <th>chromosome</th>\n",
       "      <th colspan=\"10\" halign=\"left\">chr1</th>\n",
       "      <th>...</th>\n",
       "      <th colspan=\"10\" halign=\"left\">chrY</th>\n",
       "    </tr>\n",
       "    <tr>\n",
       "      <th></th>\n",
       "      <th>position</th>\n",
       "      <th>1308000</th>\n",
       "      <th>1409000</th>\n",
       "      <th>1410000</th>\n",
       "      <th>1580000</th>\n",
       "      <th>1581000</th>\n",
       "      <th>2211000</th>\n",
       "      <th>2513000</th>\n",
       "      <th>2581000</th>\n",
       "      <th>3129000</th>\n",
       "      <th>3315000</th>\n",
       "      <th>...</th>\n",
       "      <th>17181000</th>\n",
       "      <th>19536000</th>\n",
       "      <th>19699000</th>\n",
       "      <th>19700000</th>\n",
       "      <th>20552000</th>\n",
       "      <th>20553000</th>\n",
       "      <th>20976000</th>\n",
       "      <th>21047000</th>\n",
       "      <th>21217000</th>\n",
       "      <th>21639000</th>\n",
       "    </tr>\n",
       "    <tr>\n",
       "      <th>subject</th>\n",
       "      <th>hkle</th>\n",
       "      <th></th>\n",
       "      <th></th>\n",
       "      <th></th>\n",
       "      <th></th>\n",
       "      <th></th>\n",
       "      <th></th>\n",
       "      <th></th>\n",
       "      <th></th>\n",
       "      <th></th>\n",
       "      <th></th>\n",
       "      <th></th>\n",
       "      <th></th>\n",
       "      <th></th>\n",
       "      <th></th>\n",
       "      <th></th>\n",
       "      <th></th>\n",
       "      <th></th>\n",
       "      <th></th>\n",
       "      <th></th>\n",
       "      <th></th>\n",
       "      <th></th>\n",
       "    </tr>\n",
       "  </thead>\n",
       "  <tbody>\n",
       "    <tr>\n",
       "      <th rowspan=\"5\" valign=\"top\">02-2483</th>\n",
       "      <th>HERVK113</th>\n",
       "      <td>0</td>\n",
       "      <td>0</td>\n",
       "      <td>0</td>\n",
       "      <td>0</td>\n",
       "      <td>0</td>\n",
       "      <td>0</td>\n",
       "      <td>0</td>\n",
       "      <td>0</td>\n",
       "      <td>0</td>\n",
       "      <td>0</td>\n",
       "      <td>...</td>\n",
       "      <td>0</td>\n",
       "      <td>0</td>\n",
       "      <td>0</td>\n",
       "      <td>-1</td>\n",
       "      <td>0</td>\n",
       "      <td>0</td>\n",
       "      <td>0</td>\n",
       "      <td>0</td>\n",
       "      <td>0</td>\n",
       "      <td>0</td>\n",
       "    </tr>\n",
       "    <tr>\n",
       "      <th>SVA_A</th>\n",
       "      <td>0</td>\n",
       "      <td>0</td>\n",
       "      <td>0</td>\n",
       "      <td>0</td>\n",
       "      <td>0</td>\n",
       "      <td>0</td>\n",
       "      <td>0</td>\n",
       "      <td>0</td>\n",
       "      <td>0</td>\n",
       "      <td>0</td>\n",
       "      <td>...</td>\n",
       "      <td>0</td>\n",
       "      <td>0</td>\n",
       "      <td>0</td>\n",
       "      <td>0</td>\n",
       "      <td>0</td>\n",
       "      <td>0</td>\n",
       "      <td>0</td>\n",
       "      <td>0</td>\n",
       "      <td>0</td>\n",
       "      <td>0</td>\n",
       "    </tr>\n",
       "    <tr>\n",
       "      <th>SVA_B</th>\n",
       "      <td>0</td>\n",
       "      <td>0</td>\n",
       "      <td>0</td>\n",
       "      <td>0</td>\n",
       "      <td>0</td>\n",
       "      <td>0</td>\n",
       "      <td>0</td>\n",
       "      <td>0</td>\n",
       "      <td>0</td>\n",
       "      <td>0</td>\n",
       "      <td>...</td>\n",
       "      <td>0</td>\n",
       "      <td>0</td>\n",
       "      <td>0</td>\n",
       "      <td>0</td>\n",
       "      <td>0</td>\n",
       "      <td>0</td>\n",
       "      <td>0</td>\n",
       "      <td>0</td>\n",
       "      <td>0</td>\n",
       "      <td>0</td>\n",
       "    </tr>\n",
       "    <tr>\n",
       "      <th>SVA_C</th>\n",
       "      <td>0</td>\n",
       "      <td>0</td>\n",
       "      <td>0</td>\n",
       "      <td>0</td>\n",
       "      <td>0</td>\n",
       "      <td>0</td>\n",
       "      <td>0</td>\n",
       "      <td>0</td>\n",
       "      <td>0</td>\n",
       "      <td>0</td>\n",
       "      <td>...</td>\n",
       "      <td>0</td>\n",
       "      <td>0</td>\n",
       "      <td>0</td>\n",
       "      <td>0</td>\n",
       "      <td>0</td>\n",
       "      <td>0</td>\n",
       "      <td>0</td>\n",
       "      <td>0</td>\n",
       "      <td>0</td>\n",
       "      <td>0</td>\n",
       "    </tr>\n",
       "    <tr>\n",
       "      <th>SVA_D</th>\n",
       "      <td>0</td>\n",
       "      <td>0</td>\n",
       "      <td>0</td>\n",
       "      <td>0</td>\n",
       "      <td>0</td>\n",
       "      <td>0</td>\n",
       "      <td>0</td>\n",
       "      <td>0</td>\n",
       "      <td>0</td>\n",
       "      <td>0</td>\n",
       "      <td>...</td>\n",
       "      <td>0</td>\n",
       "      <td>0</td>\n",
       "      <td>0</td>\n",
       "      <td>0</td>\n",
       "      <td>0</td>\n",
       "      <td>0</td>\n",
       "      <td>0</td>\n",
       "      <td>0</td>\n",
       "      <td>0</td>\n",
       "      <td>0</td>\n",
       "    </tr>\n",
       "    <tr>\n",
       "      <th>...</th>\n",
       "      <th>...</th>\n",
       "      <td>...</td>\n",
       "      <td>...</td>\n",
       "      <td>...</td>\n",
       "      <td>...</td>\n",
       "      <td>...</td>\n",
       "      <td>...</td>\n",
       "      <td>...</td>\n",
       "      <td>...</td>\n",
       "      <td>...</td>\n",
       "      <td>...</td>\n",
       "      <td>...</td>\n",
       "      <td>...</td>\n",
       "      <td>...</td>\n",
       "      <td>...</td>\n",
       "      <td>...</td>\n",
       "      <td>...</td>\n",
       "      <td>...</td>\n",
       "      <td>...</td>\n",
       "      <td>...</td>\n",
       "      <td>...</td>\n",
       "      <td>...</td>\n",
       "    </tr>\n",
       "    <tr>\n",
       "      <th rowspan=\"5\" valign=\"top\">TQ-A8XE</th>\n",
       "      <th>SVA_B</th>\n",
       "      <td>0</td>\n",
       "      <td>0</td>\n",
       "      <td>0</td>\n",
       "      <td>0</td>\n",
       "      <td>1</td>\n",
       "      <td>0</td>\n",
       "      <td>0</td>\n",
       "      <td>0</td>\n",
       "      <td>0</td>\n",
       "      <td>0</td>\n",
       "      <td>...</td>\n",
       "      <td>0</td>\n",
       "      <td>0</td>\n",
       "      <td>0</td>\n",
       "      <td>0</td>\n",
       "      <td>0</td>\n",
       "      <td>0</td>\n",
       "      <td>0</td>\n",
       "      <td>0</td>\n",
       "      <td>0</td>\n",
       "      <td>0</td>\n",
       "    </tr>\n",
       "    <tr>\n",
       "      <th>SVA_C</th>\n",
       "      <td>0</td>\n",
       "      <td>0</td>\n",
       "      <td>0</td>\n",
       "      <td>0</td>\n",
       "      <td>0</td>\n",
       "      <td>0</td>\n",
       "      <td>0</td>\n",
       "      <td>0</td>\n",
       "      <td>0</td>\n",
       "      <td>0</td>\n",
       "      <td>...</td>\n",
       "      <td>0</td>\n",
       "      <td>0</td>\n",
       "      <td>0</td>\n",
       "      <td>0</td>\n",
       "      <td>0</td>\n",
       "      <td>0</td>\n",
       "      <td>0</td>\n",
       "      <td>0</td>\n",
       "      <td>0</td>\n",
       "      <td>0</td>\n",
       "    </tr>\n",
       "    <tr>\n",
       "      <th>SVA_D</th>\n",
       "      <td>0</td>\n",
       "      <td>0</td>\n",
       "      <td>0</td>\n",
       "      <td>0</td>\n",
       "      <td>0</td>\n",
       "      <td>0</td>\n",
       "      <td>0</td>\n",
       "      <td>0</td>\n",
       "      <td>0</td>\n",
       "      <td>0</td>\n",
       "      <td>...</td>\n",
       "      <td>0</td>\n",
       "      <td>0</td>\n",
       "      <td>0</td>\n",
       "      <td>0</td>\n",
       "      <td>0</td>\n",
       "      <td>0</td>\n",
       "      <td>0</td>\n",
       "      <td>0</td>\n",
       "      <td>0</td>\n",
       "      <td>0</td>\n",
       "    </tr>\n",
       "    <tr>\n",
       "      <th>SVA_E</th>\n",
       "      <td>0</td>\n",
       "      <td>0</td>\n",
       "      <td>0</td>\n",
       "      <td>0</td>\n",
       "      <td>0</td>\n",
       "      <td>0</td>\n",
       "      <td>0</td>\n",
       "      <td>0</td>\n",
       "      <td>0</td>\n",
       "      <td>0</td>\n",
       "      <td>...</td>\n",
       "      <td>0</td>\n",
       "      <td>0</td>\n",
       "      <td>0</td>\n",
       "      <td>0</td>\n",
       "      <td>0</td>\n",
       "      <td>0</td>\n",
       "      <td>0</td>\n",
       "      <td>0</td>\n",
       "      <td>0</td>\n",
       "      <td>0</td>\n",
       "    </tr>\n",
       "    <tr>\n",
       "      <th>SVA_F</th>\n",
       "      <td>0</td>\n",
       "      <td>0</td>\n",
       "      <td>0</td>\n",
       "      <td>0</td>\n",
       "      <td>0</td>\n",
       "      <td>0</td>\n",
       "      <td>0</td>\n",
       "      <td>0</td>\n",
       "      <td>0</td>\n",
       "      <td>0</td>\n",
       "      <td>...</td>\n",
       "      <td>0</td>\n",
       "      <td>0</td>\n",
       "      <td>0</td>\n",
       "      <td>0</td>\n",
       "      <td>0</td>\n",
       "      <td>0</td>\n",
       "      <td>0</td>\n",
       "      <td>0</td>\n",
       "      <td>0</td>\n",
       "      <td>0</td>\n",
       "    </tr>\n",
       "  </tbody>\n",
       "</table>\n",
       "<p>511 rows × 14280 columns</p>\n",
       "</div>"
      ],
      "text/plain": [
       "chromosome          chr1                                                  \\\n",
       "position         1308000 1409000 1410000 1580000 1581000 2211000 2513000   \n",
       "subject hkle                                                               \n",
       "02-2483 HERVK113       0       0       0       0       0       0       0   \n",
       "        SVA_A          0       0       0       0       0       0       0   \n",
       "        SVA_B          0       0       0       0       0       0       0   \n",
       "        SVA_C          0       0       0       0       0       0       0   \n",
       "        SVA_D          0       0       0       0       0       0       0   \n",
       "...                  ...     ...     ...     ...     ...     ...     ...   \n",
       "TQ-A8XE SVA_B          0       0       0       0       1       0       0   \n",
       "        SVA_C          0       0       0       0       0       0       0   \n",
       "        SVA_D          0       0       0       0       0       0       0   \n",
       "        SVA_E          0       0       0       0       0       0       0   \n",
       "        SVA_F          0       0       0       0       0       0       0   \n",
       "\n",
       "chromosome                                ...     chrY                    \\\n",
       "position         2581000 3129000 3315000  ... 17181000 19536000 19699000   \n",
       "subject hkle                              ...                              \n",
       "02-2483 HERVK113       0       0       0  ...        0        0        0   \n",
       "        SVA_A          0       0       0  ...        0        0        0   \n",
       "        SVA_B          0       0       0  ...        0        0        0   \n",
       "        SVA_C          0       0       0  ...        0        0        0   \n",
       "        SVA_D          0       0       0  ...        0        0        0   \n",
       "...                  ...     ...     ...  ...      ...      ...      ...   \n",
       "TQ-A8XE SVA_B          0       0       0  ...        0        0        0   \n",
       "        SVA_C          0       0       0  ...        0        0        0   \n",
       "        SVA_D          0       0       0  ...        0        0        0   \n",
       "        SVA_E          0       0       0  ...        0        0        0   \n",
       "        SVA_F          0       0       0  ...        0        0        0   \n",
       "\n",
       "chromosome                                                              \\\n",
       "position         19700000 20552000 20553000 20976000 21047000 21217000   \n",
       "subject hkle                                                             \n",
       "02-2483 HERVK113       -1        0        0        0        0        0   \n",
       "        SVA_A           0        0        0        0        0        0   \n",
       "        SVA_B           0        0        0        0        0        0   \n",
       "        SVA_C           0        0        0        0        0        0   \n",
       "        SVA_D           0        0        0        0        0        0   \n",
       "...                   ...      ...      ...      ...      ...      ...   \n",
       "TQ-A8XE SVA_B           0        0        0        0        0        0   \n",
       "        SVA_C           0        0        0        0        0        0   \n",
       "        SVA_D           0        0        0        0        0        0   \n",
       "        SVA_E           0        0        0        0        0        0   \n",
       "        SVA_F           0        0        0        0        0        0   \n",
       "\n",
       "chromosome                 \n",
       "position         21639000  \n",
       "subject hkle               \n",
       "02-2483 HERVK113        0  \n",
       "        SVA_A           0  \n",
       "        SVA_B           0  \n",
       "        SVA_C           0  \n",
       "        SVA_D           0  \n",
       "...                   ...  \n",
       "TQ-A8XE SVA_B           0  \n",
       "        SVA_C           0  \n",
       "        SVA_D           0  \n",
       "        SVA_E           0  \n",
       "        SVA_F           0  \n",
       "\n",
       "[511 rows x 14280 columns]"
      ]
     },
     "execution_count": 79,
     "metadata": {},
     "output_type": "execute_result"
    }
   ],
   "source": [
    "compdf"
   ]
  },
  {
   "cell_type": "markdown",
   "metadata": {},
   "source": [
    "### Get the chromosome columns for analysis after merging with the metadata"
   ]
  },
  {
   "cell_type": "code",
   "execution_count": 80,
   "metadata": {},
   "outputs": [
    {
     "data": {
      "text/plain": [
       "MultiIndex([('chr1',  '1308000'),\n",
       "            ('chr1',  '1409000'),\n",
       "            ('chr1',  '1410000'),\n",
       "            ('chr1',  '1580000'),\n",
       "            ('chr1',  '1581000'),\n",
       "            ('chr1',  '2211000'),\n",
       "            ('chr1',  '2513000'),\n",
       "            ('chr1',  '2581000'),\n",
       "            ('chr1',  '3129000'),\n",
       "            ('chr1',  '3315000'),\n",
       "            ...\n",
       "            ('chrY', '17181000'),\n",
       "            ('chrY', '19536000'),\n",
       "            ('chrY', '19699000'),\n",
       "            ('chrY', '19700000'),\n",
       "            ('chrY', '20552000'),\n",
       "            ('chrY', '20553000'),\n",
       "            ('chrY', '20976000'),\n",
       "            ('chrY', '21047000'),\n",
       "            ('chrY', '21217000'),\n",
       "            ('chrY', '21639000')],\n",
       "           names=['chromosome', 'position'], length=14280)"
      ]
     },
     "execution_count": 80,
     "metadata": {},
     "output_type": "execute_result"
    }
   ],
   "source": [
    "chromosome_columns=compdf.columns[compdf.columns.get_level_values('chromosome').str.contains(\"^chr\")]\n",
    "chromosome_columns"
   ]
  },
  {
   "cell_type": "markdown",
   "metadata": {},
   "source": [
    "### Merge with the metadata for later grouping"
   ]
  },
  {
   "cell_type": "code",
   "execution_count": 81,
   "metadata": {
    "scrolled": false
   },
   "outputs": [
    {
     "name": "stderr",
     "output_type": "stream",
     "text": [
      "/Users/jakewendt/Library/Python/3.6/lib/python/site-packages/pandas/core/generic.py:3889: PerformanceWarning: dropping on a non-lexsorted multi-index without a level parameter may impact performance.\n",
      "  obj = obj._drop_axis(labels, axis, level=level, errors=errors)\n"
     ]
    },
    {
     "data": {
      "text/html": [
       "<div>\n",
       "<style scoped>\n",
       "    .dataframe tbody tr th:only-of-type {\n",
       "        vertical-align: middle;\n",
       "    }\n",
       "\n",
       "    .dataframe tbody tr th {\n",
       "        vertical-align: top;\n",
       "    }\n",
       "\n",
       "    .dataframe thead tr th {\n",
       "        text-align: left;\n",
       "    }\n",
       "\n",
       "    .dataframe thead tr:last-of-type th {\n",
       "        text-align: right;\n",
       "    }\n",
       "</style>\n",
       "<table border=\"1\" class=\"dataframe\">\n",
       "  <thead>\n",
       "    <tr>\n",
       "      <th></th>\n",
       "      <th>chromosome</th>\n",
       "      <th colspan=\"10\" halign=\"left\">chr1</th>\n",
       "      <th>...</th>\n",
       "      <th>Triple_group</th>\n",
       "      <th>Tissue_sample_location</th>\n",
       "      <th>MGMT</th>\n",
       "      <th>Age</th>\n",
       "      <th>Survival_months</th>\n",
       "      <th>Vital_status</th>\n",
       "      <th>days_to_death</th>\n",
       "      <th>gender1</th>\n",
       "      <th>disease_type</th>\n",
       "      <th>center_name</th>\n",
       "    </tr>\n",
       "    <tr>\n",
       "      <th></th>\n",
       "      <th>position</th>\n",
       "      <th>1308000</th>\n",
       "      <th>1409000</th>\n",
       "      <th>1410000</th>\n",
       "      <th>1580000</th>\n",
       "      <th>1581000</th>\n",
       "      <th>2211000</th>\n",
       "      <th>2513000</th>\n",
       "      <th>2581000</th>\n",
       "      <th>3129000</th>\n",
       "      <th>3315000</th>\n",
       "      <th>...</th>\n",
       "      <th></th>\n",
       "      <th></th>\n",
       "      <th></th>\n",
       "      <th></th>\n",
       "      <th></th>\n",
       "      <th></th>\n",
       "      <th></th>\n",
       "      <th></th>\n",
       "      <th></th>\n",
       "      <th></th>\n",
       "    </tr>\n",
       "    <tr>\n",
       "      <th>subject</th>\n",
       "      <th>hkle</th>\n",
       "      <th></th>\n",
       "      <th></th>\n",
       "      <th></th>\n",
       "      <th></th>\n",
       "      <th></th>\n",
       "      <th></th>\n",
       "      <th></th>\n",
       "      <th></th>\n",
       "      <th></th>\n",
       "      <th></th>\n",
       "      <th></th>\n",
       "      <th></th>\n",
       "      <th></th>\n",
       "      <th></th>\n",
       "      <th></th>\n",
       "      <th></th>\n",
       "      <th></th>\n",
       "      <th></th>\n",
       "      <th></th>\n",
       "      <th></th>\n",
       "      <th></th>\n",
       "    </tr>\n",
       "  </thead>\n",
       "  <tbody>\n",
       "    <tr>\n",
       "      <th rowspan=\"5\" valign=\"top\">02-2483</th>\n",
       "      <th>HERVK113</th>\n",
       "      <td>0</td>\n",
       "      <td>0</td>\n",
       "      <td>0</td>\n",
       "      <td>0</td>\n",
       "      <td>0</td>\n",
       "      <td>0</td>\n",
       "      <td>0</td>\n",
       "      <td>0</td>\n",
       "      <td>0</td>\n",
       "      <td>0</td>\n",
       "      <td>...</td>\n",
       "      <td>IDH-Mutant:1p19q-non-codel:TERT-WT</td>\n",
       "      <td>MD Anderson Cancer Center</td>\n",
       "      <td>Methylated</td>\n",
       "      <td>43.0</td>\n",
       "      <td>15.310383</td>\n",
       "      <td>0.0</td>\n",
       "      <td>NaN</td>\n",
       "      <td>male</td>\n",
       "      <td>Glioblastoma Multiforme</td>\n",
       "      <td>Broad Institute of MIT and Harvard</td>\n",
       "    </tr>\n",
       "    <tr>\n",
       "      <th>SVA_A</th>\n",
       "      <td>0</td>\n",
       "      <td>0</td>\n",
       "      <td>0</td>\n",
       "      <td>0</td>\n",
       "      <td>0</td>\n",
       "      <td>0</td>\n",
       "      <td>0</td>\n",
       "      <td>0</td>\n",
       "      <td>0</td>\n",
       "      <td>0</td>\n",
       "      <td>...</td>\n",
       "      <td>IDH-Mutant:1p19q-non-codel:TERT-WT</td>\n",
       "      <td>MD Anderson Cancer Center</td>\n",
       "      <td>Methylated</td>\n",
       "      <td>43.0</td>\n",
       "      <td>15.310383</td>\n",
       "      <td>0.0</td>\n",
       "      <td>NaN</td>\n",
       "      <td>male</td>\n",
       "      <td>Glioblastoma Multiforme</td>\n",
       "      <td>Broad Institute of MIT and Harvard</td>\n",
       "    </tr>\n",
       "    <tr>\n",
       "      <th>SVA_B</th>\n",
       "      <td>0</td>\n",
       "      <td>0</td>\n",
       "      <td>0</td>\n",
       "      <td>0</td>\n",
       "      <td>0</td>\n",
       "      <td>0</td>\n",
       "      <td>0</td>\n",
       "      <td>0</td>\n",
       "      <td>0</td>\n",
       "      <td>0</td>\n",
       "      <td>...</td>\n",
       "      <td>IDH-Mutant:1p19q-non-codel:TERT-WT</td>\n",
       "      <td>MD Anderson Cancer Center</td>\n",
       "      <td>Methylated</td>\n",
       "      <td>43.0</td>\n",
       "      <td>15.310383</td>\n",
       "      <td>0.0</td>\n",
       "      <td>NaN</td>\n",
       "      <td>male</td>\n",
       "      <td>Glioblastoma Multiforme</td>\n",
       "      <td>Broad Institute of MIT and Harvard</td>\n",
       "    </tr>\n",
       "    <tr>\n",
       "      <th>SVA_C</th>\n",
       "      <td>0</td>\n",
       "      <td>0</td>\n",
       "      <td>0</td>\n",
       "      <td>0</td>\n",
       "      <td>0</td>\n",
       "      <td>0</td>\n",
       "      <td>0</td>\n",
       "      <td>0</td>\n",
       "      <td>0</td>\n",
       "      <td>0</td>\n",
       "      <td>...</td>\n",
       "      <td>IDH-Mutant:1p19q-non-codel:TERT-WT</td>\n",
       "      <td>MD Anderson Cancer Center</td>\n",
       "      <td>Methylated</td>\n",
       "      <td>43.0</td>\n",
       "      <td>15.310383</td>\n",
       "      <td>0.0</td>\n",
       "      <td>NaN</td>\n",
       "      <td>male</td>\n",
       "      <td>Glioblastoma Multiforme</td>\n",
       "      <td>Broad Institute of MIT and Harvard</td>\n",
       "    </tr>\n",
       "    <tr>\n",
       "      <th>SVA_D</th>\n",
       "      <td>0</td>\n",
       "      <td>0</td>\n",
       "      <td>0</td>\n",
       "      <td>0</td>\n",
       "      <td>0</td>\n",
       "      <td>0</td>\n",
       "      <td>0</td>\n",
       "      <td>0</td>\n",
       "      <td>0</td>\n",
       "      <td>0</td>\n",
       "      <td>...</td>\n",
       "      <td>IDH-Mutant:1p19q-non-codel:TERT-WT</td>\n",
       "      <td>MD Anderson Cancer Center</td>\n",
       "      <td>Methylated</td>\n",
       "      <td>43.0</td>\n",
       "      <td>15.310383</td>\n",
       "      <td>0.0</td>\n",
       "      <td>NaN</td>\n",
       "      <td>male</td>\n",
       "      <td>Glioblastoma Multiforme</td>\n",
       "      <td>Broad Institute of MIT and Harvard</td>\n",
       "    </tr>\n",
       "  </tbody>\n",
       "</table>\n",
       "<p>5 rows × 14301 columns</p>\n",
       "</div>"
      ],
      "text/plain": [
       "chromosome          chr1                                                  \\\n",
       "position         1308000 1409000 1410000 1580000 1581000 2211000 2513000   \n",
       "subject hkle                                                               \n",
       "02-2483 HERVK113       0       0       0       0       0       0       0   \n",
       "        SVA_A          0       0       0       0       0       0       0   \n",
       "        SVA_B          0       0       0       0       0       0       0   \n",
       "        SVA_C          0       0       0       0       0       0       0   \n",
       "        SVA_D          0       0       0       0       0       0       0   \n",
       "\n",
       "chromosome                                ...  \\\n",
       "position         2581000 3129000 3315000  ...   \n",
       "subject hkle                              ...   \n",
       "02-2483 HERVK113       0       0       0  ...   \n",
       "        SVA_A          0       0       0  ...   \n",
       "        SVA_B          0       0       0  ...   \n",
       "        SVA_C          0       0       0  ...   \n",
       "        SVA_D          0       0       0  ...   \n",
       "\n",
       "chromosome                              Triple_group  \\\n",
       "position                                               \n",
       "subject hkle                                           \n",
       "02-2483 HERVK113  IDH-Mutant:1p19q-non-codel:TERT-WT   \n",
       "        SVA_A     IDH-Mutant:1p19q-non-codel:TERT-WT   \n",
       "        SVA_B     IDH-Mutant:1p19q-non-codel:TERT-WT   \n",
       "        SVA_C     IDH-Mutant:1p19q-non-codel:TERT-WT   \n",
       "        SVA_D     IDH-Mutant:1p19q-non-codel:TERT-WT   \n",
       "\n",
       "chromosome           Tissue_sample_location        MGMT   Age Survival_months  \\\n",
       "position                                                                        \n",
       "subject hkle                                                                    \n",
       "02-2483 HERVK113  MD Anderson Cancer Center  Methylated  43.0       15.310383   \n",
       "        SVA_A     MD Anderson Cancer Center  Methylated  43.0       15.310383   \n",
       "        SVA_B     MD Anderson Cancer Center  Methylated  43.0       15.310383   \n",
       "        SVA_C     MD Anderson Cancer Center  Methylated  43.0       15.310383   \n",
       "        SVA_D     MD Anderson Cancer Center  Methylated  43.0       15.310383   \n",
       "\n",
       "chromosome       Vital_status days_to_death gender1             disease_type  \\\n",
       "position                                                                       \n",
       "subject hkle                                                                   \n",
       "02-2483 HERVK113          0.0           NaN    male  Glioblastoma Multiforme   \n",
       "        SVA_A             0.0           NaN    male  Glioblastoma Multiforme   \n",
       "        SVA_B             0.0           NaN    male  Glioblastoma Multiforme   \n",
       "        SVA_C             0.0           NaN    male  Glioblastoma Multiforme   \n",
       "        SVA_D             0.0           NaN    male  Glioblastoma Multiforme   \n",
       "\n",
       "chromosome                               center_name  \n",
       "position                                              \n",
       "subject hkle                                          \n",
       "02-2483 HERVK113  Broad Institute of MIT and Harvard  \n",
       "        SVA_A     Broad Institute of MIT and Harvard  \n",
       "        SVA_B     Broad Institute of MIT and Harvard  \n",
       "        SVA_C     Broad Institute of MIT and Harvard  \n",
       "        SVA_D     Broad Institute of MIT and Harvard  \n",
       "\n",
       "[5 rows x 14301 columns]"
      ]
     },
     "execution_count": 81,
     "metadata": {},
     "output_type": "execute_result"
    }
   ],
   "source": [
    "compdf.reset_index(inplace=True)\n",
    "compdf=compdf.merge(meta,on='subject')\n",
    "compdf.set_index(['subject','hkle'],inplace=True)\n",
    "compdf.head()"
   ]
  },
  {
   "cell_type": "markdown",
   "metadata": {},
   "source": [
    "### More dark magic here. \n",
    "\n",
    "* Select all subjects and HERVK113 on the y-axis and all the chromosome columns on the x-axis.\n",
    "* We will count all the incidence of each of the previously computed \"tumor-normal\" values\n",
    "* Then we will transpose and sort descending by \"-1\". This will put the highest occurence of normal at the top.\n"
   ]
  },
  {
   "cell_type": "code",
   "execution_count": 82,
   "metadata": {},
   "outputs": [
    {
     "data": {
      "text/html": [
       "<div>\n",
       "<style scoped>\n",
       "    .dataframe tbody tr th:only-of-type {\n",
       "        vertical-align: middle;\n",
       "    }\n",
       "\n",
       "    .dataframe tbody tr th {\n",
       "        vertical-align: top;\n",
       "    }\n",
       "\n",
       "    .dataframe thead th {\n",
       "        text-align: right;\n",
       "    }\n",
       "</style>\n",
       "<table border=\"1\" class=\"dataframe\">\n",
       "  <thead>\n",
       "    <tr style=\"text-align: right;\">\n",
       "      <th></th>\n",
       "      <th></th>\n",
       "      <th>-1</th>\n",
       "      <th>0</th>\n",
       "      <th>1</th>\n",
       "    </tr>\n",
       "    <tr>\n",
       "      <th>chromosome</th>\n",
       "      <th>position</th>\n",
       "      <th></th>\n",
       "      <th></th>\n",
       "      <th></th>\n",
       "    </tr>\n",
       "  </thead>\n",
       "  <tbody>\n",
       "    <tr>\n",
       "      <th>chr10</th>\n",
       "      <th>121929000</th>\n",
       "      <td>21.0</td>\n",
       "      <td>34.0</td>\n",
       "      <td>18.0</td>\n",
       "    </tr>\n",
       "    <tr>\n",
       "      <th>chr20</th>\n",
       "      <th>29440000</th>\n",
       "      <td>21.0</td>\n",
       "      <td>36.0</td>\n",
       "      <td>16.0</td>\n",
       "    </tr>\n",
       "    <tr>\n",
       "      <th>chr21</th>\n",
       "      <th>17932000</th>\n",
       "      <td>20.0</td>\n",
       "      <td>30.0</td>\n",
       "      <td>23.0</td>\n",
       "    </tr>\n",
       "    <tr>\n",
       "      <th>chr18</th>\n",
       "      <th>50404000</th>\n",
       "      <td>20.0</td>\n",
       "      <td>27.0</td>\n",
       "      <td>26.0</td>\n",
       "    </tr>\n",
       "    <tr>\n",
       "      <th>chr19</th>\n",
       "      <th>51924000</th>\n",
       "      <td>20.0</td>\n",
       "      <td>37.0</td>\n",
       "      <td>16.0</td>\n",
       "    </tr>\n",
       "    <tr>\n",
       "      <th>chr5</th>\n",
       "      <th>120194000</th>\n",
       "      <td>20.0</td>\n",
       "      <td>31.0</td>\n",
       "      <td>22.0</td>\n",
       "    </tr>\n",
       "    <tr>\n",
       "      <th>chr9</th>\n",
       "      <th>17446000</th>\n",
       "      <td>19.0</td>\n",
       "      <td>35.0</td>\n",
       "      <td>19.0</td>\n",
       "    </tr>\n",
       "    <tr>\n",
       "      <th>chr2</th>\n",
       "      <th>208257000</th>\n",
       "      <td>19.0</td>\n",
       "      <td>35.0</td>\n",
       "      <td>19.0</td>\n",
       "    </tr>\n",
       "    <tr>\n",
       "      <th>chr3</th>\n",
       "      <th>118539000</th>\n",
       "      <td>19.0</td>\n",
       "      <td>34.0</td>\n",
       "      <td>20.0</td>\n",
       "    </tr>\n",
       "    <tr>\n",
       "      <th>chr19</th>\n",
       "      <th>53497000</th>\n",
       "      <td>19.0</td>\n",
       "      <td>41.0</td>\n",
       "      <td>13.0</td>\n",
       "    </tr>\n",
       "  </tbody>\n",
       "</table>\n",
       "</div>"
      ],
      "text/plain": [
       "                        -1     0     1\n",
       "chromosome position                   \n",
       "chr10      121929000  21.0  34.0  18.0\n",
       "chr20      29440000   21.0  36.0  16.0\n",
       "chr21      17932000   20.0  30.0  23.0\n",
       "chr18      50404000   20.0  27.0  26.0\n",
       "chr19      51924000   20.0  37.0  16.0\n",
       "chr5       120194000  20.0  31.0  22.0\n",
       "chr9       17446000   19.0  35.0  19.0\n",
       "chr2       208257000  19.0  35.0  19.0\n",
       "chr3       118539000  19.0  34.0  20.0\n",
       "chr19      53497000   19.0  41.0  13.0"
      ]
     },
     "execution_count": 82,
     "metadata": {},
     "output_type": "execute_result"
    }
   ],
   "source": [
    "compdf.loc[pd.IndexSlice[:,'HERVK113'],chromosome_columns].apply(\n",
    "    pd.Series.value_counts, axis=0).T.sort_values(by=[-1],ascending=False).head(10)\n"
   ]
  },
  {
   "cell_type": "code",
   "execution_count": 83,
   "metadata": {},
   "outputs": [
    {
     "data": {
      "text/html": [
       "<div>\n",
       "<style scoped>\n",
       "    .dataframe tbody tr th:only-of-type {\n",
       "        vertical-align: middle;\n",
       "    }\n",
       "\n",
       "    .dataframe tbody tr th {\n",
       "        vertical-align: top;\n",
       "    }\n",
       "\n",
       "    .dataframe thead th {\n",
       "        text-align: right;\n",
       "    }\n",
       "</style>\n",
       "<table border=\"1\" class=\"dataframe\">\n",
       "  <thead>\n",
       "    <tr style=\"text-align: right;\">\n",
       "      <th></th>\n",
       "      <th></th>\n",
       "      <th>-1</th>\n",
       "      <th>0</th>\n",
       "      <th>1</th>\n",
       "    </tr>\n",
       "    <tr>\n",
       "      <th>chromosome</th>\n",
       "      <th>position</th>\n",
       "      <th></th>\n",
       "      <th></th>\n",
       "      <th></th>\n",
       "    </tr>\n",
       "  </thead>\n",
       "  <tbody>\n",
       "    <tr>\n",
       "      <th>chr13</th>\n",
       "      <th>45484000</th>\n",
       "      <td>23.0</td>\n",
       "      <td>36.0</td>\n",
       "      <td>14.0</td>\n",
       "    </tr>\n",
       "    <tr>\n",
       "      <th>chr15</th>\n",
       "      <th>80648000</th>\n",
       "      <td>22.0</td>\n",
       "      <td>35.0</td>\n",
       "      <td>16.0</td>\n",
       "    </tr>\n",
       "    <tr>\n",
       "      <th>chr10</th>\n",
       "      <th>34977000</th>\n",
       "      <td>22.0</td>\n",
       "      <td>29.0</td>\n",
       "      <td>22.0</td>\n",
       "    </tr>\n",
       "    <tr>\n",
       "      <th>chr17</th>\n",
       "      <th>66269000</th>\n",
       "      <td>21.0</td>\n",
       "      <td>37.0</td>\n",
       "      <td>15.0</td>\n",
       "    </tr>\n",
       "    <tr>\n",
       "      <th>chr14</th>\n",
       "      <th>31559000</th>\n",
       "      <td>21.0</td>\n",
       "      <td>36.0</td>\n",
       "      <td>16.0</td>\n",
       "    </tr>\n",
       "    <tr>\n",
       "      <th>chr3</th>\n",
       "      <th>196944000</th>\n",
       "      <td>21.0</td>\n",
       "      <td>39.0</td>\n",
       "      <td>13.0</td>\n",
       "    </tr>\n",
       "    <tr>\n",
       "      <th>chr2</th>\n",
       "      <th>64041000</th>\n",
       "      <td>21.0</td>\n",
       "      <td>35.0</td>\n",
       "      <td>17.0</td>\n",
       "    </tr>\n",
       "    <tr>\n",
       "      <th>chr1</th>\n",
       "      <th>181955000</th>\n",
       "      <td>21.0</td>\n",
       "      <td>34.0</td>\n",
       "      <td>18.0</td>\n",
       "    </tr>\n",
       "    <tr>\n",
       "      <th>chr8</th>\n",
       "      <th>117428000</th>\n",
       "      <td>20.0</td>\n",
       "      <td>33.0</td>\n",
       "      <td>20.0</td>\n",
       "    </tr>\n",
       "    <tr>\n",
       "      <th>chr10</th>\n",
       "      <th>24658000</th>\n",
       "      <td>20.0</td>\n",
       "      <td>41.0</td>\n",
       "      <td>12.0</td>\n",
       "    </tr>\n",
       "  </tbody>\n",
       "</table>\n",
       "</div>"
      ],
      "text/plain": [
       "                        -1     0     1\n",
       "chromosome position                   \n",
       "chr13      45484000   23.0  36.0  14.0\n",
       "chr15      80648000   22.0  35.0  16.0\n",
       "chr10      34977000   22.0  29.0  22.0\n",
       "chr17      66269000   21.0  37.0  15.0\n",
       "chr14      31559000   21.0  36.0  16.0\n",
       "chr3       196944000  21.0  39.0  13.0\n",
       "chr2       64041000   21.0  35.0  17.0\n",
       "chr1       181955000  21.0  34.0  18.0\n",
       "chr8       117428000  20.0  33.0  20.0\n",
       "chr10      24658000   20.0  41.0  12.0"
      ]
     },
     "execution_count": 83,
     "metadata": {},
     "output_type": "execute_result"
    }
   ],
   "source": [
    "compdf.loc[pd.IndexSlice[:,'SVA_A'],chromosome_columns].apply(\n",
    "    pd.Series.value_counts, axis=0).T.sort_values(by=[-1],ascending=False).head(10)\n"
   ]
  },
  {
   "cell_type": "code",
   "execution_count": 84,
   "metadata": {},
   "outputs": [
    {
     "data": {
      "text/html": [
       "<div>\n",
       "<style scoped>\n",
       "    .dataframe tbody tr th:only-of-type {\n",
       "        vertical-align: middle;\n",
       "    }\n",
       "\n",
       "    .dataframe tbody tr th {\n",
       "        vertical-align: top;\n",
       "    }\n",
       "\n",
       "    .dataframe thead th {\n",
       "        text-align: right;\n",
       "    }\n",
       "</style>\n",
       "<table border=\"1\" class=\"dataframe\">\n",
       "  <thead>\n",
       "    <tr style=\"text-align: right;\">\n",
       "      <th></th>\n",
       "      <th></th>\n",
       "      <th>-1</th>\n",
       "      <th>0</th>\n",
       "      <th>1</th>\n",
       "    </tr>\n",
       "    <tr>\n",
       "      <th>chromosome</th>\n",
       "      <th>position</th>\n",
       "      <th></th>\n",
       "      <th></th>\n",
       "      <th></th>\n",
       "    </tr>\n",
       "  </thead>\n",
       "  <tbody>\n",
       "    <tr>\n",
       "      <th>chr18</th>\n",
       "      <th>70570000</th>\n",
       "      <td>25.0</td>\n",
       "      <td>31.0</td>\n",
       "      <td>17.0</td>\n",
       "    </tr>\n",
       "    <tr>\n",
       "      <th>chr22</th>\n",
       "      <th>11550000</th>\n",
       "      <td>23.0</td>\n",
       "      <td>33.0</td>\n",
       "      <td>17.0</td>\n",
       "    </tr>\n",
       "    <tr>\n",
       "      <th>chr10</th>\n",
       "      <th>75751000</th>\n",
       "      <td>23.0</td>\n",
       "      <td>39.0</td>\n",
       "      <td>11.0</td>\n",
       "    </tr>\n",
       "    <tr>\n",
       "      <th>chr5</th>\n",
       "      <th>171148000</th>\n",
       "      <td>23.0</td>\n",
       "      <td>31.0</td>\n",
       "      <td>19.0</td>\n",
       "    </tr>\n",
       "    <tr>\n",
       "      <th>chr10</th>\n",
       "      <th>32232000</th>\n",
       "      <td>23.0</td>\n",
       "      <td>40.0</td>\n",
       "      <td>10.0</td>\n",
       "    </tr>\n",
       "    <tr>\n",
       "      <th>chr18</th>\n",
       "      <th>54342000</th>\n",
       "      <td>22.0</td>\n",
       "      <td>36.0</td>\n",
       "      <td>15.0</td>\n",
       "    </tr>\n",
       "    <tr>\n",
       "      <th>chr21</th>\n",
       "      <th>28563000</th>\n",
       "      <td>22.0</td>\n",
       "      <td>40.0</td>\n",
       "      <td>11.0</td>\n",
       "    </tr>\n",
       "    <tr>\n",
       "      <th>chr10</th>\n",
       "      <th>92673000</th>\n",
       "      <td>22.0</td>\n",
       "      <td>39.0</td>\n",
       "      <td>12.0</td>\n",
       "    </tr>\n",
       "    <tr>\n",
       "      <th>chr18</th>\n",
       "      <th>39511000</th>\n",
       "      <td>21.0</td>\n",
       "      <td>35.0</td>\n",
       "      <td>17.0</td>\n",
       "    </tr>\n",
       "    <tr>\n",
       "      <th>chr2</th>\n",
       "      <th>155658000</th>\n",
       "      <td>21.0</td>\n",
       "      <td>33.0</td>\n",
       "      <td>19.0</td>\n",
       "    </tr>\n",
       "  </tbody>\n",
       "</table>\n",
       "</div>"
      ],
      "text/plain": [
       "                        -1     0     1\n",
       "chromosome position                   \n",
       "chr18      70570000   25.0  31.0  17.0\n",
       "chr22      11550000   23.0  33.0  17.0\n",
       "chr10      75751000   23.0  39.0  11.0\n",
       "chr5       171148000  23.0  31.0  19.0\n",
       "chr10      32232000   23.0  40.0  10.0\n",
       "chr18      54342000   22.0  36.0  15.0\n",
       "chr21      28563000   22.0  40.0  11.0\n",
       "chr10      92673000   22.0  39.0  12.0\n",
       "chr18      39511000   21.0  35.0  17.0\n",
       "chr2       155658000  21.0  33.0  19.0"
      ]
     },
     "execution_count": 84,
     "metadata": {},
     "output_type": "execute_result"
    }
   ],
   "source": [
    "compdf.loc[pd.IndexSlice[:,'SVA_B'],chromosome_columns].apply(\n",
    "    pd.Series.value_counts, axis=0).T.sort_values(by=[-1],ascending=False).head(10)\n"
   ]
  },
  {
   "cell_type": "code",
   "execution_count": 85,
   "metadata": {},
   "outputs": [
    {
     "data": {
      "text/html": [
       "<div>\n",
       "<style scoped>\n",
       "    .dataframe tbody tr th:only-of-type {\n",
       "        vertical-align: middle;\n",
       "    }\n",
       "\n",
       "    .dataframe tbody tr th {\n",
       "        vertical-align: top;\n",
       "    }\n",
       "\n",
       "    .dataframe thead th {\n",
       "        text-align: right;\n",
       "    }\n",
       "</style>\n",
       "<table border=\"1\" class=\"dataframe\">\n",
       "  <thead>\n",
       "    <tr style=\"text-align: right;\">\n",
       "      <th></th>\n",
       "      <th></th>\n",
       "      <th>-1</th>\n",
       "      <th>0</th>\n",
       "      <th>1</th>\n",
       "    </tr>\n",
       "    <tr>\n",
       "      <th>chromosome</th>\n",
       "      <th>position</th>\n",
       "      <th></th>\n",
       "      <th></th>\n",
       "      <th></th>\n",
       "    </tr>\n",
       "  </thead>\n",
       "  <tbody>\n",
       "    <tr>\n",
       "      <th>chr18</th>\n",
       "      <th>70570000</th>\n",
       "      <td>25.0</td>\n",
       "      <td>30.0</td>\n",
       "      <td>18.0</td>\n",
       "    </tr>\n",
       "    <tr>\n",
       "      <th>chr10</th>\n",
       "      <th>75751000</th>\n",
       "      <td>23.0</td>\n",
       "      <td>37.0</td>\n",
       "      <td>13.0</td>\n",
       "    </tr>\n",
       "    <tr>\n",
       "      <th>chr13</th>\n",
       "      <th>21449000</th>\n",
       "      <td>22.0</td>\n",
       "      <td>31.0</td>\n",
       "      <td>20.0</td>\n",
       "    </tr>\n",
       "    <tr>\n",
       "      <th>chr21</th>\n",
       "      <th>28563000</th>\n",
       "      <td>22.0</td>\n",
       "      <td>40.0</td>\n",
       "      <td>11.0</td>\n",
       "    </tr>\n",
       "    <tr>\n",
       "      <th>chr4</th>\n",
       "      <th>6978000</th>\n",
       "      <td>22.0</td>\n",
       "      <td>36.0</td>\n",
       "      <td>15.0</td>\n",
       "    </tr>\n",
       "    <tr>\n",
       "      <th>chr6</th>\n",
       "      <th>18227000</th>\n",
       "      <td>22.0</td>\n",
       "      <td>31.0</td>\n",
       "      <td>20.0</td>\n",
       "    </tr>\n",
       "    <tr>\n",
       "      <th>chr8</th>\n",
       "      <th>128824000</th>\n",
       "      <td>21.0</td>\n",
       "      <td>29.0</td>\n",
       "      <td>23.0</td>\n",
       "    </tr>\n",
       "    <tr>\n",
       "      <th>chr18</th>\n",
       "      <th>39511000</th>\n",
       "      <td>21.0</td>\n",
       "      <td>35.0</td>\n",
       "      <td>17.0</td>\n",
       "    </tr>\n",
       "    <tr>\n",
       "      <th>chr9</th>\n",
       "      <th>38325000</th>\n",
       "      <td>21.0</td>\n",
       "      <td>36.0</td>\n",
       "      <td>16.0</td>\n",
       "    </tr>\n",
       "    <tr>\n",
       "      <th>chr18</th>\n",
       "      <th>54342000</th>\n",
       "      <td>21.0</td>\n",
       "      <td>37.0</td>\n",
       "      <td>15.0</td>\n",
       "    </tr>\n",
       "  </tbody>\n",
       "</table>\n",
       "</div>"
      ],
      "text/plain": [
       "                        -1     0     1\n",
       "chromosome position                   \n",
       "chr18      70570000   25.0  30.0  18.0\n",
       "chr10      75751000   23.0  37.0  13.0\n",
       "chr13      21449000   22.0  31.0  20.0\n",
       "chr21      28563000   22.0  40.0  11.0\n",
       "chr4       6978000    22.0  36.0  15.0\n",
       "chr6       18227000   22.0  31.0  20.0\n",
       "chr8       128824000  21.0  29.0  23.0\n",
       "chr18      39511000   21.0  35.0  17.0\n",
       "chr9       38325000   21.0  36.0  16.0\n",
       "chr18      54342000   21.0  37.0  15.0"
      ]
     },
     "execution_count": 85,
     "metadata": {},
     "output_type": "execute_result"
    }
   ],
   "source": [
    "compdf.loc[pd.IndexSlice[:,'SVA_C'],chromosome_columns].apply(\n",
    "    pd.Series.value_counts, axis=0).T.sort_values(by=[-1],ascending=False).head(10)\n"
   ]
  },
  {
   "cell_type": "code",
   "execution_count": 86,
   "metadata": {},
   "outputs": [
    {
     "data": {
      "text/html": [
       "<div>\n",
       "<style scoped>\n",
       "    .dataframe tbody tr th:only-of-type {\n",
       "        vertical-align: middle;\n",
       "    }\n",
       "\n",
       "    .dataframe tbody tr th {\n",
       "        vertical-align: top;\n",
       "    }\n",
       "\n",
       "    .dataframe thead th {\n",
       "        text-align: right;\n",
       "    }\n",
       "</style>\n",
       "<table border=\"1\" class=\"dataframe\">\n",
       "  <thead>\n",
       "    <tr style=\"text-align: right;\">\n",
       "      <th></th>\n",
       "      <th></th>\n",
       "      <th>-1</th>\n",
       "      <th>0</th>\n",
       "      <th>1</th>\n",
       "    </tr>\n",
       "    <tr>\n",
       "      <th>chromosome</th>\n",
       "      <th>position</th>\n",
       "      <th></th>\n",
       "      <th></th>\n",
       "      <th></th>\n",
       "    </tr>\n",
       "  </thead>\n",
       "  <tbody>\n",
       "    <tr>\n",
       "      <th>chr18</th>\n",
       "      <th>70570000</th>\n",
       "      <td>25.0</td>\n",
       "      <td>31.0</td>\n",
       "      <td>17.0</td>\n",
       "    </tr>\n",
       "    <tr>\n",
       "      <th>chr10</th>\n",
       "      <th>75751000</th>\n",
       "      <td>23.0</td>\n",
       "      <td>37.0</td>\n",
       "      <td>13.0</td>\n",
       "    </tr>\n",
       "    <tr>\n",
       "      <th>chr4</th>\n",
       "      <th>6978000</th>\n",
       "      <td>22.0</td>\n",
       "      <td>36.0</td>\n",
       "      <td>15.0</td>\n",
       "    </tr>\n",
       "    <tr>\n",
       "      <th>chr21</th>\n",
       "      <th>28563000</th>\n",
       "      <td>22.0</td>\n",
       "      <td>40.0</td>\n",
       "      <td>11.0</td>\n",
       "    </tr>\n",
       "    <tr>\n",
       "      <th>chr13</th>\n",
       "      <th>21449000</th>\n",
       "      <td>22.0</td>\n",
       "      <td>31.0</td>\n",
       "      <td>20.0</td>\n",
       "    </tr>\n",
       "    <tr>\n",
       "      <th>chr6</th>\n",
       "      <th>18227000</th>\n",
       "      <td>22.0</td>\n",
       "      <td>31.0</td>\n",
       "      <td>20.0</td>\n",
       "    </tr>\n",
       "    <tr>\n",
       "      <th>chr8</th>\n",
       "      <th>128824000</th>\n",
       "      <td>21.0</td>\n",
       "      <td>29.0</td>\n",
       "      <td>23.0</td>\n",
       "    </tr>\n",
       "    <tr>\n",
       "      <th>chr18</th>\n",
       "      <th>39511000</th>\n",
       "      <td>21.0</td>\n",
       "      <td>35.0</td>\n",
       "      <td>17.0</td>\n",
       "    </tr>\n",
       "    <tr>\n",
       "      <th>chr9</th>\n",
       "      <th>38325000</th>\n",
       "      <td>21.0</td>\n",
       "      <td>36.0</td>\n",
       "      <td>16.0</td>\n",
       "    </tr>\n",
       "    <tr>\n",
       "      <th>chr18</th>\n",
       "      <th>54342000</th>\n",
       "      <td>21.0</td>\n",
       "      <td>37.0</td>\n",
       "      <td>15.0</td>\n",
       "    </tr>\n",
       "  </tbody>\n",
       "</table>\n",
       "</div>"
      ],
      "text/plain": [
       "                        -1     0     1\n",
       "chromosome position                   \n",
       "chr18      70570000   25.0  31.0  17.0\n",
       "chr10      75751000   23.0  37.0  13.0\n",
       "chr4       6978000    22.0  36.0  15.0\n",
       "chr21      28563000   22.0  40.0  11.0\n",
       "chr13      21449000   22.0  31.0  20.0\n",
       "chr6       18227000   22.0  31.0  20.0\n",
       "chr8       128824000  21.0  29.0  23.0\n",
       "chr18      39511000   21.0  35.0  17.0\n",
       "chr9       38325000   21.0  36.0  16.0\n",
       "chr18      54342000   21.0  37.0  15.0"
      ]
     },
     "execution_count": 86,
     "metadata": {},
     "output_type": "execute_result"
    }
   ],
   "source": [
    "compdf.loc[pd.IndexSlice[:,'SVA_D'],chromosome_columns].apply(\n",
    "    pd.Series.value_counts, axis=0).T.sort_values(by=[-1],ascending=False).head(10)\n"
   ]
  },
  {
   "cell_type": "code",
   "execution_count": 87,
   "metadata": {},
   "outputs": [
    {
     "data": {
      "text/html": [
       "<div>\n",
       "<style scoped>\n",
       "    .dataframe tbody tr th:only-of-type {\n",
       "        vertical-align: middle;\n",
       "    }\n",
       "\n",
       "    .dataframe tbody tr th {\n",
       "        vertical-align: top;\n",
       "    }\n",
       "\n",
       "    .dataframe thead th {\n",
       "        text-align: right;\n",
       "    }\n",
       "</style>\n",
       "<table border=\"1\" class=\"dataframe\">\n",
       "  <thead>\n",
       "    <tr style=\"text-align: right;\">\n",
       "      <th></th>\n",
       "      <th></th>\n",
       "      <th>-1</th>\n",
       "      <th>0</th>\n",
       "      <th>1</th>\n",
       "    </tr>\n",
       "    <tr>\n",
       "      <th>chromosome</th>\n",
       "      <th>position</th>\n",
       "      <th></th>\n",
       "      <th></th>\n",
       "      <th></th>\n",
       "    </tr>\n",
       "  </thead>\n",
       "  <tbody>\n",
       "    <tr>\n",
       "      <th>chr18</th>\n",
       "      <th>70570000</th>\n",
       "      <td>25.0</td>\n",
       "      <td>30.0</td>\n",
       "      <td>18.0</td>\n",
       "    </tr>\n",
       "    <tr>\n",
       "      <th>chr10</th>\n",
       "      <th>118894000</th>\n",
       "      <td>24.0</td>\n",
       "      <td>35.0</td>\n",
       "      <td>14.0</td>\n",
       "    </tr>\n",
       "    <tr>\n",
       "      <th>chr6</th>\n",
       "      <th>18227000</th>\n",
       "      <td>22.0</td>\n",
       "      <td>31.0</td>\n",
       "      <td>20.0</td>\n",
       "    </tr>\n",
       "    <tr>\n",
       "      <th>chr4</th>\n",
       "      <th>6978000</th>\n",
       "      <td>22.0</td>\n",
       "      <td>36.0</td>\n",
       "      <td>15.0</td>\n",
       "    </tr>\n",
       "    <tr>\n",
       "      <th>chr13</th>\n",
       "      <th>21449000</th>\n",
       "      <td>22.0</td>\n",
       "      <td>31.0</td>\n",
       "      <td>20.0</td>\n",
       "    </tr>\n",
       "    <tr>\n",
       "      <th>chr10</th>\n",
       "      <th>75751000</th>\n",
       "      <td>22.0</td>\n",
       "      <td>39.0</td>\n",
       "      <td>12.0</td>\n",
       "    </tr>\n",
       "    <tr>\n",
       "      <th>chr21</th>\n",
       "      <th>28563000</th>\n",
       "      <td>22.0</td>\n",
       "      <td>40.0</td>\n",
       "      <td>11.0</td>\n",
       "    </tr>\n",
       "    <tr>\n",
       "      <th>chr2</th>\n",
       "      <th>155658000</th>\n",
       "      <td>21.0</td>\n",
       "      <td>33.0</td>\n",
       "      <td>19.0</td>\n",
       "    </tr>\n",
       "    <tr>\n",
       "      <th>chr13</th>\n",
       "      <th>32715000</th>\n",
       "      <td>21.0</td>\n",
       "      <td>35.0</td>\n",
       "      <td>17.0</td>\n",
       "    </tr>\n",
       "    <tr>\n",
       "      <th>chr18</th>\n",
       "      <th>39511000</th>\n",
       "      <td>21.0</td>\n",
       "      <td>35.0</td>\n",
       "      <td>17.0</td>\n",
       "    </tr>\n",
       "  </tbody>\n",
       "</table>\n",
       "</div>"
      ],
      "text/plain": [
       "                        -1     0     1\n",
       "chromosome position                   \n",
       "chr18      70570000   25.0  30.0  18.0\n",
       "chr10      118894000  24.0  35.0  14.0\n",
       "chr6       18227000   22.0  31.0  20.0\n",
       "chr4       6978000    22.0  36.0  15.0\n",
       "chr13      21449000   22.0  31.0  20.0\n",
       "chr10      75751000   22.0  39.0  12.0\n",
       "chr21      28563000   22.0  40.0  11.0\n",
       "chr2       155658000  21.0  33.0  19.0\n",
       "chr13      32715000   21.0  35.0  17.0\n",
       "chr18      39511000   21.0  35.0  17.0"
      ]
     },
     "execution_count": 87,
     "metadata": {},
     "output_type": "execute_result"
    }
   ],
   "source": [
    "compdf.loc[pd.IndexSlice[:,'SVA_E'],chromosome_columns].apply(\n",
    "    pd.Series.value_counts, axis=0).T.sort_values(by=[-1],ascending=False).head(10)\n"
   ]
  },
  {
   "cell_type": "code",
   "execution_count": 88,
   "metadata": {},
   "outputs": [
    {
     "data": {
      "text/html": [
       "<div>\n",
       "<style scoped>\n",
       "    .dataframe tbody tr th:only-of-type {\n",
       "        vertical-align: middle;\n",
       "    }\n",
       "\n",
       "    .dataframe tbody tr th {\n",
       "        vertical-align: top;\n",
       "    }\n",
       "\n",
       "    .dataframe thead th {\n",
       "        text-align: right;\n",
       "    }\n",
       "</style>\n",
       "<table border=\"1\" class=\"dataframe\">\n",
       "  <thead>\n",
       "    <tr style=\"text-align: right;\">\n",
       "      <th></th>\n",
       "      <th></th>\n",
       "      <th>-1</th>\n",
       "      <th>0</th>\n",
       "      <th>1</th>\n",
       "    </tr>\n",
       "    <tr>\n",
       "      <th>chromosome</th>\n",
       "      <th>position</th>\n",
       "      <th></th>\n",
       "      <th></th>\n",
       "      <th></th>\n",
       "    </tr>\n",
       "  </thead>\n",
       "  <tbody>\n",
       "    <tr>\n",
       "      <th>chr1</th>\n",
       "      <th>32803000</th>\n",
       "      <td>23.0</td>\n",
       "      <td>34.0</td>\n",
       "      <td>16.0</td>\n",
       "    </tr>\n",
       "    <tr>\n",
       "      <th>chr18</th>\n",
       "      <th>70570000</th>\n",
       "      <td>23.0</td>\n",
       "      <td>33.0</td>\n",
       "      <td>17.0</td>\n",
       "    </tr>\n",
       "    <tr>\n",
       "      <th>chr19</th>\n",
       "      <th>38856000</th>\n",
       "      <td>22.0</td>\n",
       "      <td>41.0</td>\n",
       "      <td>10.0</td>\n",
       "    </tr>\n",
       "    <tr>\n",
       "      <th>chr14_GL000194v1_random</th>\n",
       "      <th>189000</th>\n",
       "      <td>22.0</td>\n",
       "      <td>42.0</td>\n",
       "      <td>9.0</td>\n",
       "    </tr>\n",
       "    <tr>\n",
       "      <th>chr10</th>\n",
       "      <th>75751000</th>\n",
       "      <td>22.0</td>\n",
       "      <td>45.0</td>\n",
       "      <td>6.0</td>\n",
       "    </tr>\n",
       "    <tr>\n",
       "      <th>chr3</th>\n",
       "      <th>118717000</th>\n",
       "      <td>21.0</td>\n",
       "      <td>43.0</td>\n",
       "      <td>9.0</td>\n",
       "    </tr>\n",
       "    <tr>\n",
       "      <th>chr6</th>\n",
       "      <th>69434000</th>\n",
       "      <td>21.0</td>\n",
       "      <td>36.0</td>\n",
       "      <td>16.0</td>\n",
       "    </tr>\n",
       "    <tr>\n",
       "      <th>chr19</th>\n",
       "      <th>45649000</th>\n",
       "      <td>21.0</td>\n",
       "      <td>38.0</td>\n",
       "      <td>14.0</td>\n",
       "    </tr>\n",
       "    <tr>\n",
       "      <th>chr2</th>\n",
       "      <th>36181000</th>\n",
       "      <td>21.0</td>\n",
       "      <td>28.0</td>\n",
       "      <td>24.0</td>\n",
       "    </tr>\n",
       "    <tr>\n",
       "      <th>chr22</th>\n",
       "      <th>49029000</th>\n",
       "      <td>21.0</td>\n",
       "      <td>38.0</td>\n",
       "      <td>14.0</td>\n",
       "    </tr>\n",
       "  </tbody>\n",
       "</table>\n",
       "</div>"
      ],
      "text/plain": [
       "                                     -1     0     1\n",
       "chromosome              position                   \n",
       "chr1                    32803000   23.0  34.0  16.0\n",
       "chr18                   70570000   23.0  33.0  17.0\n",
       "chr19                   38856000   22.0  41.0  10.0\n",
       "chr14_GL000194v1_random 189000     22.0  42.0   9.0\n",
       "chr10                   75751000   22.0  45.0   6.0\n",
       "chr3                    118717000  21.0  43.0   9.0\n",
       "chr6                    69434000   21.0  36.0  16.0\n",
       "chr19                   45649000   21.0  38.0  14.0\n",
       "chr2                    36181000   21.0  28.0  24.0\n",
       "chr22                   49029000   21.0  38.0  14.0"
      ]
     },
     "execution_count": 88,
     "metadata": {},
     "output_type": "execute_result"
    }
   ],
   "source": [
    "compdf.loc[pd.IndexSlice[:,'SVA_F'],chromosome_columns].apply(\n",
    "    pd.Series.value_counts, axis=0).T.sort_values(by=[-1],ascending=False).head(10)\n"
   ]
  },
  {
   "cell_type": "code",
   "execution_count": null,
   "metadata": {},
   "outputs": [],
   "source": []
  },
  {
   "cell_type": "markdown",
   "metadata": {},
   "source": [
    "We see that the unique normal positions aren't really that unique.\n",
    "\n",
    "If we do the same, but sort by tumor ..."
   ]
  },
  {
   "cell_type": "code",
   "execution_count": null,
   "metadata": {},
   "outputs": [],
   "source": []
  },
  {
   "cell_type": "code",
   "execution_count": 89,
   "metadata": {
    "scrolled": true
   },
   "outputs": [
    {
     "data": {
      "text/html": [
       "<div>\n",
       "<style scoped>\n",
       "    .dataframe tbody tr th:only-of-type {\n",
       "        vertical-align: middle;\n",
       "    }\n",
       "\n",
       "    .dataframe tbody tr th {\n",
       "        vertical-align: top;\n",
       "    }\n",
       "\n",
       "    .dataframe thead th {\n",
       "        text-align: right;\n",
       "    }\n",
       "</style>\n",
       "<table border=\"1\" class=\"dataframe\">\n",
       "  <thead>\n",
       "    <tr style=\"text-align: right;\">\n",
       "      <th></th>\n",
       "      <th></th>\n",
       "      <th>-1</th>\n",
       "      <th>0</th>\n",
       "      <th>1</th>\n",
       "    </tr>\n",
       "    <tr>\n",
       "      <th>chromosome</th>\n",
       "      <th>position</th>\n",
       "      <th></th>\n",
       "      <th></th>\n",
       "      <th></th>\n",
       "    </tr>\n",
       "  </thead>\n",
       "  <tbody>\n",
       "    <tr>\n",
       "      <th rowspan=\"2\" valign=\"top\">chr19</th>\n",
       "      <th>37629000</th>\n",
       "      <td>10.0</td>\n",
       "      <td>34.0</td>\n",
       "      <td>29.0</td>\n",
       "    </tr>\n",
       "    <tr>\n",
       "      <th>27814000</th>\n",
       "      <td>10.0</td>\n",
       "      <td>34.0</td>\n",
       "      <td>29.0</td>\n",
       "    </tr>\n",
       "    <tr>\n",
       "      <th>chrX</th>\n",
       "      <th>113990000</th>\n",
       "      <td>13.0</td>\n",
       "      <td>31.0</td>\n",
       "      <td>29.0</td>\n",
       "    </tr>\n",
       "    <tr>\n",
       "      <th>chr19</th>\n",
       "      <th>23078000</th>\n",
       "      <td>16.0</td>\n",
       "      <td>29.0</td>\n",
       "      <td>28.0</td>\n",
       "    </tr>\n",
       "    <tr>\n",
       "      <th>chr1</th>\n",
       "      <th>160914000</th>\n",
       "      <td>11.0</td>\n",
       "      <td>34.0</td>\n",
       "      <td>28.0</td>\n",
       "    </tr>\n",
       "    <tr>\n",
       "      <th>chr9</th>\n",
       "      <th>111876000</th>\n",
       "      <td>15.0</td>\n",
       "      <td>31.0</td>\n",
       "      <td>27.0</td>\n",
       "    </tr>\n",
       "    <tr>\n",
       "      <th>chr20</th>\n",
       "      <th>7957000</th>\n",
       "      <td>8.0</td>\n",
       "      <td>38.0</td>\n",
       "      <td>27.0</td>\n",
       "    </tr>\n",
       "    <tr>\n",
       "      <th>chr7</th>\n",
       "      <th>99432000</th>\n",
       "      <td>6.0</td>\n",
       "      <td>40.0</td>\n",
       "      <td>27.0</td>\n",
       "    </tr>\n",
       "    <tr>\n",
       "      <th rowspan=\"2\" valign=\"top\">chr19</th>\n",
       "      <th>52420000</th>\n",
       "      <td>10.0</td>\n",
       "      <td>36.0</td>\n",
       "      <td>27.0</td>\n",
       "    </tr>\n",
       "    <tr>\n",
       "      <th>57557000</th>\n",
       "      <td>14.0</td>\n",
       "      <td>32.0</td>\n",
       "      <td>27.0</td>\n",
       "    </tr>\n",
       "  </tbody>\n",
       "</table>\n",
       "</div>"
      ],
      "text/plain": [
       "                        -1     0     1\n",
       "chromosome position                   \n",
       "chr19      37629000   10.0  34.0  29.0\n",
       "           27814000   10.0  34.0  29.0\n",
       "chrX       113990000  13.0  31.0  29.0\n",
       "chr19      23078000   16.0  29.0  28.0\n",
       "chr1       160914000  11.0  34.0  28.0\n",
       "chr9       111876000  15.0  31.0  27.0\n",
       "chr20      7957000     8.0  38.0  27.0\n",
       "chr7       99432000    6.0  40.0  27.0\n",
       "chr19      52420000   10.0  36.0  27.0\n",
       "           57557000   14.0  32.0  27.0"
      ]
     },
     "execution_count": 89,
     "metadata": {},
     "output_type": "execute_result"
    }
   ],
   "source": [
    "compdf.loc[pd.IndexSlice[:,'HERVK113'],chromosome_columns].apply(\n",
    "    pd.Series.value_counts, axis=0).T.sort_values(by=[1],ascending=False).head(10)\n"
   ]
  },
  {
   "cell_type": "code",
   "execution_count": 90,
   "metadata": {},
   "outputs": [
    {
     "data": {
      "text/html": [
       "<div>\n",
       "<style scoped>\n",
       "    .dataframe tbody tr th:only-of-type {\n",
       "        vertical-align: middle;\n",
       "    }\n",
       "\n",
       "    .dataframe tbody tr th {\n",
       "        vertical-align: top;\n",
       "    }\n",
       "\n",
       "    .dataframe thead th {\n",
       "        text-align: right;\n",
       "    }\n",
       "</style>\n",
       "<table border=\"1\" class=\"dataframe\">\n",
       "  <thead>\n",
       "    <tr style=\"text-align: right;\">\n",
       "      <th></th>\n",
       "      <th></th>\n",
       "      <th>-1</th>\n",
       "      <th>0</th>\n",
       "      <th>1</th>\n",
       "    </tr>\n",
       "    <tr>\n",
       "      <th>chromosome</th>\n",
       "      <th>position</th>\n",
       "      <th></th>\n",
       "      <th></th>\n",
       "      <th></th>\n",
       "    </tr>\n",
       "  </thead>\n",
       "  <tbody>\n",
       "    <tr>\n",
       "      <th rowspan=\"2\" valign=\"top\">chr7</th>\n",
       "      <th>6976000</th>\n",
       "      <td>8.0</td>\n",
       "      <td>34.0</td>\n",
       "      <td>31.0</td>\n",
       "    </tr>\n",
       "    <tr>\n",
       "      <th>92544000</th>\n",
       "      <td>5.0</td>\n",
       "      <td>37.0</td>\n",
       "      <td>31.0</td>\n",
       "    </tr>\n",
       "    <tr>\n",
       "      <th>chr2</th>\n",
       "      <th>34132000</th>\n",
       "      <td>7.0</td>\n",
       "      <td>36.0</td>\n",
       "      <td>30.0</td>\n",
       "    </tr>\n",
       "    <tr>\n",
       "      <th>chr19</th>\n",
       "      <th>6513000</th>\n",
       "      <td>7.0</td>\n",
       "      <td>37.0</td>\n",
       "      <td>29.0</td>\n",
       "    </tr>\n",
       "    <tr>\n",
       "      <th>chrX</th>\n",
       "      <th>40863000</th>\n",
       "      <td>14.0</td>\n",
       "      <td>30.0</td>\n",
       "      <td>29.0</td>\n",
       "    </tr>\n",
       "    <tr>\n",
       "      <th>chr19</th>\n",
       "      <th>20953000</th>\n",
       "      <td>9.0</td>\n",
       "      <td>35.0</td>\n",
       "      <td>29.0</td>\n",
       "    </tr>\n",
       "    <tr>\n",
       "      <th>chr22</th>\n",
       "      <th>42972000</th>\n",
       "      <td>14.0</td>\n",
       "      <td>31.0</td>\n",
       "      <td>28.0</td>\n",
       "    </tr>\n",
       "    <tr>\n",
       "      <th>chr1</th>\n",
       "      <th>180710000</th>\n",
       "      <td>12.0</td>\n",
       "      <td>33.0</td>\n",
       "      <td>28.0</td>\n",
       "    </tr>\n",
       "    <tr>\n",
       "      <th>chr6</th>\n",
       "      <th>30221000</th>\n",
       "      <td>12.0</td>\n",
       "      <td>33.0</td>\n",
       "      <td>28.0</td>\n",
       "    </tr>\n",
       "    <tr>\n",
       "      <th>chr19</th>\n",
       "      <th>23160000</th>\n",
       "      <td>11.0</td>\n",
       "      <td>34.0</td>\n",
       "      <td>28.0</td>\n",
       "    </tr>\n",
       "  </tbody>\n",
       "</table>\n",
       "</div>"
      ],
      "text/plain": [
       "                        -1     0     1\n",
       "chromosome position                   \n",
       "chr7       6976000     8.0  34.0  31.0\n",
       "           92544000    5.0  37.0  31.0\n",
       "chr2       34132000    7.0  36.0  30.0\n",
       "chr19      6513000     7.0  37.0  29.0\n",
       "chrX       40863000   14.0  30.0  29.0\n",
       "chr19      20953000    9.0  35.0  29.0\n",
       "chr22      42972000   14.0  31.0  28.0\n",
       "chr1       180710000  12.0  33.0  28.0\n",
       "chr6       30221000   12.0  33.0  28.0\n",
       "chr19      23160000   11.0  34.0  28.0"
      ]
     },
     "execution_count": 90,
     "metadata": {},
     "output_type": "execute_result"
    }
   ],
   "source": [
    "compdf.loc[pd.IndexSlice[:,'SVA_A'],chromosome_columns].apply(\n",
    "    pd.Series.value_counts, axis=0).T.sort_values(by=[1],ascending=False).head(10)\n"
   ]
  },
  {
   "cell_type": "code",
   "execution_count": 91,
   "metadata": {},
   "outputs": [
    {
     "data": {
      "text/html": [
       "<div>\n",
       "<style scoped>\n",
       "    .dataframe tbody tr th:only-of-type {\n",
       "        vertical-align: middle;\n",
       "    }\n",
       "\n",
       "    .dataframe tbody tr th {\n",
       "        vertical-align: top;\n",
       "    }\n",
       "\n",
       "    .dataframe thead th {\n",
       "        text-align: right;\n",
       "    }\n",
       "</style>\n",
       "<table border=\"1\" class=\"dataframe\">\n",
       "  <thead>\n",
       "    <tr style=\"text-align: right;\">\n",
       "      <th></th>\n",
       "      <th></th>\n",
       "      <th>-1</th>\n",
       "      <th>0</th>\n",
       "      <th>1</th>\n",
       "    </tr>\n",
       "    <tr>\n",
       "      <th>chromosome</th>\n",
       "      <th>position</th>\n",
       "      <th></th>\n",
       "      <th></th>\n",
       "      <th></th>\n",
       "    </tr>\n",
       "  </thead>\n",
       "  <tbody>\n",
       "    <tr>\n",
       "      <th>chr7</th>\n",
       "      <th>91886000</th>\n",
       "      <td>10.0</td>\n",
       "      <td>30.0</td>\n",
       "      <td>33.0</td>\n",
       "    </tr>\n",
       "    <tr>\n",
       "      <th>chr6</th>\n",
       "      <th>30221000</th>\n",
       "      <td>8.0</td>\n",
       "      <td>34.0</td>\n",
       "      <td>31.0</td>\n",
       "    </tr>\n",
       "    <tr>\n",
       "      <th>chr7</th>\n",
       "      <th>77510000</th>\n",
       "      <td>11.0</td>\n",
       "      <td>31.0</td>\n",
       "      <td>31.0</td>\n",
       "    </tr>\n",
       "    <tr>\n",
       "      <th>chr2</th>\n",
       "      <th>27558000</th>\n",
       "      <td>7.0</td>\n",
       "      <td>36.0</td>\n",
       "      <td>30.0</td>\n",
       "    </tr>\n",
       "    <tr>\n",
       "      <th>chr11</th>\n",
       "      <th>95481000</th>\n",
       "      <td>9.0</td>\n",
       "      <td>34.0</td>\n",
       "      <td>30.0</td>\n",
       "    </tr>\n",
       "    <tr>\n",
       "      <th>chr5</th>\n",
       "      <th>59464000</th>\n",
       "      <td>12.0</td>\n",
       "      <td>31.0</td>\n",
       "      <td>30.0</td>\n",
       "    </tr>\n",
       "    <tr>\n",
       "      <th>chr7</th>\n",
       "      <th>54675000</th>\n",
       "      <td>6.0</td>\n",
       "      <td>37.0</td>\n",
       "      <td>30.0</td>\n",
       "    </tr>\n",
       "    <tr>\n",
       "      <th>chr8</th>\n",
       "      <th>128824000</th>\n",
       "      <td>18.0</td>\n",
       "      <td>25.0</td>\n",
       "      <td>30.0</td>\n",
       "    </tr>\n",
       "    <tr>\n",
       "      <th>chr3</th>\n",
       "      <th>113047000</th>\n",
       "      <td>6.0</td>\n",
       "      <td>38.0</td>\n",
       "      <td>29.0</td>\n",
       "    </tr>\n",
       "    <tr>\n",
       "      <th>chr12</th>\n",
       "      <th>110173000</th>\n",
       "      <td>10.0</td>\n",
       "      <td>34.0</td>\n",
       "      <td>29.0</td>\n",
       "    </tr>\n",
       "  </tbody>\n",
       "</table>\n",
       "</div>"
      ],
      "text/plain": [
       "                        -1     0     1\n",
       "chromosome position                   \n",
       "chr7       91886000   10.0  30.0  33.0\n",
       "chr6       30221000    8.0  34.0  31.0\n",
       "chr7       77510000   11.0  31.0  31.0\n",
       "chr2       27558000    7.0  36.0  30.0\n",
       "chr11      95481000    9.0  34.0  30.0\n",
       "chr5       59464000   12.0  31.0  30.0\n",
       "chr7       54675000    6.0  37.0  30.0\n",
       "chr8       128824000  18.0  25.0  30.0\n",
       "chr3       113047000   6.0  38.0  29.0\n",
       "chr12      110173000  10.0  34.0  29.0"
      ]
     },
     "execution_count": 91,
     "metadata": {},
     "output_type": "execute_result"
    }
   ],
   "source": [
    "compdf.loc[pd.IndexSlice[:,'SVA_B'],chromosome_columns].apply(\n",
    "    pd.Series.value_counts, axis=0).T.sort_values(by=[1],ascending=False).head(10)\n"
   ]
  },
  {
   "cell_type": "code",
   "execution_count": 92,
   "metadata": {},
   "outputs": [
    {
     "data": {
      "text/html": [
       "<div>\n",
       "<style scoped>\n",
       "    .dataframe tbody tr th:only-of-type {\n",
       "        vertical-align: middle;\n",
       "    }\n",
       "\n",
       "    .dataframe tbody tr th {\n",
       "        vertical-align: top;\n",
       "    }\n",
       "\n",
       "    .dataframe thead th {\n",
       "        text-align: right;\n",
       "    }\n",
       "</style>\n",
       "<table border=\"1\" class=\"dataframe\">\n",
       "  <thead>\n",
       "    <tr style=\"text-align: right;\">\n",
       "      <th></th>\n",
       "      <th></th>\n",
       "      <th>-1</th>\n",
       "      <th>0</th>\n",
       "      <th>1</th>\n",
       "    </tr>\n",
       "    <tr>\n",
       "      <th>chromosome</th>\n",
       "      <th>position</th>\n",
       "      <th></th>\n",
       "      <th></th>\n",
       "      <th></th>\n",
       "    </tr>\n",
       "  </thead>\n",
       "  <tbody>\n",
       "    <tr>\n",
       "      <th>chr19</th>\n",
       "      <th>6513000</th>\n",
       "      <td>4.0</td>\n",
       "      <td>36.0</td>\n",
       "      <td>33.0</td>\n",
       "    </tr>\n",
       "    <tr>\n",
       "      <th>chr7</th>\n",
       "      <th>91886000</th>\n",
       "      <td>10.0</td>\n",
       "      <td>30.0</td>\n",
       "      <td>33.0</td>\n",
       "    </tr>\n",
       "    <tr>\n",
       "      <th>chr8</th>\n",
       "      <th>127317000</th>\n",
       "      <td>11.0</td>\n",
       "      <td>31.0</td>\n",
       "      <td>31.0</td>\n",
       "    </tr>\n",
       "    <tr>\n",
       "      <th>chr2</th>\n",
       "      <th>27558000</th>\n",
       "      <td>7.0</td>\n",
       "      <td>36.0</td>\n",
       "      <td>30.0</td>\n",
       "    </tr>\n",
       "    <tr>\n",
       "      <th>chr11</th>\n",
       "      <th>95481000</th>\n",
       "      <td>8.0</td>\n",
       "      <td>36.0</td>\n",
       "      <td>29.0</td>\n",
       "    </tr>\n",
       "    <tr>\n",
       "      <th>chr14</th>\n",
       "      <th>23107000</th>\n",
       "      <td>10.0</td>\n",
       "      <td>34.0</td>\n",
       "      <td>29.0</td>\n",
       "    </tr>\n",
       "    <tr>\n",
       "      <th>chr6</th>\n",
       "      <th>30221000</th>\n",
       "      <td>11.0</td>\n",
       "      <td>33.0</td>\n",
       "      <td>29.0</td>\n",
       "    </tr>\n",
       "    <tr>\n",
       "      <th>chr12</th>\n",
       "      <th>110173000</th>\n",
       "      <td>9.0</td>\n",
       "      <td>35.0</td>\n",
       "      <td>29.0</td>\n",
       "    </tr>\n",
       "    <tr>\n",
       "      <th>chr2</th>\n",
       "      <th>98989000</th>\n",
       "      <td>8.0</td>\n",
       "      <td>36.0</td>\n",
       "      <td>29.0</td>\n",
       "    </tr>\n",
       "    <tr>\n",
       "      <th>chr7</th>\n",
       "      <th>77510000</th>\n",
       "      <td>11.0</td>\n",
       "      <td>34.0</td>\n",
       "      <td>28.0</td>\n",
       "    </tr>\n",
       "  </tbody>\n",
       "</table>\n",
       "</div>"
      ],
      "text/plain": [
       "                        -1     0     1\n",
       "chromosome position                   \n",
       "chr19      6513000     4.0  36.0  33.0\n",
       "chr7       91886000   10.0  30.0  33.0\n",
       "chr8       127317000  11.0  31.0  31.0\n",
       "chr2       27558000    7.0  36.0  30.0\n",
       "chr11      95481000    8.0  36.0  29.0\n",
       "chr14      23107000   10.0  34.0  29.0\n",
       "chr6       30221000   11.0  33.0  29.0\n",
       "chr12      110173000   9.0  35.0  29.0\n",
       "chr2       98989000    8.0  36.0  29.0\n",
       "chr7       77510000   11.0  34.0  28.0"
      ]
     },
     "execution_count": 92,
     "metadata": {},
     "output_type": "execute_result"
    }
   ],
   "source": [
    "compdf.loc[pd.IndexSlice[:,'SVA_C'],chromosome_columns].apply(\n",
    "    pd.Series.value_counts, axis=0).T.sort_values(by=[1],ascending=False).head(10)\n"
   ]
  },
  {
   "cell_type": "code",
   "execution_count": 93,
   "metadata": {},
   "outputs": [
    {
     "data": {
      "text/html": [
       "<div>\n",
       "<style scoped>\n",
       "    .dataframe tbody tr th:only-of-type {\n",
       "        vertical-align: middle;\n",
       "    }\n",
       "\n",
       "    .dataframe tbody tr th {\n",
       "        vertical-align: top;\n",
       "    }\n",
       "\n",
       "    .dataframe thead th {\n",
       "        text-align: right;\n",
       "    }\n",
       "</style>\n",
       "<table border=\"1\" class=\"dataframe\">\n",
       "  <thead>\n",
       "    <tr style=\"text-align: right;\">\n",
       "      <th></th>\n",
       "      <th></th>\n",
       "      <th>-1</th>\n",
       "      <th>0</th>\n",
       "      <th>1</th>\n",
       "    </tr>\n",
       "    <tr>\n",
       "      <th>chromosome</th>\n",
       "      <th>position</th>\n",
       "      <th></th>\n",
       "      <th></th>\n",
       "      <th></th>\n",
       "    </tr>\n",
       "  </thead>\n",
       "  <tbody>\n",
       "    <tr>\n",
       "      <th>chr19</th>\n",
       "      <th>6513000</th>\n",
       "      <td>4.0</td>\n",
       "      <td>36.0</td>\n",
       "      <td>33.0</td>\n",
       "    </tr>\n",
       "    <tr>\n",
       "      <th>chr7</th>\n",
       "      <th>91886000</th>\n",
       "      <td>11.0</td>\n",
       "      <td>29.0</td>\n",
       "      <td>33.0</td>\n",
       "    </tr>\n",
       "    <tr>\n",
       "      <th>chr8</th>\n",
       "      <th>127317000</th>\n",
       "      <td>11.0</td>\n",
       "      <td>31.0</td>\n",
       "      <td>31.0</td>\n",
       "    </tr>\n",
       "    <tr>\n",
       "      <th>chr2</th>\n",
       "      <th>27558000</th>\n",
       "      <td>7.0</td>\n",
       "      <td>36.0</td>\n",
       "      <td>30.0</td>\n",
       "    </tr>\n",
       "    <tr>\n",
       "      <th>chr11</th>\n",
       "      <th>95481000</th>\n",
       "      <td>9.0</td>\n",
       "      <td>35.0</td>\n",
       "      <td>29.0</td>\n",
       "    </tr>\n",
       "    <tr>\n",
       "      <th>chr6</th>\n",
       "      <th>30221000</th>\n",
       "      <td>11.0</td>\n",
       "      <td>33.0</td>\n",
       "      <td>29.0</td>\n",
       "    </tr>\n",
       "    <tr>\n",
       "      <th>chr18</th>\n",
       "      <th>7203000</th>\n",
       "      <td>11.0</td>\n",
       "      <td>33.0</td>\n",
       "      <td>29.0</td>\n",
       "    </tr>\n",
       "    <tr>\n",
       "      <th>chr14</th>\n",
       "      <th>23107000</th>\n",
       "      <td>10.0</td>\n",
       "      <td>34.0</td>\n",
       "      <td>29.0</td>\n",
       "    </tr>\n",
       "    <tr>\n",
       "      <th>chr12</th>\n",
       "      <th>110173000</th>\n",
       "      <td>9.0</td>\n",
       "      <td>35.0</td>\n",
       "      <td>29.0</td>\n",
       "    </tr>\n",
       "    <tr>\n",
       "      <th>chr7</th>\n",
       "      <th>27986000</th>\n",
       "      <td>10.0</td>\n",
       "      <td>35.0</td>\n",
       "      <td>28.0</td>\n",
       "    </tr>\n",
       "  </tbody>\n",
       "</table>\n",
       "</div>"
      ],
      "text/plain": [
       "                        -1     0     1\n",
       "chromosome position                   \n",
       "chr19      6513000     4.0  36.0  33.0\n",
       "chr7       91886000   11.0  29.0  33.0\n",
       "chr8       127317000  11.0  31.0  31.0\n",
       "chr2       27558000    7.0  36.0  30.0\n",
       "chr11      95481000    9.0  35.0  29.0\n",
       "chr6       30221000   11.0  33.0  29.0\n",
       "chr18      7203000    11.0  33.0  29.0\n",
       "chr14      23107000   10.0  34.0  29.0\n",
       "chr12      110173000   9.0  35.0  29.0\n",
       "chr7       27986000   10.0  35.0  28.0"
      ]
     },
     "execution_count": 93,
     "metadata": {},
     "output_type": "execute_result"
    }
   ],
   "source": [
    "compdf.loc[pd.IndexSlice[:,'SVA_D'],chromosome_columns].apply(\n",
    "    pd.Series.value_counts, axis=0).T.sort_values(by=[1],ascending=False).head(10)\n"
   ]
  },
  {
   "cell_type": "code",
   "execution_count": 94,
   "metadata": {},
   "outputs": [
    {
     "data": {
      "text/html": [
       "<div>\n",
       "<style scoped>\n",
       "    .dataframe tbody tr th:only-of-type {\n",
       "        vertical-align: middle;\n",
       "    }\n",
       "\n",
       "    .dataframe tbody tr th {\n",
       "        vertical-align: top;\n",
       "    }\n",
       "\n",
       "    .dataframe thead th {\n",
       "        text-align: right;\n",
       "    }\n",
       "</style>\n",
       "<table border=\"1\" class=\"dataframe\">\n",
       "  <thead>\n",
       "    <tr style=\"text-align: right;\">\n",
       "      <th></th>\n",
       "      <th></th>\n",
       "      <th>-1</th>\n",
       "      <th>0</th>\n",
       "      <th>1</th>\n",
       "    </tr>\n",
       "    <tr>\n",
       "      <th>chromosome</th>\n",
       "      <th>position</th>\n",
       "      <th></th>\n",
       "      <th></th>\n",
       "      <th></th>\n",
       "    </tr>\n",
       "  </thead>\n",
       "  <tbody>\n",
       "    <tr>\n",
       "      <th>chr19</th>\n",
       "      <th>6513000</th>\n",
       "      <td>4.0</td>\n",
       "      <td>36.0</td>\n",
       "      <td>33.0</td>\n",
       "    </tr>\n",
       "    <tr>\n",
       "      <th>chr7</th>\n",
       "      <th>91886000</th>\n",
       "      <td>11.0</td>\n",
       "      <td>30.0</td>\n",
       "      <td>32.0</td>\n",
       "    </tr>\n",
       "    <tr>\n",
       "      <th>chr8</th>\n",
       "      <th>127317000</th>\n",
       "      <td>11.0</td>\n",
       "      <td>31.0</td>\n",
       "      <td>31.0</td>\n",
       "    </tr>\n",
       "    <tr>\n",
       "      <th>chr11</th>\n",
       "      <th>95481000</th>\n",
       "      <td>10.0</td>\n",
       "      <td>32.0</td>\n",
       "      <td>31.0</td>\n",
       "    </tr>\n",
       "    <tr>\n",
       "      <th>chr12</th>\n",
       "      <th>110173000</th>\n",
       "      <td>11.0</td>\n",
       "      <td>32.0</td>\n",
       "      <td>30.0</td>\n",
       "    </tr>\n",
       "    <tr>\n",
       "      <th>chr2</th>\n",
       "      <th>27558000</th>\n",
       "      <td>7.0</td>\n",
       "      <td>37.0</td>\n",
       "      <td>29.0</td>\n",
       "    </tr>\n",
       "    <tr>\n",
       "      <th>chr6</th>\n",
       "      <th>30221000</th>\n",
       "      <td>11.0</td>\n",
       "      <td>33.0</td>\n",
       "      <td>29.0</td>\n",
       "    </tr>\n",
       "    <tr>\n",
       "      <th>chr18</th>\n",
       "      <th>7203000</th>\n",
       "      <td>11.0</td>\n",
       "      <td>33.0</td>\n",
       "      <td>29.0</td>\n",
       "    </tr>\n",
       "    <tr>\n",
       "      <th>chr14</th>\n",
       "      <th>23107000</th>\n",
       "      <td>10.0</td>\n",
       "      <td>34.0</td>\n",
       "      <td>29.0</td>\n",
       "    </tr>\n",
       "    <tr>\n",
       "      <th>chr7</th>\n",
       "      <th>27986000</th>\n",
       "      <td>9.0</td>\n",
       "      <td>36.0</td>\n",
       "      <td>28.0</td>\n",
       "    </tr>\n",
       "  </tbody>\n",
       "</table>\n",
       "</div>"
      ],
      "text/plain": [
       "                        -1     0     1\n",
       "chromosome position                   \n",
       "chr19      6513000     4.0  36.0  33.0\n",
       "chr7       91886000   11.0  30.0  32.0\n",
       "chr8       127317000  11.0  31.0  31.0\n",
       "chr11      95481000   10.0  32.0  31.0\n",
       "chr12      110173000  11.0  32.0  30.0\n",
       "chr2       27558000    7.0  37.0  29.0\n",
       "chr6       30221000   11.0  33.0  29.0\n",
       "chr18      7203000    11.0  33.0  29.0\n",
       "chr14      23107000   10.0  34.0  29.0\n",
       "chr7       27986000    9.0  36.0  28.0"
      ]
     },
     "execution_count": 94,
     "metadata": {},
     "output_type": "execute_result"
    }
   ],
   "source": [
    "compdf.loc[pd.IndexSlice[:,'SVA_E'],chromosome_columns].apply(\n",
    "    pd.Series.value_counts, axis=0).T.sort_values(by=[1],ascending=False).head(10)\n"
   ]
  },
  {
   "cell_type": "code",
   "execution_count": 95,
   "metadata": {},
   "outputs": [
    {
     "data": {
      "text/html": [
       "<div>\n",
       "<style scoped>\n",
       "    .dataframe tbody tr th:only-of-type {\n",
       "        vertical-align: middle;\n",
       "    }\n",
       "\n",
       "    .dataframe tbody tr th {\n",
       "        vertical-align: top;\n",
       "    }\n",
       "\n",
       "    .dataframe thead th {\n",
       "        text-align: right;\n",
       "    }\n",
       "</style>\n",
       "<table border=\"1\" class=\"dataframe\">\n",
       "  <thead>\n",
       "    <tr style=\"text-align: right;\">\n",
       "      <th></th>\n",
       "      <th></th>\n",
       "      <th>-1</th>\n",
       "      <th>0</th>\n",
       "      <th>1</th>\n",
       "    </tr>\n",
       "    <tr>\n",
       "      <th>chromosome</th>\n",
       "      <th>position</th>\n",
       "      <th></th>\n",
       "      <th></th>\n",
       "      <th></th>\n",
       "    </tr>\n",
       "  </thead>\n",
       "  <tbody>\n",
       "    <tr>\n",
       "      <th>chr19</th>\n",
       "      <th>6513000</th>\n",
       "      <td>7.0</td>\n",
       "      <td>32.0</td>\n",
       "      <td>34.0</td>\n",
       "    </tr>\n",
       "    <tr>\n",
       "      <th>chr7</th>\n",
       "      <th>91886000</th>\n",
       "      <td>11.0</td>\n",
       "      <td>29.0</td>\n",
       "      <td>33.0</td>\n",
       "    </tr>\n",
       "    <tr>\n",
       "      <th>chr17</th>\n",
       "      <th>35194000</th>\n",
       "      <td>8.0</td>\n",
       "      <td>35.0</td>\n",
       "      <td>30.0</td>\n",
       "    </tr>\n",
       "    <tr>\n",
       "      <th>chr7</th>\n",
       "      <th>16789000</th>\n",
       "      <td>10.0</td>\n",
       "      <td>33.0</td>\n",
       "      <td>30.0</td>\n",
       "    </tr>\n",
       "    <tr>\n",
       "      <th>chr22</th>\n",
       "      <th>42972000</th>\n",
       "      <td>16.0</td>\n",
       "      <td>27.0</td>\n",
       "      <td>30.0</td>\n",
       "    </tr>\n",
       "    <tr>\n",
       "      <th>chr2</th>\n",
       "      <th>33760000</th>\n",
       "      <td>8.0</td>\n",
       "      <td>35.0</td>\n",
       "      <td>30.0</td>\n",
       "    </tr>\n",
       "    <tr>\n",
       "      <th rowspan=\"2\" valign=\"top\">chr12</th>\n",
       "      <th>110173000</th>\n",
       "      <td>10.0</td>\n",
       "      <td>34.0</td>\n",
       "      <td>29.0</td>\n",
       "    </tr>\n",
       "    <tr>\n",
       "      <th>6474000</th>\n",
       "      <td>10.0</td>\n",
       "      <td>34.0</td>\n",
       "      <td>29.0</td>\n",
       "    </tr>\n",
       "    <tr>\n",
       "      <th>chr11</th>\n",
       "      <th>95481000</th>\n",
       "      <td>9.0</td>\n",
       "      <td>35.0</td>\n",
       "      <td>29.0</td>\n",
       "    </tr>\n",
       "    <tr>\n",
       "      <th>chr20</th>\n",
       "      <th>31428000</th>\n",
       "      <td>6.0</td>\n",
       "      <td>38.0</td>\n",
       "      <td>29.0</td>\n",
       "    </tr>\n",
       "  </tbody>\n",
       "</table>\n",
       "</div>"
      ],
      "text/plain": [
       "                        -1     0     1\n",
       "chromosome position                   \n",
       "chr19      6513000     7.0  32.0  34.0\n",
       "chr7       91886000   11.0  29.0  33.0\n",
       "chr17      35194000    8.0  35.0  30.0\n",
       "chr7       16789000   10.0  33.0  30.0\n",
       "chr22      42972000   16.0  27.0  30.0\n",
       "chr2       33760000    8.0  35.0  30.0\n",
       "chr12      110173000  10.0  34.0  29.0\n",
       "           6474000    10.0  34.0  29.0\n",
       "chr11      95481000    9.0  35.0  29.0\n",
       "chr20      31428000    6.0  38.0  29.0"
      ]
     },
     "execution_count": 95,
     "metadata": {},
     "output_type": "execute_result"
    }
   ],
   "source": [
    "compdf.loc[pd.IndexSlice[:,'SVA_F'],chromosome_columns].apply(\n",
    "    pd.Series.value_counts, axis=0).T.sort_values(by=[1],ascending=False).head(10)\n"
   ]
  },
  {
   "cell_type": "markdown",
   "metadata": {},
   "source": [
    "### These values seem to be a bit more lopsided.\n",
    "\n",
    "Further analysis forthcoming."
   ]
  },
  {
   "cell_type": "code",
   "execution_count": null,
   "metadata": {},
   "outputs": [],
   "source": []
  },
  {
   "cell_type": "code",
   "execution_count": null,
   "metadata": {},
   "outputs": [],
   "source": []
  },
  {
   "cell_type": "code",
   "execution_count": null,
   "metadata": {},
   "outputs": [],
   "source": []
  },
  {
   "cell_type": "code",
   "execution_count": null,
   "metadata": {},
   "outputs": [],
   "source": []
  },
  {
   "cell_type": "code",
   "execution_count": 96,
   "metadata": {},
   "outputs": [
    {
     "ename": "NameError",
     "evalue": "name 'stopohere' is not defined",
     "output_type": "error",
     "traceback": [
      "\u001b[0;31m---------------------------------------------------------------------------\u001b[0m",
      "\u001b[0;31mNameError\u001b[0m                                 Traceback (most recent call last)",
      "\u001b[0;32m<ipython-input-96-4acb70d5ce91>\u001b[0m in \u001b[0;36m<module>\u001b[0;34m()\u001b[0m\n\u001b[0;32m----> 1\u001b[0;31m \u001b[0mstopohere\u001b[0m\u001b[0;34m\u001b[0m\u001b[0;34m\u001b[0m\u001b[0m\n\u001b[0m",
      "\u001b[0;31mNameError\u001b[0m: name 'stopohere' is not defined"
     ]
    }
   ],
   "source": [
    "stopohere"
   ]
  },
  {
   "cell_type": "code",
   "execution_count": null,
   "metadata": {},
   "outputs": [],
   "source": []
  },
  {
   "cell_type": "code",
   "execution_count": null,
   "metadata": {},
   "outputs": [],
   "source": []
  },
  {
   "cell_type": "code",
   "execution_count": null,
   "metadata": {},
   "outputs": [],
   "source": []
  },
  {
   "cell_type": "code",
   "execution_count": null,
   "metadata": {},
   "outputs": [],
   "source": []
  },
  {
   "cell_type": "code",
   "execution_count": null,
   "metadata": {},
   "outputs": [],
   "source": []
  },
  {
   "cell_type": "code",
   "execution_count": null,
   "metadata": {},
   "outputs": [],
   "source": []
  },
  {
   "cell_type": "code",
   "execution_count": null,
   "metadata": {},
   "outputs": [],
   "source": []
  },
  {
   "cell_type": "code",
   "execution_count": null,
   "metadata": {},
   "outputs": [],
   "source": []
  },
  {
   "cell_type": "code",
   "execution_count": null,
   "metadata": {},
   "outputs": [],
   "source": []
  },
  {
   "cell_type": "code",
   "execution_count": null,
   "metadata": {},
   "outputs": [],
   "source": []
  },
  {
   "cell_type": "code",
   "execution_count": null,
   "metadata": {},
   "outputs": [],
   "source": []
  },
  {
   "cell_type": "code",
   "execution_count": null,
   "metadata": {},
   "outputs": [],
   "source": []
  },
  {
   "cell_type": "code",
   "execution_count": null,
   "metadata": {},
   "outputs": [],
   "source": []
  },
  {
   "cell_type": "code",
   "execution_count": null,
   "metadata": {},
   "outputs": [],
   "source": []
  },
  {
   "cell_type": "code",
   "execution_count": null,
   "metadata": {},
   "outputs": [],
   "source": []
  },
  {
   "cell_type": "code",
   "execution_count": null,
   "metadata": {},
   "outputs": [],
   "source": []
  },
  {
   "cell_type": "code",
   "execution_count": null,
   "metadata": {},
   "outputs": [],
   "source": []
  },
  {
   "cell_type": "markdown",
   "metadata": {},
   "source": [
    "# Get raw read counts to normalize"
   ]
  },
  {
   "cell_type": "code",
   "execution_count": null,
   "metadata": {},
   "outputs": [],
   "source": [
    "c=pd.read_csv(\"TCGA/TCGA_raw_counts.csv\")\n",
    "c.rename(columns={\"subject\": \"sample\"},inplace=True)\n",
    "#c.set_index('sample',inplace=True)\n",
    "c.head()"
   ]
  },
  {
   "cell_type": "code",
   "execution_count": null,
   "metadata": {},
   "outputs": [],
   "source": [
    "#c.loc['CS-6665-01A','raw pair count']"
   ]
  },
  {
   "cell_type": "code",
   "execution_count": null,
   "metadata": {},
   "outputs": [],
   "source": [
    "#c.loc['CS-6665-10A','raw pair count']"
   ]
  },
  {
   "cell_type": "code",
   "execution_count": null,
   "metadata": {},
   "outputs": [],
   "source": [
    "#df.head()"
   ]
  },
  {
   "cell_type": "code",
   "execution_count": null,
   "metadata": {},
   "outputs": [],
   "source": [
    "#c.columns=[c.columns,['''',]]\n",
    "c.columns=[c.columns,[''] * len(c.columns)]"
   ]
  },
  {
   "cell_type": "code",
   "execution_count": null,
   "metadata": {},
   "outputs": [],
   "source": [
    "c.head()"
   ]
  },
  {
   "cell_type": "code",
   "execution_count": null,
   "metadata": {},
   "outputs": [],
   "source": [
    "df.reset_index(inplace=True)"
   ]
  },
  {
   "cell_type": "code",
   "execution_count": null,
   "metadata": {},
   "outputs": [],
   "source": [
    "df=df.merge(c,on='sample')"
   ]
  },
  {
   "cell_type": "markdown",
   "metadata": {},
   "source": [
    "Not sure if this has any impact.\n",
    "\n",
    "/Users/jakewendt/Library/Python/3.6/lib/python/site-packages/pandas/core/generic.py:3889: PerformanceWarning: dropping on a non-lexsorted multi-index without a level parameter may impact performance.\n",
    "  obj = obj._drop_axis(labels, axis, level=level, errors=errors)\n"
   ]
  },
  {
   "cell_type": "code",
   "execution_count": null,
   "metadata": {},
   "outputs": [],
   "source": [
    "df.head()"
   ]
  },
  {
   "cell_type": "code",
   "execution_count": null,
   "metadata": {},
   "outputs": [],
   "source": [
    "df.set_index(['subject','sample','hkle'],inplace=True)\n",
    "#df.set_index(['subject','sample','hkle','raw pair count'],inplace=True)"
   ]
  },
  {
   "cell_type": "code",
   "execution_count": null,
   "metadata": {},
   "outputs": [],
   "source": [
    "df.head()"
   ]
  },
  {
   "cell_type": "code",
   "execution_count": null,
   "metadata": {},
   "outputs": [],
   "source": []
  },
  {
   "cell_type": "markdown",
   "metadata": {},
   "source": [
    "# Normalize (not sure if necessary here)"
   ]
  },
  {
   "cell_type": "code",
   "execution_count": null,
   "metadata": {},
   "outputs": [],
   "source": [
    "#dfn=df.copy()"
   ]
  },
  {
   "cell_type": "code",
   "execution_count": null,
   "metadata": {},
   "outputs": [],
   "source": [
    "#dfn.shape"
   ]
  },
  {
   "cell_type": "code",
   "execution_count": null,
   "metadata": {},
   "outputs": [],
   "source": []
  },
  {
   "cell_type": "code",
   "execution_count": null,
   "metadata": {},
   "outputs": [],
   "source": [
    "df.columns"
   ]
  },
  {
   "cell_type": "code",
   "execution_count": null,
   "metadata": {},
   "outputs": [],
   "source": [
    "chromosome_columns=df.columns[df.columns.get_level_values('chromosome').str.contains(\"^chr\")]\n",
    "chromosome_columns"
   ]
  },
  {
   "cell_type": "code",
   "execution_count": null,
   "metadata": {},
   "outputs": [],
   "source": [
    "df.loc['CS-6665','CS-6665-01A']"
   ]
  },
  {
   "cell_type": "code",
   "execution_count": null,
   "metadata": {},
   "outputs": [],
   "source": [
    "df.loc['CS-6665','CS-6665-10A']"
   ]
  },
  {
   "cell_type": "code",
   "execution_count": null,
   "metadata": {
    "scrolled": false
   },
   "outputs": [],
   "source": [
    "#df[chromosome_columns]=(1e9*df[chromosome_columns].values)/df[['raw pair count']].values"
   ]
  },
  {
   "cell_type": "code",
   "execution_count": null,
   "metadata": {},
   "outputs": [],
   "source": [
    "df.head()"
   ]
  },
  {
   "cell_type": "code",
   "execution_count": null,
   "metadata": {},
   "outputs": [],
   "source": [
    "df.drop(\"raw pair count\",axis='columns',inplace=True)"
   ]
  },
  {
   "cell_type": "code",
   "execution_count": null,
   "metadata": {},
   "outputs": [],
   "source": [
    "df.head()"
   ]
  },
  {
   "cell_type": "code",
   "execution_count": null,
   "metadata": {},
   "outputs": [],
   "source": [
    "df.shape"
   ]
  },
  {
   "cell_type": "code",
   "execution_count": null,
   "metadata": {},
   "outputs": [],
   "source": [
    "df.loc['CS-6665','CS-6665-01A']"
   ]
  },
  {
   "cell_type": "code",
   "execution_count": null,
   "metadata": {
    "scrolled": true
   },
   "outputs": [],
   "source": [
    "df.loc['CS-6665','CS-6665-10A']"
   ]
  },
  {
   "cell_type": "code",
   "execution_count": null,
   "metadata": {},
   "outputs": [],
   "source": []
  },
  {
   "cell_type": "code",
   "execution_count": null,
   "metadata": {},
   "outputs": [],
   "source": []
  },
  {
   "cell_type": "code",
   "execution_count": null,
   "metadata": {},
   "outputs": [],
   "source": []
  },
  {
   "cell_type": "code",
   "execution_count": null,
   "metadata": {},
   "outputs": [],
   "source": []
  },
  {
   "cell_type": "code",
   "execution_count": null,
   "metadata": {},
   "outputs": [],
   "source": []
  },
  {
   "cell_type": "code",
   "execution_count": null,
   "metadata": {},
   "outputs": [],
   "source": []
  },
  {
   "cell_type": "code",
   "execution_count": null,
   "metadata": {},
   "outputs": [],
   "source": []
  },
  {
   "cell_type": "code",
   "execution_count": null,
   "metadata": {},
   "outputs": [],
   "source": []
  },
  {
   "cell_type": "code",
   "execution_count": null,
   "metadata": {},
   "outputs": [],
   "source": []
  },
  {
   "cell_type": "markdown",
   "metadata": {},
   "source": [
    "#  Separate individual HERVs and SVAs"
   ]
  },
  {
   "cell_type": "code",
   "execution_count": null,
   "metadata": {},
   "outputs": [],
   "source": [
    "#hervk113=df.loc[pd.IndexSlice[:,:,'HERVK113'],:]\n",
    "#sva_a=df.loc[pd.IndexSlice[:,:,'SVA_A'],:]\n",
    "#sva_b=df.loc[pd.IndexSlice[:,:,'SVA_B'],:]\n",
    "#sva_c=df.loc[pd.IndexSlice[:,:,'SVA_C'],:]\n",
    "#sva_d=df.loc[pd.IndexSlice[:,:,'SVA_D'],:]\n",
    "#sva_e=df.loc[pd.IndexSlice[:,:,'SVA_E'],:]\n",
    "#sva_f=df.loc[pd.IndexSlice[:,:,'SVA_F'],:]\n",
    "\n",
    "hervk113=df.loc[df.index.get_level_values('hkle') == \"HERVK113\",:]\n",
    "sva_a=df.loc[df.index.get_level_values('hkle') == 'SVA_A',:]\n",
    "sva_b=df.loc[df.index.get_level_values('hkle') == 'SVA_B',:]\n",
    "sva_c=df.loc[df.index.get_level_values('hkle') == 'SVA_C',:]\n",
    "sva_d=df.loc[df.index.get_level_values('hkle') == 'SVA_D',:]\n",
    "sva_e=df.loc[df.index.get_level_values('hkle') == 'SVA_E',:]\n",
    "sva_f=df.loc[df.index.get_level_values('hkle') == 'SVA_F',:]"
   ]
  },
  {
   "cell_type": "code",
   "execution_count": null,
   "metadata": {},
   "outputs": [],
   "source": [
    "hervk113.head()"
   ]
  },
  {
   "cell_type": "code",
   "execution_count": null,
   "metadata": {},
   "outputs": [],
   "source": [
    "hervk113.shape"
   ]
  },
  {
   "cell_type": "code",
   "execution_count": null,
   "metadata": {},
   "outputs": [],
   "source": []
  },
  {
   "cell_type": "markdown",
   "metadata": {},
   "source": [
    "# Now the HKLE index is useless"
   ]
  },
  {
   "cell_type": "code",
   "execution_count": null,
   "metadata": {},
   "outputs": [],
   "source": [
    "#df=df.droplevel('hkle',axis='columns')"
   ]
  },
  {
   "cell_type": "code",
   "execution_count": null,
   "metadata": {},
   "outputs": [],
   "source": [
    "#df.head()"
   ]
  },
  {
   "cell_type": "code",
   "execution_count": null,
   "metadata": {},
   "outputs": [],
   "source": [
    "#df.shape"
   ]
  },
  {
   "cell_type": "code",
   "execution_count": null,
   "metadata": {},
   "outputs": [],
   "source": [
    "hervk113=hervk113.droplevel('hkle',axis='index')\n",
    "sva_a=sva_a.droplevel('hkle',axis='index')\n",
    "sva_b=sva_b.droplevel('hkle',axis='index')\n",
    "sva_c=sva_c.droplevel('hkle',axis='index')\n",
    "sva_d=sva_d.droplevel('hkle',axis='index')\n",
    "sva_e=sva_e.droplevel('hkle',axis='index')\n",
    "sva_f=sva_f.droplevel('hkle',axis='index')\n",
    "\n",
    "#for ldf in hervk113,sva_a,sva_b,sva_c,sva_d,sva_e,sva_f:\n",
    "#    ldf=ldf.droplevel('hkle',axis='index')\n"
   ]
  },
  {
   "cell_type": "code",
   "execution_count": null,
   "metadata": {},
   "outputs": [],
   "source": [
    "hervk113.head()"
   ]
  },
  {
   "cell_type": "code",
   "execution_count": null,
   "metadata": {},
   "outputs": [],
   "source": [
    "hervk113.shape"
   ]
  },
  {
   "cell_type": "code",
   "execution_count": null,
   "metadata": {},
   "outputs": [],
   "source": []
  },
  {
   "cell_type": "markdown",
   "metadata": {},
   "source": [
    "# Drop all those with 0 insertions"
   ]
  },
  {
   "cell_type": "code",
   "execution_count": null,
   "metadata": {},
   "outputs": [],
   "source": [
    "#for ldf in hervk113,sva_a,sva_b,sva_c,sva_d,sva_e,sva_f:\n",
    "#    ldf.drop(ldf.loc[:,ldf.sum(axis='index')==0].columns,axis='columns',inplace=True)\n",
    "    \n",
    "hervk113.drop(hervk113.loc[:,hervk113.sum(axis='index')==0].columns,axis='columns',inplace=True)\n",
    "sva_a.drop(sva_a.loc[:,sva_a.sum(axis='index')==0].columns,axis='columns',inplace=True)\n",
    "sva_b.drop(sva_b.loc[:,sva_b.sum(axis='index')==0].columns,axis='columns',inplace=True)\n",
    "sva_c.drop(sva_c.loc[:,sva_c.sum(axis='index')==0].columns,axis='columns',inplace=True)\n",
    "sva_d.drop(sva_d.loc[:,sva_d.sum(axis='index')==0].columns,axis='columns',inplace=True)\n",
    "sva_e.drop(sva_d.loc[:,sva_e.sum(axis='index')==0].columns,axis='columns',inplace=True)\n",
    "sva_f.drop(sva_f.loc[:,sva_f.sum(axis='index')==0].columns,axis='columns',inplace=True)\n"
   ]
  },
  {
   "cell_type": "code",
   "execution_count": null,
   "metadata": {},
   "outputs": [],
   "source": [
    "hervk113.head()"
   ]
  },
  {
   "cell_type": "code",
   "execution_count": null,
   "metadata": {},
   "outputs": [],
   "source": [
    "hervk113.shape"
   ]
  },
  {
   "cell_type": "code",
   "execution_count": null,
   "metadata": {},
   "outputs": [],
   "source": [
    "sva_a.shape"
   ]
  },
  {
   "cell_type": "code",
   "execution_count": null,
   "metadata": {},
   "outputs": [],
   "source": [
    "sva_b.shape"
   ]
  },
  {
   "cell_type": "code",
   "execution_count": null,
   "metadata": {},
   "outputs": [],
   "source": [
    "sva_c.shape"
   ]
  },
  {
   "cell_type": "code",
   "execution_count": null,
   "metadata": {},
   "outputs": [],
   "source": [
    "sva_d.shape"
   ]
  },
  {
   "cell_type": "code",
   "execution_count": null,
   "metadata": {},
   "outputs": [],
   "source": [
    "sva_d.shape"
   ]
  },
  {
   "cell_type": "code",
   "execution_count": null,
   "metadata": {},
   "outputs": [],
   "source": [
    "sva_f.shape"
   ]
  },
  {
   "cell_type": "code",
   "execution_count": null,
   "metadata": {},
   "outputs": [],
   "source": []
  },
  {
   "cell_type": "code",
   "execution_count": null,
   "metadata": {},
   "outputs": [],
   "source": []
  },
  {
   "cell_type": "code",
   "execution_count": null,
   "metadata": {},
   "outputs": [],
   "source": []
  },
  {
   "cell_type": "code",
   "execution_count": null,
   "metadata": {},
   "outputs": [],
   "source": []
  },
  {
   "cell_type": "code",
   "execution_count": null,
   "metadata": {},
   "outputs": [],
   "source": []
  },
  {
   "cell_type": "code",
   "execution_count": null,
   "metadata": {},
   "outputs": [],
   "source": []
  },
  {
   "cell_type": "code",
   "execution_count": null,
   "metadata": {},
   "outputs": [],
   "source": []
  },
  {
   "cell_type": "code",
   "execution_count": null,
   "metadata": {},
   "outputs": [],
   "source": []
  },
  {
   "cell_type": "code",
   "execution_count": null,
   "metadata": {},
   "outputs": [],
   "source": []
  },
  {
   "cell_type": "markdown",
   "metadata": {},
   "source": [
    "# How to compare the precise site presence in tumor / normal pairs?"
   ]
  },
  {
   "cell_type": "code",
   "execution_count": null,
   "metadata": {
    "scrolled": true
   },
   "outputs": [],
   "source": [
    "h=hervk113.copy()\n",
    "h.head()"
   ]
  },
  {
   "cell_type": "code",
   "execution_count": null,
   "metadata": {},
   "outputs": [],
   "source": [
    "for subject in hervk113.index.get_level_values('subject'):\n",
    "    h.loc[subject]=[\n",
    "        ((( hervk113.loc[subject].iloc[0]>0)^(\n",
    "            hervk113.loc[subject].iloc[1]>0))&(\n",
    "            hervk113.loc[subject].iloc[0]>0)),\n",
    "        ((( hervk113.loc[subject].iloc[0]>0)^(\n",
    "            hervk113.loc[subject].iloc[1]>0))&(\n",
    "            hervk113.loc[subject].iloc[1]>0))]"
   ]
  },
  {
   "cell_type": "code",
   "execution_count": null,
   "metadata": {},
   "outputs": [],
   "source": [
    "h.head()"
   ]
  },
  {
   "cell_type": "code",
   "execution_count": null,
   "metadata": {},
   "outputs": [],
   "source": [
    "hervk113[h].head()"
   ]
  },
  {
   "cell_type": "markdown",
   "metadata": {},
   "source": [
    "NaN means that neither tumor nor normal were unique at that position."
   ]
  },
  {
   "cell_type": "markdown",
   "metadata": {},
   "source": [
    "sum==0 mean that position is never unique."
   ]
  },
  {
   "cell_type": "code",
   "execution_count": null,
   "metadata": {},
   "outputs": [],
   "source": [
    "#hervk113.loc[:,hervk113[h].fillna(0).sum(axis='index')==0].head()"
   ]
  },
  {
   "cell_type": "code",
   "execution_count": null,
   "metadata": {},
   "outputs": [],
   "source": []
  },
  {
   "cell_type": "code",
   "execution_count": null,
   "metadata": {},
   "outputs": [],
   "source": [
    "#hervk113.loc[:,hervk113[h].fillna(0).sum(axis='index')>0].head()"
   ]
  },
  {
   "cell_type": "code",
   "execution_count": null,
   "metadata": {},
   "outputs": [],
   "source": [
    "#hervk113.loc[:,hervk113[h].fillna(0).sum(axis='index')>0]"
   ]
  },
  {
   "cell_type": "code",
   "execution_count": null,
   "metadata": {},
   "outputs": [],
   "source": [
    "#(hervk113[h]/hervk113[h]).fillna(0).sum(axis='index')==0"
   ]
  },
  {
   "cell_type": "code",
   "execution_count": null,
   "metadata": {},
   "outputs": [],
   "source": [
    "#hervk113.index.get_level_values('subject')"
   ]
  },
  {
   "cell_type": "code",
   "execution_count": null,
   "metadata": {},
   "outputs": [],
   "source": [
    "#hervk113.columns"
   ]
  },
  {
   "cell_type": "code",
   "execution_count": null,
   "metadata": {},
   "outputs": [],
   "source": [
    "htest=pd.DataFrame(columns=hervk113.columns,index=hervk113.index.get_level_values('subject').unique())"
   ]
  },
  {
   "cell_type": "code",
   "execution_count": null,
   "metadata": {
    "scrolled": false
   },
   "outputs": [],
   "source": [
    "for subject in htest.index.get_level_values('subject'):\n",
    "    tm=(((  hervk113.loc[subject].iloc[0]>0)^(\n",
    "            hervk113.loc[subject].iloc[1]>0))&(\n",
    "            hervk113.loc[subject].iloc[0]>0))\n",
    "    tm.replace([False,True],[0,1],inplace=True)\n",
    "    nm=(((  hervk113.loc[subject].iloc[0]>0)^(\n",
    "            hervk113.loc[subject].iloc[1]>0))&(\n",
    "            hervk113.loc[subject].iloc[1]>0))\n",
    "    nm.replace([False,True],[0,1],inplace=True)\n",
    "    htest.loc[subject]=tm.values-nm.values"
   ]
  },
  {
   "cell_type": "code",
   "execution_count": null,
   "metadata": {},
   "outputs": [],
   "source": [
    "htest"
   ]
  },
  {
   "cell_type": "code",
   "execution_count": null,
   "metadata": {},
   "outputs": [],
   "source": [
    "#hervk113.drop(hervk113.loc[:,hervk113.sum(axis='index')==0].columns,axis='columns',inplace=True)\n",
    "htest.loc[:,htest.count(axis='index')==0].columns"
   ]
  },
  {
   "cell_type": "code",
   "execution_count": null,
   "metadata": {},
   "outputs": [],
   "source": [
    "#(htest == 0).all(axis=0)"
   ]
  },
  {
   "cell_type": "code",
   "execution_count": null,
   "metadata": {},
   "outputs": [],
   "source": [
    "(htest != 0).any(axis=0)"
   ]
  },
  {
   "cell_type": "code",
   "execution_count": null,
   "metadata": {},
   "outputs": [],
   "source": [
    "# Remove any 0-only positions\n",
    "#tmp=htest.loc[:, (htest != 0).any(axis=0)]"
   ]
  },
  {
   "cell_type": "code",
   "execution_count": null,
   "metadata": {},
   "outputs": [],
   "source": [
    "htest"
   ]
  },
  {
   "cell_type": "code",
   "execution_count": null,
   "metadata": {
    "scrolled": false
   },
   "outputs": [],
   "source": [
    "htest.apply(pd.Series.value_counts, axis=0)"
   ]
  },
  {
   "cell_type": "markdown",
   "metadata": {},
   "source": [
    "tumor - normal so ...\n",
    "\n",
    "* -1 : normal only\n",
    "*  0 : both\n",
    "* +1 : tumor only\n",
    "\n"
   ]
  },
  {
   "cell_type": "code",
   "execution_count": null,
   "metadata": {},
   "outputs": [],
   "source": [
    "pd.set_option('display.max_rows', None)"
   ]
  },
  {
   "cell_type": "code",
   "execution_count": null,
   "metadata": {
    "scrolled": false
   },
   "outputs": [],
   "source": [
    "htest.apply(pd.Series.value_counts, axis=0).T.sort_values(by=[-1],ascending=False).head(10)"
   ]
  },
  {
   "cell_type": "code",
   "execution_count": null,
   "metadata": {},
   "outputs": [],
   "source": [
    "htest.apply(pd.Series.value_counts, axis=0).T.sort_values(by=[-1],ascending=True).head(10)"
   ]
  },
  {
   "cell_type": "code",
   "execution_count": null,
   "metadata": {},
   "outputs": [],
   "source": [
    "htest.apply(pd.Series.value_counts, axis=0).T.sort_values(by=[1],ascending=False).head(10)"
   ]
  },
  {
   "cell_type": "code",
   "execution_count": null,
   "metadata": {},
   "outputs": [],
   "source": [
    "htest.apply(pd.Series.value_counts, axis=0).T.sort_values(by=[1,-1,0],ascending=True).head(10)"
   ]
  },
  {
   "cell_type": "code",
   "execution_count": null,
   "metadata": {},
   "outputs": [],
   "source": [
    "htest.apply(pd.Series.value_counts, axis=0).T.sort_values(by=[0],ascending=True).head(10)"
   ]
  },
  {
   "cell_type": "code",
   "execution_count": null,
   "metadata": {},
   "outputs": [],
   "source": [
    "pd.set_option('display.max_rows', max_rows)"
   ]
  },
  {
   "cell_type": "code",
   "execution_count": null,
   "metadata": {},
   "outputs": [],
   "source": []
  },
  {
   "cell_type": "code",
   "execution_count": null,
   "metadata": {},
   "outputs": [],
   "source": []
  },
  {
   "cell_type": "code",
   "execution_count": null,
   "metadata": {},
   "outputs": [],
   "source": []
  },
  {
   "cell_type": "code",
   "execution_count": null,
   "metadata": {},
   "outputs": [],
   "source": []
  },
  {
   "cell_type": "code",
   "execution_count": null,
   "metadata": {},
   "outputs": [],
   "source": []
  },
  {
   "cell_type": "code",
   "execution_count": null,
   "metadata": {},
   "outputs": [],
   "source": []
  },
  {
   "cell_type": "code",
   "execution_count": null,
   "metadata": {},
   "outputs": [],
   "source": []
  },
  {
   "cell_type": "code",
   "execution_count": null,
   "metadata": {},
   "outputs": [],
   "source": [
    "stop before here"
   ]
  },
  {
   "cell_type": "code",
   "execution_count": null,
   "metadata": {},
   "outputs": [],
   "source": [
    "##dftns.loc['TQ-A8XE',0:,:]>0\n",
    "\n",
    "##dftns.loc[idx['TQ-A8XE',1,:]]\n",
    "##dftns.loc['TQ-A8XE'].index.get_level_values(0)[0]\n",
    "\n",
    "#dftns.loc['TQ-A8XE',:,:]>0\n",
    "dftns.loc['TQ-A8XE',:]>0"
   ]
  },
  {
   "cell_type": "code",
   "execution_count": null,
   "metadata": {},
   "outputs": [],
   "source": [
    "#dftns.loc['TQ-A8XE','TQ-A8XE-01A',:]>0\n",
    "dftns.loc['TQ-A8XE','TQ-A8XE-01A']>0"
   ]
  },
  {
   "cell_type": "code",
   "execution_count": null,
   "metadata": {},
   "outputs": [],
   "source": [
    "#dftns.loc['TQ-A8XE','TQ-A8XE-10A',:]>0\n",
    "dftns.loc['TQ-A8XE','TQ-A8XE-10A']>0"
   ]
  },
  {
   "cell_type": "markdown",
   "metadata": {},
   "source": [
    "# OR"
   ]
  },
  {
   "cell_type": "code",
   "execution_count": null,
   "metadata": {
    "scrolled": true
   },
   "outputs": [],
   "source": [
    "#(dftns.loc['TQ-A8XE','TQ-A8XE-01A',724443745]>0)|(dftns.loc['TQ-A8XE','TQ-A8XE-10A',:]>0)\n",
    "\n",
    "(dftns.loc['TQ-A8XE','TQ-A8XE-01A']>0)|(dftns.loc['TQ-A8XE','TQ-A8XE-10A']>0)\n"
   ]
  },
  {
   "cell_type": "markdown",
   "metadata": {},
   "source": [
    "# AND"
   ]
  },
  {
   "cell_type": "code",
   "execution_count": null,
   "metadata": {},
   "outputs": [],
   "source": [
    "(dftns.loc['TQ-A8XE','TQ-A8XE-01A']>0)&(dftns.loc['TQ-A8XE','TQ-A8XE-10A']>0)\n"
   ]
  },
  {
   "cell_type": "markdown",
   "metadata": {},
   "source": [
    "# A XOR B ( means only A or B, never both )"
   ]
  },
  {
   "cell_type": "code",
   "execution_count": null,
   "metadata": {},
   "outputs": [],
   "source": [
    "(dftns.loc['TQ-A8XE','TQ-A8XE-01A']>0)^(dftns.loc['TQ-A8XE','TQ-A8XE-10A']>0)\n"
   ]
  },
  {
   "cell_type": "markdown",
   "metadata": {},
   "source": [
    "# ( A XOR B ) AND A ( means only A )\n",
    "\n",
    "# ( A XOR B ) AND B ( means only B )\n"
   ]
  },
  {
   "cell_type": "code",
   "execution_count": null,
   "metadata": {},
   "outputs": [],
   "source": [
    "((dftns.loc['TQ-A8XE','TQ-A8XE-01A']>0)^(dftns.loc['TQ-A8XE','TQ-A8XE-10A']>0))&(dftns.loc['TQ-A8XE','TQ-A8XE-01A']>0)\n"
   ]
  },
  {
   "cell_type": "code",
   "execution_count": null,
   "metadata": {},
   "outputs": [],
   "source": [
    "((dftns.loc['TQ-A8XE','TQ-A8XE-01A']>0)^(dftns.loc['TQ-A8XE','TQ-A8XE-10A']>0))&(dftns.loc['TQ-A8XE','TQ-A8XE-10A']>0)\n"
   ]
  },
  {
   "cell_type": "code",
   "execution_count": null,
   "metadata": {},
   "outputs": [],
   "source": [
    "(((dftns.loc['TQ-A8XE','TQ-A8XE-01A']>0)^(dftns.loc['TQ-A8XE','TQ-A8XE-10A']>0))&(dftns.loc['TQ-A8XE','TQ-A8XE-01A']>0)).sum()\n"
   ]
  },
  {
   "cell_type": "code",
   "execution_count": null,
   "metadata": {},
   "outputs": [],
   "source": [
    "(((dftns.loc['TQ-A8XE','TQ-A8XE-01A']>0)^(dftns.loc['TQ-A8XE','TQ-A8XE-10A']>0))&(dftns.loc['TQ-A8XE','TQ-A8XE-10A']>0)).sum()\n"
   ]
  },
  {
   "cell_type": "code",
   "execution_count": null,
   "metadata": {},
   "outputs": [],
   "source": [
    "dftns.loc['TQ-A8XE'].iloc[0]"
   ]
  },
  {
   "cell_type": "code",
   "execution_count": null,
   "metadata": {},
   "outputs": [],
   "source": [
    "dftns.loc['TQ-A8XE'].iloc[1]"
   ]
  },
  {
   "cell_type": "code",
   "execution_count": null,
   "metadata": {},
   "outputs": [],
   "source": [
    "dftns.index.levels[0]"
   ]
  },
  {
   "cell_type": "code",
   "execution_count": null,
   "metadata": {},
   "outputs": [],
   "source": [
    "dftns.index.get_level_values(0)"
   ]
  },
  {
   "cell_type": "code",
   "execution_count": null,
   "metadata": {},
   "outputs": [],
   "source": [
    "(dftns.loc['TQ-A8XE'].iloc[0]>0).sum()"
   ]
  },
  {
   "cell_type": "code",
   "execution_count": null,
   "metadata": {},
   "outputs": [],
   "source": [
    "#np.set_printoptions(threshold=np.inf)"
   ]
  },
  {
   "cell_type": "code",
   "execution_count": null,
   "metadata": {
    "scrolled": true
   },
   "outputs": [],
   "source": [
    "dftns.loc['TQ-A8XE'].iloc[0].values"
   ]
  },
  {
   "cell_type": "code",
   "execution_count": null,
   "metadata": {},
   "outputs": [],
   "source": [
    "#np.set_printoptions(threshold=1000)"
   ]
  },
  {
   "cell_type": "code",
   "execution_count": null,
   "metadata": {},
   "outputs": [],
   "source": []
  },
  {
   "cell_type": "code",
   "execution_count": null,
   "metadata": {},
   "outputs": [],
   "source": []
  },
  {
   "cell_type": "code",
   "execution_count": null,
   "metadata": {},
   "outputs": [],
   "source": []
  },
  {
   "cell_type": "code",
   "execution_count": null,
   "metadata": {},
   "outputs": [],
   "source": []
  },
  {
   "cell_type": "code",
   "execution_count": null,
   "metadata": {},
   "outputs": [],
   "source": []
  },
  {
   "cell_type": "code",
   "execution_count": null,
   "metadata": {},
   "outputs": [],
   "source": [
    "max_rows=pd.get_option('display.max_rows')"
   ]
  },
  {
   "cell_type": "code",
   "execution_count": null,
   "metadata": {},
   "outputs": [],
   "source": [
    "#pd.set_option('display.max_rows', None)"
   ]
  },
  {
   "cell_type": "code",
   "execution_count": null,
   "metadata": {
    "scrolled": false
   },
   "outputs": [],
   "source": [
    "dftns.head()"
   ]
  },
  {
   "cell_type": "code",
   "execution_count": null,
   "metadata": {
    "scrolled": false
   },
   "outputs": [],
   "source": [
    "#pd.DataFrame(df[(df['diff']>10) | (df['diff']<-10)].index)"
   ]
  },
  {
   "cell_type": "code",
   "execution_count": null,
   "metadata": {},
   "outputs": [],
   "source": [
    "pd.set_option('display.max_rows', max_rows)"
   ]
  },
  {
   "cell_type": "code",
   "execution_count": null,
   "metadata": {},
   "outputs": [],
   "source": []
  },
  {
   "cell_type": "code",
   "execution_count": null,
   "metadata": {},
   "outputs": [],
   "source": []
  },
  {
   "cell_type": "code",
   "execution_count": null,
   "metadata": {},
   "outputs": [],
   "source": []
  },
  {
   "cell_type": "code",
   "execution_count": null,
   "metadata": {},
   "outputs": [],
   "source": []
  },
  {
   "cell_type": "code",
   "execution_count": null,
   "metadata": {},
   "outputs": [],
   "source": [
    "stn=pd.DataFrame(columns=['subject','uniq tumor','uniq normal'])\n",
    "stn.set_index('subject',inplace=True)\n",
    "\n",
    "sstu=pd.DataFrame(columns=['subject','sample','tn','uniq'])\n",
    "sstu.set_index(['subject','sample','tn'],inplace=True)\n"
   ]
  },
  {
   "cell_type": "code",
   "execution_count": null,
   "metadata": {
    "scrolled": false
   },
   "outputs": [],
   "source": [
    "for i in dftns.index.levels[0]:\n",
    "    stn.loc[i]=((((dftns.loc[i].iloc[0]>0)^(dftns.loc[i].iloc[1]>0))&(dftns.loc[i].iloc[0]>0)).sum(),\n",
    "               (((dftns.loc[i].iloc[0]>0)^(dftns.loc[i].iloc[1]>0))&(dftns.loc[i].iloc[1]>0)).sum())\n",
    "    sstu.loc[(i,dftns.loc[i].iloc[0].name, 'tumor'),:]=(\n",
    "        ((dftns.loc[i].iloc[0]>0)^(dftns.loc[i].iloc[1]>0))&(dftns.loc[i].iloc[0]>0)).sum()\n",
    "    sstu.loc[(i,dftns.loc[i].iloc[1].name,'normal'),:]=(\n",
    "        ((dftns.loc[i].iloc[0]>0)^(dftns.loc[i].iloc[1]>0))&(dftns.loc[i].iloc[1]>0)).sum()\n",
    "\n",
    "# Plot tries to parse the subject ids into dates because they are ##-####\n",
    "# I can't figure out how to stop it.\n",
    "#    abctn.loc[(\"_\"+i,dftns.loc[i].iloc[0].name, 'tumor'),:]=(\n",
    "#((dftns.loc[i].iloc[0]>0)^(dftns.loc[i].iloc[1]>0))&(dftns.loc[i].iloc[0]>0)).sum()\n",
    "#    abctn.loc[(\"_\"+i,dftns.loc[i].iloc[1].name,'normal'),:]=(\n",
    "#((dftns.loc[i].iloc[0]>0)^(dftns.loc[i].iloc[1]>0))&(dftns.loc[i].iloc[1]>0)).sum()\n",
    "    "
   ]
  },
  {
   "cell_type": "code",
   "execution_count": null,
   "metadata": {},
   "outputs": [],
   "source": [
    "dftns.loc['02-2483'].iloc[1].name"
   ]
  },
  {
   "cell_type": "code",
   "execution_count": null,
   "metadata": {},
   "outputs": [],
   "source": [
    "stn"
   ]
  },
  {
   "cell_type": "code",
   "execution_count": null,
   "metadata": {},
   "outputs": [],
   "source": [
    "sstu"
   ]
  },
  {
   "cell_type": "code",
   "execution_count": null,
   "metadata": {
    "scrolled": false
   },
   "outputs": [],
   "source": [
    "stn.plot(kind='bar',y=['uniq normal','uniq tumor'])\n",
    "plt.xticks(rotation=75,ha='right')\n",
    "plt.show()"
   ]
  },
  {
   "cell_type": "code",
   "execution_count": null,
   "metadata": {},
   "outputs": [],
   "source": [
    "sstu.head()"
   ]
  },
  {
   "cell_type": "code",
   "execution_count": null,
   "metadata": {},
   "outputs": [],
   "source": [
    "sstu.reset_index(inplace=True)"
   ]
  },
  {
   "cell_type": "code",
   "execution_count": null,
   "metadata": {},
   "outputs": [],
   "source": [
    "sstu.head()"
   ]
  },
  {
   "cell_type": "code",
   "execution_count": null,
   "metadata": {
    "scrolled": false
   },
   "outputs": [],
   "source": [
    "groups = sstu.groupby('tn')\n",
    "fig, ax = plt.subplots()\n",
    "plt.xticks(rotation=90)\n",
    "for name, group in groups:\n",
    "    ax.bar(group['sample'],group['uniq'], label=name)\n",
    "#    ax.bar(group['subject'],group['uniq'], label=name)\n",
    "ax.legend()\n",
    "plt.show()"
   ]
  },
  {
   "cell_type": "code",
   "execution_count": null,
   "metadata": {},
   "outputs": [],
   "source": [
    "meta.head()"
   ]
  },
  {
   "cell_type": "code",
   "execution_count": null,
   "metadata": {},
   "outputs": [],
   "source": [
    "sstum=sstu.merge(meta,on='subject')"
   ]
  },
  {
   "cell_type": "code",
   "execution_count": null,
   "metadata": {},
   "outputs": [],
   "source": [
    "sstum.head()"
   ]
  },
  {
   "cell_type": "code",
   "execution_count": null,
   "metadata": {
    "scrolled": false
   },
   "outputs": [],
   "source": [
    "groups = sstum.groupby('disease_type')\n",
    "fig, ax = plt.subplots()\n",
    "plt.xticks(rotation=90)\n",
    "for name, group in groups:\n",
    "    ax.bar(group['sample'],group['uniq'], label=name)\n",
    "ax.legend()\n",
    "plt.show()"
   ]
  },
  {
   "cell_type": "code",
   "execution_count": null,
   "metadata": {},
   "outputs": [],
   "source": [
    "sstum.boxplot(column='uniq',\n",
    "    by=['disease_type','tn'])"
   ]
  },
  {
   "cell_type": "code",
   "execution_count": null,
   "metadata": {},
   "outputs": [],
   "source": [
    "sstum.boxplot(column='uniq',\n",
    "    by=['IDH','tn'])"
   ]
  },
  {
   "cell_type": "code",
   "execution_count": null,
   "metadata": {},
   "outputs": [],
   "source": [
    "sstum.boxplot(column='uniq',\n",
    "    by=['TERT','tn'])"
   ]
  },
  {
   "cell_type": "code",
   "execution_count": null,
   "metadata": {},
   "outputs": [],
   "source": [
    "sstum.boxplot(column='uniq',\n",
    "    by=['x1p19q','tn'])"
   ]
  },
  {
   "cell_type": "code",
   "execution_count": null,
   "metadata": {},
   "outputs": [],
   "source": [
    "sstum.boxplot(column='uniq',\n",
    "    by=['disease_type','tn','IDH','TERT','x1p19q'])\n",
    "plt.xticks(rotation=75,ha='right')\n",
    "plt.show()"
   ]
  },
  {
   "cell_type": "code",
   "execution_count": null,
   "metadata": {},
   "outputs": [],
   "source": [
    "sstum.set_index(['subject','sample','tn'],inplace=True)"
   ]
  },
  {
   "cell_type": "code",
   "execution_count": null,
   "metadata": {},
   "outputs": [],
   "source": [
    "sstum.head()"
   ]
  },
  {
   "cell_type": "code",
   "execution_count": null,
   "metadata": {},
   "outputs": [],
   "source": []
  },
  {
   "cell_type": "code",
   "execution_count": null,
   "metadata": {},
   "outputs": [],
   "source": []
  },
  {
   "cell_type": "code",
   "execution_count": null,
   "metadata": {},
   "outputs": [],
   "source": []
  },
  {
   "cell_type": "code",
   "execution_count": null,
   "metadata": {},
   "outputs": [],
   "source": []
  },
  {
   "cell_type": "markdown",
   "metadata": {},
   "source": [
    "# Simple sample / tumor count / normal count / disease type plots"
   ]
  },
  {
   "cell_type": "code",
   "execution_count": null,
   "metadata": {},
   "outputs": [],
   "source": [
    "stnm=stn.merge(meta,left_index=True,right_on='subject')"
   ]
  },
  {
   "cell_type": "code",
   "execution_count": null,
   "metadata": {},
   "outputs": [],
   "source": [
    "stnm.set_index('subject',inplace=True)"
   ]
  },
  {
   "cell_type": "code",
   "execution_count": null,
   "metadata": {},
   "outputs": [],
   "source": [
    "stnm.index"
   ]
  },
  {
   "cell_type": "code",
   "execution_count": null,
   "metadata": {},
   "outputs": [],
   "source": [
    "stnm.head()"
   ]
  },
  {
   "cell_type": "code",
   "execution_count": null,
   "metadata": {},
   "outputs": [],
   "source": [
    "stnm.groupby('disease_type').plot(kind='bar',y=['uniq normal','uniq tumor'])\n"
   ]
  },
  {
   "cell_type": "markdown",
   "metadata": {},
   "source": [
    "# END Simple sample / tumor count / normal count / disease type plots"
   ]
  },
  {
   "cell_type": "code",
   "execution_count": null,
   "metadata": {},
   "outputs": [],
   "source": []
  },
  {
   "cell_type": "code",
   "execution_count": null,
   "metadata": {},
   "outputs": [],
   "source": []
  },
  {
   "cell_type": "code",
   "execution_count": null,
   "metadata": {},
   "outputs": [],
   "source": []
  },
  {
   "cell_type": "code",
   "execution_count": null,
   "metadata": {},
   "outputs": [],
   "source": []
  },
  {
   "cell_type": "code",
   "execution_count": null,
   "metadata": {
    "scrolled": false
   },
   "outputs": [],
   "source": [
    "#sstu.reset_index(inplace=True)\n",
    "#sstu.head()"
   ]
  },
  {
   "cell_type": "code",
   "execution_count": null,
   "metadata": {},
   "outputs": [],
   "source": [
    "#sstum=sstu.merge(meta,on='subject')"
   ]
  },
  {
   "cell_type": "code",
   "execution_count": null,
   "metadata": {},
   "outputs": [],
   "source": [
    "#sstum.head()"
   ]
  },
  {
   "cell_type": "code",
   "execution_count": null,
   "metadata": {},
   "outputs": [],
   "source": []
  },
  {
   "cell_type": "code",
   "execution_count": null,
   "metadata": {},
   "outputs": [],
   "source": []
  },
  {
   "cell_type": "code",
   "execution_count": null,
   "metadata": {},
   "outputs": [],
   "source": []
  },
  {
   "cell_type": "code",
   "execution_count": null,
   "metadata": {},
   "outputs": [],
   "source": []
  },
  {
   "cell_type": "code",
   "execution_count": null,
   "metadata": {},
   "outputs": [],
   "source": []
  },
  {
   "cell_type": "code",
   "execution_count": null,
   "metadata": {},
   "outputs": [],
   "source": []
  },
  {
   "cell_type": "code",
   "execution_count": null,
   "metadata": {},
   "outputs": [],
   "source": []
  },
  {
   "cell_type": "code",
   "execution_count": null,
   "metadata": {},
   "outputs": [],
   "source": []
  },
  {
   "cell_type": "code",
   "execution_count": null,
   "metadata": {},
   "outputs": [],
   "source": []
  },
  {
   "cell_type": "code",
   "execution_count": null,
   "metadata": {},
   "outputs": [],
   "source": []
  },
  {
   "cell_type": "code",
   "execution_count": null,
   "metadata": {},
   "outputs": [],
   "source": []
  },
  {
   "cell_type": "code",
   "execution_count": null,
   "metadata": {},
   "outputs": [],
   "source": []
  },
  {
   "cell_type": "code",
   "execution_count": null,
   "metadata": {},
   "outputs": [],
   "source": []
  },
  {
   "cell_type": "code",
   "execution_count": null,
   "metadata": {},
   "outputs": [],
   "source": []
  },
  {
   "cell_type": "code",
   "execution_count": null,
   "metadata": {},
   "outputs": [],
   "source": []
  },
  {
   "cell_type": "code",
   "execution_count": null,
   "metadata": {},
   "outputs": [],
   "source": []
  },
  {
   "cell_type": "code",
   "execution_count": null,
   "metadata": {},
   "outputs": [],
   "source": []
  },
  {
   "cell_type": "code",
   "execution_count": null,
   "metadata": {},
   "outputs": [],
   "source": []
  },
  {
   "cell_type": "code",
   "execution_count": null,
   "metadata": {},
   "outputs": [],
   "source": []
  },
  {
   "cell_type": "markdown",
   "metadata": {},
   "source": [
    "# Transpose again"
   ]
  },
  {
   "cell_type": "code",
   "execution_count": null,
   "metadata": {},
   "outputs": [],
   "source": [
    "dftnt=dftn.T"
   ]
  },
  {
   "cell_type": "code",
   "execution_count": null,
   "metadata": {},
   "outputs": [],
   "source": [
    "dftnt.head()"
   ]
  },
  {
   "cell_type": "code",
   "execution_count": null,
   "metadata": {},
   "outputs": [],
   "source": []
  },
  {
   "cell_type": "markdown",
   "metadata": {},
   "source": [
    "# Number of sites for each subject"
   ]
  },
  {
   "cell_type": "code",
   "execution_count": null,
   "metadata": {},
   "outputs": [],
   "source": [
    "dftnt['normal_count']=dftnt.loc[:,\n",
    "    dftnt.columns.str.match('.*-10.$')][ dftnt.loc[:,dftnt.columns.str.match('.*-10.$')]>1 ].count(axis=1)"
   ]
  },
  {
   "cell_type": "code",
   "execution_count": null,
   "metadata": {},
   "outputs": [],
   "source": [
    "dftnt['normal_count'].plot(kind='bar')"
   ]
  },
  {
   "cell_type": "code",
   "execution_count": null,
   "metadata": {},
   "outputs": [],
   "source": []
  },
  {
   "cell_type": "code",
   "execution_count": null,
   "metadata": {},
   "outputs": [],
   "source": [
    "dftnt['tumor_count']=dftnt.loc[:,\n",
    "    dftnt.columns.str.match('.*-01.$')][ dftnt.loc[:,dftnt.columns.str.match('.*-01.$')]>1 ].count(axis=1)"
   ]
  },
  {
   "cell_type": "code",
   "execution_count": null,
   "metadata": {},
   "outputs": [],
   "source": [
    "dftnt['tumor_count'].plot(kind='bar')"
   ]
  },
  {
   "cell_type": "code",
   "execution_count": null,
   "metadata": {},
   "outputs": [],
   "source": []
  },
  {
   "cell_type": "markdown",
   "metadata": {},
   "source": [
    "# Diff is normal - tumor. Negative means more in tumor."
   ]
  },
  {
   "cell_type": "code",
   "execution_count": null,
   "metadata": {},
   "outputs": [],
   "source": [
    "dftnt['diff']=dftnt['normal_count']-dftnt['tumor_count']"
   ]
  },
  {
   "cell_type": "code",
   "execution_count": null,
   "metadata": {},
   "outputs": [],
   "source": [
    "dftnt['diff']"
   ]
  },
  {
   "cell_type": "code",
   "execution_count": null,
   "metadata": {},
   "outputs": [],
   "source": [
    "dftnt['diff'].plot(kind='bar')"
   ]
  },
  {
   "cell_type": "code",
   "execution_count": null,
   "metadata": {},
   "outputs": [],
   "source": [
    "dftnt[(dftnt['diff']>5) | (dftnt['diff']<-5)]['diff'].plot(kind='bar')"
   ]
  },
  {
   "cell_type": "code",
   "execution_count": null,
   "metadata": {},
   "outputs": [],
   "source": [
    "dftnt[(dftnt['diff']>10) | (dftnt['diff']<-10)]['diff'].plot(kind='bar')\n",
    "plt.xticks(rotation=75,ha='right')\n",
    "plt.show()"
   ]
  },
  {
   "cell_type": "code",
   "execution_count": null,
   "metadata": {},
   "outputs": [],
   "source": [
    "initial_max_rows=pd.get_option('display.max_rows')"
   ]
  },
  {
   "cell_type": "code",
   "execution_count": null,
   "metadata": {},
   "outputs": [],
   "source": [
    "pd.set_option('display.max_rows', None)"
   ]
  },
  {
   "cell_type": "code",
   "execution_count": null,
   "metadata": {
    "scrolled": false
   },
   "outputs": [],
   "source": [
    "pd.DataFrame(index=dftnt[(dftnt['diff']>10) | (dftnt['diff']<-10)].index,\n",
    "             data=dftnt[['diff','normal_count','tumor_count']])\n"
   ]
  },
  {
   "cell_type": "code",
   "execution_count": null,
   "metadata": {},
   "outputs": [],
   "source": [
    "pd.set_option('display.max_rows', initial_max_rows)"
   ]
  },
  {
   "cell_type": "code",
   "execution_count": null,
   "metadata": {},
   "outputs": [],
   "source": []
  },
  {
   "cell_type": "code",
   "execution_count": null,
   "metadata": {},
   "outputs": [],
   "source": []
  },
  {
   "cell_type": "code",
   "execution_count": null,
   "metadata": {},
   "outputs": [],
   "source": []
  },
  {
   "cell_type": "code",
   "execution_count": null,
   "metadata": {},
   "outputs": [],
   "source": []
  },
  {
   "cell_type": "code",
   "execution_count": null,
   "metadata": {},
   "outputs": [],
   "source": [
    "#df.loc[:,df.columns.str.match('.*-01.$')].shape"
   ]
  },
  {
   "cell_type": "code",
   "execution_count": null,
   "metadata": {},
   "outputs": [],
   "source": [
    "#tumor=df.loc[:,df.columns.str.match('.*-01.$')]"
   ]
  },
  {
   "cell_type": "code",
   "execution_count": null,
   "metadata": {},
   "outputs": [],
   "source": [
    "#tumor.shape"
   ]
  },
  {
   "cell_type": "code",
   "execution_count": null,
   "metadata": {},
   "outputs": [],
   "source": []
  },
  {
   "cell_type": "code",
   "execution_count": null,
   "metadata": {},
   "outputs": [],
   "source": [
    "#df.loc[:,df.columns.str.match('.*-10.$')].shape"
   ]
  },
  {
   "cell_type": "code",
   "execution_count": null,
   "metadata": {},
   "outputs": [],
   "source": [
    "#normal=df.loc[:,df.columns.str.match('.*-10.$')]"
   ]
  },
  {
   "cell_type": "code",
   "execution_count": null,
   "metadata": {},
   "outputs": [],
   "source": [
    "#normal.shape"
   ]
  },
  {
   "cell_type": "code",
   "execution_count": null,
   "metadata": {},
   "outputs": [],
   "source": []
  },
  {
   "cell_type": "code",
   "execution_count": null,
   "metadata": {},
   "outputs": [],
   "source": [
    "#normal[normal>0].count(axis=1)"
   ]
  },
  {
   "cell_type": "code",
   "execution_count": null,
   "metadata": {},
   "outputs": [],
   "source": []
  },
  {
   "cell_type": "code",
   "execution_count": null,
   "metadata": {
    "scrolled": false
   },
   "outputs": [],
   "source": [
    "#normal.loc[:,normal.loc['chr1',1409000]>0]"
   ]
  },
  {
   "cell_type": "code",
   "execution_count": null,
   "metadata": {},
   "outputs": [],
   "source": [
    "#tumor.loc[:,tumor.loc['chr1',1409000]>0]"
   ]
  },
  {
   "cell_type": "code",
   "execution_count": null,
   "metadata": {},
   "outputs": [],
   "source": [
    "#len(normal.loc[:,normal.loc['chr1',1409000]>0].columns)"
   ]
  },
  {
   "cell_type": "code",
   "execution_count": null,
   "metadata": {},
   "outputs": [],
   "source": []
  },
  {
   "cell_type": "code",
   "execution_count": null,
   "metadata": {},
   "outputs": [],
   "source": []
  },
  {
   "cell_type": "code",
   "execution_count": null,
   "metadata": {},
   "outputs": [],
   "source": [
    "#df['normal_count']=df.loc[:,\n",
    "#    df.columns.str.match('.*-10.$')][ df.loc[:,df.columns.str.match('.*-10.$')]>0 ].count(axis=1)"
   ]
  },
  {
   "cell_type": "code",
   "execution_count": null,
   "metadata": {},
   "outputs": [],
   "source": [
    "#df['tumor_count']=df.loc[:,\n",
    "#    df.columns.str.match('.*-01.$')][ df.loc[:,df.columns.str.match('.*-01.$')]>0 ].count(axis=1)"
   ]
  },
  {
   "cell_type": "code",
   "execution_count": null,
   "metadata": {},
   "outputs": [],
   "source": [
    "#df['diff']=df['normal_count']-df['tumor_count']"
   ]
  },
  {
   "cell_type": "code",
   "execution_count": null,
   "metadata": {},
   "outputs": [],
   "source": [
    "#df['diff']"
   ]
  },
  {
   "cell_type": "code",
   "execution_count": null,
   "metadata": {},
   "outputs": [],
   "source": [
    "#df['diff'].plot(kind='bar')"
   ]
  },
  {
   "cell_type": "code",
   "execution_count": null,
   "metadata": {
    "scrolled": false
   },
   "outputs": [],
   "source": [
    "#df[(df['diff']>10) | (df['diff']<-10)]['diff'].plot(kind='bar')"
   ]
  },
  {
   "cell_type": "code",
   "execution_count": null,
   "metadata": {},
   "outputs": [],
   "source": []
  },
  {
   "cell_type": "code",
   "execution_count": null,
   "metadata": {},
   "outputs": [],
   "source": []
  },
  {
   "cell_type": "code",
   "execution_count": null,
   "metadata": {},
   "outputs": [],
   "source": []
  },
  {
   "cell_type": "code",
   "execution_count": null,
   "metadata": {},
   "outputs": [],
   "source": []
  },
  {
   "cell_type": "code",
   "execution_count": null,
   "metadata": {},
   "outputs": [],
   "source": []
  },
  {
   "cell_type": "code",
   "execution_count": null,
   "metadata": {},
   "outputs": [],
   "source": []
  },
  {
   "cell_type": "code",
   "execution_count": null,
   "metadata": {},
   "outputs": [],
   "source": []
  },
  {
   "cell_type": "code",
   "execution_count": null,
   "metadata": {},
   "outputs": [],
   "source": []
  },
  {
   "cell_type": "code",
   "execution_count": null,
   "metadata": {},
   "outputs": [],
   "source": [
    "pd.set_option('display.max_rows', None)"
   ]
  },
  {
   "cell_type": "code",
   "execution_count": null,
   "metadata": {
    "scrolled": false
   },
   "outputs": [],
   "source": [
    "#pd.DataFrame(df[(df['diff']>10) | (df['diff']<-10)].index)"
   ]
  },
  {
   "cell_type": "code",
   "execution_count": null,
   "metadata": {},
   "outputs": [],
   "source": [
    "pd.set_option('display.max_rows', max_rows)"
   ]
  },
  {
   "cell_type": "code",
   "execution_count": null,
   "metadata": {},
   "outputs": [],
   "source": []
  },
  {
   "cell_type": "code",
   "execution_count": null,
   "metadata": {},
   "outputs": [],
   "source": []
  },
  {
   "cell_type": "code",
   "execution_count": null,
   "metadata": {},
   "outputs": [],
   "source": []
  },
  {
   "cell_type": "code",
   "execution_count": null,
   "metadata": {},
   "outputs": [],
   "source": []
  }
 ],
 "metadata": {
  "kernelspec": {
   "display_name": "Python 3",
   "language": "python",
   "name": "python3"
  },
  "language_info": {
   "codemirror_mode": {
    "name": "ipython",
    "version": 3
   },
   "file_extension": ".py",
   "mimetype": "text/x-python",
   "name": "python",
   "nbconvert_exporter": "python",
   "pygments_lexer": "ipython3",
   "version": "3.6.13"
  }
 },
 "nbformat": 4,
 "nbformat_minor": 2
}
