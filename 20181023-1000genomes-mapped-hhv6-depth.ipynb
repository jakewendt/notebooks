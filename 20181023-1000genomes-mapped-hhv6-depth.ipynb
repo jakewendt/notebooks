{
 "cells": [
  {
   "cell_type": "code",
   "execution_count": 1,
   "metadata": {},
   "outputs": [
    {
     "data": {
      "text/plain": [
       "'0.23.4'"
      ]
     },
     "execution_count": 1,
     "metadata": {},
     "output_type": "execute_result"
    }
   ],
   "source": [
    "import pandas\n",
    "pandas.__version__"
   ]
  },
  {
   "cell_type": "code",
   "execution_count": 2,
   "metadata": {},
   "outputs": [],
   "source": [
    "import matplotlib.pyplot as plt"
   ]
  },
  {
   "cell_type": "code",
   "execution_count": 3,
   "metadata": {},
   "outputs": [],
   "source": [
    "# For some reason, if this is in the same call as the import command, it doesn't work.\n",
    "plt.rcParams[\"figure.figsize\"] = [16.0,6.0]"
   ]
  },
  {
   "cell_type": "code",
   "execution_count": 4,
   "metadata": {},
   "outputs": [
    {
     "name": "stdout",
     "output_type": "stream",
     "text": [
      "/Users/jakewendt/20181023-1000genomes-mapped-hhv6/HG02301.mapped.HHV6b.depth.csv\n",
      "/Users/jakewendt/20181023-1000genomes-mapped-hhv6/NA19378.unmapped.HHV6b.depth.csv\n",
      "/Users/jakewendt/20181023-1000genomes-mapped-hhv6/NA12878.mapped.HHV6b.depth.csv\n",
      "/Users/jakewendt/20181023-1000genomes-mapped-hhv6/NA18951.unmapped.HHV6b.depth.csv\n",
      "/Users/jakewendt/20181023-1000genomes-mapped-hhv6/NA18951.mapped.HHV6a.depth.csv\n",
      "/Users/jakewendt/20181023-1000genomes-mapped-hhv6/NA19378.mapped.HHV6b.depth.csv\n",
      "/Users/jakewendt/20181023-1000genomes-mapped-hhv6/HG03372.mapped.HHV6a.depth.csv\n",
      "/Users/jakewendt/20181023-1000genomes-mapped-hhv6/NA12878.unmapped.HHV6b.depth.csv\n",
      "/Users/jakewendt/20181023-1000genomes-mapped-hhv6/HG03372.unmapped.HHV6b.depth.csv\n",
      "/Users/jakewendt/20181023-1000genomes-mapped-hhv6/HG02301.unmapped.HHV6a.depth.csv\n",
      "/Users/jakewendt/20181023-1000genomes-mapped-hhv6/HG01858.unmapped.HHV6b.depth.csv\n",
      "/Users/jakewendt/20181023-1000genomes-mapped-hhv6/HG01858.mapped.HHV6a.depth.csv\n",
      "/Users/jakewendt/20181023-1000genomes-mapped-hhv6/NA12878.unmapped.HHV6a.depth.csv\n",
      "/Users/jakewendt/20181023-1000genomes-mapped-hhv6/HG03372.mapped.HHV6b.depth.csv\n",
      "/Users/jakewendt/20181023-1000genomes-mapped-hhv6/HG03372.unmapped.HHV6a.depth.csv\n",
      "/Users/jakewendt/20181023-1000genomes-mapped-hhv6/HG01858.mapped.HHV6b.depth.csv\n",
      "/Users/jakewendt/20181023-1000genomes-mapped-hhv6/HG01858.unmapped.HHV6a.depth.csv\n",
      "/Users/jakewendt/20181023-1000genomes-mapped-hhv6/HG02301.unmapped.HHV6b.depth.csv\n",
      "/Users/jakewendt/20181023-1000genomes-mapped-hhv6/HG02301.mapped.HHV6a.depth.csv\n",
      "/Users/jakewendt/20181023-1000genomes-mapped-hhv6/NA19378.unmapped.HHV6a.depth.csv\n",
      "/Users/jakewendt/20181023-1000genomes-mapped-hhv6/NA18951.unmapped.HHV6a.depth.csv\n",
      "/Users/jakewendt/20181023-1000genomes-mapped-hhv6/NA12878.mapped.HHV6a.depth.csv\n",
      "/Users/jakewendt/20181023-1000genomes-mapped-hhv6/NA19378.mapped.HHV6a.depth.csv\n",
      "/Users/jakewendt/20181023-1000genomes-mapped-hhv6/NA18951.mapped.HHV6b.depth.csv\n"
     ]
    }
   ],
   "source": [
    "import glob\n",
    "\n",
    "for filepath in glob.iglob('/Users/jakewendt/20181023-1000genomes-mapped-hhv6/*.*mapped.HHV6*.depth.csv'):\n",
    "    print(filepath)"
   ]
  },
  {
   "cell_type": "code",
   "execution_count": 5,
   "metadata": {},
   "outputs": [],
   "source": [
    "import glob\n",
    "\n",
    "merged=pandas.DataFrame(columns=[\"position\",\"depth\"])\n",
    "merged.set_index(\"position\",inplace=True)\n",
    "for filepath in glob.iglob('/Users/jakewendt/20181023-1000genomes-mapped-hhv6/*.mapped.HHV6a.depth.csv'):\n",
    "    d = pandas.read_csv(filepath,\n",
    "                    sep=\"\\t\",\n",
    "                    header=None,\n",
    "                    usecols=[1,2],\n",
    "                    names=[\"position\",\"depth\"],\n",
    "                    index_col=\"position\")\n",
    "    merged=merged.add(d, fill_value=0)"
   ]
  },
  {
   "cell_type": "code",
   "execution_count": 6,
   "metadata": {},
   "outputs": [
    {
     "data": {
      "text/html": [
       "<div>\n",
       "<style scoped>\n",
       "    .dataframe tbody tr th:only-of-type {\n",
       "        vertical-align: middle;\n",
       "    }\n",
       "\n",
       "    .dataframe tbody tr th {\n",
       "        vertical-align: top;\n",
       "    }\n",
       "\n",
       "    .dataframe thead th {\n",
       "        text-align: right;\n",
       "    }\n",
       "</style>\n",
       "<table border=\"1\" class=\"dataframe\">\n",
       "  <thead>\n",
       "    <tr style=\"text-align: right;\">\n",
       "      <th></th>\n",
       "      <th>depth</th>\n",
       "    </tr>\n",
       "    <tr>\n",
       "      <th>position</th>\n",
       "      <th></th>\n",
       "    </tr>\n",
       "  </thead>\n",
       "  <tbody>\n",
       "    <tr>\n",
       "      <th>86</th>\n",
       "      <td>1</td>\n",
       "    </tr>\n",
       "    <tr>\n",
       "      <th>87</th>\n",
       "      <td>1</td>\n",
       "    </tr>\n",
       "    <tr>\n",
       "      <th>88</th>\n",
       "      <td>1</td>\n",
       "    </tr>\n",
       "    <tr>\n",
       "      <th>89</th>\n",
       "      <td>1</td>\n",
       "    </tr>\n",
       "    <tr>\n",
       "      <th>90</th>\n",
       "      <td>1</td>\n",
       "    </tr>\n",
       "  </tbody>\n",
       "</table>\n",
       "</div>"
      ],
      "text/plain": [
       "         depth\n",
       "position      \n",
       "86           1\n",
       "87           1\n",
       "88           1\n",
       "89           1\n",
       "90           1"
      ]
     },
     "execution_count": 6,
     "metadata": {},
     "output_type": "execute_result"
    }
   ],
   "source": [
    "merged.head()"
   ]
  },
  {
   "cell_type": "code",
   "execution_count": 7,
   "metadata": {},
   "outputs": [
    {
     "data": {
      "text/plain": [
       "<matplotlib.axes._subplots.AxesSubplot at 0x116f74d30>"
      ]
     },
     "execution_count": 7,
     "metadata": {},
     "output_type": "execute_result"
    },
    {
     "data": {
      "image/png": "[encoded data removed]",
      "text/plain": [
       "<Figure size 1152x432 with 1 Axes>"
      ]
     },
     "metadata": {},
     "output_type": "display_data"
    }
   ],
   "source": [
    "merged.fillna(0).reset_index().plot(\n",
    "    title=\"Depth chart of mapped reads from hg19 mapped.bam mapped to HHV6a\",\n",
    "    logy=True,kind='scatter',x='position',y='depth',ylim=[1,100000])"
   ]
  },
  {
   "cell_type": "code",
   "execution_count": 8,
   "metadata": {},
   "outputs": [],
   "source": [
    "import glob\n",
    "\n",
    "merged=pandas.DataFrame(columns=[\"position\",\"depth\"])\n",
    "merged.set_index(\"position\",inplace=True)\n",
    "for filepath in glob.iglob('/Users/jakewendt/20181023-1000genomes-mapped-hhv6/*.unmapped.HHV6a.depth.csv'):\n",
    "    d = pandas.read_csv(filepath,\n",
    "                    sep=\"\\t\",\n",
    "                    header=None,\n",
    "                    usecols=[1,2],\n",
    "                    names=[\"position\",\"depth\"],\n",
    "                    index_col=\"position\")\n",
    "    merged=merged.add(d, fill_value=0)"
   ]
  },
  {
   "cell_type": "code",
   "execution_count": 9,
   "metadata": {},
   "outputs": [
    {
     "data": {
      "text/html": [
       "<div>\n",
       "<style scoped>\n",
       "    .dataframe tbody tr th:only-of-type {\n",
       "        vertical-align: middle;\n",
       "    }\n",
       "\n",
       "    .dataframe tbody tr th {\n",
       "        vertical-align: top;\n",
       "    }\n",
       "\n",
       "    .dataframe thead th {\n",
       "        text-align: right;\n",
       "    }\n",
       "</style>\n",
       "<table border=\"1\" class=\"dataframe\">\n",
       "  <thead>\n",
       "    <tr style=\"text-align: right;\">\n",
       "      <th></th>\n",
       "      <th>depth</th>\n",
       "    </tr>\n",
       "    <tr>\n",
       "      <th>position</th>\n",
       "      <th></th>\n",
       "    </tr>\n",
       "  </thead>\n",
       "  <tbody>\n",
       "    <tr>\n",
       "      <th>72</th>\n",
       "      <td>1</td>\n",
       "    </tr>\n",
       "    <tr>\n",
       "      <th>73</th>\n",
       "      <td>1</td>\n",
       "    </tr>\n",
       "    <tr>\n",
       "      <th>74</th>\n",
       "      <td>1</td>\n",
       "    </tr>\n",
       "    <tr>\n",
       "      <th>75</th>\n",
       "      <td>1</td>\n",
       "    </tr>\n",
       "    <tr>\n",
       "      <th>76</th>\n",
       "      <td>1</td>\n",
       "    </tr>\n",
       "  </tbody>\n",
       "</table>\n",
       "</div>"
      ],
      "text/plain": [
       "         depth\n",
       "position      \n",
       "72           1\n",
       "73           1\n",
       "74           1\n",
       "75           1\n",
       "76           1"
      ]
     },
     "execution_count": 9,
     "metadata": {},
     "output_type": "execute_result"
    }
   ],
   "source": [
    "merged.head()"
   ]
  },
  {
   "cell_type": "code",
   "execution_count": 10,
   "metadata": {},
   "outputs": [
    {
     "data": {
      "text/plain": [
       "<matplotlib.axes._subplots.AxesSubplot at 0x11979d208>"
      ]
     },
     "execution_count": 10,
     "metadata": {},
     "output_type": "execute_result"
    },
    {
     "data": {
      "image/png": "[encoded data removed]",
      "text/plain": [
       "<Figure size 1152x432 with 1 Axes>"
      ]
     },
     "metadata": {},
     "output_type": "display_data"
    }
   ],
   "source": [
    "merged.fillna(0).reset_index().plot(\n",
    "    title=\"Depth chart of unmapped reads from hg19 mapped.bam mapped to HHV6a\",\n",
    "    logy=True,kind='scatter',x='position',y='depth',ylim=[1,100000])"
   ]
  },
  {
   "cell_type": "code",
   "execution_count": 11,
   "metadata": {},
   "outputs": [],
   "source": [
    "import glob\n",
    "\n",
    "merged=pandas.DataFrame(columns=[\"position\",\"depth\"])\n",
    "merged.set_index(\"position\",inplace=True)\n",
    "for filepath in glob.iglob('/Users/jakewendt/20181023-1000genomes-mapped-hhv6/*.mapped.HHV6b.depth.csv'):\n",
    "    d = pandas.read_csv(filepath,\n",
    "                    sep=\"\\t\",\n",
    "                    header=None,\n",
    "                    usecols=[1,2],\n",
    "                    names=[\"position\",\"depth\"],\n",
    "                    index_col=\"position\")\n",
    "    merged=merged.add(d, fill_value=0)"
   ]
  },
  {
   "cell_type": "code",
   "execution_count": 12,
   "metadata": {},
   "outputs": [
    {
     "data": {
      "text/html": [
       "<div>\n",
       "<style scoped>\n",
       "    .dataframe tbody tr th:only-of-type {\n",
       "        vertical-align: middle;\n",
       "    }\n",
       "\n",
       "    .dataframe tbody tr th {\n",
       "        vertical-align: top;\n",
       "    }\n",
       "\n",
       "    .dataframe thead th {\n",
       "        text-align: right;\n",
       "    }\n",
       "</style>\n",
       "<table border=\"1\" class=\"dataframe\">\n",
       "  <thead>\n",
       "    <tr style=\"text-align: right;\">\n",
       "      <th></th>\n",
       "      <th>depth</th>\n",
       "    </tr>\n",
       "    <tr>\n",
       "      <th>position</th>\n",
       "      <th></th>\n",
       "    </tr>\n",
       "  </thead>\n",
       "  <tbody>\n",
       "    <tr>\n",
       "      <th>80</th>\n",
       "      <td>1</td>\n",
       "    </tr>\n",
       "    <tr>\n",
       "      <th>81</th>\n",
       "      <td>1</td>\n",
       "    </tr>\n",
       "    <tr>\n",
       "      <th>82</th>\n",
       "      <td>1</td>\n",
       "    </tr>\n",
       "    <tr>\n",
       "      <th>83</th>\n",
       "      <td>2</td>\n",
       "    </tr>\n",
       "    <tr>\n",
       "      <th>84</th>\n",
       "      <td>2</td>\n",
       "    </tr>\n",
       "  </tbody>\n",
       "</table>\n",
       "</div>"
      ],
      "text/plain": [
       "         depth\n",
       "position      \n",
       "80           1\n",
       "81           1\n",
       "82           1\n",
       "83           2\n",
       "84           2"
      ]
     },
     "execution_count": 12,
     "metadata": {},
     "output_type": "execute_result"
    }
   ],
   "source": [
    "merged.head()"
   ]
  },
  {
   "cell_type": "code",
   "execution_count": 13,
   "metadata": {},
   "outputs": [
    {
     "data": {
      "text/plain": [
       "<matplotlib.axes._subplots.AxesSubplot at 0x1199d6400>"
      ]
     },
     "execution_count": 13,
     "metadata": {},
     "output_type": "execute_result"
    },
    {
     "data": {
      "image/png": "[encoded data removed]",
      "text/plain": [
       "<Figure size 1152x432 with 1 Axes>"
      ]
     },
     "metadata": {},
     "output_type": "display_data"
    }
   ],
   "source": [
    "merged.fillna(0).reset_index().plot(\n",
    "    title=\"Depth chart of mapped reads from hg19 mapped.bam mapped to HHV6b\",\n",
    "    logy=True,kind='scatter',x='position',y='depth',ylim=[1,100000])"
   ]
  },
  {
   "cell_type": "code",
   "execution_count": 14,
   "metadata": {},
   "outputs": [],
   "source": [
    "import glob\n",
    "\n",
    "merged=pandas.DataFrame(columns=[\"position\",\"depth\"])\n",
    "merged.set_index(\"position\",inplace=True)\n",
    "for filepath in glob.iglob('/Users/jakewendt/20181023-1000genomes-mapped-hhv6/*.unmapped.HHV6b.depth.csv'):\n",
    "    d = pandas.read_csv(filepath,\n",
    "                    sep=\"\\t\",\n",
    "                    header=None,\n",
    "                    usecols=[1,2],\n",
    "                    names=[\"position\",\"depth\"],\n",
    "                    index_col=\"position\")\n",
    "    merged=merged.add(d, fill_value=0)"
   ]
  },
  {
   "cell_type": "code",
   "execution_count": 15,
   "metadata": {},
   "outputs": [
    {
     "data": {
      "text/html": [
       "<div>\n",
       "<style scoped>\n",
       "    .dataframe tbody tr th:only-of-type {\n",
       "        vertical-align: middle;\n",
       "    }\n",
       "\n",
       "    .dataframe tbody tr th {\n",
       "        vertical-align: top;\n",
       "    }\n",
       "\n",
       "    .dataframe thead th {\n",
       "        text-align: right;\n",
       "    }\n",
       "</style>\n",
       "<table border=\"1\" class=\"dataframe\">\n",
       "  <thead>\n",
       "    <tr style=\"text-align: right;\">\n",
       "      <th></th>\n",
       "      <th>depth</th>\n",
       "    </tr>\n",
       "    <tr>\n",
       "      <th>position</th>\n",
       "      <th></th>\n",
       "    </tr>\n",
       "  </thead>\n",
       "  <tbody>\n",
       "    <tr>\n",
       "      <th>68</th>\n",
       "      <td>1</td>\n",
       "    </tr>\n",
       "    <tr>\n",
       "      <th>69</th>\n",
       "      <td>1</td>\n",
       "    </tr>\n",
       "    <tr>\n",
       "      <th>70</th>\n",
       "      <td>1</td>\n",
       "    </tr>\n",
       "    <tr>\n",
       "      <th>71</th>\n",
       "      <td>1</td>\n",
       "    </tr>\n",
       "    <tr>\n",
       "      <th>72</th>\n",
       "      <td>1</td>\n",
       "    </tr>\n",
       "  </tbody>\n",
       "</table>\n",
       "</div>"
      ],
      "text/plain": [
       "         depth\n",
       "position      \n",
       "68           1\n",
       "69           1\n",
       "70           1\n",
       "71           1\n",
       "72           1"
      ]
     },
     "execution_count": 15,
     "metadata": {},
     "output_type": "execute_result"
    }
   ],
   "source": [
    "merged.head()"
   ]
  },
  {
   "cell_type": "code",
   "execution_count": 16,
   "metadata": {},
   "outputs": [
    {
     "data": {
      "text/plain": [
       "<matplotlib.axes._subplots.AxesSubplot at 0x119e500f0>"
      ]
     },
     "execution_count": 16,
     "metadata": {},
     "output_type": "execute_result"
    },
    {
     "data": {
      "image/png": "[encoded data removed]",
      "text/plain": [
       "<Figure size 1152x432 with 1 Axes>"
      ]
     },
     "metadata": {},
     "output_type": "display_data"
    }
   ],
   "source": [
    "merged.fillna(0).reset_index().plot(\n",
    "    title=\"Depth chart of unmapped reads from hg19 mapped.bam mapped to HHV6b\",\n",
    "    logy=True,kind='scatter',x='position',y='depth',ylim=[1,100000])"
   ]
  }
 ],
 "metadata": {
  "kernelspec": {
   "display_name": "Python 3",
   "language": "python",
   "name": "python3"
  },
  "language_info": {
   "codemirror_mode": {
    "name": "ipython",
    "version": 3
   },
   "file_extension": ".py",
   "mimetype": "text/x-python",
   "name": "python",
   "nbconvert_exporter": "python",
   "pygments_lexer": "ipython3",
   "version": "3.6.7"
  }
 },
 "nbformat": 4,
 "nbformat_minor": 2
}
